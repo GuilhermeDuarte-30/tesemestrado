{
 "cells": [
  {
   "cell_type": "code",
   "execution_count": 1,
   "id": "9c44edc6-5a67-406c-b8f7-2587cfc2c6af",
   "metadata": {},
   "outputs": [],
   "source": [
    "#Importar bibliotecas\n",
    "\n",
    "import matplotlib.pyplot as plt\n",
    "import numpy as np\n",
    "import pandas as pd\n",
    "import plotly.express as px\n",
    "import plotly.io as pio\n",
    "\n",
    "import skfda\n",
    "\n",
    "from skfda.ml.clustering import KMeans"
   ]
  },
  {
   "cell_type": "code",
   "execution_count": 2,
   "id": "ca2e2aeb-1b05-4f44-8b75-be224f1f06a2",
   "metadata": {},
   "outputs": [],
   "source": [
    "# Ler ficheiros\n",
    "TabelaTempo=pd.read_excel(\"C:/Users/Guilherme/Desktop/KcTime.xlsx\")\n",
    "TabelaNDVI=pd.read_excel(\"C:/Users/Guilherme/Desktop/KcNDVI.xlsx\")\n",
    "TabelaMilho=pd.read_csv(\"C:/Users/Guilherme/Desktop/CulturasCordBOM/dfMILHO.csv\")"
   ]
  },
  {
   "cell_type": "code",
   "execution_count": 3,
   "id": "e919d3f7-6d6c-4525-b3b6-2adf8615f633",
   "metadata": {},
   "outputs": [
    {
     "data": {
      "text/html": [
       "<div>\n",
       "<style scoped>\n",
       "    .dataframe tbody tr th:only-of-type {\n",
       "        vertical-align: middle;\n",
       "    }\n",
       "\n",
       "    .dataframe tbody tr th {\n",
       "        vertical-align: top;\n",
       "    }\n",
       "\n",
       "    .dataframe thead th {\n",
       "        text-align: right;\n",
       "    }\n",
       "</style>\n",
       "<table border=\"1\" class=\"dataframe\">\n",
       "  <thead>\n",
       "    <tr style=\"text-align: right;\">\n",
       "      <th></th>\n",
       "      <th>ID</th>\n",
       "      <th>DATA</th>\n",
       "      <th>Cultura</th>\n",
       "      <th>NDVI_MED</th>\n",
       "      <th>Lat</th>\n",
       "      <th>Lon</th>\n",
       "    </tr>\n",
       "  </thead>\n",
       "  <tbody>\n",
       "    <tr>\n",
       "      <th>0</th>\n",
       "      <td>26742</td>\n",
       "      <td>2020-09-01</td>\n",
       "      <td>MILHO (Sequeiro)</td>\n",
       "      <td>0.6511</td>\n",
       "      <td>39.490351</td>\n",
       "      <td>-8.921633</td>\n",
       "    </tr>\n",
       "    <tr>\n",
       "      <th>1</th>\n",
       "      <td>26742</td>\n",
       "      <td>2020-09-06</td>\n",
       "      <td>MILHO (Sequeiro)</td>\n",
       "      <td>0.4831</td>\n",
       "      <td>39.490351</td>\n",
       "      <td>-8.921633</td>\n",
       "    </tr>\n",
       "    <tr>\n",
       "      <th>2</th>\n",
       "      <td>26742</td>\n",
       "      <td>2020-09-11</td>\n",
       "      <td>MILHO (Sequeiro)</td>\n",
       "      <td>0.6104</td>\n",
       "      <td>39.490351</td>\n",
       "      <td>-8.921633</td>\n",
       "    </tr>\n",
       "    <tr>\n",
       "      <th>3</th>\n",
       "      <td>26742</td>\n",
       "      <td>2020-09-16</td>\n",
       "      <td>MILHO (Sequeiro)</td>\n",
       "      <td>0.6390</td>\n",
       "      <td>39.490351</td>\n",
       "      <td>-8.921633</td>\n",
       "    </tr>\n",
       "    <tr>\n",
       "      <th>4</th>\n",
       "      <td>26742</td>\n",
       "      <td>2020-09-21</td>\n",
       "      <td>MILHO (Sequeiro)</td>\n",
       "      <td>0.5985</td>\n",
       "      <td>39.490351</td>\n",
       "      <td>-8.921633</td>\n",
       "    </tr>\n",
       "  </tbody>\n",
       "</table>\n",
       "</div>"
      ],
      "text/plain": [
       "      ID        DATA           Cultura  NDVI_MED        Lat       Lon\n",
       "0  26742  2020-09-01  MILHO (Sequeiro)    0.6511  39.490351 -8.921633\n",
       "1  26742  2020-09-06  MILHO (Sequeiro)    0.4831  39.490351 -8.921633\n",
       "2  26742  2020-09-11  MILHO (Sequeiro)    0.6104  39.490351 -8.921633\n",
       "3  26742  2020-09-16  MILHO (Sequeiro)    0.6390  39.490351 -8.921633\n",
       "4  26742  2020-09-21  MILHO (Sequeiro)    0.5985  39.490351 -8.921633"
      ]
     },
     "execution_count": 3,
     "metadata": {},
     "output_type": "execute_result"
    }
   ],
   "source": [
    "TabelaMilho.head()"
   ]
  },
  {
   "cell_type": "code",
   "execution_count": 4,
   "id": "7c476535-2fd5-4ec5-b1ad-f735938474bc",
   "metadata": {},
   "outputs": [],
   "source": [
    "#apenas para o artigo\n",
    "TabelaMilhoartigo= TabelaMilho.rename({'DATA': 'DATE', 'Cultura': 'Crop'}, axis=1) "
   ]
  },
  {
   "cell_type": "code",
   "execution_count": 5,
   "id": "ec5c504a-a703-4750-af19-8c2a65427506",
   "metadata": {},
   "outputs": [
    {
     "data": {
      "text/html": [
       "<div>\n",
       "<style scoped>\n",
       "    .dataframe tbody tr th:only-of-type {\n",
       "        vertical-align: middle;\n",
       "    }\n",
       "\n",
       "    .dataframe tbody tr th {\n",
       "        vertical-align: top;\n",
       "    }\n",
       "\n",
       "    .dataframe thead th {\n",
       "        text-align: right;\n",
       "    }\n",
       "</style>\n",
       "<table border=\"1\" class=\"dataframe\">\n",
       "  <thead>\n",
       "    <tr style=\"text-align: right;\">\n",
       "      <th></th>\n",
       "      <th>ID</th>\n",
       "      <th>DATE</th>\n",
       "      <th>Crop</th>\n",
       "      <th>NDVI_MED</th>\n",
       "      <th>Lat</th>\n",
       "      <th>Lon</th>\n",
       "    </tr>\n",
       "  </thead>\n",
       "  <tbody>\n",
       "    <tr>\n",
       "      <th>0</th>\n",
       "      <td>26742</td>\n",
       "      <td>2020-09-01</td>\n",
       "      <td>MILHO (Sequeiro)</td>\n",
       "      <td>0.6511</td>\n",
       "      <td>39.490351</td>\n",
       "      <td>-8.921633</td>\n",
       "    </tr>\n",
       "    <tr>\n",
       "      <th>1</th>\n",
       "      <td>26742</td>\n",
       "      <td>2020-09-06</td>\n",
       "      <td>MILHO (Sequeiro)</td>\n",
       "      <td>0.4831</td>\n",
       "      <td>39.490351</td>\n",
       "      <td>-8.921633</td>\n",
       "    </tr>\n",
       "    <tr>\n",
       "      <th>2</th>\n",
       "      <td>26742</td>\n",
       "      <td>2020-09-11</td>\n",
       "      <td>MILHO (Sequeiro)</td>\n",
       "      <td>0.6104</td>\n",
       "      <td>39.490351</td>\n",
       "      <td>-8.921633</td>\n",
       "    </tr>\n",
       "    <tr>\n",
       "      <th>3</th>\n",
       "      <td>26742</td>\n",
       "      <td>2020-09-16</td>\n",
       "      <td>MILHO (Sequeiro)</td>\n",
       "      <td>0.6390</td>\n",
       "      <td>39.490351</td>\n",
       "      <td>-8.921633</td>\n",
       "    </tr>\n",
       "    <tr>\n",
       "      <th>4</th>\n",
       "      <td>26742</td>\n",
       "      <td>2020-09-21</td>\n",
       "      <td>MILHO (Sequeiro)</td>\n",
       "      <td>0.5985</td>\n",
       "      <td>39.490351</td>\n",
       "      <td>-8.921633</td>\n",
       "    </tr>\n",
       "    <tr>\n",
       "      <th>...</th>\n",
       "      <td>...</td>\n",
       "      <td>...</td>\n",
       "      <td>...</td>\n",
       "      <td>...</td>\n",
       "      <td>...</td>\n",
       "      <td>...</td>\n",
       "    </tr>\n",
       "    <tr>\n",
       "      <th>463756</th>\n",
       "      <td>44793426</td>\n",
       "      <td>2022-01-04</td>\n",
       "      <td>MILHO (Sequeiro)</td>\n",
       "      <td>0.0291</td>\n",
       "      <td>39.324599</td>\n",
       "      <td>-8.524624</td>\n",
       "    </tr>\n",
       "    <tr>\n",
       "      <th>463757</th>\n",
       "      <td>44793426</td>\n",
       "      <td>2022-01-09</td>\n",
       "      <td>MILHO (Sequeiro)</td>\n",
       "      <td>0.1501</td>\n",
       "      <td>39.324599</td>\n",
       "      <td>-8.524624</td>\n",
       "    </tr>\n",
       "    <tr>\n",
       "      <th>463758</th>\n",
       "      <td>44793426</td>\n",
       "      <td>2022-01-14</td>\n",
       "      <td>MILHO (Sequeiro)</td>\n",
       "      <td>0.2711</td>\n",
       "      <td>39.324599</td>\n",
       "      <td>-8.524624</td>\n",
       "    </tr>\n",
       "    <tr>\n",
       "      <th>463759</th>\n",
       "      <td>44793426</td>\n",
       "      <td>2022-01-19</td>\n",
       "      <td>MILHO (Sequeiro)</td>\n",
       "      <td>0.3927</td>\n",
       "      <td>39.324599</td>\n",
       "      <td>-8.524624</td>\n",
       "    </tr>\n",
       "    <tr>\n",
       "      <th>463760</th>\n",
       "      <td>44793426</td>\n",
       "      <td>2022-01-24</td>\n",
       "      <td>MILHO (Sequeiro)</td>\n",
       "      <td>0.3585</td>\n",
       "      <td>39.324599</td>\n",
       "      <td>-8.524624</td>\n",
       "    </tr>\n",
       "  </tbody>\n",
       "</table>\n",
       "<p>463761 rows × 6 columns</p>\n",
       "</div>"
      ],
      "text/plain": [
       "              ID        DATE              Crop  NDVI_MED        Lat       Lon\n",
       "0          26742  2020-09-01  MILHO (Sequeiro)    0.6511  39.490351 -8.921633\n",
       "1          26742  2020-09-06  MILHO (Sequeiro)    0.4831  39.490351 -8.921633\n",
       "2          26742  2020-09-11  MILHO (Sequeiro)    0.6104  39.490351 -8.921633\n",
       "3          26742  2020-09-16  MILHO (Sequeiro)    0.6390  39.490351 -8.921633\n",
       "4          26742  2020-09-21  MILHO (Sequeiro)    0.5985  39.490351 -8.921633\n",
       "...          ...         ...               ...       ...        ...       ...\n",
       "463756  44793426  2022-01-04  MILHO (Sequeiro)    0.0291  39.324599 -8.524624\n",
       "463757  44793426  2022-01-09  MILHO (Sequeiro)    0.1501  39.324599 -8.524624\n",
       "463758  44793426  2022-01-14  MILHO (Sequeiro)    0.2711  39.324599 -8.524624\n",
       "463759  44793426  2022-01-19  MILHO (Sequeiro)    0.3927  39.324599 -8.524624\n",
       "463760  44793426  2022-01-24  MILHO (Sequeiro)    0.3585  39.324599 -8.524624\n",
       "\n",
       "[463761 rows x 6 columns]"
      ]
     },
     "execution_count": 5,
     "metadata": {},
     "output_type": "execute_result"
    }
   ],
   "source": [
    "TabelaMilhoartigo"
   ]
  },
  {
   "cell_type": "code",
   "execution_count": 6,
   "id": "8b6a2643-dabb-4fe6-904c-c9f9a2198ccd",
   "metadata": {},
   "outputs": [
    {
     "data": {
      "text/html": [
       "<div>\n",
       "<style scoped>\n",
       "    .dataframe tbody tr th:only-of-type {\n",
       "        vertical-align: middle;\n",
       "    }\n",
       "\n",
       "    .dataframe tbody tr th {\n",
       "        vertical-align: top;\n",
       "    }\n",
       "\n",
       "    .dataframe thead th {\n",
       "        text-align: right;\n",
       "    }\n",
       "</style>\n",
       "<table border=\"1\" class=\"dataframe\">\n",
       "  <thead>\n",
       "    <tr style=\"text-align: right;\">\n",
       "      <th></th>\n",
       "      <th></th>\n",
       "      <th>Crop</th>\n",
       "      <th>NDVI_MED</th>\n",
       "      <th>Lat</th>\n",
       "      <th>Lon</th>\n",
       "    </tr>\n",
       "    <tr>\n",
       "      <th>ID</th>\n",
       "      <th>DATE</th>\n",
       "      <th></th>\n",
       "      <th></th>\n",
       "      <th></th>\n",
       "      <th></th>\n",
       "    </tr>\n",
       "  </thead>\n",
       "  <tbody>\n",
       "    <tr>\n",
       "      <th rowspan=\"5\" valign=\"top\">26742</th>\n",
       "      <th>2020-09-01</th>\n",
       "      <td>MILHO (Sequeiro)</td>\n",
       "      <td>0.6511</td>\n",
       "      <td>39.490351</td>\n",
       "      <td>-8.921633</td>\n",
       "    </tr>\n",
       "    <tr>\n",
       "      <th>2020-09-06</th>\n",
       "      <td>MILHO (Sequeiro)</td>\n",
       "      <td>0.4831</td>\n",
       "      <td>39.490351</td>\n",
       "      <td>-8.921633</td>\n",
       "    </tr>\n",
       "    <tr>\n",
       "      <th>2020-09-11</th>\n",
       "      <td>MILHO (Sequeiro)</td>\n",
       "      <td>0.6104</td>\n",
       "      <td>39.490351</td>\n",
       "      <td>-8.921633</td>\n",
       "    </tr>\n",
       "    <tr>\n",
       "      <th>2020-09-16</th>\n",
       "      <td>MILHO (Sequeiro)</td>\n",
       "      <td>0.6390</td>\n",
       "      <td>39.490351</td>\n",
       "      <td>-8.921633</td>\n",
       "    </tr>\n",
       "    <tr>\n",
       "      <th>2020-09-21</th>\n",
       "      <td>MILHO (Sequeiro)</td>\n",
       "      <td>0.5985</td>\n",
       "      <td>39.490351</td>\n",
       "      <td>-8.921633</td>\n",
       "    </tr>\n",
       "    <tr>\n",
       "      <th>...</th>\n",
       "      <th>...</th>\n",
       "      <td>...</td>\n",
       "      <td>...</td>\n",
       "      <td>...</td>\n",
       "      <td>...</td>\n",
       "    </tr>\n",
       "    <tr>\n",
       "      <th rowspan=\"5\" valign=\"top\">44825588</th>\n",
       "      <th>2022-01-04</th>\n",
       "      <td>MILHO (Sequeiro)</td>\n",
       "      <td>0.3599</td>\n",
       "      <td>39.015530</td>\n",
       "      <td>-8.919679</td>\n",
       "    </tr>\n",
       "    <tr>\n",
       "      <th>2022-01-09</th>\n",
       "      <td>MILHO (Sequeiro)</td>\n",
       "      <td>0.3568</td>\n",
       "      <td>39.015530</td>\n",
       "      <td>-8.919679</td>\n",
       "    </tr>\n",
       "    <tr>\n",
       "      <th>2022-01-14</th>\n",
       "      <td>MILHO (Sequeiro)</td>\n",
       "      <td>0.3613</td>\n",
       "      <td>39.015530</td>\n",
       "      <td>-8.919679</td>\n",
       "    </tr>\n",
       "    <tr>\n",
       "      <th>2022-01-19</th>\n",
       "      <td>MILHO (Sequeiro)</td>\n",
       "      <td>0.3516</td>\n",
       "      <td>39.015530</td>\n",
       "      <td>-8.919679</td>\n",
       "    </tr>\n",
       "    <tr>\n",
       "      <th>2022-01-24</th>\n",
       "      <td>MILHO (Sequeiro)</td>\n",
       "      <td>0.3471</td>\n",
       "      <td>39.015530</td>\n",
       "      <td>-8.919679</td>\n",
       "    </tr>\n",
       "  </tbody>\n",
       "</table>\n",
       "<p>463761 rows × 4 columns</p>\n",
       "</div>"
      ],
      "text/plain": [
       "                                 Crop  NDVI_MED        Lat       Lon\n",
       "ID       DATE                                                       \n",
       "26742    2020-09-01  MILHO (Sequeiro)    0.6511  39.490351 -8.921633\n",
       "         2020-09-06  MILHO (Sequeiro)    0.4831  39.490351 -8.921633\n",
       "         2020-09-11  MILHO (Sequeiro)    0.6104  39.490351 -8.921633\n",
       "         2020-09-16  MILHO (Sequeiro)    0.6390  39.490351 -8.921633\n",
       "         2020-09-21  MILHO (Sequeiro)    0.5985  39.490351 -8.921633\n",
       "...                               ...       ...        ...       ...\n",
       "44825588 2022-01-04  MILHO (Sequeiro)    0.3599  39.015530 -8.919679\n",
       "         2022-01-09  MILHO (Sequeiro)    0.3568  39.015530 -8.919679\n",
       "         2022-01-14  MILHO (Sequeiro)    0.3613  39.015530 -8.919679\n",
       "         2022-01-19  MILHO (Sequeiro)    0.3516  39.015530 -8.919679\n",
       "         2022-01-24  MILHO (Sequeiro)    0.3471  39.015530 -8.919679\n",
       "\n",
       "[463761 rows x 4 columns]"
      ]
     },
     "execution_count": 6,
     "metadata": {},
     "output_type": "execute_result"
    }
   ],
   "source": [
    "TabelaMilhoartigo.set_index([\"ID\",\"DATE\"]).sort_index()"
   ]
  },
  {
   "cell_type": "code",
   "execution_count": 7,
   "id": "b06eda92-5c82-4578-b30a-30377ffdc468",
   "metadata": {},
   "outputs": [
    {
     "data": {
      "text/html": [
       "<div>\n",
       "<style scoped>\n",
       "    .dataframe tbody tr th:only-of-type {\n",
       "        vertical-align: middle;\n",
       "    }\n",
       "\n",
       "    .dataframe tbody tr th {\n",
       "        vertical-align: top;\n",
       "    }\n",
       "\n",
       "    .dataframe thead th {\n",
       "        text-align: right;\n",
       "    }\n",
       "</style>\n",
       "<table border=\"1\" class=\"dataframe\">\n",
       "  <thead>\n",
       "    <tr style=\"text-align: right;\">\n",
       "      <th></th>\n",
       "      <th>ID</th>\n",
       "      <th>DATE</th>\n",
       "      <th>Crop</th>\n",
       "      <th>NDVI_MED</th>\n",
       "      <th>Lat</th>\n",
       "      <th>Lon</th>\n",
       "    </tr>\n",
       "  </thead>\n",
       "  <tbody>\n",
       "    <tr>\n",
       "      <th>0</th>\n",
       "      <td>26742</td>\n",
       "      <td>2020-09-01</td>\n",
       "      <td>MILHO (Sequeiro)</td>\n",
       "      <td>0.6511</td>\n",
       "      <td>39.490351</td>\n",
       "      <td>-8.921633</td>\n",
       "    </tr>\n",
       "    <tr>\n",
       "      <th>1</th>\n",
       "      <td>26742</td>\n",
       "      <td>2020-09-06</td>\n",
       "      <td>MILHO (Sequeiro)</td>\n",
       "      <td>0.4831</td>\n",
       "      <td>39.490351</td>\n",
       "      <td>-8.921633</td>\n",
       "    </tr>\n",
       "    <tr>\n",
       "      <th>2</th>\n",
       "      <td>26742</td>\n",
       "      <td>2020-09-11</td>\n",
       "      <td>MILHO (Sequeiro)</td>\n",
       "      <td>0.6104</td>\n",
       "      <td>39.490351</td>\n",
       "      <td>-8.921633</td>\n",
       "    </tr>\n",
       "    <tr>\n",
       "      <th>3</th>\n",
       "      <td>26742</td>\n",
       "      <td>2020-09-16</td>\n",
       "      <td>MILHO (Sequeiro)</td>\n",
       "      <td>0.6390</td>\n",
       "      <td>39.490351</td>\n",
       "      <td>-8.921633</td>\n",
       "    </tr>\n",
       "    <tr>\n",
       "      <th>4</th>\n",
       "      <td>26742</td>\n",
       "      <td>2020-09-21</td>\n",
       "      <td>MILHO (Sequeiro)</td>\n",
       "      <td>0.5985</td>\n",
       "      <td>39.490351</td>\n",
       "      <td>-8.921633</td>\n",
       "    </tr>\n",
       "    <tr>\n",
       "      <th>...</th>\n",
       "      <td>...</td>\n",
       "      <td>...</td>\n",
       "      <td>...</td>\n",
       "      <td>...</td>\n",
       "      <td>...</td>\n",
       "      <td>...</td>\n",
       "    </tr>\n",
       "    <tr>\n",
       "      <th>463756</th>\n",
       "      <td>44793426</td>\n",
       "      <td>2022-01-04</td>\n",
       "      <td>MILHO (Sequeiro)</td>\n",
       "      <td>0.0291</td>\n",
       "      <td>39.324599</td>\n",
       "      <td>-8.524624</td>\n",
       "    </tr>\n",
       "    <tr>\n",
       "      <th>463757</th>\n",
       "      <td>44793426</td>\n",
       "      <td>2022-01-09</td>\n",
       "      <td>MILHO (Sequeiro)</td>\n",
       "      <td>0.1501</td>\n",
       "      <td>39.324599</td>\n",
       "      <td>-8.524624</td>\n",
       "    </tr>\n",
       "    <tr>\n",
       "      <th>463758</th>\n",
       "      <td>44793426</td>\n",
       "      <td>2022-01-14</td>\n",
       "      <td>MILHO (Sequeiro)</td>\n",
       "      <td>0.2711</td>\n",
       "      <td>39.324599</td>\n",
       "      <td>-8.524624</td>\n",
       "    </tr>\n",
       "    <tr>\n",
       "      <th>463759</th>\n",
       "      <td>44793426</td>\n",
       "      <td>2022-01-19</td>\n",
       "      <td>MILHO (Sequeiro)</td>\n",
       "      <td>0.3927</td>\n",
       "      <td>39.324599</td>\n",
       "      <td>-8.524624</td>\n",
       "    </tr>\n",
       "    <tr>\n",
       "      <th>463760</th>\n",
       "      <td>44793426</td>\n",
       "      <td>2022-01-24</td>\n",
       "      <td>MILHO (Sequeiro)</td>\n",
       "      <td>0.3585</td>\n",
       "      <td>39.324599</td>\n",
       "      <td>-8.524624</td>\n",
       "    </tr>\n",
       "  </tbody>\n",
       "</table>\n",
       "<p>463761 rows × 6 columns</p>\n",
       "</div>"
      ],
      "text/plain": [
       "              ID        DATE              Crop  NDVI_MED        Lat       Lon\n",
       "0          26742  2020-09-01  MILHO (Sequeiro)    0.6511  39.490351 -8.921633\n",
       "1          26742  2020-09-06  MILHO (Sequeiro)    0.4831  39.490351 -8.921633\n",
       "2          26742  2020-09-11  MILHO (Sequeiro)    0.6104  39.490351 -8.921633\n",
       "3          26742  2020-09-16  MILHO (Sequeiro)    0.6390  39.490351 -8.921633\n",
       "4          26742  2020-09-21  MILHO (Sequeiro)    0.5985  39.490351 -8.921633\n",
       "...          ...         ...               ...       ...        ...       ...\n",
       "463756  44793426  2022-01-04  MILHO (Sequeiro)    0.0291  39.324599 -8.524624\n",
       "463757  44793426  2022-01-09  MILHO (Sequeiro)    0.1501  39.324599 -8.524624\n",
       "463758  44793426  2022-01-14  MILHO (Sequeiro)    0.2711  39.324599 -8.524624\n",
       "463759  44793426  2022-01-19  MILHO (Sequeiro)    0.3927  39.324599 -8.524624\n",
       "463760  44793426  2022-01-24  MILHO (Sequeiro)    0.3585  39.324599 -8.524624\n",
       "\n",
       "[463761 rows x 6 columns]"
      ]
     },
     "execution_count": 7,
     "metadata": {},
     "output_type": "execute_result"
    }
   ],
   "source": [
    "TabelaMilhoartigo"
   ]
  },
  {
   "cell_type": "code",
   "execution_count": 8,
   "id": "004c412b-fa90-436c-acfe-7ffb5a55f958",
   "metadata": {},
   "outputs": [
    {
     "data": {
      "text/html": [
       "<div>\n",
       "<style scoped>\n",
       "    .dataframe tbody tr th:only-of-type {\n",
       "        vertical-align: middle;\n",
       "    }\n",
       "\n",
       "    .dataframe tbody tr th {\n",
       "        vertical-align: top;\n",
       "    }\n",
       "\n",
       "    .dataframe thead th {\n",
       "        text-align: right;\n",
       "    }\n",
       "</style>\n",
       "<table border=\"1\" class=\"dataframe\">\n",
       "  <thead>\n",
       "    <tr style=\"text-align: right;\">\n",
       "      <th></th>\n",
       "      <th>ID</th>\n",
       "      <th>DATA</th>\n",
       "      <th>Cultura</th>\n",
       "      <th>NDVI_MED</th>\n",
       "      <th>Lat</th>\n",
       "      <th>Lon</th>\n",
       "    </tr>\n",
       "  </thead>\n",
       "  <tbody>\n",
       "    <tr>\n",
       "      <th>0</th>\n",
       "      <td>26742</td>\n",
       "      <td>2020-09-01</td>\n",
       "      <td>MILHO (Sequeiro)</td>\n",
       "      <td>0.6511</td>\n",
       "      <td>39.490351</td>\n",
       "      <td>-8.921633</td>\n",
       "    </tr>\n",
       "    <tr>\n",
       "      <th>1</th>\n",
       "      <td>26742</td>\n",
       "      <td>2020-09-06</td>\n",
       "      <td>MILHO (Sequeiro)</td>\n",
       "      <td>0.4831</td>\n",
       "      <td>39.490351</td>\n",
       "      <td>-8.921633</td>\n",
       "    </tr>\n",
       "    <tr>\n",
       "      <th>2</th>\n",
       "      <td>26742</td>\n",
       "      <td>2020-09-11</td>\n",
       "      <td>MILHO (Sequeiro)</td>\n",
       "      <td>0.6104</td>\n",
       "      <td>39.490351</td>\n",
       "      <td>-8.921633</td>\n",
       "    </tr>\n",
       "    <tr>\n",
       "      <th>3</th>\n",
       "      <td>26742</td>\n",
       "      <td>2020-09-16</td>\n",
       "      <td>MILHO (Sequeiro)</td>\n",
       "      <td>0.6390</td>\n",
       "      <td>39.490351</td>\n",
       "      <td>-8.921633</td>\n",
       "    </tr>\n",
       "    <tr>\n",
       "      <th>4</th>\n",
       "      <td>26742</td>\n",
       "      <td>2020-09-21</td>\n",
       "      <td>MILHO (Sequeiro)</td>\n",
       "      <td>0.5985</td>\n",
       "      <td>39.490351</td>\n",
       "      <td>-8.921633</td>\n",
       "    </tr>\n",
       "    <tr>\n",
       "      <th>...</th>\n",
       "      <td>...</td>\n",
       "      <td>...</td>\n",
       "      <td>...</td>\n",
       "      <td>...</td>\n",
       "      <td>...</td>\n",
       "      <td>...</td>\n",
       "    </tr>\n",
       "    <tr>\n",
       "      <th>463756</th>\n",
       "      <td>44793426</td>\n",
       "      <td>2022-01-04</td>\n",
       "      <td>MILHO (Sequeiro)</td>\n",
       "      <td>0.0291</td>\n",
       "      <td>39.324599</td>\n",
       "      <td>-8.524624</td>\n",
       "    </tr>\n",
       "    <tr>\n",
       "      <th>463757</th>\n",
       "      <td>44793426</td>\n",
       "      <td>2022-01-09</td>\n",
       "      <td>MILHO (Sequeiro)</td>\n",
       "      <td>0.1501</td>\n",
       "      <td>39.324599</td>\n",
       "      <td>-8.524624</td>\n",
       "    </tr>\n",
       "    <tr>\n",
       "      <th>463758</th>\n",
       "      <td>44793426</td>\n",
       "      <td>2022-01-14</td>\n",
       "      <td>MILHO (Sequeiro)</td>\n",
       "      <td>0.2711</td>\n",
       "      <td>39.324599</td>\n",
       "      <td>-8.524624</td>\n",
       "    </tr>\n",
       "    <tr>\n",
       "      <th>463759</th>\n",
       "      <td>44793426</td>\n",
       "      <td>2022-01-19</td>\n",
       "      <td>MILHO (Sequeiro)</td>\n",
       "      <td>0.3927</td>\n",
       "      <td>39.324599</td>\n",
       "      <td>-8.524624</td>\n",
       "    </tr>\n",
       "    <tr>\n",
       "      <th>463760</th>\n",
       "      <td>44793426</td>\n",
       "      <td>2022-01-24</td>\n",
       "      <td>MILHO (Sequeiro)</td>\n",
       "      <td>0.3585</td>\n",
       "      <td>39.324599</td>\n",
       "      <td>-8.524624</td>\n",
       "    </tr>\n",
       "  </tbody>\n",
       "</table>\n",
       "<p>463761 rows × 6 columns</p>\n",
       "</div>"
      ],
      "text/plain": [
       "              ID        DATA           Cultura  NDVI_MED        Lat       Lon\n",
       "0          26742  2020-09-01  MILHO (Sequeiro)    0.6511  39.490351 -8.921633\n",
       "1          26742  2020-09-06  MILHO (Sequeiro)    0.4831  39.490351 -8.921633\n",
       "2          26742  2020-09-11  MILHO (Sequeiro)    0.6104  39.490351 -8.921633\n",
       "3          26742  2020-09-16  MILHO (Sequeiro)    0.6390  39.490351 -8.921633\n",
       "4          26742  2020-09-21  MILHO (Sequeiro)    0.5985  39.490351 -8.921633\n",
       "...          ...         ...               ...       ...        ...       ...\n",
       "463756  44793426  2022-01-04  MILHO (Sequeiro)    0.0291  39.324599 -8.524624\n",
       "463757  44793426  2022-01-09  MILHO (Sequeiro)    0.1501  39.324599 -8.524624\n",
       "463758  44793426  2022-01-14  MILHO (Sequeiro)    0.2711  39.324599 -8.524624\n",
       "463759  44793426  2022-01-19  MILHO (Sequeiro)    0.3927  39.324599 -8.524624\n",
       "463760  44793426  2022-01-24  MILHO (Sequeiro)    0.3585  39.324599 -8.524624\n",
       "\n",
       "[463761 rows x 6 columns]"
      ]
     },
     "execution_count": 8,
     "metadata": {},
     "output_type": "execute_result"
    }
   ],
   "source": [
    "TabelaMilho"
   ]
  },
  {
   "cell_type": "code",
   "execution_count": 9,
   "id": "066399fc-c53a-4986-802f-c42c1d13cd24",
   "metadata": {},
   "outputs": [
    {
     "data": {
      "text/html": [
       "<div>\n",
       "<style scoped>\n",
       "    .dataframe tbody tr th:only-of-type {\n",
       "        vertical-align: middle;\n",
       "    }\n",
       "\n",
       "    .dataframe tbody tr th {\n",
       "        vertical-align: top;\n",
       "    }\n",
       "\n",
       "    .dataframe thead th {\n",
       "        text-align: right;\n",
       "    }\n",
       "</style>\n",
       "<table border=\"1\" class=\"dataframe\">\n",
       "  <thead>\n",
       "    <tr style=\"text-align: right;\">\n",
       "      <th></th>\n",
       "      <th>Crop</th>\n",
       "      <th>Init. (Lini)</th>\n",
       "      <th>Dev. (Ldev)</th>\n",
       "      <th>Mid (Lmid)</th>\n",
       "      <th>Late (Llate)</th>\n",
       "      <th>Total</th>\n",
       "      <th>Plant Date</th>\n",
       "    </tr>\n",
       "  </thead>\n",
       "  <tbody>\n",
       "    <tr>\n",
       "      <th>0</th>\n",
       "      <td>Broculos</td>\n",
       "      <td>35</td>\n",
       "      <td>45</td>\n",
       "      <td>40</td>\n",
       "      <td>15</td>\n",
       "      <td>135</td>\n",
       "      <td>Set</td>\n",
       "    </tr>\n",
       "    <tr>\n",
       "      <th>1</th>\n",
       "      <td>Couve_repolho</td>\n",
       "      <td>40</td>\n",
       "      <td>60</td>\n",
       "      <td>50</td>\n",
       "      <td>15</td>\n",
       "      <td>165</td>\n",
       "      <td>Set</td>\n",
       "    </tr>\n",
       "    <tr>\n",
       "      <th>2</th>\n",
       "      <td>Cenoura</td>\n",
       "      <td>30</td>\n",
       "      <td>40</td>\n",
       "      <td>60</td>\n",
       "      <td>20</td>\n",
       "      <td>150</td>\n",
       "      <td>Feb_Mar</td>\n",
       "    </tr>\n",
       "    <tr>\n",
       "      <th>3</th>\n",
       "      <td>Couveflor</td>\n",
       "      <td>35</td>\n",
       "      <td>50</td>\n",
       "      <td>40</td>\n",
       "      <td>15</td>\n",
       "      <td>140</td>\n",
       "      <td>Set</td>\n",
       "    </tr>\n",
       "    <tr>\n",
       "      <th>4</th>\n",
       "      <td>Salsao_aipo</td>\n",
       "      <td>25</td>\n",
       "      <td>40</td>\n",
       "      <td>45</td>\n",
       "      <td>15</td>\n",
       "      <td>125</td>\n",
       "      <td>Abr</td>\n",
       "    </tr>\n",
       "  </tbody>\n",
       "</table>\n",
       "</div>"
      ],
      "text/plain": [
       "            Crop  Init. (Lini)  Dev. (Ldev)  Mid (Lmid)  Late (Llate)  Total  \\\n",
       "0       Broculos            35           45          40            15    135   \n",
       "1  Couve_repolho            40           60          50            15    165   \n",
       "2        Cenoura            30           40          60            20    150   \n",
       "3      Couveflor            35           50          40            15    140   \n",
       "4    Salsao_aipo            25           40          45            15    125   \n",
       "\n",
       "  Plant Date  \n",
       "0        Set  \n",
       "1        Set  \n",
       "2    Feb_Mar  \n",
       "3        Set  \n",
       "4        Abr  "
      ]
     },
     "execution_count": 9,
     "metadata": {},
     "output_type": "execute_result"
    }
   ],
   "source": [
    "TabelaTempo.head()"
   ]
  },
  {
   "cell_type": "code",
   "execution_count": 10,
   "id": "aec122cf-bae0-4aa0-9f79-13e1dd298300",
   "metadata": {},
   "outputs": [
    {
     "data": {
      "text/html": [
       "<div>\n",
       "<style scoped>\n",
       "    .dataframe tbody tr th:only-of-type {\n",
       "        vertical-align: middle;\n",
       "    }\n",
       "\n",
       "    .dataframe tbody tr th {\n",
       "        vertical-align: top;\n",
       "    }\n",
       "\n",
       "    .dataframe thead th {\n",
       "        text-align: right;\n",
       "    }\n",
       "</style>\n",
       "<table border=\"1\" class=\"dataframe\">\n",
       "  <thead>\n",
       "    <tr style=\"text-align: right;\">\n",
       "      <th></th>\n",
       "      <th>Crop</th>\n",
       "      <th>Kc ini</th>\n",
       "      <th>Kc mid</th>\n",
       "      <th>Kc end</th>\n",
       "    </tr>\n",
       "  </thead>\n",
       "  <tbody>\n",
       "    <tr>\n",
       "      <th>0</th>\n",
       "      <td>Broculos</td>\n",
       "      <td>0.7</td>\n",
       "      <td>1.05</td>\n",
       "      <td>0.95</td>\n",
       "    </tr>\n",
       "    <tr>\n",
       "      <th>1</th>\n",
       "      <td>Couve_repolho</td>\n",
       "      <td>0.7</td>\n",
       "      <td>1.05</td>\n",
       "      <td>0.95</td>\n",
       "    </tr>\n",
       "    <tr>\n",
       "      <th>2</th>\n",
       "      <td>Cenoura</td>\n",
       "      <td>0.7</td>\n",
       "      <td>1.05</td>\n",
       "      <td>0.95</td>\n",
       "    </tr>\n",
       "    <tr>\n",
       "      <th>3</th>\n",
       "      <td>Couveflor</td>\n",
       "      <td>0.7</td>\n",
       "      <td>1.05</td>\n",
       "      <td>0.95</td>\n",
       "    </tr>\n",
       "    <tr>\n",
       "      <th>4</th>\n",
       "      <td>Salsao_aipo</td>\n",
       "      <td>0.7</td>\n",
       "      <td>1.05</td>\n",
       "      <td>1.00</td>\n",
       "    </tr>\n",
       "  </tbody>\n",
       "</table>\n",
       "</div>"
      ],
      "text/plain": [
       "            Crop  Kc ini  Kc mid  Kc end\n",
       "0       Broculos     0.7    1.05    0.95\n",
       "1  Couve_repolho     0.7    1.05    0.95\n",
       "2        Cenoura     0.7    1.05    0.95\n",
       "3      Couveflor     0.7    1.05    0.95\n",
       "4    Salsao_aipo     0.7    1.05    1.00"
      ]
     },
     "execution_count": 10,
     "metadata": {},
     "output_type": "execute_result"
    }
   ],
   "source": [
    "TabelaNDVI.head()"
   ]
  },
  {
   "cell_type": "code",
   "execution_count": 11,
   "id": "9725c581-89e7-406a-bd5e-8b6874d9150d",
   "metadata": {},
   "outputs": [],
   "source": [
    "TabelaMilho=TabelaMilho.drop(\"Cultura\", axis=1)"
   ]
  },
  {
   "cell_type": "code",
   "execution_count": 12,
   "id": "b3597793-6ef6-4898-b80c-3c09b18afbb6",
   "metadata": {},
   "outputs": [],
   "source": [
    "TabelaMilho2=TabelaMilho.set_index([\"ID\",\"DATA\"]).sort_index()"
   ]
  },
  {
   "cell_type": "code",
   "execution_count": 13,
   "id": "6443e81a-e8fc-4811-b6ad-22d625f12965",
   "metadata": {},
   "outputs": [
    {
     "data": {
      "text/html": [
       "<iframe\n",
       "    scrolling=\"no\"\n",
       "    width=\"100%\"\n",
       "    height=\"545px\"\n",
       "    src=\"iframe_figures/figure_13.html\"\n",
       "    frameborder=\"0\"\n",
       "    allowfullscreen\n",
       "></iframe>\n"
      ]
     },
     "metadata": {},
     "output_type": "display_data"
    }
   ],
   "source": [
    "# Representacao de todas as series/poligonos (apenas para verificacao)\n",
    "pio.renderers.default = 'iframe'\n",
    "px.line(\n",
    "    TabelaMilho2.reset_index(),\n",
    "    x=\"DATA\",\n",
    "    y=\"NDVI_MED\",\n",
    "    color=\"ID\",\n",
    ").update_layout(xaxis={\"type\": \"category\"},xaxis_title=\"DATE\",yaxis_title=\"NDVI\")"
   ]
  },
  {
   "cell_type": "code",
   "execution_count": 14,
   "id": "8afc8564-c9a3-47c1-ae89-2894730df062",
   "metadata": {},
   "outputs": [],
   "source": [
    "TabelaMilho3=TabelaMilho2.reset_index()"
   ]
  },
  {
   "cell_type": "code",
   "execution_count": 15,
   "id": "3c47eb51-e904-4c16-9746-d3462560d6c1",
   "metadata": {},
   "outputs": [],
   "source": [
    "# A mesma representacao anterior\n",
    "TabelaMilho3.set_index(\"DATA\", inplace=True)\n",
    "#TabelaMilho3.groupby(\"ID\")[\"NDVI_MED\"].plot(legend=True, xlabel=\"DATA\", ylabel=\"NDVI_MED\",figsize=(8,6))"
   ]
  },
  {
   "cell_type": "code",
   "execution_count": 16,
   "id": "bf1ee5b7-3986-49e7-9233-087db6d19ac4",
   "metadata": {},
   "outputs": [],
   "source": [
    "TabelaMilho3=TabelaMilho3.reset_index()"
   ]
  },
  {
   "cell_type": "code",
   "execution_count": 17,
   "id": "b268587e-30f4-44c3-8f8f-1678a320c530",
   "metadata": {},
   "outputs": [],
   "source": [
    "df = TabelaMilho3.pivot(index='DATA', columns='ID', values='NDVI_MED')"
   ]
  },
  {
   "cell_type": "code",
   "execution_count": 18,
   "id": "c7221d30-febe-4103-9f0b-3d94c910e960",
   "metadata": {},
   "outputs": [
    {
     "data": {
      "text/html": [
       "<div>\n",
       "<style scoped>\n",
       "    .dataframe tbody tr th:only-of-type {\n",
       "        vertical-align: middle;\n",
       "    }\n",
       "\n",
       "    .dataframe tbody tr th {\n",
       "        vertical-align: top;\n",
       "    }\n",
       "\n",
       "    .dataframe thead th {\n",
       "        text-align: right;\n",
       "    }\n",
       "</style>\n",
       "<table border=\"1\" class=\"dataframe\">\n",
       "  <thead>\n",
       "    <tr style=\"text-align: right;\">\n",
       "      <th>ID</th>\n",
       "      <th>26742</th>\n",
       "      <th>142399</th>\n",
       "      <th>147088</th>\n",
       "      <th>270735</th>\n",
       "      <th>270992</th>\n",
       "      <th>453335</th>\n",
       "      <th>744056</th>\n",
       "      <th>842397</th>\n",
       "      <th>1305223</th>\n",
       "      <th>1305481</th>\n",
       "      <th>...</th>\n",
       "      <th>44805278</th>\n",
       "      <th>44812160</th>\n",
       "      <th>44812167</th>\n",
       "      <th>44816601</th>\n",
       "      <th>44819099</th>\n",
       "      <th>44821958</th>\n",
       "      <th>44823713</th>\n",
       "      <th>44825583</th>\n",
       "      <th>44825584</th>\n",
       "      <th>44825588</th>\n",
       "    </tr>\n",
       "    <tr>\n",
       "      <th>DATA</th>\n",
       "      <th></th>\n",
       "      <th></th>\n",
       "      <th></th>\n",
       "      <th></th>\n",
       "      <th></th>\n",
       "      <th></th>\n",
       "      <th></th>\n",
       "      <th></th>\n",
       "      <th></th>\n",
       "      <th></th>\n",
       "      <th></th>\n",
       "      <th></th>\n",
       "      <th></th>\n",
       "      <th></th>\n",
       "      <th></th>\n",
       "      <th></th>\n",
       "      <th></th>\n",
       "      <th></th>\n",
       "      <th></th>\n",
       "      <th></th>\n",
       "      <th></th>\n",
       "    </tr>\n",
       "  </thead>\n",
       "  <tbody>\n",
       "    <tr>\n",
       "      <th>2020-09-01</th>\n",
       "      <td>0.6511</td>\n",
       "      <td>0.4860</td>\n",
       "      <td>0.4605</td>\n",
       "      <td>0.3381</td>\n",
       "      <td>0.2624</td>\n",
       "      <td>0.3406</td>\n",
       "      <td>NaN</td>\n",
       "      <td>0.5644</td>\n",
       "      <td>0.2017</td>\n",
       "      <td>0.2637</td>\n",
       "      <td>...</td>\n",
       "      <td>0.1683</td>\n",
       "      <td>0.6862</td>\n",
       "      <td>0.3003</td>\n",
       "      <td>0.9088</td>\n",
       "      <td>0.1563</td>\n",
       "      <td>0.8349</td>\n",
       "      <td>0.7884</td>\n",
       "      <td>0.2633</td>\n",
       "      <td>0.2899</td>\n",
       "      <td>0.2914</td>\n",
       "    </tr>\n",
       "    <tr>\n",
       "      <th>2020-09-06</th>\n",
       "      <td>0.4831</td>\n",
       "      <td>0.4275</td>\n",
       "      <td>0.4369</td>\n",
       "      <td>0.3170</td>\n",
       "      <td>0.2761</td>\n",
       "      <td>0.3114</td>\n",
       "      <td>0.8937</td>\n",
       "      <td>0.5192</td>\n",
       "      <td>0.2062</td>\n",
       "      <td>0.2105</td>\n",
       "      <td>...</td>\n",
       "      <td>0.1677</td>\n",
       "      <td>0.6978</td>\n",
       "      <td>0.3017</td>\n",
       "      <td>0.8832</td>\n",
       "      <td>0.1566</td>\n",
       "      <td>0.8655</td>\n",
       "      <td>0.8950</td>\n",
       "      <td>0.2672</td>\n",
       "      <td>0.3139</td>\n",
       "      <td>0.3138</td>\n",
       "    </tr>\n",
       "    <tr>\n",
       "      <th>2020-09-11</th>\n",
       "      <td>0.6104</td>\n",
       "      <td>0.4395</td>\n",
       "      <td>0.4621</td>\n",
       "      <td>0.2959</td>\n",
       "      <td>0.2233</td>\n",
       "      <td>0.3318</td>\n",
       "      <td>0.8812</td>\n",
       "      <td>0.5419</td>\n",
       "      <td>0.2260</td>\n",
       "      <td>0.2265</td>\n",
       "      <td>...</td>\n",
       "      <td>0.1718</td>\n",
       "      <td>0.7125</td>\n",
       "      <td>0.3050</td>\n",
       "      <td>0.7188</td>\n",
       "      <td>0.2206</td>\n",
       "      <td>0.8809</td>\n",
       "      <td>0.8240</td>\n",
       "      <td>0.2984</td>\n",
       "      <td>0.3628</td>\n",
       "      <td>0.3570</td>\n",
       "    </tr>\n",
       "    <tr>\n",
       "      <th>2020-09-16</th>\n",
       "      <td>0.6390</td>\n",
       "      <td>0.4362</td>\n",
       "      <td>0.4834</td>\n",
       "      <td>0.2776</td>\n",
       "      <td>0.0838</td>\n",
       "      <td>0.3398</td>\n",
       "      <td>0.8682</td>\n",
       "      <td>0.5659</td>\n",
       "      <td>0.2755</td>\n",
       "      <td>0.2325</td>\n",
       "      <td>...</td>\n",
       "      <td>0.1888</td>\n",
       "      <td>0.6955</td>\n",
       "      <td>0.3080</td>\n",
       "      <td>0.7668</td>\n",
       "      <td>0.2846</td>\n",
       "      <td>0.8559</td>\n",
       "      <td>0.8720</td>\n",
       "      <td>0.3184</td>\n",
       "      <td>0.4048</td>\n",
       "      <td>0.3889</td>\n",
       "    </tr>\n",
       "    <tr>\n",
       "      <th>2020-09-21</th>\n",
       "      <td>0.5985</td>\n",
       "      <td>0.4250</td>\n",
       "      <td>0.5190</td>\n",
       "      <td>0.2621</td>\n",
       "      <td>0.3465</td>\n",
       "      <td>0.3859</td>\n",
       "      <td>0.8552</td>\n",
       "      <td>0.5896</td>\n",
       "      <td>0.3248</td>\n",
       "      <td>0.2388</td>\n",
       "      <td>...</td>\n",
       "      <td>0.2061</td>\n",
       "      <td>0.6785</td>\n",
       "      <td>0.3111</td>\n",
       "      <td>0.8148</td>\n",
       "      <td>0.3486</td>\n",
       "      <td>0.8309</td>\n",
       "      <td>0.9202</td>\n",
       "      <td>0.3625</td>\n",
       "      <td>0.4375</td>\n",
       "      <td>0.4086</td>\n",
       "    </tr>\n",
       "    <tr>\n",
       "      <th>...</th>\n",
       "      <td>...</td>\n",
       "      <td>...</td>\n",
       "      <td>...</td>\n",
       "      <td>...</td>\n",
       "      <td>...</td>\n",
       "      <td>...</td>\n",
       "      <td>...</td>\n",
       "      <td>...</td>\n",
       "      <td>...</td>\n",
       "      <td>...</td>\n",
       "      <td>...</td>\n",
       "      <td>...</td>\n",
       "      <td>...</td>\n",
       "      <td>...</td>\n",
       "      <td>...</td>\n",
       "      <td>...</td>\n",
       "      <td>...</td>\n",
       "      <td>...</td>\n",
       "      <td>...</td>\n",
       "      <td>...</td>\n",
       "      <td>...</td>\n",
       "    </tr>\n",
       "    <tr>\n",
       "      <th>2022-01-04</th>\n",
       "      <td>0.0319</td>\n",
       "      <td>0.0225</td>\n",
       "      <td>0.0187</td>\n",
       "      <td>0.4945</td>\n",
       "      <td>0.8501</td>\n",
       "      <td>0.6693</td>\n",
       "      <td>0.2268</td>\n",
       "      <td>0.5161</td>\n",
       "      <td>0.0146</td>\n",
       "      <td>0.0228</td>\n",
       "      <td>...</td>\n",
       "      <td>0.0208</td>\n",
       "      <td>0.2008</td>\n",
       "      <td>0.3290</td>\n",
       "      <td>0.1871</td>\n",
       "      <td>0.4753</td>\n",
       "      <td>0.1757</td>\n",
       "      <td>0.5990</td>\n",
       "      <td>0.4551</td>\n",
       "      <td>0.4619</td>\n",
       "      <td>0.3599</td>\n",
       "    </tr>\n",
       "    <tr>\n",
       "      <th>2022-01-09</th>\n",
       "      <td>0.2819</td>\n",
       "      <td>0.4198</td>\n",
       "      <td>0.8107</td>\n",
       "      <td>0.4932</td>\n",
       "      <td>0.8714</td>\n",
       "      <td>0.6120</td>\n",
       "      <td>0.2368</td>\n",
       "      <td>0.5361</td>\n",
       "      <td>0.1366</td>\n",
       "      <td>0.1153</td>\n",
       "      <td>...</td>\n",
       "      <td>0.1418</td>\n",
       "      <td>0.2053</td>\n",
       "      <td>0.3320</td>\n",
       "      <td>0.1871</td>\n",
       "      <td>0.3793</td>\n",
       "      <td>0.1712</td>\n",
       "      <td>0.6275</td>\n",
       "      <td>0.4895</td>\n",
       "      <td>0.4981</td>\n",
       "      <td>0.3568</td>\n",
       "    </tr>\n",
       "    <tr>\n",
       "      <th>2022-01-14</th>\n",
       "      <td>0.5319</td>\n",
       "      <td>0.3903</td>\n",
       "      <td>0.8142</td>\n",
       "      <td>0.5002</td>\n",
       "      <td>0.8799</td>\n",
       "      <td>0.7385</td>\n",
       "      <td>0.2468</td>\n",
       "      <td>0.5561</td>\n",
       "      <td>0.2586</td>\n",
       "      <td>0.2078</td>\n",
       "      <td>...</td>\n",
       "      <td>0.2628</td>\n",
       "      <td>0.2098</td>\n",
       "      <td>0.3350</td>\n",
       "      <td>0.1871</td>\n",
       "      <td>0.2833</td>\n",
       "      <td>0.1667</td>\n",
       "      <td>0.6560</td>\n",
       "      <td>0.4980</td>\n",
       "      <td>0.5061</td>\n",
       "      <td>0.3613</td>\n",
       "    </tr>\n",
       "    <tr>\n",
       "      <th>2022-01-19</th>\n",
       "      <td>0.6863</td>\n",
       "      <td>0.3646</td>\n",
       "      <td>0.8287</td>\n",
       "      <td>0.5290</td>\n",
       "      <td>0.8608</td>\n",
       "      <td>0.8170</td>\n",
       "      <td>0.2569</td>\n",
       "      <td>0.5767</td>\n",
       "      <td>0.3799</td>\n",
       "      <td>0.2998</td>\n",
       "      <td>...</td>\n",
       "      <td>0.3845</td>\n",
       "      <td>0.2153</td>\n",
       "      <td>0.3374</td>\n",
       "      <td>0.1866</td>\n",
       "      <td>0.1880</td>\n",
       "      <td>0.1622</td>\n",
       "      <td>0.6844</td>\n",
       "      <td>0.4932</td>\n",
       "      <td>0.5178</td>\n",
       "      <td>0.3516</td>\n",
       "    </tr>\n",
       "    <tr>\n",
       "      <th>2022-01-24</th>\n",
       "      <td>0.6382</td>\n",
       "      <td>0.3260</td>\n",
       "      <td>0.6615</td>\n",
       "      <td>0.4927</td>\n",
       "      <td>0.8180</td>\n",
       "      <td>0.7671</td>\n",
       "      <td>NaN</td>\n",
       "      <td>0.4739</td>\n",
       "      <td>0.3571</td>\n",
       "      <td>0.3082</td>\n",
       "      <td>...</td>\n",
       "      <td>0.3774</td>\n",
       "      <td>0.2043</td>\n",
       "      <td>0.3004</td>\n",
       "      <td>0.1914</td>\n",
       "      <td>0.1885</td>\n",
       "      <td>0.1575</td>\n",
       "      <td>0.4257</td>\n",
       "      <td>0.4665</td>\n",
       "      <td>0.4902</td>\n",
       "      <td>0.3471</td>\n",
       "    </tr>\n",
       "  </tbody>\n",
       "</table>\n",
       "<p>103 rows × 4779 columns</p>\n",
       "</div>"
      ],
      "text/plain": [
       "ID          26742     142399    147088    270735    270992    453335    \\\n",
       "DATA                                                                     \n",
       "2020-09-01    0.6511    0.4860    0.4605    0.3381    0.2624    0.3406   \n",
       "2020-09-06    0.4831    0.4275    0.4369    0.3170    0.2761    0.3114   \n",
       "2020-09-11    0.6104    0.4395    0.4621    0.2959    0.2233    0.3318   \n",
       "2020-09-16    0.6390    0.4362    0.4834    0.2776    0.0838    0.3398   \n",
       "2020-09-21    0.5985    0.4250    0.5190    0.2621    0.3465    0.3859   \n",
       "...              ...       ...       ...       ...       ...       ...   \n",
       "2022-01-04    0.0319    0.0225    0.0187    0.4945    0.8501    0.6693   \n",
       "2022-01-09    0.2819    0.4198    0.8107    0.4932    0.8714    0.6120   \n",
       "2022-01-14    0.5319    0.3903    0.8142    0.5002    0.8799    0.7385   \n",
       "2022-01-19    0.6863    0.3646    0.8287    0.5290    0.8608    0.8170   \n",
       "2022-01-24    0.6382    0.3260    0.6615    0.4927    0.8180    0.7671   \n",
       "\n",
       "ID          744056    842397    1305223   1305481   ...  44805278  44812160  \\\n",
       "DATA                                                ...                       \n",
       "2020-09-01       NaN    0.5644    0.2017    0.2637  ...    0.1683    0.6862   \n",
       "2020-09-06    0.8937    0.5192    0.2062    0.2105  ...    0.1677    0.6978   \n",
       "2020-09-11    0.8812    0.5419    0.2260    0.2265  ...    0.1718    0.7125   \n",
       "2020-09-16    0.8682    0.5659    0.2755    0.2325  ...    0.1888    0.6955   \n",
       "2020-09-21    0.8552    0.5896    0.3248    0.2388  ...    0.2061    0.6785   \n",
       "...              ...       ...       ...       ...  ...       ...       ...   \n",
       "2022-01-04    0.2268    0.5161    0.0146    0.0228  ...    0.0208    0.2008   \n",
       "2022-01-09    0.2368    0.5361    0.1366    0.1153  ...    0.1418    0.2053   \n",
       "2022-01-14    0.2468    0.5561    0.2586    0.2078  ...    0.2628    0.2098   \n",
       "2022-01-19    0.2569    0.5767    0.3799    0.2998  ...    0.3845    0.2153   \n",
       "2022-01-24       NaN    0.4739    0.3571    0.3082  ...    0.3774    0.2043   \n",
       "\n",
       "ID          44812167  44816601  44819099  44821958  44823713  44825583  \\\n",
       "DATA                                                                     \n",
       "2020-09-01    0.3003    0.9088    0.1563    0.8349    0.7884    0.2633   \n",
       "2020-09-06    0.3017    0.8832    0.1566    0.8655    0.8950    0.2672   \n",
       "2020-09-11    0.3050    0.7188    0.2206    0.8809    0.8240    0.2984   \n",
       "2020-09-16    0.3080    0.7668    0.2846    0.8559    0.8720    0.3184   \n",
       "2020-09-21    0.3111    0.8148    0.3486    0.8309    0.9202    0.3625   \n",
       "...              ...       ...       ...       ...       ...       ...   \n",
       "2022-01-04    0.3290    0.1871    0.4753    0.1757    0.5990    0.4551   \n",
       "2022-01-09    0.3320    0.1871    0.3793    0.1712    0.6275    0.4895   \n",
       "2022-01-14    0.3350    0.1871    0.2833    0.1667    0.6560    0.4980   \n",
       "2022-01-19    0.3374    0.1866    0.1880    0.1622    0.6844    0.4932   \n",
       "2022-01-24    0.3004    0.1914    0.1885    0.1575    0.4257    0.4665   \n",
       "\n",
       "ID          44825584  44825588  \n",
       "DATA                            \n",
       "2020-09-01    0.2899    0.2914  \n",
       "2020-09-06    0.3139    0.3138  \n",
       "2020-09-11    0.3628    0.3570  \n",
       "2020-09-16    0.4048    0.3889  \n",
       "2020-09-21    0.4375    0.4086  \n",
       "...              ...       ...  \n",
       "2022-01-04    0.4619    0.3599  \n",
       "2022-01-09    0.4981    0.3568  \n",
       "2022-01-14    0.5061    0.3613  \n",
       "2022-01-19    0.5178    0.3516  \n",
       "2022-01-24    0.4902    0.3471  \n",
       "\n",
       "[103 rows x 4779 columns]"
      ]
     },
     "execution_count": 18,
     "metadata": {},
     "output_type": "execute_result"
    }
   ],
   "source": [
    "df"
   ]
  },
  {
   "cell_type": "code",
   "execution_count": 19,
   "id": "f461e02b-05b7-4147-902b-1df6d605c466",
   "metadata": {},
   "outputs": [
    {
     "data": {
      "text/plain": [
       "Index(['2020-09-01', '2020-09-06', '2020-09-11', '2020-09-16', '2020-09-21',\n",
       "       '2020-09-26', '2020-10-01', '2020-10-06', '2020-10-11', '2020-10-16',\n",
       "       ...\n",
       "       '2021-12-10', '2021-12-15', '2021-12-20', '2021-12-25', '2021-12-30',\n",
       "       '2022-01-04', '2022-01-09', '2022-01-14', '2022-01-19', '2022-01-24'],\n",
       "      dtype='object', name='DATA', length=103)"
      ]
     },
     "execution_count": 19,
     "metadata": {},
     "output_type": "execute_result"
    }
   ],
   "source": [
    "df.index"
   ]
  },
  {
   "cell_type": "code",
   "execution_count": 20,
   "id": "b9ab9c50-0b6c-4680-9bfb-671caf8259ba",
   "metadata": {},
   "outputs": [],
   "source": [
    "import datetime\n",
    "from datetime import datetime, timedelta, time, date"
   ]
  },
  {
   "cell_type": "code",
   "execution_count": 21,
   "id": "1e782fcd-bae1-4eed-8863-01805382a662",
   "metadata": {},
   "outputs": [],
   "source": [
    "timelist=[]\n",
    "i=0\n",
    "for x in df.index.values:\n",
    "    date_format = \"%Y-%m-%d\"\n",
    "    a = datetime.strptime(df.index.values[0], date_format)\n",
    "    b = datetime.strptime(df.index.values[i], date_format)\n",
    "    delta = b - a\n",
    "    timelist.append(delta.days)\n",
    "    i=i+1"
   ]
  },
  {
   "cell_type": "code",
   "execution_count": 22,
   "id": "a355c8cb-e4ee-4089-84b6-a8a47cd73e77",
   "metadata": {},
   "outputs": [
    {
     "data": {
      "text/plain": [
       "[0,\n",
       " 5,\n",
       " 10,\n",
       " 15,\n",
       " 20,\n",
       " 25,\n",
       " 30,\n",
       " 35,\n",
       " 40,\n",
       " 45,\n",
       " 50,\n",
       " 55,\n",
       " 60,\n",
       " 65,\n",
       " 70,\n",
       " 75,\n",
       " 80,\n",
       " 85,\n",
       " 90,\n",
       " 95,\n",
       " 100,\n",
       " 105,\n",
       " 110,\n",
       " 115,\n",
       " 120,\n",
       " 125,\n",
       " 130,\n",
       " 135,\n",
       " 140,\n",
       " 145,\n",
       " 150,\n",
       " 155,\n",
       " 160,\n",
       " 165,\n",
       " 170,\n",
       " 175,\n",
       " 180,\n",
       " 185,\n",
       " 190,\n",
       " 195,\n",
       " 200,\n",
       " 205,\n",
       " 210,\n",
       " 215,\n",
       " 220,\n",
       " 225,\n",
       " 230,\n",
       " 235,\n",
       " 240,\n",
       " 245,\n",
       " 250,\n",
       " 255,\n",
       " 260,\n",
       " 265,\n",
       " 270,\n",
       " 275,\n",
       " 280,\n",
       " 285,\n",
       " 290,\n",
       " 295,\n",
       " 300,\n",
       " 305,\n",
       " 310,\n",
       " 315,\n",
       " 320,\n",
       " 325,\n",
       " 330,\n",
       " 335,\n",
       " 340,\n",
       " 345,\n",
       " 350,\n",
       " 355,\n",
       " 360,\n",
       " 365,\n",
       " 370,\n",
       " 375,\n",
       " 380,\n",
       " 385,\n",
       " 390,\n",
       " 395,\n",
       " 400,\n",
       " 405,\n",
       " 410,\n",
       " 415,\n",
       " 420,\n",
       " 425,\n",
       " 430,\n",
       " 435,\n",
       " 440,\n",
       " 445,\n",
       " 450,\n",
       " 455,\n",
       " 460,\n",
       " 465,\n",
       " 470,\n",
       " 475,\n",
       " 480,\n",
       " 485,\n",
       " 490,\n",
       " 495,\n",
       " 500,\n",
       " 505,\n",
       " 510]"
      ]
     },
     "execution_count": 22,
     "metadata": {},
     "output_type": "execute_result"
    }
   ],
   "source": [
    "timelist"
   ]
  },
  {
   "cell_type": "code",
   "execution_count": 23,
   "id": "c20c5b59-e505-4b4b-ad9e-f4cdbe0f0b7d",
   "metadata": {},
   "outputs": [],
   "source": [
    "df.index = pd.to_datetime(df.index, format='%Y-%m-%d')"
   ]
  },
  {
   "cell_type": "code",
   "execution_count": 24,
   "id": "326c890a-a453-422f-849e-3559fcb28261",
   "metadata": {},
   "outputs": [],
   "source": [
    "#Conversão de 5 dias para 1 dia\n",
    "df=df.resample('D').interpolate(method='linear')"
   ]
  },
  {
   "cell_type": "code",
   "execution_count": 25,
   "id": "4144488d-2a21-45ce-b519-edadb59fa9e0",
   "metadata": {},
   "outputs": [],
   "source": [
    "# Remocao de NaN\n",
    "df=df.interpolate(method=\"linear\")\n",
    "df=df.bfill(axis ='rows')\n",
    "df=df.ffill(axis ='rows')"
   ]
  },
  {
   "cell_type": "code",
   "execution_count": 26,
   "id": "771d8cdd-7e2d-4e86-8d4d-07de6b97fb82",
   "metadata": {},
   "outputs": [
    {
     "data": {
      "text/plain": [
       "DatetimeIndex(['2020-09-01', '2020-09-02', '2020-09-03', '2020-09-04',\n",
       "               '2020-09-05', '2020-09-06', '2020-09-07', '2020-09-08',\n",
       "               '2020-09-09', '2020-09-10',\n",
       "               ...\n",
       "               '2022-01-15', '2022-01-16', '2022-01-17', '2022-01-18',\n",
       "               '2022-01-19', '2022-01-20', '2022-01-21', '2022-01-22',\n",
       "               '2022-01-23', '2022-01-24'],\n",
       "              dtype='datetime64[ns]', name='DATA', length=511, freq='D')"
      ]
     },
     "execution_count": 26,
     "metadata": {},
     "output_type": "execute_result"
    }
   ],
   "source": [
    "df.index"
   ]
  },
  {
   "cell_type": "code",
   "execution_count": 27,
   "id": "9ea549e1-9a27-4274-be00-14b2efc2c3b9",
   "metadata": {},
   "outputs": [],
   "source": [
    "df_trans=df.T"
   ]
  },
  {
   "cell_type": "code",
   "execution_count": 28,
   "id": "d3402a2f-f0ef-4883-ba61-b965121b07fa",
   "metadata": {},
   "outputs": [
    {
     "data": {
      "text/html": [
       "<div>\n",
       "<style scoped>\n",
       "    .dataframe tbody tr th:only-of-type {\n",
       "        vertical-align: middle;\n",
       "    }\n",
       "\n",
       "    .dataframe tbody tr th {\n",
       "        vertical-align: top;\n",
       "    }\n",
       "\n",
       "    .dataframe thead th {\n",
       "        text-align: right;\n",
       "    }\n",
       "</style>\n",
       "<table border=\"1\" class=\"dataframe\">\n",
       "  <thead>\n",
       "    <tr style=\"text-align: right;\">\n",
       "      <th></th>\n",
       "      <th>ID</th>\n",
       "      <th>DATA</th>\n",
       "      <th>NDVI_MED</th>\n",
       "      <th>Lat</th>\n",
       "      <th>Lon</th>\n",
       "    </tr>\n",
       "  </thead>\n",
       "  <tbody>\n",
       "    <tr>\n",
       "      <th>0</th>\n",
       "      <td>26742</td>\n",
       "      <td>2020-09-01</td>\n",
       "      <td>0.6511</td>\n",
       "      <td>39.490351</td>\n",
       "      <td>-8.921633</td>\n",
       "    </tr>\n",
       "    <tr>\n",
       "      <th>1</th>\n",
       "      <td>26742</td>\n",
       "      <td>2020-09-06</td>\n",
       "      <td>0.4831</td>\n",
       "      <td>39.490351</td>\n",
       "      <td>-8.921633</td>\n",
       "    </tr>\n",
       "    <tr>\n",
       "      <th>2</th>\n",
       "      <td>26742</td>\n",
       "      <td>2020-09-11</td>\n",
       "      <td>0.6104</td>\n",
       "      <td>39.490351</td>\n",
       "      <td>-8.921633</td>\n",
       "    </tr>\n",
       "    <tr>\n",
       "      <th>3</th>\n",
       "      <td>26742</td>\n",
       "      <td>2020-09-16</td>\n",
       "      <td>0.6390</td>\n",
       "      <td>39.490351</td>\n",
       "      <td>-8.921633</td>\n",
       "    </tr>\n",
       "    <tr>\n",
       "      <th>4</th>\n",
       "      <td>26742</td>\n",
       "      <td>2020-09-21</td>\n",
       "      <td>0.5985</td>\n",
       "      <td>39.490351</td>\n",
       "      <td>-8.921633</td>\n",
       "    </tr>\n",
       "  </tbody>\n",
       "</table>\n",
       "</div>"
      ],
      "text/plain": [
       "      ID        DATA  NDVI_MED        Lat       Lon\n",
       "0  26742  2020-09-01    0.6511  39.490351 -8.921633\n",
       "1  26742  2020-09-06    0.4831  39.490351 -8.921633\n",
       "2  26742  2020-09-11    0.6104  39.490351 -8.921633\n",
       "3  26742  2020-09-16    0.6390  39.490351 -8.921633\n",
       "4  26742  2020-09-21    0.5985  39.490351 -8.921633"
      ]
     },
     "execution_count": 28,
     "metadata": {},
     "output_type": "execute_result"
    }
   ],
   "source": [
    "TabelaMilho.head()"
   ]
  },
  {
   "cell_type": "code",
   "execution_count": 29,
   "id": "83afc3b6-e3bd-40de-b7af-465362ef475c",
   "metadata": {},
   "outputs": [],
   "source": [
    "#Ver apenas os ID únicos\n",
    "TabelaMilhoUnique=TabelaMilho.drop_duplicates(subset=['ID'])"
   ]
  },
  {
   "cell_type": "code",
   "execution_count": 30,
   "id": "8f26838d-a736-4a41-9ea3-c0e510d798ab",
   "metadata": {},
   "outputs": [
    {
     "name": "stderr",
     "output_type": "stream",
     "text": [
      "C:\\Users\\Guilherme\\AppData\\Local\\Temp\\ipykernel_14468\\3247887478.py:1: SettingWithCopyWarning:\n",
      "\n",
      "\n",
      "A value is trying to be set on a copy of a slice from a DataFrame\n",
      "\n",
      "See the caveats in the documentation: https://pandas.pydata.org/pandas-docs/stable/user_guide/indexing.html#returning-a-view-versus-a-copy\n",
      "\n"
     ]
    }
   ],
   "source": [
    "TabelaMilhoUnique.drop(['DATA', 'NDVI_MED'], axis=1, inplace=True)"
   ]
  },
  {
   "cell_type": "code",
   "execution_count": 31,
   "id": "e1297a05-228d-41b3-a93e-c22b8b1149be",
   "metadata": {},
   "outputs": [
    {
     "data": {
      "text/html": [
       "<div>\n",
       "<style scoped>\n",
       "    .dataframe tbody tr th:only-of-type {\n",
       "        vertical-align: middle;\n",
       "    }\n",
       "\n",
       "    .dataframe tbody tr th {\n",
       "        vertical-align: top;\n",
       "    }\n",
       "\n",
       "    .dataframe thead th {\n",
       "        text-align: right;\n",
       "    }\n",
       "</style>\n",
       "<table border=\"1\" class=\"dataframe\">\n",
       "  <thead>\n",
       "    <tr style=\"text-align: right;\">\n",
       "      <th></th>\n",
       "      <th>ID</th>\n",
       "      <th>Lat</th>\n",
       "      <th>Lon</th>\n",
       "    </tr>\n",
       "  </thead>\n",
       "  <tbody>\n",
       "    <tr>\n",
       "      <th>0</th>\n",
       "      <td>26742</td>\n",
       "      <td>39.490351</td>\n",
       "      <td>-8.921633</td>\n",
       "    </tr>\n",
       "    <tr>\n",
       "      <th>103</th>\n",
       "      <td>142399</td>\n",
       "      <td>39.689617</td>\n",
       "      <td>-8.822106</td>\n",
       "    </tr>\n",
       "    <tr>\n",
       "      <th>206</th>\n",
       "      <td>147088</td>\n",
       "      <td>39.654462</td>\n",
       "      <td>-8.750712</td>\n",
       "    </tr>\n",
       "    <tr>\n",
       "      <th>309</th>\n",
       "      <td>270735</td>\n",
       "      <td>39.674235</td>\n",
       "      <td>-8.703391</td>\n",
       "    </tr>\n",
       "    <tr>\n",
       "      <th>407</th>\n",
       "      <td>270992</td>\n",
       "      <td>39.682310</td>\n",
       "      <td>-8.693551</td>\n",
       "    </tr>\n",
       "    <tr>\n",
       "      <th>...</th>\n",
       "      <td>...</td>\n",
       "      <td>...</td>\n",
       "      <td>...</td>\n",
       "    </tr>\n",
       "    <tr>\n",
       "      <th>463281</th>\n",
       "      <td>44693605</td>\n",
       "      <td>39.494279</td>\n",
       "      <td>-8.586319</td>\n",
       "    </tr>\n",
       "    <tr>\n",
       "      <th>463377</th>\n",
       "      <td>44713235</td>\n",
       "      <td>39.386970</td>\n",
       "      <td>-8.466177</td>\n",
       "    </tr>\n",
       "    <tr>\n",
       "      <th>463473</th>\n",
       "      <td>44752766</td>\n",
       "      <td>39.348913</td>\n",
       "      <td>-8.524470</td>\n",
       "    </tr>\n",
       "    <tr>\n",
       "      <th>463569</th>\n",
       "      <td>44793424</td>\n",
       "      <td>39.323011</td>\n",
       "      <td>-8.522392</td>\n",
       "    </tr>\n",
       "    <tr>\n",
       "      <th>463665</th>\n",
       "      <td>44793426</td>\n",
       "      <td>39.324599</td>\n",
       "      <td>-8.524624</td>\n",
       "    </tr>\n",
       "  </tbody>\n",
       "</table>\n",
       "<p>4779 rows × 3 columns</p>\n",
       "</div>"
      ],
      "text/plain": [
       "              ID        Lat       Lon\n",
       "0          26742  39.490351 -8.921633\n",
       "103       142399  39.689617 -8.822106\n",
       "206       147088  39.654462 -8.750712\n",
       "309       270735  39.674235 -8.703391\n",
       "407       270992  39.682310 -8.693551\n",
       "...          ...        ...       ...\n",
       "463281  44693605  39.494279 -8.586319\n",
       "463377  44713235  39.386970 -8.466177\n",
       "463473  44752766  39.348913 -8.524470\n",
       "463569  44793424  39.323011 -8.522392\n",
       "463665  44793426  39.324599 -8.524624\n",
       "\n",
       "[4779 rows x 3 columns]"
      ]
     },
     "execution_count": 31,
     "metadata": {},
     "output_type": "execute_result"
    }
   ],
   "source": [
    "TabelaMilhoUnique"
   ]
  },
  {
   "cell_type": "code",
   "execution_count": 32,
   "id": "66c9b019-2a08-4788-add5-6c932f878d3e",
   "metadata": {},
   "outputs": [
    {
     "name": "stderr",
     "output_type": "stream",
     "text": [
      "C:\\Users\\Guilherme\\AppData\\Local\\Temp\\ipykernel_14468\\1177385422.py:2: SettingWithCopyWarning:\n",
      "\n",
      "\n",
      "A value is trying to be set on a copy of a slice from a DataFrame.\n",
      "Try using .loc[row_indexer,col_indexer] = value instead\n",
      "\n",
      "See the caveats in the documentation: https://pandas.pydata.org/pandas-docs/stable/user_guide/indexing.html#returning-a-view-versus-a-copy\n",
      "\n"
     ]
    }
   ],
   "source": [
    "TabelaMilhoUnique2=TabelaMilhoUnique\n",
    "TabelaMilhoUnique2['Size']=10"
   ]
  },
  {
   "cell_type": "code",
   "execution_count": 33,
   "id": "386e7478-54ca-47a2-824f-7aa1e9375d38",
   "metadata": {},
   "outputs": [
    {
     "data": {
      "text/html": [
       "<div>\n",
       "<style scoped>\n",
       "    .dataframe tbody tr th:only-of-type {\n",
       "        vertical-align: middle;\n",
       "    }\n",
       "\n",
       "    .dataframe tbody tr th {\n",
       "        vertical-align: top;\n",
       "    }\n",
       "\n",
       "    .dataframe thead th {\n",
       "        text-align: right;\n",
       "    }\n",
       "</style>\n",
       "<table border=\"1\" class=\"dataframe\">\n",
       "  <thead>\n",
       "    <tr style=\"text-align: right;\">\n",
       "      <th></th>\n",
       "      <th>ID</th>\n",
       "      <th>Lat</th>\n",
       "      <th>Lon</th>\n",
       "      <th>Size</th>\n",
       "    </tr>\n",
       "  </thead>\n",
       "  <tbody>\n",
       "    <tr>\n",
       "      <th>0</th>\n",
       "      <td>26742</td>\n",
       "      <td>39.490351</td>\n",
       "      <td>-8.921633</td>\n",
       "      <td>10</td>\n",
       "    </tr>\n",
       "    <tr>\n",
       "      <th>103</th>\n",
       "      <td>142399</td>\n",
       "      <td>39.689617</td>\n",
       "      <td>-8.822106</td>\n",
       "      <td>10</td>\n",
       "    </tr>\n",
       "    <tr>\n",
       "      <th>206</th>\n",
       "      <td>147088</td>\n",
       "      <td>39.654462</td>\n",
       "      <td>-8.750712</td>\n",
       "      <td>10</td>\n",
       "    </tr>\n",
       "    <tr>\n",
       "      <th>309</th>\n",
       "      <td>270735</td>\n",
       "      <td>39.674235</td>\n",
       "      <td>-8.703391</td>\n",
       "      <td>10</td>\n",
       "    </tr>\n",
       "    <tr>\n",
       "      <th>407</th>\n",
       "      <td>270992</td>\n",
       "      <td>39.682310</td>\n",
       "      <td>-8.693551</td>\n",
       "      <td>10</td>\n",
       "    </tr>\n",
       "    <tr>\n",
       "      <th>...</th>\n",
       "      <td>...</td>\n",
       "      <td>...</td>\n",
       "      <td>...</td>\n",
       "      <td>...</td>\n",
       "    </tr>\n",
       "    <tr>\n",
       "      <th>463281</th>\n",
       "      <td>44693605</td>\n",
       "      <td>39.494279</td>\n",
       "      <td>-8.586319</td>\n",
       "      <td>10</td>\n",
       "    </tr>\n",
       "    <tr>\n",
       "      <th>463377</th>\n",
       "      <td>44713235</td>\n",
       "      <td>39.386970</td>\n",
       "      <td>-8.466177</td>\n",
       "      <td>10</td>\n",
       "    </tr>\n",
       "    <tr>\n",
       "      <th>463473</th>\n",
       "      <td>44752766</td>\n",
       "      <td>39.348913</td>\n",
       "      <td>-8.524470</td>\n",
       "      <td>10</td>\n",
       "    </tr>\n",
       "    <tr>\n",
       "      <th>463569</th>\n",
       "      <td>44793424</td>\n",
       "      <td>39.323011</td>\n",
       "      <td>-8.522392</td>\n",
       "      <td>10</td>\n",
       "    </tr>\n",
       "    <tr>\n",
       "      <th>463665</th>\n",
       "      <td>44793426</td>\n",
       "      <td>39.324599</td>\n",
       "      <td>-8.524624</td>\n",
       "      <td>10</td>\n",
       "    </tr>\n",
       "  </tbody>\n",
       "</table>\n",
       "<p>4779 rows × 4 columns</p>\n",
       "</div>"
      ],
      "text/plain": [
       "              ID        Lat       Lon  Size\n",
       "0          26742  39.490351 -8.921633    10\n",
       "103       142399  39.689617 -8.822106    10\n",
       "206       147088  39.654462 -8.750712    10\n",
       "309       270735  39.674235 -8.703391    10\n",
       "407       270992  39.682310 -8.693551    10\n",
       "...          ...        ...       ...   ...\n",
       "463281  44693605  39.494279 -8.586319    10\n",
       "463377  44713235  39.386970 -8.466177    10\n",
       "463473  44752766  39.348913 -8.524470    10\n",
       "463569  44793424  39.323011 -8.522392    10\n",
       "463665  44793426  39.324599 -8.524624    10\n",
       "\n",
       "[4779 rows x 4 columns]"
      ]
     },
     "execution_count": 33,
     "metadata": {},
     "output_type": "execute_result"
    }
   ],
   "source": [
    "TabelaMilhoUnique2"
   ]
  },
  {
   "cell_type": "code",
   "execution_count": 34,
   "id": "05040a4a-41a0-4f19-884d-bc5454267565",
   "metadata": {},
   "outputs": [
    {
     "data": {
      "text/html": [
       "<iframe\n",
       "    scrolling=\"no\"\n",
       "    width=\"100%\"\n",
       "    height=\"545px\"\n",
       "    src=\"iframe_figures/figure_34.html\"\n",
       "    frameborder=\"0\"\n",
       "    allowfullscreen\n",
       "></iframe>\n"
      ]
     },
     "metadata": {},
     "output_type": "display_data"
    }
   ],
   "source": [
    "import plotly.express as px\n",
    "fig = px.scatter_geo(TabelaMilhoUnique2, lat=\"Lat\", lon=\"Lon\", color=\"ID\",\n",
    "                     hover_name=\"ID\", size=\"Size\",\n",
    "                     projection=\"natural earth\")\n",
    "fig.show()"
   ]
  },
  {
   "cell_type": "code",
   "execution_count": 35,
   "id": "ffff68ad-0bb9-4141-99aa-d0827c07f4b0",
   "metadata": {},
   "outputs": [
    {
     "data": {
      "text/html": [
       "<div>\n",
       "<style scoped>\n",
       "    .dataframe tbody tr th:only-of-type {\n",
       "        vertical-align: middle;\n",
       "    }\n",
       "\n",
       "    .dataframe tbody tr th {\n",
       "        vertical-align: top;\n",
       "    }\n",
       "\n",
       "    .dataframe thead th {\n",
       "        text-align: right;\n",
       "    }\n",
       "</style>\n",
       "<table border=\"1\" class=\"dataframe\">\n",
       "  <thead>\n",
       "    <tr style=\"text-align: right;\">\n",
       "      <th>DATA</th>\n",
       "      <th>2020-09-01</th>\n",
       "      <th>2020-09-02</th>\n",
       "      <th>2020-09-03</th>\n",
       "      <th>2020-09-04</th>\n",
       "      <th>2020-09-05</th>\n",
       "      <th>2020-09-06</th>\n",
       "      <th>2020-09-07</th>\n",
       "      <th>2020-09-08</th>\n",
       "      <th>2020-09-09</th>\n",
       "      <th>2020-09-10</th>\n",
       "      <th>...</th>\n",
       "      <th>2022-01-15</th>\n",
       "      <th>2022-01-16</th>\n",
       "      <th>2022-01-17</th>\n",
       "      <th>2022-01-18</th>\n",
       "      <th>2022-01-19</th>\n",
       "      <th>2022-01-20</th>\n",
       "      <th>2022-01-21</th>\n",
       "      <th>2022-01-22</th>\n",
       "      <th>2022-01-23</th>\n",
       "      <th>2022-01-24</th>\n",
       "    </tr>\n",
       "    <tr>\n",
       "      <th>ID</th>\n",
       "      <th></th>\n",
       "      <th></th>\n",
       "      <th></th>\n",
       "      <th></th>\n",
       "      <th></th>\n",
       "      <th></th>\n",
       "      <th></th>\n",
       "      <th></th>\n",
       "      <th></th>\n",
       "      <th></th>\n",
       "      <th></th>\n",
       "      <th></th>\n",
       "      <th></th>\n",
       "      <th></th>\n",
       "      <th></th>\n",
       "      <th></th>\n",
       "      <th></th>\n",
       "      <th></th>\n",
       "      <th></th>\n",
       "      <th></th>\n",
       "      <th></th>\n",
       "    </tr>\n",
       "  </thead>\n",
       "  <tbody>\n",
       "    <tr>\n",
       "      <th>26742</th>\n",
       "      <td>0.6511</td>\n",
       "      <td>0.61750</td>\n",
       "      <td>0.58390</td>\n",
       "      <td>0.55030</td>\n",
       "      <td>0.51670</td>\n",
       "      <td>0.4831</td>\n",
       "      <td>0.50856</td>\n",
       "      <td>0.53402</td>\n",
       "      <td>0.55948</td>\n",
       "      <td>0.58494</td>\n",
       "      <td>...</td>\n",
       "      <td>0.56278</td>\n",
       "      <td>0.59366</td>\n",
       "      <td>0.62454</td>\n",
       "      <td>0.65542</td>\n",
       "      <td>0.6863</td>\n",
       "      <td>0.67668</td>\n",
       "      <td>0.66706</td>\n",
       "      <td>0.65744</td>\n",
       "      <td>0.64782</td>\n",
       "      <td>0.6382</td>\n",
       "    </tr>\n",
       "    <tr>\n",
       "      <th>142399</th>\n",
       "      <td>0.4860</td>\n",
       "      <td>0.47430</td>\n",
       "      <td>0.46260</td>\n",
       "      <td>0.45090</td>\n",
       "      <td>0.43920</td>\n",
       "      <td>0.4275</td>\n",
       "      <td>0.42990</td>\n",
       "      <td>0.43230</td>\n",
       "      <td>0.43470</td>\n",
       "      <td>0.43710</td>\n",
       "      <td>...</td>\n",
       "      <td>0.38516</td>\n",
       "      <td>0.38002</td>\n",
       "      <td>0.37488</td>\n",
       "      <td>0.36974</td>\n",
       "      <td>0.3646</td>\n",
       "      <td>0.35688</td>\n",
       "      <td>0.34916</td>\n",
       "      <td>0.34144</td>\n",
       "      <td>0.33372</td>\n",
       "      <td>0.3260</td>\n",
       "    </tr>\n",
       "    <tr>\n",
       "      <th>147088</th>\n",
       "      <td>0.4605</td>\n",
       "      <td>0.45578</td>\n",
       "      <td>0.45106</td>\n",
       "      <td>0.44634</td>\n",
       "      <td>0.44162</td>\n",
       "      <td>0.4369</td>\n",
       "      <td>0.44194</td>\n",
       "      <td>0.44698</td>\n",
       "      <td>0.45202</td>\n",
       "      <td>0.45706</td>\n",
       "      <td>...</td>\n",
       "      <td>0.81710</td>\n",
       "      <td>0.82000</td>\n",
       "      <td>0.82290</td>\n",
       "      <td>0.82580</td>\n",
       "      <td>0.8287</td>\n",
       "      <td>0.79526</td>\n",
       "      <td>0.76182</td>\n",
       "      <td>0.72838</td>\n",
       "      <td>0.69494</td>\n",
       "      <td>0.6615</td>\n",
       "    </tr>\n",
       "    <tr>\n",
       "      <th>270735</th>\n",
       "      <td>0.3381</td>\n",
       "      <td>0.33388</td>\n",
       "      <td>0.32966</td>\n",
       "      <td>0.32544</td>\n",
       "      <td>0.32122</td>\n",
       "      <td>0.3170</td>\n",
       "      <td>0.31278</td>\n",
       "      <td>0.30856</td>\n",
       "      <td>0.30434</td>\n",
       "      <td>0.30012</td>\n",
       "      <td>...</td>\n",
       "      <td>0.50596</td>\n",
       "      <td>0.51172</td>\n",
       "      <td>0.51748</td>\n",
       "      <td>0.52324</td>\n",
       "      <td>0.5290</td>\n",
       "      <td>0.52174</td>\n",
       "      <td>0.51448</td>\n",
       "      <td>0.50722</td>\n",
       "      <td>0.49996</td>\n",
       "      <td>0.4927</td>\n",
       "    </tr>\n",
       "    <tr>\n",
       "      <th>270992</th>\n",
       "      <td>0.2624</td>\n",
       "      <td>0.26514</td>\n",
       "      <td>0.26788</td>\n",
       "      <td>0.27062</td>\n",
       "      <td>0.27336</td>\n",
       "      <td>0.2761</td>\n",
       "      <td>0.26554</td>\n",
       "      <td>0.25498</td>\n",
       "      <td>0.24442</td>\n",
       "      <td>0.23386</td>\n",
       "      <td>...</td>\n",
       "      <td>0.87608</td>\n",
       "      <td>0.87226</td>\n",
       "      <td>0.86844</td>\n",
       "      <td>0.86462</td>\n",
       "      <td>0.8608</td>\n",
       "      <td>0.85224</td>\n",
       "      <td>0.84368</td>\n",
       "      <td>0.83512</td>\n",
       "      <td>0.82656</td>\n",
       "      <td>0.8180</td>\n",
       "    </tr>\n",
       "    <tr>\n",
       "      <th>...</th>\n",
       "      <td>...</td>\n",
       "      <td>...</td>\n",
       "      <td>...</td>\n",
       "      <td>...</td>\n",
       "      <td>...</td>\n",
       "      <td>...</td>\n",
       "      <td>...</td>\n",
       "      <td>...</td>\n",
       "      <td>...</td>\n",
       "      <td>...</td>\n",
       "      <td>...</td>\n",
       "      <td>...</td>\n",
       "      <td>...</td>\n",
       "      <td>...</td>\n",
       "      <td>...</td>\n",
       "      <td>...</td>\n",
       "      <td>...</td>\n",
       "      <td>...</td>\n",
       "      <td>...</td>\n",
       "      <td>...</td>\n",
       "      <td>...</td>\n",
       "    </tr>\n",
       "    <tr>\n",
       "      <th>44821958</th>\n",
       "      <td>0.8349</td>\n",
       "      <td>0.84102</td>\n",
       "      <td>0.84714</td>\n",
       "      <td>0.85326</td>\n",
       "      <td>0.85938</td>\n",
       "      <td>0.8655</td>\n",
       "      <td>0.86858</td>\n",
       "      <td>0.87166</td>\n",
       "      <td>0.87474</td>\n",
       "      <td>0.87782</td>\n",
       "      <td>...</td>\n",
       "      <td>0.16580</td>\n",
       "      <td>0.16490</td>\n",
       "      <td>0.16400</td>\n",
       "      <td>0.16310</td>\n",
       "      <td>0.1622</td>\n",
       "      <td>0.16126</td>\n",
       "      <td>0.16032</td>\n",
       "      <td>0.15938</td>\n",
       "      <td>0.15844</td>\n",
       "      <td>0.1575</td>\n",
       "    </tr>\n",
       "    <tr>\n",
       "      <th>44823713</th>\n",
       "      <td>0.7884</td>\n",
       "      <td>0.80972</td>\n",
       "      <td>0.83104</td>\n",
       "      <td>0.85236</td>\n",
       "      <td>0.87368</td>\n",
       "      <td>0.8950</td>\n",
       "      <td>0.88080</td>\n",
       "      <td>0.86660</td>\n",
       "      <td>0.85240</td>\n",
       "      <td>0.83820</td>\n",
       "      <td>...</td>\n",
       "      <td>0.66168</td>\n",
       "      <td>0.66736</td>\n",
       "      <td>0.67304</td>\n",
       "      <td>0.67872</td>\n",
       "      <td>0.6844</td>\n",
       "      <td>0.63266</td>\n",
       "      <td>0.58092</td>\n",
       "      <td>0.52918</td>\n",
       "      <td>0.47744</td>\n",
       "      <td>0.4257</td>\n",
       "    </tr>\n",
       "    <tr>\n",
       "      <th>44825583</th>\n",
       "      <td>0.2633</td>\n",
       "      <td>0.26408</td>\n",
       "      <td>0.26486</td>\n",
       "      <td>0.26564</td>\n",
       "      <td>0.26642</td>\n",
       "      <td>0.2672</td>\n",
       "      <td>0.27344</td>\n",
       "      <td>0.27968</td>\n",
       "      <td>0.28592</td>\n",
       "      <td>0.29216</td>\n",
       "      <td>...</td>\n",
       "      <td>0.49704</td>\n",
       "      <td>0.49608</td>\n",
       "      <td>0.49512</td>\n",
       "      <td>0.49416</td>\n",
       "      <td>0.4932</td>\n",
       "      <td>0.48786</td>\n",
       "      <td>0.48252</td>\n",
       "      <td>0.47718</td>\n",
       "      <td>0.47184</td>\n",
       "      <td>0.4665</td>\n",
       "    </tr>\n",
       "    <tr>\n",
       "      <th>44825584</th>\n",
       "      <td>0.2899</td>\n",
       "      <td>0.29470</td>\n",
       "      <td>0.29950</td>\n",
       "      <td>0.30430</td>\n",
       "      <td>0.30910</td>\n",
       "      <td>0.3139</td>\n",
       "      <td>0.32368</td>\n",
       "      <td>0.33346</td>\n",
       "      <td>0.34324</td>\n",
       "      <td>0.35302</td>\n",
       "      <td>...</td>\n",
       "      <td>0.50844</td>\n",
       "      <td>0.51078</td>\n",
       "      <td>0.51312</td>\n",
       "      <td>0.51546</td>\n",
       "      <td>0.5178</td>\n",
       "      <td>0.51228</td>\n",
       "      <td>0.50676</td>\n",
       "      <td>0.50124</td>\n",
       "      <td>0.49572</td>\n",
       "      <td>0.4902</td>\n",
       "    </tr>\n",
       "    <tr>\n",
       "      <th>44825588</th>\n",
       "      <td>0.2914</td>\n",
       "      <td>0.29588</td>\n",
       "      <td>0.30036</td>\n",
       "      <td>0.30484</td>\n",
       "      <td>0.30932</td>\n",
       "      <td>0.3138</td>\n",
       "      <td>0.32244</td>\n",
       "      <td>0.33108</td>\n",
       "      <td>0.33972</td>\n",
       "      <td>0.34836</td>\n",
       "      <td>...</td>\n",
       "      <td>0.35936</td>\n",
       "      <td>0.35742</td>\n",
       "      <td>0.35548</td>\n",
       "      <td>0.35354</td>\n",
       "      <td>0.3516</td>\n",
       "      <td>0.35070</td>\n",
       "      <td>0.34980</td>\n",
       "      <td>0.34890</td>\n",
       "      <td>0.34800</td>\n",
       "      <td>0.3471</td>\n",
       "    </tr>\n",
       "  </tbody>\n",
       "</table>\n",
       "<p>4779 rows × 511 columns</p>\n",
       "</div>"
      ],
      "text/plain": [
       "DATA      2020-09-01  2020-09-02  2020-09-03  2020-09-04  2020-09-05  \\\n",
       "ID                                                                     \n",
       "26742         0.6511     0.61750     0.58390     0.55030     0.51670   \n",
       "142399        0.4860     0.47430     0.46260     0.45090     0.43920   \n",
       "147088        0.4605     0.45578     0.45106     0.44634     0.44162   \n",
       "270735        0.3381     0.33388     0.32966     0.32544     0.32122   \n",
       "270992        0.2624     0.26514     0.26788     0.27062     0.27336   \n",
       "...              ...         ...         ...         ...         ...   \n",
       "44821958      0.8349     0.84102     0.84714     0.85326     0.85938   \n",
       "44823713      0.7884     0.80972     0.83104     0.85236     0.87368   \n",
       "44825583      0.2633     0.26408     0.26486     0.26564     0.26642   \n",
       "44825584      0.2899     0.29470     0.29950     0.30430     0.30910   \n",
       "44825588      0.2914     0.29588     0.30036     0.30484     0.30932   \n",
       "\n",
       "DATA      2020-09-06  2020-09-07  2020-09-08  2020-09-09  2020-09-10  ...  \\\n",
       "ID                                                                    ...   \n",
       "26742         0.4831     0.50856     0.53402     0.55948     0.58494  ...   \n",
       "142399        0.4275     0.42990     0.43230     0.43470     0.43710  ...   \n",
       "147088        0.4369     0.44194     0.44698     0.45202     0.45706  ...   \n",
       "270735        0.3170     0.31278     0.30856     0.30434     0.30012  ...   \n",
       "270992        0.2761     0.26554     0.25498     0.24442     0.23386  ...   \n",
       "...              ...         ...         ...         ...         ...  ...   \n",
       "44821958      0.8655     0.86858     0.87166     0.87474     0.87782  ...   \n",
       "44823713      0.8950     0.88080     0.86660     0.85240     0.83820  ...   \n",
       "44825583      0.2672     0.27344     0.27968     0.28592     0.29216  ...   \n",
       "44825584      0.3139     0.32368     0.33346     0.34324     0.35302  ...   \n",
       "44825588      0.3138     0.32244     0.33108     0.33972     0.34836  ...   \n",
       "\n",
       "DATA      2022-01-15  2022-01-16  2022-01-17  2022-01-18  2022-01-19  \\\n",
       "ID                                                                     \n",
       "26742        0.56278     0.59366     0.62454     0.65542      0.6863   \n",
       "142399       0.38516     0.38002     0.37488     0.36974      0.3646   \n",
       "147088       0.81710     0.82000     0.82290     0.82580      0.8287   \n",
       "270735       0.50596     0.51172     0.51748     0.52324      0.5290   \n",
       "270992       0.87608     0.87226     0.86844     0.86462      0.8608   \n",
       "...              ...         ...         ...         ...         ...   \n",
       "44821958     0.16580     0.16490     0.16400     0.16310      0.1622   \n",
       "44823713     0.66168     0.66736     0.67304     0.67872      0.6844   \n",
       "44825583     0.49704     0.49608     0.49512     0.49416      0.4932   \n",
       "44825584     0.50844     0.51078     0.51312     0.51546      0.5178   \n",
       "44825588     0.35936     0.35742     0.35548     0.35354      0.3516   \n",
       "\n",
       "DATA      2022-01-20  2022-01-21  2022-01-22  2022-01-23  2022-01-24  \n",
       "ID                                                                    \n",
       "26742        0.67668     0.66706     0.65744     0.64782      0.6382  \n",
       "142399       0.35688     0.34916     0.34144     0.33372      0.3260  \n",
       "147088       0.79526     0.76182     0.72838     0.69494      0.6615  \n",
       "270735       0.52174     0.51448     0.50722     0.49996      0.4927  \n",
       "270992       0.85224     0.84368     0.83512     0.82656      0.8180  \n",
       "...              ...         ...         ...         ...         ...  \n",
       "44821958     0.16126     0.16032     0.15938     0.15844      0.1575  \n",
       "44823713     0.63266     0.58092     0.52918     0.47744      0.4257  \n",
       "44825583     0.48786     0.48252     0.47718     0.47184      0.4665  \n",
       "44825584     0.51228     0.50676     0.50124     0.49572      0.4902  \n",
       "44825588     0.35070     0.34980     0.34890     0.34800      0.3471  \n",
       "\n",
       "[4779 rows x 511 columns]"
      ]
     },
     "execution_count": 35,
     "metadata": {},
     "output_type": "execute_result"
    }
   ],
   "source": [
    "df_trans"
   ]
  },
  {
   "cell_type": "code",
   "execution_count": 36,
   "id": "d70a5519-8adf-4a27-b31b-4e484738a200",
   "metadata": {},
   "outputs": [
    {
     "data": {
      "text/html": [
       "<div>\n",
       "<style scoped>\n",
       "    .dataframe tbody tr th:only-of-type {\n",
       "        vertical-align: middle;\n",
       "    }\n",
       "\n",
       "    .dataframe tbody tr th {\n",
       "        vertical-align: top;\n",
       "    }\n",
       "\n",
       "    .dataframe thead th {\n",
       "        text-align: right;\n",
       "    }\n",
       "</style>\n",
       "<table border=\"1\" class=\"dataframe\">\n",
       "  <thead>\n",
       "    <tr style=\"text-align: right;\">\n",
       "      <th>DATA</th>\n",
       "      <th>2020-09-01</th>\n",
       "      <th>2020-09-02</th>\n",
       "      <th>2020-09-03</th>\n",
       "      <th>2020-09-04</th>\n",
       "      <th>2020-09-05</th>\n",
       "      <th>2020-09-06</th>\n",
       "      <th>2020-09-07</th>\n",
       "      <th>2020-09-08</th>\n",
       "      <th>2020-09-09</th>\n",
       "      <th>2020-09-10</th>\n",
       "      <th>...</th>\n",
       "      <th>2022-01-15</th>\n",
       "      <th>2022-01-16</th>\n",
       "      <th>2022-01-17</th>\n",
       "      <th>2022-01-18</th>\n",
       "      <th>2022-01-19</th>\n",
       "      <th>2022-01-20</th>\n",
       "      <th>2022-01-21</th>\n",
       "      <th>2022-01-22</th>\n",
       "      <th>2022-01-23</th>\n",
       "      <th>2022-01-24</th>\n",
       "    </tr>\n",
       "    <tr>\n",
       "      <th>ID</th>\n",
       "      <th></th>\n",
       "      <th></th>\n",
       "      <th></th>\n",
       "      <th></th>\n",
       "      <th></th>\n",
       "      <th></th>\n",
       "      <th></th>\n",
       "      <th></th>\n",
       "      <th></th>\n",
       "      <th></th>\n",
       "      <th></th>\n",
       "      <th></th>\n",
       "      <th></th>\n",
       "      <th></th>\n",
       "      <th></th>\n",
       "      <th></th>\n",
       "      <th></th>\n",
       "      <th></th>\n",
       "      <th></th>\n",
       "      <th></th>\n",
       "      <th></th>\n",
       "    </tr>\n",
       "  </thead>\n",
       "  <tbody>\n",
       "    <tr>\n",
       "      <th>26742</th>\n",
       "      <td>0.6511</td>\n",
       "      <td>0.61750</td>\n",
       "      <td>0.58390</td>\n",
       "      <td>0.55030</td>\n",
       "      <td>0.51670</td>\n",
       "      <td>0.4831</td>\n",
       "      <td>0.50856</td>\n",
       "      <td>0.53402</td>\n",
       "      <td>0.55948</td>\n",
       "      <td>0.58494</td>\n",
       "      <td>...</td>\n",
       "      <td>0.56278</td>\n",
       "      <td>0.59366</td>\n",
       "      <td>0.62454</td>\n",
       "      <td>0.65542</td>\n",
       "      <td>0.6863</td>\n",
       "      <td>0.67668</td>\n",
       "      <td>0.66706</td>\n",
       "      <td>0.65744</td>\n",
       "      <td>0.64782</td>\n",
       "      <td>0.6382</td>\n",
       "    </tr>\n",
       "    <tr>\n",
       "      <th>142399</th>\n",
       "      <td>0.4860</td>\n",
       "      <td>0.47430</td>\n",
       "      <td>0.46260</td>\n",
       "      <td>0.45090</td>\n",
       "      <td>0.43920</td>\n",
       "      <td>0.4275</td>\n",
       "      <td>0.42990</td>\n",
       "      <td>0.43230</td>\n",
       "      <td>0.43470</td>\n",
       "      <td>0.43710</td>\n",
       "      <td>...</td>\n",
       "      <td>0.38516</td>\n",
       "      <td>0.38002</td>\n",
       "      <td>0.37488</td>\n",
       "      <td>0.36974</td>\n",
       "      <td>0.3646</td>\n",
       "      <td>0.35688</td>\n",
       "      <td>0.34916</td>\n",
       "      <td>0.34144</td>\n",
       "      <td>0.33372</td>\n",
       "      <td>0.3260</td>\n",
       "    </tr>\n",
       "    <tr>\n",
       "      <th>147088</th>\n",
       "      <td>0.4605</td>\n",
       "      <td>0.45578</td>\n",
       "      <td>0.45106</td>\n",
       "      <td>0.44634</td>\n",
       "      <td>0.44162</td>\n",
       "      <td>0.4369</td>\n",
       "      <td>0.44194</td>\n",
       "      <td>0.44698</td>\n",
       "      <td>0.45202</td>\n",
       "      <td>0.45706</td>\n",
       "      <td>...</td>\n",
       "      <td>0.81710</td>\n",
       "      <td>0.82000</td>\n",
       "      <td>0.82290</td>\n",
       "      <td>0.82580</td>\n",
       "      <td>0.8287</td>\n",
       "      <td>0.79526</td>\n",
       "      <td>0.76182</td>\n",
       "      <td>0.72838</td>\n",
       "      <td>0.69494</td>\n",
       "      <td>0.6615</td>\n",
       "    </tr>\n",
       "    <tr>\n",
       "      <th>270735</th>\n",
       "      <td>0.3381</td>\n",
       "      <td>0.33388</td>\n",
       "      <td>0.32966</td>\n",
       "      <td>0.32544</td>\n",
       "      <td>0.32122</td>\n",
       "      <td>0.3170</td>\n",
       "      <td>0.31278</td>\n",
       "      <td>0.30856</td>\n",
       "      <td>0.30434</td>\n",
       "      <td>0.30012</td>\n",
       "      <td>...</td>\n",
       "      <td>0.50596</td>\n",
       "      <td>0.51172</td>\n",
       "      <td>0.51748</td>\n",
       "      <td>0.52324</td>\n",
       "      <td>0.5290</td>\n",
       "      <td>0.52174</td>\n",
       "      <td>0.51448</td>\n",
       "      <td>0.50722</td>\n",
       "      <td>0.49996</td>\n",
       "      <td>0.4927</td>\n",
       "    </tr>\n",
       "    <tr>\n",
       "      <th>270992</th>\n",
       "      <td>0.2624</td>\n",
       "      <td>0.26514</td>\n",
       "      <td>0.26788</td>\n",
       "      <td>0.27062</td>\n",
       "      <td>0.27336</td>\n",
       "      <td>0.2761</td>\n",
       "      <td>0.26554</td>\n",
       "      <td>0.25498</td>\n",
       "      <td>0.24442</td>\n",
       "      <td>0.23386</td>\n",
       "      <td>...</td>\n",
       "      <td>0.87608</td>\n",
       "      <td>0.87226</td>\n",
       "      <td>0.86844</td>\n",
       "      <td>0.86462</td>\n",
       "      <td>0.8608</td>\n",
       "      <td>0.85224</td>\n",
       "      <td>0.84368</td>\n",
       "      <td>0.83512</td>\n",
       "      <td>0.82656</td>\n",
       "      <td>0.8180</td>\n",
       "    </tr>\n",
       "    <tr>\n",
       "      <th>453335</th>\n",
       "      <td>0.3406</td>\n",
       "      <td>0.33476</td>\n",
       "      <td>0.32892</td>\n",
       "      <td>0.32308</td>\n",
       "      <td>0.31724</td>\n",
       "      <td>0.3114</td>\n",
       "      <td>0.31548</td>\n",
       "      <td>0.31956</td>\n",
       "      <td>0.32364</td>\n",
       "      <td>0.32772</td>\n",
       "      <td>...</td>\n",
       "      <td>0.75420</td>\n",
       "      <td>0.76990</td>\n",
       "      <td>0.78560</td>\n",
       "      <td>0.80130</td>\n",
       "      <td>0.8170</td>\n",
       "      <td>0.80702</td>\n",
       "      <td>0.79704</td>\n",
       "      <td>0.78706</td>\n",
       "      <td>0.77708</td>\n",
       "      <td>0.7671</td>\n",
       "    </tr>\n",
       "    <tr>\n",
       "      <th>744056</th>\n",
       "      <td>0.8937</td>\n",
       "      <td>0.89370</td>\n",
       "      <td>0.89370</td>\n",
       "      <td>0.89370</td>\n",
       "      <td>0.89370</td>\n",
       "      <td>0.8937</td>\n",
       "      <td>0.89120</td>\n",
       "      <td>0.88870</td>\n",
       "      <td>0.88620</td>\n",
       "      <td>0.88370</td>\n",
       "      <td>...</td>\n",
       "      <td>0.24882</td>\n",
       "      <td>0.25084</td>\n",
       "      <td>0.25286</td>\n",
       "      <td>0.25488</td>\n",
       "      <td>0.2569</td>\n",
       "      <td>0.25690</td>\n",
       "      <td>0.25690</td>\n",
       "      <td>0.25690</td>\n",
       "      <td>0.25690</td>\n",
       "      <td>0.2569</td>\n",
       "    </tr>\n",
       "    <tr>\n",
       "      <th>842397</th>\n",
       "      <td>0.5644</td>\n",
       "      <td>0.55536</td>\n",
       "      <td>0.54632</td>\n",
       "      <td>0.53728</td>\n",
       "      <td>0.52824</td>\n",
       "      <td>0.5192</td>\n",
       "      <td>0.52374</td>\n",
       "      <td>0.52828</td>\n",
       "      <td>0.53282</td>\n",
       "      <td>0.53736</td>\n",
       "      <td>...</td>\n",
       "      <td>0.56022</td>\n",
       "      <td>0.56434</td>\n",
       "      <td>0.56846</td>\n",
       "      <td>0.57258</td>\n",
       "      <td>0.5767</td>\n",
       "      <td>0.55614</td>\n",
       "      <td>0.53558</td>\n",
       "      <td>0.51502</td>\n",
       "      <td>0.49446</td>\n",
       "      <td>0.4739</td>\n",
       "    </tr>\n",
       "    <tr>\n",
       "      <th>1305223</th>\n",
       "      <td>0.2017</td>\n",
       "      <td>0.20260</td>\n",
       "      <td>0.20350</td>\n",
       "      <td>0.20440</td>\n",
       "      <td>0.20530</td>\n",
       "      <td>0.2062</td>\n",
       "      <td>0.21016</td>\n",
       "      <td>0.21412</td>\n",
       "      <td>0.21808</td>\n",
       "      <td>0.22204</td>\n",
       "      <td>...</td>\n",
       "      <td>0.28286</td>\n",
       "      <td>0.30712</td>\n",
       "      <td>0.33138</td>\n",
       "      <td>0.35564</td>\n",
       "      <td>0.3799</td>\n",
       "      <td>0.37534</td>\n",
       "      <td>0.37078</td>\n",
       "      <td>0.36622</td>\n",
       "      <td>0.36166</td>\n",
       "      <td>0.3571</td>\n",
       "    </tr>\n",
       "    <tr>\n",
       "      <th>1305481</th>\n",
       "      <td>0.2637</td>\n",
       "      <td>0.25306</td>\n",
       "      <td>0.24242</td>\n",
       "      <td>0.23178</td>\n",
       "      <td>0.22114</td>\n",
       "      <td>0.2105</td>\n",
       "      <td>0.21370</td>\n",
       "      <td>0.21690</td>\n",
       "      <td>0.22010</td>\n",
       "      <td>0.22330</td>\n",
       "      <td>...</td>\n",
       "      <td>0.22620</td>\n",
       "      <td>0.24460</td>\n",
       "      <td>0.26300</td>\n",
       "      <td>0.28140</td>\n",
       "      <td>0.2998</td>\n",
       "      <td>0.30148</td>\n",
       "      <td>0.30316</td>\n",
       "      <td>0.30484</td>\n",
       "      <td>0.30652</td>\n",
       "      <td>0.3082</td>\n",
       "    </tr>\n",
       "  </tbody>\n",
       "</table>\n",
       "<p>10 rows × 511 columns</p>\n",
       "</div>"
      ],
      "text/plain": [
       "DATA     2020-09-01  2020-09-02  2020-09-03  2020-09-04  2020-09-05  \\\n",
       "ID                                                                    \n",
       "26742        0.6511     0.61750     0.58390     0.55030     0.51670   \n",
       "142399       0.4860     0.47430     0.46260     0.45090     0.43920   \n",
       "147088       0.4605     0.45578     0.45106     0.44634     0.44162   \n",
       "270735       0.3381     0.33388     0.32966     0.32544     0.32122   \n",
       "270992       0.2624     0.26514     0.26788     0.27062     0.27336   \n",
       "453335       0.3406     0.33476     0.32892     0.32308     0.31724   \n",
       "744056       0.8937     0.89370     0.89370     0.89370     0.89370   \n",
       "842397       0.5644     0.55536     0.54632     0.53728     0.52824   \n",
       "1305223      0.2017     0.20260     0.20350     0.20440     0.20530   \n",
       "1305481      0.2637     0.25306     0.24242     0.23178     0.22114   \n",
       "\n",
       "DATA     2020-09-06  2020-09-07  2020-09-08  2020-09-09  2020-09-10  ...  \\\n",
       "ID                                                                   ...   \n",
       "26742        0.4831     0.50856     0.53402     0.55948     0.58494  ...   \n",
       "142399       0.4275     0.42990     0.43230     0.43470     0.43710  ...   \n",
       "147088       0.4369     0.44194     0.44698     0.45202     0.45706  ...   \n",
       "270735       0.3170     0.31278     0.30856     0.30434     0.30012  ...   \n",
       "270992       0.2761     0.26554     0.25498     0.24442     0.23386  ...   \n",
       "453335       0.3114     0.31548     0.31956     0.32364     0.32772  ...   \n",
       "744056       0.8937     0.89120     0.88870     0.88620     0.88370  ...   \n",
       "842397       0.5192     0.52374     0.52828     0.53282     0.53736  ...   \n",
       "1305223      0.2062     0.21016     0.21412     0.21808     0.22204  ...   \n",
       "1305481      0.2105     0.21370     0.21690     0.22010     0.22330  ...   \n",
       "\n",
       "DATA     2022-01-15  2022-01-16  2022-01-17  2022-01-18  2022-01-19  \\\n",
       "ID                                                                    \n",
       "26742       0.56278     0.59366     0.62454     0.65542      0.6863   \n",
       "142399      0.38516     0.38002     0.37488     0.36974      0.3646   \n",
       "147088      0.81710     0.82000     0.82290     0.82580      0.8287   \n",
       "270735      0.50596     0.51172     0.51748     0.52324      0.5290   \n",
       "270992      0.87608     0.87226     0.86844     0.86462      0.8608   \n",
       "453335      0.75420     0.76990     0.78560     0.80130      0.8170   \n",
       "744056      0.24882     0.25084     0.25286     0.25488      0.2569   \n",
       "842397      0.56022     0.56434     0.56846     0.57258      0.5767   \n",
       "1305223     0.28286     0.30712     0.33138     0.35564      0.3799   \n",
       "1305481     0.22620     0.24460     0.26300     0.28140      0.2998   \n",
       "\n",
       "DATA     2022-01-20  2022-01-21  2022-01-22  2022-01-23  2022-01-24  \n",
       "ID                                                                   \n",
       "26742       0.67668     0.66706     0.65744     0.64782      0.6382  \n",
       "142399      0.35688     0.34916     0.34144     0.33372      0.3260  \n",
       "147088      0.79526     0.76182     0.72838     0.69494      0.6615  \n",
       "270735      0.52174     0.51448     0.50722     0.49996      0.4927  \n",
       "270992      0.85224     0.84368     0.83512     0.82656      0.8180  \n",
       "453335      0.80702     0.79704     0.78706     0.77708      0.7671  \n",
       "744056      0.25690     0.25690     0.25690     0.25690      0.2569  \n",
       "842397      0.55614     0.53558     0.51502     0.49446      0.4739  \n",
       "1305223     0.37534     0.37078     0.36622     0.36166      0.3571  \n",
       "1305481     0.30148     0.30316     0.30484     0.30652      0.3082  \n",
       "\n",
       "[10 rows x 511 columns]"
      ]
     },
     "execution_count": 36,
     "metadata": {},
     "output_type": "execute_result"
    }
   ],
   "source": [
    "df_trans[:10]"
   ]
  },
  {
   "cell_type": "code",
   "execution_count": 37,
   "id": "63a3e059-992d-4f9f-91a5-93d65f1c9710",
   "metadata": {},
   "outputs": [],
   "source": [
    "#lista de listas das séries\n",
    "lista_series=[]\n",
    "\n",
    "for x in df_trans.values:\n",
    "    lista_series.append(x)"
   ]
  },
  {
   "cell_type": "code",
   "execution_count": 38,
   "id": "59c6c2c7-b2aa-4455-acc9-fba67932cbaf",
   "metadata": {},
   "outputs": [
    {
     "data": {
      "text/plain": [
       "numpy.float64"
      ]
     },
     "execution_count": 38,
     "metadata": {},
     "output_type": "execute_result"
    }
   ],
   "source": [
    "type(lista_series[0][0])"
   ]
  },
  {
   "cell_type": "code",
   "execution_count": 39,
   "id": "c85b2ee5-e0cc-4e19-82bb-87eb6a3a5057",
   "metadata": {},
   "outputs": [
    {
     "data": {
      "text/plain": [
       "(511,)"
      ]
     },
     "execution_count": 39,
     "metadata": {},
     "output_type": "execute_result"
    }
   ],
   "source": [
    "lista_series[0].shape"
   ]
  },
  {
   "cell_type": "code",
   "execution_count": 40,
   "id": "bb76929f-55f9-4dab-a77c-ffa76b178f1e",
   "metadata": {},
   "outputs": [],
   "source": [
    "w = 5\n",
    "p = 2"
   ]
  },
  {
   "cell_type": "code",
   "execution_count": 41,
   "id": "b9ded800-18d2-4d2e-bd5a-c4e809687471",
   "metadata": {},
   "outputs": [],
   "source": [
    "import scipy.signal as ss\n",
    "from scipy.signal import savgol_filter, general_gaussian"
   ]
  },
  {
   "cell_type": "code",
   "execution_count": 42,
   "id": "72159f6b-767a-4a02-90ae-5e053fde783b",
   "metadata": {},
   "outputs": [],
   "source": [
    "#Aplicação do filtro Sav-Gol\n",
    "lista_filtro=[]\n",
    "for x in lista_series:\n",
    "    lista_filtro.append(savgol_filter(x, 5*w+2, polyorder = 3*p, deriv=0))"
   ]
  },
  {
   "cell_type": "code",
   "execution_count": 43,
   "id": "87a872cb-0b76-43cd-b241-5fc8403d003d",
   "metadata": {},
   "outputs": [],
   "source": [
    "df_filtro = pd.DataFrame(data=lista_filtro, index=df_trans.index)"
   ]
  },
  {
   "cell_type": "code",
   "execution_count": 44,
   "id": "9ebf2032-8a16-40e7-a0d4-0cc483965fcc",
   "metadata": {},
   "outputs": [],
   "source": [
    "df_filtro2=df_filtro.T"
   ]
  },
  {
   "cell_type": "code",
   "execution_count": 45,
   "id": "2e7c09ef-5232-4a2f-98a5-5e3aa3c0fa13",
   "metadata": {},
   "outputs": [
    {
     "data": {
      "text/html": [
       "<div>\n",
       "<style scoped>\n",
       "    .dataframe tbody tr th:only-of-type {\n",
       "        vertical-align: middle;\n",
       "    }\n",
       "\n",
       "    .dataframe tbody tr th {\n",
       "        vertical-align: top;\n",
       "    }\n",
       "\n",
       "    .dataframe thead th {\n",
       "        text-align: right;\n",
       "    }\n",
       "</style>\n",
       "<table border=\"1\" class=\"dataframe\">\n",
       "  <thead>\n",
       "    <tr style=\"text-align: right;\">\n",
       "      <th>ID</th>\n",
       "      <th>26742</th>\n",
       "      <th>142399</th>\n",
       "      <th>147088</th>\n",
       "      <th>270735</th>\n",
       "      <th>270992</th>\n",
       "      <th>453335</th>\n",
       "      <th>744056</th>\n",
       "      <th>842397</th>\n",
       "      <th>1305223</th>\n",
       "      <th>1305481</th>\n",
       "      <th>...</th>\n",
       "      <th>44805278</th>\n",
       "      <th>44812160</th>\n",
       "      <th>44812167</th>\n",
       "      <th>44816601</th>\n",
       "      <th>44819099</th>\n",
       "      <th>44821958</th>\n",
       "      <th>44823713</th>\n",
       "      <th>44825583</th>\n",
       "      <th>44825584</th>\n",
       "      <th>44825588</th>\n",
       "    </tr>\n",
       "  </thead>\n",
       "  <tbody>\n",
       "    <tr>\n",
       "      <th>0</th>\n",
       "      <td>0.661483</td>\n",
       "      <td>0.491152</td>\n",
       "      <td>0.462796</td>\n",
       "      <td>0.338874</td>\n",
       "      <td>0.280677</td>\n",
       "      <td>0.341934</td>\n",
       "      <td>0.893962</td>\n",
       "      <td>0.566851</td>\n",
       "      <td>0.202620</td>\n",
       "      <td>0.266664</td>\n",
       "      <td>...</td>\n",
       "      <td>0.168609</td>\n",
       "      <td>0.685990</td>\n",
       "      <td>0.300096</td>\n",
       "      <td>0.897771</td>\n",
       "      <td>0.158309</td>\n",
       "      <td>0.834955</td>\n",
       "      <td>0.778134</td>\n",
       "      <td>0.265374</td>\n",
       "      <td>0.289891</td>\n",
       "      <td>0.291616</td>\n",
       "    </tr>\n",
       "    <tr>\n",
       "      <th>1</th>\n",
       "      <td>0.610435</td>\n",
       "      <td>0.470083</td>\n",
       "      <td>0.453982</td>\n",
       "      <td>0.333155</td>\n",
       "      <td>0.247293</td>\n",
       "      <td>0.333962</td>\n",
       "      <td>0.893312</td>\n",
       "      <td>0.553525</td>\n",
       "      <td>0.201668</td>\n",
       "      <td>0.250811</td>\n",
       "      <td>...</td>\n",
       "      <td>0.167855</td>\n",
       "      <td>0.688909</td>\n",
       "      <td>0.300793</td>\n",
       "      <td>0.912127</td>\n",
       "      <td>0.154959</td>\n",
       "      <td>0.841040</td>\n",
       "      <td>0.817433</td>\n",
       "      <td>0.262297</td>\n",
       "      <td>0.294906</td>\n",
       "      <td>0.295861</td>\n",
       "    </tr>\n",
       "    <tr>\n",
       "      <th>2</th>\n",
       "      <td>0.568730</td>\n",
       "      <td>0.456213</td>\n",
       "      <td>0.447957</td>\n",
       "      <td>0.328863</td>\n",
       "      <td>0.248641</td>\n",
       "      <td>0.326757</td>\n",
       "      <td>0.893581</td>\n",
       "      <td>0.542834</td>\n",
       "      <td>0.202443</td>\n",
       "      <td>0.238334</td>\n",
       "      <td>...</td>\n",
       "      <td>0.167724</td>\n",
       "      <td>0.690891</td>\n",
       "      <td>0.301048</td>\n",
       "      <td>0.912878</td>\n",
       "      <td>0.153458</td>\n",
       "      <td>0.847120</td>\n",
       "      <td>0.844659</td>\n",
       "      <td>0.262220</td>\n",
       "      <td>0.299150</td>\n",
       "      <td>0.299815</td>\n",
       "    </tr>\n",
       "    <tr>\n",
       "      <th>3</th>\n",
       "      <td>0.538810</td>\n",
       "      <td>0.447176</td>\n",
       "      <td>0.444330</td>\n",
       "      <td>0.325151</td>\n",
       "      <td>0.264244</td>\n",
       "      <td>0.321266</td>\n",
       "      <td>0.893919</td>\n",
       "      <td>0.534861</td>\n",
       "      <td>0.204031</td>\n",
       "      <td>0.229019</td>\n",
       "      <td>...</td>\n",
       "      <td>0.167849</td>\n",
       "      <td>0.692847</td>\n",
       "      <td>0.301168</td>\n",
       "      <td>0.902746</td>\n",
       "      <td>0.154273</td>\n",
       "      <td>0.853191</td>\n",
       "      <td>0.861483</td>\n",
       "      <td>0.264174</td>\n",
       "      <td>0.303711</td>\n",
       "      <td>0.304220</td>\n",
       "    </tr>\n",
       "    <tr>\n",
       "      <th>4</th>\n",
       "      <td>0.521354</td>\n",
       "      <td>0.441319</td>\n",
       "      <td>0.442737</td>\n",
       "      <td>0.321498</td>\n",
       "      <td>0.280515</td>\n",
       "      <td>0.317887</td>\n",
       "      <td>0.893816</td>\n",
       "      <td>0.529546</td>\n",
       "      <td>0.205959</td>\n",
       "      <td>0.222567</td>\n",
       "      <td>...</td>\n",
       "      <td>0.168048</td>\n",
       "      <td>0.695202</td>\n",
       "      <td>0.301342</td>\n",
       "      <td>0.884585</td>\n",
       "      <td>0.157581</td>\n",
       "      <td>0.859099</td>\n",
       "      <td>0.869770</td>\n",
       "      <td>0.267423</td>\n",
       "      <td>0.309208</td>\n",
       "      <td>0.309470</td>\n",
       "    </tr>\n",
       "    <tr>\n",
       "      <th>...</th>\n",
       "      <td>...</td>\n",
       "      <td>...</td>\n",
       "      <td>...</td>\n",
       "      <td>...</td>\n",
       "      <td>...</td>\n",
       "      <td>...</td>\n",
       "      <td>...</td>\n",
       "      <td>...</td>\n",
       "      <td>...</td>\n",
       "      <td>...</td>\n",
       "      <td>...</td>\n",
       "      <td>...</td>\n",
       "      <td>...</td>\n",
       "      <td>...</td>\n",
       "      <td>...</td>\n",
       "      <td>...</td>\n",
       "      <td>...</td>\n",
       "      <td>...</td>\n",
       "      <td>...</td>\n",
       "      <td>...</td>\n",
       "      <td>...</td>\n",
       "    </tr>\n",
       "    <tr>\n",
       "      <th>506</th>\n",
       "      <td>0.664899</td>\n",
       "      <td>0.342794</td>\n",
       "      <td>0.763474</td>\n",
       "      <td>0.520540</td>\n",
       "      <td>0.851834</td>\n",
       "      <td>0.804448</td>\n",
       "      <td>0.256770</td>\n",
       "      <td>0.552925</td>\n",
       "      <td>0.371441</td>\n",
       "      <td>0.298932</td>\n",
       "      <td>...</td>\n",
       "      <td>0.379522</td>\n",
       "      <td>0.212842</td>\n",
       "      <td>0.329404</td>\n",
       "      <td>0.187644</td>\n",
       "      <td>0.189555</td>\n",
       "      <td>0.161235</td>\n",
       "      <td>0.628287</td>\n",
       "      <td>0.487455</td>\n",
       "      <td>0.511470</td>\n",
       "      <td>0.350937</td>\n",
       "    </tr>\n",
       "    <tr>\n",
       "      <th>507</th>\n",
       "      <td>0.679291</td>\n",
       "      <td>0.361810</td>\n",
       "      <td>0.793723</td>\n",
       "      <td>0.517175</td>\n",
       "      <td>0.844080</td>\n",
       "      <td>0.801415</td>\n",
       "      <td>0.257209</td>\n",
       "      <td>0.541294</td>\n",
       "      <td>0.376810</td>\n",
       "      <td>0.306868</td>\n",
       "      <td>...</td>\n",
       "      <td>0.387127</td>\n",
       "      <td>0.211471</td>\n",
       "      <td>0.323899</td>\n",
       "      <td>0.188333</td>\n",
       "      <td>0.185025</td>\n",
       "      <td>0.160343</td>\n",
       "      <td>0.590478</td>\n",
       "      <td>0.483169</td>\n",
       "      <td>0.508371</td>\n",
       "      <td>0.349258</td>\n",
       "    </tr>\n",
       "    <tr>\n",
       "      <th>508</th>\n",
       "      <td>0.685265</td>\n",
       "      <td>0.376785</td>\n",
       "      <td>0.809554</td>\n",
       "      <td>0.511013</td>\n",
       "      <td>0.835680</td>\n",
       "      <td>0.793963</td>\n",
       "      <td>0.257262</td>\n",
       "      <td>0.524456</td>\n",
       "      <td>0.376322</td>\n",
       "      <td>0.311359</td>\n",
       "      <td>...</td>\n",
       "      <td>0.389468</td>\n",
       "      <td>0.209447</td>\n",
       "      <td>0.316873</td>\n",
       "      <td>0.189234</td>\n",
       "      <td>0.184204</td>\n",
       "      <td>0.159440</td>\n",
       "      <td>0.541530</td>\n",
       "      <td>0.478106</td>\n",
       "      <td>0.503604</td>\n",
       "      <td>0.347983</td>\n",
       "    </tr>\n",
       "    <tr>\n",
       "      <th>509</th>\n",
       "      <td>0.670254</td>\n",
       "      <td>0.365456</td>\n",
       "      <td>0.764779</td>\n",
       "      <td>0.501919</td>\n",
       "      <td>0.826815</td>\n",
       "      <td>0.781282</td>\n",
       "      <td>0.257027</td>\n",
       "      <td>0.500442</td>\n",
       "      <td>0.368059</td>\n",
       "      <td>0.310852</td>\n",
       "      <td>...</td>\n",
       "      <td>0.384714</td>\n",
       "      <td>0.206838</td>\n",
       "      <td>0.308531</td>\n",
       "      <td>0.190327</td>\n",
       "      <td>0.186603</td>\n",
       "      <td>0.158492</td>\n",
       "      <td>0.482875</td>\n",
       "      <td>0.472310</td>\n",
       "      <td>0.497002</td>\n",
       "      <td>0.347400</td>\n",
       "    </tr>\n",
       "    <tr>\n",
       "      <th>510</th>\n",
       "      <td>0.614010</td>\n",
       "      <td>0.293138</td>\n",
       "      <td>0.587685</td>\n",
       "      <td>0.489993</td>\n",
       "      <td>0.817679</td>\n",
       "      <td>0.761705</td>\n",
       "      <td>0.256685</td>\n",
       "      <td>0.466454</td>\n",
       "      <td>0.349348</td>\n",
       "      <td>0.303080</td>\n",
       "      <td>...</td>\n",
       "      <td>0.370288</td>\n",
       "      <td>0.203803</td>\n",
       "      <td>0.299307</td>\n",
       "      <td>0.191565</td>\n",
       "      <td>0.191181</td>\n",
       "      <td>0.157446</td>\n",
       "      <td>0.417604</td>\n",
       "      <td>0.465874</td>\n",
       "      <td>0.488497</td>\n",
       "      <td>0.347842</td>\n",
       "    </tr>\n",
       "  </tbody>\n",
       "</table>\n",
       "<p>511 rows × 4779 columns</p>\n",
       "</div>"
      ],
      "text/plain": [
       "ID   26742     142399    147088    270735    270992    453335    744056    \\\n",
       "0    0.661483  0.491152  0.462796  0.338874  0.280677  0.341934  0.893962   \n",
       "1    0.610435  0.470083  0.453982  0.333155  0.247293  0.333962  0.893312   \n",
       "2    0.568730  0.456213  0.447957  0.328863  0.248641  0.326757  0.893581   \n",
       "3    0.538810  0.447176  0.444330  0.325151  0.264244  0.321266  0.893919   \n",
       "4    0.521354  0.441319  0.442737  0.321498  0.280515  0.317887  0.893816   \n",
       "..        ...       ...       ...       ...       ...       ...       ...   \n",
       "506  0.664899  0.342794  0.763474  0.520540  0.851834  0.804448  0.256770   \n",
       "507  0.679291  0.361810  0.793723  0.517175  0.844080  0.801415  0.257209   \n",
       "508  0.685265  0.376785  0.809554  0.511013  0.835680  0.793963  0.257262   \n",
       "509  0.670254  0.365456  0.764779  0.501919  0.826815  0.781282  0.257027   \n",
       "510  0.614010  0.293138  0.587685  0.489993  0.817679  0.761705  0.256685   \n",
       "\n",
       "ID   842397    1305223   1305481   ...  44805278  44812160  44812167  \\\n",
       "0    0.566851  0.202620  0.266664  ...  0.168609  0.685990  0.300096   \n",
       "1    0.553525  0.201668  0.250811  ...  0.167855  0.688909  0.300793   \n",
       "2    0.542834  0.202443  0.238334  ...  0.167724  0.690891  0.301048   \n",
       "3    0.534861  0.204031  0.229019  ...  0.167849  0.692847  0.301168   \n",
       "4    0.529546  0.205959  0.222567  ...  0.168048  0.695202  0.301342   \n",
       "..        ...       ...       ...  ...       ...       ...       ...   \n",
       "506  0.552925  0.371441  0.298932  ...  0.379522  0.212842  0.329404   \n",
       "507  0.541294  0.376810  0.306868  ...  0.387127  0.211471  0.323899   \n",
       "508  0.524456  0.376322  0.311359  ...  0.389468  0.209447  0.316873   \n",
       "509  0.500442  0.368059  0.310852  ...  0.384714  0.206838  0.308531   \n",
       "510  0.466454  0.349348  0.303080  ...  0.370288  0.203803  0.299307   \n",
       "\n",
       "ID   44816601  44819099  44821958  44823713  44825583  44825584  44825588  \n",
       "0    0.897771  0.158309  0.834955  0.778134  0.265374  0.289891  0.291616  \n",
       "1    0.912127  0.154959  0.841040  0.817433  0.262297  0.294906  0.295861  \n",
       "2    0.912878  0.153458  0.847120  0.844659  0.262220  0.299150  0.299815  \n",
       "3    0.902746  0.154273  0.853191  0.861483  0.264174  0.303711  0.304220  \n",
       "4    0.884585  0.157581  0.859099  0.869770  0.267423  0.309208  0.309470  \n",
       "..        ...       ...       ...       ...       ...       ...       ...  \n",
       "506  0.187644  0.189555  0.161235  0.628287  0.487455  0.511470  0.350937  \n",
       "507  0.188333  0.185025  0.160343  0.590478  0.483169  0.508371  0.349258  \n",
       "508  0.189234  0.184204  0.159440  0.541530  0.478106  0.503604  0.347983  \n",
       "509  0.190327  0.186603  0.158492  0.482875  0.472310  0.497002  0.347400  \n",
       "510  0.191565  0.191181  0.157446  0.417604  0.465874  0.488497  0.347842  \n",
       "\n",
       "[511 rows x 4779 columns]"
      ]
     },
     "execution_count": 45,
     "metadata": {},
     "output_type": "execute_result"
    }
   ],
   "source": [
    "df_filtro2"
   ]
  },
  {
   "cell_type": "code",
   "execution_count": null,
   "id": "80ea70e3-9195-4fdf-bcd2-1cb576e2d7f6",
   "metadata": {},
   "outputs": [],
   "source": []
  },
  {
   "cell_type": "code",
   "execution_count": null,
   "id": "e2d0f5ca-bcee-444a-b1cc-e54192ec7051",
   "metadata": {},
   "outputs": [],
   "source": []
  },
  {
   "cell_type": "markdown",
   "id": "74a21e1c-28dc-4815-9ccf-796dc468dae8",
   "metadata": {},
   "source": [
    "# Criação da Curva Teórica de Kc"
   ]
  },
  {
   "cell_type": "code",
   "execution_count": 46,
   "id": "41b0f60f-403a-4812-b989-67bf1487bddf",
   "metadata": {},
   "outputs": [
    {
     "data": {
      "text/plain": [
       "array(['Broculos', 'Couve_repolho', 'Cenoura', 'Couveflor', 'Salsao_aipo',\n",
       "       'Cruciferas_abril (repolho, couve-flor, brócolis e couve de Bruxelas)',\n",
       "       'Cruciferas_fevereiro (repolho, couve-flor, brócolis e couve de Bruxelas)',\n",
       "       'Cruciferas_outubro_novembro (repolho, couve-flor, brócolis e couve de Bruxelas)',\n",
       "       'Alface_abril', 'Alface_novembro_janeiro',\n",
       "       'Alface_outobro_novembro', 'Alface_fevereiro', 'Cebola (seca)',\n",
       "       'Cebola (verde)', 'Cebola (semente)', 'Espinafre', 'Rabanete',\n",
       "       'Berinjela', 'Pimentaodoce', 'Tomate', 'Cantalupo_meloa_janeiro',\n",
       "       'Cantalupo_meloa_agosto', 'Pepino_junho_agosto',\n",
       "       'Pepino_novembro__fevereiro', 'Abobora',\n",
       "       'Corgette_abobrinha_abril__dezembro',\n",
       "       'Corgette_abobrinha_maio_junho', 'Melao', 'Melancia',\n",
       "       'Beterraba_abril_maio', 'Beterraba_fevereiro_marco',\n",
       "       'Batata_janeiro__novembro', 'Batata_maio', 'Batata_abril',\n",
       "       'Batatadoce', 'Beterraba_maio', 'Beterraba_novembro',\n",
       "       'Grao_Feijao_fevereiro_marco', 'Grao_Feijao_maio', 'Favas_maio1',\n",
       "       'Favas_maio2', 'Favas_marco_abril1', 'Favas_marco_abril2',\n",
       "       'Favas_novembro1', 'Favas_novembro2', 'Feijaofrade', 'Amendoim',\n",
       "       'Lentilha', 'Ervilhas_maio1', 'Ervilhas_maio2',\n",
       "       'Ervilhas_marco_abril1', 'Ervilhas_marco_abril2', 'Soja_dezembro',\n",
       "       'Soja_junho', 'Alcachofra_abril', 'Alcachofra_maio',\n",
       "       'Espargos_fevereiro', 'Linho', 'Girassol',\n",
       "       'Cevada/Aveia/Trigo_abril', 'Cevada/Aveia/Trigo_novembro',\n",
       "       'Trigoprimavera', 'Trigoinverno', 'Milhograo', 'Milhodoce',\n",
       "       'Arroz', 'Canadeacucarvirgem', 'Canadeacucarsoca', 'Banana_marco',\n",
       "       'Banana_fevereiro', 'Ananas1', 'Ananas2', 'Bagas1', 'Bagas2',\n",
       "       'Bagas3', 'Azeitona', 'Pistachio', 'Nozes', 'Amendoa'],\n",
       "      dtype=object)"
      ]
     },
     "execution_count": 46,
     "metadata": {},
     "output_type": "execute_result"
    }
   ],
   "source": [
    "TabelaNDVI[\"Crop\"].unique()"
   ]
  },
  {
   "cell_type": "code",
   "execution_count": 47,
   "id": "7d66aab6-d0d9-4bff-89e2-c5de0aee6d6a",
   "metadata": {},
   "outputs": [],
   "source": [
    "TabelaNDVIMilho=TabelaNDVI[(TabelaNDVI['Crop']==\"Milhograo\")]"
   ]
  },
  {
   "cell_type": "code",
   "execution_count": 48,
   "id": "96a86e5c-1b13-419a-aace-b968759dc357",
   "metadata": {},
   "outputs": [],
   "source": [
    "kc_ini=float(TabelaNDVIMilho[\"Kc ini\"].values)"
   ]
  },
  {
   "cell_type": "code",
   "execution_count": 49,
   "id": "173a0a03-5546-4ce6-bde5-f99765e6ba04",
   "metadata": {},
   "outputs": [],
   "source": [
    "TabelaTempoMilho=TabelaTempo[(TabelaTempo['Crop']==\"Milhograo\")]"
   ]
  },
  {
   "cell_type": "code",
   "execution_count": 50,
   "id": "cb50463a-1ada-40dd-887a-b968c04b2033",
   "metadata": {},
   "outputs": [],
   "source": [
    "temp_ini=int(TabelaTempoMilho[\"Init. (Lini)\"].values)"
   ]
  },
  {
   "cell_type": "code",
   "execution_count": 51,
   "id": "882a45ff-b767-4d7f-b881-d51ac4e2baf0",
   "metadata": {},
   "outputs": [],
   "source": [
    "listaInit=[kc_ini]*temp_ini"
   ]
  },
  {
   "cell_type": "code",
   "execution_count": 52,
   "id": "fc485d90-cc3c-47cb-9978-5d4d56fdc7b2",
   "metadata": {},
   "outputs": [
    {
     "data": {
      "text/plain": [
       "[0.3,\n",
       " 0.3,\n",
       " 0.3,\n",
       " 0.3,\n",
       " 0.3,\n",
       " 0.3,\n",
       " 0.3,\n",
       " 0.3,\n",
       " 0.3,\n",
       " 0.3,\n",
       " 0.3,\n",
       " 0.3,\n",
       " 0.3,\n",
       " 0.3,\n",
       " 0.3,\n",
       " 0.3,\n",
       " 0.3,\n",
       " 0.3,\n",
       " 0.3,\n",
       " 0.3,\n",
       " 0.3,\n",
       " 0.3,\n",
       " 0.3,\n",
       " 0.3,\n",
       " 0.3,\n",
       " 0.3,\n",
       " 0.3,\n",
       " 0.3,\n",
       " 0.3,\n",
       " 0.3]"
      ]
     },
     "execution_count": 52,
     "metadata": {},
     "output_type": "execute_result"
    }
   ],
   "source": [
    "listaInit"
   ]
  },
  {
   "cell_type": "code",
   "execution_count": 53,
   "id": "570e24ff-279b-471a-b693-871710a98504",
   "metadata": {},
   "outputs": [],
   "source": [
    "temp_dev=int(TabelaTempoMilho[\"Dev. (Ldev)\"].values)"
   ]
  },
  {
   "cell_type": "code",
   "execution_count": 54,
   "id": "8110f850-fe30-4a4a-a781-f177099a0e14",
   "metadata": {},
   "outputs": [],
   "source": [
    "an_array = np.empty((temp_dev))\n",
    "an_array[:] = np.NaN"
   ]
  },
  {
   "cell_type": "code",
   "execution_count": 55,
   "id": "297a2f62-2325-4f36-9e06-558bc1801810",
   "metadata": {},
   "outputs": [
    {
     "data": {
      "text/plain": [
       "array([nan, nan, nan, nan, nan, nan, nan, nan, nan, nan, nan, nan, nan,\n",
       "       nan, nan, nan, nan, nan, nan, nan, nan, nan, nan, nan, nan, nan,\n",
       "       nan, nan, nan, nan, nan, nan, nan, nan, nan, nan, nan, nan, nan,\n",
       "       nan])"
      ]
     },
     "execution_count": 55,
     "metadata": {},
     "output_type": "execute_result"
    }
   ],
   "source": [
    "an_array"
   ]
  },
  {
   "cell_type": "code",
   "execution_count": 56,
   "id": "c41a9652-bf09-4bf6-be61-b1ad2f5f9084",
   "metadata": {},
   "outputs": [],
   "source": [
    "kc_mid=float(TabelaNDVIMilho[\"Kc mid\"].values)\n",
    "temp_mid=int(TabelaTempoMilho[\"Mid (Lmid)\"].values)"
   ]
  },
  {
   "cell_type": "code",
   "execution_count": 57,
   "id": "a77fb6c7-9725-4cac-a973-6596ce85726a",
   "metadata": {},
   "outputs": [],
   "source": [
    "listaMid=[kc_mid]*temp_mid"
   ]
  },
  {
   "cell_type": "code",
   "execution_count": 58,
   "id": "fdc8ea7b-65ed-4a10-a6b7-a9abc3a97e74",
   "metadata": {},
   "outputs": [],
   "source": [
    "temp_late=int(TabelaTempoMilho[\"Late (Llate)\"].values)"
   ]
  },
  {
   "cell_type": "code",
   "execution_count": 59,
   "id": "ff30b2da-015d-463d-965b-4820705a5b2e",
   "metadata": {},
   "outputs": [],
   "source": [
    "an_array2 = np.empty((temp_late))\n",
    "an_array2[:] = np.NaN"
   ]
  },
  {
   "cell_type": "code",
   "execution_count": 60,
   "id": "7fc759d2-f6ca-4c5d-986e-b5338d44be12",
   "metadata": {},
   "outputs": [],
   "source": [
    "kc_end=float(TabelaNDVIMilho[\"Kc end\"].values)"
   ]
  },
  {
   "cell_type": "code",
   "execution_count": 61,
   "id": "c9eaf2b6-f665-4c7f-8d89-b1657fe46283",
   "metadata": {},
   "outputs": [],
   "source": [
    "for x in an_array:\n",
    "    listaInit.append(x)"
   ]
  },
  {
   "cell_type": "code",
   "execution_count": 62,
   "id": "0b3230ab-0af3-4182-aa7e-639c3366b4e6",
   "metadata": {},
   "outputs": [],
   "source": [
    "for x in listaMid:\n",
    "    listaInit.append(x)"
   ]
  },
  {
   "cell_type": "code",
   "execution_count": 63,
   "id": "03faa248-96e9-479d-bccd-467da0e8f12a",
   "metadata": {},
   "outputs": [],
   "source": [
    "for x in an_array2:\n",
    "    listaInit.append(x)"
   ]
  },
  {
   "cell_type": "code",
   "execution_count": 64,
   "id": "101b66c8-82fe-45cb-9a98-ccb585ba1a77",
   "metadata": {},
   "outputs": [],
   "source": [
    "listaInit.append(kc_end)"
   ]
  },
  {
   "cell_type": "code",
   "execution_count": 65,
   "id": "df1c7b6c-f926-4bf5-a094-8cb6383e429c",
   "metadata": {},
   "outputs": [],
   "source": [
    "listateoric=listaInit"
   ]
  },
  {
   "cell_type": "code",
   "execution_count": 66,
   "id": "76688c28-6eb5-4f10-8b59-0b08151452a4",
   "metadata": {},
   "outputs": [
    {
     "data": {
      "text/plain": [
       "[0.3,\n",
       " 0.3,\n",
       " 0.3,\n",
       " 0.3,\n",
       " 0.3,\n",
       " 0.3,\n",
       " 0.3,\n",
       " 0.3,\n",
       " 0.3,\n",
       " 0.3,\n",
       " 0.3,\n",
       " 0.3,\n",
       " 0.3,\n",
       " 0.3,\n",
       " 0.3,\n",
       " 0.3,\n",
       " 0.3,\n",
       " 0.3,\n",
       " 0.3,\n",
       " 0.3,\n",
       " 0.3,\n",
       " 0.3,\n",
       " 0.3,\n",
       " 0.3,\n",
       " 0.3,\n",
       " 0.3,\n",
       " 0.3,\n",
       " 0.3,\n",
       " 0.3,\n",
       " 0.3,\n",
       " nan,\n",
       " nan,\n",
       " nan,\n",
       " nan,\n",
       " nan,\n",
       " nan,\n",
       " nan,\n",
       " nan,\n",
       " nan,\n",
       " nan,\n",
       " nan,\n",
       " nan,\n",
       " nan,\n",
       " nan,\n",
       " nan,\n",
       " nan,\n",
       " nan,\n",
       " nan,\n",
       " nan,\n",
       " nan,\n",
       " nan,\n",
       " nan,\n",
       " nan,\n",
       " nan,\n",
       " nan,\n",
       " nan,\n",
       " nan,\n",
       " nan,\n",
       " nan,\n",
       " nan,\n",
       " nan,\n",
       " nan,\n",
       " nan,\n",
       " nan,\n",
       " nan,\n",
       " nan,\n",
       " nan,\n",
       " nan,\n",
       " nan,\n",
       " nan,\n",
       " 1.2,\n",
       " 1.2,\n",
       " 1.2,\n",
       " 1.2,\n",
       " 1.2,\n",
       " 1.2,\n",
       " 1.2,\n",
       " 1.2,\n",
       " 1.2,\n",
       " 1.2,\n",
       " 1.2,\n",
       " 1.2,\n",
       " 1.2,\n",
       " 1.2,\n",
       " 1.2,\n",
       " 1.2,\n",
       " 1.2,\n",
       " 1.2,\n",
       " 1.2,\n",
       " 1.2,\n",
       " 1.2,\n",
       " 1.2,\n",
       " 1.2,\n",
       " 1.2,\n",
       " 1.2,\n",
       " 1.2,\n",
       " 1.2,\n",
       " 1.2,\n",
       " 1.2,\n",
       " 1.2,\n",
       " 1.2,\n",
       " 1.2,\n",
       " 1.2,\n",
       " 1.2,\n",
       " 1.2,\n",
       " 1.2,\n",
       " 1.2,\n",
       " 1.2,\n",
       " 1.2,\n",
       " 1.2,\n",
       " 1.2,\n",
       " 1.2,\n",
       " 1.2,\n",
       " 1.2,\n",
       " 1.2,\n",
       " 1.2,\n",
       " 1.2,\n",
       " 1.2,\n",
       " 1.2,\n",
       " 1.2,\n",
       " nan,\n",
       " nan,\n",
       " nan,\n",
       " nan,\n",
       " nan,\n",
       " nan,\n",
       " nan,\n",
       " nan,\n",
       " nan,\n",
       " nan,\n",
       " nan,\n",
       " nan,\n",
       " nan,\n",
       " nan,\n",
       " nan,\n",
       " nan,\n",
       " nan,\n",
       " nan,\n",
       " nan,\n",
       " nan,\n",
       " nan,\n",
       " nan,\n",
       " nan,\n",
       " nan,\n",
       " nan,\n",
       " nan,\n",
       " nan,\n",
       " nan,\n",
       " nan,\n",
       " nan,\n",
       " 0.48]"
      ]
     },
     "execution_count": 66,
     "metadata": {},
     "output_type": "execute_result"
    }
   ],
   "source": [
    "listateoric"
   ]
  },
  {
   "cell_type": "code",
   "execution_count": 67,
   "id": "9eb359f7-0df2-429b-ac20-b61b412d6424",
   "metadata": {},
   "outputs": [
    {
     "data": {
      "text/plain": [
       "[<matplotlib.lines.Line2D at 0x1df8c686760>]"
      ]
     },
     "execution_count": 67,
     "metadata": {},
     "output_type": "execute_result"
    },
    {
     "data": {
      "image/png": "[encoded data removed]",
      "text/plain": [
       "<Figure size 432x288 with 1 Axes>"
      ]
     },
     "metadata": {
      "needs_background": "light"
     },
     "output_type": "display_data"
    }
   ],
   "source": [
    "plt.plot(listateoric)"
   ]
  },
  {
   "cell_type": "code",
   "execution_count": 68,
   "id": "7653129e-75ba-44af-99d8-39c8c12dcf33",
   "metadata": {},
   "outputs": [],
   "source": [
    "df_kcteoric = pd.DataFrame (listateoric, columns = ['Kcteoric'])"
   ]
  },
  {
   "cell_type": "code",
   "execution_count": 69,
   "id": "744ad7f4-deef-4e82-ba14-d1883f52a4af",
   "metadata": {},
   "outputs": [
    {
     "data": {
      "text/plain": [
       "<AxesSubplot:>"
      ]
     },
     "execution_count": 69,
     "metadata": {},
     "output_type": "execute_result"
    },
    {
     "data": {
      "image/png": "[encoded data removed]",
      "text/plain": [
       "<Figure size 432x288 with 1 Axes>"
      ]
     },
     "metadata": {
      "needs_background": "light"
     },
     "output_type": "display_data"
    }
   ],
   "source": [
    "df_kcteoric.interpolate(method=\"linear\").plot()"
   ]
  },
  {
   "cell_type": "code",
   "execution_count": 70,
   "id": "f2133a4f-1f11-4718-9d02-afb768fa5994",
   "metadata": {},
   "outputs": [],
   "source": [
    "df_kcteoric=df_kcteoric.interpolate(method=\"linear\")"
   ]
  },
  {
   "cell_type": "code",
   "execution_count": 71,
   "id": "f66b4de8-125c-4d46-a091-3d4e0e6e95ba",
   "metadata": {},
   "outputs": [
    {
     "data": {
      "text/plain": [
       "<AxesSubplot:xlabel='Days', ylabel='Kc'>"
      ]
     },
     "execution_count": 71,
     "metadata": {},
     "output_type": "execute_result"
    },
    {
     "data": {
      "image/png": "[encoded data removed]",
      "text/plain": [
       "<Figure size 432x288 with 1 Axes>"
      ]
     },
     "metadata": {
      "needs_background": "light"
     },
     "output_type": "display_data"
    }
   ],
   "source": [
    "df_kcteoric.plot(xlabel=\"Days\",ylabel=\"Kc\")"
   ]
  },
  {
   "cell_type": "code",
   "execution_count": null,
   "id": "02f3cbc0-e3cb-4ff4-ba84-cf2f37cf9fae",
   "metadata": {},
   "outputs": [],
   "source": []
  },
  {
   "cell_type": "code",
   "execution_count": null,
   "id": "e0080ea7-2d5e-4699-93ed-f010ef55ee9a",
   "metadata": {},
   "outputs": [],
   "source": []
  },
  {
   "cell_type": "markdown",
   "id": "7ac945ab-8e70-4d24-a2ea-4669639d12b1",
   "metadata": {},
   "source": [
    "# Criação do período melhor representativo utilizando a correlação de Pearson"
   ]
  },
  {
   "cell_type": "code",
   "execution_count": 72,
   "id": "aee81786-44ee-4356-92d6-e2fdfd0730cf",
   "metadata": {},
   "outputs": [],
   "source": [
    "import scipy.stats as stats"
   ]
  },
  {
   "cell_type": "code",
   "execution_count": 73,
   "id": "e45997b3-e1d3-403c-b216-97da960e3639",
   "metadata": {},
   "outputs": [],
   "source": [
    "windows=np.lib.stride_tricks.sliding_window_view(df_filtro, 151, axis=1)"
   ]
  },
  {
   "cell_type": "code",
   "execution_count": 74,
   "id": "c4d7e92b-ed08-42ab-a69c-d388a4d3f9d5",
   "metadata": {},
   "outputs": [
    {
     "data": {
      "text/plain": [
       "151"
      ]
     },
     "execution_count": 74,
     "metadata": {},
     "output_type": "execute_result"
    }
   ],
   "source": [
    "len(windows[0][0])"
   ]
  },
  {
   "cell_type": "code",
   "execution_count": 75,
   "id": "471ba9a4-1217-4256-a391-d4ce99a875d0",
   "metadata": {},
   "outputs": [],
   "source": [
    "z=np.arange(151)\n",
    "i=0\n",
    "maxi=[]\n",
    "corrP=[]\n",
    "s=0\n",
    "\n",
    "for z in windows:\n",
    "    for xi in windows[i]:\n",
    "        r, p = stats.pearsonr(xi,df_kcteoric['Kcteoric'])\n",
    "        corrP.append(r)\n",
    "    aws=np.array(corrP)\n",
    "    maxi.append(aws.argmax())   \n",
    "    i=i+1\n",
    "    corrP=[]\n",
    "max_array = np.array(maxi)"
   ]
  },
  {
   "cell_type": "markdown",
   "id": "2af0e8c5-1665-42aa-abb8-f525c52783d2",
   "metadata": {},
   "source": [
    "# Correlação de Pearson >=0.9"
   ]
  },
  {
   "cell_type": "code",
   "execution_count": 76,
   "id": "087a03cc-db1b-4f5d-9963-c8a9e934f8f4",
   "metadata": {},
   "outputs": [],
   "source": [
    "lista_corr=[]\n",
    "i=0\n",
    "for x in max_array:\n",
    "    r, p = stats.pearsonr(windows[i][x],df_kcteoric['Kcteoric'])\n",
    "    if r>=0.9:\n",
    "        lista_corr.append(windows[i][x])\n",
    "    i=i+1"
   ]
  },
  {
   "cell_type": "code",
   "execution_count": 77,
   "id": "af8d5383-6d0c-41ad-85f7-6a8149fad206",
   "metadata": {},
   "outputs": [],
   "source": [
    "df_melhor= pd.DataFrame(data=lista_corr, index=df_trans.index[:4345])"
   ]
  },
  {
   "cell_type": "code",
   "execution_count": 78,
   "id": "a46fc27b-0222-49cd-b5d1-599b4e30a7ac",
   "metadata": {},
   "outputs": [],
   "source": [
    "df_train_melhor=df_melhor[:-1303]"
   ]
  },
  {
   "cell_type": "code",
   "execution_count": 79,
   "id": "02a895a7-cd20-427e-9464-8d4b4f8caa30",
   "metadata": {},
   "outputs": [
    {
     "data": {
      "text/html": [
       "<div>\n",
       "<style scoped>\n",
       "    .dataframe tbody tr th:only-of-type {\n",
       "        vertical-align: middle;\n",
       "    }\n",
       "\n",
       "    .dataframe tbody tr th {\n",
       "        vertical-align: top;\n",
       "    }\n",
       "\n",
       "    .dataframe thead th {\n",
       "        text-align: right;\n",
       "    }\n",
       "</style>\n",
       "<table border=\"1\" class=\"dataframe\">\n",
       "  <thead>\n",
       "    <tr style=\"text-align: right;\">\n",
       "      <th></th>\n",
       "      <th>0</th>\n",
       "      <th>1</th>\n",
       "      <th>2</th>\n",
       "      <th>3</th>\n",
       "      <th>4</th>\n",
       "      <th>5</th>\n",
       "      <th>6</th>\n",
       "      <th>7</th>\n",
       "      <th>8</th>\n",
       "      <th>9</th>\n",
       "      <th>...</th>\n",
       "      <th>141</th>\n",
       "      <th>142</th>\n",
       "      <th>143</th>\n",
       "      <th>144</th>\n",
       "      <th>145</th>\n",
       "      <th>146</th>\n",
       "      <th>147</th>\n",
       "      <th>148</th>\n",
       "      <th>149</th>\n",
       "      <th>150</th>\n",
       "    </tr>\n",
       "    <tr>\n",
       "      <th>ID</th>\n",
       "      <th></th>\n",
       "      <th></th>\n",
       "      <th></th>\n",
       "      <th></th>\n",
       "      <th></th>\n",
       "      <th></th>\n",
       "      <th></th>\n",
       "      <th></th>\n",
       "      <th></th>\n",
       "      <th></th>\n",
       "      <th></th>\n",
       "      <th></th>\n",
       "      <th></th>\n",
       "      <th></th>\n",
       "      <th></th>\n",
       "      <th></th>\n",
       "      <th></th>\n",
       "      <th></th>\n",
       "      <th></th>\n",
       "      <th></th>\n",
       "      <th></th>\n",
       "    </tr>\n",
       "  </thead>\n",
       "  <tbody>\n",
       "    <tr>\n",
       "      <th>26742</th>\n",
       "      <td>0.280677</td>\n",
       "      <td>0.247293</td>\n",
       "      <td>0.248641</td>\n",
       "      <td>0.264244</td>\n",
       "      <td>0.280515</td>\n",
       "      <td>0.289451</td>\n",
       "      <td>0.287422</td>\n",
       "      <td>0.274091</td>\n",
       "      <td>0.251438</td>\n",
       "      <td>0.222905</td>\n",
       "      <td>...</td>\n",
       "      <td>0.253309</td>\n",
       "      <td>0.205395</td>\n",
       "      <td>0.159386</td>\n",
       "      <td>0.119256</td>\n",
       "      <td>0.088049</td>\n",
       "      <td>0.067956</td>\n",
       "      <td>0.059748</td>\n",
       "      <td>0.062470</td>\n",
       "      <td>0.073268</td>\n",
       "      <td>0.088877</td>\n",
       "    </tr>\n",
       "    <tr>\n",
       "      <th>142399</th>\n",
       "      <td>0.333029</td>\n",
       "      <td>0.316644</td>\n",
       "      <td>0.297726</td>\n",
       "      <td>0.277142</td>\n",
       "      <td>0.256130</td>\n",
       "      <td>0.236109</td>\n",
       "      <td>0.218476</td>\n",
       "      <td>0.204350</td>\n",
       "      <td>0.194335</td>\n",
       "      <td>0.187960</td>\n",
       "      <td>...</td>\n",
       "      <td>0.550744</td>\n",
       "      <td>0.535759</td>\n",
       "      <td>0.520958</td>\n",
       "      <td>0.505992</td>\n",
       "      <td>0.491039</td>\n",
       "      <td>0.476180</td>\n",
       "      <td>0.461089</td>\n",
       "      <td>0.445459</td>\n",
       "      <td>0.428982</td>\n",
       "      <td>0.412122</td>\n",
       "    </tr>\n",
       "    <tr>\n",
       "      <th>147088</th>\n",
       "      <td>0.203654</td>\n",
       "      <td>0.198472</td>\n",
       "      <td>0.193234</td>\n",
       "      <td>0.187995</td>\n",
       "      <td>0.182809</td>\n",
       "      <td>0.177713</td>\n",
       "      <td>0.172756</td>\n",
       "      <td>0.168075</td>\n",
       "      <td>0.164082</td>\n",
       "      <td>0.161818</td>\n",
       "      <td>...</td>\n",
       "      <td>0.515057</td>\n",
       "      <td>0.448774</td>\n",
       "      <td>0.397182</td>\n",
       "      <td>0.352948</td>\n",
       "      <td>0.318967</td>\n",
       "      <td>0.291825</td>\n",
       "      <td>0.267701</td>\n",
       "      <td>0.246036</td>\n",
       "      <td>0.235402</td>\n",
       "      <td>0.230191</td>\n",
       "    </tr>\n",
       "    <tr>\n",
       "      <th>270735</th>\n",
       "      <td>0.142772</td>\n",
       "      <td>0.139843</td>\n",
       "      <td>0.138488</td>\n",
       "      <td>0.138136</td>\n",
       "      <td>0.138187</td>\n",
       "      <td>0.138563</td>\n",
       "      <td>0.138260</td>\n",
       "      <td>0.137420</td>\n",
       "      <td>0.136770</td>\n",
       "      <td>0.137159</td>\n",
       "      <td>...</td>\n",
       "      <td>0.295563</td>\n",
       "      <td>0.258341</td>\n",
       "      <td>0.231730</td>\n",
       "      <td>0.213510</td>\n",
       "      <td>0.202406</td>\n",
       "      <td>0.200714</td>\n",
       "      <td>0.203888</td>\n",
       "      <td>0.209335</td>\n",
       "      <td>0.214825</td>\n",
       "      <td>0.218877</td>\n",
       "    </tr>\n",
       "    <tr>\n",
       "      <th>270992</th>\n",
       "      <td>0.136679</td>\n",
       "      <td>0.135492</td>\n",
       "      <td>0.135265</td>\n",
       "      <td>0.135419</td>\n",
       "      <td>0.135846</td>\n",
       "      <td>0.135668</td>\n",
       "      <td>0.135018</td>\n",
       "      <td>0.134557</td>\n",
       "      <td>0.135043</td>\n",
       "      <td>0.136923</td>\n",
       "      <td>...</td>\n",
       "      <td>0.275919</td>\n",
       "      <td>0.224281</td>\n",
       "      <td>0.190503</td>\n",
       "      <td>0.173983</td>\n",
       "      <td>0.173226</td>\n",
       "      <td>0.181558</td>\n",
       "      <td>0.192148</td>\n",
       "      <td>0.198973</td>\n",
       "      <td>0.199344</td>\n",
       "      <td>0.198466</td>\n",
       "    </tr>\n",
       "    <tr>\n",
       "      <th>...</th>\n",
       "      <td>...</td>\n",
       "      <td>...</td>\n",
       "      <td>...</td>\n",
       "      <td>...</td>\n",
       "      <td>...</td>\n",
       "      <td>...</td>\n",
       "      <td>...</td>\n",
       "      <td>...</td>\n",
       "      <td>...</td>\n",
       "      <td>...</td>\n",
       "      <td>...</td>\n",
       "      <td>...</td>\n",
       "      <td>...</td>\n",
       "      <td>...</td>\n",
       "      <td>...</td>\n",
       "      <td>...</td>\n",
       "      <td>...</td>\n",
       "      <td>...</td>\n",
       "      <td>...</td>\n",
       "      <td>...</td>\n",
       "      <td>...</td>\n",
       "    </tr>\n",
       "    <tr>\n",
       "      <th>39102133</th>\n",
       "      <td>0.333328</td>\n",
       "      <td>0.319457</td>\n",
       "      <td>0.308036</td>\n",
       "      <td>0.299721</td>\n",
       "      <td>0.294728</td>\n",
       "      <td>0.292808</td>\n",
       "      <td>0.293302</td>\n",
       "      <td>0.295058</td>\n",
       "      <td>0.297408</td>\n",
       "      <td>0.299246</td>\n",
       "      <td>...</td>\n",
       "      <td>0.571667</td>\n",
       "      <td>0.550617</td>\n",
       "      <td>0.534035</td>\n",
       "      <td>0.521036</td>\n",
       "      <td>0.510132</td>\n",
       "      <td>0.499788</td>\n",
       "      <td>0.489376</td>\n",
       "      <td>0.480350</td>\n",
       "      <td>0.471571</td>\n",
       "      <td>0.463021</td>\n",
       "    </tr>\n",
       "    <tr>\n",
       "      <th>39102142</th>\n",
       "      <td>0.373001</td>\n",
       "      <td>0.353029</td>\n",
       "      <td>0.332056</td>\n",
       "      <td>0.310484</td>\n",
       "      <td>0.288717</td>\n",
       "      <td>0.267295</td>\n",
       "      <td>0.246909</td>\n",
       "      <td>0.228352</td>\n",
       "      <td>0.212313</td>\n",
       "      <td>0.199399</td>\n",
       "      <td>...</td>\n",
       "      <td>0.510087</td>\n",
       "      <td>0.454343</td>\n",
       "      <td>0.405882</td>\n",
       "      <td>0.369208</td>\n",
       "      <td>0.346974</td>\n",
       "      <td>0.339561</td>\n",
       "      <td>0.344954</td>\n",
       "      <td>0.358991</td>\n",
       "      <td>0.376013</td>\n",
       "      <td>0.389957</td>\n",
       "    </tr>\n",
       "    <tr>\n",
       "      <th>39102151</th>\n",
       "      <td>0.336876</td>\n",
       "      <td>0.318165</td>\n",
       "      <td>0.299682</td>\n",
       "      <td>0.281477</td>\n",
       "      <td>0.263741</td>\n",
       "      <td>0.246814</td>\n",
       "      <td>0.231131</td>\n",
       "      <td>0.217142</td>\n",
       "      <td>0.205234</td>\n",
       "      <td>0.195713</td>\n",
       "      <td>...</td>\n",
       "      <td>0.511160</td>\n",
       "      <td>0.480360</td>\n",
       "      <td>0.455999</td>\n",
       "      <td>0.438387</td>\n",
       "      <td>0.426650</td>\n",
       "      <td>0.418892</td>\n",
       "      <td>0.412603</td>\n",
       "      <td>0.405462</td>\n",
       "      <td>0.396447</td>\n",
       "      <td>0.387907</td>\n",
       "    </tr>\n",
       "    <tr>\n",
       "      <th>39102230</th>\n",
       "      <td>0.379727</td>\n",
       "      <td>0.362764</td>\n",
       "      <td>0.344961</td>\n",
       "      <td>0.325703</td>\n",
       "      <td>0.305565</td>\n",
       "      <td>0.285790</td>\n",
       "      <td>0.267837</td>\n",
       "      <td>0.253032</td>\n",
       "      <td>0.242336</td>\n",
       "      <td>0.236175</td>\n",
       "      <td>...</td>\n",
       "      <td>0.694592</td>\n",
       "      <td>0.656140</td>\n",
       "      <td>0.622526</td>\n",
       "      <td>0.597027</td>\n",
       "      <td>0.581518</td>\n",
       "      <td>0.576181</td>\n",
       "      <td>0.579438</td>\n",
       "      <td>0.588133</td>\n",
       "      <td>0.598025</td>\n",
       "      <td>0.604624</td>\n",
       "    </tr>\n",
       "    <tr>\n",
       "      <th>39111243</th>\n",
       "      <td>0.157572</td>\n",
       "      <td>0.159034</td>\n",
       "      <td>0.159565</td>\n",
       "      <td>0.159667</td>\n",
       "      <td>0.159879</td>\n",
       "      <td>0.160649</td>\n",
       "      <td>0.162294</td>\n",
       "      <td>0.164920</td>\n",
       "      <td>0.168361</td>\n",
       "      <td>0.171851</td>\n",
       "      <td>...</td>\n",
       "      <td>0.574636</td>\n",
       "      <td>0.564552</td>\n",
       "      <td>0.554186</td>\n",
       "      <td>0.545089</td>\n",
       "      <td>0.538514</td>\n",
       "      <td>0.535136</td>\n",
       "      <td>0.535015</td>\n",
       "      <td>0.537539</td>\n",
       "      <td>0.541397</td>\n",
       "      <td>0.544550</td>\n",
       "    </tr>\n",
       "  </tbody>\n",
       "</table>\n",
       "<p>3042 rows × 151 columns</p>\n",
       "</div>"
      ],
      "text/plain": [
       "               0         1         2         3         4         5    \\\n",
       "ID                                                                     \n",
       "26742     0.280677  0.247293  0.248641  0.264244  0.280515  0.289451   \n",
       "142399    0.333029  0.316644  0.297726  0.277142  0.256130  0.236109   \n",
       "147088    0.203654  0.198472  0.193234  0.187995  0.182809  0.177713   \n",
       "270735    0.142772  0.139843  0.138488  0.138136  0.138187  0.138563   \n",
       "270992    0.136679  0.135492  0.135265  0.135419  0.135846  0.135668   \n",
       "...            ...       ...       ...       ...       ...       ...   \n",
       "39102133  0.333328  0.319457  0.308036  0.299721  0.294728  0.292808   \n",
       "39102142  0.373001  0.353029  0.332056  0.310484  0.288717  0.267295   \n",
       "39102151  0.336876  0.318165  0.299682  0.281477  0.263741  0.246814   \n",
       "39102230  0.379727  0.362764  0.344961  0.325703  0.305565  0.285790   \n",
       "39111243  0.157572  0.159034  0.159565  0.159667  0.159879  0.160649   \n",
       "\n",
       "               6         7         8         9    ...       141       142  \\\n",
       "ID                                                ...                       \n",
       "26742     0.287422  0.274091  0.251438  0.222905  ...  0.253309  0.205395   \n",
       "142399    0.218476  0.204350  0.194335  0.187960  ...  0.550744  0.535759   \n",
       "147088    0.172756  0.168075  0.164082  0.161818  ...  0.515057  0.448774   \n",
       "270735    0.138260  0.137420  0.136770  0.137159  ...  0.295563  0.258341   \n",
       "270992    0.135018  0.134557  0.135043  0.136923  ...  0.275919  0.224281   \n",
       "...            ...       ...       ...       ...  ...       ...       ...   \n",
       "39102133  0.293302  0.295058  0.297408  0.299246  ...  0.571667  0.550617   \n",
       "39102142  0.246909  0.228352  0.212313  0.199399  ...  0.510087  0.454343   \n",
       "39102151  0.231131  0.217142  0.205234  0.195713  ...  0.511160  0.480360   \n",
       "39102230  0.267837  0.253032  0.242336  0.236175  ...  0.694592  0.656140   \n",
       "39111243  0.162294  0.164920  0.168361  0.171851  ...  0.574636  0.564552   \n",
       "\n",
       "               143       144       145       146       147       148  \\\n",
       "ID                                                                     \n",
       "26742     0.159386  0.119256  0.088049  0.067956  0.059748  0.062470   \n",
       "142399    0.520958  0.505992  0.491039  0.476180  0.461089  0.445459   \n",
       "147088    0.397182  0.352948  0.318967  0.291825  0.267701  0.246036   \n",
       "270735    0.231730  0.213510  0.202406  0.200714  0.203888  0.209335   \n",
       "270992    0.190503  0.173983  0.173226  0.181558  0.192148  0.198973   \n",
       "...            ...       ...       ...       ...       ...       ...   \n",
       "39102133  0.534035  0.521036  0.510132  0.499788  0.489376  0.480350   \n",
       "39102142  0.405882  0.369208  0.346974  0.339561  0.344954  0.358991   \n",
       "39102151  0.455999  0.438387  0.426650  0.418892  0.412603  0.405462   \n",
       "39102230  0.622526  0.597027  0.581518  0.576181  0.579438  0.588133   \n",
       "39111243  0.554186  0.545089  0.538514  0.535136  0.535015  0.537539   \n",
       "\n",
       "               149       150  \n",
       "ID                            \n",
       "26742     0.073268  0.088877  \n",
       "142399    0.428982  0.412122  \n",
       "147088    0.235402  0.230191  \n",
       "270735    0.214825  0.218877  \n",
       "270992    0.199344  0.198466  \n",
       "...            ...       ...  \n",
       "39102133  0.471571  0.463021  \n",
       "39102142  0.376013  0.389957  \n",
       "39102151  0.396447  0.387907  \n",
       "39102230  0.598025  0.604624  \n",
       "39111243  0.541397  0.544550  \n",
       "\n",
       "[3042 rows x 151 columns]"
      ]
     },
     "execution_count": 79,
     "metadata": {},
     "output_type": "execute_result"
    }
   ],
   "source": [
    "df_train_melhor"
   ]
  },
  {
   "cell_type": "code",
   "execution_count": 80,
   "id": "f4bfbace-ede3-4e41-9d34-dfd3df659c9a",
   "metadata": {},
   "outputs": [],
   "source": [
    "df_train_melhor2=df_train_melhor.T"
   ]
  },
  {
   "cell_type": "code",
   "execution_count": 81,
   "id": "eaac62a0-3c8c-4d46-8461-1f5d28bf2798",
   "metadata": {},
   "outputs": [
    {
     "data": {
      "text/html": [
       "<div>\n",
       "<style scoped>\n",
       "    .dataframe tbody tr th:only-of-type {\n",
       "        vertical-align: middle;\n",
       "    }\n",
       "\n",
       "    .dataframe tbody tr th {\n",
       "        vertical-align: top;\n",
       "    }\n",
       "\n",
       "    .dataframe thead th {\n",
       "        text-align: right;\n",
       "    }\n",
       "</style>\n",
       "<table border=\"1\" class=\"dataframe\">\n",
       "  <thead>\n",
       "    <tr style=\"text-align: right;\">\n",
       "      <th>ID</th>\n",
       "      <th>26742</th>\n",
       "      <th>142399</th>\n",
       "      <th>147088</th>\n",
       "      <th>270735</th>\n",
       "      <th>270992</th>\n",
       "      <th>453335</th>\n",
       "      <th>744056</th>\n",
       "      <th>842397</th>\n",
       "      <th>1305223</th>\n",
       "      <th>1305481</th>\n",
       "      <th>...</th>\n",
       "      <th>39102066</th>\n",
       "      <th>39102068</th>\n",
       "      <th>39102087</th>\n",
       "      <th>39102129</th>\n",
       "      <th>39102131</th>\n",
       "      <th>39102133</th>\n",
       "      <th>39102142</th>\n",
       "      <th>39102151</th>\n",
       "      <th>39102230</th>\n",
       "      <th>39111243</th>\n",
       "    </tr>\n",
       "  </thead>\n",
       "  <tbody>\n",
       "    <tr>\n",
       "      <th>0</th>\n",
       "      <td>0.280677</td>\n",
       "      <td>0.333029</td>\n",
       "      <td>0.203654</td>\n",
       "      <td>0.142772</td>\n",
       "      <td>0.136679</td>\n",
       "      <td>0.273892</td>\n",
       "      <td>0.352601</td>\n",
       "      <td>0.166322</td>\n",
       "      <td>0.195131</td>\n",
       "      <td>0.183945</td>\n",
       "      <td>...</td>\n",
       "      <td>0.140474</td>\n",
       "      <td>0.219455</td>\n",
       "      <td>0.216829</td>\n",
       "      <td>0.153746</td>\n",
       "      <td>0.213200</td>\n",
       "      <td>0.333328</td>\n",
       "      <td>0.373001</td>\n",
       "      <td>0.336876</td>\n",
       "      <td>0.379727</td>\n",
       "      <td>0.157572</td>\n",
       "    </tr>\n",
       "    <tr>\n",
       "      <th>1</th>\n",
       "      <td>0.247293</td>\n",
       "      <td>0.316644</td>\n",
       "      <td>0.198472</td>\n",
       "      <td>0.139843</td>\n",
       "      <td>0.135492</td>\n",
       "      <td>0.239851</td>\n",
       "      <td>0.353103</td>\n",
       "      <td>0.166047</td>\n",
       "      <td>0.189576</td>\n",
       "      <td>0.196214</td>\n",
       "      <td>...</td>\n",
       "      <td>0.138207</td>\n",
       "      <td>0.219883</td>\n",
       "      <td>0.207265</td>\n",
       "      <td>0.159497</td>\n",
       "      <td>0.219807</td>\n",
       "      <td>0.319457</td>\n",
       "      <td>0.353029</td>\n",
       "      <td>0.318165</td>\n",
       "      <td>0.362764</td>\n",
       "      <td>0.159034</td>\n",
       "    </tr>\n",
       "    <tr>\n",
       "      <th>2</th>\n",
       "      <td>0.248641</td>\n",
       "      <td>0.297726</td>\n",
       "      <td>0.193234</td>\n",
       "      <td>0.138488</td>\n",
       "      <td>0.135265</td>\n",
       "      <td>0.217914</td>\n",
       "      <td>0.353603</td>\n",
       "      <td>0.165545</td>\n",
       "      <td>0.185956</td>\n",
       "      <td>0.208551</td>\n",
       "      <td>...</td>\n",
       "      <td>0.136915</td>\n",
       "      <td>0.219249</td>\n",
       "      <td>0.198846</td>\n",
       "      <td>0.165249</td>\n",
       "      <td>0.226352</td>\n",
       "      <td>0.308036</td>\n",
       "      <td>0.332056</td>\n",
       "      <td>0.299682</td>\n",
       "      <td>0.344961</td>\n",
       "      <td>0.159565</td>\n",
       "    </tr>\n",
       "    <tr>\n",
       "      <th>3</th>\n",
       "      <td>0.264244</td>\n",
       "      <td>0.277142</td>\n",
       "      <td>0.187995</td>\n",
       "      <td>0.138136</td>\n",
       "      <td>0.135419</td>\n",
       "      <td>0.205545</td>\n",
       "      <td>0.354344</td>\n",
       "      <td>0.164652</td>\n",
       "      <td>0.184345</td>\n",
       "      <td>0.219524</td>\n",
       "      <td>...</td>\n",
       "      <td>0.136046</td>\n",
       "      <td>0.217498</td>\n",
       "      <td>0.191983</td>\n",
       "      <td>0.170115</td>\n",
       "      <td>0.232341</td>\n",
       "      <td>0.299721</td>\n",
       "      <td>0.310484</td>\n",
       "      <td>0.281477</td>\n",
       "      <td>0.325703</td>\n",
       "      <td>0.159667</td>\n",
       "    </tr>\n",
       "    <tr>\n",
       "      <th>4</th>\n",
       "      <td>0.280515</td>\n",
       "      <td>0.256130</td>\n",
       "      <td>0.182809</td>\n",
       "      <td>0.138187</td>\n",
       "      <td>0.135846</td>\n",
       "      <td>0.198833</td>\n",
       "      <td>0.354781</td>\n",
       "      <td>0.163385</td>\n",
       "      <td>0.184352</td>\n",
       "      <td>0.227934</td>\n",
       "      <td>...</td>\n",
       "      <td>0.136247</td>\n",
       "      <td>0.214689</td>\n",
       "      <td>0.186951</td>\n",
       "      <td>0.173284</td>\n",
       "      <td>0.237245</td>\n",
       "      <td>0.294728</td>\n",
       "      <td>0.288717</td>\n",
       "      <td>0.263741</td>\n",
       "      <td>0.305565</td>\n",
       "      <td>0.159879</td>\n",
       "    </tr>\n",
       "    <tr>\n",
       "      <th>...</th>\n",
       "      <td>...</td>\n",
       "      <td>...</td>\n",
       "      <td>...</td>\n",
       "      <td>...</td>\n",
       "      <td>...</td>\n",
       "      <td>...</td>\n",
       "      <td>...</td>\n",
       "      <td>...</td>\n",
       "      <td>...</td>\n",
       "      <td>...</td>\n",
       "      <td>...</td>\n",
       "      <td>...</td>\n",
       "      <td>...</td>\n",
       "      <td>...</td>\n",
       "      <td>...</td>\n",
       "      <td>...</td>\n",
       "      <td>...</td>\n",
       "      <td>...</td>\n",
       "      <td>...</td>\n",
       "      <td>...</td>\n",
       "      <td>...</td>\n",
       "    </tr>\n",
       "    <tr>\n",
       "      <th>146</th>\n",
       "      <td>0.067956</td>\n",
       "      <td>0.476180</td>\n",
       "      <td>0.291825</td>\n",
       "      <td>0.200714</td>\n",
       "      <td>0.181558</td>\n",
       "      <td>0.360200</td>\n",
       "      <td>0.419067</td>\n",
       "      <td>0.507994</td>\n",
       "      <td>0.458805</td>\n",
       "      <td>0.586031</td>\n",
       "      <td>...</td>\n",
       "      <td>0.572582</td>\n",
       "      <td>0.658469</td>\n",
       "      <td>0.452775</td>\n",
       "      <td>0.554314</td>\n",
       "      <td>0.552048</td>\n",
       "      <td>0.499788</td>\n",
       "      <td>0.339561</td>\n",
       "      <td>0.418892</td>\n",
       "      <td>0.576181</td>\n",
       "      <td>0.535136</td>\n",
       "    </tr>\n",
       "    <tr>\n",
       "      <th>147</th>\n",
       "      <td>0.059748</td>\n",
       "      <td>0.461089</td>\n",
       "      <td>0.267701</td>\n",
       "      <td>0.203888</td>\n",
       "      <td>0.192148</td>\n",
       "      <td>0.351637</td>\n",
       "      <td>0.418164</td>\n",
       "      <td>0.484784</td>\n",
       "      <td>0.450130</td>\n",
       "      <td>0.578793</td>\n",
       "      <td>...</td>\n",
       "      <td>0.544075</td>\n",
       "      <td>0.647662</td>\n",
       "      <td>0.432400</td>\n",
       "      <td>0.544886</td>\n",
       "      <td>0.533978</td>\n",
       "      <td>0.489376</td>\n",
       "      <td>0.344954</td>\n",
       "      <td>0.412603</td>\n",
       "      <td>0.579438</td>\n",
       "      <td>0.535015</td>\n",
       "    </tr>\n",
       "    <tr>\n",
       "      <th>148</th>\n",
       "      <td>0.062470</td>\n",
       "      <td>0.445459</td>\n",
       "      <td>0.246036</td>\n",
       "      <td>0.209335</td>\n",
       "      <td>0.198973</td>\n",
       "      <td>0.345354</td>\n",
       "      <td>0.417081</td>\n",
       "      <td>0.466541</td>\n",
       "      <td>0.443248</td>\n",
       "      <td>0.571414</td>\n",
       "      <td>...</td>\n",
       "      <td>0.514624</td>\n",
       "      <td>0.634103</td>\n",
       "      <td>0.412452</td>\n",
       "      <td>0.537452</td>\n",
       "      <td>0.516985</td>\n",
       "      <td>0.480350</td>\n",
       "      <td>0.358991</td>\n",
       "      <td>0.405462</td>\n",
       "      <td>0.588133</td>\n",
       "      <td>0.537539</td>\n",
       "    </tr>\n",
       "    <tr>\n",
       "      <th>149</th>\n",
       "      <td>0.073268</td>\n",
       "      <td>0.428982</td>\n",
       "      <td>0.235402</td>\n",
       "      <td>0.214825</td>\n",
       "      <td>0.199344</td>\n",
       "      <td>0.340016</td>\n",
       "      <td>0.415741</td>\n",
       "      <td>0.453063</td>\n",
       "      <td>0.438370</td>\n",
       "      <td>0.563616</td>\n",
       "      <td>...</td>\n",
       "      <td>0.485454</td>\n",
       "      <td>0.615941</td>\n",
       "      <td>0.394260</td>\n",
       "      <td>0.532078</td>\n",
       "      <td>0.501110</td>\n",
       "      <td>0.471571</td>\n",
       "      <td>0.376013</td>\n",
       "      <td>0.396447</td>\n",
       "      <td>0.598025</td>\n",
       "      <td>0.541397</td>\n",
       "    </tr>\n",
       "    <tr>\n",
       "      <th>150</th>\n",
       "      <td>0.088877</td>\n",
       "      <td>0.412122</td>\n",
       "      <td>0.230191</td>\n",
       "      <td>0.218877</td>\n",
       "      <td>0.198466</td>\n",
       "      <td>0.334980</td>\n",
       "      <td>0.414227</td>\n",
       "      <td>0.442918</td>\n",
       "      <td>0.434297</td>\n",
       "      <td>0.554345</td>\n",
       "      <td>...</td>\n",
       "      <td>0.458393</td>\n",
       "      <td>0.592004</td>\n",
       "      <td>0.378971</td>\n",
       "      <td>0.530101</td>\n",
       "      <td>0.487598</td>\n",
       "      <td>0.463021</td>\n",
       "      <td>0.389957</td>\n",
       "      <td>0.387907</td>\n",
       "      <td>0.604624</td>\n",
       "      <td>0.544550</td>\n",
       "    </tr>\n",
       "  </tbody>\n",
       "</table>\n",
       "<p>151 rows × 3042 columns</p>\n",
       "</div>"
      ],
      "text/plain": [
       "ID   26742     142399    147088    270735    270992    453335    744056    \\\n",
       "0    0.280677  0.333029  0.203654  0.142772  0.136679  0.273892  0.352601   \n",
       "1    0.247293  0.316644  0.198472  0.139843  0.135492  0.239851  0.353103   \n",
       "2    0.248641  0.297726  0.193234  0.138488  0.135265  0.217914  0.353603   \n",
       "3    0.264244  0.277142  0.187995  0.138136  0.135419  0.205545  0.354344   \n",
       "4    0.280515  0.256130  0.182809  0.138187  0.135846  0.198833  0.354781   \n",
       "..        ...       ...       ...       ...       ...       ...       ...   \n",
       "146  0.067956  0.476180  0.291825  0.200714  0.181558  0.360200  0.419067   \n",
       "147  0.059748  0.461089  0.267701  0.203888  0.192148  0.351637  0.418164   \n",
       "148  0.062470  0.445459  0.246036  0.209335  0.198973  0.345354  0.417081   \n",
       "149  0.073268  0.428982  0.235402  0.214825  0.199344  0.340016  0.415741   \n",
       "150  0.088877  0.412122  0.230191  0.218877  0.198466  0.334980  0.414227   \n",
       "\n",
       "ID   842397    1305223   1305481   ...  39102066  39102068  39102087  \\\n",
       "0    0.166322  0.195131  0.183945  ...  0.140474  0.219455  0.216829   \n",
       "1    0.166047  0.189576  0.196214  ...  0.138207  0.219883  0.207265   \n",
       "2    0.165545  0.185956  0.208551  ...  0.136915  0.219249  0.198846   \n",
       "3    0.164652  0.184345  0.219524  ...  0.136046  0.217498  0.191983   \n",
       "4    0.163385  0.184352  0.227934  ...  0.136247  0.214689  0.186951   \n",
       "..        ...       ...       ...  ...       ...       ...       ...   \n",
       "146  0.507994  0.458805  0.586031  ...  0.572582  0.658469  0.452775   \n",
       "147  0.484784  0.450130  0.578793  ...  0.544075  0.647662  0.432400   \n",
       "148  0.466541  0.443248  0.571414  ...  0.514624  0.634103  0.412452   \n",
       "149  0.453063  0.438370  0.563616  ...  0.485454  0.615941  0.394260   \n",
       "150  0.442918  0.434297  0.554345  ...  0.458393  0.592004  0.378971   \n",
       "\n",
       "ID   39102129  39102131  39102133  39102142  39102151  39102230  39111243  \n",
       "0    0.153746  0.213200  0.333328  0.373001  0.336876  0.379727  0.157572  \n",
       "1    0.159497  0.219807  0.319457  0.353029  0.318165  0.362764  0.159034  \n",
       "2    0.165249  0.226352  0.308036  0.332056  0.299682  0.344961  0.159565  \n",
       "3    0.170115  0.232341  0.299721  0.310484  0.281477  0.325703  0.159667  \n",
       "4    0.173284  0.237245  0.294728  0.288717  0.263741  0.305565  0.159879  \n",
       "..        ...       ...       ...       ...       ...       ...       ...  \n",
       "146  0.554314  0.552048  0.499788  0.339561  0.418892  0.576181  0.535136  \n",
       "147  0.544886  0.533978  0.489376  0.344954  0.412603  0.579438  0.535015  \n",
       "148  0.537452  0.516985  0.480350  0.358991  0.405462  0.588133  0.537539  \n",
       "149  0.532078  0.501110  0.471571  0.376013  0.396447  0.598025  0.541397  \n",
       "150  0.530101  0.487598  0.463021  0.389957  0.387907  0.604624  0.544550  \n",
       "\n",
       "[151 rows x 3042 columns]"
      ]
     },
     "execution_count": 81,
     "metadata": {},
     "output_type": "execute_result"
    }
   ],
   "source": [
    "df_train_melhor2"
   ]
  },
  {
   "cell_type": "code",
   "execution_count": 82,
   "id": "87a72242-d188-4a45-b67f-b280c1a5e862",
   "metadata": {},
   "outputs": [],
   "source": [
    "df_melhor2=df_melhor.T"
   ]
  },
  {
   "cell_type": "code",
   "execution_count": 83,
   "id": "e01a5164-0472-4c77-9123-5b0be5cc122b",
   "metadata": {},
   "outputs": [
    {
     "data": {
      "text/html": [
       "<div>\n",
       "<style scoped>\n",
       "    .dataframe tbody tr th:only-of-type {\n",
       "        vertical-align: middle;\n",
       "    }\n",
       "\n",
       "    .dataframe tbody tr th {\n",
       "        vertical-align: top;\n",
       "    }\n",
       "\n",
       "    .dataframe thead th {\n",
       "        text-align: right;\n",
       "    }\n",
       "</style>\n",
       "<table border=\"1\" class=\"dataframe\">\n",
       "  <thead>\n",
       "    <tr style=\"text-align: right;\">\n",
       "      <th>ID</th>\n",
       "      <th>26742</th>\n",
       "      <th>142399</th>\n",
       "      <th>147088</th>\n",
       "      <th>270735</th>\n",
       "      <th>270992</th>\n",
       "      <th>453335</th>\n",
       "      <th>744056</th>\n",
       "      <th>842397</th>\n",
       "      <th>1305223</th>\n",
       "      <th>1305481</th>\n",
       "      <th>...</th>\n",
       "      <th>43658397</th>\n",
       "      <th>43669186</th>\n",
       "      <th>43671310</th>\n",
       "      <th>43671327</th>\n",
       "      <th>43671341</th>\n",
       "      <th>43671361</th>\n",
       "      <th>43671372</th>\n",
       "      <th>43671383</th>\n",
       "      <th>43671391</th>\n",
       "      <th>43671393</th>\n",
       "    </tr>\n",
       "  </thead>\n",
       "  <tbody>\n",
       "    <tr>\n",
       "      <th>0</th>\n",
       "      <td>0.280677</td>\n",
       "      <td>0.333029</td>\n",
       "      <td>0.203654</td>\n",
       "      <td>0.142772</td>\n",
       "      <td>0.136679</td>\n",
       "      <td>0.273892</td>\n",
       "      <td>0.352601</td>\n",
       "      <td>0.166322</td>\n",
       "      <td>0.195131</td>\n",
       "      <td>0.183945</td>\n",
       "      <td>...</td>\n",
       "      <td>0.212063</td>\n",
       "      <td>0.236032</td>\n",
       "      <td>0.215179</td>\n",
       "      <td>0.261090</td>\n",
       "      <td>0.166302</td>\n",
       "      <td>0.208904</td>\n",
       "      <td>0.162150</td>\n",
       "      <td>0.134134</td>\n",
       "      <td>0.132938</td>\n",
       "      <td>0.137332</td>\n",
       "    </tr>\n",
       "    <tr>\n",
       "      <th>1</th>\n",
       "      <td>0.247293</td>\n",
       "      <td>0.316644</td>\n",
       "      <td>0.198472</td>\n",
       "      <td>0.139843</td>\n",
       "      <td>0.135492</td>\n",
       "      <td>0.239851</td>\n",
       "      <td>0.353103</td>\n",
       "      <td>0.166047</td>\n",
       "      <td>0.189576</td>\n",
       "      <td>0.196214</td>\n",
       "      <td>...</td>\n",
       "      <td>0.206640</td>\n",
       "      <td>0.237364</td>\n",
       "      <td>0.195156</td>\n",
       "      <td>0.259026</td>\n",
       "      <td>0.168510</td>\n",
       "      <td>0.193140</td>\n",
       "      <td>0.156868</td>\n",
       "      <td>0.133698</td>\n",
       "      <td>0.131672</td>\n",
       "      <td>0.137451</td>\n",
       "    </tr>\n",
       "    <tr>\n",
       "      <th>2</th>\n",
       "      <td>0.248641</td>\n",
       "      <td>0.297726</td>\n",
       "      <td>0.193234</td>\n",
       "      <td>0.138488</td>\n",
       "      <td>0.135265</td>\n",
       "      <td>0.217914</td>\n",
       "      <td>0.353603</td>\n",
       "      <td>0.165545</td>\n",
       "      <td>0.185956</td>\n",
       "      <td>0.208551</td>\n",
       "      <td>...</td>\n",
       "      <td>0.201365</td>\n",
       "      <td>0.238752</td>\n",
       "      <td>0.183588</td>\n",
       "      <td>0.257729</td>\n",
       "      <td>0.170736</td>\n",
       "      <td>0.180362</td>\n",
       "      <td>0.149513</td>\n",
       "      <td>0.132636</td>\n",
       "      <td>0.130218</td>\n",
       "      <td>0.136831</td>\n",
       "    </tr>\n",
       "    <tr>\n",
       "      <th>3</th>\n",
       "      <td>0.264244</td>\n",
       "      <td>0.277142</td>\n",
       "      <td>0.187995</td>\n",
       "      <td>0.138136</td>\n",
       "      <td>0.135419</td>\n",
       "      <td>0.205545</td>\n",
       "      <td>0.354344</td>\n",
       "      <td>0.164652</td>\n",
       "      <td>0.184345</td>\n",
       "      <td>0.219524</td>\n",
       "      <td>...</td>\n",
       "      <td>0.196103</td>\n",
       "      <td>0.240195</td>\n",
       "      <td>0.180609</td>\n",
       "      <td>0.257292</td>\n",
       "      <td>0.172884</td>\n",
       "      <td>0.171414</td>\n",
       "      <td>0.141034</td>\n",
       "      <td>0.131321</td>\n",
       "      <td>0.128949</td>\n",
       "      <td>0.135627</td>\n",
       "    </tr>\n",
       "    <tr>\n",
       "      <th>4</th>\n",
       "      <td>0.280515</td>\n",
       "      <td>0.256130</td>\n",
       "      <td>0.182809</td>\n",
       "      <td>0.138187</td>\n",
       "      <td>0.135846</td>\n",
       "      <td>0.198833</td>\n",
       "      <td>0.354781</td>\n",
       "      <td>0.163385</td>\n",
       "      <td>0.184352</td>\n",
       "      <td>0.227934</td>\n",
       "      <td>...</td>\n",
       "      <td>0.190744</td>\n",
       "      <td>0.241597</td>\n",
       "      <td>0.182172</td>\n",
       "      <td>0.257792</td>\n",
       "      <td>0.174957</td>\n",
       "      <td>0.166299</td>\n",
       "      <td>0.132535</td>\n",
       "      <td>0.130153</td>\n",
       "      <td>0.127808</td>\n",
       "      <td>0.134226</td>\n",
       "    </tr>\n",
       "    <tr>\n",
       "      <th>...</th>\n",
       "      <td>...</td>\n",
       "      <td>...</td>\n",
       "      <td>...</td>\n",
       "      <td>...</td>\n",
       "      <td>...</td>\n",
       "      <td>...</td>\n",
       "      <td>...</td>\n",
       "      <td>...</td>\n",
       "      <td>...</td>\n",
       "      <td>...</td>\n",
       "      <td>...</td>\n",
       "      <td>...</td>\n",
       "      <td>...</td>\n",
       "      <td>...</td>\n",
       "      <td>...</td>\n",
       "      <td>...</td>\n",
       "      <td>...</td>\n",
       "      <td>...</td>\n",
       "      <td>...</td>\n",
       "      <td>...</td>\n",
       "      <td>...</td>\n",
       "    </tr>\n",
       "    <tr>\n",
       "      <th>146</th>\n",
       "      <td>0.067956</td>\n",
       "      <td>0.476180</td>\n",
       "      <td>0.291825</td>\n",
       "      <td>0.200714</td>\n",
       "      <td>0.181558</td>\n",
       "      <td>0.360200</td>\n",
       "      <td>0.419067</td>\n",
       "      <td>0.507994</td>\n",
       "      <td>0.458805</td>\n",
       "      <td>0.586031</td>\n",
       "      <td>...</td>\n",
       "      <td>0.538969</td>\n",
       "      <td>0.272239</td>\n",
       "      <td>0.374365</td>\n",
       "      <td>0.253522</td>\n",
       "      <td>0.428576</td>\n",
       "      <td>0.392672</td>\n",
       "      <td>0.564744</td>\n",
       "      <td>0.462306</td>\n",
       "      <td>0.521757</td>\n",
       "      <td>0.607411</td>\n",
       "    </tr>\n",
       "    <tr>\n",
       "      <th>147</th>\n",
       "      <td>0.059748</td>\n",
       "      <td>0.461089</td>\n",
       "      <td>0.267701</td>\n",
       "      <td>0.203888</td>\n",
       "      <td>0.192148</td>\n",
       "      <td>0.351637</td>\n",
       "      <td>0.418164</td>\n",
       "      <td>0.484784</td>\n",
       "      <td>0.450130</td>\n",
       "      <td>0.578793</td>\n",
       "      <td>...</td>\n",
       "      <td>0.532591</td>\n",
       "      <td>0.236009</td>\n",
       "      <td>0.357114</td>\n",
       "      <td>0.244873</td>\n",
       "      <td>0.426643</td>\n",
       "      <td>0.366430</td>\n",
       "      <td>0.546472</td>\n",
       "      <td>0.456943</td>\n",
       "      <td>0.536450</td>\n",
       "      <td>0.590750</td>\n",
       "    </tr>\n",
       "    <tr>\n",
       "      <th>148</th>\n",
       "      <td>0.062470</td>\n",
       "      <td>0.445459</td>\n",
       "      <td>0.246036</td>\n",
       "      <td>0.209335</td>\n",
       "      <td>0.198973</td>\n",
       "      <td>0.345354</td>\n",
       "      <td>0.417081</td>\n",
       "      <td>0.466541</td>\n",
       "      <td>0.443248</td>\n",
       "      <td>0.571414</td>\n",
       "      <td>...</td>\n",
       "      <td>0.526623</td>\n",
       "      <td>0.203515</td>\n",
       "      <td>0.335718</td>\n",
       "      <td>0.243221</td>\n",
       "      <td>0.422666</td>\n",
       "      <td>0.339841</td>\n",
       "      <td>0.522189</td>\n",
       "      <td>0.470509</td>\n",
       "      <td>0.567259</td>\n",
       "      <td>0.584530</td>\n",
       "    </tr>\n",
       "    <tr>\n",
       "      <th>149</th>\n",
       "      <td>0.073268</td>\n",
       "      <td>0.428982</td>\n",
       "      <td>0.235402</td>\n",
       "      <td>0.214825</td>\n",
       "      <td>0.199344</td>\n",
       "      <td>0.340016</td>\n",
       "      <td>0.415741</td>\n",
       "      <td>0.453063</td>\n",
       "      <td>0.438370</td>\n",
       "      <td>0.563616</td>\n",
       "      <td>...</td>\n",
       "      <td>0.520501</td>\n",
       "      <td>0.178322</td>\n",
       "      <td>0.311663</td>\n",
       "      <td>0.247586</td>\n",
       "      <td>0.415693</td>\n",
       "      <td>0.313590</td>\n",
       "      <td>0.492911</td>\n",
       "      <td>0.500459</td>\n",
       "      <td>0.608947</td>\n",
       "      <td>0.589200</td>\n",
       "    </tr>\n",
       "    <tr>\n",
       "      <th>150</th>\n",
       "      <td>0.088877</td>\n",
       "      <td>0.412122</td>\n",
       "      <td>0.230191</td>\n",
       "      <td>0.218877</td>\n",
       "      <td>0.198466</td>\n",
       "      <td>0.334980</td>\n",
       "      <td>0.414227</td>\n",
       "      <td>0.442918</td>\n",
       "      <td>0.434297</td>\n",
       "      <td>0.554345</td>\n",
       "      <td>...</td>\n",
       "      <td>0.514105</td>\n",
       "      <td>0.160763</td>\n",
       "      <td>0.287556</td>\n",
       "      <td>0.256249</td>\n",
       "      <td>0.408119</td>\n",
       "      <td>0.288507</td>\n",
       "      <td>0.460518</td>\n",
       "      <td>0.541502</td>\n",
       "      <td>0.656500</td>\n",
       "      <td>0.603453</td>\n",
       "    </tr>\n",
       "  </tbody>\n",
       "</table>\n",
       "<p>151 rows × 4345 columns</p>\n",
       "</div>"
      ],
      "text/plain": [
       "ID   26742     142399    147088    270735    270992    453335    744056    \\\n",
       "0    0.280677  0.333029  0.203654  0.142772  0.136679  0.273892  0.352601   \n",
       "1    0.247293  0.316644  0.198472  0.139843  0.135492  0.239851  0.353103   \n",
       "2    0.248641  0.297726  0.193234  0.138488  0.135265  0.217914  0.353603   \n",
       "3    0.264244  0.277142  0.187995  0.138136  0.135419  0.205545  0.354344   \n",
       "4    0.280515  0.256130  0.182809  0.138187  0.135846  0.198833  0.354781   \n",
       "..        ...       ...       ...       ...       ...       ...       ...   \n",
       "146  0.067956  0.476180  0.291825  0.200714  0.181558  0.360200  0.419067   \n",
       "147  0.059748  0.461089  0.267701  0.203888  0.192148  0.351637  0.418164   \n",
       "148  0.062470  0.445459  0.246036  0.209335  0.198973  0.345354  0.417081   \n",
       "149  0.073268  0.428982  0.235402  0.214825  0.199344  0.340016  0.415741   \n",
       "150  0.088877  0.412122  0.230191  0.218877  0.198466  0.334980  0.414227   \n",
       "\n",
       "ID   842397    1305223   1305481   ...  43658397  43669186  43671310  \\\n",
       "0    0.166322  0.195131  0.183945  ...  0.212063  0.236032  0.215179   \n",
       "1    0.166047  0.189576  0.196214  ...  0.206640  0.237364  0.195156   \n",
       "2    0.165545  0.185956  0.208551  ...  0.201365  0.238752  0.183588   \n",
       "3    0.164652  0.184345  0.219524  ...  0.196103  0.240195  0.180609   \n",
       "4    0.163385  0.184352  0.227934  ...  0.190744  0.241597  0.182172   \n",
       "..        ...       ...       ...  ...       ...       ...       ...   \n",
       "146  0.507994  0.458805  0.586031  ...  0.538969  0.272239  0.374365   \n",
       "147  0.484784  0.450130  0.578793  ...  0.532591  0.236009  0.357114   \n",
       "148  0.466541  0.443248  0.571414  ...  0.526623  0.203515  0.335718   \n",
       "149  0.453063  0.438370  0.563616  ...  0.520501  0.178322  0.311663   \n",
       "150  0.442918  0.434297  0.554345  ...  0.514105  0.160763  0.287556   \n",
       "\n",
       "ID   43671327  43671341  43671361  43671372  43671383  43671391  43671393  \n",
       "0    0.261090  0.166302  0.208904  0.162150  0.134134  0.132938  0.137332  \n",
       "1    0.259026  0.168510  0.193140  0.156868  0.133698  0.131672  0.137451  \n",
       "2    0.257729  0.170736  0.180362  0.149513  0.132636  0.130218  0.136831  \n",
       "3    0.257292  0.172884  0.171414  0.141034  0.131321  0.128949  0.135627  \n",
       "4    0.257792  0.174957  0.166299  0.132535  0.130153  0.127808  0.134226  \n",
       "..        ...       ...       ...       ...       ...       ...       ...  \n",
       "146  0.253522  0.428576  0.392672  0.564744  0.462306  0.521757  0.607411  \n",
       "147  0.244873  0.426643  0.366430  0.546472  0.456943  0.536450  0.590750  \n",
       "148  0.243221  0.422666  0.339841  0.522189  0.470509  0.567259  0.584530  \n",
       "149  0.247586  0.415693  0.313590  0.492911  0.500459  0.608947  0.589200  \n",
       "150  0.256249  0.408119  0.288507  0.460518  0.541502  0.656500  0.603453  \n",
       "\n",
       "[151 rows x 4345 columns]"
      ]
     },
     "execution_count": 83,
     "metadata": {},
     "output_type": "execute_result"
    }
   ],
   "source": [
    "df_melhor2"
   ]
  },
  {
   "cell_type": "code",
   "execution_count": 84,
   "id": "78c6a361-ce24-4b7a-944c-6871b8a5b20a",
   "metadata": {},
   "outputs": [],
   "source": [
    "df_test_melhor=df_melhor[-1303:]"
   ]
  },
  {
   "cell_type": "code",
   "execution_count": 85,
   "id": "8fc53792-68a8-4f20-8d68-b6f6439c3e14",
   "metadata": {},
   "outputs": [
    {
     "data": {
      "text/html": [
       "<div>\n",
       "<style scoped>\n",
       "    .dataframe tbody tr th:only-of-type {\n",
       "        vertical-align: middle;\n",
       "    }\n",
       "\n",
       "    .dataframe tbody tr th {\n",
       "        vertical-align: top;\n",
       "    }\n",
       "\n",
       "    .dataframe thead th {\n",
       "        text-align: right;\n",
       "    }\n",
       "</style>\n",
       "<table border=\"1\" class=\"dataframe\">\n",
       "  <thead>\n",
       "    <tr style=\"text-align: right;\">\n",
       "      <th></th>\n",
       "      <th>0</th>\n",
       "      <th>1</th>\n",
       "      <th>2</th>\n",
       "      <th>3</th>\n",
       "      <th>4</th>\n",
       "      <th>5</th>\n",
       "      <th>6</th>\n",
       "      <th>7</th>\n",
       "      <th>8</th>\n",
       "      <th>9</th>\n",
       "      <th>...</th>\n",
       "      <th>141</th>\n",
       "      <th>142</th>\n",
       "      <th>143</th>\n",
       "      <th>144</th>\n",
       "      <th>145</th>\n",
       "      <th>146</th>\n",
       "      <th>147</th>\n",
       "      <th>148</th>\n",
       "      <th>149</th>\n",
       "      <th>150</th>\n",
       "    </tr>\n",
       "    <tr>\n",
       "      <th>ID</th>\n",
       "      <th></th>\n",
       "      <th></th>\n",
       "      <th></th>\n",
       "      <th></th>\n",
       "      <th></th>\n",
       "      <th></th>\n",
       "      <th></th>\n",
       "      <th></th>\n",
       "      <th></th>\n",
       "      <th></th>\n",
       "      <th></th>\n",
       "      <th></th>\n",
       "      <th></th>\n",
       "      <th></th>\n",
       "      <th></th>\n",
       "      <th></th>\n",
       "      <th></th>\n",
       "      <th></th>\n",
       "      <th></th>\n",
       "      <th></th>\n",
       "      <th></th>\n",
       "    </tr>\n",
       "  </thead>\n",
       "  <tbody>\n",
       "    <tr>\n",
       "      <th>39137902</th>\n",
       "      <td>0.151873</td>\n",
       "      <td>0.152325</td>\n",
       "      <td>0.154181</td>\n",
       "      <td>0.156894</td>\n",
       "      <td>0.159840</td>\n",
       "      <td>0.162439</td>\n",
       "      <td>0.164197</td>\n",
       "      <td>0.165445</td>\n",
       "      <td>0.166490</td>\n",
       "      <td>0.167743</td>\n",
       "      <td>...</td>\n",
       "      <td>0.652839</td>\n",
       "      <td>0.618433</td>\n",
       "      <td>0.575496</td>\n",
       "      <td>0.526544</td>\n",
       "      <td>0.475301</td>\n",
       "      <td>0.426940</td>\n",
       "      <td>0.384877</td>\n",
       "      <td>0.352326</td>\n",
       "      <td>0.332043</td>\n",
       "      <td>0.325204</td>\n",
       "    </tr>\n",
       "    <tr>\n",
       "      <th>39137903</th>\n",
       "      <td>0.190090</td>\n",
       "      <td>0.180983</td>\n",
       "      <td>0.172636</td>\n",
       "      <td>0.166408</td>\n",
       "      <td>0.163693</td>\n",
       "      <td>0.164718</td>\n",
       "      <td>0.173112</td>\n",
       "      <td>0.187635</td>\n",
       "      <td>0.205747</td>\n",
       "      <td>0.224307</td>\n",
       "      <td>...</td>\n",
       "      <td>0.699506</td>\n",
       "      <td>0.691772</td>\n",
       "      <td>0.683524</td>\n",
       "      <td>0.671828</td>\n",
       "      <td>0.654371</td>\n",
       "      <td>0.630005</td>\n",
       "      <td>0.598927</td>\n",
       "      <td>0.562630</td>\n",
       "      <td>0.523690</td>\n",
       "      <td>0.486132</td>\n",
       "    </tr>\n",
       "    <tr>\n",
       "      <th>39138463</th>\n",
       "      <td>0.240347</td>\n",
       "      <td>0.263871</td>\n",
       "      <td>0.282180</td>\n",
       "      <td>0.293246</td>\n",
       "      <td>0.296821</td>\n",
       "      <td>0.294178</td>\n",
       "      <td>0.287766</td>\n",
       "      <td>0.280759</td>\n",
       "      <td>0.276829</td>\n",
       "      <td>0.279249</td>\n",
       "      <td>...</td>\n",
       "      <td>0.522671</td>\n",
       "      <td>0.507494</td>\n",
       "      <td>0.495120</td>\n",
       "      <td>0.486297</td>\n",
       "      <td>0.481391</td>\n",
       "      <td>0.479989</td>\n",
       "      <td>0.481736</td>\n",
       "      <td>0.485333</td>\n",
       "      <td>0.489052</td>\n",
       "      <td>0.491226</td>\n",
       "    </tr>\n",
       "    <tr>\n",
       "      <th>39138520</th>\n",
       "      <td>0.431558</td>\n",
       "      <td>0.424298</td>\n",
       "      <td>0.416060</td>\n",
       "      <td>0.406769</td>\n",
       "      <td>0.398320</td>\n",
       "      <td>0.389871</td>\n",
       "      <td>0.381423</td>\n",
       "      <td>0.372974</td>\n",
       "      <td>0.364526</td>\n",
       "      <td>0.356077</td>\n",
       "      <td>...</td>\n",
       "      <td>0.475887</td>\n",
       "      <td>0.482107</td>\n",
       "      <td>0.490385</td>\n",
       "      <td>0.497693</td>\n",
       "      <td>0.504150</td>\n",
       "      <td>0.509230</td>\n",
       "      <td>0.512643</td>\n",
       "      <td>0.514500</td>\n",
       "      <td>0.515624</td>\n",
       "      <td>0.516139</td>\n",
       "    </tr>\n",
       "    <tr>\n",
       "      <th>39138527</th>\n",
       "      <td>0.202622</td>\n",
       "      <td>0.204191</td>\n",
       "      <td>0.205293</td>\n",
       "      <td>0.205903</td>\n",
       "      <td>0.206211</td>\n",
       "      <td>0.206560</td>\n",
       "      <td>0.207280</td>\n",
       "      <td>0.208401</td>\n",
       "      <td>0.209200</td>\n",
       "      <td>0.210000</td>\n",
       "      <td>...</td>\n",
       "      <td>0.648598</td>\n",
       "      <td>0.646172</td>\n",
       "      <td>0.647173</td>\n",
       "      <td>0.650088</td>\n",
       "      <td>0.653475</td>\n",
       "      <td>0.656290</td>\n",
       "      <td>0.658429</td>\n",
       "      <td>0.662664</td>\n",
       "      <td>0.668343</td>\n",
       "      <td>0.675581</td>\n",
       "    </tr>\n",
       "    <tr>\n",
       "      <th>...</th>\n",
       "      <td>...</td>\n",
       "      <td>...</td>\n",
       "      <td>...</td>\n",
       "      <td>...</td>\n",
       "      <td>...</td>\n",
       "      <td>...</td>\n",
       "      <td>...</td>\n",
       "      <td>...</td>\n",
       "      <td>...</td>\n",
       "      <td>...</td>\n",
       "      <td>...</td>\n",
       "      <td>...</td>\n",
       "      <td>...</td>\n",
       "      <td>...</td>\n",
       "      <td>...</td>\n",
       "      <td>...</td>\n",
       "      <td>...</td>\n",
       "      <td>...</td>\n",
       "      <td>...</td>\n",
       "      <td>...</td>\n",
       "      <td>...</td>\n",
       "    </tr>\n",
       "    <tr>\n",
       "      <th>43671361</th>\n",
       "      <td>0.208904</td>\n",
       "      <td>0.193140</td>\n",
       "      <td>0.180362</td>\n",
       "      <td>0.171414</td>\n",
       "      <td>0.166299</td>\n",
       "      <td>0.164657</td>\n",
       "      <td>0.166086</td>\n",
       "      <td>0.170863</td>\n",
       "      <td>0.177226</td>\n",
       "      <td>0.183762</td>\n",
       "      <td>...</td>\n",
       "      <td>0.515444</td>\n",
       "      <td>0.490721</td>\n",
       "      <td>0.466861</td>\n",
       "      <td>0.443038</td>\n",
       "      <td>0.418419</td>\n",
       "      <td>0.392672</td>\n",
       "      <td>0.366430</td>\n",
       "      <td>0.339841</td>\n",
       "      <td>0.313590</td>\n",
       "      <td>0.288507</td>\n",
       "    </tr>\n",
       "    <tr>\n",
       "      <th>43671372</th>\n",
       "      <td>0.162150</td>\n",
       "      <td>0.156868</td>\n",
       "      <td>0.149513</td>\n",
       "      <td>0.141034</td>\n",
       "      <td>0.132535</td>\n",
       "      <td>0.125099</td>\n",
       "      <td>0.119511</td>\n",
       "      <td>0.115962</td>\n",
       "      <td>0.114586</td>\n",
       "      <td>0.115044</td>\n",
       "      <td>...</td>\n",
       "      <td>0.597929</td>\n",
       "      <td>0.592185</td>\n",
       "      <td>0.588348</td>\n",
       "      <td>0.584141</td>\n",
       "      <td>0.576993</td>\n",
       "      <td>0.564744</td>\n",
       "      <td>0.546472</td>\n",
       "      <td>0.522189</td>\n",
       "      <td>0.492911</td>\n",
       "      <td>0.460518</td>\n",
       "    </tr>\n",
       "    <tr>\n",
       "      <th>43671383</th>\n",
       "      <td>0.134134</td>\n",
       "      <td>0.133698</td>\n",
       "      <td>0.132636</td>\n",
       "      <td>0.131321</td>\n",
       "      <td>0.130153</td>\n",
       "      <td>0.129105</td>\n",
       "      <td>0.128346</td>\n",
       "      <td>0.128162</td>\n",
       "      <td>0.128358</td>\n",
       "      <td>0.128681</td>\n",
       "      <td>...</td>\n",
       "      <td>0.667009</td>\n",
       "      <td>0.623351</td>\n",
       "      <td>0.572997</td>\n",
       "      <td>0.524562</td>\n",
       "      <td>0.486136</td>\n",
       "      <td>0.462306</td>\n",
       "      <td>0.456943</td>\n",
       "      <td>0.470509</td>\n",
       "      <td>0.500459</td>\n",
       "      <td>0.541502</td>\n",
       "    </tr>\n",
       "    <tr>\n",
       "      <th>43671391</th>\n",
       "      <td>0.132938</td>\n",
       "      <td>0.131672</td>\n",
       "      <td>0.130218</td>\n",
       "      <td>0.128949</td>\n",
       "      <td>0.127808</td>\n",
       "      <td>0.127124</td>\n",
       "      <td>0.127135</td>\n",
       "      <td>0.127592</td>\n",
       "      <td>0.128185</td>\n",
       "      <td>0.129262</td>\n",
       "      <td>...</td>\n",
       "      <td>0.682535</td>\n",
       "      <td>0.632241</td>\n",
       "      <td>0.584629</td>\n",
       "      <td>0.547984</td>\n",
       "      <td>0.525726</td>\n",
       "      <td>0.521757</td>\n",
       "      <td>0.536450</td>\n",
       "      <td>0.567259</td>\n",
       "      <td>0.608947</td>\n",
       "      <td>0.656500</td>\n",
       "    </tr>\n",
       "    <tr>\n",
       "      <th>43671393</th>\n",
       "      <td>0.137332</td>\n",
       "      <td>0.137451</td>\n",
       "      <td>0.136831</td>\n",
       "      <td>0.135627</td>\n",
       "      <td>0.134226</td>\n",
       "      <td>0.133033</td>\n",
       "      <td>0.132001</td>\n",
       "      <td>0.131480</td>\n",
       "      <td>0.131723</td>\n",
       "      <td>0.132469</td>\n",
       "      <td>...</td>\n",
       "      <td>0.737759</td>\n",
       "      <td>0.720257</td>\n",
       "      <td>0.693439</td>\n",
       "      <td>0.661994</td>\n",
       "      <td>0.631634</td>\n",
       "      <td>0.607411</td>\n",
       "      <td>0.590750</td>\n",
       "      <td>0.584530</td>\n",
       "      <td>0.589200</td>\n",
       "      <td>0.603453</td>\n",
       "    </tr>\n",
       "  </tbody>\n",
       "</table>\n",
       "<p>1303 rows × 151 columns</p>\n",
       "</div>"
      ],
      "text/plain": [
       "               0         1         2         3         4         5    \\\n",
       "ID                                                                     \n",
       "39137902  0.151873  0.152325  0.154181  0.156894  0.159840  0.162439   \n",
       "39137903  0.190090  0.180983  0.172636  0.166408  0.163693  0.164718   \n",
       "39138463  0.240347  0.263871  0.282180  0.293246  0.296821  0.294178   \n",
       "39138520  0.431558  0.424298  0.416060  0.406769  0.398320  0.389871   \n",
       "39138527  0.202622  0.204191  0.205293  0.205903  0.206211  0.206560   \n",
       "...            ...       ...       ...       ...       ...       ...   \n",
       "43671361  0.208904  0.193140  0.180362  0.171414  0.166299  0.164657   \n",
       "43671372  0.162150  0.156868  0.149513  0.141034  0.132535  0.125099   \n",
       "43671383  0.134134  0.133698  0.132636  0.131321  0.130153  0.129105   \n",
       "43671391  0.132938  0.131672  0.130218  0.128949  0.127808  0.127124   \n",
       "43671393  0.137332  0.137451  0.136831  0.135627  0.134226  0.133033   \n",
       "\n",
       "               6         7         8         9    ...       141       142  \\\n",
       "ID                                                ...                       \n",
       "39137902  0.164197  0.165445  0.166490  0.167743  ...  0.652839  0.618433   \n",
       "39137903  0.173112  0.187635  0.205747  0.224307  ...  0.699506  0.691772   \n",
       "39138463  0.287766  0.280759  0.276829  0.279249  ...  0.522671  0.507494   \n",
       "39138520  0.381423  0.372974  0.364526  0.356077  ...  0.475887  0.482107   \n",
       "39138527  0.207280  0.208401  0.209200  0.210000  ...  0.648598  0.646172   \n",
       "...            ...       ...       ...       ...  ...       ...       ...   \n",
       "43671361  0.166086  0.170863  0.177226  0.183762  ...  0.515444  0.490721   \n",
       "43671372  0.119511  0.115962  0.114586  0.115044  ...  0.597929  0.592185   \n",
       "43671383  0.128346  0.128162  0.128358  0.128681  ...  0.667009  0.623351   \n",
       "43671391  0.127135  0.127592  0.128185  0.129262  ...  0.682535  0.632241   \n",
       "43671393  0.132001  0.131480  0.131723  0.132469  ...  0.737759  0.720257   \n",
       "\n",
       "               143       144       145       146       147       148  \\\n",
       "ID                                                                     \n",
       "39137902  0.575496  0.526544  0.475301  0.426940  0.384877  0.352326   \n",
       "39137903  0.683524  0.671828  0.654371  0.630005  0.598927  0.562630   \n",
       "39138463  0.495120  0.486297  0.481391  0.479989  0.481736  0.485333   \n",
       "39138520  0.490385  0.497693  0.504150  0.509230  0.512643  0.514500   \n",
       "39138527  0.647173  0.650088  0.653475  0.656290  0.658429  0.662664   \n",
       "...            ...       ...       ...       ...       ...       ...   \n",
       "43671361  0.466861  0.443038  0.418419  0.392672  0.366430  0.339841   \n",
       "43671372  0.588348  0.584141  0.576993  0.564744  0.546472  0.522189   \n",
       "43671383  0.572997  0.524562  0.486136  0.462306  0.456943  0.470509   \n",
       "43671391  0.584629  0.547984  0.525726  0.521757  0.536450  0.567259   \n",
       "43671393  0.693439  0.661994  0.631634  0.607411  0.590750  0.584530   \n",
       "\n",
       "               149       150  \n",
       "ID                            \n",
       "39137902  0.332043  0.325204  \n",
       "39137903  0.523690  0.486132  \n",
       "39138463  0.489052  0.491226  \n",
       "39138520  0.515624  0.516139  \n",
       "39138527  0.668343  0.675581  \n",
       "...            ...       ...  \n",
       "43671361  0.313590  0.288507  \n",
       "43671372  0.492911  0.460518  \n",
       "43671383  0.500459  0.541502  \n",
       "43671391  0.608947  0.656500  \n",
       "43671393  0.589200  0.603453  \n",
       "\n",
       "[1303 rows x 151 columns]"
      ]
     },
     "execution_count": 85,
     "metadata": {},
     "output_type": "execute_result"
    }
   ],
   "source": [
    "df_test_melhor"
   ]
  },
  {
   "cell_type": "code",
   "execution_count": 86,
   "id": "52e86fe4-e583-43e0-a4e1-536749727f0f",
   "metadata": {},
   "outputs": [],
   "source": [
    "df_test_melhor2=df_test_melhor.T"
   ]
  },
  {
   "cell_type": "code",
   "execution_count": 87,
   "id": "e4934994-e89e-442c-acea-32a753f15211",
   "metadata": {},
   "outputs": [
    {
     "data": {
      "text/plain": [
       "<AxesSubplot:>"
      ]
     },
     "execution_count": 87,
     "metadata": {},
     "output_type": "execute_result"
    },
    {
     "data": {
      "image/png": "[encoded data removed]",
      "text/plain": [
       "<Figure size 432x288 with 1 Axes>"
      ]
     },
     "metadata": {
      "needs_background": "light"
     },
     "output_type": "display_data"
    }
   ],
   "source": [
    "df_test_melhor.mean().plot()"
   ]
  },
  {
   "cell_type": "code",
   "execution_count": 88,
   "id": "fce81f62-6086-4971-972d-efa5d3e8e896",
   "metadata": {},
   "outputs": [],
   "source": [
    "arraytestemean=df_test_melhor.mean().values"
   ]
  },
  {
   "cell_type": "code",
   "execution_count": 89,
   "id": "3596eaee-a447-4333-9a35-8465f718088e",
   "metadata": {},
   "outputs": [
    {
     "data": {
      "text/plain": [
       "array([0.22597779, 0.21824375, 0.21107407, 0.20466092, 0.19912493,\n",
       "       0.1945051 , 0.19074833, 0.18775938, 0.1854501 , 0.18373943,\n",
       "       0.18257927, 0.18188526, 0.1816697 , 0.18185987, 0.18241915,\n",
       "       0.18330544, 0.18452753, 0.18607035, 0.1879595 , 0.19021244,\n",
       "       0.19288253, 0.19601189, 0.19964001, 0.20382216, 0.20864123,\n",
       "       0.21417577, 0.22048884, 0.2276093 , 0.23557945, 0.2443914 ,\n",
       "       0.25403055, 0.26445144, 0.275638  , 0.2875313 , 0.30011586,\n",
       "       0.31330268, 0.32711142, 0.34151614, 0.356498  , 0.37207302,\n",
       "       0.38829502, 0.40513203, 0.42255107, 0.44054282, 0.45902242,\n",
       "       0.47791381, 0.49713277, 0.51661035, 0.53627935, 0.55598926,\n",
       "       0.57554962, 0.59480945, 0.61357804, 0.6317214 , 0.64915321,\n",
       "       0.66586598, 0.68188808, 0.69720432, 0.71182105, 0.7257164 ,\n",
       "       0.73886326, 0.75115681, 0.76258337, 0.77308975, 0.78260789,\n",
       "       0.79113503, 0.79868424, 0.80530128, 0.8110282 , 0.81594427,\n",
       "       0.82013186, 0.823716  , 0.82670346, 0.82915864, 0.83117918,\n",
       "       0.83280785, 0.83402363, 0.83493587, 0.83561931, 0.83615387,\n",
       "       0.8365341 , 0.83681357, 0.83697752, 0.83696901, 0.83672925,\n",
       "       0.83625339, 0.83555737, 0.83469329, 0.83371452, 0.83272994,\n",
       "       0.83184252, 0.83112275, 0.83059135, 0.83030787, 0.83024288,\n",
       "       0.83033804, 0.83050112, 0.83065583, 0.8306636 , 0.83044892,\n",
       "       0.82999814, 0.82935309, 0.82847995, 0.82741411, 0.82617116,\n",
       "       0.82472144, 0.82298747, 0.8210168 , 0.81880087, 0.81638769,\n",
       "       0.81381904, 0.81118029, 0.80848908, 0.80578673, 0.80300222,\n",
       "       0.80010906, 0.79704651, 0.79373283, 0.79009608, 0.78607202,\n",
       "       0.78161996, 0.77668983, 0.77126746, 0.7653205 , 0.75880469,\n",
       "       0.75162621, 0.74374521, 0.73507992, 0.72558933, 0.71527133,\n",
       "       0.70415208, 0.69226318, 0.6796807 , 0.66653367, 0.65296224,\n",
       "       0.63905995, 0.62491176, 0.61059615, 0.59608673, 0.58136903,\n",
       "       0.56647786, 0.55152171, 0.53670669, 0.52229247, 0.50858063,\n",
       "       0.49579115, 0.48410476, 0.47352094, 0.46399258, 0.45539686,\n",
       "       0.4475525 ])"
      ]
     },
     "execution_count": 89,
     "metadata": {},
     "output_type": "execute_result"
    }
   ],
   "source": [
    "df_test_melhor.mean().values"
   ]
  },
  {
   "cell_type": "code",
   "execution_count": 90,
   "id": "da927327-309b-487c-ba2a-cc42fc9e6b9d",
   "metadata": {},
   "outputs": [],
   "source": [
    "seed=0"
   ]
  },
  {
   "cell_type": "code",
   "execution_count": 91,
   "id": "db0eb9b4-d9d6-41f0-ab6e-a93aa302c9fa",
   "metadata": {},
   "outputs": [
    {
     "data": {
      "text/plain": [
       "TimeSeriesKMeans(max_iter=1000, n_clusters=2, n_init=10, random_state=0)"
      ]
     },
     "execution_count": 91,
     "metadata": {},
     "output_type": "execute_result"
    }
   ],
   "source": [
    "from tslearn.clustering import TimeSeriesKMeans\n",
    "\n",
    "modelteste2 = TimeSeriesKMeans(n_clusters=2, metric=\"euclidean\",\n",
    "                         max_iter=1000,n_init=10, random_state=seed)\n",
    "modelteste2.fit(df_test_melhor)"
   ]
  },
  {
   "cell_type": "code",
   "execution_count": 92,
   "id": "ed86ff34-abcd-4fbc-ac87-dccbe7d4738b",
   "metadata": {},
   "outputs": [
    {
     "data": {
      "image/png": "[encoded data removed]",
      "text/plain": [
       "<Figure size 432x288 with 1 Axes>"
      ]
     },
     "metadata": {
      "needs_background": "light"
     },
     "output_type": "display_data"
    }
   ],
   "source": [
    "for x in modelteste2.cluster_centers_:\n",
    "    plt.plot(x)"
   ]
  },
  {
   "cell_type": "code",
   "execution_count": 93,
   "id": "e6154b86-814d-479d-b6b3-9109562b941b",
   "metadata": {},
   "outputs": [
    {
     "data": {
      "text/plain": [
       "0.3396989375454457"
      ]
     },
     "execution_count": 93,
     "metadata": {},
     "output_type": "execute_result"
    }
   ],
   "source": [
    "import tslearn.clustering\n",
    "from tslearn.metrics import cdist_dtw\n",
    "tslearn.clustering.silhouette_score(df_test_melhor, labels=modelteste2.labels_, metric=\"euclidean\")"
   ]
  },
  {
   "cell_type": "code",
   "execution_count": 94,
   "id": "2e1f76fa-e355-49ab-abc1-e45c430aea14",
   "metadata": {},
   "outputs": [
    {
     "data": {
      "text/plain": [
       "0.842586059154981"
      ]
     },
     "execution_count": 94,
     "metadata": {},
     "output_type": "execute_result"
    }
   ],
   "source": [
    "modelteste2.inertia_"
   ]
  },
  {
   "cell_type": "code",
   "execution_count": 95,
   "id": "06ecfc27-9a5b-48b2-a91e-f5d724346baf",
   "metadata": {},
   "outputs": [
    {
     "data": {
      "text/plain": [
       "array([[[0.22328665],\n",
       "        [0.2149414 ],\n",
       "        [0.20714254],\n",
       "        [0.2001514 ],\n",
       "        [0.19416689],\n",
       "        [0.18923887],\n",
       "        [0.18533947],\n",
       "        [0.1823666 ],\n",
       "        [0.18016914],\n",
       "        [0.17860717],\n",
       "        [0.17761059],\n",
       "        [0.17706557],\n",
       "        [0.17699679],\n",
       "        [0.17732579],\n",
       "        [0.17800907],\n",
       "        [0.17899021],\n",
       "        [0.18027825],\n",
       "        [0.1818575 ],\n",
       "        [0.18379973],\n",
       "        [0.18615506],\n",
       "        [0.18904899],\n",
       "        [0.19254961],\n",
       "        [0.19671006],\n",
       "        [0.20159137],\n",
       "        [0.20728684],\n",
       "        [0.2138422 ],\n",
       "        [0.22131177],\n",
       "        [0.22970257],\n",
       "        [0.2390174 ],\n",
       "        [0.24924513],\n",
       "        [0.26038094],\n",
       "        [0.27238735],\n",
       "        [0.28528654],\n",
       "        [0.29906426],\n",
       "        [0.31369234],\n",
       "        [0.32907512],\n",
       "        [0.34520771],\n",
       "        [0.36200666],\n",
       "        [0.37939819],\n",
       "        [0.39739429],\n",
       "        [0.41603738],\n",
       "        [0.43528472],\n",
       "        [0.45508774],\n",
       "        [0.47546089],\n",
       "        [0.49631763],\n",
       "        [0.51754177],\n",
       "        [0.53903571],\n",
       "        [0.56073531],\n",
       "        [0.58253755],\n",
       "        [0.60421087],\n",
       "        [0.62552867],\n",
       "        [0.64628738],\n",
       "        [0.66624241],\n",
       "        [0.68525047],\n",
       "        [0.7032126 ],\n",
       "        [0.72012697],\n",
       "        [0.73603021],\n",
       "        [0.75092934],\n",
       "        [0.76486821],\n",
       "        [0.77789049],\n",
       "        [0.79002815],\n",
       "        [0.80125341],\n",
       "        [0.81160104],\n",
       "        [0.82104   ],\n",
       "        [0.82950467],\n",
       "        [0.83699737],\n",
       "        [0.84353688],\n",
       "        [0.84916753],\n",
       "        [0.85392858],\n",
       "        [0.85788519],\n",
       "        [0.86110796],\n",
       "        [0.86367258],\n",
       "        [0.86556833],\n",
       "        [0.86687599],\n",
       "        [0.86774137],\n",
       "        [0.86823113],\n",
       "        [0.86837452],\n",
       "        [0.86829984],\n",
       "        [0.86806883],\n",
       "        [0.86776138],\n",
       "        [0.86734127],\n",
       "        [0.86682495],\n",
       "        [0.86619854],\n",
       "        [0.86541186],\n",
       "        [0.86436199],\n",
       "        [0.8630668 ],\n",
       "        [0.86160675],\n",
       "        [0.86009659],\n",
       "        [0.85862717],\n",
       "        [0.85737316],\n",
       "        [0.85643865],\n",
       "        [0.85583949],\n",
       "        [0.85552822],\n",
       "        [0.85549545],\n",
       "        [0.85567566],\n",
       "        [0.85597945],\n",
       "        [0.85631222],\n",
       "        [0.85660271],\n",
       "        [0.85672606],\n",
       "        [0.85659647],\n",
       "        [0.85623136],\n",
       "        [0.85567058],\n",
       "        [0.85489109],\n",
       "        [0.85393432],\n",
       "        [0.85281682],\n",
       "        [0.85153089],\n",
       "        [0.85001998],\n",
       "        [0.84828244],\n",
       "        [0.84633044],\n",
       "        [0.84424786],\n",
       "        [0.84203168],\n",
       "        [0.83975094],\n",
       "        [0.83743113],\n",
       "        [0.8351291 ],\n",
       "        [0.83274692],\n",
       "        [0.83029106],\n",
       "        [0.82771269],\n",
       "        [0.82498815],\n",
       "        [0.82202835],\n",
       "        [0.81878281],\n",
       "        [0.81517212],\n",
       "        [0.81114905],\n",
       "        [0.80668754],\n",
       "        [0.80177277],\n",
       "        [0.79639699],\n",
       "        [0.79051094],\n",
       "        [0.78412753],\n",
       "        [0.77715694],\n",
       "        [0.7695683 ],\n",
       "        [0.76131741],\n",
       "        [0.75235964],\n",
       "        [0.74263882],\n",
       "        [0.73214273],\n",
       "        [0.72083568],\n",
       "        [0.70874779],\n",
       "        [0.69591894],\n",
       "        [0.68238007],\n",
       "        [0.66819903],\n",
       "        [0.65337274],\n",
       "        [0.63796629],\n",
       "        [0.62209048],\n",
       "        [0.60588971],\n",
       "        [0.58961491],\n",
       "        [0.5735915 ],\n",
       "        [0.55812968],\n",
       "        [0.54347447],\n",
       "        [0.52981795],\n",
       "        [0.51718774],\n",
       "        [0.50556099],\n",
       "        [0.49482148],\n",
       "        [0.48481079]],\n",
       "\n",
       "       [[0.23220918],\n",
       "        [0.22589043],\n",
       "        [0.2201776 ],\n",
       "        [0.21510281],\n",
       "        [0.21060537],\n",
       "        [0.20669917],\n",
       "        [0.20327267],\n",
       "        [0.20024647],\n",
       "        [0.19767827],\n",
       "        [0.1956233 ],\n",
       "        [0.19408434],\n",
       "        [0.19304538],\n",
       "        [0.19248993],\n",
       "        [0.19235863],\n",
       "        [0.19263078],\n",
       "        [0.19329744],\n",
       "        [0.19436684],\n",
       "        [0.19582529],\n",
       "        [0.19759156],\n",
       "        [0.19960741],\n",
       "        [0.20175919],\n",
       "        [0.20402888],\n",
       "        [0.20642438],\n",
       "        [0.20898763],\n",
       "        [0.21177735],\n",
       "        [0.21494817],\n",
       "        [0.21858332],\n",
       "        [0.22276229],\n",
       "        [0.22761881],\n",
       "        [0.23315251],\n",
       "        [0.23932607],\n",
       "        [0.24607565],\n",
       "        [0.25329658],\n",
       "        [0.26082648],\n",
       "        [0.26867921],\n",
       "        [0.27678126],\n",
       "        [0.28520909],\n",
       "        [0.29406989],\n",
       "        [0.30347213],\n",
       "        [0.31344107],\n",
       "        [0.32405699],\n",
       "        [0.33531283],\n",
       "        [0.34721171],\n",
       "        [0.35968926],\n",
       "        [0.37266454],\n",
       "        [0.38615439],\n",
       "        [0.40010562],\n",
       "        [0.41443805],\n",
       "        [0.4291675 ],\n",
       "        [0.44433108],\n",
       "        [0.45982207],\n",
       "        [0.47561119],\n",
       "        [0.49163256],\n",
       "        [0.50777366],\n",
       "        [0.52397751],\n",
       "        [0.54022347],\n",
       "        [0.55652082],\n",
       "        [0.57280285],\n",
       "        [0.5889892 ],\n",
       "        [0.60490616],\n",
       "        [0.62038986],\n",
       "        [0.63515706],\n",
       "        [0.6490819 ],\n",
       "        [0.66205991],\n",
       "        [0.67401737],\n",
       "        [0.68493978],\n",
       "        [0.69482697],\n",
       "        [0.70372802],\n",
       "        [0.71169145],\n",
       "        [0.71882917],\n",
       "        [0.72525083],\n",
       "        [0.73119567],\n",
       "        [0.736711  ],\n",
       "        [0.74182331],\n",
       "        [0.74651864],\n",
       "        [0.75078449],\n",
       "        [0.75448342],\n",
       "        [0.75768088],\n",
       "        [0.76048173],\n",
       "        [0.76296598],\n",
       "        [0.76519943],\n",
       "        [0.76732157],\n",
       "        [0.76931561],\n",
       "        [0.77110898],\n",
       "        [0.77274504],\n",
       "        [0.77416637],\n",
       "        [0.77523946],\n",
       "        [0.77587138],\n",
       "        [0.77602873],\n",
       "        [0.77566804],\n",
       "        [0.77488965],\n",
       "        [0.77389058],\n",
       "        [0.77284948],\n",
       "        [0.77198549],\n",
       "        [0.77135273],\n",
       "        [0.7709648 ],\n",
       "        [0.77073496],\n",
       "        [0.77057528],\n",
       "        [0.77031541],\n",
       "        [0.76990371],\n",
       "        [0.76925453],\n",
       "        [0.76841436],\n",
       "        [0.76732436],\n",
       "        [0.76600597],\n",
       "        [0.76447258],\n",
       "        [0.76264357],\n",
       "        [0.76039309],\n",
       "        [0.75788262],\n",
       "        [0.75505554],\n",
       "        [0.75187688],\n",
       "        [0.74849205],\n",
       "        [0.74502431],\n",
       "        [0.74147313],\n",
       "        [0.73784385],\n",
       "        [0.73412773],\n",
       "        [0.73022199],\n",
       "        [0.72603831],\n",
       "        [0.72136046],\n",
       "        [0.71615621],\n",
       "        [0.71032948],\n",
       "        [0.7039292 ],\n",
       "        [0.69689877],\n",
       "        [0.6892515 ],\n",
       "        [0.68091449],\n",
       "        [0.67175892],\n",
       "        [0.66158776],\n",
       "        [0.65023906],\n",
       "        [0.63764966],\n",
       "        [0.62375508],\n",
       "        [0.60865063],\n",
       "        [0.59252645],\n",
       "        [0.57561731],\n",
       "        [0.55820374],\n",
       "        [0.54079619],\n",
       "        [0.52378958],\n",
       "        [0.50740172],\n",
       "        [0.49184263],\n",
       "        [0.47721544],\n",
       "        [0.46343974],\n",
       "        [0.45031686],\n",
       "        [0.43770563],\n",
       "        [0.42563146],\n",
       "        [0.41419656],\n",
       "        [0.40350845],\n",
       "        [0.39384875],\n",
       "        [0.38537939],\n",
       "        [0.37825489],\n",
       "        [0.37240953],\n",
       "        [0.36774005],\n",
       "        [0.3641083 ],\n",
       "        [0.36128012]]])"
      ]
     },
     "execution_count": 95,
     "metadata": {},
     "output_type": "execute_result"
    }
   ],
   "source": [
    "modelteste2.cluster_centers_"
   ]
  },
  {
   "cell_type": "code",
   "execution_count": 96,
   "id": "9810898a-9e0a-4652-b0f0-c40a7b179df8",
   "metadata": {},
   "outputs": [],
   "source": [
    "cluster_centersteste=[]\n",
    "for x in modelteste2.cluster_centers_:\n",
    "    abc=np.concatenate(x, axis=0)\n",
    "    cluster_centersteste.append(abc)"
   ]
  },
  {
   "cell_type": "code",
   "execution_count": 97,
   "id": "3d56b348-545b-4cc7-8919-ec662357d33f",
   "metadata": {},
   "outputs": [],
   "source": [
    "x=np.arange(0,151)"
   ]
  },
  {
   "cell_type": "code",
   "execution_count": 98,
   "id": "d261f7d2-a429-47c4-b1cf-f9e313efebd9",
   "metadata": {},
   "outputs": [
    {
     "data": {
      "image/png": "[encoded data removed]",
      "text/plain": [
       "<Figure size 432x288 with 1 Axes>"
      ]
     },
     "metadata": {
      "needs_background": "light"
     },
     "output_type": "display_data"
    }
   ],
   "source": [
    "plt.plot(x, cluster_centersteste[0], \"tab:blue\", label=\"cluster_1\")\n",
    "plt.plot(x, cluster_centersteste[1], \"tab:orange\", label=\"cluster_2\")\n",
    "plt.plot(x, arraytestemean, \"tab:green\", label=\"mean\")\n",
    "plt.legend(loc=\"upper left\")\n",
    "plt.xlabel(\"Days\")\n",
    "plt.ylabel(\"NDVI\")\n",
    "plt.show()"
   ]
  },
  {
   "cell_type": "code",
   "execution_count": 99,
   "id": "9c380058-c92a-4d66-bc67-04e46181f46c",
   "metadata": {},
   "outputs": [
    {
     "data": {
      "text/plain": [
       "<AxesSubplot:>"
      ]
     },
     "execution_count": 99,
     "metadata": {},
     "output_type": "execute_result"
    },
    {
     "data": {
      "image/png": "[encoded data removed]",
      "text/plain": [
       "<Figure size 432x288 with 1 Axes>"
      ]
     },
     "metadata": {
      "needs_background": "light"
     },
     "output_type": "display_data"
    }
   ],
   "source": [
    "df_train_melhor.mean().plot()"
   ]
  },
  {
   "cell_type": "code",
   "execution_count": 100,
   "id": "974b5596-cb30-42cf-b6e5-c48fcd0b4a37",
   "metadata": {},
   "outputs": [
    {
     "data": {
      "text/plain": [
       "array([0.21520392, 0.20996172, 0.20501957, 0.20044924, 0.19634123,\n",
       "       0.19278124, 0.18981427, 0.18750353, 0.18584453, 0.18478777,\n",
       "       0.18426411, 0.1841825 , 0.18445676, 0.18506374, 0.18596534,\n",
       "       0.18717499, 0.18874174, 0.19068879, 0.19303028, 0.19579442,\n",
       "       0.1990105 , 0.20267295, 0.20679869, 0.2113851 , 0.21646294,\n",
       "       0.22204529, 0.2281889 , 0.23494844, 0.24238618, 0.2505718 ,\n",
       "       0.25956951, 0.26941805, 0.28011356, 0.29165372, 0.30398087,\n",
       "       0.31704278, 0.33078368, 0.34515025, 0.36009963, 0.37559676,\n",
       "       0.39162304, 0.40813519, 0.42509464, 0.44248457, 0.46029434,\n",
       "       0.4784793 , 0.49700914, 0.51583366, 0.53487462, 0.55401265,\n",
       "       0.57312964, 0.59210948, 0.61082732, 0.62912546, 0.6468171 ,\n",
       "       0.66373793, 0.67974755, 0.69477396, 0.7087715 , 0.72177339,\n",
       "       0.73384733, 0.74508252, 0.75554489, 0.7653221 , 0.77446015,\n",
       "       0.78296573, 0.79084909, 0.79810371, 0.80466722, 0.81051324,\n",
       "       0.81564315, 0.82004501, 0.8237282 , 0.82676248, 0.82925045,\n",
       "       0.83124239, 0.83276834, 0.83391382, 0.83472468, 0.83522476,\n",
       "       0.83547416, 0.83554948, 0.83545861, 0.83527891, 0.83507617,\n",
       "       0.83487896, 0.83471815, 0.83460751, 0.83453013, 0.83447161,\n",
       "       0.83440982, 0.83432164, 0.83421015, 0.83405612, 0.83380685,\n",
       "       0.83345006, 0.83295408, 0.83229796, 0.83146531, 0.83047675,\n",
       "       0.8293745 , 0.82818306, 0.82689476, 0.82555282, 0.82417495,\n",
       "       0.82272589, 0.82120822, 0.81964531, 0.8179727 , 0.81615497,\n",
       "       0.81415815, 0.81193337, 0.80943637, 0.80667408, 0.8036425 ,\n",
       "       0.80035875, 0.79682324, 0.79301925, 0.78892421, 0.78449348,\n",
       "       0.77968051, 0.77447531, 0.76884733, 0.7627528 , 0.75615422,\n",
       "       0.74900819, 0.74123464, 0.73279483, 0.72364499, 0.71374965,\n",
       "       0.70308489, 0.69166526, 0.67950248, 0.66666007, 0.65322772,\n",
       "       0.63934257, 0.62513665, 0.61079211, 0.59645065, 0.58223901,\n",
       "       0.56823264, 0.55455269, 0.54128082, 0.52851931, 0.51636859,\n",
       "       0.50491079, 0.49415796, 0.48412216, 0.47477541, 0.46604278,\n",
       "       0.45784474])"
      ]
     },
     "execution_count": 100,
     "metadata": {},
     "output_type": "execute_result"
    }
   ],
   "source": [
    "df_train_melhor.mean().values"
   ]
  },
  {
   "cell_type": "code",
   "execution_count": 101,
   "id": "dcf36ad9-013a-4d18-8905-3732dd2adbe2",
   "metadata": {},
   "outputs": [],
   "source": [
    "array_train_mean=df_train_melhor.mean().values"
   ]
  },
  {
   "cell_type": "code",
   "execution_count": 102,
   "id": "958848d8-100d-451a-ad41-69547181ef26",
   "metadata": {},
   "outputs": [],
   "source": [
    "seed=0"
   ]
  },
  {
   "cell_type": "code",
   "execution_count": 103,
   "id": "36299105-28d4-4a76-b97a-5b73f0f4a13b",
   "metadata": {},
   "outputs": [
    {
     "data": {
      "text/plain": [
       "TimeSeriesKMeans(max_iter=1000, n_clusters=2, n_init=10, random_state=0)"
      ]
     },
     "execution_count": 103,
     "metadata": {},
     "output_type": "execute_result"
    }
   ],
   "source": [
    "from tslearn.clustering import TimeSeriesKMeans\n",
    "\n",
    "model2 = TimeSeriesKMeans(n_clusters=2, metric=\"euclidean\",\n",
    "                         max_iter=1000,n_init=10, random_state=seed)\n",
    "model2.fit(df_train_melhor)"
   ]
  },
  {
   "cell_type": "code",
   "execution_count": 104,
   "id": "e8a6250b-8b43-4b38-ac23-4c1e9f537419",
   "metadata": {},
   "outputs": [
    {
     "data": {
      "image/png": "[encoded data removed]",
      "text/plain": [
       "<Figure size 432x288 with 1 Axes>"
      ]
     },
     "metadata": {
      "needs_background": "light"
     },
     "output_type": "display_data"
    }
   ],
   "source": [
    "for x in model2.cluster_centers_:\n",
    "    plt.plot(x)"
   ]
  },
  {
   "cell_type": "code",
   "execution_count": 105,
   "id": "f98cb364-5980-40fb-8bcf-f97d40177be6",
   "metadata": {},
   "outputs": [
    {
     "data": {
      "text/plain": [
       "0.3362093959458221"
      ]
     },
     "execution_count": 105,
     "metadata": {},
     "output_type": "execute_result"
    }
   ],
   "source": [
    "import tslearn.clustering\n",
    "from tslearn.metrics import cdist_dtw\n",
    "tslearn.clustering.silhouette_score(df_train_melhor, labels=model2.labels_, metric=\"euclidean\")"
   ]
  },
  {
   "cell_type": "code",
   "execution_count": 106,
   "id": "6a38c313-fe55-4b1f-b6cc-35392c1284c9",
   "metadata": {},
   "outputs": [
    {
     "data": {
      "text/plain": [
       "0.8437565861518653"
      ]
     },
     "execution_count": 106,
     "metadata": {},
     "output_type": "execute_result"
    }
   ],
   "source": [
    "model2.inertia_"
   ]
  },
  {
   "cell_type": "code",
   "execution_count": 107,
   "id": "73580a0d-28eb-4d9d-b16d-eb1653b50a87",
   "metadata": {},
   "outputs": [
    {
     "data": {
      "text/plain": [
       "array([[[0.21024374],\n",
       "        [0.20513248],\n",
       "        [0.2003314 ],\n",
       "        [0.1959019 ],\n",
       "        [0.19191818],\n",
       "        [0.18845355],\n",
       "        [0.18556277],\n",
       "        [0.18332458],\n",
       "        [0.18174007],\n",
       "        [0.180779  ],\n",
       "        [0.18038512],\n",
       "        [0.18048251],\n",
       "        [0.18097502],\n",
       "        [0.181839  ],\n",
       "        [0.18302877],\n",
       "        [0.18455043],\n",
       "        [0.18644131],\n",
       "        [0.18871811],\n",
       "        [0.19138771],\n",
       "        [0.19448582],\n",
       "        [0.19805992],\n",
       "        [0.20211404],\n",
       "        [0.20667879],\n",
       "        [0.21176121],\n",
       "        [0.21741044],\n",
       "        [0.22364923],\n",
       "        [0.23053691],\n",
       "        [0.23813587],\n",
       "        [0.24652878],\n",
       "        [0.255802  ],\n",
       "        [0.26602354],\n",
       "        [0.2772288 ],\n",
       "        [0.28942547],\n",
       "        [0.30260331],\n",
       "        [0.31667467],\n",
       "        [0.33156408],\n",
       "        [0.34721094],\n",
       "        [0.36352913],\n",
       "        [0.38044908],\n",
       "        [0.39791307],\n",
       "        [0.41590993],\n",
       "        [0.43438803],\n",
       "        [0.45330154],\n",
       "        [0.47263112],\n",
       "        [0.49236925],\n",
       "        [0.51245052],\n",
       "        [0.53282217],\n",
       "        [0.55343403],\n",
       "        [0.57417984],\n",
       "        [0.59490119],\n",
       "        [0.61546431],\n",
       "        [0.63574389],\n",
       "        [0.65557661],\n",
       "        [0.67478596],\n",
       "        [0.69316936],\n",
       "        [0.71056409],\n",
       "        [0.7268306 ],\n",
       "        [0.74189429],\n",
       "        [0.75572449],\n",
       "        [0.76837911],\n",
       "        [0.77991784],\n",
       "        [0.79042917],\n",
       "        [0.80001192],\n",
       "        [0.80877493],\n",
       "        [0.81676309],\n",
       "        [0.82399687],\n",
       "        [0.8305396 ],\n",
       "        [0.83643756],\n",
       "        [0.84165952],\n",
       "        [0.84622783],\n",
       "        [0.8501797 ],\n",
       "        [0.85350278],\n",
       "        [0.85616662],\n",
       "        [0.85824315],\n",
       "        [0.85981858],\n",
       "        [0.86093107],\n",
       "        [0.86159601],\n",
       "        [0.86193119],\n",
       "        [0.8619847 ],\n",
       "        [0.86179749],\n",
       "        [0.86143433],\n",
       "        [0.86098485],\n",
       "        [0.86044947],\n",
       "        [0.8598896 ],\n",
       "        [0.85934279],\n",
       "        [0.8588184 ],\n",
       "        [0.85833261],\n",
       "        [0.85788115],\n",
       "        [0.85746498],\n",
       "        [0.8571167 ],\n",
       "        [0.85685361],\n",
       "        [0.85666589],\n",
       "        [0.85656417],\n",
       "        [0.85649872],\n",
       "        [0.85637082],\n",
       "        [0.85611466],\n",
       "        [0.855663  ],\n",
       "        [0.8549925 ],\n",
       "        [0.85410464],\n",
       "        [0.85302638],\n",
       "        [0.85182999],\n",
       "        [0.85057531],\n",
       "        [0.84926443],\n",
       "        [0.84795765],\n",
       "        [0.84667953],\n",
       "        [0.84537969],\n",
       "        [0.84403343],\n",
       "        [0.84264525],\n",
       "        [0.84111335],\n",
       "        [0.83940066],\n",
       "        [0.83748785],\n",
       "        [0.83535131],\n",
       "        [0.83298491],\n",
       "        [0.83043252],\n",
       "        [0.82771851],\n",
       "        [0.82485584],\n",
       "        [0.82184367],\n",
       "        [0.81865403],\n",
       "        [0.81527234],\n",
       "        [0.81162278],\n",
       "        [0.80766554],\n",
       "        [0.80338411],\n",
       "        [0.7987442 ],\n",
       "        [0.79367555],\n",
       "        [0.78816314],\n",
       "        [0.7821608 ],\n",
       "        [0.77561217],\n",
       "        [0.76849075],\n",
       "        [0.76078197],\n",
       "        [0.75244415],\n",
       "        [0.74345889],\n",
       "        [0.73380226],\n",
       "        [0.72344234],\n",
       "        [0.71237466],\n",
       "        [0.70061062],\n",
       "        [0.68817979],\n",
       "        [0.67513091],\n",
       "        [0.66155793],\n",
       "        [0.64756438],\n",
       "        [0.63326637],\n",
       "        [0.6187777 ],\n",
       "        [0.60424699],\n",
       "        [0.58981428],\n",
       "        [0.57563521],\n",
       "        [0.56187747],\n",
       "        [0.54865572],\n",
       "        [0.53602253],\n",
       "        [0.52403373],\n",
       "        [0.5126987 ],\n",
       "        [0.50193816],\n",
       "        [0.49170927]],\n",
       "\n",
       "       [[0.22896443],\n",
       "        [0.22335896],\n",
       "        [0.21802544],\n",
       "        [0.21306443],\n",
       "        [0.20861162],\n",
       "        [0.2047871 ],\n",
       "        [0.20160876],\n",
       "        [0.19909677],\n",
       "        [0.19723109],\n",
       "        [0.19590886],\n",
       "        [0.19502519],\n",
       "        [0.19444696],\n",
       "        [0.1941158 ],\n",
       "        [0.19400978],\n",
       "        [0.19411196],\n",
       "        [0.19445602],\n",
       "        [0.19512358],\n",
       "        [0.19615581],\n",
       "        [0.19758707],\n",
       "        [0.19942474],\n",
       "        [0.20164758],\n",
       "        [0.2042235 ],\n",
       "        [0.20713132],\n",
       "        [0.21034172],\n",
       "        [0.21383437],\n",
       "        [0.21759566],\n",
       "        [0.22167506],\n",
       "        [0.22610588],\n",
       "        [0.23089381],\n",
       "        [0.23606223],\n",
       "        [0.2416648 ],\n",
       "        [0.24774954],\n",
       "        [0.25428052],\n",
       "        [0.26127743],\n",
       "        [0.26876582],\n",
       "        [0.27675788],\n",
       "        [0.2852113 ],\n",
       "        [0.29416367],\n",
       "        [0.30364632],\n",
       "        [0.313687  ],\n",
       "        [0.32424653],\n",
       "        [0.33530474],\n",
       "        [0.34684324],\n",
       "        [0.35885223],\n",
       "        [0.37131235],\n",
       "        [0.38423655],\n",
       "        [0.39765684],\n",
       "        [0.41152296],\n",
       "        [0.42583434],\n",
       "        [0.44057992],\n",
       "        [0.45568505],\n",
       "        [0.47105917],\n",
       "        [0.48668413],\n",
       "        [0.50245442],\n",
       "        [0.51822696],\n",
       "        [0.53383308],\n",
       "        [0.54913007],\n",
       "        [0.56405304],\n",
       "        [0.57851481],\n",
       "        [0.5924801 ],\n",
       "        [0.60603881],\n",
       "        [0.61928213],\n",
       "        [0.63218473],\n",
       "        [0.64477554],\n",
       "        [0.6571036 ],\n",
       "        [0.66913739],\n",
       "        [0.68073993],\n",
       "        [0.6917582 ],\n",
       "        [0.70204341],\n",
       "        [0.71143405],\n",
       "        [0.7198321 ],\n",
       "        [0.72722668],\n",
       "        [0.73373774],\n",
       "        [0.73942901],\n",
       "        [0.74444853],\n",
       "        [0.74888026],\n",
       "        [0.75279481],\n",
       "        [0.75618823],\n",
       "        [0.75910008],\n",
       "        [0.76150686],\n",
       "        [0.76345562],\n",
       "        [0.76498684],\n",
       "        [0.76612914],\n",
       "        [0.76700409],\n",
       "        [0.76775589],\n",
       "        [0.76846634],\n",
       "        [0.76920707],\n",
       "        [0.77004192],\n",
       "        [0.77090444],\n",
       "        [0.77164972],\n",
       "        [0.77214641],\n",
       "        [0.77233435],\n",
       "        [0.77219577],\n",
       "        [0.77179601],\n",
       "        [0.77121005],\n",
       "        [0.77057406],\n",
       "        [0.76995514],\n",
       "        [0.76933892],\n",
       "        [0.76865942],\n",
       "        [0.76791971],\n",
       "        [0.76707863],\n",
       "        [0.76606264],\n",
       "        [0.76483695],\n",
       "        [0.76339748],\n",
       "        [0.76174291],\n",
       "        [0.75987988],\n",
       "        [0.75788669],\n",
       "        [0.75583904],\n",
       "        [0.75377608],\n",
       "        [0.75166694],\n",
       "        [0.74943703],\n",
       "        [0.74696746],\n",
       "        [0.74410815],\n",
       "        [0.74076357],\n",
       "        [0.736851  ],\n",
       "        [0.73239908],\n",
       "        [0.72741173],\n",
       "        [0.72190344],\n",
       "        [0.71582939],\n",
       "        [0.70923156],\n",
       "        [0.7020446 ],\n",
       "        [0.69427672],\n",
       "        [0.68590761],\n",
       "        [0.6769671 ],\n",
       "        [0.66735529],\n",
       "        [0.6570364 ],\n",
       "        [0.6458647 ],\n",
       "        [0.63376741],\n",
       "        [0.62061983],\n",
       "        [0.60640361],\n",
       "        [0.59107957],\n",
       "        [0.57476906],\n",
       "        [0.55760478],\n",
       "        [0.53983894],\n",
       "        [0.52177836],\n",
       "        [0.50385868],\n",
       "        [0.48644292],\n",
       "        [0.46995789],\n",
       "        [0.45465126],\n",
       "        [0.44067924],\n",
       "        [0.42801085],\n",
       "        [0.41669108],\n",
       "        [0.4066396 ],\n",
       "        [0.39781068],\n",
       "        [0.39011814],\n",
       "        [0.38355391],\n",
       "        [0.37801753],\n",
       "        [0.37339972],\n",
       "        [0.36956885],\n",
       "        [0.36646203],\n",
       "        [0.36389796]]])"
      ]
     },
     "execution_count": 107,
     "metadata": {},
     "output_type": "execute_result"
    }
   ],
   "source": [
    "model2.cluster_centers_"
   ]
  },
  {
   "cell_type": "code",
   "execution_count": 108,
   "id": "247ad213-ecd5-42c7-a1da-e034fcea32ba",
   "metadata": {},
   "outputs": [],
   "source": [
    "cluster_centers=[]\n",
    "for x in model2.cluster_centers_:\n",
    "    abc=np.concatenate(x, axis=0)\n",
    "    cluster_centers.append(abc)"
   ]
  },
  {
   "cell_type": "code",
   "execution_count": 109,
   "id": "919785c8-4bd5-48b7-81a3-cbb38c4a5eca",
   "metadata": {},
   "outputs": [
    {
     "data": {
      "text/plain": [
       "array([0.21024374, 0.20513248, 0.2003314 , 0.1959019 , 0.19191818,\n",
       "       0.18845355, 0.18556277, 0.18332458, 0.18174007, 0.180779  ,\n",
       "       0.18038512, 0.18048251, 0.18097502, 0.181839  , 0.18302877,\n",
       "       0.18455043, 0.18644131, 0.18871811, 0.19138771, 0.19448582,\n",
       "       0.19805992, 0.20211404, 0.20667879, 0.21176121, 0.21741044,\n",
       "       0.22364923, 0.23053691, 0.23813587, 0.24652878, 0.255802  ,\n",
       "       0.26602354, 0.2772288 , 0.28942547, 0.30260331, 0.31667467,\n",
       "       0.33156408, 0.34721094, 0.36352913, 0.38044908, 0.39791307,\n",
       "       0.41590993, 0.43438803, 0.45330154, 0.47263112, 0.49236925,\n",
       "       0.51245052, 0.53282217, 0.55343403, 0.57417984, 0.59490119,\n",
       "       0.61546431, 0.63574389, 0.65557661, 0.67478596, 0.69316936,\n",
       "       0.71056409, 0.7268306 , 0.74189429, 0.75572449, 0.76837911,\n",
       "       0.77991784, 0.79042917, 0.80001192, 0.80877493, 0.81676309,\n",
       "       0.82399687, 0.8305396 , 0.83643756, 0.84165952, 0.84622783,\n",
       "       0.8501797 , 0.85350278, 0.85616662, 0.85824315, 0.85981858,\n",
       "       0.86093107, 0.86159601, 0.86193119, 0.8619847 , 0.86179749,\n",
       "       0.86143433, 0.86098485, 0.86044947, 0.8598896 , 0.85934279,\n",
       "       0.8588184 , 0.85833261, 0.85788115, 0.85746498, 0.8571167 ,\n",
       "       0.85685361, 0.85666589, 0.85656417, 0.85649872, 0.85637082,\n",
       "       0.85611466, 0.855663  , 0.8549925 , 0.85410464, 0.85302638,\n",
       "       0.85182999, 0.85057531, 0.84926443, 0.84795765, 0.84667953,\n",
       "       0.84537969, 0.84403343, 0.84264525, 0.84111335, 0.83940066,\n",
       "       0.83748785, 0.83535131, 0.83298491, 0.83043252, 0.82771851,\n",
       "       0.82485584, 0.82184367, 0.81865403, 0.81527234, 0.81162278,\n",
       "       0.80766554, 0.80338411, 0.7987442 , 0.79367555, 0.78816314,\n",
       "       0.7821608 , 0.77561217, 0.76849075, 0.76078197, 0.75244415,\n",
       "       0.74345889, 0.73380226, 0.72344234, 0.71237466, 0.70061062,\n",
       "       0.68817979, 0.67513091, 0.66155793, 0.64756438, 0.63326637,\n",
       "       0.6187777 , 0.60424699, 0.58981428, 0.57563521, 0.56187747,\n",
       "       0.54865572, 0.53602253, 0.52403373, 0.5126987 , 0.50193816,\n",
       "       0.49170927])"
      ]
     },
     "execution_count": 109,
     "metadata": {},
     "output_type": "execute_result"
    }
   ],
   "source": [
    "cluster_centers[0]"
   ]
  },
  {
   "cell_type": "code",
   "execution_count": 110,
   "id": "ba1b080a-b534-4f41-a52c-55249b5ae977",
   "metadata": {},
   "outputs": [],
   "source": [
    "cluster_centers2=cluster_centers"
   ]
  },
  {
   "cell_type": "code",
   "execution_count": 111,
   "id": "45510ea4-7f4a-43b3-8b14-9e98bd60d08a",
   "metadata": {},
   "outputs": [
    {
     "data": {
      "text/plain": [
       "array([0.21024374, 0.20513248, 0.2003314 , 0.1959019 , 0.19191818,\n",
       "       0.18845355, 0.18556277, 0.18332458, 0.18174007, 0.180779  ,\n",
       "       0.18038512, 0.18048251, 0.18097502, 0.181839  , 0.18302877,\n",
       "       0.18455043, 0.18644131, 0.18871811, 0.19138771, 0.19448582,\n",
       "       0.19805992, 0.20211404, 0.20667879, 0.21176121, 0.21741044,\n",
       "       0.22364923, 0.23053691, 0.23813587, 0.24652878, 0.255802  ,\n",
       "       0.26602354, 0.2772288 , 0.28942547, 0.30260331, 0.31667467,\n",
       "       0.33156408, 0.34721094, 0.36352913, 0.38044908, 0.39791307,\n",
       "       0.41590993, 0.43438803, 0.45330154, 0.47263112, 0.49236925,\n",
       "       0.51245052, 0.53282217, 0.55343403, 0.57417984, 0.59490119,\n",
       "       0.61546431, 0.63574389, 0.65557661, 0.67478596, 0.69316936,\n",
       "       0.71056409, 0.7268306 , 0.74189429, 0.75572449, 0.76837911,\n",
       "       0.77991784, 0.79042917, 0.80001192, 0.80877493, 0.81676309,\n",
       "       0.82399687, 0.8305396 , 0.83643756, 0.84165952, 0.84622783,\n",
       "       0.8501797 , 0.85350278, 0.85616662, 0.85824315, 0.85981858,\n",
       "       0.86093107, 0.86159601, 0.86193119, 0.8619847 , 0.86179749,\n",
       "       0.86143433, 0.86098485, 0.86044947, 0.8598896 , 0.85934279,\n",
       "       0.8588184 , 0.85833261, 0.85788115, 0.85746498, 0.8571167 ,\n",
       "       0.85685361, 0.85666589, 0.85656417, 0.85649872, 0.85637082,\n",
       "       0.85611466, 0.855663  , 0.8549925 , 0.85410464, 0.85302638,\n",
       "       0.85182999, 0.85057531, 0.84926443, 0.84795765, 0.84667953,\n",
       "       0.84537969, 0.84403343, 0.84264525, 0.84111335, 0.83940066,\n",
       "       0.83748785, 0.83535131, 0.83298491, 0.83043252, 0.82771851,\n",
       "       0.82485584, 0.82184367, 0.81865403, 0.81527234, 0.81162278,\n",
       "       0.80766554, 0.80338411, 0.7987442 , 0.79367555, 0.78816314,\n",
       "       0.7821608 , 0.77561217, 0.76849075, 0.76078197, 0.75244415,\n",
       "       0.74345889, 0.73380226, 0.72344234, 0.71237466, 0.70061062,\n",
       "       0.68817979, 0.67513091, 0.66155793, 0.64756438, 0.63326637,\n",
       "       0.6187777 , 0.60424699, 0.58981428, 0.57563521, 0.56187747,\n",
       "       0.54865572, 0.53602253, 0.52403373, 0.5126987 , 0.50193816,\n",
       "       0.49170927])"
      ]
     },
     "execution_count": 111,
     "metadata": {},
     "output_type": "execute_result"
    }
   ],
   "source": [
    "cluster_centers2[0]"
   ]
  },
  {
   "cell_type": "code",
   "execution_count": 112,
   "id": "74b30c0b-c3b3-4356-8d81-5790fe34abdd",
   "metadata": {},
   "outputs": [
    {
     "data": {
      "image/png": "[encoded data removed]",
      "text/plain": [
       "<Figure size 432x288 with 1 Axes>"
      ]
     },
     "metadata": {
      "needs_background": "light"
     },
     "output_type": "display_data"
    }
   ],
   "source": [
    "x=np.arange(0,151)\n",
    "\n",
    "plt.plot(x, cluster_centers[0], \"tab:blue\", label=\"cluster_1\")\n",
    "plt.plot(x, cluster_centers[1], \"tab:orange\", label=\"cluster_2\")\n",
    "plt.plot(x, array_train_mean, \"tab:green\", label=\"mean\")\n",
    "plt.legend(loc=\"upper left\")\n",
    "plt.xlabel(\"Days\")\n",
    "plt.ylabel(\"NDVI\")\n",
    "plt.show()"
   ]
  },
  {
   "cell_type": "markdown",
   "id": "a0fb93ab-406c-42d1-b6a1-6b86ef966c51",
   "metadata": {},
   "source": [
    "# Models"
   ]
  },
  {
   "cell_type": "markdown",
   "id": "33f7b22b-a7bb-40d3-aa9a-c40845afd34c",
   "metadata": {},
   "source": [
    "# Mean"
   ]
  },
  {
   "cell_type": "markdown",
   "id": "930097f8-6f4c-40c9-a9ec-53884404c021",
   "metadata": {},
   "source": [
    "## Linear"
   ]
  },
  {
   "cell_type": "code",
   "execution_count": 113,
   "id": "1d73aa23-cfcf-4567-af65-c89f59baf098",
   "metadata": {},
   "outputs": [
    {
     "name": "stdout",
     "output_type": "stream",
     "text": [
      "[1.45218762]\n",
      "-0.029579265755667383\n"
     ]
    }
   ],
   "source": [
    "from sklearn import linear_model\n",
    "from sklearn.model_selection import train_test_split,cross_val_score\n",
    "from sklearn import metrics\n",
    "\n",
    "#X = NDVIbluesync.iloc[:,:-1].values\n",
    "X=df_train_melhor.mean().values.reshape(-1,1)\n",
    "#y = NDVIbluesync.iloc[:,1].values\n",
    "y=df_kcteoric['Kcteoric'].values\n",
    "Reg = linear_model.LinearRegression()\n",
    "Reg.fit(X, y)\n",
    "pred = Reg.predict(X)\n",
    "print(Reg.coef_)\n",
    "print(Reg.intercept_)"
   ]
  },
  {
   "cell_type": "code",
   "execution_count": 114,
   "id": "a510ab4d-75ab-48a1-95e0-fdf993f33c35",
   "metadata": {},
   "outputs": [
    {
     "data": {
      "text/plain": [
       "0.9800457010161492"
      ]
     },
     "execution_count": 114,
     "metadata": {},
     "output_type": "execute_result"
    }
   ],
   "source": [
    "Reg.score(X, y)"
   ]
  },
  {
   "cell_type": "code",
   "execution_count": 115,
   "id": "b84f2156-8a97-49d0-82f0-ec057d6b681c",
   "metadata": {},
   "outputs": [
    {
     "data": {
      "text/plain": [
       "[<matplotlib.lines.Line2D at 0x1df8437d970>]"
      ]
     },
     "execution_count": 115,
     "metadata": {},
     "output_type": "execute_result"
    },
    {
     "data": {
      "image/png": "[encoded data removed]",
      "text/plain": [
       "<Figure size 432x288 with 1 Axes>"
      ]
     },
     "metadata": {
      "needs_background": "light"
     },
     "output_type": "display_data"
    }
   ],
   "source": [
    "from sklearn.metrics import r2_score, mean_squared_error\n",
    "mse = mean_squared_error(y, pred)\n",
    "r2 = r2_score(y, pred)\n",
    "plt.plot(X, pred, color = 'Black', marker = 'o')"
   ]
  },
  {
   "cell_type": "code",
   "execution_count": 116,
   "id": "ed113533-1f5a-4bdc-9fd8-4b34a3011f24",
   "metadata": {},
   "outputs": [
    {
     "name": "stdout",
     "output_type": "stream",
     "text": [
      "0.9800457010161492\n",
      "0.0025678119300477443\n"
     ]
    }
   ],
   "source": [
    "print(r2)\n",
    "print(mse)"
   ]
  },
  {
   "cell_type": "code",
   "execution_count": 117,
   "id": "b01154a3-d8b2-4b92-bca0-5c7e64f88479",
   "metadata": {},
   "outputs": [
    {
     "name": "stdout",
     "output_type": "stream",
     "text": [
      "0.05067358217106567\n"
     ]
    }
   ],
   "source": [
    "print(np.sqrt(mse))"
   ]
  },
  {
   "cell_type": "code",
   "execution_count": 118,
   "id": "94522398-9695-44bd-8ab0-18ace4ca4c03",
   "metadata": {},
   "outputs": [
    {
     "data": {
      "text/plain": [
       "array([0.2829372 , 0.27532454, 0.26814761, 0.26151064, 0.25554504,\n",
       "       0.25037527, 0.24606667, 0.24271104, 0.24030186, 0.23876724,\n",
       "       0.2380068 , 0.23788827, 0.23828656, 0.239168  , 0.2404773 ,\n",
       "       0.24223393, 0.24450916, 0.24733663, 0.25073691, 0.25475097,\n",
       "       0.25942132, 0.26473989, 0.27073124, 0.27739157, 0.28476553,\n",
       "       0.29287216, 0.30179383, 0.31160995, 0.32241095, 0.334298  ,\n",
       "       0.34736437, 0.3616663 , 0.37719818, 0.39395665, 0.411858  ,\n",
       "       0.43082633, 0.4507807 , 0.47164365, 0.49335297, 0.5158577 ,\n",
       "       0.53913087, 0.56310961, 0.58773791, 0.61299135, 0.63885448,\n",
       "       0.66526245, 0.69217125, 0.71950799, 0.74715904, 0.77495104,\n",
       "       0.8027125 , 0.83027479, 0.85745661, 0.88402895, 0.90972051,\n",
       "       0.93429274, 0.95754171, 0.97936288, 0.99968993, 1.01857111,\n",
       "       1.03610474, 1.05242034, 1.06761367, 1.08181201, 1.09508217,\n",
       "       1.10743387, 1.11888199, 1.12941707, 1.13894851, 1.14743803,\n",
       "       1.15488762, 1.16127995, 1.16662863, 1.17103498, 1.17464797,\n",
       "       1.17754064, 1.17975662, 1.18142006, 1.18259758, 1.18332379,\n",
       "       1.18368596, 1.18379535, 1.18366339, 1.18340243, 1.18310801,\n",
       "       1.18282163, 1.1825881 , 1.18242743, 1.18231506, 1.18223007,\n",
       "       1.18214035, 1.18201229, 1.18185039, 1.18162671, 1.18126472,\n",
       "       1.18074659, 1.18002634, 1.17907353, 1.17786436, 1.17642879,\n",
       "       1.17482812, 1.17309793, 1.17122707, 1.16927832, 1.1672774 ,\n",
       "       1.16517309, 1.16296915, 1.16069951, 1.15827057, 1.15563088,\n",
       "       1.15273112, 1.14950032, 1.14587421, 1.14186285, 1.13746042,\n",
       "       1.1326918 , 1.12755759, 1.12203348, 1.1160867 , 1.10965246,\n",
       "       1.10266312, 1.0951042 , 1.08693131, 1.07808091, 1.06849854,\n",
       "       1.05812115, 1.0468325 , 1.03457631, 1.02128903, 1.00691913,\n",
       "       0.9914319 , 0.97484846, 0.95718582, 0.93853623, 0.91902994,\n",
       "       0.8988661 , 0.87823645, 0.85740547, 0.83657899, 0.81594102,\n",
       "       0.79560113, 0.77573529, 0.75646204, 0.73792994, 0.7202848 ,\n",
       "       0.70364594, 0.68803081, 0.67345694, 0.6598837 , 0.64720229,\n",
       "       0.63529719])"
      ]
     },
     "execution_count": 118,
     "metadata": {},
     "output_type": "execute_result"
    }
   ],
   "source": [
    "pred"
   ]
  },
  {
   "cell_type": "code",
   "execution_count": 119,
   "id": "127d093a-ffed-42da-b9f3-a988b1e2c503",
   "metadata": {},
   "outputs": [
    {
     "data": {
      "text/plain": [
       "array([0.3       , 0.3       , 0.3       , 0.3       , 0.3       ,\n",
       "       0.3       , 0.3       , 0.3       , 0.3       , 0.3       ,\n",
       "       0.3       , 0.3       , 0.3       , 0.3       , 0.3       ,\n",
       "       0.3       , 0.3       , 0.3       , 0.3       , 0.3       ,\n",
       "       0.3       , 0.3       , 0.3       , 0.3       , 0.3       ,\n",
       "       0.3       , 0.3       , 0.3       , 0.3       , 0.3       ,\n",
       "       0.32195122, 0.34390244, 0.36585366, 0.38780488, 0.4097561 ,\n",
       "       0.43170732, 0.45365854, 0.47560976, 0.49756098, 0.5195122 ,\n",
       "       0.54146341, 0.56341463, 0.58536585, 0.60731707, 0.62926829,\n",
       "       0.65121951, 0.67317073, 0.69512195, 0.71707317, 0.73902439,\n",
       "       0.76097561, 0.78292683, 0.80487805, 0.82682927, 0.84878049,\n",
       "       0.87073171, 0.89268293, 0.91463415, 0.93658537, 0.95853659,\n",
       "       0.9804878 , 1.00243902, 1.02439024, 1.04634146, 1.06829268,\n",
       "       1.0902439 , 1.11219512, 1.13414634, 1.15609756, 1.17804878,\n",
       "       1.2       , 1.2       , 1.2       , 1.2       , 1.2       ,\n",
       "       1.2       , 1.2       , 1.2       , 1.2       , 1.2       ,\n",
       "       1.2       , 1.2       , 1.2       , 1.2       , 1.2       ,\n",
       "       1.2       , 1.2       , 1.2       , 1.2       , 1.2       ,\n",
       "       1.2       , 1.2       , 1.2       , 1.2       , 1.2       ,\n",
       "       1.2       , 1.2       , 1.2       , 1.2       , 1.2       ,\n",
       "       1.2       , 1.2       , 1.2       , 1.2       , 1.2       ,\n",
       "       1.2       , 1.2       , 1.2       , 1.2       , 1.2       ,\n",
       "       1.2       , 1.2       , 1.2       , 1.2       , 1.2       ,\n",
       "       1.2       , 1.2       , 1.2       , 1.2       , 1.2       ,\n",
       "       1.17677419, 1.15354839, 1.13032258, 1.10709677, 1.08387097,\n",
       "       1.06064516, 1.03741935, 1.01419355, 0.99096774, 0.96774194,\n",
       "       0.94451613, 0.92129032, 0.89806452, 0.87483871, 0.8516129 ,\n",
       "       0.8283871 , 0.80516129, 0.78193548, 0.75870968, 0.73548387,\n",
       "       0.71225806, 0.68903226, 0.66580645, 0.64258065, 0.61935484,\n",
       "       0.59612903, 0.57290323, 0.54967742, 0.52645161, 0.50322581,\n",
       "       0.48      ])"
      ]
     },
     "execution_count": 119,
     "metadata": {},
     "output_type": "execute_result"
    }
   ],
   "source": [
    "y"
   ]
  },
  {
   "cell_type": "code",
   "execution_count": 120,
   "id": "7d56b3f0-2453-4f14-aff8-8eb042b1aa30",
   "metadata": {},
   "outputs": [],
   "source": [
    "frameplotazul = { 'Kc_Teoric': y, 'Kc_Predicted': pred, 'NDVI': X.reshape(151,)}\n",
    "\n",
    "plotazul = pd.DataFrame(frameplotazul)"
   ]
  },
  {
   "cell_type": "code",
   "execution_count": 121,
   "id": "fa3bb2ad-5d37-466a-a8c9-22d8d529babf",
   "metadata": {},
   "outputs": [
    {
     "data": {
      "text/plain": [
       "<AxesSubplot:>"
      ]
     },
     "execution_count": 121,
     "metadata": {},
     "output_type": "execute_result"
    },
    {
     "data": {
      "image/png": "[encoded data removed]",
      "text/plain": [
       "<Figure size 432x288 with 1 Axes>"
      ]
     },
     "metadata": {
      "needs_background": "light"
     },
     "output_type": "display_data"
    }
   ],
   "source": [
    "plotazul.plot()"
   ]
  },
  {
   "cell_type": "code",
   "execution_count": 122,
   "id": "0dd0ad21-f3aa-439d-a552-235c95a0a000",
   "metadata": {},
   "outputs": [
    {
     "data": {
      "text/plain": [
       "Text(0.5, 0, 'Days')"
      ]
     },
     "execution_count": 122,
     "metadata": {},
     "output_type": "execute_result"
    },
    {
     "data": {
      "text/plain": [
       "<Figure size 432x288 with 0 Axes>"
      ]
     },
     "metadata": {},
     "output_type": "display_data"
    },
    {
     "data": {
      "image/png": "[encoded data removed]",
      "text/plain": [
       "<Figure size 432x288 with 2 Axes>"
      ]
     },
     "metadata": {
      "needs_background": "light"
     },
     "output_type": "display_data"
    }
   ],
   "source": [
    "plt.figure()\n",
    "ax = plotazul.plot(secondary_y=[\"Kc_Teoric\",\"Kc_Predicted\"])\n",
    "ax.set_ylabel('NDVI')\n",
    "ax.right_ax.set_ylabel('Kc')\n",
    "ax.set_xlabel('Days')"
   ]
  },
  {
   "cell_type": "code",
   "execution_count": 123,
   "id": "df528321-f1c2-4d32-939c-856f61651e57",
   "metadata": {},
   "outputs": [],
   "source": [
    "#plt.scatter(y,pred)\n",
    "#plt.plot(y,pred,color=\"red\")\n",
    "#plt.show()"
   ]
  },
  {
   "cell_type": "code",
   "execution_count": 124,
   "id": "d11b99af-cccc-45dd-8824-f2afdb5d84bb",
   "metadata": {},
   "outputs": [],
   "source": [
    "#statsmodels"
   ]
  },
  {
   "cell_type": "code",
   "execution_count": 125,
   "id": "96623721-29aa-4e9d-b703-eee56cd0d201",
   "metadata": {},
   "outputs": [
    {
     "name": "stdout",
     "output_type": "stream",
     "text": [
      "                            OLS Regression Results                            \n",
      "==============================================================================\n",
      "Dep. Variable:                      y   R-squared:                       0.980\n",
      "Model:                            OLS   Adj. R-squared:                  0.980\n",
      "Method:                 Least Squares   F-statistic:                     7318.\n",
      "Date:                Thu, 22 Dec 2022   Prob (F-statistic):          1.48e-128\n",
      "Time:                        18:25:34   Log-Likelihood:                 236.08\n",
      "No. Observations:                 151   AIC:                            -468.2\n",
      "Df Residuals:                     149   BIC:                            -462.1\n",
      "Df Model:                           1                                         \n",
      "Covariance Type:            nonrobust                                         \n",
      "==============================================================================\n",
      "                 coef    std err          t      P>|t|      [0.025      0.975]\n",
      "------------------------------------------------------------------------------\n",
      "const         -0.0296      0.011     -2.732      0.007      -0.051      -0.008\n",
      "x1             1.4522      0.017     85.546      0.000       1.419       1.486\n",
      "==============================================================================\n",
      "Omnibus:                       14.177   Durbin-Watson:                   0.014\n",
      "Prob(Omnibus):                  0.001   Jarque-Bera (JB):               15.813\n",
      "Skew:                          -0.790   Prob(JB):                     0.000368\n",
      "Kurtosis:                       3.119   Cond. No.                         5.57\n",
      "==============================================================================\n",
      "\n",
      "Notes:\n",
      "[1] Standard Errors assume that the covariance matrix of the errors is correctly specified.\n"
     ]
    }
   ],
   "source": [
    "import statsmodels.api as sm\n",
    "#performing the regression\n",
    "Xa = sm.add_constant(X)\n",
    "result = sm.OLS(y, Xa).fit()\n",
    "\n",
    "# Result of statsmodels \n",
    "print(result.summary())"
   ]
  },
  {
   "cell_type": "code",
   "execution_count": 126,
   "id": "ab0f507c-1278-4288-8f65-283b3b639ebc",
   "metadata": {},
   "outputs": [
    {
     "data": {
      "text/plain": [
       "1.9373759403227069e-16"
      ]
     },
     "execution_count": 126,
     "metadata": {},
     "output_type": "execute_result"
    }
   ],
   "source": [
    "result.resid.mean()"
   ]
  },
  {
   "cell_type": "markdown",
   "id": "b70fbbf4-bcb1-4de2-aec3-58777887f1eb",
   "metadata": {},
   "source": [
    "__Explain the Statistics__\n",
    "\n",
    "__Model : OLS : Ordinary Least Squares : One way to create a linear regression model. Minimize the dependent samples so you can estimate the unknown samples when creating a linear regression model.__\n",
    "\n",
    "__Method : Least Squares : Fit data to the model by minimizing the residual samples__\n",
    "\n",
    "__R-quared : Measure of how well the regression line approximates the data points. If .5 then that is a sign that half of the observed variation can be explained by the models inputs. 1 would be perfectly correlated.__\n",
    "\n",
    "__Adj, R-squared : Reflects the fit of the model. Values range from 0 to 1, where higher values indicate a good fit.__\n",
    "\n",
    "__F-statistic : Measures how significantly the data points fit into the regression model by measuring variation of sample means.__\n",
    "\n",
    "__Prob (F-statistic) : Probability that the null hypothesis for the full model is true. Closer to zero the better the samples approach the model.__\n",
    "\n",
    "__Log-Likelihood : The conditional probability that the observed data fits the model__\n",
    "\n",
    "__AIC : Adjusts the log-likelihood based on the number of observations and complexity of the model. It focuses on the data points that best describe the data.__\n",
    "\n",
    "__Df Residuals : Degrees of freedom of the residuals which is the difference between predicted values and the measured data.__\n",
    "\n",
    "__BIC : We want a low BIC. It focuses on the shortest description of the data like AIC.__\n",
    "\n",
    "__Df Model : Number of parameters in the model__\n",
    "\n",
    "__Coefficient Constant : Is your Y intercept. If both dependent and independent coefficients are zero then the expected output would equal the constant coefficient.__\n",
    "\n",
    "__Independent Coefficient : Represents the change of the independent variable per unit.__\n",
    "\n",
    "__Standard Error : Accuracy of the coefficients__\n",
    "\n",
    "__P>|t| : The P Value. A P Value less than .05 is considered statistically significant.__\n",
    "\n",
    "__[.025 - .975] : Confidence Interval : Represents the range in which coefficients are likely to fall.__\n",
    "\n",
    "__Omnibus : (D’Angostino’s test) : Establishes whether the samples come from a normally distributed population.__\n",
    "\n",
    "__Durbin-Watson : Test to see if the errors are not independent. Used to find repeating patterns that may be obstructed by noise. Its value lies between 0 and 4. If greater than 2 this is a sign that relationships between two variables are going in opposite directions (negatively correlated). If less than 2 variables are positively correlated.__\n",
    "\n",
    "__Prob(Omnibus) : Probability of Omnibus__\n",
    "\n",
    "__Jarque-Bera : Tests whether the samples match a normal distribution. It never has a negative number and the further it gets from zero signals the data doesn't have a normal distribution.__\n",
    "\n",
    "__Skew : Measure of the asymmetry of the probability distribution. Negative skew indicates the tail is longer on the left and the concentration of the data is on the right. Positive indicates the tail is longer on the right. 0 indicates that the tails are balanced.__\n",
    "\n",
    "__Prob(JB) : The probability of Jarque-Bera__\n",
    "\n",
    "__Kurtosis : Describes the shape of a probability distribution with a focus on the tails and not the peak. If the value is high that is a sign that there are more outliers. If the value is less than 3 that means there are fewer outliers. A value of 3 points towards a normal distribution. Values greater than 3 indicate more outliers.__\n",
    "\n",
    "__Condition Number : Represents whether samples are highly related in our regression model. A large number indicates strong multicollinearity which means that independent variables are highly correlated with each other. This causes problems because a small number of samples are so dramatically different from others that results are corrupted.__"
   ]
  },
  {
   "cell_type": "code",
   "execution_count": null,
   "id": "bfccad6e-e3be-4667-bc35-f80e1fc44550",
   "metadata": {},
   "outputs": [],
   "source": []
  },
  {
   "cell_type": "markdown",
   "id": "e8584256-ae22-478d-8c9e-4ac0930bd4a4",
   "metadata": {},
   "source": [
    "# Linear-Mean Test (correcto)"
   ]
  },
  {
   "cell_type": "code",
   "execution_count": 127,
   "id": "33605eb4-3765-4e90-9d99-8791be46b9e9",
   "metadata": {},
   "outputs": [],
   "source": [
    "pred2 = Reg.predict(np.array(arraytestemean).reshape(-1,1))\n",
    "mse = mean_squared_error(y, pred2)\n",
    "r2 = r2_score(y, pred2)\n",
    "rmse=np.sqrt(mse)"
   ]
  },
  {
   "cell_type": "code",
   "execution_count": 128,
   "id": "22c93b4b-a966-48f6-bf9b-b13df17298c7",
   "metadata": {},
   "outputs": [
    {
     "data": {
      "text/plain": [
       "0.980826358793935"
      ]
     },
     "execution_count": 128,
     "metadata": {},
     "output_type": "execute_result"
    }
   ],
   "source": [
    "r2"
   ]
  },
  {
   "cell_type": "code",
   "execution_count": 129,
   "id": "58374dc2-5275-4e49-a33a-4ec84d87304e",
   "metadata": {},
   "outputs": [
    {
     "data": {
      "text/plain": [
       "0.049672459765210855"
      ]
     },
     "execution_count": 129,
     "metadata": {},
     "output_type": "execute_result"
    }
   ],
   "source": [
    "rmse"
   ]
  },
  {
   "cell_type": "code",
   "execution_count": 130,
   "id": "8c13de46-005b-4e57-a3c1-46951d986bfc",
   "metadata": {},
   "outputs": [
    {
     "data": {
      "text/plain": [
       "array([0.22597779, 0.21824375, 0.21107407, 0.20466092, 0.19912493,\n",
       "       0.1945051 , 0.19074833, 0.18775938, 0.1854501 , 0.18373943,\n",
       "       0.18257927, 0.18188526, 0.1816697 , 0.18185987, 0.18241915,\n",
       "       0.18330544, 0.18452753, 0.18607035, 0.1879595 , 0.19021244,\n",
       "       0.19288253, 0.19601189, 0.19964001, 0.20382216, 0.20864123,\n",
       "       0.21417577, 0.22048884, 0.2276093 , 0.23557945, 0.2443914 ,\n",
       "       0.25403055, 0.26445144, 0.275638  , 0.2875313 , 0.30011586,\n",
       "       0.31330268, 0.32711142, 0.34151614, 0.356498  , 0.37207302,\n",
       "       0.38829502, 0.40513203, 0.42255107, 0.44054282, 0.45902242,\n",
       "       0.47791381, 0.49713277, 0.51661035, 0.53627935, 0.55598926,\n",
       "       0.57554962, 0.59480945, 0.61357804, 0.6317214 , 0.64915321,\n",
       "       0.66586598, 0.68188808, 0.69720432, 0.71182105, 0.7257164 ,\n",
       "       0.73886326, 0.75115681, 0.76258337, 0.77308975, 0.78260789,\n",
       "       0.79113503, 0.79868424, 0.80530128, 0.8110282 , 0.81594427,\n",
       "       0.82013186, 0.823716  , 0.82670346, 0.82915864, 0.83117918,\n",
       "       0.83280785, 0.83402363, 0.83493587, 0.83561931, 0.83615387,\n",
       "       0.8365341 , 0.83681357, 0.83697752, 0.83696901, 0.83672925,\n",
       "       0.83625339, 0.83555737, 0.83469329, 0.83371452, 0.83272994,\n",
       "       0.83184252, 0.83112275, 0.83059135, 0.83030787, 0.83024288,\n",
       "       0.83033804, 0.83050112, 0.83065583, 0.8306636 , 0.83044892,\n",
       "       0.82999814, 0.82935309, 0.82847995, 0.82741411, 0.82617116,\n",
       "       0.82472144, 0.82298747, 0.8210168 , 0.81880087, 0.81638769,\n",
       "       0.81381904, 0.81118029, 0.80848908, 0.80578673, 0.80300222,\n",
       "       0.80010906, 0.79704651, 0.79373283, 0.79009608, 0.78607202,\n",
       "       0.78161996, 0.77668983, 0.77126746, 0.7653205 , 0.75880469,\n",
       "       0.75162621, 0.74374521, 0.73507992, 0.72558933, 0.71527133,\n",
       "       0.70415208, 0.69226318, 0.6796807 , 0.66653367, 0.65296224,\n",
       "       0.63905995, 0.62491176, 0.61059615, 0.59608673, 0.58136903,\n",
       "       0.56647786, 0.55152171, 0.53670669, 0.52229247, 0.50858063,\n",
       "       0.49579115, 0.48410476, 0.47352094, 0.46399258, 0.45539686,\n",
       "       0.4475525 ])"
      ]
     },
     "execution_count": 130,
     "metadata": {},
     "output_type": "execute_result"
    }
   ],
   "source": [
    "arraytestemean"
   ]
  },
  {
   "cell_type": "code",
   "execution_count": 131,
   "id": "d4603bba-a4df-466f-9218-882e47526784",
   "metadata": {},
   "outputs": [],
   "source": [
    "frameplotazulteste = { \"Kc_Theoretical\": y, 'Kc_Predicted': pred2, 'NDVI': arraytestemean}\n",
    "\n",
    "plotazulteste = pd.DataFrame(frameplotazulteste)"
   ]
  },
  {
   "cell_type": "code",
   "execution_count": 132,
   "id": "d8b5de63-38a3-4058-b3ce-34aa9e548052",
   "metadata": {},
   "outputs": [
    {
     "data": {
      "text/plain": [
       "<AxesSubplot:>"
      ]
     },
     "execution_count": 132,
     "metadata": {},
     "output_type": "execute_result"
    },
    {
     "data": {
      "image/png": "[encoded data removed]",
      "text/plain": [
       "<Figure size 432x288 with 1 Axes>"
      ]
     },
     "metadata": {
      "needs_background": "light"
     },
     "output_type": "display_data"
    }
   ],
   "source": [
    "plotazulteste.plot()"
   ]
  },
  {
   "cell_type": "code",
   "execution_count": 133,
   "id": "4f4f2dd6-e322-4e00-8b23-05e524cca3bb",
   "metadata": {},
   "outputs": [
    {
     "data": {
      "text/plain": [
       "Text(0.5, 1.0, 'Mean >=0,9 Pearson Correlation (Linear)')"
      ]
     },
     "execution_count": 133,
     "metadata": {},
     "output_type": "execute_result"
    },
    {
     "data": {
      "text/plain": [
       "<Figure size 432x288 with 0 Axes>"
      ]
     },
     "metadata": {},
     "output_type": "display_data"
    },
    {
     "data": {
      "image/png": "[encoded data removed]",
      "text/plain": [
       "<Figure size 432x288 with 2 Axes>"
      ]
     },
     "metadata": {
      "needs_background": "light"
     },
     "output_type": "display_data"
    }
   ],
   "source": [
    "plt.figure()\n",
    "ax = plotazulteste.plot(secondary_y=[\"Kc_Theoretical\",\"Kc_Predicted\"])\n",
    "ax.set_ylabel('NDVI')\n",
    "ax.right_ax.set_ylabel('Kc')\n",
    "ax.set_xlabel('Days')\n",
    "ax.set_title(\"Mean >=0,9 Pearson Correlation (Linear)\")"
   ]
  },
  {
   "cell_type": "markdown",
   "id": "026e4920-f618-46e5-96b9-47b9d4c2a844",
   "metadata": {},
   "source": [
    "## Polinomial"
   ]
  },
  {
   "cell_type": "code",
   "execution_count": 134,
   "id": "626c4ac9-22c5-4f4a-b1dd-3788701cf13f",
   "metadata": {},
   "outputs": [],
   "source": [
    "X2=X.reshape(151,)"
   ]
  },
  {
   "cell_type": "code",
   "execution_count": 135,
   "id": "693863e2-c871-4a10-afba-267c86e63c57",
   "metadata": {},
   "outputs": [
    {
     "name": "stdout",
     "output_type": "stream",
     "text": [
      "0.9946735510018638\n"
     ]
    }
   ],
   "source": [
    "from sklearn.metrics import r2_score\n",
    "mymodel = np.poly1d(np.polyfit(X2, y, 5))\n",
    "\n",
    "print(r2_score(y, mymodel(X2)))"
   ]
  },
  {
   "cell_type": "code",
   "execution_count": 136,
   "id": "b6e5ed7b-1f44-4b8d-aba7-5718dda461a3",
   "metadata": {},
   "outputs": [
    {
     "name": "stdout",
     "output_type": "stream",
     "text": [
      "        5         4         3         2\n",
      "-92.95 x + 235.5 x - 225.3 x + 101.7 x - 20.45 x + 1.772\n"
     ]
    }
   ],
   "source": [
    "print(mymodel)"
   ]
  },
  {
   "cell_type": "code",
   "execution_count": 137,
   "id": "b48a682e-c565-4691-b977-f4577ce75408",
   "metadata": {},
   "outputs": [
    {
     "name": "stdout",
     "output_type": "stream",
     "text": [
      "RMSE for Polynomial Regression=> 0.026180760331561692\n"
     ]
    }
   ],
   "source": [
    "from sklearn.metrics import mean_squared_error\n",
    "print('RMSE for Polynomial Regression=>',np.sqrt(mean_squared_error(y,mymodel(X2))))"
   ]
  },
  {
   "cell_type": "code",
   "execution_count": 138,
   "id": "2bf0697a-f716-4e13-86e4-e3189359004f",
   "metadata": {},
   "outputs": [
    {
     "data": {
      "text/plain": [
       "0.9946735510018638"
      ]
     },
     "execution_count": 138,
     "metadata": {},
     "output_type": "execute_result"
    }
   ],
   "source": [
    "r2_score(y,mymodel(X2))"
   ]
  },
  {
   "cell_type": "code",
   "execution_count": 139,
   "id": "5fd1cd68-48eb-4ebb-8e7d-8bb828ac7011",
   "metadata": {},
   "outputs": [
    {
     "name": "stdout",
     "output_type": "stream",
     "text": [
      "0.01703888670395534\n",
      "0.0006854322115386743\n",
      "0.13053308662540444\n"
     ]
    }
   ],
   "source": [
    "print(metrics.mean_absolute_error(y,mymodel(X2)))\n",
    "print(metrics.mean_squared_error(y,mymodel(X2)))\n",
    "print(np.sqrt(metrics.mean_absolute_error(y,mymodel(X2))))"
   ]
  },
  {
   "cell_type": "code",
   "execution_count": 140,
   "id": "597aeb46-384b-45e6-a9f9-3eba23c40e4a",
   "metadata": {},
   "outputs": [],
   "source": [
    "frameplotazul4 = { 'Kc_Teoric': y, 'Kc_Predicted': mymodel(X2), 'NDVI': X2.reshape(151,)}\n",
    "plotazul4 = pd.DataFrame(frameplotazul4)"
   ]
  },
  {
   "cell_type": "code",
   "execution_count": 141,
   "id": "cbf9f9aa-5fda-4336-863a-00057460876b",
   "metadata": {},
   "outputs": [
    {
     "data": {
      "text/plain": [
       "<AxesSubplot:>"
      ]
     },
     "execution_count": 141,
     "metadata": {},
     "output_type": "execute_result"
    },
    {
     "data": {
      "image/png": "[encoded data removed]",
      "text/plain": [
       "<Figure size 432x288 with 1 Axes>"
      ]
     },
     "metadata": {
      "needs_background": "light"
     },
     "output_type": "display_data"
    }
   ],
   "source": [
    "plotazul4.plot()"
   ]
  },
  {
   "cell_type": "code",
   "execution_count": 142,
   "id": "2b07aa1c-38f5-40f1-a6c6-21a3ac403ce9",
   "metadata": {},
   "outputs": [
    {
     "data": {
      "text/plain": [
       "Text(0.5, 1.0, 'Mean 0,9 Pearson correlation (Polynomial)')"
      ]
     },
     "execution_count": 142,
     "metadata": {},
     "output_type": "execute_result"
    },
    {
     "data": {
      "text/plain": [
       "<Figure size 432x288 with 0 Axes>"
      ]
     },
     "metadata": {},
     "output_type": "display_data"
    },
    {
     "data": {
      "image/png": "[encoded data removed]",
      "text/plain": [
       "<Figure size 432x288 with 2 Axes>"
      ]
     },
     "metadata": {
      "needs_background": "light"
     },
     "output_type": "display_data"
    }
   ],
   "source": [
    "plt.figure()\n",
    "ax = plotazul4.plot(secondary_y=[\"Kc_Teoric\",\"Kc_Predicted\"])\n",
    "ax.set_ylabel('NDVI')\n",
    "ax.right_ax.set_ylabel('Kc')\n",
    "ax.set_xlabel('Days')\n",
    "ax.set_title(\"Mean 0,9 Pearson correlation (Polynomial)\")"
   ]
  },
  {
   "cell_type": "code",
   "execution_count": null,
   "id": "14e02314-ec01-499b-8815-e943ff5a3529",
   "metadata": {},
   "outputs": [],
   "source": []
  },
  {
   "cell_type": "markdown",
   "id": "1af02e6f-ec5e-4ce2-97c8-755fdbfcf81e",
   "metadata": {},
   "source": [
    "# Polynomial-Mean Test (correcto)"
   ]
  },
  {
   "cell_type": "code",
   "execution_count": 143,
   "id": "9bfcd3d1-7d37-4ab0-90b3-1fc833ddaa53",
   "metadata": {},
   "outputs": [],
   "source": [
    "pred2 = mymodel(arraytestemean)\n",
    "mse = mean_squared_error(y, pred2)\n",
    "r2 = r2_score(y, pred2)\n",
    "rmse=np.sqrt(mse)"
   ]
  },
  {
   "cell_type": "code",
   "execution_count": 144,
   "id": "d1cd9575-c45a-4fee-8bda-e5b2ebd0978f",
   "metadata": {},
   "outputs": [
    {
     "data": {
      "text/plain": [
       "0.994510884992971"
      ]
     },
     "execution_count": 144,
     "metadata": {},
     "output_type": "execute_result"
    }
   ],
   "source": [
    "r2"
   ]
  },
  {
   "cell_type": "code",
   "execution_count": 145,
   "id": "4cf33506-cf33-45ec-b39c-618a683e7603",
   "metadata": {},
   "outputs": [
    {
     "data": {
      "text/plain": [
       "0.02657752489504574"
      ]
     },
     "execution_count": 145,
     "metadata": {},
     "output_type": "execute_result"
    }
   ],
   "source": [
    "rmse"
   ]
  },
  {
   "cell_type": "code",
   "execution_count": 146,
   "id": "c09e87c0-333c-4fa2-bda2-5bb07a82906b",
   "metadata": {},
   "outputs": [],
   "source": [
    "frameplotazulteste2 = { \"Kc_Theoretical\": y, 'Kc_Predicted': mymodel(arraytestemean), 'NDVI': arraytestemean}\n",
    "plotazulteste2 = pd.DataFrame(frameplotazulteste2)"
   ]
  },
  {
   "cell_type": "code",
   "execution_count": 147,
   "id": "8b6a50be-a84a-4a6a-a80a-6a4f44a71054",
   "metadata": {},
   "outputs": [
    {
     "data": {
      "text/plain": [
       "<AxesSubplot:>"
      ]
     },
     "execution_count": 147,
     "metadata": {},
     "output_type": "execute_result"
    },
    {
     "data": {
      "image/png": "[encoded data removed]",
      "text/plain": [
       "<Figure size 432x288 with 1 Axes>"
      ]
     },
     "metadata": {
      "needs_background": "light"
     },
     "output_type": "display_data"
    }
   ],
   "source": [
    "plotazulteste2.plot()"
   ]
  },
  {
   "cell_type": "code",
   "execution_count": 148,
   "id": "beb613fc-58b1-4d1f-a0cd-b59102f5a69a",
   "metadata": {},
   "outputs": [
    {
     "data": {
      "text/plain": [
       "Text(0.5, 1.0, 'Mean 0,9 Pearson Correlation (Polynomial)')"
      ]
     },
     "execution_count": 148,
     "metadata": {},
     "output_type": "execute_result"
    },
    {
     "data": {
      "text/plain": [
       "<Figure size 432x288 with 0 Axes>"
      ]
     },
     "metadata": {},
     "output_type": "display_data"
    },
    {
     "data": {
      "image/png": "[encoded data removed]",
      "text/plain": [
       "<Figure size 432x288 with 2 Axes>"
      ]
     },
     "metadata": {
      "needs_background": "light"
     },
     "output_type": "display_data"
    }
   ],
   "source": [
    "plt.figure()\n",
    "ax = plotazulteste2.plot(secondary_y=[\"Kc_Theoretical\",\"Kc_Predicted\"])\n",
    "ax.set_ylabel('NDVI')\n",
    "ax.right_ax.set_ylabel('Kc')\n",
    "ax.set_xlabel('Days')\n",
    "ax.set_title(\"Mean 0,9 Pearson Correlation (Polynomial)\")"
   ]
  },
  {
   "cell_type": "markdown",
   "id": "b9e59bc0-3685-439d-8446-aaa4014b4b34",
   "metadata": {},
   "source": [
    "# Cluster"
   ]
  },
  {
   "cell_type": "code",
   "execution_count": 149,
   "id": "88329929-8fb8-48bb-8609-118b4fbf459d",
   "metadata": {},
   "outputs": [],
   "source": [
    "red=cluster_centers2[0].reshape(-1,1)"
   ]
  },
  {
   "cell_type": "code",
   "execution_count": 150,
   "id": "a181cb09-aead-40dd-a370-1ef16349c6c8",
   "metadata": {},
   "outputs": [],
   "source": [
    "red2=cluster_centers2[0]"
   ]
  },
  {
   "cell_type": "markdown",
   "id": "014f1273-a462-4cb5-bf34-f503dc5e468a",
   "metadata": {},
   "source": [
    "## Linear"
   ]
  },
  {
   "cell_type": "code",
   "execution_count": 151,
   "id": "b4cb3fea-0e17-43a7-bc8f-533c6a095237",
   "metadata": {},
   "outputs": [
    {
     "name": "stdout",
     "output_type": "stream",
     "text": [
      "[1.38013247]\n",
      "-0.021888800334546432\n"
     ]
    }
   ],
   "source": [
    "from sklearn import linear_model\n",
    "from sklearn.model_selection import train_test_split,cross_val_score\n",
    "from sklearn import metrics\n",
    "\n",
    "#X = NDVIbluesync.iloc[:,:-1].values\n",
    "X=df_train_melhor.mean().values.reshape(-1,1)\n",
    "#y = NDVIbluesync.iloc[:,1].values\n",
    "y=df_kcteoric['Kcteoric'].values\n",
    "Reg = linear_model.LinearRegression()\n",
    "Reg.fit(red, y)\n",
    "pred = Reg.predict(red)\n",
    "print(Reg.coef_)\n",
    "print(Reg.intercept_)"
   ]
  },
  {
   "cell_type": "code",
   "execution_count": 152,
   "id": "8dca20ac-7d37-4419-a8dc-94fb28df8910",
   "metadata": {},
   "outputs": [
    {
     "data": {
      "text/plain": [
       "0.9656166323462542"
      ]
     },
     "execution_count": 152,
     "metadata": {},
     "output_type": "execute_result"
    }
   ],
   "source": [
    "Reg.score(red, y)"
   ]
  },
  {
   "cell_type": "code",
   "execution_count": 153,
   "id": "b61ca65e-6630-4334-ab14-cd4c120380f5",
   "metadata": {},
   "outputs": [
    {
     "data": {
      "text/plain": [
       "[<matplotlib.lines.Line2D at 0x1df8bfcfe20>]"
      ]
     },
     "execution_count": 153,
     "metadata": {},
     "output_type": "execute_result"
    },
    {
     "data": {
      "image/png": "[encoded data removed]",
      "text/plain": [
       "<Figure size 432x288 with 1 Axes>"
      ]
     },
     "metadata": {
      "needs_background": "light"
     },
     "output_type": "display_data"
    }
   ],
   "source": [
    "from sklearn.metrics import r2_score, mean_squared_error\n",
    "mse = mean_squared_error(y, pred)\n",
    "r2 = r2_score(y, pred)\n",
    "plt.plot(X, pred, color = 'Black', marker = 'o')"
   ]
  },
  {
   "cell_type": "code",
   "execution_count": 154,
   "id": "44156fa6-2a66-4c9a-b9da-13ee729b95d6",
   "metadata": {},
   "outputs": [
    {
     "name": "stdout",
     "output_type": "stream",
     "text": [
      "0.9656166323462542\n",
      "0.004424611545008929\n"
     ]
    }
   ],
   "source": [
    "print(r2)\n",
    "print(mse)"
   ]
  },
  {
   "cell_type": "code",
   "execution_count": 155,
   "id": "1c9c65cc-4a78-4a42-ab5f-4f6b23263e05",
   "metadata": {},
   "outputs": [
    {
     "name": "stdout",
     "output_type": "stream",
     "text": [
      "0.06651775360765672\n"
     ]
    }
   ],
   "source": [
    "print(np.sqrt(mse))"
   ]
  },
  {
   "cell_type": "code",
   "execution_count": 156,
   "id": "8c5e7026-0596-42b9-be8f-e2083c044c52",
   "metadata": {},
   "outputs": [
    {
     "data": {
      "text/plain": [
       "array([0.26827541, 0.26122119, 0.25459507, 0.24848177, 0.24298372,\n",
       "       0.23820206, 0.2342124 , 0.2311234 , 0.22893657, 0.22761017,\n",
       "       0.22706656, 0.22720098, 0.2278807 , 0.22907311, 0.23071515,\n",
       "       0.23281524, 0.23542491, 0.2385672 , 0.24225159, 0.24652739,\n",
       "       0.25146013, 0.25705534, 0.26335531, 0.27036972, 0.27816641,\n",
       "       0.28677677, 0.29628268, 0.30677025, 0.31835358, 0.33115184,\n",
       "       0.34525892, 0.36072366, 0.37755669, 0.39574385, 0.4151642 ,\n",
       "       0.43571355, 0.45730829, 0.47982956, 0.50318133, 0.52728395,\n",
       "       0.55212199, 0.57762422, 0.60372737, 0.63040475, 0.65764598,\n",
       "       0.6853608 , 0.71347638, 0.74192348, 0.77055544, 0.79915365,\n",
       "       0.82753348, 0.85552198, 0.88289377, 0.90940521, 0.93477673,\n",
       "       0.95878378, 0.9812337 , 1.0020236 , 1.02111111, 1.03857615,\n",
       "       1.05450114, 1.06900816, 1.08223362, 1.09432774, 1.10535245,\n",
       "       1.11533603, 1.12436587, 1.13250583, 1.13971283, 1.14601771,\n",
       "       1.1514718 , 1.1560581 , 1.15973455, 1.16260044, 1.16477474,\n",
       "       1.16631012, 1.16722783, 1.16769041, 1.16776428, 1.16750589,\n",
       "       1.16700468, 1.16638435, 1.16564545, 1.16487276, 1.16411808,\n",
       "       1.16339435, 1.1627239 , 1.16210083, 1.16152645, 1.16104579,\n",
       "       1.16068269, 1.16042361, 1.16028322, 1.16019289, 1.16001637,\n",
       "       1.15966284, 1.15903949, 1.1581141 , 1.15688875, 1.15540061,\n",
       "       1.15374943, 1.1520178 , 1.15020862, 1.14840509, 1.14664111,\n",
       "       1.14484715, 1.14298914, 1.14107327, 1.13895904, 1.1365953 ,\n",
       "       1.13395538, 1.13100666, 1.12774072, 1.12421809, 1.12047238,\n",
       "       1.11652152, 1.11236434, 1.1079622 , 1.10329502, 1.09825815,\n",
       "       1.09279664, 1.08688769, 1.08048401, 1.0734886 , 1.06588074,\n",
       "       1.05759672, 1.04855874, 1.03873024, 1.02809109, 1.0165838 ,\n",
       "       1.00418296, 0.99085552, 0.97655747, 0.9612826 , 0.94504667,\n",
       "       0.92789047, 0.90988128, 0.89114878, 0.87183583, 0.85210268,\n",
       "       0.83210639, 0.81205209, 0.79213304, 0.77256405, 0.75357654,\n",
       "       0.73532877, 0.7178933 , 0.70134717, 0.68570333, 0.67085236,\n",
       "       0.65673513])"
      ]
     },
     "execution_count": 156,
     "metadata": {},
     "output_type": "execute_result"
    }
   ],
   "source": [
    "pred"
   ]
  },
  {
   "cell_type": "code",
   "execution_count": 157,
   "id": "a1e80c11-7766-4201-8e60-d4c4f77c105f",
   "metadata": {},
   "outputs": [
    {
     "data": {
      "text/plain": [
       "array([0.3       , 0.3       , 0.3       , 0.3       , 0.3       ,\n",
       "       0.3       , 0.3       , 0.3       , 0.3       , 0.3       ,\n",
       "       0.3       , 0.3       , 0.3       , 0.3       , 0.3       ,\n",
       "       0.3       , 0.3       , 0.3       , 0.3       , 0.3       ,\n",
       "       0.3       , 0.3       , 0.3       , 0.3       , 0.3       ,\n",
       "       0.3       , 0.3       , 0.3       , 0.3       , 0.3       ,\n",
       "       0.32195122, 0.34390244, 0.36585366, 0.38780488, 0.4097561 ,\n",
       "       0.43170732, 0.45365854, 0.47560976, 0.49756098, 0.5195122 ,\n",
       "       0.54146341, 0.56341463, 0.58536585, 0.60731707, 0.62926829,\n",
       "       0.65121951, 0.67317073, 0.69512195, 0.71707317, 0.73902439,\n",
       "       0.76097561, 0.78292683, 0.80487805, 0.82682927, 0.84878049,\n",
       "       0.87073171, 0.89268293, 0.91463415, 0.93658537, 0.95853659,\n",
       "       0.9804878 , 1.00243902, 1.02439024, 1.04634146, 1.06829268,\n",
       "       1.0902439 , 1.11219512, 1.13414634, 1.15609756, 1.17804878,\n",
       "       1.2       , 1.2       , 1.2       , 1.2       , 1.2       ,\n",
       "       1.2       , 1.2       , 1.2       , 1.2       , 1.2       ,\n",
       "       1.2       , 1.2       , 1.2       , 1.2       , 1.2       ,\n",
       "       1.2       , 1.2       , 1.2       , 1.2       , 1.2       ,\n",
       "       1.2       , 1.2       , 1.2       , 1.2       , 1.2       ,\n",
       "       1.2       , 1.2       , 1.2       , 1.2       , 1.2       ,\n",
       "       1.2       , 1.2       , 1.2       , 1.2       , 1.2       ,\n",
       "       1.2       , 1.2       , 1.2       , 1.2       , 1.2       ,\n",
       "       1.2       , 1.2       , 1.2       , 1.2       , 1.2       ,\n",
       "       1.2       , 1.2       , 1.2       , 1.2       , 1.2       ,\n",
       "       1.17677419, 1.15354839, 1.13032258, 1.10709677, 1.08387097,\n",
       "       1.06064516, 1.03741935, 1.01419355, 0.99096774, 0.96774194,\n",
       "       0.94451613, 0.92129032, 0.89806452, 0.87483871, 0.8516129 ,\n",
       "       0.8283871 , 0.80516129, 0.78193548, 0.75870968, 0.73548387,\n",
       "       0.71225806, 0.68903226, 0.66580645, 0.64258065, 0.61935484,\n",
       "       0.59612903, 0.57290323, 0.54967742, 0.52645161, 0.50322581,\n",
       "       0.48      ])"
      ]
     },
     "execution_count": 157,
     "metadata": {},
     "output_type": "execute_result"
    }
   ],
   "source": [
    "y"
   ]
  },
  {
   "cell_type": "code",
   "execution_count": 158,
   "id": "ea059907-b365-484d-814b-f9af381069c0",
   "metadata": {},
   "outputs": [],
   "source": [
    "frameplotred = { 'Kc_Teoric': y, 'Kc_Predicted': pred, 'NDVI': red.reshape(151,)}\n",
    "\n",
    "plotred = pd.DataFrame(frameplotred)"
   ]
  },
  {
   "cell_type": "code",
   "execution_count": 159,
   "id": "64a8e42b-b907-4742-8980-acda26621c10",
   "metadata": {},
   "outputs": [
    {
     "data": {
      "text/plain": [
       "<AxesSubplot:>"
      ]
     },
     "execution_count": 159,
     "metadata": {},
     "output_type": "execute_result"
    },
    {
     "data": {
      "image/png": "[encoded data removed]",
      "text/plain": [
       "<Figure size 432x288 with 1 Axes>"
      ]
     },
     "metadata": {
      "needs_background": "light"
     },
     "output_type": "display_data"
    }
   ],
   "source": [
    "plotred.plot()"
   ]
  },
  {
   "cell_type": "code",
   "execution_count": 160,
   "id": "e5cb8613-de44-4950-9333-0583ea269b79",
   "metadata": {},
   "outputs": [
    {
     "data": {
      "text/plain": [
       "Text(0.5, 0, 'Days')"
      ]
     },
     "execution_count": 160,
     "metadata": {},
     "output_type": "execute_result"
    },
    {
     "data": {
      "text/plain": [
       "<Figure size 432x288 with 0 Axes>"
      ]
     },
     "metadata": {},
     "output_type": "display_data"
    },
    {
     "data": {
      "image/png": "[encoded data removed]",
      "text/plain": [
       "<Figure size 432x288 with 2 Axes>"
      ]
     },
     "metadata": {
      "needs_background": "light"
     },
     "output_type": "display_data"
    }
   ],
   "source": [
    "plt.figure()\n",
    "ax = plotred.plot(secondary_y=[\"Kc_Teoric\",\"Kc_Predicted\"])\n",
    "ax.set_ylabel('NDVI')\n",
    "ax.right_ax.set_ylabel('Kc')\n",
    "ax.set_xlabel('Days')"
   ]
  },
  {
   "cell_type": "code",
   "execution_count": 161,
   "id": "84a742d0-92da-47e3-9c30-37b42a30a7a9",
   "metadata": {},
   "outputs": [],
   "source": [
    "#plt.scatter(y,pred)\n",
    "#plt.plot(y,pred,color=\"red\")\n",
    "#plt.show()"
   ]
  },
  {
   "cell_type": "code",
   "execution_count": 162,
   "id": "0b1e5e8b-d2a1-4800-9c99-3e9a2c5b9a86",
   "metadata": {},
   "outputs": [],
   "source": [
    "#statsmodels"
   ]
  },
  {
   "cell_type": "code",
   "execution_count": 163,
   "id": "2e388585-2397-4ab1-bb3d-fd5b4d401d07",
   "metadata": {},
   "outputs": [
    {
     "name": "stdout",
     "output_type": "stream",
     "text": [
      "                            OLS Regression Results                            \n",
      "==============================================================================\n",
      "Dep. Variable:                      y   R-squared:                       0.966\n",
      "Model:                            OLS   Adj. R-squared:                  0.965\n",
      "Method:                 Least Squares   F-statistic:                     4184.\n",
      "Date:                Thu, 22 Dec 2022   Prob (F-statistic):          6.03e-111\n",
      "Time:                        18:25:36   Log-Likelihood:                 194.99\n",
      "No. Observations:                 151   AIC:                            -386.0\n",
      "Df Residuals:                     149   BIC:                            -380.0\n",
      "Df Model:                           1                                         \n",
      "Covariance Type:            nonrobust                                         \n",
      "==============================================================================\n",
      "                 coef    std err          t      P>|t|      [0.025      0.975]\n",
      "------------------------------------------------------------------------------\n",
      "const         -0.0219      0.014     -1.542      0.125      -0.050       0.006\n",
      "x1             1.3801      0.021     64.688      0.000       1.338       1.422\n",
      "==============================================================================\n",
      "Omnibus:                       14.551   Durbin-Watson:                   0.010\n",
      "Prob(Omnibus):                  0.001   Jarque-Bera (JB):               16.157\n",
      "Skew:                          -0.774   Prob(JB):                     0.000310\n",
      "Kurtosis:                       2.584   Cond. No.                         5.46\n",
      "==============================================================================\n",
      "\n",
      "Notes:\n",
      "[1] Standard Errors assume that the covariance matrix of the errors is correctly specified.\n"
     ]
    }
   ],
   "source": [
    "import statsmodels.api as sm\n",
    "#performing the regression\n",
    "Xa = sm.add_constant(red)\n",
    "result = sm.OLS(y, Xa).fit()\n",
    "\n",
    "# Result of statsmodels \n",
    "print(result.summary())"
   ]
  },
  {
   "cell_type": "code",
   "execution_count": 164,
   "id": "93cdb560-7ad0-45cf-b733-ae291ef34dfb",
   "metadata": {},
   "outputs": [
    {
     "data": {
      "text/plain": [
       "-1.3234446651160806e-17"
      ]
     },
     "execution_count": 164,
     "metadata": {},
     "output_type": "execute_result"
    }
   ],
   "source": [
    "result.resid.mean()"
   ]
  },
  {
   "cell_type": "markdown",
   "id": "55b4c351-7040-4e4a-b02e-52b9cdd60c5e",
   "metadata": {},
   "source": [
    "__Explain the Statistics__\n",
    "\n",
    "__Model : OLS : Ordinary Least Squares : One way to create a linear regression model. Minimize the dependent samples so you can estimate the unknown samples when creating a linear regression model.__\n",
    "\n",
    "__Method : Least Squares : Fit data to the model by minimizing the residual samples__\n",
    "\n",
    "__R-quared : Measure of how well the regression line approximates the data points. If .5 then that is a sign that half of the observed variation can be explained by the models inputs. 1 would be perfectly correlated.__\n",
    "\n",
    "__Adj, R-squared : Reflects the fit of the model. Values range from 0 to 1, where higher values indicate a good fit.__\n",
    "\n",
    "__F-statistic : Measures how significantly the data points fit into the regression model by measuring variation of sample means.__\n",
    "\n",
    "__Prob (F-statistic) : Probability that the null hypothesis for the full model is true. Closer to zero the better the samples approach the model.__\n",
    "\n",
    "__Log-Likelihood : The conditional probability that the observed data fits the model__\n",
    "\n",
    "__AIC : Adjusts the log-likelihood based on the number of observations and complexity of the model. It focuses on the data points that best describe the data.__\n",
    "\n",
    "__Df Residuals : Degrees of freedom of the residuals which is the difference between predicted values and the measured data.__\n",
    "\n",
    "__BIC : We want a low BIC. It focuses on the shortest description of the data like AIC.__\n",
    "\n",
    "__Df Model : Number of parameters in the model__\n",
    "\n",
    "__Coefficient Constant : Is your Y intercept. If both dependent and independent coefficients are zero then the expected output would equal the constant coefficient.__\n",
    "\n",
    "__Independent Coefficient : Represents the change of the independent variable per unit.__\n",
    "\n",
    "__Standard Error : Accuracy of the coefficients__\n",
    "\n",
    "__P>|t| : The P Value. A P Value less than .05 is considered statistically significant.__\n",
    "\n",
    "__[.025 - .975] : Confidence Interval : Represents the range in which coefficients are likely to fall.__\n",
    "\n",
    "__Omnibus : (D’Angostino’s test) : Establishes whether the samples come from a normally distributed population.__\n",
    "\n",
    "__Durbin-Watson : Test to see if the errors are not independent. Used to find repeating patterns that may be obstructed by noise. Its value lies between 0 and 4. If greater than 2 this is a sign that relationships between two variables are going in opposite directions (negatively correlated). If less than 2 variables are positively correlated.__\n",
    "\n",
    "__Prob(Omnibus) : Probability of Omnibus__\n",
    "\n",
    "__Jarque-Bera : Tests whether the samples match a normal distribution. It never has a negative number and the further it gets from zero signals the data doesn't have a normal distribution.__\n",
    "\n",
    "__Skew : Measure of the asymmetry of the probability distribution. Negative skew indicates the tail is longer on the left and the concentration of the data is on the right. Positive indicates the tail is longer on the right. 0 indicates that the tails are balanced.__\n",
    "\n",
    "__Prob(JB) : The probability of Jarque-Bera__\n",
    "\n",
    "__Kurtosis : Describes the shape of a probability distribution with a focus on the tails and not the peak. If the value is high that is a sign that there are more outliers. If the value is less than 3 that means there are fewer outliers. A value of 3 points towards a normal distribution. Values greater than 3 indicate more outliers.__\n",
    "\n",
    "__Condition Number : Represents whether samples are highly related in our regression model. A large number indicates strong multicollinearity which means that independent variables are highly correlated with each other. This causes problems because a small number of samples are so dramatically different from others that results are corrupted.__"
   ]
  },
  {
   "cell_type": "code",
   "execution_count": null,
   "id": "8994dd94-2c0a-47a9-8778-bc88acea9b68",
   "metadata": {},
   "outputs": [],
   "source": []
  },
  {
   "cell_type": "markdown",
   "id": "a908c179-aa1a-4bc6-a19d-6e70c64cd0d3",
   "metadata": {
    "tags": []
   },
   "source": [
    "# Linear-Mean Test (correcto)"
   ]
  },
  {
   "cell_type": "code",
   "execution_count": 165,
   "id": "49eb7bd9-cfeb-46dc-8765-b2e748cd4525",
   "metadata": {},
   "outputs": [],
   "source": [
    "pred2 = Reg.predict(np.array(cluster_centersteste[0]).reshape(-1,1))\n",
    "mse = mean_squared_error(y, pred2)\n",
    "r2 = r2_score(y, pred2)\n",
    "rmse=np.sqrt(mse)"
   ]
  },
  {
   "cell_type": "code",
   "execution_count": 166,
   "id": "a40e66f1-c9cd-44de-9db8-18e740cda294",
   "metadata": {},
   "outputs": [
    {
     "data": {
      "text/plain": [
       "0.9643540369343583"
      ]
     },
     "execution_count": 166,
     "metadata": {},
     "output_type": "execute_result"
    }
   ],
   "source": [
    "r2"
   ]
  },
  {
   "cell_type": "code",
   "execution_count": 167,
   "id": "6800b934-eebe-4927-9dd5-1fe523492fd2",
   "metadata": {},
   "outputs": [
    {
     "data": {
      "text/plain": [
       "0.06772804581909433"
      ]
     },
     "execution_count": 167,
     "metadata": {},
     "output_type": "execute_result"
    }
   ],
   "source": [
    "rmse"
   ]
  },
  {
   "cell_type": "code",
   "execution_count": 168,
   "id": "a86bff26-ec4c-4cd4-b74a-f8a01b1e60f0",
   "metadata": {},
   "outputs": [],
   "source": [
    "frameplotazulteste2 = { \"Kc_Theoretical\": y, 'Kc_Predicted': pred2, 'NDVI': cluster_centersteste[0]}\n",
    "plotazulteste2 = pd.DataFrame(frameplotazulteste2)"
   ]
  },
  {
   "cell_type": "code",
   "execution_count": 169,
   "id": "9428daf5-a0d6-41df-9847-9e61673af05c",
   "metadata": {},
   "outputs": [
    {
     "data": {
      "text/plain": [
       "<AxesSubplot:>"
      ]
     },
     "execution_count": 169,
     "metadata": {},
     "output_type": "execute_result"
    },
    {
     "data": {
      "image/png": "[encoded data removed]",
      "text/plain": [
       "<Figure size 432x288 with 1 Axes>"
      ]
     },
     "metadata": {
      "needs_background": "light"
     },
     "output_type": "display_data"
    }
   ],
   "source": [
    "plotazulteste2.plot()"
   ]
  },
  {
   "cell_type": "code",
   "execution_count": 170,
   "id": "6d53ef44-fb2c-4417-8735-312936629c58",
   "metadata": {},
   "outputs": [
    {
     "data": {
      "text/plain": [
       "Text(0.5, 1.0, 'K-Means >=0,9 Pearson Correlation (Linear)')"
      ]
     },
     "execution_count": 170,
     "metadata": {},
     "output_type": "execute_result"
    },
    {
     "data": {
      "text/plain": [
       "<Figure size 432x288 with 0 Axes>"
      ]
     },
     "metadata": {},
     "output_type": "display_data"
    },
    {
     "data": {
      "image/png": "[encoded data removed]",
      "text/plain": [
       "<Figure size 432x288 with 2 Axes>"
      ]
     },
     "metadata": {
      "needs_background": "light"
     },
     "output_type": "display_data"
    }
   ],
   "source": [
    "plt.figure()\n",
    "ax = plotazulteste2.plot(secondary_y=[\"Kc_Theoretical\",\"Kc_Predicted\"])\n",
    "ax.set_ylabel('NDVI')\n",
    "ax.right_ax.set_ylabel('Kc')\n",
    "ax.set_xlabel('Days')\n",
    "ax.set_title(\"K-Means >=0,9 Pearson Correlation (Linear)\")"
   ]
  },
  {
   "cell_type": "markdown",
   "id": "e1e60a50-d293-4151-b6fe-72370c7f94a9",
   "metadata": {
    "tags": []
   },
   "source": [
    "## Polinomial"
   ]
  },
  {
   "cell_type": "code",
   "execution_count": 171,
   "id": "85fe1226-9f36-46cf-8072-80788abd6a58",
   "metadata": {},
   "outputs": [],
   "source": [
    "X2=X.reshape(151,)"
   ]
  },
  {
   "cell_type": "code",
   "execution_count": 172,
   "id": "3a978d8b-48d8-4587-8710-7f7449993431",
   "metadata": {},
   "outputs": [
    {
     "name": "stdout",
     "output_type": "stream",
     "text": [
      "0.9926243020197129\n"
     ]
    }
   ],
   "source": [
    "from sklearn.metrics import r2_score\n",
    "mymodel = np.poly1d(np.polyfit(red2, y, 5))\n",
    "\n",
    "print(r2_score(y, mymodel(red2)))"
   ]
  },
  {
   "cell_type": "code",
   "execution_count": 173,
   "id": "b9edae77-2867-4808-8e23-67e5973d3842",
   "metadata": {},
   "outputs": [
    {
     "name": "stdout",
     "output_type": "stream",
     "text": [
      "        5         4         3         2\n",
      "-87.18 x + 228.9 x - 225.6 x + 104.1 x - 21.35 x + 1.868\n"
     ]
    }
   ],
   "source": [
    "print(mymodel)"
   ]
  },
  {
   "cell_type": "code",
   "execution_count": 174,
   "id": "2341dc11-37b7-4cf9-9772-43c71ce4382b",
   "metadata": {},
   "outputs": [
    {
     "name": "stdout",
     "output_type": "stream",
     "text": [
      "RMSE for Polynomial Regression=> 0.03080810111585081\n"
     ]
    }
   ],
   "source": [
    "from sklearn.metrics import mean_squared_error\n",
    "print('RMSE for Polynomial Regression=>',np.sqrt(mean_squared_error(y,mymodel(red2))))"
   ]
  },
  {
   "cell_type": "code",
   "execution_count": 175,
   "id": "a6f1c7f3-13d1-4d61-9ccb-a2e469cadd0e",
   "metadata": {},
   "outputs": [
    {
     "data": {
      "text/plain": [
       "0.9926243020197129"
      ]
     },
     "execution_count": 175,
     "metadata": {},
     "output_type": "execute_result"
    }
   ],
   "source": [
    "r2_score(y,mymodel(red2))"
   ]
  },
  {
   "cell_type": "code",
   "execution_count": 176,
   "id": "6a75370e-bd8d-4bea-837c-161f424b6771",
   "metadata": {},
   "outputs": [
    {
     "name": "stdout",
     "output_type": "stream",
     "text": [
      "0.020239162075418534\n",
      "0.0009491390943644878\n",
      "0.14226440902565382\n"
     ]
    }
   ],
   "source": [
    "print(metrics.mean_absolute_error(y,mymodel(red2)))\n",
    "print(metrics.mean_squared_error(y,mymodel(red2)))\n",
    "print(np.sqrt(metrics.mean_absolute_error(y,mymodel(red2))))"
   ]
  },
  {
   "cell_type": "code",
   "execution_count": 177,
   "id": "0a32013b-4a03-4658-be03-5f2c3e01485a",
   "metadata": {},
   "outputs": [],
   "source": [
    "frameplotred4 = { 'Kc_Teoric': y, 'Kc_Predicted': mymodel(red2), 'NDVI': red2.reshape(151,)}\n",
    "plotred4 = pd.DataFrame(frameplotred4)"
   ]
  },
  {
   "cell_type": "code",
   "execution_count": 178,
   "id": "4887cdc9-2528-497a-b8c8-128dd92043dd",
   "metadata": {},
   "outputs": [
    {
     "data": {
      "text/plain": [
       "<AxesSubplot:>"
      ]
     },
     "execution_count": 178,
     "metadata": {},
     "output_type": "execute_result"
    },
    {
     "data": {
      "image/png": "[encoded data removed]",
      "text/plain": [
       "<Figure size 432x288 with 1 Axes>"
      ]
     },
     "metadata": {
      "needs_background": "light"
     },
     "output_type": "display_data"
    }
   ],
   "source": [
    "plotred4.plot()"
   ]
  },
  {
   "cell_type": "code",
   "execution_count": 179,
   "id": "77d50d48-d7f2-4d06-9be8-754cff3add08",
   "metadata": {},
   "outputs": [
    {
     "data": {
      "text/plain": [
       "Text(0.5, 0, 'Days')"
      ]
     },
     "execution_count": 179,
     "metadata": {},
     "output_type": "execute_result"
    },
    {
     "data": {
      "text/plain": [
       "<Figure size 432x288 with 0 Axes>"
      ]
     },
     "metadata": {},
     "output_type": "display_data"
    },
    {
     "data": {
      "image/png": "[encoded data removed]",
      "text/plain": [
       "<Figure size 432x288 with 2 Axes>"
      ]
     },
     "metadata": {
      "needs_background": "light"
     },
     "output_type": "display_data"
    }
   ],
   "source": [
    "plt.figure()\n",
    "ax = plotred4.plot(secondary_y=[\"Kc_Teoric\",\"Kc_Predicted\"])\n",
    "ax.set_ylabel('NDVI')\n",
    "ax.right_ax.set_ylabel('Kc')\n",
    "ax.set_xlabel('Days')"
   ]
  },
  {
   "cell_type": "code",
   "execution_count": null,
   "id": "6bfff9df-9110-49ed-87a2-0f2fed7c3086",
   "metadata": {},
   "outputs": [],
   "source": []
  },
  {
   "cell_type": "markdown",
   "id": "2d3ad52c-9c97-4149-92bb-50bf8a73d29e",
   "metadata": {},
   "source": [
    "# Polynomial-Mean Test (correcto)"
   ]
  },
  {
   "cell_type": "code",
   "execution_count": 180,
   "id": "68d31a47-2320-40ca-b155-ca4fa0268661",
   "metadata": {},
   "outputs": [],
   "source": [
    "pred2 = mymodel(cluster_centersteste[0])\n",
    "mse = mean_squared_error(y, pred2)\n",
    "r2 = r2_score(y, pred2)\n",
    "rmse=np.sqrt(mse)"
   ]
  },
  {
   "cell_type": "code",
   "execution_count": 181,
   "id": "2a6e5217-3698-41db-b589-d95f99b8fe58",
   "metadata": {},
   "outputs": [
    {
     "data": {
      "text/plain": [
       "0.9914493453093924"
      ]
     },
     "execution_count": 181,
     "metadata": {},
     "output_type": "execute_result"
    }
   ],
   "source": [
    "r2"
   ]
  },
  {
   "cell_type": "code",
   "execution_count": 182,
   "id": "901e2f05-b44e-480e-881b-6e36f9345de4",
   "metadata": {},
   "outputs": [
    {
     "data": {
      "text/plain": [
       "0.03317134281895755"
      ]
     },
     "execution_count": 182,
     "metadata": {},
     "output_type": "execute_result"
    }
   ],
   "source": [
    "rmse"
   ]
  },
  {
   "cell_type": "code",
   "execution_count": 183,
   "id": "24390c8c-7a5f-4cf3-890f-b2d1ed765264",
   "metadata": {},
   "outputs": [],
   "source": [
    "frameplotazulteste2 = { \"Kc_Theoretical\": y, 'Kc_Predicted': mymodel(cluster_centersteste[0]), 'NDVI': cluster_centersteste[0]}\n",
    "plotazulteste2 = pd.DataFrame(frameplotazulteste2)"
   ]
  },
  {
   "cell_type": "code",
   "execution_count": 184,
   "id": "3aa37f5a-57a2-49f5-a1ec-00996dbd7396",
   "metadata": {},
   "outputs": [
    {
     "data": {
      "text/plain": [
       "<AxesSubplot:>"
      ]
     },
     "execution_count": 184,
     "metadata": {},
     "output_type": "execute_result"
    },
    {
     "data": {
      "image/png": "[encoded data removed]",
      "text/plain": [
       "<Figure size 432x288 with 1 Axes>"
      ]
     },
     "metadata": {
      "needs_background": "light"
     },
     "output_type": "display_data"
    }
   ],
   "source": [
    "plotazulteste2.plot()"
   ]
  },
  {
   "cell_type": "code",
   "execution_count": 185,
   "id": "73d7bd54-40d5-4ce5-805a-9754aef9bcb8",
   "metadata": {},
   "outputs": [
    {
     "data": {
      "text/plain": [
       "Text(0.5, 1.0, 'K-Means 0,9 Pearson Correlation (Polynomial)')"
      ]
     },
     "execution_count": 185,
     "metadata": {},
     "output_type": "execute_result"
    },
    {
     "data": {
      "text/plain": [
       "<Figure size 432x288 with 0 Axes>"
      ]
     },
     "metadata": {},
     "output_type": "display_data"
    },
    {
     "data": {
      "image/png": "[encoded data removed]",
      "text/plain": [
       "<Figure size 432x288 with 2 Axes>"
      ]
     },
     "metadata": {
      "needs_background": "light"
     },
     "output_type": "display_data"
    }
   ],
   "source": [
    "plt.figure()\n",
    "ax = plotazulteste2.plot(secondary_y=[\"Kc_Theoretical\",\"Kc_Predicted\"])\n",
    "ax.set_ylabel('NDVI')\n",
    "ax.right_ax.set_ylabel('Kc')\n",
    "ax.set_xlabel('Days')\n",
    "ax.set_title(\"K-Means 0,9 Pearson Correlation (Polynomial)\")"
   ]
  }
 ],
 "metadata": {
  "kernelspec": {
   "display_name": "Python 3 (ipykernel)",
   "language": "python",
   "name": "python3"
  },
  "language_info": {
   "codemirror_mode": {
    "name": "ipython",
    "version": 3
   },
   "file_extension": ".py",
   "mimetype": "text/x-python",
   "name": "python",
   "nbconvert_exporter": "python",
   "pygments_lexer": "ipython3",
   "version": "3.9.12"
  }
 },
 "nbformat": 4,
 "nbformat_minor": 5
}
