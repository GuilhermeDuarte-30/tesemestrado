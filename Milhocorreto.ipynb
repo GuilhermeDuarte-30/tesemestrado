{
 "cells": [
  {
   "cell_type": "code",
   "execution_count": 1,
   "id": "27110f9d-09c8-4619-8a2b-c1cce86fe7a8",
   "metadata": {},
   "outputs": [],
   "source": [
    "#Importar bibliotecas\n",
    "\n",
    "import matplotlib.pyplot as plt\n",
    "import numpy as np\n",
    "import pandas as pd\n",
    "import plotly.express as px\n",
    "import plotly.io as pio\n",
    "\n",
    "import skfda\n",
    "\n",
    "from skfda.ml.clustering import KMeans"
   ]
  },
  {
   "cell_type": "code",
   "execution_count": 2,
   "id": "fd3b274e-d4f4-44a0-9758-59f8e9bbafdd",
   "metadata": {},
   "outputs": [],
   "source": [
    "# Ler ficheiros\n",
    "\n",
    "TabelaTempo=pd.read_excel(\"C:/Users/Guilherme/Desktop/KcTime.xlsx\")\n",
    "TabelaNDVI=pd.read_excel(\"C:/Users/Guilherme/Desktop/KcNDVI.xlsx\")\n",
    "TabelaMilho=pd.read_csv(\"C:/Users/Guilherme/Desktop/CulturasCordBOM/dfMILHO.csv\")"
   ]
  },
  {
   "cell_type": "code",
   "execution_count": 3,
   "id": "95c2624a-92b7-4b48-9e75-2d9a23cae9ee",
   "metadata": {},
   "outputs": [
    {
     "data": {
      "text/html": [
       "<div>\n",
       "<style scoped>\n",
       "    .dataframe tbody tr th:only-of-type {\n",
       "        vertical-align: middle;\n",
       "    }\n",
       "\n",
       "    .dataframe tbody tr th {\n",
       "        vertical-align: top;\n",
       "    }\n",
       "\n",
       "    .dataframe thead th {\n",
       "        text-align: right;\n",
       "    }\n",
       "</style>\n",
       "<table border=\"1\" class=\"dataframe\">\n",
       "  <thead>\n",
       "    <tr style=\"text-align: right;\">\n",
       "      <th></th>\n",
       "      <th>ID</th>\n",
       "      <th>DATA</th>\n",
       "      <th>Cultura</th>\n",
       "      <th>NDVI_MED</th>\n",
       "      <th>Lat</th>\n",
       "      <th>Lon</th>\n",
       "    </tr>\n",
       "  </thead>\n",
       "  <tbody>\n",
       "    <tr>\n",
       "      <th>0</th>\n",
       "      <td>26742</td>\n",
       "      <td>2020-09-01</td>\n",
       "      <td>MILHO (Sequeiro)</td>\n",
       "      <td>0.6511</td>\n",
       "      <td>39.490351</td>\n",
       "      <td>-8.921633</td>\n",
       "    </tr>\n",
       "    <tr>\n",
       "      <th>1</th>\n",
       "      <td>26742</td>\n",
       "      <td>2020-09-06</td>\n",
       "      <td>MILHO (Sequeiro)</td>\n",
       "      <td>0.4831</td>\n",
       "      <td>39.490351</td>\n",
       "      <td>-8.921633</td>\n",
       "    </tr>\n",
       "    <tr>\n",
       "      <th>2</th>\n",
       "      <td>26742</td>\n",
       "      <td>2020-09-11</td>\n",
       "      <td>MILHO (Sequeiro)</td>\n",
       "      <td>0.6104</td>\n",
       "      <td>39.490351</td>\n",
       "      <td>-8.921633</td>\n",
       "    </tr>\n",
       "    <tr>\n",
       "      <th>3</th>\n",
       "      <td>26742</td>\n",
       "      <td>2020-09-16</td>\n",
       "      <td>MILHO (Sequeiro)</td>\n",
       "      <td>0.6390</td>\n",
       "      <td>39.490351</td>\n",
       "      <td>-8.921633</td>\n",
       "    </tr>\n",
       "    <tr>\n",
       "      <th>4</th>\n",
       "      <td>26742</td>\n",
       "      <td>2020-09-21</td>\n",
       "      <td>MILHO (Sequeiro)</td>\n",
       "      <td>0.5985</td>\n",
       "      <td>39.490351</td>\n",
       "      <td>-8.921633</td>\n",
       "    </tr>\n",
       "  </tbody>\n",
       "</table>\n",
       "</div>"
      ],
      "text/plain": [
       "      ID        DATA           Cultura  NDVI_MED        Lat       Lon\n",
       "0  26742  2020-09-01  MILHO (Sequeiro)    0.6511  39.490351 -8.921633\n",
       "1  26742  2020-09-06  MILHO (Sequeiro)    0.4831  39.490351 -8.921633\n",
       "2  26742  2020-09-11  MILHO (Sequeiro)    0.6104  39.490351 -8.921633\n",
       "3  26742  2020-09-16  MILHO (Sequeiro)    0.6390  39.490351 -8.921633\n",
       "4  26742  2020-09-21  MILHO (Sequeiro)    0.5985  39.490351 -8.921633"
      ]
     },
     "execution_count": 3,
     "metadata": {},
     "output_type": "execute_result"
    }
   ],
   "source": [
    "TabelaMilho.head()"
   ]
  },
  {
   "cell_type": "code",
   "execution_count": 4,
   "id": "eeee2a45-f383-4458-8195-cbca7b19a124",
   "metadata": {},
   "outputs": [],
   "source": [
    "#apenas para o artigo\n",
    "TabelaMilhoartigo= TabelaMilho.rename({'DATA': 'DATE', 'Cultura': 'Crop'}, axis=1) "
   ]
  },
  {
   "cell_type": "code",
   "execution_count": 5,
   "id": "f5e5c713-f216-4a4e-9bbf-efeace89a6b1",
   "metadata": {},
   "outputs": [
    {
     "data": {
      "text/html": [
       "<div>\n",
       "<style scoped>\n",
       "    .dataframe tbody tr th:only-of-type {\n",
       "        vertical-align: middle;\n",
       "    }\n",
       "\n",
       "    .dataframe tbody tr th {\n",
       "        vertical-align: top;\n",
       "    }\n",
       "\n",
       "    .dataframe thead th {\n",
       "        text-align: right;\n",
       "    }\n",
       "</style>\n",
       "<table border=\"1\" class=\"dataframe\">\n",
       "  <thead>\n",
       "    <tr style=\"text-align: right;\">\n",
       "      <th></th>\n",
       "      <th>ID</th>\n",
       "      <th>DATE</th>\n",
       "      <th>Crop</th>\n",
       "      <th>NDVI_MED</th>\n",
       "      <th>Lat</th>\n",
       "      <th>Lon</th>\n",
       "    </tr>\n",
       "  </thead>\n",
       "  <tbody>\n",
       "    <tr>\n",
       "      <th>0</th>\n",
       "      <td>26742</td>\n",
       "      <td>2020-09-01</td>\n",
       "      <td>MILHO (Sequeiro)</td>\n",
       "      <td>0.6511</td>\n",
       "      <td>39.490351</td>\n",
       "      <td>-8.921633</td>\n",
       "    </tr>\n",
       "    <tr>\n",
       "      <th>1</th>\n",
       "      <td>26742</td>\n",
       "      <td>2020-09-06</td>\n",
       "      <td>MILHO (Sequeiro)</td>\n",
       "      <td>0.4831</td>\n",
       "      <td>39.490351</td>\n",
       "      <td>-8.921633</td>\n",
       "    </tr>\n",
       "    <tr>\n",
       "      <th>2</th>\n",
       "      <td>26742</td>\n",
       "      <td>2020-09-11</td>\n",
       "      <td>MILHO (Sequeiro)</td>\n",
       "      <td>0.6104</td>\n",
       "      <td>39.490351</td>\n",
       "      <td>-8.921633</td>\n",
       "    </tr>\n",
       "    <tr>\n",
       "      <th>3</th>\n",
       "      <td>26742</td>\n",
       "      <td>2020-09-16</td>\n",
       "      <td>MILHO (Sequeiro)</td>\n",
       "      <td>0.6390</td>\n",
       "      <td>39.490351</td>\n",
       "      <td>-8.921633</td>\n",
       "    </tr>\n",
       "    <tr>\n",
       "      <th>4</th>\n",
       "      <td>26742</td>\n",
       "      <td>2020-09-21</td>\n",
       "      <td>MILHO (Sequeiro)</td>\n",
       "      <td>0.5985</td>\n",
       "      <td>39.490351</td>\n",
       "      <td>-8.921633</td>\n",
       "    </tr>\n",
       "    <tr>\n",
       "      <th>...</th>\n",
       "      <td>...</td>\n",
       "      <td>...</td>\n",
       "      <td>...</td>\n",
       "      <td>...</td>\n",
       "      <td>...</td>\n",
       "      <td>...</td>\n",
       "    </tr>\n",
       "    <tr>\n",
       "      <th>463756</th>\n",
       "      <td>44793426</td>\n",
       "      <td>2022-01-04</td>\n",
       "      <td>MILHO (Sequeiro)</td>\n",
       "      <td>0.0291</td>\n",
       "      <td>39.324599</td>\n",
       "      <td>-8.524624</td>\n",
       "    </tr>\n",
       "    <tr>\n",
       "      <th>463757</th>\n",
       "      <td>44793426</td>\n",
       "      <td>2022-01-09</td>\n",
       "      <td>MILHO (Sequeiro)</td>\n",
       "      <td>0.1501</td>\n",
       "      <td>39.324599</td>\n",
       "      <td>-8.524624</td>\n",
       "    </tr>\n",
       "    <tr>\n",
       "      <th>463758</th>\n",
       "      <td>44793426</td>\n",
       "      <td>2022-01-14</td>\n",
       "      <td>MILHO (Sequeiro)</td>\n",
       "      <td>0.2711</td>\n",
       "      <td>39.324599</td>\n",
       "      <td>-8.524624</td>\n",
       "    </tr>\n",
       "    <tr>\n",
       "      <th>463759</th>\n",
       "      <td>44793426</td>\n",
       "      <td>2022-01-19</td>\n",
       "      <td>MILHO (Sequeiro)</td>\n",
       "      <td>0.3927</td>\n",
       "      <td>39.324599</td>\n",
       "      <td>-8.524624</td>\n",
       "    </tr>\n",
       "    <tr>\n",
       "      <th>463760</th>\n",
       "      <td>44793426</td>\n",
       "      <td>2022-01-24</td>\n",
       "      <td>MILHO (Sequeiro)</td>\n",
       "      <td>0.3585</td>\n",
       "      <td>39.324599</td>\n",
       "      <td>-8.524624</td>\n",
       "    </tr>\n",
       "  </tbody>\n",
       "</table>\n",
       "<p>463761 rows × 6 columns</p>\n",
       "</div>"
      ],
      "text/plain": [
       "              ID        DATE              Crop  NDVI_MED        Lat       Lon\n",
       "0          26742  2020-09-01  MILHO (Sequeiro)    0.6511  39.490351 -8.921633\n",
       "1          26742  2020-09-06  MILHO (Sequeiro)    0.4831  39.490351 -8.921633\n",
       "2          26742  2020-09-11  MILHO (Sequeiro)    0.6104  39.490351 -8.921633\n",
       "3          26742  2020-09-16  MILHO (Sequeiro)    0.6390  39.490351 -8.921633\n",
       "4          26742  2020-09-21  MILHO (Sequeiro)    0.5985  39.490351 -8.921633\n",
       "...          ...         ...               ...       ...        ...       ...\n",
       "463756  44793426  2022-01-04  MILHO (Sequeiro)    0.0291  39.324599 -8.524624\n",
       "463757  44793426  2022-01-09  MILHO (Sequeiro)    0.1501  39.324599 -8.524624\n",
       "463758  44793426  2022-01-14  MILHO (Sequeiro)    0.2711  39.324599 -8.524624\n",
       "463759  44793426  2022-01-19  MILHO (Sequeiro)    0.3927  39.324599 -8.524624\n",
       "463760  44793426  2022-01-24  MILHO (Sequeiro)    0.3585  39.324599 -8.524624\n",
       "\n",
       "[463761 rows x 6 columns]"
      ]
     },
     "execution_count": 5,
     "metadata": {},
     "output_type": "execute_result"
    }
   ],
   "source": [
    "TabelaMilhoartigo"
   ]
  },
  {
   "cell_type": "code",
   "execution_count": 6,
   "id": "d9601314-85f2-4b53-95c2-a9b9d4645354",
   "metadata": {},
   "outputs": [
    {
     "data": {
      "text/html": [
       "<div>\n",
       "<style scoped>\n",
       "    .dataframe tbody tr th:only-of-type {\n",
       "        vertical-align: middle;\n",
       "    }\n",
       "\n",
       "    .dataframe tbody tr th {\n",
       "        vertical-align: top;\n",
       "    }\n",
       "\n",
       "    .dataframe thead th {\n",
       "        text-align: right;\n",
       "    }\n",
       "</style>\n",
       "<table border=\"1\" class=\"dataframe\">\n",
       "  <thead>\n",
       "    <tr style=\"text-align: right;\">\n",
       "      <th></th>\n",
       "      <th>ID</th>\n",
       "      <th>DATE</th>\n",
       "      <th>Crop</th>\n",
       "      <th>NDVI_MED</th>\n",
       "      <th>Lat</th>\n",
       "      <th>Lon</th>\n",
       "    </tr>\n",
       "  </thead>\n",
       "  <tbody>\n",
       "    <tr>\n",
       "      <th>0</th>\n",
       "      <td>26742</td>\n",
       "      <td>2020-09-01</td>\n",
       "      <td>MILHO (Sequeiro)</td>\n",
       "      <td>0.6511</td>\n",
       "      <td>39.490351</td>\n",
       "      <td>-8.921633</td>\n",
       "    </tr>\n",
       "    <tr>\n",
       "      <th>1</th>\n",
       "      <td>26742</td>\n",
       "      <td>2020-09-06</td>\n",
       "      <td>MILHO (Sequeiro)</td>\n",
       "      <td>0.4831</td>\n",
       "      <td>39.490351</td>\n",
       "      <td>-8.921633</td>\n",
       "    </tr>\n",
       "    <tr>\n",
       "      <th>2</th>\n",
       "      <td>26742</td>\n",
       "      <td>2020-09-11</td>\n",
       "      <td>MILHO (Sequeiro)</td>\n",
       "      <td>0.6104</td>\n",
       "      <td>39.490351</td>\n",
       "      <td>-8.921633</td>\n",
       "    </tr>\n",
       "    <tr>\n",
       "      <th>3</th>\n",
       "      <td>26742</td>\n",
       "      <td>2020-09-16</td>\n",
       "      <td>MILHO (Sequeiro)</td>\n",
       "      <td>0.6390</td>\n",
       "      <td>39.490351</td>\n",
       "      <td>-8.921633</td>\n",
       "    </tr>\n",
       "    <tr>\n",
       "      <th>4</th>\n",
       "      <td>26742</td>\n",
       "      <td>2020-09-21</td>\n",
       "      <td>MILHO (Sequeiro)</td>\n",
       "      <td>0.5985</td>\n",
       "      <td>39.490351</td>\n",
       "      <td>-8.921633</td>\n",
       "    </tr>\n",
       "    <tr>\n",
       "      <th>...</th>\n",
       "      <td>...</td>\n",
       "      <td>...</td>\n",
       "      <td>...</td>\n",
       "      <td>...</td>\n",
       "      <td>...</td>\n",
       "      <td>...</td>\n",
       "    </tr>\n",
       "    <tr>\n",
       "      <th>463756</th>\n",
       "      <td>44793426</td>\n",
       "      <td>2022-01-04</td>\n",
       "      <td>MILHO (Sequeiro)</td>\n",
       "      <td>0.0291</td>\n",
       "      <td>39.324599</td>\n",
       "      <td>-8.524624</td>\n",
       "    </tr>\n",
       "    <tr>\n",
       "      <th>463757</th>\n",
       "      <td>44793426</td>\n",
       "      <td>2022-01-09</td>\n",
       "      <td>MILHO (Sequeiro)</td>\n",
       "      <td>0.1501</td>\n",
       "      <td>39.324599</td>\n",
       "      <td>-8.524624</td>\n",
       "    </tr>\n",
       "    <tr>\n",
       "      <th>463758</th>\n",
       "      <td>44793426</td>\n",
       "      <td>2022-01-14</td>\n",
       "      <td>MILHO (Sequeiro)</td>\n",
       "      <td>0.2711</td>\n",
       "      <td>39.324599</td>\n",
       "      <td>-8.524624</td>\n",
       "    </tr>\n",
       "    <tr>\n",
       "      <th>463759</th>\n",
       "      <td>44793426</td>\n",
       "      <td>2022-01-19</td>\n",
       "      <td>MILHO (Sequeiro)</td>\n",
       "      <td>0.3927</td>\n",
       "      <td>39.324599</td>\n",
       "      <td>-8.524624</td>\n",
       "    </tr>\n",
       "    <tr>\n",
       "      <th>463760</th>\n",
       "      <td>44793426</td>\n",
       "      <td>2022-01-24</td>\n",
       "      <td>MILHO (Sequeiro)</td>\n",
       "      <td>0.3585</td>\n",
       "      <td>39.324599</td>\n",
       "      <td>-8.524624</td>\n",
       "    </tr>\n",
       "  </tbody>\n",
       "</table>\n",
       "<p>463761 rows × 6 columns</p>\n",
       "</div>"
      ],
      "text/plain": [
       "              ID        DATE              Crop  NDVI_MED        Lat       Lon\n",
       "0          26742  2020-09-01  MILHO (Sequeiro)    0.6511  39.490351 -8.921633\n",
       "1          26742  2020-09-06  MILHO (Sequeiro)    0.4831  39.490351 -8.921633\n",
       "2          26742  2020-09-11  MILHO (Sequeiro)    0.6104  39.490351 -8.921633\n",
       "3          26742  2020-09-16  MILHO (Sequeiro)    0.6390  39.490351 -8.921633\n",
       "4          26742  2020-09-21  MILHO (Sequeiro)    0.5985  39.490351 -8.921633\n",
       "...          ...         ...               ...       ...        ...       ...\n",
       "463756  44793426  2022-01-04  MILHO (Sequeiro)    0.0291  39.324599 -8.524624\n",
       "463757  44793426  2022-01-09  MILHO (Sequeiro)    0.1501  39.324599 -8.524624\n",
       "463758  44793426  2022-01-14  MILHO (Sequeiro)    0.2711  39.324599 -8.524624\n",
       "463759  44793426  2022-01-19  MILHO (Sequeiro)    0.3927  39.324599 -8.524624\n",
       "463760  44793426  2022-01-24  MILHO (Sequeiro)    0.3585  39.324599 -8.524624\n",
       "\n",
       "[463761 rows x 6 columns]"
      ]
     },
     "execution_count": 6,
     "metadata": {},
     "output_type": "execute_result"
    }
   ],
   "source": [
    "TabelaMilhoartigo"
   ]
  },
  {
   "cell_type": "code",
   "execution_count": 7,
   "id": "0ed78661-96cf-4bde-a55e-7c715fc52b8e",
   "metadata": {},
   "outputs": [
    {
     "data": {
      "text/html": [
       "<div>\n",
       "<style scoped>\n",
       "    .dataframe tbody tr th:only-of-type {\n",
       "        vertical-align: middle;\n",
       "    }\n",
       "\n",
       "    .dataframe tbody tr th {\n",
       "        vertical-align: top;\n",
       "    }\n",
       "\n",
       "    .dataframe thead th {\n",
       "        text-align: right;\n",
       "    }\n",
       "</style>\n",
       "<table border=\"1\" class=\"dataframe\">\n",
       "  <thead>\n",
       "    <tr style=\"text-align: right;\">\n",
       "      <th></th>\n",
       "      <th></th>\n",
       "      <th>Crop</th>\n",
       "      <th>NDVI_MED</th>\n",
       "      <th>Lat</th>\n",
       "      <th>Lon</th>\n",
       "    </tr>\n",
       "    <tr>\n",
       "      <th>ID</th>\n",
       "      <th>DATE</th>\n",
       "      <th></th>\n",
       "      <th></th>\n",
       "      <th></th>\n",
       "      <th></th>\n",
       "    </tr>\n",
       "  </thead>\n",
       "  <tbody>\n",
       "    <tr>\n",
       "      <th rowspan=\"5\" valign=\"top\">26742</th>\n",
       "      <th>2020-09-01</th>\n",
       "      <td>MILHO (Sequeiro)</td>\n",
       "      <td>0.6511</td>\n",
       "      <td>39.490351</td>\n",
       "      <td>-8.921633</td>\n",
       "    </tr>\n",
       "    <tr>\n",
       "      <th>2020-09-06</th>\n",
       "      <td>MILHO (Sequeiro)</td>\n",
       "      <td>0.4831</td>\n",
       "      <td>39.490351</td>\n",
       "      <td>-8.921633</td>\n",
       "    </tr>\n",
       "    <tr>\n",
       "      <th>2020-09-11</th>\n",
       "      <td>MILHO (Sequeiro)</td>\n",
       "      <td>0.6104</td>\n",
       "      <td>39.490351</td>\n",
       "      <td>-8.921633</td>\n",
       "    </tr>\n",
       "    <tr>\n",
       "      <th>2020-09-16</th>\n",
       "      <td>MILHO (Sequeiro)</td>\n",
       "      <td>0.6390</td>\n",
       "      <td>39.490351</td>\n",
       "      <td>-8.921633</td>\n",
       "    </tr>\n",
       "    <tr>\n",
       "      <th>2020-09-21</th>\n",
       "      <td>MILHO (Sequeiro)</td>\n",
       "      <td>0.5985</td>\n",
       "      <td>39.490351</td>\n",
       "      <td>-8.921633</td>\n",
       "    </tr>\n",
       "    <tr>\n",
       "      <th>...</th>\n",
       "      <th>...</th>\n",
       "      <td>...</td>\n",
       "      <td>...</td>\n",
       "      <td>...</td>\n",
       "      <td>...</td>\n",
       "    </tr>\n",
       "    <tr>\n",
       "      <th rowspan=\"5\" valign=\"top\">44825588</th>\n",
       "      <th>2022-01-04</th>\n",
       "      <td>MILHO (Sequeiro)</td>\n",
       "      <td>0.3599</td>\n",
       "      <td>39.015530</td>\n",
       "      <td>-8.919679</td>\n",
       "    </tr>\n",
       "    <tr>\n",
       "      <th>2022-01-09</th>\n",
       "      <td>MILHO (Sequeiro)</td>\n",
       "      <td>0.3568</td>\n",
       "      <td>39.015530</td>\n",
       "      <td>-8.919679</td>\n",
       "    </tr>\n",
       "    <tr>\n",
       "      <th>2022-01-14</th>\n",
       "      <td>MILHO (Sequeiro)</td>\n",
       "      <td>0.3613</td>\n",
       "      <td>39.015530</td>\n",
       "      <td>-8.919679</td>\n",
       "    </tr>\n",
       "    <tr>\n",
       "      <th>2022-01-19</th>\n",
       "      <td>MILHO (Sequeiro)</td>\n",
       "      <td>0.3516</td>\n",
       "      <td>39.015530</td>\n",
       "      <td>-8.919679</td>\n",
       "    </tr>\n",
       "    <tr>\n",
       "      <th>2022-01-24</th>\n",
       "      <td>MILHO (Sequeiro)</td>\n",
       "      <td>0.3471</td>\n",
       "      <td>39.015530</td>\n",
       "      <td>-8.919679</td>\n",
       "    </tr>\n",
       "  </tbody>\n",
       "</table>\n",
       "<p>463761 rows × 4 columns</p>\n",
       "</div>"
      ],
      "text/plain": [
       "                                 Crop  NDVI_MED        Lat       Lon\n",
       "ID       DATE                                                       \n",
       "26742    2020-09-01  MILHO (Sequeiro)    0.6511  39.490351 -8.921633\n",
       "         2020-09-06  MILHO (Sequeiro)    0.4831  39.490351 -8.921633\n",
       "         2020-09-11  MILHO (Sequeiro)    0.6104  39.490351 -8.921633\n",
       "         2020-09-16  MILHO (Sequeiro)    0.6390  39.490351 -8.921633\n",
       "         2020-09-21  MILHO (Sequeiro)    0.5985  39.490351 -8.921633\n",
       "...                               ...       ...        ...       ...\n",
       "44825588 2022-01-04  MILHO (Sequeiro)    0.3599  39.015530 -8.919679\n",
       "         2022-01-09  MILHO (Sequeiro)    0.3568  39.015530 -8.919679\n",
       "         2022-01-14  MILHO (Sequeiro)    0.3613  39.015530 -8.919679\n",
       "         2022-01-19  MILHO (Sequeiro)    0.3516  39.015530 -8.919679\n",
       "         2022-01-24  MILHO (Sequeiro)    0.3471  39.015530 -8.919679\n",
       "\n",
       "[463761 rows x 4 columns]"
      ]
     },
     "execution_count": 7,
     "metadata": {},
     "output_type": "execute_result"
    }
   ],
   "source": [
    "TabelaMilhoartigo.set_index([\"ID\",\"DATE\"]).sort_index()"
   ]
  },
  {
   "cell_type": "code",
   "execution_count": 8,
   "id": "8bcfdb8d-01a7-444c-a997-c28b8f068609",
   "metadata": {},
   "outputs": [
    {
     "data": {
      "text/html": [
       "<div>\n",
       "<style scoped>\n",
       "    .dataframe tbody tr th:only-of-type {\n",
       "        vertical-align: middle;\n",
       "    }\n",
       "\n",
       "    .dataframe tbody tr th {\n",
       "        vertical-align: top;\n",
       "    }\n",
       "\n",
       "    .dataframe thead th {\n",
       "        text-align: right;\n",
       "    }\n",
       "</style>\n",
       "<table border=\"1\" class=\"dataframe\">\n",
       "  <thead>\n",
       "    <tr style=\"text-align: right;\">\n",
       "      <th></th>\n",
       "      <th>ID</th>\n",
       "      <th>DATE</th>\n",
       "      <th>Crop</th>\n",
       "      <th>NDVI_MED</th>\n",
       "      <th>Lat</th>\n",
       "      <th>Lon</th>\n",
       "    </tr>\n",
       "  </thead>\n",
       "  <tbody>\n",
       "    <tr>\n",
       "      <th>0</th>\n",
       "      <td>26742</td>\n",
       "      <td>2020-09-01</td>\n",
       "      <td>MILHO (Sequeiro)</td>\n",
       "      <td>0.6511</td>\n",
       "      <td>39.490351</td>\n",
       "      <td>-8.921633</td>\n",
       "    </tr>\n",
       "    <tr>\n",
       "      <th>1</th>\n",
       "      <td>26742</td>\n",
       "      <td>2020-09-06</td>\n",
       "      <td>MILHO (Sequeiro)</td>\n",
       "      <td>0.4831</td>\n",
       "      <td>39.490351</td>\n",
       "      <td>-8.921633</td>\n",
       "    </tr>\n",
       "    <tr>\n",
       "      <th>2</th>\n",
       "      <td>26742</td>\n",
       "      <td>2020-09-11</td>\n",
       "      <td>MILHO (Sequeiro)</td>\n",
       "      <td>0.6104</td>\n",
       "      <td>39.490351</td>\n",
       "      <td>-8.921633</td>\n",
       "    </tr>\n",
       "    <tr>\n",
       "      <th>3</th>\n",
       "      <td>26742</td>\n",
       "      <td>2020-09-16</td>\n",
       "      <td>MILHO (Sequeiro)</td>\n",
       "      <td>0.6390</td>\n",
       "      <td>39.490351</td>\n",
       "      <td>-8.921633</td>\n",
       "    </tr>\n",
       "    <tr>\n",
       "      <th>4</th>\n",
       "      <td>26742</td>\n",
       "      <td>2020-09-21</td>\n",
       "      <td>MILHO (Sequeiro)</td>\n",
       "      <td>0.5985</td>\n",
       "      <td>39.490351</td>\n",
       "      <td>-8.921633</td>\n",
       "    </tr>\n",
       "    <tr>\n",
       "      <th>...</th>\n",
       "      <td>...</td>\n",
       "      <td>...</td>\n",
       "      <td>...</td>\n",
       "      <td>...</td>\n",
       "      <td>...</td>\n",
       "      <td>...</td>\n",
       "    </tr>\n",
       "    <tr>\n",
       "      <th>463756</th>\n",
       "      <td>44793426</td>\n",
       "      <td>2022-01-04</td>\n",
       "      <td>MILHO (Sequeiro)</td>\n",
       "      <td>0.0291</td>\n",
       "      <td>39.324599</td>\n",
       "      <td>-8.524624</td>\n",
       "    </tr>\n",
       "    <tr>\n",
       "      <th>463757</th>\n",
       "      <td>44793426</td>\n",
       "      <td>2022-01-09</td>\n",
       "      <td>MILHO (Sequeiro)</td>\n",
       "      <td>0.1501</td>\n",
       "      <td>39.324599</td>\n",
       "      <td>-8.524624</td>\n",
       "    </tr>\n",
       "    <tr>\n",
       "      <th>463758</th>\n",
       "      <td>44793426</td>\n",
       "      <td>2022-01-14</td>\n",
       "      <td>MILHO (Sequeiro)</td>\n",
       "      <td>0.2711</td>\n",
       "      <td>39.324599</td>\n",
       "      <td>-8.524624</td>\n",
       "    </tr>\n",
       "    <tr>\n",
       "      <th>463759</th>\n",
       "      <td>44793426</td>\n",
       "      <td>2022-01-19</td>\n",
       "      <td>MILHO (Sequeiro)</td>\n",
       "      <td>0.3927</td>\n",
       "      <td>39.324599</td>\n",
       "      <td>-8.524624</td>\n",
       "    </tr>\n",
       "    <tr>\n",
       "      <th>463760</th>\n",
       "      <td>44793426</td>\n",
       "      <td>2022-01-24</td>\n",
       "      <td>MILHO (Sequeiro)</td>\n",
       "      <td>0.3585</td>\n",
       "      <td>39.324599</td>\n",
       "      <td>-8.524624</td>\n",
       "    </tr>\n",
       "  </tbody>\n",
       "</table>\n",
       "<p>463761 rows × 6 columns</p>\n",
       "</div>"
      ],
      "text/plain": [
       "              ID        DATE              Crop  NDVI_MED        Lat       Lon\n",
       "0          26742  2020-09-01  MILHO (Sequeiro)    0.6511  39.490351 -8.921633\n",
       "1          26742  2020-09-06  MILHO (Sequeiro)    0.4831  39.490351 -8.921633\n",
       "2          26742  2020-09-11  MILHO (Sequeiro)    0.6104  39.490351 -8.921633\n",
       "3          26742  2020-09-16  MILHO (Sequeiro)    0.6390  39.490351 -8.921633\n",
       "4          26742  2020-09-21  MILHO (Sequeiro)    0.5985  39.490351 -8.921633\n",
       "...          ...         ...               ...       ...        ...       ...\n",
       "463756  44793426  2022-01-04  MILHO (Sequeiro)    0.0291  39.324599 -8.524624\n",
       "463757  44793426  2022-01-09  MILHO (Sequeiro)    0.1501  39.324599 -8.524624\n",
       "463758  44793426  2022-01-14  MILHO (Sequeiro)    0.2711  39.324599 -8.524624\n",
       "463759  44793426  2022-01-19  MILHO (Sequeiro)    0.3927  39.324599 -8.524624\n",
       "463760  44793426  2022-01-24  MILHO (Sequeiro)    0.3585  39.324599 -8.524624\n",
       "\n",
       "[463761 rows x 6 columns]"
      ]
     },
     "execution_count": 8,
     "metadata": {},
     "output_type": "execute_result"
    }
   ],
   "source": [
    "TabelaMilhoartigo"
   ]
  },
  {
   "cell_type": "code",
   "execution_count": 9,
   "id": "f7b21873-5c53-4a76-a1a9-a592f9fc38bf",
   "metadata": {},
   "outputs": [
    {
     "data": {
      "text/html": [
       "<div>\n",
       "<style scoped>\n",
       "    .dataframe tbody tr th:only-of-type {\n",
       "        vertical-align: middle;\n",
       "    }\n",
       "\n",
       "    .dataframe tbody tr th {\n",
       "        vertical-align: top;\n",
       "    }\n",
       "\n",
       "    .dataframe thead th {\n",
       "        text-align: right;\n",
       "    }\n",
       "</style>\n",
       "<table border=\"1\" class=\"dataframe\">\n",
       "  <thead>\n",
       "    <tr style=\"text-align: right;\">\n",
       "      <th></th>\n",
       "      <th>ID</th>\n",
       "      <th>DATA</th>\n",
       "      <th>Cultura</th>\n",
       "      <th>NDVI_MED</th>\n",
       "      <th>Lat</th>\n",
       "      <th>Lon</th>\n",
       "    </tr>\n",
       "  </thead>\n",
       "  <tbody>\n",
       "    <tr>\n",
       "      <th>0</th>\n",
       "      <td>26742</td>\n",
       "      <td>2020-09-01</td>\n",
       "      <td>MILHO (Sequeiro)</td>\n",
       "      <td>0.6511</td>\n",
       "      <td>39.490351</td>\n",
       "      <td>-8.921633</td>\n",
       "    </tr>\n",
       "    <tr>\n",
       "      <th>1</th>\n",
       "      <td>26742</td>\n",
       "      <td>2020-09-06</td>\n",
       "      <td>MILHO (Sequeiro)</td>\n",
       "      <td>0.4831</td>\n",
       "      <td>39.490351</td>\n",
       "      <td>-8.921633</td>\n",
       "    </tr>\n",
       "    <tr>\n",
       "      <th>2</th>\n",
       "      <td>26742</td>\n",
       "      <td>2020-09-11</td>\n",
       "      <td>MILHO (Sequeiro)</td>\n",
       "      <td>0.6104</td>\n",
       "      <td>39.490351</td>\n",
       "      <td>-8.921633</td>\n",
       "    </tr>\n",
       "    <tr>\n",
       "      <th>3</th>\n",
       "      <td>26742</td>\n",
       "      <td>2020-09-16</td>\n",
       "      <td>MILHO (Sequeiro)</td>\n",
       "      <td>0.6390</td>\n",
       "      <td>39.490351</td>\n",
       "      <td>-8.921633</td>\n",
       "    </tr>\n",
       "    <tr>\n",
       "      <th>4</th>\n",
       "      <td>26742</td>\n",
       "      <td>2020-09-21</td>\n",
       "      <td>MILHO (Sequeiro)</td>\n",
       "      <td>0.5985</td>\n",
       "      <td>39.490351</td>\n",
       "      <td>-8.921633</td>\n",
       "    </tr>\n",
       "    <tr>\n",
       "      <th>...</th>\n",
       "      <td>...</td>\n",
       "      <td>...</td>\n",
       "      <td>...</td>\n",
       "      <td>...</td>\n",
       "      <td>...</td>\n",
       "      <td>...</td>\n",
       "    </tr>\n",
       "    <tr>\n",
       "      <th>463756</th>\n",
       "      <td>44793426</td>\n",
       "      <td>2022-01-04</td>\n",
       "      <td>MILHO (Sequeiro)</td>\n",
       "      <td>0.0291</td>\n",
       "      <td>39.324599</td>\n",
       "      <td>-8.524624</td>\n",
       "    </tr>\n",
       "    <tr>\n",
       "      <th>463757</th>\n",
       "      <td>44793426</td>\n",
       "      <td>2022-01-09</td>\n",
       "      <td>MILHO (Sequeiro)</td>\n",
       "      <td>0.1501</td>\n",
       "      <td>39.324599</td>\n",
       "      <td>-8.524624</td>\n",
       "    </tr>\n",
       "    <tr>\n",
       "      <th>463758</th>\n",
       "      <td>44793426</td>\n",
       "      <td>2022-01-14</td>\n",
       "      <td>MILHO (Sequeiro)</td>\n",
       "      <td>0.2711</td>\n",
       "      <td>39.324599</td>\n",
       "      <td>-8.524624</td>\n",
       "    </tr>\n",
       "    <tr>\n",
       "      <th>463759</th>\n",
       "      <td>44793426</td>\n",
       "      <td>2022-01-19</td>\n",
       "      <td>MILHO (Sequeiro)</td>\n",
       "      <td>0.3927</td>\n",
       "      <td>39.324599</td>\n",
       "      <td>-8.524624</td>\n",
       "    </tr>\n",
       "    <tr>\n",
       "      <th>463760</th>\n",
       "      <td>44793426</td>\n",
       "      <td>2022-01-24</td>\n",
       "      <td>MILHO (Sequeiro)</td>\n",
       "      <td>0.3585</td>\n",
       "      <td>39.324599</td>\n",
       "      <td>-8.524624</td>\n",
       "    </tr>\n",
       "  </tbody>\n",
       "</table>\n",
       "<p>463761 rows × 6 columns</p>\n",
       "</div>"
      ],
      "text/plain": [
       "              ID        DATA           Cultura  NDVI_MED        Lat       Lon\n",
       "0          26742  2020-09-01  MILHO (Sequeiro)    0.6511  39.490351 -8.921633\n",
       "1          26742  2020-09-06  MILHO (Sequeiro)    0.4831  39.490351 -8.921633\n",
       "2          26742  2020-09-11  MILHO (Sequeiro)    0.6104  39.490351 -8.921633\n",
       "3          26742  2020-09-16  MILHO (Sequeiro)    0.6390  39.490351 -8.921633\n",
       "4          26742  2020-09-21  MILHO (Sequeiro)    0.5985  39.490351 -8.921633\n",
       "...          ...         ...               ...       ...        ...       ...\n",
       "463756  44793426  2022-01-04  MILHO (Sequeiro)    0.0291  39.324599 -8.524624\n",
       "463757  44793426  2022-01-09  MILHO (Sequeiro)    0.1501  39.324599 -8.524624\n",
       "463758  44793426  2022-01-14  MILHO (Sequeiro)    0.2711  39.324599 -8.524624\n",
       "463759  44793426  2022-01-19  MILHO (Sequeiro)    0.3927  39.324599 -8.524624\n",
       "463760  44793426  2022-01-24  MILHO (Sequeiro)    0.3585  39.324599 -8.524624\n",
       "\n",
       "[463761 rows x 6 columns]"
      ]
     },
     "execution_count": 9,
     "metadata": {},
     "output_type": "execute_result"
    }
   ],
   "source": [
    "TabelaMilho"
   ]
  },
  {
   "cell_type": "code",
   "execution_count": 10,
   "id": "b2fd65d0-df4e-4678-a1d9-7dc073f3f025",
   "metadata": {},
   "outputs": [
    {
     "data": {
      "text/html": [
       "<div>\n",
       "<style scoped>\n",
       "    .dataframe tbody tr th:only-of-type {\n",
       "        vertical-align: middle;\n",
       "    }\n",
       "\n",
       "    .dataframe tbody tr th {\n",
       "        vertical-align: top;\n",
       "    }\n",
       "\n",
       "    .dataframe thead th {\n",
       "        text-align: right;\n",
       "    }\n",
       "</style>\n",
       "<table border=\"1\" class=\"dataframe\">\n",
       "  <thead>\n",
       "    <tr style=\"text-align: right;\">\n",
       "      <th></th>\n",
       "      <th>Crop</th>\n",
       "      <th>Init. (Lini)</th>\n",
       "      <th>Dev. (Ldev)</th>\n",
       "      <th>Mid (Lmid)</th>\n",
       "      <th>Late (Llate)</th>\n",
       "      <th>Total</th>\n",
       "      <th>Plant Date</th>\n",
       "    </tr>\n",
       "  </thead>\n",
       "  <tbody>\n",
       "    <tr>\n",
       "      <th>0</th>\n",
       "      <td>Broculos</td>\n",
       "      <td>35</td>\n",
       "      <td>45</td>\n",
       "      <td>40</td>\n",
       "      <td>15</td>\n",
       "      <td>135</td>\n",
       "      <td>Set</td>\n",
       "    </tr>\n",
       "    <tr>\n",
       "      <th>1</th>\n",
       "      <td>Couve_repolho</td>\n",
       "      <td>40</td>\n",
       "      <td>60</td>\n",
       "      <td>50</td>\n",
       "      <td>15</td>\n",
       "      <td>165</td>\n",
       "      <td>Set</td>\n",
       "    </tr>\n",
       "    <tr>\n",
       "      <th>2</th>\n",
       "      <td>Cenoura</td>\n",
       "      <td>30</td>\n",
       "      <td>40</td>\n",
       "      <td>60</td>\n",
       "      <td>20</td>\n",
       "      <td>150</td>\n",
       "      <td>Feb_Mar</td>\n",
       "    </tr>\n",
       "    <tr>\n",
       "      <th>3</th>\n",
       "      <td>Couveflor</td>\n",
       "      <td>35</td>\n",
       "      <td>50</td>\n",
       "      <td>40</td>\n",
       "      <td>15</td>\n",
       "      <td>140</td>\n",
       "      <td>Set</td>\n",
       "    </tr>\n",
       "    <tr>\n",
       "      <th>4</th>\n",
       "      <td>Salsao_aipo</td>\n",
       "      <td>25</td>\n",
       "      <td>40</td>\n",
       "      <td>45</td>\n",
       "      <td>15</td>\n",
       "      <td>125</td>\n",
       "      <td>Abr</td>\n",
       "    </tr>\n",
       "  </tbody>\n",
       "</table>\n",
       "</div>"
      ],
      "text/plain": [
       "            Crop  Init. (Lini)  Dev. (Ldev)  Mid (Lmid)  Late (Llate)  Total  \\\n",
       "0       Broculos            35           45          40            15    135   \n",
       "1  Couve_repolho            40           60          50            15    165   \n",
       "2        Cenoura            30           40          60            20    150   \n",
       "3      Couveflor            35           50          40            15    140   \n",
       "4    Salsao_aipo            25           40          45            15    125   \n",
       "\n",
       "  Plant Date  \n",
       "0        Set  \n",
       "1        Set  \n",
       "2    Feb_Mar  \n",
       "3        Set  \n",
       "4        Abr  "
      ]
     },
     "execution_count": 10,
     "metadata": {},
     "output_type": "execute_result"
    }
   ],
   "source": [
    "TabelaTempo.head()"
   ]
  },
  {
   "cell_type": "code",
   "execution_count": 11,
   "id": "7f3308e1-4df0-416f-a1b0-ff5efa028f35",
   "metadata": {},
   "outputs": [
    {
     "data": {
      "text/html": [
       "<div>\n",
       "<style scoped>\n",
       "    .dataframe tbody tr th:only-of-type {\n",
       "        vertical-align: middle;\n",
       "    }\n",
       "\n",
       "    .dataframe tbody tr th {\n",
       "        vertical-align: top;\n",
       "    }\n",
       "\n",
       "    .dataframe thead th {\n",
       "        text-align: right;\n",
       "    }\n",
       "</style>\n",
       "<table border=\"1\" class=\"dataframe\">\n",
       "  <thead>\n",
       "    <tr style=\"text-align: right;\">\n",
       "      <th></th>\n",
       "      <th>Crop</th>\n",
       "      <th>Kc ini</th>\n",
       "      <th>Kc mid</th>\n",
       "      <th>Kc end</th>\n",
       "    </tr>\n",
       "  </thead>\n",
       "  <tbody>\n",
       "    <tr>\n",
       "      <th>0</th>\n",
       "      <td>Broculos</td>\n",
       "      <td>0.7</td>\n",
       "      <td>1.05</td>\n",
       "      <td>0.95</td>\n",
       "    </tr>\n",
       "    <tr>\n",
       "      <th>1</th>\n",
       "      <td>Couve_repolho</td>\n",
       "      <td>0.7</td>\n",
       "      <td>1.05</td>\n",
       "      <td>0.95</td>\n",
       "    </tr>\n",
       "    <tr>\n",
       "      <th>2</th>\n",
       "      <td>Cenoura</td>\n",
       "      <td>0.7</td>\n",
       "      <td>1.05</td>\n",
       "      <td>0.95</td>\n",
       "    </tr>\n",
       "    <tr>\n",
       "      <th>3</th>\n",
       "      <td>Couveflor</td>\n",
       "      <td>0.7</td>\n",
       "      <td>1.05</td>\n",
       "      <td>0.95</td>\n",
       "    </tr>\n",
       "    <tr>\n",
       "      <th>4</th>\n",
       "      <td>Salsao_aipo</td>\n",
       "      <td>0.7</td>\n",
       "      <td>1.05</td>\n",
       "      <td>1.00</td>\n",
       "    </tr>\n",
       "  </tbody>\n",
       "</table>\n",
       "</div>"
      ],
      "text/plain": [
       "            Crop  Kc ini  Kc mid  Kc end\n",
       "0       Broculos     0.7    1.05    0.95\n",
       "1  Couve_repolho     0.7    1.05    0.95\n",
       "2        Cenoura     0.7    1.05    0.95\n",
       "3      Couveflor     0.7    1.05    0.95\n",
       "4    Salsao_aipo     0.7    1.05    1.00"
      ]
     },
     "execution_count": 11,
     "metadata": {},
     "output_type": "execute_result"
    }
   ],
   "source": [
    "TabelaNDVI.head()"
   ]
  },
  {
   "cell_type": "code",
   "execution_count": 12,
   "id": "f0c14649-2776-485e-9e9d-5b864984c247",
   "metadata": {},
   "outputs": [],
   "source": [
    "TabelaMilho=TabelaMilho.drop(\"Cultura\", axis=1)"
   ]
  },
  {
   "cell_type": "code",
   "execution_count": 13,
   "id": "36b2e1d6-008b-4a18-9ee1-551aaaf42b37",
   "metadata": {},
   "outputs": [],
   "source": [
    "TabelaMilho2=TabelaMilho.set_index([\"ID\",\"DATA\"]).sort_index()"
   ]
  },
  {
   "cell_type": "code",
   "execution_count": 14,
   "id": "d8048264-99f5-4539-be1e-b6373e2f1c16",
   "metadata": {},
   "outputs": [
    {
     "data": {
      "text/html": [
       "<iframe\n",
       "    scrolling=\"no\"\n",
       "    width=\"100%\"\n",
       "    height=\"545px\"\n",
       "    src=\"iframe_figures/figure_14.html\"\n",
       "    frameborder=\"0\"\n",
       "    allowfullscreen\n",
       "></iframe>\n"
      ]
     },
     "metadata": {},
     "output_type": "display_data"
    }
   ],
   "source": [
    "# Representacao de todas as series/poligonos (apenas para verificacao)\n",
    "pio.renderers.default = 'iframe'\n",
    "px.line(\n",
    "    TabelaMilho2.reset_index(),\n",
    "    x=\"DATA\",\n",
    "    y=\"NDVI_MED\",\n",
    "    color=\"ID\",\n",
    ").update_layout(xaxis={\"type\": \"category\"},xaxis_title=\"DATE\",yaxis_title=\"NDVI\")"
   ]
  },
  {
   "cell_type": "code",
   "execution_count": 15,
   "id": "61fc15ac-8654-471e-b1f7-ae268a2d0f9e",
   "metadata": {},
   "outputs": [],
   "source": [
    "TabelaMilho3=TabelaMilho2.reset_index()"
   ]
  },
  {
   "cell_type": "code",
   "execution_count": 16,
   "id": "5c78635a-bebd-4eb7-938f-e3bf207b35be",
   "metadata": {},
   "outputs": [],
   "source": [
    "# A mesma representacao anterior\n",
    "TabelaMilho3.set_index(\"DATA\", inplace=True)\n",
    "#TabelaMilho3.groupby(\"ID\")[\"NDVI_MED\"].plot(legend=True, xlabel=\"DATA\", ylabel=\"NDVI_MED\",figsize=(8,6))"
   ]
  },
  {
   "cell_type": "code",
   "execution_count": 17,
   "id": "2cd2b876-04b3-4995-96b1-2c98e410780b",
   "metadata": {},
   "outputs": [],
   "source": [
    "TabelaMilho3=TabelaMilho3.reset_index()"
   ]
  },
  {
   "cell_type": "code",
   "execution_count": 18,
   "id": "03d237b2-5f9a-4e30-935f-1d0c7e13ff0f",
   "metadata": {},
   "outputs": [],
   "source": [
    "df = TabelaMilho3.pivot(index='DATA', columns='ID', values='NDVI_MED')"
   ]
  },
  {
   "cell_type": "code",
   "execution_count": 19,
   "id": "d5ddc3eb-3e9d-4139-956a-9558b6ac92ef",
   "metadata": {},
   "outputs": [
    {
     "data": {
      "text/html": [
       "<div>\n",
       "<style scoped>\n",
       "    .dataframe tbody tr th:only-of-type {\n",
       "        vertical-align: middle;\n",
       "    }\n",
       "\n",
       "    .dataframe tbody tr th {\n",
       "        vertical-align: top;\n",
       "    }\n",
       "\n",
       "    .dataframe thead th {\n",
       "        text-align: right;\n",
       "    }\n",
       "</style>\n",
       "<table border=\"1\" class=\"dataframe\">\n",
       "  <thead>\n",
       "    <tr style=\"text-align: right;\">\n",
       "      <th>ID</th>\n",
       "      <th>26742</th>\n",
       "      <th>142399</th>\n",
       "      <th>147088</th>\n",
       "      <th>270735</th>\n",
       "      <th>270992</th>\n",
       "      <th>453335</th>\n",
       "      <th>744056</th>\n",
       "      <th>842397</th>\n",
       "      <th>1305223</th>\n",
       "      <th>1305481</th>\n",
       "      <th>...</th>\n",
       "      <th>44805278</th>\n",
       "      <th>44812160</th>\n",
       "      <th>44812167</th>\n",
       "      <th>44816601</th>\n",
       "      <th>44819099</th>\n",
       "      <th>44821958</th>\n",
       "      <th>44823713</th>\n",
       "      <th>44825583</th>\n",
       "      <th>44825584</th>\n",
       "      <th>44825588</th>\n",
       "    </tr>\n",
       "    <tr>\n",
       "      <th>DATA</th>\n",
       "      <th></th>\n",
       "      <th></th>\n",
       "      <th></th>\n",
       "      <th></th>\n",
       "      <th></th>\n",
       "      <th></th>\n",
       "      <th></th>\n",
       "      <th></th>\n",
       "      <th></th>\n",
       "      <th></th>\n",
       "      <th></th>\n",
       "      <th></th>\n",
       "      <th></th>\n",
       "      <th></th>\n",
       "      <th></th>\n",
       "      <th></th>\n",
       "      <th></th>\n",
       "      <th></th>\n",
       "      <th></th>\n",
       "      <th></th>\n",
       "      <th></th>\n",
       "    </tr>\n",
       "  </thead>\n",
       "  <tbody>\n",
       "    <tr>\n",
       "      <th>2020-09-01</th>\n",
       "      <td>0.6511</td>\n",
       "      <td>0.4860</td>\n",
       "      <td>0.4605</td>\n",
       "      <td>0.3381</td>\n",
       "      <td>0.2624</td>\n",
       "      <td>0.3406</td>\n",
       "      <td>NaN</td>\n",
       "      <td>0.5644</td>\n",
       "      <td>0.2017</td>\n",
       "      <td>0.2637</td>\n",
       "      <td>...</td>\n",
       "      <td>0.1683</td>\n",
       "      <td>0.6862</td>\n",
       "      <td>0.3003</td>\n",
       "      <td>0.9088</td>\n",
       "      <td>0.1563</td>\n",
       "      <td>0.8349</td>\n",
       "      <td>0.7884</td>\n",
       "      <td>0.2633</td>\n",
       "      <td>0.2899</td>\n",
       "      <td>0.2914</td>\n",
       "    </tr>\n",
       "    <tr>\n",
       "      <th>2020-09-06</th>\n",
       "      <td>0.4831</td>\n",
       "      <td>0.4275</td>\n",
       "      <td>0.4369</td>\n",
       "      <td>0.3170</td>\n",
       "      <td>0.2761</td>\n",
       "      <td>0.3114</td>\n",
       "      <td>0.8937</td>\n",
       "      <td>0.5192</td>\n",
       "      <td>0.2062</td>\n",
       "      <td>0.2105</td>\n",
       "      <td>...</td>\n",
       "      <td>0.1677</td>\n",
       "      <td>0.6978</td>\n",
       "      <td>0.3017</td>\n",
       "      <td>0.8832</td>\n",
       "      <td>0.1566</td>\n",
       "      <td>0.8655</td>\n",
       "      <td>0.8950</td>\n",
       "      <td>0.2672</td>\n",
       "      <td>0.3139</td>\n",
       "      <td>0.3138</td>\n",
       "    </tr>\n",
       "    <tr>\n",
       "      <th>2020-09-11</th>\n",
       "      <td>0.6104</td>\n",
       "      <td>0.4395</td>\n",
       "      <td>0.4621</td>\n",
       "      <td>0.2959</td>\n",
       "      <td>0.2233</td>\n",
       "      <td>0.3318</td>\n",
       "      <td>0.8812</td>\n",
       "      <td>0.5419</td>\n",
       "      <td>0.2260</td>\n",
       "      <td>0.2265</td>\n",
       "      <td>...</td>\n",
       "      <td>0.1718</td>\n",
       "      <td>0.7125</td>\n",
       "      <td>0.3050</td>\n",
       "      <td>0.7188</td>\n",
       "      <td>0.2206</td>\n",
       "      <td>0.8809</td>\n",
       "      <td>0.8240</td>\n",
       "      <td>0.2984</td>\n",
       "      <td>0.3628</td>\n",
       "      <td>0.3570</td>\n",
       "    </tr>\n",
       "    <tr>\n",
       "      <th>2020-09-16</th>\n",
       "      <td>0.6390</td>\n",
       "      <td>0.4362</td>\n",
       "      <td>0.4834</td>\n",
       "      <td>0.2776</td>\n",
       "      <td>0.0838</td>\n",
       "      <td>0.3398</td>\n",
       "      <td>0.8682</td>\n",
       "      <td>0.5659</td>\n",
       "      <td>0.2755</td>\n",
       "      <td>0.2325</td>\n",
       "      <td>...</td>\n",
       "      <td>0.1888</td>\n",
       "      <td>0.6955</td>\n",
       "      <td>0.3080</td>\n",
       "      <td>0.7668</td>\n",
       "      <td>0.2846</td>\n",
       "      <td>0.8559</td>\n",
       "      <td>0.8720</td>\n",
       "      <td>0.3184</td>\n",
       "      <td>0.4048</td>\n",
       "      <td>0.3889</td>\n",
       "    </tr>\n",
       "    <tr>\n",
       "      <th>2020-09-21</th>\n",
       "      <td>0.5985</td>\n",
       "      <td>0.4250</td>\n",
       "      <td>0.5190</td>\n",
       "      <td>0.2621</td>\n",
       "      <td>0.3465</td>\n",
       "      <td>0.3859</td>\n",
       "      <td>0.8552</td>\n",
       "      <td>0.5896</td>\n",
       "      <td>0.3248</td>\n",
       "      <td>0.2388</td>\n",
       "      <td>...</td>\n",
       "      <td>0.2061</td>\n",
       "      <td>0.6785</td>\n",
       "      <td>0.3111</td>\n",
       "      <td>0.8148</td>\n",
       "      <td>0.3486</td>\n",
       "      <td>0.8309</td>\n",
       "      <td>0.9202</td>\n",
       "      <td>0.3625</td>\n",
       "      <td>0.4375</td>\n",
       "      <td>0.4086</td>\n",
       "    </tr>\n",
       "    <tr>\n",
       "      <th>...</th>\n",
       "      <td>...</td>\n",
       "      <td>...</td>\n",
       "      <td>...</td>\n",
       "      <td>...</td>\n",
       "      <td>...</td>\n",
       "      <td>...</td>\n",
       "      <td>...</td>\n",
       "      <td>...</td>\n",
       "      <td>...</td>\n",
       "      <td>...</td>\n",
       "      <td>...</td>\n",
       "      <td>...</td>\n",
       "      <td>...</td>\n",
       "      <td>...</td>\n",
       "      <td>...</td>\n",
       "      <td>...</td>\n",
       "      <td>...</td>\n",
       "      <td>...</td>\n",
       "      <td>...</td>\n",
       "      <td>...</td>\n",
       "      <td>...</td>\n",
       "    </tr>\n",
       "    <tr>\n",
       "      <th>2022-01-04</th>\n",
       "      <td>0.0319</td>\n",
       "      <td>0.0225</td>\n",
       "      <td>0.0187</td>\n",
       "      <td>0.4945</td>\n",
       "      <td>0.8501</td>\n",
       "      <td>0.6693</td>\n",
       "      <td>0.2268</td>\n",
       "      <td>0.5161</td>\n",
       "      <td>0.0146</td>\n",
       "      <td>0.0228</td>\n",
       "      <td>...</td>\n",
       "      <td>0.0208</td>\n",
       "      <td>0.2008</td>\n",
       "      <td>0.3290</td>\n",
       "      <td>0.1871</td>\n",
       "      <td>0.4753</td>\n",
       "      <td>0.1757</td>\n",
       "      <td>0.5990</td>\n",
       "      <td>0.4551</td>\n",
       "      <td>0.4619</td>\n",
       "      <td>0.3599</td>\n",
       "    </tr>\n",
       "    <tr>\n",
       "      <th>2022-01-09</th>\n",
       "      <td>0.2819</td>\n",
       "      <td>0.4198</td>\n",
       "      <td>0.8107</td>\n",
       "      <td>0.4932</td>\n",
       "      <td>0.8714</td>\n",
       "      <td>0.6120</td>\n",
       "      <td>0.2368</td>\n",
       "      <td>0.5361</td>\n",
       "      <td>0.1366</td>\n",
       "      <td>0.1153</td>\n",
       "      <td>...</td>\n",
       "      <td>0.1418</td>\n",
       "      <td>0.2053</td>\n",
       "      <td>0.3320</td>\n",
       "      <td>0.1871</td>\n",
       "      <td>0.3793</td>\n",
       "      <td>0.1712</td>\n",
       "      <td>0.6275</td>\n",
       "      <td>0.4895</td>\n",
       "      <td>0.4981</td>\n",
       "      <td>0.3568</td>\n",
       "    </tr>\n",
       "    <tr>\n",
       "      <th>2022-01-14</th>\n",
       "      <td>0.5319</td>\n",
       "      <td>0.3903</td>\n",
       "      <td>0.8142</td>\n",
       "      <td>0.5002</td>\n",
       "      <td>0.8799</td>\n",
       "      <td>0.7385</td>\n",
       "      <td>0.2468</td>\n",
       "      <td>0.5561</td>\n",
       "      <td>0.2586</td>\n",
       "      <td>0.2078</td>\n",
       "      <td>...</td>\n",
       "      <td>0.2628</td>\n",
       "      <td>0.2098</td>\n",
       "      <td>0.3350</td>\n",
       "      <td>0.1871</td>\n",
       "      <td>0.2833</td>\n",
       "      <td>0.1667</td>\n",
       "      <td>0.6560</td>\n",
       "      <td>0.4980</td>\n",
       "      <td>0.5061</td>\n",
       "      <td>0.3613</td>\n",
       "    </tr>\n",
       "    <tr>\n",
       "      <th>2022-01-19</th>\n",
       "      <td>0.6863</td>\n",
       "      <td>0.3646</td>\n",
       "      <td>0.8287</td>\n",
       "      <td>0.5290</td>\n",
       "      <td>0.8608</td>\n",
       "      <td>0.8170</td>\n",
       "      <td>0.2569</td>\n",
       "      <td>0.5767</td>\n",
       "      <td>0.3799</td>\n",
       "      <td>0.2998</td>\n",
       "      <td>...</td>\n",
       "      <td>0.3845</td>\n",
       "      <td>0.2153</td>\n",
       "      <td>0.3374</td>\n",
       "      <td>0.1866</td>\n",
       "      <td>0.1880</td>\n",
       "      <td>0.1622</td>\n",
       "      <td>0.6844</td>\n",
       "      <td>0.4932</td>\n",
       "      <td>0.5178</td>\n",
       "      <td>0.3516</td>\n",
       "    </tr>\n",
       "    <tr>\n",
       "      <th>2022-01-24</th>\n",
       "      <td>0.6382</td>\n",
       "      <td>0.3260</td>\n",
       "      <td>0.6615</td>\n",
       "      <td>0.4927</td>\n",
       "      <td>0.8180</td>\n",
       "      <td>0.7671</td>\n",
       "      <td>NaN</td>\n",
       "      <td>0.4739</td>\n",
       "      <td>0.3571</td>\n",
       "      <td>0.3082</td>\n",
       "      <td>...</td>\n",
       "      <td>0.3774</td>\n",
       "      <td>0.2043</td>\n",
       "      <td>0.3004</td>\n",
       "      <td>0.1914</td>\n",
       "      <td>0.1885</td>\n",
       "      <td>0.1575</td>\n",
       "      <td>0.4257</td>\n",
       "      <td>0.4665</td>\n",
       "      <td>0.4902</td>\n",
       "      <td>0.3471</td>\n",
       "    </tr>\n",
       "  </tbody>\n",
       "</table>\n",
       "<p>103 rows × 4779 columns</p>\n",
       "</div>"
      ],
      "text/plain": [
       "ID          26742     142399    147088    270735    270992    453335    \\\n",
       "DATA                                                                     \n",
       "2020-09-01    0.6511    0.4860    0.4605    0.3381    0.2624    0.3406   \n",
       "2020-09-06    0.4831    0.4275    0.4369    0.3170    0.2761    0.3114   \n",
       "2020-09-11    0.6104    0.4395    0.4621    0.2959    0.2233    0.3318   \n",
       "2020-09-16    0.6390    0.4362    0.4834    0.2776    0.0838    0.3398   \n",
       "2020-09-21    0.5985    0.4250    0.5190    0.2621    0.3465    0.3859   \n",
       "...              ...       ...       ...       ...       ...       ...   \n",
       "2022-01-04    0.0319    0.0225    0.0187    0.4945    0.8501    0.6693   \n",
       "2022-01-09    0.2819    0.4198    0.8107    0.4932    0.8714    0.6120   \n",
       "2022-01-14    0.5319    0.3903    0.8142    0.5002    0.8799    0.7385   \n",
       "2022-01-19    0.6863    0.3646    0.8287    0.5290    0.8608    0.8170   \n",
       "2022-01-24    0.6382    0.3260    0.6615    0.4927    0.8180    0.7671   \n",
       "\n",
       "ID          744056    842397    1305223   1305481   ...  44805278  44812160  \\\n",
       "DATA                                                ...                       \n",
       "2020-09-01       NaN    0.5644    0.2017    0.2637  ...    0.1683    0.6862   \n",
       "2020-09-06    0.8937    0.5192    0.2062    0.2105  ...    0.1677    0.6978   \n",
       "2020-09-11    0.8812    0.5419    0.2260    0.2265  ...    0.1718    0.7125   \n",
       "2020-09-16    0.8682    0.5659    0.2755    0.2325  ...    0.1888    0.6955   \n",
       "2020-09-21    0.8552    0.5896    0.3248    0.2388  ...    0.2061    0.6785   \n",
       "...              ...       ...       ...       ...  ...       ...       ...   \n",
       "2022-01-04    0.2268    0.5161    0.0146    0.0228  ...    0.0208    0.2008   \n",
       "2022-01-09    0.2368    0.5361    0.1366    0.1153  ...    0.1418    0.2053   \n",
       "2022-01-14    0.2468    0.5561    0.2586    0.2078  ...    0.2628    0.2098   \n",
       "2022-01-19    0.2569    0.5767    0.3799    0.2998  ...    0.3845    0.2153   \n",
       "2022-01-24       NaN    0.4739    0.3571    0.3082  ...    0.3774    0.2043   \n",
       "\n",
       "ID          44812167  44816601  44819099  44821958  44823713  44825583  \\\n",
       "DATA                                                                     \n",
       "2020-09-01    0.3003    0.9088    0.1563    0.8349    0.7884    0.2633   \n",
       "2020-09-06    0.3017    0.8832    0.1566    0.8655    0.8950    0.2672   \n",
       "2020-09-11    0.3050    0.7188    0.2206    0.8809    0.8240    0.2984   \n",
       "2020-09-16    0.3080    0.7668    0.2846    0.8559    0.8720    0.3184   \n",
       "2020-09-21    0.3111    0.8148    0.3486    0.8309    0.9202    0.3625   \n",
       "...              ...       ...       ...       ...       ...       ...   \n",
       "2022-01-04    0.3290    0.1871    0.4753    0.1757    0.5990    0.4551   \n",
       "2022-01-09    0.3320    0.1871    0.3793    0.1712    0.6275    0.4895   \n",
       "2022-01-14    0.3350    0.1871    0.2833    0.1667    0.6560    0.4980   \n",
       "2022-01-19    0.3374    0.1866    0.1880    0.1622    0.6844    0.4932   \n",
       "2022-01-24    0.3004    0.1914    0.1885    0.1575    0.4257    0.4665   \n",
       "\n",
       "ID          44825584  44825588  \n",
       "DATA                            \n",
       "2020-09-01    0.2899    0.2914  \n",
       "2020-09-06    0.3139    0.3138  \n",
       "2020-09-11    0.3628    0.3570  \n",
       "2020-09-16    0.4048    0.3889  \n",
       "2020-09-21    0.4375    0.4086  \n",
       "...              ...       ...  \n",
       "2022-01-04    0.4619    0.3599  \n",
       "2022-01-09    0.4981    0.3568  \n",
       "2022-01-14    0.5061    0.3613  \n",
       "2022-01-19    0.5178    0.3516  \n",
       "2022-01-24    0.4902    0.3471  \n",
       "\n",
       "[103 rows x 4779 columns]"
      ]
     },
     "execution_count": 19,
     "metadata": {},
     "output_type": "execute_result"
    }
   ],
   "source": [
    "df"
   ]
  },
  {
   "cell_type": "code",
   "execution_count": 20,
   "id": "f2c72f9e-e860-4ae1-a003-fe9462263476",
   "metadata": {},
   "outputs": [
    {
     "data": {
      "text/plain": [
       "Index(['2020-09-01', '2020-09-06', '2020-09-11', '2020-09-16', '2020-09-21',\n",
       "       '2020-09-26', '2020-10-01', '2020-10-06', '2020-10-11', '2020-10-16',\n",
       "       ...\n",
       "       '2021-12-10', '2021-12-15', '2021-12-20', '2021-12-25', '2021-12-30',\n",
       "       '2022-01-04', '2022-01-09', '2022-01-14', '2022-01-19', '2022-01-24'],\n",
       "      dtype='object', name='DATA', length=103)"
      ]
     },
     "execution_count": 20,
     "metadata": {},
     "output_type": "execute_result"
    }
   ],
   "source": [
    "df.index"
   ]
  },
  {
   "cell_type": "code",
   "execution_count": 21,
   "id": "5d4e9d93-a65c-4424-82b7-b260b3cd75ff",
   "metadata": {},
   "outputs": [],
   "source": [
    "import datetime\n",
    "from datetime import datetime, timedelta, time, date"
   ]
  },
  {
   "cell_type": "code",
   "execution_count": 22,
   "id": "3a2bc05c-1a89-4acc-b929-2aeced08b49a",
   "metadata": {},
   "outputs": [],
   "source": [
    "#criação de uma lista do número de dias  \n",
    "timelist=[]\n",
    "i=0\n",
    "for x in df.index.values:\n",
    "    date_format = \"%Y-%m-%d\"\n",
    "    a = datetime.strptime(df.index.values[0], date_format)\n",
    "    b = datetime.strptime(df.index.values[i], date_format)\n",
    "    delta = b - a\n",
    "    timelist.append(delta.days)\n",
    "    i=i+1"
   ]
  },
  {
   "cell_type": "code",
   "execution_count": 23,
   "id": "84f42c35-cb9b-4e3d-a7c9-7574dae726be",
   "metadata": {},
   "outputs": [
    {
     "data": {
      "text/plain": [
       "[0,\n",
       " 5,\n",
       " 10,\n",
       " 15,\n",
       " 20,\n",
       " 25,\n",
       " 30,\n",
       " 35,\n",
       " 40,\n",
       " 45,\n",
       " 50,\n",
       " 55,\n",
       " 60,\n",
       " 65,\n",
       " 70,\n",
       " 75,\n",
       " 80,\n",
       " 85,\n",
       " 90,\n",
       " 95,\n",
       " 100,\n",
       " 105,\n",
       " 110,\n",
       " 115,\n",
       " 120,\n",
       " 125,\n",
       " 130,\n",
       " 135,\n",
       " 140,\n",
       " 145,\n",
       " 150,\n",
       " 155,\n",
       " 160,\n",
       " 165,\n",
       " 170,\n",
       " 175,\n",
       " 180,\n",
       " 185,\n",
       " 190,\n",
       " 195,\n",
       " 200,\n",
       " 205,\n",
       " 210,\n",
       " 215,\n",
       " 220,\n",
       " 225,\n",
       " 230,\n",
       " 235,\n",
       " 240,\n",
       " 245,\n",
       " 250,\n",
       " 255,\n",
       " 260,\n",
       " 265,\n",
       " 270,\n",
       " 275,\n",
       " 280,\n",
       " 285,\n",
       " 290,\n",
       " 295,\n",
       " 300,\n",
       " 305,\n",
       " 310,\n",
       " 315,\n",
       " 320,\n",
       " 325,\n",
       " 330,\n",
       " 335,\n",
       " 340,\n",
       " 345,\n",
       " 350,\n",
       " 355,\n",
       " 360,\n",
       " 365,\n",
       " 370,\n",
       " 375,\n",
       " 380,\n",
       " 385,\n",
       " 390,\n",
       " 395,\n",
       " 400,\n",
       " 405,\n",
       " 410,\n",
       " 415,\n",
       " 420,\n",
       " 425,\n",
       " 430,\n",
       " 435,\n",
       " 440,\n",
       " 445,\n",
       " 450,\n",
       " 455,\n",
       " 460,\n",
       " 465,\n",
       " 470,\n",
       " 475,\n",
       " 480,\n",
       " 485,\n",
       " 490,\n",
       " 495,\n",
       " 500,\n",
       " 505,\n",
       " 510]"
      ]
     },
     "execution_count": 23,
     "metadata": {},
     "output_type": "execute_result"
    }
   ],
   "source": [
    "timelist"
   ]
  },
  {
   "cell_type": "code",
   "execution_count": 24,
   "id": "8be06f51-7b35-4d65-8acc-ba7515ead18c",
   "metadata": {},
   "outputs": [],
   "source": [
    "df.index = pd.to_datetime(df.index, format='%Y-%m-%d')"
   ]
  },
  {
   "cell_type": "code",
   "execution_count": 25,
   "id": "927bd475-79ef-4612-be11-8ecb9c383e03",
   "metadata": {},
   "outputs": [],
   "source": [
    "#Conversão de 5 dias para 1 dia\n",
    "df=df.resample('D').interpolate(method='linear')"
   ]
  },
  {
   "cell_type": "code",
   "execution_count": 26,
   "id": "f20e4e45-6368-4b5b-8716-98499edca275",
   "metadata": {},
   "outputs": [],
   "source": [
    "# Remocao de NaN\n",
    "df=df.interpolate(method=\"linear\")\n",
    "df=df.bfill(axis ='rows')\n",
    "df=df.ffill(axis ='rows')"
   ]
  },
  {
   "cell_type": "code",
   "execution_count": 27,
   "id": "27ca4843-ce12-4f94-a50d-11b3f56a660d",
   "metadata": {},
   "outputs": [
    {
     "data": {
      "text/plain": [
       "DatetimeIndex(['2020-09-01', '2020-09-02', '2020-09-03', '2020-09-04',\n",
       "               '2020-09-05', '2020-09-06', '2020-09-07', '2020-09-08',\n",
       "               '2020-09-09', '2020-09-10',\n",
       "               ...\n",
       "               '2022-01-15', '2022-01-16', '2022-01-17', '2022-01-18',\n",
       "               '2022-01-19', '2022-01-20', '2022-01-21', '2022-01-22',\n",
       "               '2022-01-23', '2022-01-24'],\n",
       "              dtype='datetime64[ns]', name='DATA', length=511, freq='D')"
      ]
     },
     "execution_count": 27,
     "metadata": {},
     "output_type": "execute_result"
    }
   ],
   "source": [
    "df.index"
   ]
  },
  {
   "cell_type": "code",
   "execution_count": 28,
   "id": "0d694308-67ad-41b9-9635-19d430ca0929",
   "metadata": {},
   "outputs": [],
   "source": [
    "df_trans=df.T"
   ]
  },
  {
   "cell_type": "code",
   "execution_count": 29,
   "id": "6362bd69-228c-4569-be86-a15e732a5173",
   "metadata": {},
   "outputs": [
    {
     "data": {
      "text/html": [
       "<div>\n",
       "<style scoped>\n",
       "    .dataframe tbody tr th:only-of-type {\n",
       "        vertical-align: middle;\n",
       "    }\n",
       "\n",
       "    .dataframe tbody tr th {\n",
       "        vertical-align: top;\n",
       "    }\n",
       "\n",
       "    .dataframe thead th {\n",
       "        text-align: right;\n",
       "    }\n",
       "</style>\n",
       "<table border=\"1\" class=\"dataframe\">\n",
       "  <thead>\n",
       "    <tr style=\"text-align: right;\">\n",
       "      <th></th>\n",
       "      <th>ID</th>\n",
       "      <th>DATA</th>\n",
       "      <th>NDVI_MED</th>\n",
       "      <th>Lat</th>\n",
       "      <th>Lon</th>\n",
       "    </tr>\n",
       "  </thead>\n",
       "  <tbody>\n",
       "    <tr>\n",
       "      <th>0</th>\n",
       "      <td>26742</td>\n",
       "      <td>2020-09-01</td>\n",
       "      <td>0.6511</td>\n",
       "      <td>39.490351</td>\n",
       "      <td>-8.921633</td>\n",
       "    </tr>\n",
       "    <tr>\n",
       "      <th>1</th>\n",
       "      <td>26742</td>\n",
       "      <td>2020-09-06</td>\n",
       "      <td>0.4831</td>\n",
       "      <td>39.490351</td>\n",
       "      <td>-8.921633</td>\n",
       "    </tr>\n",
       "    <tr>\n",
       "      <th>2</th>\n",
       "      <td>26742</td>\n",
       "      <td>2020-09-11</td>\n",
       "      <td>0.6104</td>\n",
       "      <td>39.490351</td>\n",
       "      <td>-8.921633</td>\n",
       "    </tr>\n",
       "    <tr>\n",
       "      <th>3</th>\n",
       "      <td>26742</td>\n",
       "      <td>2020-09-16</td>\n",
       "      <td>0.6390</td>\n",
       "      <td>39.490351</td>\n",
       "      <td>-8.921633</td>\n",
       "    </tr>\n",
       "    <tr>\n",
       "      <th>4</th>\n",
       "      <td>26742</td>\n",
       "      <td>2020-09-21</td>\n",
       "      <td>0.5985</td>\n",
       "      <td>39.490351</td>\n",
       "      <td>-8.921633</td>\n",
       "    </tr>\n",
       "  </tbody>\n",
       "</table>\n",
       "</div>"
      ],
      "text/plain": [
       "      ID        DATA  NDVI_MED        Lat       Lon\n",
       "0  26742  2020-09-01    0.6511  39.490351 -8.921633\n",
       "1  26742  2020-09-06    0.4831  39.490351 -8.921633\n",
       "2  26742  2020-09-11    0.6104  39.490351 -8.921633\n",
       "3  26742  2020-09-16    0.6390  39.490351 -8.921633\n",
       "4  26742  2020-09-21    0.5985  39.490351 -8.921633"
      ]
     },
     "execution_count": 29,
     "metadata": {},
     "output_type": "execute_result"
    }
   ],
   "source": [
    "TabelaMilho.head()"
   ]
  },
  {
   "cell_type": "code",
   "execution_count": 30,
   "id": "9468d858-1173-4e1f-a987-b1c937e8ac02",
   "metadata": {},
   "outputs": [],
   "source": [
    "#Ver apenas os ID únicos\n",
    "TabelaMilhoUnique=TabelaMilho.drop_duplicates(subset=['ID'])"
   ]
  },
  {
   "cell_type": "code",
   "execution_count": 31,
   "id": "8c60c30a-3e24-4302-a586-83bede95f43f",
   "metadata": {},
   "outputs": [
    {
     "name": "stderr",
     "output_type": "stream",
     "text": [
      "C:\\Users\\Guilherme\\AppData\\Local\\Temp\\ipykernel_9492\\3247887478.py:1: SettingWithCopyWarning:\n",
      "\n",
      "\n",
      "A value is trying to be set on a copy of a slice from a DataFrame\n",
      "\n",
      "See the caveats in the documentation: https://pandas.pydata.org/pandas-docs/stable/user_guide/indexing.html#returning-a-view-versus-a-copy\n",
      "\n"
     ]
    }
   ],
   "source": [
    "TabelaMilhoUnique.drop(['DATA', 'NDVI_MED'], axis=1, inplace=True)"
   ]
  },
  {
   "cell_type": "code",
   "execution_count": 32,
   "id": "c98e2959-b6c0-4ff6-8d84-27ff0b68d6f5",
   "metadata": {},
   "outputs": [
    {
     "data": {
      "text/html": [
       "<div>\n",
       "<style scoped>\n",
       "    .dataframe tbody tr th:only-of-type {\n",
       "        vertical-align: middle;\n",
       "    }\n",
       "\n",
       "    .dataframe tbody tr th {\n",
       "        vertical-align: top;\n",
       "    }\n",
       "\n",
       "    .dataframe thead th {\n",
       "        text-align: right;\n",
       "    }\n",
       "</style>\n",
       "<table border=\"1\" class=\"dataframe\">\n",
       "  <thead>\n",
       "    <tr style=\"text-align: right;\">\n",
       "      <th></th>\n",
       "      <th>ID</th>\n",
       "      <th>Lat</th>\n",
       "      <th>Lon</th>\n",
       "    </tr>\n",
       "  </thead>\n",
       "  <tbody>\n",
       "    <tr>\n",
       "      <th>0</th>\n",
       "      <td>26742</td>\n",
       "      <td>39.490351</td>\n",
       "      <td>-8.921633</td>\n",
       "    </tr>\n",
       "    <tr>\n",
       "      <th>103</th>\n",
       "      <td>142399</td>\n",
       "      <td>39.689617</td>\n",
       "      <td>-8.822106</td>\n",
       "    </tr>\n",
       "    <tr>\n",
       "      <th>206</th>\n",
       "      <td>147088</td>\n",
       "      <td>39.654462</td>\n",
       "      <td>-8.750712</td>\n",
       "    </tr>\n",
       "    <tr>\n",
       "      <th>309</th>\n",
       "      <td>270735</td>\n",
       "      <td>39.674235</td>\n",
       "      <td>-8.703391</td>\n",
       "    </tr>\n",
       "    <tr>\n",
       "      <th>407</th>\n",
       "      <td>270992</td>\n",
       "      <td>39.682310</td>\n",
       "      <td>-8.693551</td>\n",
       "    </tr>\n",
       "    <tr>\n",
       "      <th>...</th>\n",
       "      <td>...</td>\n",
       "      <td>...</td>\n",
       "      <td>...</td>\n",
       "    </tr>\n",
       "    <tr>\n",
       "      <th>463281</th>\n",
       "      <td>44693605</td>\n",
       "      <td>39.494279</td>\n",
       "      <td>-8.586319</td>\n",
       "    </tr>\n",
       "    <tr>\n",
       "      <th>463377</th>\n",
       "      <td>44713235</td>\n",
       "      <td>39.386970</td>\n",
       "      <td>-8.466177</td>\n",
       "    </tr>\n",
       "    <tr>\n",
       "      <th>463473</th>\n",
       "      <td>44752766</td>\n",
       "      <td>39.348913</td>\n",
       "      <td>-8.524470</td>\n",
       "    </tr>\n",
       "    <tr>\n",
       "      <th>463569</th>\n",
       "      <td>44793424</td>\n",
       "      <td>39.323011</td>\n",
       "      <td>-8.522392</td>\n",
       "    </tr>\n",
       "    <tr>\n",
       "      <th>463665</th>\n",
       "      <td>44793426</td>\n",
       "      <td>39.324599</td>\n",
       "      <td>-8.524624</td>\n",
       "    </tr>\n",
       "  </tbody>\n",
       "</table>\n",
       "<p>4779 rows × 3 columns</p>\n",
       "</div>"
      ],
      "text/plain": [
       "              ID        Lat       Lon\n",
       "0          26742  39.490351 -8.921633\n",
       "103       142399  39.689617 -8.822106\n",
       "206       147088  39.654462 -8.750712\n",
       "309       270735  39.674235 -8.703391\n",
       "407       270992  39.682310 -8.693551\n",
       "...          ...        ...       ...\n",
       "463281  44693605  39.494279 -8.586319\n",
       "463377  44713235  39.386970 -8.466177\n",
       "463473  44752766  39.348913 -8.524470\n",
       "463569  44793424  39.323011 -8.522392\n",
       "463665  44793426  39.324599 -8.524624\n",
       "\n",
       "[4779 rows x 3 columns]"
      ]
     },
     "execution_count": 32,
     "metadata": {},
     "output_type": "execute_result"
    }
   ],
   "source": [
    "TabelaMilhoUnique"
   ]
  },
  {
   "cell_type": "code",
   "execution_count": 33,
   "id": "bed53655-799f-47df-a220-fea0fc3965ab",
   "metadata": {},
   "outputs": [
    {
     "name": "stderr",
     "output_type": "stream",
     "text": [
      "C:\\Users\\Guilherme\\AppData\\Local\\Temp\\ipykernel_9492\\1177385422.py:2: SettingWithCopyWarning:\n",
      "\n",
      "\n",
      "A value is trying to be set on a copy of a slice from a DataFrame.\n",
      "Try using .loc[row_indexer,col_indexer] = value instead\n",
      "\n",
      "See the caveats in the documentation: https://pandas.pydata.org/pandas-docs/stable/user_guide/indexing.html#returning-a-view-versus-a-copy\n",
      "\n"
     ]
    }
   ],
   "source": [
    "TabelaMilhoUnique2=TabelaMilhoUnique\n",
    "TabelaMilhoUnique2['Size']=10"
   ]
  },
  {
   "cell_type": "code",
   "execution_count": 34,
   "id": "ebd8744c-602a-42f8-862e-c8bab1d60ec3",
   "metadata": {},
   "outputs": [
    {
     "data": {
      "text/html": [
       "<div>\n",
       "<style scoped>\n",
       "    .dataframe tbody tr th:only-of-type {\n",
       "        vertical-align: middle;\n",
       "    }\n",
       "\n",
       "    .dataframe tbody tr th {\n",
       "        vertical-align: top;\n",
       "    }\n",
       "\n",
       "    .dataframe thead th {\n",
       "        text-align: right;\n",
       "    }\n",
       "</style>\n",
       "<table border=\"1\" class=\"dataframe\">\n",
       "  <thead>\n",
       "    <tr style=\"text-align: right;\">\n",
       "      <th></th>\n",
       "      <th>ID</th>\n",
       "      <th>Lat</th>\n",
       "      <th>Lon</th>\n",
       "      <th>Size</th>\n",
       "    </tr>\n",
       "  </thead>\n",
       "  <tbody>\n",
       "    <tr>\n",
       "      <th>0</th>\n",
       "      <td>26742</td>\n",
       "      <td>39.490351</td>\n",
       "      <td>-8.921633</td>\n",
       "      <td>10</td>\n",
       "    </tr>\n",
       "    <tr>\n",
       "      <th>103</th>\n",
       "      <td>142399</td>\n",
       "      <td>39.689617</td>\n",
       "      <td>-8.822106</td>\n",
       "      <td>10</td>\n",
       "    </tr>\n",
       "    <tr>\n",
       "      <th>206</th>\n",
       "      <td>147088</td>\n",
       "      <td>39.654462</td>\n",
       "      <td>-8.750712</td>\n",
       "      <td>10</td>\n",
       "    </tr>\n",
       "    <tr>\n",
       "      <th>309</th>\n",
       "      <td>270735</td>\n",
       "      <td>39.674235</td>\n",
       "      <td>-8.703391</td>\n",
       "      <td>10</td>\n",
       "    </tr>\n",
       "    <tr>\n",
       "      <th>407</th>\n",
       "      <td>270992</td>\n",
       "      <td>39.682310</td>\n",
       "      <td>-8.693551</td>\n",
       "      <td>10</td>\n",
       "    </tr>\n",
       "    <tr>\n",
       "      <th>...</th>\n",
       "      <td>...</td>\n",
       "      <td>...</td>\n",
       "      <td>...</td>\n",
       "      <td>...</td>\n",
       "    </tr>\n",
       "    <tr>\n",
       "      <th>463281</th>\n",
       "      <td>44693605</td>\n",
       "      <td>39.494279</td>\n",
       "      <td>-8.586319</td>\n",
       "      <td>10</td>\n",
       "    </tr>\n",
       "    <tr>\n",
       "      <th>463377</th>\n",
       "      <td>44713235</td>\n",
       "      <td>39.386970</td>\n",
       "      <td>-8.466177</td>\n",
       "      <td>10</td>\n",
       "    </tr>\n",
       "    <tr>\n",
       "      <th>463473</th>\n",
       "      <td>44752766</td>\n",
       "      <td>39.348913</td>\n",
       "      <td>-8.524470</td>\n",
       "      <td>10</td>\n",
       "    </tr>\n",
       "    <tr>\n",
       "      <th>463569</th>\n",
       "      <td>44793424</td>\n",
       "      <td>39.323011</td>\n",
       "      <td>-8.522392</td>\n",
       "      <td>10</td>\n",
       "    </tr>\n",
       "    <tr>\n",
       "      <th>463665</th>\n",
       "      <td>44793426</td>\n",
       "      <td>39.324599</td>\n",
       "      <td>-8.524624</td>\n",
       "      <td>10</td>\n",
       "    </tr>\n",
       "  </tbody>\n",
       "</table>\n",
       "<p>4779 rows × 4 columns</p>\n",
       "</div>"
      ],
      "text/plain": [
       "              ID        Lat       Lon  Size\n",
       "0          26742  39.490351 -8.921633    10\n",
       "103       142399  39.689617 -8.822106    10\n",
       "206       147088  39.654462 -8.750712    10\n",
       "309       270735  39.674235 -8.703391    10\n",
       "407       270992  39.682310 -8.693551    10\n",
       "...          ...        ...       ...   ...\n",
       "463281  44693605  39.494279 -8.586319    10\n",
       "463377  44713235  39.386970 -8.466177    10\n",
       "463473  44752766  39.348913 -8.524470    10\n",
       "463569  44793424  39.323011 -8.522392    10\n",
       "463665  44793426  39.324599 -8.524624    10\n",
       "\n",
       "[4779 rows x 4 columns]"
      ]
     },
     "execution_count": 34,
     "metadata": {},
     "output_type": "execute_result"
    }
   ],
   "source": [
    "TabelaMilhoUnique2"
   ]
  },
  {
   "cell_type": "code",
   "execution_count": 35,
   "id": "2138e1d6-d5db-46e5-b386-809a22c2d19c",
   "metadata": {},
   "outputs": [
    {
     "data": {
      "text/html": [
       "<iframe\n",
       "    scrolling=\"no\"\n",
       "    width=\"100%\"\n",
       "    height=\"545px\"\n",
       "    src=\"iframe_figures/figure_35.html\"\n",
       "    frameborder=\"0\"\n",
       "    allowfullscreen\n",
       "></iframe>\n"
      ]
     },
     "metadata": {},
     "output_type": "display_data"
    }
   ],
   "source": [
    "import plotly.express as px\n",
    "fig = px.scatter_geo(TabelaMilhoUnique2, lat=\"Lat\", lon=\"Lon\", color=\"ID\",\n",
    "                     hover_name=\"ID\", size=\"Size\",\n",
    "                     projection=\"natural earth\")\n",
    "fig.show()"
   ]
  },
  {
   "cell_type": "code",
   "execution_count": 36,
   "id": "bf558d96-8f31-4fa2-8078-5725ccea889a",
   "metadata": {},
   "outputs": [
    {
     "data": {
      "text/html": [
       "<div>\n",
       "<style scoped>\n",
       "    .dataframe tbody tr th:only-of-type {\n",
       "        vertical-align: middle;\n",
       "    }\n",
       "\n",
       "    .dataframe tbody tr th {\n",
       "        vertical-align: top;\n",
       "    }\n",
       "\n",
       "    .dataframe thead th {\n",
       "        text-align: right;\n",
       "    }\n",
       "</style>\n",
       "<table border=\"1\" class=\"dataframe\">\n",
       "  <thead>\n",
       "    <tr style=\"text-align: right;\">\n",
       "      <th>DATA</th>\n",
       "      <th>2020-09-01</th>\n",
       "      <th>2020-09-02</th>\n",
       "      <th>2020-09-03</th>\n",
       "      <th>2020-09-04</th>\n",
       "      <th>2020-09-05</th>\n",
       "      <th>2020-09-06</th>\n",
       "      <th>2020-09-07</th>\n",
       "      <th>2020-09-08</th>\n",
       "      <th>2020-09-09</th>\n",
       "      <th>2020-09-10</th>\n",
       "      <th>...</th>\n",
       "      <th>2022-01-15</th>\n",
       "      <th>2022-01-16</th>\n",
       "      <th>2022-01-17</th>\n",
       "      <th>2022-01-18</th>\n",
       "      <th>2022-01-19</th>\n",
       "      <th>2022-01-20</th>\n",
       "      <th>2022-01-21</th>\n",
       "      <th>2022-01-22</th>\n",
       "      <th>2022-01-23</th>\n",
       "      <th>2022-01-24</th>\n",
       "    </tr>\n",
       "    <tr>\n",
       "      <th>ID</th>\n",
       "      <th></th>\n",
       "      <th></th>\n",
       "      <th></th>\n",
       "      <th></th>\n",
       "      <th></th>\n",
       "      <th></th>\n",
       "      <th></th>\n",
       "      <th></th>\n",
       "      <th></th>\n",
       "      <th></th>\n",
       "      <th></th>\n",
       "      <th></th>\n",
       "      <th></th>\n",
       "      <th></th>\n",
       "      <th></th>\n",
       "      <th></th>\n",
       "      <th></th>\n",
       "      <th></th>\n",
       "      <th></th>\n",
       "      <th></th>\n",
       "      <th></th>\n",
       "    </tr>\n",
       "  </thead>\n",
       "  <tbody>\n",
       "    <tr>\n",
       "      <th>26742</th>\n",
       "      <td>0.6511</td>\n",
       "      <td>0.61750</td>\n",
       "      <td>0.58390</td>\n",
       "      <td>0.55030</td>\n",
       "      <td>0.51670</td>\n",
       "      <td>0.4831</td>\n",
       "      <td>0.50856</td>\n",
       "      <td>0.53402</td>\n",
       "      <td>0.55948</td>\n",
       "      <td>0.58494</td>\n",
       "      <td>...</td>\n",
       "      <td>0.56278</td>\n",
       "      <td>0.59366</td>\n",
       "      <td>0.62454</td>\n",
       "      <td>0.65542</td>\n",
       "      <td>0.6863</td>\n",
       "      <td>0.67668</td>\n",
       "      <td>0.66706</td>\n",
       "      <td>0.65744</td>\n",
       "      <td>0.64782</td>\n",
       "      <td>0.6382</td>\n",
       "    </tr>\n",
       "    <tr>\n",
       "      <th>142399</th>\n",
       "      <td>0.4860</td>\n",
       "      <td>0.47430</td>\n",
       "      <td>0.46260</td>\n",
       "      <td>0.45090</td>\n",
       "      <td>0.43920</td>\n",
       "      <td>0.4275</td>\n",
       "      <td>0.42990</td>\n",
       "      <td>0.43230</td>\n",
       "      <td>0.43470</td>\n",
       "      <td>0.43710</td>\n",
       "      <td>...</td>\n",
       "      <td>0.38516</td>\n",
       "      <td>0.38002</td>\n",
       "      <td>0.37488</td>\n",
       "      <td>0.36974</td>\n",
       "      <td>0.3646</td>\n",
       "      <td>0.35688</td>\n",
       "      <td>0.34916</td>\n",
       "      <td>0.34144</td>\n",
       "      <td>0.33372</td>\n",
       "      <td>0.3260</td>\n",
       "    </tr>\n",
       "    <tr>\n",
       "      <th>147088</th>\n",
       "      <td>0.4605</td>\n",
       "      <td>0.45578</td>\n",
       "      <td>0.45106</td>\n",
       "      <td>0.44634</td>\n",
       "      <td>0.44162</td>\n",
       "      <td>0.4369</td>\n",
       "      <td>0.44194</td>\n",
       "      <td>0.44698</td>\n",
       "      <td>0.45202</td>\n",
       "      <td>0.45706</td>\n",
       "      <td>...</td>\n",
       "      <td>0.81710</td>\n",
       "      <td>0.82000</td>\n",
       "      <td>0.82290</td>\n",
       "      <td>0.82580</td>\n",
       "      <td>0.8287</td>\n",
       "      <td>0.79526</td>\n",
       "      <td>0.76182</td>\n",
       "      <td>0.72838</td>\n",
       "      <td>0.69494</td>\n",
       "      <td>0.6615</td>\n",
       "    </tr>\n",
       "    <tr>\n",
       "      <th>270735</th>\n",
       "      <td>0.3381</td>\n",
       "      <td>0.33388</td>\n",
       "      <td>0.32966</td>\n",
       "      <td>0.32544</td>\n",
       "      <td>0.32122</td>\n",
       "      <td>0.3170</td>\n",
       "      <td>0.31278</td>\n",
       "      <td>0.30856</td>\n",
       "      <td>0.30434</td>\n",
       "      <td>0.30012</td>\n",
       "      <td>...</td>\n",
       "      <td>0.50596</td>\n",
       "      <td>0.51172</td>\n",
       "      <td>0.51748</td>\n",
       "      <td>0.52324</td>\n",
       "      <td>0.5290</td>\n",
       "      <td>0.52174</td>\n",
       "      <td>0.51448</td>\n",
       "      <td>0.50722</td>\n",
       "      <td>0.49996</td>\n",
       "      <td>0.4927</td>\n",
       "    </tr>\n",
       "    <tr>\n",
       "      <th>270992</th>\n",
       "      <td>0.2624</td>\n",
       "      <td>0.26514</td>\n",
       "      <td>0.26788</td>\n",
       "      <td>0.27062</td>\n",
       "      <td>0.27336</td>\n",
       "      <td>0.2761</td>\n",
       "      <td>0.26554</td>\n",
       "      <td>0.25498</td>\n",
       "      <td>0.24442</td>\n",
       "      <td>0.23386</td>\n",
       "      <td>...</td>\n",
       "      <td>0.87608</td>\n",
       "      <td>0.87226</td>\n",
       "      <td>0.86844</td>\n",
       "      <td>0.86462</td>\n",
       "      <td>0.8608</td>\n",
       "      <td>0.85224</td>\n",
       "      <td>0.84368</td>\n",
       "      <td>0.83512</td>\n",
       "      <td>0.82656</td>\n",
       "      <td>0.8180</td>\n",
       "    </tr>\n",
       "    <tr>\n",
       "      <th>...</th>\n",
       "      <td>...</td>\n",
       "      <td>...</td>\n",
       "      <td>...</td>\n",
       "      <td>...</td>\n",
       "      <td>...</td>\n",
       "      <td>...</td>\n",
       "      <td>...</td>\n",
       "      <td>...</td>\n",
       "      <td>...</td>\n",
       "      <td>...</td>\n",
       "      <td>...</td>\n",
       "      <td>...</td>\n",
       "      <td>...</td>\n",
       "      <td>...</td>\n",
       "      <td>...</td>\n",
       "      <td>...</td>\n",
       "      <td>...</td>\n",
       "      <td>...</td>\n",
       "      <td>...</td>\n",
       "      <td>...</td>\n",
       "      <td>...</td>\n",
       "    </tr>\n",
       "    <tr>\n",
       "      <th>44821958</th>\n",
       "      <td>0.8349</td>\n",
       "      <td>0.84102</td>\n",
       "      <td>0.84714</td>\n",
       "      <td>0.85326</td>\n",
       "      <td>0.85938</td>\n",
       "      <td>0.8655</td>\n",
       "      <td>0.86858</td>\n",
       "      <td>0.87166</td>\n",
       "      <td>0.87474</td>\n",
       "      <td>0.87782</td>\n",
       "      <td>...</td>\n",
       "      <td>0.16580</td>\n",
       "      <td>0.16490</td>\n",
       "      <td>0.16400</td>\n",
       "      <td>0.16310</td>\n",
       "      <td>0.1622</td>\n",
       "      <td>0.16126</td>\n",
       "      <td>0.16032</td>\n",
       "      <td>0.15938</td>\n",
       "      <td>0.15844</td>\n",
       "      <td>0.1575</td>\n",
       "    </tr>\n",
       "    <tr>\n",
       "      <th>44823713</th>\n",
       "      <td>0.7884</td>\n",
       "      <td>0.80972</td>\n",
       "      <td>0.83104</td>\n",
       "      <td>0.85236</td>\n",
       "      <td>0.87368</td>\n",
       "      <td>0.8950</td>\n",
       "      <td>0.88080</td>\n",
       "      <td>0.86660</td>\n",
       "      <td>0.85240</td>\n",
       "      <td>0.83820</td>\n",
       "      <td>...</td>\n",
       "      <td>0.66168</td>\n",
       "      <td>0.66736</td>\n",
       "      <td>0.67304</td>\n",
       "      <td>0.67872</td>\n",
       "      <td>0.6844</td>\n",
       "      <td>0.63266</td>\n",
       "      <td>0.58092</td>\n",
       "      <td>0.52918</td>\n",
       "      <td>0.47744</td>\n",
       "      <td>0.4257</td>\n",
       "    </tr>\n",
       "    <tr>\n",
       "      <th>44825583</th>\n",
       "      <td>0.2633</td>\n",
       "      <td>0.26408</td>\n",
       "      <td>0.26486</td>\n",
       "      <td>0.26564</td>\n",
       "      <td>0.26642</td>\n",
       "      <td>0.2672</td>\n",
       "      <td>0.27344</td>\n",
       "      <td>0.27968</td>\n",
       "      <td>0.28592</td>\n",
       "      <td>0.29216</td>\n",
       "      <td>...</td>\n",
       "      <td>0.49704</td>\n",
       "      <td>0.49608</td>\n",
       "      <td>0.49512</td>\n",
       "      <td>0.49416</td>\n",
       "      <td>0.4932</td>\n",
       "      <td>0.48786</td>\n",
       "      <td>0.48252</td>\n",
       "      <td>0.47718</td>\n",
       "      <td>0.47184</td>\n",
       "      <td>0.4665</td>\n",
       "    </tr>\n",
       "    <tr>\n",
       "      <th>44825584</th>\n",
       "      <td>0.2899</td>\n",
       "      <td>0.29470</td>\n",
       "      <td>0.29950</td>\n",
       "      <td>0.30430</td>\n",
       "      <td>0.30910</td>\n",
       "      <td>0.3139</td>\n",
       "      <td>0.32368</td>\n",
       "      <td>0.33346</td>\n",
       "      <td>0.34324</td>\n",
       "      <td>0.35302</td>\n",
       "      <td>...</td>\n",
       "      <td>0.50844</td>\n",
       "      <td>0.51078</td>\n",
       "      <td>0.51312</td>\n",
       "      <td>0.51546</td>\n",
       "      <td>0.5178</td>\n",
       "      <td>0.51228</td>\n",
       "      <td>0.50676</td>\n",
       "      <td>0.50124</td>\n",
       "      <td>0.49572</td>\n",
       "      <td>0.4902</td>\n",
       "    </tr>\n",
       "    <tr>\n",
       "      <th>44825588</th>\n",
       "      <td>0.2914</td>\n",
       "      <td>0.29588</td>\n",
       "      <td>0.30036</td>\n",
       "      <td>0.30484</td>\n",
       "      <td>0.30932</td>\n",
       "      <td>0.3138</td>\n",
       "      <td>0.32244</td>\n",
       "      <td>0.33108</td>\n",
       "      <td>0.33972</td>\n",
       "      <td>0.34836</td>\n",
       "      <td>...</td>\n",
       "      <td>0.35936</td>\n",
       "      <td>0.35742</td>\n",
       "      <td>0.35548</td>\n",
       "      <td>0.35354</td>\n",
       "      <td>0.3516</td>\n",
       "      <td>0.35070</td>\n",
       "      <td>0.34980</td>\n",
       "      <td>0.34890</td>\n",
       "      <td>0.34800</td>\n",
       "      <td>0.3471</td>\n",
       "    </tr>\n",
       "  </tbody>\n",
       "</table>\n",
       "<p>4779 rows × 511 columns</p>\n",
       "</div>"
      ],
      "text/plain": [
       "DATA      2020-09-01  2020-09-02  2020-09-03  2020-09-04  2020-09-05  \\\n",
       "ID                                                                     \n",
       "26742         0.6511     0.61750     0.58390     0.55030     0.51670   \n",
       "142399        0.4860     0.47430     0.46260     0.45090     0.43920   \n",
       "147088        0.4605     0.45578     0.45106     0.44634     0.44162   \n",
       "270735        0.3381     0.33388     0.32966     0.32544     0.32122   \n",
       "270992        0.2624     0.26514     0.26788     0.27062     0.27336   \n",
       "...              ...         ...         ...         ...         ...   \n",
       "44821958      0.8349     0.84102     0.84714     0.85326     0.85938   \n",
       "44823713      0.7884     0.80972     0.83104     0.85236     0.87368   \n",
       "44825583      0.2633     0.26408     0.26486     0.26564     0.26642   \n",
       "44825584      0.2899     0.29470     0.29950     0.30430     0.30910   \n",
       "44825588      0.2914     0.29588     0.30036     0.30484     0.30932   \n",
       "\n",
       "DATA      2020-09-06  2020-09-07  2020-09-08  2020-09-09  2020-09-10  ...  \\\n",
       "ID                                                                    ...   \n",
       "26742         0.4831     0.50856     0.53402     0.55948     0.58494  ...   \n",
       "142399        0.4275     0.42990     0.43230     0.43470     0.43710  ...   \n",
       "147088        0.4369     0.44194     0.44698     0.45202     0.45706  ...   \n",
       "270735        0.3170     0.31278     0.30856     0.30434     0.30012  ...   \n",
       "270992        0.2761     0.26554     0.25498     0.24442     0.23386  ...   \n",
       "...              ...         ...         ...         ...         ...  ...   \n",
       "44821958      0.8655     0.86858     0.87166     0.87474     0.87782  ...   \n",
       "44823713      0.8950     0.88080     0.86660     0.85240     0.83820  ...   \n",
       "44825583      0.2672     0.27344     0.27968     0.28592     0.29216  ...   \n",
       "44825584      0.3139     0.32368     0.33346     0.34324     0.35302  ...   \n",
       "44825588      0.3138     0.32244     0.33108     0.33972     0.34836  ...   \n",
       "\n",
       "DATA      2022-01-15  2022-01-16  2022-01-17  2022-01-18  2022-01-19  \\\n",
       "ID                                                                     \n",
       "26742        0.56278     0.59366     0.62454     0.65542      0.6863   \n",
       "142399       0.38516     0.38002     0.37488     0.36974      0.3646   \n",
       "147088       0.81710     0.82000     0.82290     0.82580      0.8287   \n",
       "270735       0.50596     0.51172     0.51748     0.52324      0.5290   \n",
       "270992       0.87608     0.87226     0.86844     0.86462      0.8608   \n",
       "...              ...         ...         ...         ...         ...   \n",
       "44821958     0.16580     0.16490     0.16400     0.16310      0.1622   \n",
       "44823713     0.66168     0.66736     0.67304     0.67872      0.6844   \n",
       "44825583     0.49704     0.49608     0.49512     0.49416      0.4932   \n",
       "44825584     0.50844     0.51078     0.51312     0.51546      0.5178   \n",
       "44825588     0.35936     0.35742     0.35548     0.35354      0.3516   \n",
       "\n",
       "DATA      2022-01-20  2022-01-21  2022-01-22  2022-01-23  2022-01-24  \n",
       "ID                                                                    \n",
       "26742        0.67668     0.66706     0.65744     0.64782      0.6382  \n",
       "142399       0.35688     0.34916     0.34144     0.33372      0.3260  \n",
       "147088       0.79526     0.76182     0.72838     0.69494      0.6615  \n",
       "270735       0.52174     0.51448     0.50722     0.49996      0.4927  \n",
       "270992       0.85224     0.84368     0.83512     0.82656      0.8180  \n",
       "...              ...         ...         ...         ...         ...  \n",
       "44821958     0.16126     0.16032     0.15938     0.15844      0.1575  \n",
       "44823713     0.63266     0.58092     0.52918     0.47744      0.4257  \n",
       "44825583     0.48786     0.48252     0.47718     0.47184      0.4665  \n",
       "44825584     0.51228     0.50676     0.50124     0.49572      0.4902  \n",
       "44825588     0.35070     0.34980     0.34890     0.34800      0.3471  \n",
       "\n",
       "[4779 rows x 511 columns]"
      ]
     },
     "execution_count": 36,
     "metadata": {},
     "output_type": "execute_result"
    }
   ],
   "source": [
    "df_trans"
   ]
  },
  {
   "cell_type": "code",
   "execution_count": 37,
   "id": "507e789a-8933-4c32-9056-987a471b9d44",
   "metadata": {},
   "outputs": [
    {
     "data": {
      "text/html": [
       "<div>\n",
       "<style scoped>\n",
       "    .dataframe tbody tr th:only-of-type {\n",
       "        vertical-align: middle;\n",
       "    }\n",
       "\n",
       "    .dataframe tbody tr th {\n",
       "        vertical-align: top;\n",
       "    }\n",
       "\n",
       "    .dataframe thead th {\n",
       "        text-align: right;\n",
       "    }\n",
       "</style>\n",
       "<table border=\"1\" class=\"dataframe\">\n",
       "  <thead>\n",
       "    <tr style=\"text-align: right;\">\n",
       "      <th>DATA</th>\n",
       "      <th>2020-09-01</th>\n",
       "      <th>2020-09-02</th>\n",
       "      <th>2020-09-03</th>\n",
       "      <th>2020-09-04</th>\n",
       "      <th>2020-09-05</th>\n",
       "      <th>2020-09-06</th>\n",
       "      <th>2020-09-07</th>\n",
       "      <th>2020-09-08</th>\n",
       "      <th>2020-09-09</th>\n",
       "      <th>2020-09-10</th>\n",
       "      <th>...</th>\n",
       "      <th>2022-01-15</th>\n",
       "      <th>2022-01-16</th>\n",
       "      <th>2022-01-17</th>\n",
       "      <th>2022-01-18</th>\n",
       "      <th>2022-01-19</th>\n",
       "      <th>2022-01-20</th>\n",
       "      <th>2022-01-21</th>\n",
       "      <th>2022-01-22</th>\n",
       "      <th>2022-01-23</th>\n",
       "      <th>2022-01-24</th>\n",
       "    </tr>\n",
       "    <tr>\n",
       "      <th>ID</th>\n",
       "      <th></th>\n",
       "      <th></th>\n",
       "      <th></th>\n",
       "      <th></th>\n",
       "      <th></th>\n",
       "      <th></th>\n",
       "      <th></th>\n",
       "      <th></th>\n",
       "      <th></th>\n",
       "      <th></th>\n",
       "      <th></th>\n",
       "      <th></th>\n",
       "      <th></th>\n",
       "      <th></th>\n",
       "      <th></th>\n",
       "      <th></th>\n",
       "      <th></th>\n",
       "      <th></th>\n",
       "      <th></th>\n",
       "      <th></th>\n",
       "      <th></th>\n",
       "    </tr>\n",
       "  </thead>\n",
       "  <tbody>\n",
       "    <tr>\n",
       "      <th>26742</th>\n",
       "      <td>0.6511</td>\n",
       "      <td>0.61750</td>\n",
       "      <td>0.58390</td>\n",
       "      <td>0.55030</td>\n",
       "      <td>0.51670</td>\n",
       "      <td>0.4831</td>\n",
       "      <td>0.50856</td>\n",
       "      <td>0.53402</td>\n",
       "      <td>0.55948</td>\n",
       "      <td>0.58494</td>\n",
       "      <td>...</td>\n",
       "      <td>0.56278</td>\n",
       "      <td>0.59366</td>\n",
       "      <td>0.62454</td>\n",
       "      <td>0.65542</td>\n",
       "      <td>0.6863</td>\n",
       "      <td>0.67668</td>\n",
       "      <td>0.66706</td>\n",
       "      <td>0.65744</td>\n",
       "      <td>0.64782</td>\n",
       "      <td>0.6382</td>\n",
       "    </tr>\n",
       "    <tr>\n",
       "      <th>142399</th>\n",
       "      <td>0.4860</td>\n",
       "      <td>0.47430</td>\n",
       "      <td>0.46260</td>\n",
       "      <td>0.45090</td>\n",
       "      <td>0.43920</td>\n",
       "      <td>0.4275</td>\n",
       "      <td>0.42990</td>\n",
       "      <td>0.43230</td>\n",
       "      <td>0.43470</td>\n",
       "      <td>0.43710</td>\n",
       "      <td>...</td>\n",
       "      <td>0.38516</td>\n",
       "      <td>0.38002</td>\n",
       "      <td>0.37488</td>\n",
       "      <td>0.36974</td>\n",
       "      <td>0.3646</td>\n",
       "      <td>0.35688</td>\n",
       "      <td>0.34916</td>\n",
       "      <td>0.34144</td>\n",
       "      <td>0.33372</td>\n",
       "      <td>0.3260</td>\n",
       "    </tr>\n",
       "    <tr>\n",
       "      <th>147088</th>\n",
       "      <td>0.4605</td>\n",
       "      <td>0.45578</td>\n",
       "      <td>0.45106</td>\n",
       "      <td>0.44634</td>\n",
       "      <td>0.44162</td>\n",
       "      <td>0.4369</td>\n",
       "      <td>0.44194</td>\n",
       "      <td>0.44698</td>\n",
       "      <td>0.45202</td>\n",
       "      <td>0.45706</td>\n",
       "      <td>...</td>\n",
       "      <td>0.81710</td>\n",
       "      <td>0.82000</td>\n",
       "      <td>0.82290</td>\n",
       "      <td>0.82580</td>\n",
       "      <td>0.8287</td>\n",
       "      <td>0.79526</td>\n",
       "      <td>0.76182</td>\n",
       "      <td>0.72838</td>\n",
       "      <td>0.69494</td>\n",
       "      <td>0.6615</td>\n",
       "    </tr>\n",
       "    <tr>\n",
       "      <th>270735</th>\n",
       "      <td>0.3381</td>\n",
       "      <td>0.33388</td>\n",
       "      <td>0.32966</td>\n",
       "      <td>0.32544</td>\n",
       "      <td>0.32122</td>\n",
       "      <td>0.3170</td>\n",
       "      <td>0.31278</td>\n",
       "      <td>0.30856</td>\n",
       "      <td>0.30434</td>\n",
       "      <td>0.30012</td>\n",
       "      <td>...</td>\n",
       "      <td>0.50596</td>\n",
       "      <td>0.51172</td>\n",
       "      <td>0.51748</td>\n",
       "      <td>0.52324</td>\n",
       "      <td>0.5290</td>\n",
       "      <td>0.52174</td>\n",
       "      <td>0.51448</td>\n",
       "      <td>0.50722</td>\n",
       "      <td>0.49996</td>\n",
       "      <td>0.4927</td>\n",
       "    </tr>\n",
       "    <tr>\n",
       "      <th>270992</th>\n",
       "      <td>0.2624</td>\n",
       "      <td>0.26514</td>\n",
       "      <td>0.26788</td>\n",
       "      <td>0.27062</td>\n",
       "      <td>0.27336</td>\n",
       "      <td>0.2761</td>\n",
       "      <td>0.26554</td>\n",
       "      <td>0.25498</td>\n",
       "      <td>0.24442</td>\n",
       "      <td>0.23386</td>\n",
       "      <td>...</td>\n",
       "      <td>0.87608</td>\n",
       "      <td>0.87226</td>\n",
       "      <td>0.86844</td>\n",
       "      <td>0.86462</td>\n",
       "      <td>0.8608</td>\n",
       "      <td>0.85224</td>\n",
       "      <td>0.84368</td>\n",
       "      <td>0.83512</td>\n",
       "      <td>0.82656</td>\n",
       "      <td>0.8180</td>\n",
       "    </tr>\n",
       "    <tr>\n",
       "      <th>453335</th>\n",
       "      <td>0.3406</td>\n",
       "      <td>0.33476</td>\n",
       "      <td>0.32892</td>\n",
       "      <td>0.32308</td>\n",
       "      <td>0.31724</td>\n",
       "      <td>0.3114</td>\n",
       "      <td>0.31548</td>\n",
       "      <td>0.31956</td>\n",
       "      <td>0.32364</td>\n",
       "      <td>0.32772</td>\n",
       "      <td>...</td>\n",
       "      <td>0.75420</td>\n",
       "      <td>0.76990</td>\n",
       "      <td>0.78560</td>\n",
       "      <td>0.80130</td>\n",
       "      <td>0.8170</td>\n",
       "      <td>0.80702</td>\n",
       "      <td>0.79704</td>\n",
       "      <td>0.78706</td>\n",
       "      <td>0.77708</td>\n",
       "      <td>0.7671</td>\n",
       "    </tr>\n",
       "    <tr>\n",
       "      <th>744056</th>\n",
       "      <td>0.8937</td>\n",
       "      <td>0.89370</td>\n",
       "      <td>0.89370</td>\n",
       "      <td>0.89370</td>\n",
       "      <td>0.89370</td>\n",
       "      <td>0.8937</td>\n",
       "      <td>0.89120</td>\n",
       "      <td>0.88870</td>\n",
       "      <td>0.88620</td>\n",
       "      <td>0.88370</td>\n",
       "      <td>...</td>\n",
       "      <td>0.24882</td>\n",
       "      <td>0.25084</td>\n",
       "      <td>0.25286</td>\n",
       "      <td>0.25488</td>\n",
       "      <td>0.2569</td>\n",
       "      <td>0.25690</td>\n",
       "      <td>0.25690</td>\n",
       "      <td>0.25690</td>\n",
       "      <td>0.25690</td>\n",
       "      <td>0.2569</td>\n",
       "    </tr>\n",
       "    <tr>\n",
       "      <th>842397</th>\n",
       "      <td>0.5644</td>\n",
       "      <td>0.55536</td>\n",
       "      <td>0.54632</td>\n",
       "      <td>0.53728</td>\n",
       "      <td>0.52824</td>\n",
       "      <td>0.5192</td>\n",
       "      <td>0.52374</td>\n",
       "      <td>0.52828</td>\n",
       "      <td>0.53282</td>\n",
       "      <td>0.53736</td>\n",
       "      <td>...</td>\n",
       "      <td>0.56022</td>\n",
       "      <td>0.56434</td>\n",
       "      <td>0.56846</td>\n",
       "      <td>0.57258</td>\n",
       "      <td>0.5767</td>\n",
       "      <td>0.55614</td>\n",
       "      <td>0.53558</td>\n",
       "      <td>0.51502</td>\n",
       "      <td>0.49446</td>\n",
       "      <td>0.4739</td>\n",
       "    </tr>\n",
       "    <tr>\n",
       "      <th>1305223</th>\n",
       "      <td>0.2017</td>\n",
       "      <td>0.20260</td>\n",
       "      <td>0.20350</td>\n",
       "      <td>0.20440</td>\n",
       "      <td>0.20530</td>\n",
       "      <td>0.2062</td>\n",
       "      <td>0.21016</td>\n",
       "      <td>0.21412</td>\n",
       "      <td>0.21808</td>\n",
       "      <td>0.22204</td>\n",
       "      <td>...</td>\n",
       "      <td>0.28286</td>\n",
       "      <td>0.30712</td>\n",
       "      <td>0.33138</td>\n",
       "      <td>0.35564</td>\n",
       "      <td>0.3799</td>\n",
       "      <td>0.37534</td>\n",
       "      <td>0.37078</td>\n",
       "      <td>0.36622</td>\n",
       "      <td>0.36166</td>\n",
       "      <td>0.3571</td>\n",
       "    </tr>\n",
       "    <tr>\n",
       "      <th>1305481</th>\n",
       "      <td>0.2637</td>\n",
       "      <td>0.25306</td>\n",
       "      <td>0.24242</td>\n",
       "      <td>0.23178</td>\n",
       "      <td>0.22114</td>\n",
       "      <td>0.2105</td>\n",
       "      <td>0.21370</td>\n",
       "      <td>0.21690</td>\n",
       "      <td>0.22010</td>\n",
       "      <td>0.22330</td>\n",
       "      <td>...</td>\n",
       "      <td>0.22620</td>\n",
       "      <td>0.24460</td>\n",
       "      <td>0.26300</td>\n",
       "      <td>0.28140</td>\n",
       "      <td>0.2998</td>\n",
       "      <td>0.30148</td>\n",
       "      <td>0.30316</td>\n",
       "      <td>0.30484</td>\n",
       "      <td>0.30652</td>\n",
       "      <td>0.3082</td>\n",
       "    </tr>\n",
       "  </tbody>\n",
       "</table>\n",
       "<p>10 rows × 511 columns</p>\n",
       "</div>"
      ],
      "text/plain": [
       "DATA     2020-09-01  2020-09-02  2020-09-03  2020-09-04  2020-09-05  \\\n",
       "ID                                                                    \n",
       "26742        0.6511     0.61750     0.58390     0.55030     0.51670   \n",
       "142399       0.4860     0.47430     0.46260     0.45090     0.43920   \n",
       "147088       0.4605     0.45578     0.45106     0.44634     0.44162   \n",
       "270735       0.3381     0.33388     0.32966     0.32544     0.32122   \n",
       "270992       0.2624     0.26514     0.26788     0.27062     0.27336   \n",
       "453335       0.3406     0.33476     0.32892     0.32308     0.31724   \n",
       "744056       0.8937     0.89370     0.89370     0.89370     0.89370   \n",
       "842397       0.5644     0.55536     0.54632     0.53728     0.52824   \n",
       "1305223      0.2017     0.20260     0.20350     0.20440     0.20530   \n",
       "1305481      0.2637     0.25306     0.24242     0.23178     0.22114   \n",
       "\n",
       "DATA     2020-09-06  2020-09-07  2020-09-08  2020-09-09  2020-09-10  ...  \\\n",
       "ID                                                                   ...   \n",
       "26742        0.4831     0.50856     0.53402     0.55948     0.58494  ...   \n",
       "142399       0.4275     0.42990     0.43230     0.43470     0.43710  ...   \n",
       "147088       0.4369     0.44194     0.44698     0.45202     0.45706  ...   \n",
       "270735       0.3170     0.31278     0.30856     0.30434     0.30012  ...   \n",
       "270992       0.2761     0.26554     0.25498     0.24442     0.23386  ...   \n",
       "453335       0.3114     0.31548     0.31956     0.32364     0.32772  ...   \n",
       "744056       0.8937     0.89120     0.88870     0.88620     0.88370  ...   \n",
       "842397       0.5192     0.52374     0.52828     0.53282     0.53736  ...   \n",
       "1305223      0.2062     0.21016     0.21412     0.21808     0.22204  ...   \n",
       "1305481      0.2105     0.21370     0.21690     0.22010     0.22330  ...   \n",
       "\n",
       "DATA     2022-01-15  2022-01-16  2022-01-17  2022-01-18  2022-01-19  \\\n",
       "ID                                                                    \n",
       "26742       0.56278     0.59366     0.62454     0.65542      0.6863   \n",
       "142399      0.38516     0.38002     0.37488     0.36974      0.3646   \n",
       "147088      0.81710     0.82000     0.82290     0.82580      0.8287   \n",
       "270735      0.50596     0.51172     0.51748     0.52324      0.5290   \n",
       "270992      0.87608     0.87226     0.86844     0.86462      0.8608   \n",
       "453335      0.75420     0.76990     0.78560     0.80130      0.8170   \n",
       "744056      0.24882     0.25084     0.25286     0.25488      0.2569   \n",
       "842397      0.56022     0.56434     0.56846     0.57258      0.5767   \n",
       "1305223     0.28286     0.30712     0.33138     0.35564      0.3799   \n",
       "1305481     0.22620     0.24460     0.26300     0.28140      0.2998   \n",
       "\n",
       "DATA     2022-01-20  2022-01-21  2022-01-22  2022-01-23  2022-01-24  \n",
       "ID                                                                   \n",
       "26742       0.67668     0.66706     0.65744     0.64782      0.6382  \n",
       "142399      0.35688     0.34916     0.34144     0.33372      0.3260  \n",
       "147088      0.79526     0.76182     0.72838     0.69494      0.6615  \n",
       "270735      0.52174     0.51448     0.50722     0.49996      0.4927  \n",
       "270992      0.85224     0.84368     0.83512     0.82656      0.8180  \n",
       "453335      0.80702     0.79704     0.78706     0.77708      0.7671  \n",
       "744056      0.25690     0.25690     0.25690     0.25690      0.2569  \n",
       "842397      0.55614     0.53558     0.51502     0.49446      0.4739  \n",
       "1305223     0.37534     0.37078     0.36622     0.36166      0.3571  \n",
       "1305481     0.30148     0.30316     0.30484     0.30652      0.3082  \n",
       "\n",
       "[10 rows x 511 columns]"
      ]
     },
     "execution_count": 37,
     "metadata": {},
     "output_type": "execute_result"
    }
   ],
   "source": [
    "df_trans[:10]"
   ]
  },
  {
   "cell_type": "code",
   "execution_count": 38,
   "id": "1dbea0ae-d7ee-46e5-a5b6-94438b9f2506",
   "metadata": {},
   "outputs": [
    {
     "data": {
      "text/plain": [
       "array([[0.6511 , 0.6175 , 0.5839 , ..., 0.65744, 0.64782, 0.6382 ],\n",
       "       [0.486  , 0.4743 , 0.4626 , ..., 0.34144, 0.33372, 0.326  ],\n",
       "       [0.4605 , 0.45578, 0.45106, ..., 0.72838, 0.69494, 0.6615 ],\n",
       "       ...,\n",
       "       [0.2675 , 0.25864, 0.24978, ..., 0.45652, 0.44686, 0.4372 ],\n",
       "       [0.5057 , 0.50676, 0.50782, ..., 0.4495 , 0.4403 , 0.4311 ],\n",
       "       [0.6175 , 0.59772, 0.57794, ..., 0.34588, 0.34144, 0.337  ]])"
      ]
     },
     "execution_count": 38,
     "metadata": {},
     "output_type": "execute_result"
    }
   ],
   "source": [
    "df_trans.values[0:20]"
   ]
  },
  {
   "cell_type": "code",
   "execution_count": 39,
   "id": "9f44e141-8174-4d52-bb82-eb0de308c90b",
   "metadata": {},
   "outputs": [
    {
     "data": {
      "text/plain": [
       "Int64Index([   26742,   142399,   147088,   270735,   270992,   453335,\n",
       "              744056,   842397,  1305223,  1305481,\n",
       "            ...\n",
       "            44805278, 44812160, 44812167, 44816601, 44819099, 44821958,\n",
       "            44823713, 44825583, 44825584, 44825588],\n",
       "           dtype='int64', name='ID', length=4779)"
      ]
     },
     "execution_count": 39,
     "metadata": {},
     "output_type": "execute_result"
    }
   ],
   "source": [
    "df_trans.index"
   ]
  },
  {
   "cell_type": "code",
   "execution_count": 40,
   "id": "ce5a92d3-743a-47f5-a54f-0c378a52f0ca",
   "metadata": {},
   "outputs": [],
   "source": [
    "#lista de listas das séries\n",
    "lista_series=[]\n",
    "\n",
    "for x in df_trans.values:\n",
    "    lista_series.append(x)"
   ]
  },
  {
   "cell_type": "code",
   "execution_count": 41,
   "id": "2dc0e836-2a13-47c3-b5a0-4a746f623c55",
   "metadata": {},
   "outputs": [
    {
     "data": {
      "text/plain": [
       "numpy.float64"
      ]
     },
     "execution_count": 41,
     "metadata": {},
     "output_type": "execute_result"
    }
   ],
   "source": [
    "type(lista_series[0][0])"
   ]
  },
  {
   "cell_type": "code",
   "execution_count": 42,
   "id": "3d00f996-af09-4f16-a828-ce29ee154719",
   "metadata": {},
   "outputs": [
    {
     "data": {
      "text/plain": [
       "(511,)"
      ]
     },
     "execution_count": 42,
     "metadata": {},
     "output_type": "execute_result"
    }
   ],
   "source": [
    "lista_series[0].shape"
   ]
  },
  {
   "cell_type": "code",
   "execution_count": 43,
   "id": "1310ce47-7130-4815-913e-8c8f9a789a8c",
   "metadata": {},
   "outputs": [],
   "source": [
    "w = 5\n",
    "p = 2"
   ]
  },
  {
   "cell_type": "code",
   "execution_count": 44,
   "id": "6e8a23c1-77f0-4ded-9edb-b99d1b2f5af8",
   "metadata": {},
   "outputs": [],
   "source": [
    "import scipy.signal as ss\n",
    "from scipy.signal import savgol_filter, general_gaussian"
   ]
  },
  {
   "cell_type": "code",
   "execution_count": 45,
   "id": "a854a4d6-7d2e-44db-a01c-c23afcbee795",
   "metadata": {},
   "outputs": [],
   "source": [
    "#Aplicação do filtro Sav-Gol\n",
    "lista_filtro=[]\n",
    "for x in lista_series:\n",
    "    lista_filtro.append(savgol_filter(x, 5*w+2, polyorder = 3*p, deriv=0))"
   ]
  },
  {
   "cell_type": "code",
   "execution_count": 46,
   "id": "6a0a4539-5b0a-4aff-908c-413aee1d9f62",
   "metadata": {},
   "outputs": [],
   "source": [
    "df_filtro = pd.DataFrame(data=lista_filtro, index=df_trans.index)"
   ]
  },
  {
   "cell_type": "code",
   "execution_count": 47,
   "id": "51f10d34-5e9f-4cd8-8a0e-0af84f8d2a91",
   "metadata": {},
   "outputs": [],
   "source": [
    "df_filtro2=df_filtro.T"
   ]
  },
  {
   "cell_type": "code",
   "execution_count": 48,
   "id": "c57f501b-51c2-4d08-9f94-3d372da5c7db",
   "metadata": {},
   "outputs": [
    {
     "data": {
      "text/html": [
       "<div>\n",
       "<style scoped>\n",
       "    .dataframe tbody tr th:only-of-type {\n",
       "        vertical-align: middle;\n",
       "    }\n",
       "\n",
       "    .dataframe tbody tr th {\n",
       "        vertical-align: top;\n",
       "    }\n",
       "\n",
       "    .dataframe thead th {\n",
       "        text-align: right;\n",
       "    }\n",
       "</style>\n",
       "<table border=\"1\" class=\"dataframe\">\n",
       "  <thead>\n",
       "    <tr style=\"text-align: right;\">\n",
       "      <th>ID</th>\n",
       "      <th>26742</th>\n",
       "      <th>142399</th>\n",
       "      <th>147088</th>\n",
       "      <th>270735</th>\n",
       "      <th>270992</th>\n",
       "      <th>453335</th>\n",
       "      <th>744056</th>\n",
       "      <th>842397</th>\n",
       "      <th>1305223</th>\n",
       "      <th>1305481</th>\n",
       "      <th>...</th>\n",
       "      <th>44805278</th>\n",
       "      <th>44812160</th>\n",
       "      <th>44812167</th>\n",
       "      <th>44816601</th>\n",
       "      <th>44819099</th>\n",
       "      <th>44821958</th>\n",
       "      <th>44823713</th>\n",
       "      <th>44825583</th>\n",
       "      <th>44825584</th>\n",
       "      <th>44825588</th>\n",
       "    </tr>\n",
       "  </thead>\n",
       "  <tbody>\n",
       "    <tr>\n",
       "      <th>0</th>\n",
       "      <td>0.661483</td>\n",
       "      <td>0.491152</td>\n",
       "      <td>0.462796</td>\n",
       "      <td>0.338874</td>\n",
       "      <td>0.280677</td>\n",
       "      <td>0.341934</td>\n",
       "      <td>0.893962</td>\n",
       "      <td>0.566851</td>\n",
       "      <td>0.202620</td>\n",
       "      <td>0.266664</td>\n",
       "      <td>...</td>\n",
       "      <td>0.168609</td>\n",
       "      <td>0.685990</td>\n",
       "      <td>0.300096</td>\n",
       "      <td>0.897771</td>\n",
       "      <td>0.158309</td>\n",
       "      <td>0.834955</td>\n",
       "      <td>0.778134</td>\n",
       "      <td>0.265374</td>\n",
       "      <td>0.289891</td>\n",
       "      <td>0.291616</td>\n",
       "    </tr>\n",
       "    <tr>\n",
       "      <th>1</th>\n",
       "      <td>0.610435</td>\n",
       "      <td>0.470083</td>\n",
       "      <td>0.453982</td>\n",
       "      <td>0.333155</td>\n",
       "      <td>0.247293</td>\n",
       "      <td>0.333962</td>\n",
       "      <td>0.893312</td>\n",
       "      <td>0.553525</td>\n",
       "      <td>0.201668</td>\n",
       "      <td>0.250811</td>\n",
       "      <td>...</td>\n",
       "      <td>0.167855</td>\n",
       "      <td>0.688909</td>\n",
       "      <td>0.300793</td>\n",
       "      <td>0.912127</td>\n",
       "      <td>0.154959</td>\n",
       "      <td>0.841040</td>\n",
       "      <td>0.817433</td>\n",
       "      <td>0.262297</td>\n",
       "      <td>0.294906</td>\n",
       "      <td>0.295861</td>\n",
       "    </tr>\n",
       "    <tr>\n",
       "      <th>2</th>\n",
       "      <td>0.568730</td>\n",
       "      <td>0.456213</td>\n",
       "      <td>0.447957</td>\n",
       "      <td>0.328863</td>\n",
       "      <td>0.248641</td>\n",
       "      <td>0.326757</td>\n",
       "      <td>0.893581</td>\n",
       "      <td>0.542834</td>\n",
       "      <td>0.202443</td>\n",
       "      <td>0.238334</td>\n",
       "      <td>...</td>\n",
       "      <td>0.167724</td>\n",
       "      <td>0.690891</td>\n",
       "      <td>0.301048</td>\n",
       "      <td>0.912878</td>\n",
       "      <td>0.153458</td>\n",
       "      <td>0.847120</td>\n",
       "      <td>0.844659</td>\n",
       "      <td>0.262220</td>\n",
       "      <td>0.299150</td>\n",
       "      <td>0.299815</td>\n",
       "    </tr>\n",
       "    <tr>\n",
       "      <th>3</th>\n",
       "      <td>0.538810</td>\n",
       "      <td>0.447176</td>\n",
       "      <td>0.444330</td>\n",
       "      <td>0.325151</td>\n",
       "      <td>0.264244</td>\n",
       "      <td>0.321266</td>\n",
       "      <td>0.893919</td>\n",
       "      <td>0.534861</td>\n",
       "      <td>0.204031</td>\n",
       "      <td>0.229019</td>\n",
       "      <td>...</td>\n",
       "      <td>0.167849</td>\n",
       "      <td>0.692847</td>\n",
       "      <td>0.301168</td>\n",
       "      <td>0.902746</td>\n",
       "      <td>0.154273</td>\n",
       "      <td>0.853191</td>\n",
       "      <td>0.861483</td>\n",
       "      <td>0.264174</td>\n",
       "      <td>0.303711</td>\n",
       "      <td>0.304220</td>\n",
       "    </tr>\n",
       "    <tr>\n",
       "      <th>4</th>\n",
       "      <td>0.521354</td>\n",
       "      <td>0.441319</td>\n",
       "      <td>0.442737</td>\n",
       "      <td>0.321498</td>\n",
       "      <td>0.280515</td>\n",
       "      <td>0.317887</td>\n",
       "      <td>0.893816</td>\n",
       "      <td>0.529546</td>\n",
       "      <td>0.205959</td>\n",
       "      <td>0.222567</td>\n",
       "      <td>...</td>\n",
       "      <td>0.168048</td>\n",
       "      <td>0.695202</td>\n",
       "      <td>0.301342</td>\n",
       "      <td>0.884585</td>\n",
       "      <td>0.157581</td>\n",
       "      <td>0.859099</td>\n",
       "      <td>0.869770</td>\n",
       "      <td>0.267423</td>\n",
       "      <td>0.309208</td>\n",
       "      <td>0.309470</td>\n",
       "    </tr>\n",
       "    <tr>\n",
       "      <th>...</th>\n",
       "      <td>...</td>\n",
       "      <td>...</td>\n",
       "      <td>...</td>\n",
       "      <td>...</td>\n",
       "      <td>...</td>\n",
       "      <td>...</td>\n",
       "      <td>...</td>\n",
       "      <td>...</td>\n",
       "      <td>...</td>\n",
       "      <td>...</td>\n",
       "      <td>...</td>\n",
       "      <td>...</td>\n",
       "      <td>...</td>\n",
       "      <td>...</td>\n",
       "      <td>...</td>\n",
       "      <td>...</td>\n",
       "      <td>...</td>\n",
       "      <td>...</td>\n",
       "      <td>...</td>\n",
       "      <td>...</td>\n",
       "      <td>...</td>\n",
       "    </tr>\n",
       "    <tr>\n",
       "      <th>506</th>\n",
       "      <td>0.664899</td>\n",
       "      <td>0.342794</td>\n",
       "      <td>0.763474</td>\n",
       "      <td>0.520540</td>\n",
       "      <td>0.851834</td>\n",
       "      <td>0.804448</td>\n",
       "      <td>0.256770</td>\n",
       "      <td>0.552925</td>\n",
       "      <td>0.371441</td>\n",
       "      <td>0.298932</td>\n",
       "      <td>...</td>\n",
       "      <td>0.379522</td>\n",
       "      <td>0.212842</td>\n",
       "      <td>0.329404</td>\n",
       "      <td>0.187644</td>\n",
       "      <td>0.189555</td>\n",
       "      <td>0.161235</td>\n",
       "      <td>0.628287</td>\n",
       "      <td>0.487455</td>\n",
       "      <td>0.511470</td>\n",
       "      <td>0.350937</td>\n",
       "    </tr>\n",
       "    <tr>\n",
       "      <th>507</th>\n",
       "      <td>0.679291</td>\n",
       "      <td>0.361810</td>\n",
       "      <td>0.793723</td>\n",
       "      <td>0.517175</td>\n",
       "      <td>0.844080</td>\n",
       "      <td>0.801415</td>\n",
       "      <td>0.257209</td>\n",
       "      <td>0.541294</td>\n",
       "      <td>0.376810</td>\n",
       "      <td>0.306868</td>\n",
       "      <td>...</td>\n",
       "      <td>0.387127</td>\n",
       "      <td>0.211471</td>\n",
       "      <td>0.323899</td>\n",
       "      <td>0.188333</td>\n",
       "      <td>0.185025</td>\n",
       "      <td>0.160343</td>\n",
       "      <td>0.590478</td>\n",
       "      <td>0.483169</td>\n",
       "      <td>0.508371</td>\n",
       "      <td>0.349258</td>\n",
       "    </tr>\n",
       "    <tr>\n",
       "      <th>508</th>\n",
       "      <td>0.685265</td>\n",
       "      <td>0.376785</td>\n",
       "      <td>0.809554</td>\n",
       "      <td>0.511013</td>\n",
       "      <td>0.835680</td>\n",
       "      <td>0.793963</td>\n",
       "      <td>0.257262</td>\n",
       "      <td>0.524456</td>\n",
       "      <td>0.376322</td>\n",
       "      <td>0.311359</td>\n",
       "      <td>...</td>\n",
       "      <td>0.389468</td>\n",
       "      <td>0.209447</td>\n",
       "      <td>0.316873</td>\n",
       "      <td>0.189234</td>\n",
       "      <td>0.184204</td>\n",
       "      <td>0.159440</td>\n",
       "      <td>0.541530</td>\n",
       "      <td>0.478106</td>\n",
       "      <td>0.503604</td>\n",
       "      <td>0.347983</td>\n",
       "    </tr>\n",
       "    <tr>\n",
       "      <th>509</th>\n",
       "      <td>0.670254</td>\n",
       "      <td>0.365456</td>\n",
       "      <td>0.764779</td>\n",
       "      <td>0.501919</td>\n",
       "      <td>0.826815</td>\n",
       "      <td>0.781282</td>\n",
       "      <td>0.257027</td>\n",
       "      <td>0.500442</td>\n",
       "      <td>0.368059</td>\n",
       "      <td>0.310852</td>\n",
       "      <td>...</td>\n",
       "      <td>0.384714</td>\n",
       "      <td>0.206838</td>\n",
       "      <td>0.308531</td>\n",
       "      <td>0.190327</td>\n",
       "      <td>0.186603</td>\n",
       "      <td>0.158492</td>\n",
       "      <td>0.482875</td>\n",
       "      <td>0.472310</td>\n",
       "      <td>0.497002</td>\n",
       "      <td>0.347400</td>\n",
       "    </tr>\n",
       "    <tr>\n",
       "      <th>510</th>\n",
       "      <td>0.614010</td>\n",
       "      <td>0.293138</td>\n",
       "      <td>0.587685</td>\n",
       "      <td>0.489993</td>\n",
       "      <td>0.817679</td>\n",
       "      <td>0.761705</td>\n",
       "      <td>0.256685</td>\n",
       "      <td>0.466454</td>\n",
       "      <td>0.349348</td>\n",
       "      <td>0.303080</td>\n",
       "      <td>...</td>\n",
       "      <td>0.370288</td>\n",
       "      <td>0.203803</td>\n",
       "      <td>0.299307</td>\n",
       "      <td>0.191565</td>\n",
       "      <td>0.191181</td>\n",
       "      <td>0.157446</td>\n",
       "      <td>0.417604</td>\n",
       "      <td>0.465874</td>\n",
       "      <td>0.488497</td>\n",
       "      <td>0.347842</td>\n",
       "    </tr>\n",
       "  </tbody>\n",
       "</table>\n",
       "<p>511 rows × 4779 columns</p>\n",
       "</div>"
      ],
      "text/plain": [
       "ID   26742     142399    147088    270735    270992    453335    744056    \\\n",
       "0    0.661483  0.491152  0.462796  0.338874  0.280677  0.341934  0.893962   \n",
       "1    0.610435  0.470083  0.453982  0.333155  0.247293  0.333962  0.893312   \n",
       "2    0.568730  0.456213  0.447957  0.328863  0.248641  0.326757  0.893581   \n",
       "3    0.538810  0.447176  0.444330  0.325151  0.264244  0.321266  0.893919   \n",
       "4    0.521354  0.441319  0.442737  0.321498  0.280515  0.317887  0.893816   \n",
       "..        ...       ...       ...       ...       ...       ...       ...   \n",
       "506  0.664899  0.342794  0.763474  0.520540  0.851834  0.804448  0.256770   \n",
       "507  0.679291  0.361810  0.793723  0.517175  0.844080  0.801415  0.257209   \n",
       "508  0.685265  0.376785  0.809554  0.511013  0.835680  0.793963  0.257262   \n",
       "509  0.670254  0.365456  0.764779  0.501919  0.826815  0.781282  0.257027   \n",
       "510  0.614010  0.293138  0.587685  0.489993  0.817679  0.761705  0.256685   \n",
       "\n",
       "ID   842397    1305223   1305481   ...  44805278  44812160  44812167  \\\n",
       "0    0.566851  0.202620  0.266664  ...  0.168609  0.685990  0.300096   \n",
       "1    0.553525  0.201668  0.250811  ...  0.167855  0.688909  0.300793   \n",
       "2    0.542834  0.202443  0.238334  ...  0.167724  0.690891  0.301048   \n",
       "3    0.534861  0.204031  0.229019  ...  0.167849  0.692847  0.301168   \n",
       "4    0.529546  0.205959  0.222567  ...  0.168048  0.695202  0.301342   \n",
       "..        ...       ...       ...  ...       ...       ...       ...   \n",
       "506  0.552925  0.371441  0.298932  ...  0.379522  0.212842  0.329404   \n",
       "507  0.541294  0.376810  0.306868  ...  0.387127  0.211471  0.323899   \n",
       "508  0.524456  0.376322  0.311359  ...  0.389468  0.209447  0.316873   \n",
       "509  0.500442  0.368059  0.310852  ...  0.384714  0.206838  0.308531   \n",
       "510  0.466454  0.349348  0.303080  ...  0.370288  0.203803  0.299307   \n",
       "\n",
       "ID   44816601  44819099  44821958  44823713  44825583  44825584  44825588  \n",
       "0    0.897771  0.158309  0.834955  0.778134  0.265374  0.289891  0.291616  \n",
       "1    0.912127  0.154959  0.841040  0.817433  0.262297  0.294906  0.295861  \n",
       "2    0.912878  0.153458  0.847120  0.844659  0.262220  0.299150  0.299815  \n",
       "3    0.902746  0.154273  0.853191  0.861483  0.264174  0.303711  0.304220  \n",
       "4    0.884585  0.157581  0.859099  0.869770  0.267423  0.309208  0.309470  \n",
       "..        ...       ...       ...       ...       ...       ...       ...  \n",
       "506  0.187644  0.189555  0.161235  0.628287  0.487455  0.511470  0.350937  \n",
       "507  0.188333  0.185025  0.160343  0.590478  0.483169  0.508371  0.349258  \n",
       "508  0.189234  0.184204  0.159440  0.541530  0.478106  0.503604  0.347983  \n",
       "509  0.190327  0.186603  0.158492  0.482875  0.472310  0.497002  0.347400  \n",
       "510  0.191565  0.191181  0.157446  0.417604  0.465874  0.488497  0.347842  \n",
       "\n",
       "[511 rows x 4779 columns]"
      ]
     },
     "execution_count": 48,
     "metadata": {},
     "output_type": "execute_result"
    }
   ],
   "source": [
    "df_filtro2"
   ]
  },
  {
   "cell_type": "markdown",
   "id": "ab44c300-5230-4e76-9c79-7eba98bfba9d",
   "metadata": {},
   "source": [
    "# Criação da Curva Teórica de Kc"
   ]
  },
  {
   "cell_type": "code",
   "execution_count": 49,
   "id": "e2949de6-34a9-4622-86a4-8db019607934",
   "metadata": {},
   "outputs": [
    {
     "data": {
      "text/plain": [
       "array(['Broculos', 'Couve_repolho', 'Cenoura', 'Couveflor', 'Salsao_aipo',\n",
       "       'Cruciferas_abril (repolho, couve-flor, brócolis e couve de Bruxelas)',\n",
       "       'Cruciferas_fevereiro (repolho, couve-flor, brócolis e couve de Bruxelas)',\n",
       "       'Cruciferas_outubro_novembro (repolho, couve-flor, brócolis e couve de Bruxelas)',\n",
       "       'Alface_abril', 'Alface_novembro_janeiro',\n",
       "       'Alface_outobro_novembro', 'Alface_fevereiro', 'Cebola (seca)',\n",
       "       'Cebola (verde)', 'Cebola (semente)', 'Espinafre', 'Rabanete',\n",
       "       'Berinjela', 'Pimentaodoce', 'Tomate', 'Cantalupo_meloa_janeiro',\n",
       "       'Cantalupo_meloa_agosto', 'Pepino_junho_agosto',\n",
       "       'Pepino_novembro__fevereiro', 'Abobora',\n",
       "       'Corgette_abobrinha_abril__dezembro',\n",
       "       'Corgette_abobrinha_maio_junho', 'Melao', 'Melancia',\n",
       "       'Beterraba_abril_maio', 'Beterraba_fevereiro_marco',\n",
       "       'Batata_janeiro__novembro', 'Batata_maio', 'Batata_abril',\n",
       "       'Batatadoce', 'Beterraba_maio', 'Beterraba_novembro',\n",
       "       'Grao_Feijao_fevereiro_marco', 'Grao_Feijao_maio', 'Favas_maio1',\n",
       "       'Favas_maio2', 'Favas_marco_abril1', 'Favas_marco_abril2',\n",
       "       'Favas_novembro1', 'Favas_novembro2', 'Feijaofrade', 'Amendoim',\n",
       "       'Lentilha', 'Ervilhas_maio1', 'Ervilhas_maio2',\n",
       "       'Ervilhas_marco_abril1', 'Ervilhas_marco_abril2', 'Soja_dezembro',\n",
       "       'Soja_junho', 'Alcachofra_abril', 'Alcachofra_maio',\n",
       "       'Espargos_fevereiro', 'Linho', 'Girassol',\n",
       "       'Cevada/Aveia/Trigo_abril', 'Cevada/Aveia/Trigo_novembro',\n",
       "       'Trigoprimavera', 'Trigoinverno', 'Milhograo', 'Milhodoce',\n",
       "       'Arroz', 'Canadeacucarvirgem', 'Canadeacucarsoca', 'Banana_marco',\n",
       "       'Banana_fevereiro', 'Ananas1', 'Ananas2', 'Bagas1', 'Bagas2',\n",
       "       'Bagas3', 'Azeitona', 'Pistachio', 'Nozes', 'Amendoa'],\n",
       "      dtype=object)"
      ]
     },
     "execution_count": 49,
     "metadata": {},
     "output_type": "execute_result"
    }
   ],
   "source": [
    "TabelaNDVI[\"Crop\"].unique()"
   ]
  },
  {
   "cell_type": "code",
   "execution_count": 50,
   "id": "8635cb8a-048d-4498-b872-50cfb08612e7",
   "metadata": {},
   "outputs": [],
   "source": [
    "TabelaNDVIMilho=TabelaNDVI[(TabelaNDVI['Crop']==\"Milhograo\")]"
   ]
  },
  {
   "cell_type": "code",
   "execution_count": 51,
   "id": "1fd9a5f1-e102-4b31-8fc9-b0c93009f402",
   "metadata": {},
   "outputs": [],
   "source": [
    "kc_ini=float(TabelaNDVIMilho[\"Kc ini\"].values)"
   ]
  },
  {
   "cell_type": "code",
   "execution_count": 52,
   "id": "e9dc2dc0-5681-463f-af82-28be150deca7",
   "metadata": {},
   "outputs": [],
   "source": [
    "TabelaTempoMilho=TabelaTempo[(TabelaTempo['Crop']==\"Milhograo\")]"
   ]
  },
  {
   "cell_type": "code",
   "execution_count": 53,
   "id": "c9fcbb18-7d5d-42cc-91b1-243ef043d2fc",
   "metadata": {},
   "outputs": [],
   "source": [
    "temp_ini=int(TabelaTempoMilho[\"Init. (Lini)\"].values)"
   ]
  },
  {
   "cell_type": "code",
   "execution_count": 54,
   "id": "af1464a7-2801-456d-b2d8-71d962e61ef1",
   "metadata": {},
   "outputs": [],
   "source": [
    "listaInit=[kc_ini]*temp_ini"
   ]
  },
  {
   "cell_type": "code",
   "execution_count": 55,
   "id": "c4ffc7a4-349d-4a7f-854f-1078831f72b9",
   "metadata": {},
   "outputs": [
    {
     "data": {
      "text/plain": [
       "[0.3,\n",
       " 0.3,\n",
       " 0.3,\n",
       " 0.3,\n",
       " 0.3,\n",
       " 0.3,\n",
       " 0.3,\n",
       " 0.3,\n",
       " 0.3,\n",
       " 0.3,\n",
       " 0.3,\n",
       " 0.3,\n",
       " 0.3,\n",
       " 0.3,\n",
       " 0.3,\n",
       " 0.3,\n",
       " 0.3,\n",
       " 0.3,\n",
       " 0.3,\n",
       " 0.3,\n",
       " 0.3,\n",
       " 0.3,\n",
       " 0.3,\n",
       " 0.3,\n",
       " 0.3,\n",
       " 0.3,\n",
       " 0.3,\n",
       " 0.3,\n",
       " 0.3,\n",
       " 0.3]"
      ]
     },
     "execution_count": 55,
     "metadata": {},
     "output_type": "execute_result"
    }
   ],
   "source": [
    "listaInit"
   ]
  },
  {
   "cell_type": "code",
   "execution_count": 56,
   "id": "c80baac6-1d08-40a9-9889-25d19487b844",
   "metadata": {},
   "outputs": [],
   "source": [
    "temp_dev=int(TabelaTempoMilho[\"Dev. (Ldev)\"].values)"
   ]
  },
  {
   "cell_type": "code",
   "execution_count": 57,
   "id": "33e8409b-60e3-439c-ad7d-09cebdf07b38",
   "metadata": {},
   "outputs": [],
   "source": [
    "an_array = np.empty((temp_dev))\n",
    "an_array[:] = np.NaN"
   ]
  },
  {
   "cell_type": "code",
   "execution_count": 58,
   "id": "8dc5e58d-3180-404a-b8f3-ca901f108a5f",
   "metadata": {},
   "outputs": [
    {
     "data": {
      "text/plain": [
       "array([nan, nan, nan, nan, nan, nan, nan, nan, nan, nan, nan, nan, nan,\n",
       "       nan, nan, nan, nan, nan, nan, nan, nan, nan, nan, nan, nan, nan,\n",
       "       nan, nan, nan, nan, nan, nan, nan, nan, nan, nan, nan, nan, nan,\n",
       "       nan])"
      ]
     },
     "execution_count": 58,
     "metadata": {},
     "output_type": "execute_result"
    }
   ],
   "source": [
    "an_array"
   ]
  },
  {
   "cell_type": "code",
   "execution_count": 59,
   "id": "69274667-aa8b-4ea9-96bc-0dbc434dcb4b",
   "metadata": {},
   "outputs": [],
   "source": [
    "kc_mid=float(TabelaNDVIMilho[\"Kc mid\"].values)\n",
    "temp_mid=int(TabelaTempoMilho[\"Mid (Lmid)\"].values)"
   ]
  },
  {
   "cell_type": "code",
   "execution_count": 60,
   "id": "6fa6791a-bdfb-40c3-8de3-ebd6634fa4ad",
   "metadata": {},
   "outputs": [],
   "source": [
    "listaMid=[kc_mid]*temp_mid"
   ]
  },
  {
   "cell_type": "code",
   "execution_count": 61,
   "id": "bd7153c9-6f19-4189-8ef9-641d17d4c3a5",
   "metadata": {},
   "outputs": [],
   "source": [
    "temp_late=int(TabelaTempoMilho[\"Late (Llate)\"].values)"
   ]
  },
  {
   "cell_type": "code",
   "execution_count": 62,
   "id": "b5d0e4a6-7736-4c5d-94fe-8061472cb992",
   "metadata": {},
   "outputs": [],
   "source": [
    "an_array2 = np.empty((temp_late))\n",
    "an_array2[:] = np.NaN"
   ]
  },
  {
   "cell_type": "code",
   "execution_count": 63,
   "id": "26d661b3-8dab-405c-a794-9f150c742b16",
   "metadata": {},
   "outputs": [],
   "source": [
    "kc_end=float(TabelaNDVIMilho[\"Kc end\"].values)"
   ]
  },
  {
   "cell_type": "code",
   "execution_count": 64,
   "id": "fb76e5f3-6cf3-4f82-9fb8-116a75b7f222",
   "metadata": {},
   "outputs": [],
   "source": [
    "for x in an_array:\n",
    "    listaInit.append(x)"
   ]
  },
  {
   "cell_type": "code",
   "execution_count": 65,
   "id": "ab8c40a4-5939-4695-972b-6500fa40db1f",
   "metadata": {},
   "outputs": [],
   "source": [
    "for x in listaMid:\n",
    "    listaInit.append(x)"
   ]
  },
  {
   "cell_type": "code",
   "execution_count": 66,
   "id": "a224db6a-ce39-4030-8714-1a882090341b",
   "metadata": {},
   "outputs": [],
   "source": [
    "for x in an_array2:\n",
    "    listaInit.append(x)"
   ]
  },
  {
   "cell_type": "code",
   "execution_count": 67,
   "id": "1af20d0c-6528-4a45-bf4e-4302c2d9443f",
   "metadata": {},
   "outputs": [],
   "source": [
    "listaInit.append(kc_end)"
   ]
  },
  {
   "cell_type": "code",
   "execution_count": 68,
   "id": "7e2f2e45-5146-45f4-80d5-bf8f32fe20eb",
   "metadata": {},
   "outputs": [],
   "source": [
    "listateoric=listaInit"
   ]
  },
  {
   "cell_type": "code",
   "execution_count": 69,
   "id": "cbd52685-929e-43c2-ad97-c037a77122d9",
   "metadata": {},
   "outputs": [
    {
     "data": {
      "text/plain": [
       "[0.3,\n",
       " 0.3,\n",
       " 0.3,\n",
       " 0.3,\n",
       " 0.3,\n",
       " 0.3,\n",
       " 0.3,\n",
       " 0.3,\n",
       " 0.3,\n",
       " 0.3,\n",
       " 0.3,\n",
       " 0.3,\n",
       " 0.3,\n",
       " 0.3,\n",
       " 0.3,\n",
       " 0.3,\n",
       " 0.3,\n",
       " 0.3,\n",
       " 0.3,\n",
       " 0.3,\n",
       " 0.3,\n",
       " 0.3,\n",
       " 0.3,\n",
       " 0.3,\n",
       " 0.3,\n",
       " 0.3,\n",
       " 0.3,\n",
       " 0.3,\n",
       " 0.3,\n",
       " 0.3,\n",
       " nan,\n",
       " nan,\n",
       " nan,\n",
       " nan,\n",
       " nan,\n",
       " nan,\n",
       " nan,\n",
       " nan,\n",
       " nan,\n",
       " nan,\n",
       " nan,\n",
       " nan,\n",
       " nan,\n",
       " nan,\n",
       " nan,\n",
       " nan,\n",
       " nan,\n",
       " nan,\n",
       " nan,\n",
       " nan,\n",
       " nan,\n",
       " nan,\n",
       " nan,\n",
       " nan,\n",
       " nan,\n",
       " nan,\n",
       " nan,\n",
       " nan,\n",
       " nan,\n",
       " nan,\n",
       " nan,\n",
       " nan,\n",
       " nan,\n",
       " nan,\n",
       " nan,\n",
       " nan,\n",
       " nan,\n",
       " nan,\n",
       " nan,\n",
       " nan,\n",
       " 1.2,\n",
       " 1.2,\n",
       " 1.2,\n",
       " 1.2,\n",
       " 1.2,\n",
       " 1.2,\n",
       " 1.2,\n",
       " 1.2,\n",
       " 1.2,\n",
       " 1.2,\n",
       " 1.2,\n",
       " 1.2,\n",
       " 1.2,\n",
       " 1.2,\n",
       " 1.2,\n",
       " 1.2,\n",
       " 1.2,\n",
       " 1.2,\n",
       " 1.2,\n",
       " 1.2,\n",
       " 1.2,\n",
       " 1.2,\n",
       " 1.2,\n",
       " 1.2,\n",
       " 1.2,\n",
       " 1.2,\n",
       " 1.2,\n",
       " 1.2,\n",
       " 1.2,\n",
       " 1.2,\n",
       " 1.2,\n",
       " 1.2,\n",
       " 1.2,\n",
       " 1.2,\n",
       " 1.2,\n",
       " 1.2,\n",
       " 1.2,\n",
       " 1.2,\n",
       " 1.2,\n",
       " 1.2,\n",
       " 1.2,\n",
       " 1.2,\n",
       " 1.2,\n",
       " 1.2,\n",
       " 1.2,\n",
       " 1.2,\n",
       " 1.2,\n",
       " 1.2,\n",
       " 1.2,\n",
       " 1.2,\n",
       " nan,\n",
       " nan,\n",
       " nan,\n",
       " nan,\n",
       " nan,\n",
       " nan,\n",
       " nan,\n",
       " nan,\n",
       " nan,\n",
       " nan,\n",
       " nan,\n",
       " nan,\n",
       " nan,\n",
       " nan,\n",
       " nan,\n",
       " nan,\n",
       " nan,\n",
       " nan,\n",
       " nan,\n",
       " nan,\n",
       " nan,\n",
       " nan,\n",
       " nan,\n",
       " nan,\n",
       " nan,\n",
       " nan,\n",
       " nan,\n",
       " nan,\n",
       " nan,\n",
       " nan,\n",
       " 0.48]"
      ]
     },
     "execution_count": 69,
     "metadata": {},
     "output_type": "execute_result"
    }
   ],
   "source": [
    "listateoric"
   ]
  },
  {
   "cell_type": "code",
   "execution_count": 70,
   "id": "7cc77b98-6f27-4811-99f3-25e8319bfd2f",
   "metadata": {},
   "outputs": [
    {
     "data": {
      "text/plain": [
       "[<matplotlib.lines.Line2D at 0x276cf203c70>]"
      ]
     },
     "execution_count": 70,
     "metadata": {},
     "output_type": "execute_result"
    },
    {
     "data": {
      "image/png": "[encoded data removed]",
      "text/plain": [
       "<Figure size 432x288 with 1 Axes>"
      ]
     },
     "metadata": {
      "needs_background": "light"
     },
     "output_type": "display_data"
    }
   ],
   "source": [
    "plt.plot(listateoric)"
   ]
  },
  {
   "cell_type": "code",
   "execution_count": 71,
   "id": "e968524b-0201-4ec8-9149-61ac434bc8be",
   "metadata": {},
   "outputs": [],
   "source": [
    "df_kcteoric = pd.DataFrame (listateoric, columns = ['Kcteoric'])"
   ]
  },
  {
   "cell_type": "code",
   "execution_count": 72,
   "id": "fc9faf79-1ef1-496a-b73f-0f322a9d704a",
   "metadata": {},
   "outputs": [
    {
     "data": {
      "text/plain": [
       "<AxesSubplot:>"
      ]
     },
     "execution_count": 72,
     "metadata": {},
     "output_type": "execute_result"
    },
    {
     "data": {
      "image/png": "[encoded data removed]",
      "text/plain": [
       "<Figure size 432x288 with 1 Axes>"
      ]
     },
     "metadata": {
      "needs_background": "light"
     },
     "output_type": "display_data"
    }
   ],
   "source": [
    "df_kcteoric.interpolate(method=\"linear\").plot()"
   ]
  },
  {
   "cell_type": "code",
   "execution_count": 73,
   "id": "1c88db81-d505-46cd-a6aa-6d3ee51fa04e",
   "metadata": {},
   "outputs": [],
   "source": [
    "df_kcteoric=df_kcteoric.interpolate(method=\"linear\")"
   ]
  },
  {
   "cell_type": "code",
   "execution_count": 74,
   "id": "9a853aa6-1d25-4525-a9cc-ae2430e528d0",
   "metadata": {},
   "outputs": [
    {
     "data": {
      "text/plain": [
       "<AxesSubplot:xlabel='Days', ylabel='Kc'>"
      ]
     },
     "execution_count": 74,
     "metadata": {},
     "output_type": "execute_result"
    },
    {
     "data": {
      "image/png": "[encoded data removed]",
      "text/plain": [
       "<Figure size 432x288 with 1 Axes>"
      ]
     },
     "metadata": {
      "needs_background": "light"
     },
     "output_type": "display_data"
    }
   ],
   "source": [
    "df_kcteoric.plot(xlabel=\"Days\",ylabel=\"Kc\")"
   ]
  },
  {
   "cell_type": "markdown",
   "id": "e3382061-08d0-4a55-9edb-db1f4591aab0",
   "metadata": {},
   "source": [
    "# Criação do período melhor representativo utilizando a correlação de Pearson"
   ]
  },
  {
   "cell_type": "code",
   "execution_count": 75,
   "id": "0011b5f8-d094-4862-80d1-84e4f1be7f74",
   "metadata": {},
   "outputs": [],
   "source": [
    "import scipy.stats as stats"
   ]
  },
  {
   "cell_type": "code",
   "execution_count": 76,
   "id": "632a3c4f-054b-45f0-b466-55ebad31ad37",
   "metadata": {},
   "outputs": [],
   "source": [
    "windows=np.lib.stride_tricks.sliding_window_view(df_filtro, 151, axis=1)"
   ]
  },
  {
   "cell_type": "code",
   "execution_count": 77,
   "id": "edc237cd-4889-455e-9fcc-b13a2e6c7fb6",
   "metadata": {},
   "outputs": [
    {
     "data": {
      "text/plain": [
       "151"
      ]
     },
     "execution_count": 77,
     "metadata": {},
     "output_type": "execute_result"
    }
   ],
   "source": [
    "len(windows[0][0])"
   ]
  },
  {
   "cell_type": "code",
   "execution_count": 78,
   "id": "5f3972ab-32ed-4a17-bd9e-5272895103aa",
   "metadata": {},
   "outputs": [],
   "source": [
    "z=np.arange(151)\n",
    "i=0\n",
    "maxi=[]\n",
    "corrP=[]\n",
    "s=0\n",
    "\n",
    "for z in windows:\n",
    "    for xi in windows[i]:\n",
    "        r, p = stats.pearsonr(xi,df_kcteoric['Kcteoric'])\n",
    "        corrP.append(r)\n",
    "    aws=np.array(corrP)\n",
    "    maxi.append(aws.argmax())   \n",
    "    i=i+1\n",
    "    corrP=[]\n",
    "max_array = np.array(maxi)"
   ]
  },
  {
   "cell_type": "code",
   "execution_count": 79,
   "id": "1e41c0d4-e343-491d-a92b-12b2ab88d9a3",
   "metadata": {},
   "outputs": [],
   "source": [
    "#max_array"
   ]
  },
  {
   "cell_type": "code",
   "execution_count": 80,
   "id": "f2cb9c05-fe7e-4400-a12d-5e0f2b694c07",
   "metadata": {},
   "outputs": [],
   "source": [
    "lista_corr=[]\n",
    "i=0\n",
    "for x in max_array:\n",
    "    lista_corr.append(windows[i][x])\n",
    "    i=i+1"
   ]
  },
  {
   "cell_type": "code",
   "execution_count": 81,
   "id": "1971326c-0e7d-4439-b54a-9d0293dd1b7f",
   "metadata": {},
   "outputs": [],
   "source": [
    "#lista_corr"
   ]
  },
  {
   "cell_type": "code",
   "execution_count": 82,
   "id": "30a3d7bb-2f13-4dc9-961d-b3187d23342a",
   "metadata": {},
   "outputs": [],
   "source": [
    "df_melhor= pd.DataFrame(data=lista_corr, index=df_trans.index)"
   ]
  },
  {
   "cell_type": "code",
   "execution_count": 83,
   "id": "448b3467-8026-4d23-9e4d-5cce5cd00bf8",
   "metadata": {},
   "outputs": [],
   "source": [
    "df_train_melhor=df_melhor[1444:]"
   ]
  },
  {
   "cell_type": "code",
   "execution_count": 84,
   "id": "0332886f-89cd-4127-85b7-6a367857cea1",
   "metadata": {},
   "outputs": [
    {
     "data": {
      "text/html": [
       "<div>\n",
       "<style scoped>\n",
       "    .dataframe tbody tr th:only-of-type {\n",
       "        vertical-align: middle;\n",
       "    }\n",
       "\n",
       "    .dataframe tbody tr th {\n",
       "        vertical-align: top;\n",
       "    }\n",
       "\n",
       "    .dataframe thead th {\n",
       "        text-align: right;\n",
       "    }\n",
       "</style>\n",
       "<table border=\"1\" class=\"dataframe\">\n",
       "  <thead>\n",
       "    <tr style=\"text-align: right;\">\n",
       "      <th></th>\n",
       "      <th>0</th>\n",
       "      <th>1</th>\n",
       "      <th>2</th>\n",
       "      <th>3</th>\n",
       "      <th>4</th>\n",
       "      <th>5</th>\n",
       "      <th>6</th>\n",
       "      <th>7</th>\n",
       "      <th>8</th>\n",
       "      <th>9</th>\n",
       "      <th>...</th>\n",
       "      <th>141</th>\n",
       "      <th>142</th>\n",
       "      <th>143</th>\n",
       "      <th>144</th>\n",
       "      <th>145</th>\n",
       "      <th>146</th>\n",
       "      <th>147</th>\n",
       "      <th>148</th>\n",
       "      <th>149</th>\n",
       "      <th>150</th>\n",
       "    </tr>\n",
       "    <tr>\n",
       "      <th>ID</th>\n",
       "      <th></th>\n",
       "      <th></th>\n",
       "      <th></th>\n",
       "      <th></th>\n",
       "      <th></th>\n",
       "      <th></th>\n",
       "      <th></th>\n",
       "      <th></th>\n",
       "      <th></th>\n",
       "      <th></th>\n",
       "      <th></th>\n",
       "      <th></th>\n",
       "      <th></th>\n",
       "      <th></th>\n",
       "      <th></th>\n",
       "      <th></th>\n",
       "      <th></th>\n",
       "      <th></th>\n",
       "      <th></th>\n",
       "      <th></th>\n",
       "      <th></th>\n",
       "    </tr>\n",
       "  </thead>\n",
       "  <tbody>\n",
       "    <tr>\n",
       "      <th>27372538</th>\n",
       "      <td>0.194980</td>\n",
       "      <td>0.192986</td>\n",
       "      <td>0.191101</td>\n",
       "      <td>0.189331</td>\n",
       "      <td>0.187896</td>\n",
       "      <td>0.186686</td>\n",
       "      <td>0.185429</td>\n",
       "      <td>0.183840</td>\n",
       "      <td>0.181470</td>\n",
       "      <td>0.179230</td>\n",
       "      <td>...</td>\n",
       "      <td>0.405929</td>\n",
       "      <td>0.431660</td>\n",
       "      <td>0.462809</td>\n",
       "      <td>0.495549</td>\n",
       "      <td>0.525987</td>\n",
       "      <td>0.550701</td>\n",
       "      <td>0.567283</td>\n",
       "      <td>0.574762</td>\n",
       "      <td>0.573828</td>\n",
       "      <td>0.566718</td>\n",
       "    </tr>\n",
       "    <tr>\n",
       "      <th>27373355</th>\n",
       "      <td>0.198478</td>\n",
       "      <td>0.199403</td>\n",
       "      <td>0.201333</td>\n",
       "      <td>0.204019</td>\n",
       "      <td>0.207281</td>\n",
       "      <td>0.210804</td>\n",
       "      <td>0.214253</td>\n",
       "      <td>0.217358</td>\n",
       "      <td>0.219982</td>\n",
       "      <td>0.222152</td>\n",
       "      <td>...</td>\n",
       "      <td>0.501326</td>\n",
       "      <td>0.490345</td>\n",
       "      <td>0.479298</td>\n",
       "      <td>0.469905</td>\n",
       "      <td>0.461523</td>\n",
       "      <td>0.453544</td>\n",
       "      <td>0.445373</td>\n",
       "      <td>0.437943</td>\n",
       "      <td>0.427807</td>\n",
       "      <td>0.415648</td>\n",
       "    </tr>\n",
       "    <tr>\n",
       "      <th>27373448</th>\n",
       "      <td>0.188688</td>\n",
       "      <td>0.178671</td>\n",
       "      <td>0.171948</td>\n",
       "      <td>0.168351</td>\n",
       "      <td>0.167314</td>\n",
       "      <td>0.168347</td>\n",
       "      <td>0.170614</td>\n",
       "      <td>0.173197</td>\n",
       "      <td>0.175324</td>\n",
       "      <td>0.176544</td>\n",
       "      <td>...</td>\n",
       "      <td>0.748800</td>\n",
       "      <td>0.727428</td>\n",
       "      <td>0.702372</td>\n",
       "      <td>0.674918</td>\n",
       "      <td>0.648576</td>\n",
       "      <td>0.624197</td>\n",
       "      <td>0.602678</td>\n",
       "      <td>0.584390</td>\n",
       "      <td>0.569867</td>\n",
       "      <td>0.557431</td>\n",
       "    </tr>\n",
       "    <tr>\n",
       "      <th>27375514</th>\n",
       "      <td>0.163165</td>\n",
       "      <td>0.160597</td>\n",
       "      <td>0.157185</td>\n",
       "      <td>0.154936</td>\n",
       "      <td>0.153437</td>\n",
       "      <td>0.152205</td>\n",
       "      <td>0.150719</td>\n",
       "      <td>0.149214</td>\n",
       "      <td>0.146450</td>\n",
       "      <td>0.142786</td>\n",
       "      <td>...</td>\n",
       "      <td>0.710844</td>\n",
       "      <td>0.702885</td>\n",
       "      <td>0.689441</td>\n",
       "      <td>0.670864</td>\n",
       "      <td>0.648594</td>\n",
       "      <td>0.624883</td>\n",
       "      <td>0.602948</td>\n",
       "      <td>0.584290</td>\n",
       "      <td>0.571241</td>\n",
       "      <td>0.565870</td>\n",
       "    </tr>\n",
       "    <tr>\n",
       "      <th>27377300</th>\n",
       "      <td>0.156457</td>\n",
       "      <td>0.156022</td>\n",
       "      <td>0.155885</td>\n",
       "      <td>0.155820</td>\n",
       "      <td>0.155633</td>\n",
       "      <td>0.155209</td>\n",
       "      <td>0.154536</td>\n",
       "      <td>0.153708</td>\n",
       "      <td>0.152895</td>\n",
       "      <td>0.152275</td>\n",
       "      <td>...</td>\n",
       "      <td>0.649723</td>\n",
       "      <td>0.636898</td>\n",
       "      <td>0.622430</td>\n",
       "      <td>0.606464</td>\n",
       "      <td>0.589966</td>\n",
       "      <td>0.572109</td>\n",
       "      <td>0.553575</td>\n",
       "      <td>0.535607</td>\n",
       "      <td>0.519349</td>\n",
       "      <td>0.504602</td>\n",
       "    </tr>\n",
       "    <tr>\n",
       "      <th>...</th>\n",
       "      <td>...</td>\n",
       "      <td>...</td>\n",
       "      <td>...</td>\n",
       "      <td>...</td>\n",
       "      <td>...</td>\n",
       "      <td>...</td>\n",
       "      <td>...</td>\n",
       "      <td>...</td>\n",
       "      <td>...</td>\n",
       "      <td>...</td>\n",
       "      <td>...</td>\n",
       "      <td>...</td>\n",
       "      <td>...</td>\n",
       "      <td>...</td>\n",
       "      <td>...</td>\n",
       "      <td>...</td>\n",
       "      <td>...</td>\n",
       "      <td>...</td>\n",
       "      <td>...</td>\n",
       "      <td>...</td>\n",
       "      <td>...</td>\n",
       "    </tr>\n",
       "    <tr>\n",
       "      <th>44821958</th>\n",
       "      <td>0.208904</td>\n",
       "      <td>0.193140</td>\n",
       "      <td>0.180362</td>\n",
       "      <td>0.171414</td>\n",
       "      <td>0.166299</td>\n",
       "      <td>0.164657</td>\n",
       "      <td>0.166086</td>\n",
       "      <td>0.170863</td>\n",
       "      <td>0.177226</td>\n",
       "      <td>0.183762</td>\n",
       "      <td>...</td>\n",
       "      <td>0.515444</td>\n",
       "      <td>0.490721</td>\n",
       "      <td>0.466861</td>\n",
       "      <td>0.443038</td>\n",
       "      <td>0.418419</td>\n",
       "      <td>0.392672</td>\n",
       "      <td>0.366430</td>\n",
       "      <td>0.339841</td>\n",
       "      <td>0.313590</td>\n",
       "      <td>0.288507</td>\n",
       "    </tr>\n",
       "    <tr>\n",
       "      <th>44823713</th>\n",
       "      <td>0.162150</td>\n",
       "      <td>0.156868</td>\n",
       "      <td>0.149513</td>\n",
       "      <td>0.141034</td>\n",
       "      <td>0.132535</td>\n",
       "      <td>0.125099</td>\n",
       "      <td>0.119511</td>\n",
       "      <td>0.115962</td>\n",
       "      <td>0.114586</td>\n",
       "      <td>0.115044</td>\n",
       "      <td>...</td>\n",
       "      <td>0.597929</td>\n",
       "      <td>0.592185</td>\n",
       "      <td>0.588348</td>\n",
       "      <td>0.584141</td>\n",
       "      <td>0.576993</td>\n",
       "      <td>0.564744</td>\n",
       "      <td>0.546472</td>\n",
       "      <td>0.522189</td>\n",
       "      <td>0.492911</td>\n",
       "      <td>0.460518</td>\n",
       "    </tr>\n",
       "    <tr>\n",
       "      <th>44825583</th>\n",
       "      <td>0.134134</td>\n",
       "      <td>0.133698</td>\n",
       "      <td>0.132636</td>\n",
       "      <td>0.131321</td>\n",
       "      <td>0.130153</td>\n",
       "      <td>0.129105</td>\n",
       "      <td>0.128346</td>\n",
       "      <td>0.128162</td>\n",
       "      <td>0.128358</td>\n",
       "      <td>0.128681</td>\n",
       "      <td>...</td>\n",
       "      <td>0.667009</td>\n",
       "      <td>0.623351</td>\n",
       "      <td>0.572997</td>\n",
       "      <td>0.524562</td>\n",
       "      <td>0.486136</td>\n",
       "      <td>0.462306</td>\n",
       "      <td>0.456943</td>\n",
       "      <td>0.470509</td>\n",
       "      <td>0.500459</td>\n",
       "      <td>0.541502</td>\n",
       "    </tr>\n",
       "    <tr>\n",
       "      <th>44825584</th>\n",
       "      <td>0.132938</td>\n",
       "      <td>0.131672</td>\n",
       "      <td>0.130218</td>\n",
       "      <td>0.128949</td>\n",
       "      <td>0.127808</td>\n",
       "      <td>0.127124</td>\n",
       "      <td>0.127135</td>\n",
       "      <td>0.127592</td>\n",
       "      <td>0.128185</td>\n",
       "      <td>0.129262</td>\n",
       "      <td>...</td>\n",
       "      <td>0.682535</td>\n",
       "      <td>0.632241</td>\n",
       "      <td>0.584629</td>\n",
       "      <td>0.547984</td>\n",
       "      <td>0.525726</td>\n",
       "      <td>0.521757</td>\n",
       "      <td>0.536450</td>\n",
       "      <td>0.567259</td>\n",
       "      <td>0.608947</td>\n",
       "      <td>0.656500</td>\n",
       "    </tr>\n",
       "    <tr>\n",
       "      <th>44825588</th>\n",
       "      <td>0.137332</td>\n",
       "      <td>0.137451</td>\n",
       "      <td>0.136831</td>\n",
       "      <td>0.135627</td>\n",
       "      <td>0.134226</td>\n",
       "      <td>0.133033</td>\n",
       "      <td>0.132001</td>\n",
       "      <td>0.131480</td>\n",
       "      <td>0.131723</td>\n",
       "      <td>0.132469</td>\n",
       "      <td>...</td>\n",
       "      <td>0.737759</td>\n",
       "      <td>0.720257</td>\n",
       "      <td>0.693439</td>\n",
       "      <td>0.661994</td>\n",
       "      <td>0.631634</td>\n",
       "      <td>0.607411</td>\n",
       "      <td>0.590750</td>\n",
       "      <td>0.584530</td>\n",
       "      <td>0.589200</td>\n",
       "      <td>0.603453</td>\n",
       "    </tr>\n",
       "  </tbody>\n",
       "</table>\n",
       "<p>3335 rows × 151 columns</p>\n",
       "</div>"
      ],
      "text/plain": [
       "               0         1         2         3         4         5    \\\n",
       "ID                                                                     \n",
       "27372538  0.194980  0.192986  0.191101  0.189331  0.187896  0.186686   \n",
       "27373355  0.198478  0.199403  0.201333  0.204019  0.207281  0.210804   \n",
       "27373448  0.188688  0.178671  0.171948  0.168351  0.167314  0.168347   \n",
       "27375514  0.163165  0.160597  0.157185  0.154936  0.153437  0.152205   \n",
       "27377300  0.156457  0.156022  0.155885  0.155820  0.155633  0.155209   \n",
       "...            ...       ...       ...       ...       ...       ...   \n",
       "44821958  0.208904  0.193140  0.180362  0.171414  0.166299  0.164657   \n",
       "44823713  0.162150  0.156868  0.149513  0.141034  0.132535  0.125099   \n",
       "44825583  0.134134  0.133698  0.132636  0.131321  0.130153  0.129105   \n",
       "44825584  0.132938  0.131672  0.130218  0.128949  0.127808  0.127124   \n",
       "44825588  0.137332  0.137451  0.136831  0.135627  0.134226  0.133033   \n",
       "\n",
       "               6         7         8         9    ...       141       142  \\\n",
       "ID                                                ...                       \n",
       "27372538  0.185429  0.183840  0.181470  0.179230  ...  0.405929  0.431660   \n",
       "27373355  0.214253  0.217358  0.219982  0.222152  ...  0.501326  0.490345   \n",
       "27373448  0.170614  0.173197  0.175324  0.176544  ...  0.748800  0.727428   \n",
       "27375514  0.150719  0.149214  0.146450  0.142786  ...  0.710844  0.702885   \n",
       "27377300  0.154536  0.153708  0.152895  0.152275  ...  0.649723  0.636898   \n",
       "...            ...       ...       ...       ...  ...       ...       ...   \n",
       "44821958  0.166086  0.170863  0.177226  0.183762  ...  0.515444  0.490721   \n",
       "44823713  0.119511  0.115962  0.114586  0.115044  ...  0.597929  0.592185   \n",
       "44825583  0.128346  0.128162  0.128358  0.128681  ...  0.667009  0.623351   \n",
       "44825584  0.127135  0.127592  0.128185  0.129262  ...  0.682535  0.632241   \n",
       "44825588  0.132001  0.131480  0.131723  0.132469  ...  0.737759  0.720257   \n",
       "\n",
       "               143       144       145       146       147       148  \\\n",
       "ID                                                                     \n",
       "27372538  0.462809  0.495549  0.525987  0.550701  0.567283  0.574762   \n",
       "27373355  0.479298  0.469905  0.461523  0.453544  0.445373  0.437943   \n",
       "27373448  0.702372  0.674918  0.648576  0.624197  0.602678  0.584390   \n",
       "27375514  0.689441  0.670864  0.648594  0.624883  0.602948  0.584290   \n",
       "27377300  0.622430  0.606464  0.589966  0.572109  0.553575  0.535607   \n",
       "...            ...       ...       ...       ...       ...       ...   \n",
       "44821958  0.466861  0.443038  0.418419  0.392672  0.366430  0.339841   \n",
       "44823713  0.588348  0.584141  0.576993  0.564744  0.546472  0.522189   \n",
       "44825583  0.572997  0.524562  0.486136  0.462306  0.456943  0.470509   \n",
       "44825584  0.584629  0.547984  0.525726  0.521757  0.536450  0.567259   \n",
       "44825588  0.693439  0.661994  0.631634  0.607411  0.590750  0.584530   \n",
       "\n",
       "               149       150  \n",
       "ID                            \n",
       "27372538  0.573828  0.566718  \n",
       "27373355  0.427807  0.415648  \n",
       "27373448  0.569867  0.557431  \n",
       "27375514  0.571241  0.565870  \n",
       "27377300  0.519349  0.504602  \n",
       "...            ...       ...  \n",
       "44821958  0.313590  0.288507  \n",
       "44823713  0.492911  0.460518  \n",
       "44825583  0.500459  0.541502  \n",
       "44825584  0.608947  0.656500  \n",
       "44825588  0.589200  0.603453  \n",
       "\n",
       "[3335 rows x 151 columns]"
      ]
     },
     "execution_count": 84,
     "metadata": {},
     "output_type": "execute_result"
    }
   ],
   "source": [
    "df_train_melhor"
   ]
  },
  {
   "cell_type": "code",
   "execution_count": 85,
   "id": "1e86773c-8d1c-406f-9409-6473aa90a8da",
   "metadata": {},
   "outputs": [],
   "source": [
    "df_train_melhor2=df_train_melhor.T"
   ]
  },
  {
   "cell_type": "code",
   "execution_count": 86,
   "id": "1164cc23-16e3-4333-9354-108418338fdc",
   "metadata": {},
   "outputs": [
    {
     "data": {
      "text/html": [
       "<div>\n",
       "<style scoped>\n",
       "    .dataframe tbody tr th:only-of-type {\n",
       "        vertical-align: middle;\n",
       "    }\n",
       "\n",
       "    .dataframe tbody tr th {\n",
       "        vertical-align: top;\n",
       "    }\n",
       "\n",
       "    .dataframe thead th {\n",
       "        text-align: right;\n",
       "    }\n",
       "</style>\n",
       "<table border=\"1\" class=\"dataframe\">\n",
       "  <thead>\n",
       "    <tr style=\"text-align: right;\">\n",
       "      <th>ID</th>\n",
       "      <th>27372538</th>\n",
       "      <th>27373355</th>\n",
       "      <th>27373448</th>\n",
       "      <th>27375514</th>\n",
       "      <th>27377300</th>\n",
       "      <th>27377321</th>\n",
       "      <th>27377323</th>\n",
       "      <th>27377390</th>\n",
       "      <th>27377393</th>\n",
       "      <th>27377452</th>\n",
       "      <th>...</th>\n",
       "      <th>44805278</th>\n",
       "      <th>44812160</th>\n",
       "      <th>44812167</th>\n",
       "      <th>44816601</th>\n",
       "      <th>44819099</th>\n",
       "      <th>44821958</th>\n",
       "      <th>44823713</th>\n",
       "      <th>44825583</th>\n",
       "      <th>44825584</th>\n",
       "      <th>44825588</th>\n",
       "    </tr>\n",
       "  </thead>\n",
       "  <tbody>\n",
       "    <tr>\n",
       "      <th>0</th>\n",
       "      <td>0.194980</td>\n",
       "      <td>0.198478</td>\n",
       "      <td>0.188688</td>\n",
       "      <td>0.163165</td>\n",
       "      <td>0.156457</td>\n",
       "      <td>0.202284</td>\n",
       "      <td>0.174118</td>\n",
       "      <td>0.211198</td>\n",
       "      <td>0.207484</td>\n",
       "      <td>0.177862</td>\n",
       "      <td>...</td>\n",
       "      <td>0.236032</td>\n",
       "      <td>0.215179</td>\n",
       "      <td>0.261090</td>\n",
       "      <td>0.166302</td>\n",
       "      <td>0.106072</td>\n",
       "      <td>0.208904</td>\n",
       "      <td>0.162150</td>\n",
       "      <td>0.134134</td>\n",
       "      <td>0.132938</td>\n",
       "      <td>0.137332</td>\n",
       "    </tr>\n",
       "    <tr>\n",
       "      <th>1</th>\n",
       "      <td>0.192986</td>\n",
       "      <td>0.199403</td>\n",
       "      <td>0.178671</td>\n",
       "      <td>0.160597</td>\n",
       "      <td>0.156022</td>\n",
       "      <td>0.202886</td>\n",
       "      <td>0.176230</td>\n",
       "      <td>0.210783</td>\n",
       "      <td>0.195292</td>\n",
       "      <td>0.178837</td>\n",
       "      <td>...</td>\n",
       "      <td>0.237364</td>\n",
       "      <td>0.195156</td>\n",
       "      <td>0.259026</td>\n",
       "      <td>0.168510</td>\n",
       "      <td>0.105282</td>\n",
       "      <td>0.193140</td>\n",
       "      <td>0.156868</td>\n",
       "      <td>0.133698</td>\n",
       "      <td>0.131672</td>\n",
       "      <td>0.137451</td>\n",
       "    </tr>\n",
       "    <tr>\n",
       "      <th>2</th>\n",
       "      <td>0.191101</td>\n",
       "      <td>0.201333</td>\n",
       "      <td>0.171948</td>\n",
       "      <td>0.157185</td>\n",
       "      <td>0.155885</td>\n",
       "      <td>0.200903</td>\n",
       "      <td>0.177177</td>\n",
       "      <td>0.209855</td>\n",
       "      <td>0.186293</td>\n",
       "      <td>0.179775</td>\n",
       "      <td>...</td>\n",
       "      <td>0.238752</td>\n",
       "      <td>0.183588</td>\n",
       "      <td>0.257729</td>\n",
       "      <td>0.170736</td>\n",
       "      <td>0.106482</td>\n",
       "      <td>0.180362</td>\n",
       "      <td>0.149513</td>\n",
       "      <td>0.132636</td>\n",
       "      <td>0.130218</td>\n",
       "      <td>0.136831</td>\n",
       "    </tr>\n",
       "    <tr>\n",
       "      <th>3</th>\n",
       "      <td>0.189331</td>\n",
       "      <td>0.204019</td>\n",
       "      <td>0.168351</td>\n",
       "      <td>0.154936</td>\n",
       "      <td>0.155820</td>\n",
       "      <td>0.197152</td>\n",
       "      <td>0.176900</td>\n",
       "      <td>0.209003</td>\n",
       "      <td>0.180266</td>\n",
       "      <td>0.180753</td>\n",
       "      <td>...</td>\n",
       "      <td>0.240195</td>\n",
       "      <td>0.180609</td>\n",
       "      <td>0.257292</td>\n",
       "      <td>0.172884</td>\n",
       "      <td>0.109613</td>\n",
       "      <td>0.171414</td>\n",
       "      <td>0.141034</td>\n",
       "      <td>0.131321</td>\n",
       "      <td>0.128949</td>\n",
       "      <td>0.135627</td>\n",
       "    </tr>\n",
       "    <tr>\n",
       "      <th>4</th>\n",
       "      <td>0.187896</td>\n",
       "      <td>0.207281</td>\n",
       "      <td>0.167314</td>\n",
       "      <td>0.153437</td>\n",
       "      <td>0.155633</td>\n",
       "      <td>0.193571</td>\n",
       "      <td>0.175878</td>\n",
       "      <td>0.208778</td>\n",
       "      <td>0.176759</td>\n",
       "      <td>0.181643</td>\n",
       "      <td>...</td>\n",
       "      <td>0.241597</td>\n",
       "      <td>0.182172</td>\n",
       "      <td>0.257792</td>\n",
       "      <td>0.174957</td>\n",
       "      <td>0.114868</td>\n",
       "      <td>0.166299</td>\n",
       "      <td>0.132535</td>\n",
       "      <td>0.130153</td>\n",
       "      <td>0.127808</td>\n",
       "      <td>0.134226</td>\n",
       "    </tr>\n",
       "    <tr>\n",
       "      <th>...</th>\n",
       "      <td>...</td>\n",
       "      <td>...</td>\n",
       "      <td>...</td>\n",
       "      <td>...</td>\n",
       "      <td>...</td>\n",
       "      <td>...</td>\n",
       "      <td>...</td>\n",
       "      <td>...</td>\n",
       "      <td>...</td>\n",
       "      <td>...</td>\n",
       "      <td>...</td>\n",
       "      <td>...</td>\n",
       "      <td>...</td>\n",
       "      <td>...</td>\n",
       "      <td>...</td>\n",
       "      <td>...</td>\n",
       "      <td>...</td>\n",
       "      <td>...</td>\n",
       "      <td>...</td>\n",
       "      <td>...</td>\n",
       "      <td>...</td>\n",
       "    </tr>\n",
       "    <tr>\n",
       "      <th>146</th>\n",
       "      <td>0.550701</td>\n",
       "      <td>0.453544</td>\n",
       "      <td>0.624197</td>\n",
       "      <td>0.624883</td>\n",
       "      <td>0.572109</td>\n",
       "      <td>0.767003</td>\n",
       "      <td>0.656246</td>\n",
       "      <td>0.487154</td>\n",
       "      <td>0.610604</td>\n",
       "      <td>0.478816</td>\n",
       "      <td>...</td>\n",
       "      <td>0.272239</td>\n",
       "      <td>0.374365</td>\n",
       "      <td>0.253522</td>\n",
       "      <td>0.428576</td>\n",
       "      <td>0.322097</td>\n",
       "      <td>0.392672</td>\n",
       "      <td>0.564744</td>\n",
       "      <td>0.462306</td>\n",
       "      <td>0.521757</td>\n",
       "      <td>0.607411</td>\n",
       "    </tr>\n",
       "    <tr>\n",
       "      <th>147</th>\n",
       "      <td>0.567283</td>\n",
       "      <td>0.445373</td>\n",
       "      <td>0.602678</td>\n",
       "      <td>0.602948</td>\n",
       "      <td>0.553575</td>\n",
       "      <td>0.763077</td>\n",
       "      <td>0.640712</td>\n",
       "      <td>0.471702</td>\n",
       "      <td>0.572242</td>\n",
       "      <td>0.464234</td>\n",
       "      <td>...</td>\n",
       "      <td>0.236009</td>\n",
       "      <td>0.357114</td>\n",
       "      <td>0.244873</td>\n",
       "      <td>0.426643</td>\n",
       "      <td>0.301447</td>\n",
       "      <td>0.366430</td>\n",
       "      <td>0.546472</td>\n",
       "      <td>0.456943</td>\n",
       "      <td>0.536450</td>\n",
       "      <td>0.590750</td>\n",
       "    </tr>\n",
       "    <tr>\n",
       "      <th>148</th>\n",
       "      <td>0.574762</td>\n",
       "      <td>0.437943</td>\n",
       "      <td>0.584390</td>\n",
       "      <td>0.584290</td>\n",
       "      <td>0.535607</td>\n",
       "      <td>0.760683</td>\n",
       "      <td>0.629797</td>\n",
       "      <td>0.457484</td>\n",
       "      <td>0.535626</td>\n",
       "      <td>0.450212</td>\n",
       "      <td>...</td>\n",
       "      <td>0.203515</td>\n",
       "      <td>0.335718</td>\n",
       "      <td>0.243221</td>\n",
       "      <td>0.422666</td>\n",
       "      <td>0.280825</td>\n",
       "      <td>0.339841</td>\n",
       "      <td>0.522189</td>\n",
       "      <td>0.470509</td>\n",
       "      <td>0.567259</td>\n",
       "      <td>0.584530</td>\n",
       "    </tr>\n",
       "    <tr>\n",
       "      <th>149</th>\n",
       "      <td>0.573828</td>\n",
       "      <td>0.427807</td>\n",
       "      <td>0.569867</td>\n",
       "      <td>0.571241</td>\n",
       "      <td>0.519349</td>\n",
       "      <td>0.756998</td>\n",
       "      <td>0.622720</td>\n",
       "      <td>0.443514</td>\n",
       "      <td>0.504059</td>\n",
       "      <td>0.436622</td>\n",
       "      <td>...</td>\n",
       "      <td>0.178322</td>\n",
       "      <td>0.311663</td>\n",
       "      <td>0.247586</td>\n",
       "      <td>0.415693</td>\n",
       "      <td>0.260720</td>\n",
       "      <td>0.313590</td>\n",
       "      <td>0.492911</td>\n",
       "      <td>0.500459</td>\n",
       "      <td>0.608947</td>\n",
       "      <td>0.589200</td>\n",
       "    </tr>\n",
       "    <tr>\n",
       "      <th>150</th>\n",
       "      <td>0.566718</td>\n",
       "      <td>0.415648</td>\n",
       "      <td>0.557431</td>\n",
       "      <td>0.565870</td>\n",
       "      <td>0.504602</td>\n",
       "      <td>0.749196</td>\n",
       "      <td>0.616565</td>\n",
       "      <td>0.430152</td>\n",
       "      <td>0.481208</td>\n",
       "      <td>0.421479</td>\n",
       "      <td>...</td>\n",
       "      <td>0.160763</td>\n",
       "      <td>0.287556</td>\n",
       "      <td>0.256249</td>\n",
       "      <td>0.408119</td>\n",
       "      <td>0.241719</td>\n",
       "      <td>0.288507</td>\n",
       "      <td>0.460518</td>\n",
       "      <td>0.541502</td>\n",
       "      <td>0.656500</td>\n",
       "      <td>0.603453</td>\n",
       "    </tr>\n",
       "  </tbody>\n",
       "</table>\n",
       "<p>151 rows × 3335 columns</p>\n",
       "</div>"
      ],
      "text/plain": [
       "ID   27372538  27373355  27373448  27375514  27377300  27377321  27377323  \\\n",
       "0    0.194980  0.198478  0.188688  0.163165  0.156457  0.202284  0.174118   \n",
       "1    0.192986  0.199403  0.178671  0.160597  0.156022  0.202886  0.176230   \n",
       "2    0.191101  0.201333  0.171948  0.157185  0.155885  0.200903  0.177177   \n",
       "3    0.189331  0.204019  0.168351  0.154936  0.155820  0.197152  0.176900   \n",
       "4    0.187896  0.207281  0.167314  0.153437  0.155633  0.193571  0.175878   \n",
       "..        ...       ...       ...       ...       ...       ...       ...   \n",
       "146  0.550701  0.453544  0.624197  0.624883  0.572109  0.767003  0.656246   \n",
       "147  0.567283  0.445373  0.602678  0.602948  0.553575  0.763077  0.640712   \n",
       "148  0.574762  0.437943  0.584390  0.584290  0.535607  0.760683  0.629797   \n",
       "149  0.573828  0.427807  0.569867  0.571241  0.519349  0.756998  0.622720   \n",
       "150  0.566718  0.415648  0.557431  0.565870  0.504602  0.749196  0.616565   \n",
       "\n",
       "ID   27377390  27377393  27377452  ...  44805278  44812160  44812167  \\\n",
       "0    0.211198  0.207484  0.177862  ...  0.236032  0.215179  0.261090   \n",
       "1    0.210783  0.195292  0.178837  ...  0.237364  0.195156  0.259026   \n",
       "2    0.209855  0.186293  0.179775  ...  0.238752  0.183588  0.257729   \n",
       "3    0.209003  0.180266  0.180753  ...  0.240195  0.180609  0.257292   \n",
       "4    0.208778  0.176759  0.181643  ...  0.241597  0.182172  0.257792   \n",
       "..        ...       ...       ...  ...       ...       ...       ...   \n",
       "146  0.487154  0.610604  0.478816  ...  0.272239  0.374365  0.253522   \n",
       "147  0.471702  0.572242  0.464234  ...  0.236009  0.357114  0.244873   \n",
       "148  0.457484  0.535626  0.450212  ...  0.203515  0.335718  0.243221   \n",
       "149  0.443514  0.504059  0.436622  ...  0.178322  0.311663  0.247586   \n",
       "150  0.430152  0.481208  0.421479  ...  0.160763  0.287556  0.256249   \n",
       "\n",
       "ID   44816601  44819099  44821958  44823713  44825583  44825584  44825588  \n",
       "0    0.166302  0.106072  0.208904  0.162150  0.134134  0.132938  0.137332  \n",
       "1    0.168510  0.105282  0.193140  0.156868  0.133698  0.131672  0.137451  \n",
       "2    0.170736  0.106482  0.180362  0.149513  0.132636  0.130218  0.136831  \n",
       "3    0.172884  0.109613  0.171414  0.141034  0.131321  0.128949  0.135627  \n",
       "4    0.174957  0.114868  0.166299  0.132535  0.130153  0.127808  0.134226  \n",
       "..        ...       ...       ...       ...       ...       ...       ...  \n",
       "146  0.428576  0.322097  0.392672  0.564744  0.462306  0.521757  0.607411  \n",
       "147  0.426643  0.301447  0.366430  0.546472  0.456943  0.536450  0.590750  \n",
       "148  0.422666  0.280825  0.339841  0.522189  0.470509  0.567259  0.584530  \n",
       "149  0.415693  0.260720  0.313590  0.492911  0.500459  0.608947  0.589200  \n",
       "150  0.408119  0.241719  0.288507  0.460518  0.541502  0.656500  0.603453  \n",
       "\n",
       "[151 rows x 3335 columns]"
      ]
     },
     "execution_count": 86,
     "metadata": {},
     "output_type": "execute_result"
    }
   ],
   "source": [
    "df_train_melhor2"
   ]
  },
  {
   "cell_type": "code",
   "execution_count": 87,
   "id": "86d0c433-4b1e-4070-88ef-ff1025246a41",
   "metadata": {},
   "outputs": [],
   "source": [
    "df_melhor2=df_melhor.T"
   ]
  },
  {
   "cell_type": "code",
   "execution_count": 88,
   "id": "4eba2a18-39a2-4c65-bcf5-9cb364d30f5a",
   "metadata": {},
   "outputs": [
    {
     "data": {
      "text/html": [
       "<div>\n",
       "<style scoped>\n",
       "    .dataframe tbody tr th:only-of-type {\n",
       "        vertical-align: middle;\n",
       "    }\n",
       "\n",
       "    .dataframe tbody tr th {\n",
       "        vertical-align: top;\n",
       "    }\n",
       "\n",
       "    .dataframe thead th {\n",
       "        text-align: right;\n",
       "    }\n",
       "</style>\n",
       "<table border=\"1\" class=\"dataframe\">\n",
       "  <thead>\n",
       "    <tr style=\"text-align: right;\">\n",
       "      <th>ID</th>\n",
       "      <th>26742</th>\n",
       "      <th>142399</th>\n",
       "      <th>147088</th>\n",
       "      <th>270735</th>\n",
       "      <th>270992</th>\n",
       "      <th>453335</th>\n",
       "      <th>744056</th>\n",
       "      <th>842397</th>\n",
       "      <th>1305223</th>\n",
       "      <th>1305481</th>\n",
       "      <th>...</th>\n",
       "      <th>44805278</th>\n",
       "      <th>44812160</th>\n",
       "      <th>44812167</th>\n",
       "      <th>44816601</th>\n",
       "      <th>44819099</th>\n",
       "      <th>44821958</th>\n",
       "      <th>44823713</th>\n",
       "      <th>44825583</th>\n",
       "      <th>44825584</th>\n",
       "      <th>44825588</th>\n",
       "    </tr>\n",
       "  </thead>\n",
       "  <tbody>\n",
       "    <tr>\n",
       "      <th>0</th>\n",
       "      <td>0.563713</td>\n",
       "      <td>0.470083</td>\n",
       "      <td>0.308383</td>\n",
       "      <td>0.316859</td>\n",
       "      <td>0.280677</td>\n",
       "      <td>0.341934</td>\n",
       "      <td>0.333029</td>\n",
       "      <td>0.294471</td>\n",
       "      <td>0.203654</td>\n",
       "      <td>0.142772</td>\n",
       "      <td>...</td>\n",
       "      <td>0.236032</td>\n",
       "      <td>0.215179</td>\n",
       "      <td>0.261090</td>\n",
       "      <td>0.166302</td>\n",
       "      <td>0.106072</td>\n",
       "      <td>0.208904</td>\n",
       "      <td>0.162150</td>\n",
       "      <td>0.134134</td>\n",
       "      <td>0.132938</td>\n",
       "      <td>0.137332</td>\n",
       "    </tr>\n",
       "    <tr>\n",
       "      <th>1</th>\n",
       "      <td>0.560264</td>\n",
       "      <td>0.456213</td>\n",
       "      <td>0.318156</td>\n",
       "      <td>0.311758</td>\n",
       "      <td>0.247293</td>\n",
       "      <td>0.333962</td>\n",
       "      <td>0.316644</td>\n",
       "      <td>0.287839</td>\n",
       "      <td>0.198472</td>\n",
       "      <td>0.139843</td>\n",
       "      <td>...</td>\n",
       "      <td>0.237364</td>\n",
       "      <td>0.195156</td>\n",
       "      <td>0.259026</td>\n",
       "      <td>0.168510</td>\n",
       "      <td>0.105282</td>\n",
       "      <td>0.193140</td>\n",
       "      <td>0.156868</td>\n",
       "      <td>0.133698</td>\n",
       "      <td>0.131672</td>\n",
       "      <td>0.137451</td>\n",
       "    </tr>\n",
       "    <tr>\n",
       "      <th>2</th>\n",
       "      <td>0.556886</td>\n",
       "      <td>0.447176</td>\n",
       "      <td>0.327082</td>\n",
       "      <td>0.306815</td>\n",
       "      <td>0.248641</td>\n",
       "      <td>0.326757</td>\n",
       "      <td>0.297726</td>\n",
       "      <td>0.280669</td>\n",
       "      <td>0.193234</td>\n",
       "      <td>0.138488</td>\n",
       "      <td>...</td>\n",
       "      <td>0.238752</td>\n",
       "      <td>0.183588</td>\n",
       "      <td>0.257729</td>\n",
       "      <td>0.170736</td>\n",
       "      <td>0.106482</td>\n",
       "      <td>0.180362</td>\n",
       "      <td>0.149513</td>\n",
       "      <td>0.132636</td>\n",
       "      <td>0.130218</td>\n",
       "      <td>0.136831</td>\n",
       "    </tr>\n",
       "    <tr>\n",
       "      <th>3</th>\n",
       "      <td>0.554148</td>\n",
       "      <td>0.441319</td>\n",
       "      <td>0.334986</td>\n",
       "      <td>0.302192</td>\n",
       "      <td>0.264244</td>\n",
       "      <td>0.321266</td>\n",
       "      <td>0.277142</td>\n",
       "      <td>0.272987</td>\n",
       "      <td>0.187995</td>\n",
       "      <td>0.138136</td>\n",
       "      <td>...</td>\n",
       "      <td>0.240195</td>\n",
       "      <td>0.180609</td>\n",
       "      <td>0.257292</td>\n",
       "      <td>0.172884</td>\n",
       "      <td>0.109613</td>\n",
       "      <td>0.171414</td>\n",
       "      <td>0.141034</td>\n",
       "      <td>0.131321</td>\n",
       "      <td>0.128949</td>\n",
       "      <td>0.135627</td>\n",
       "    </tr>\n",
       "    <tr>\n",
       "      <th>4</th>\n",
       "      <td>0.552091</td>\n",
       "      <td>0.437537</td>\n",
       "      <td>0.342072</td>\n",
       "      <td>0.297971</td>\n",
       "      <td>0.280515</td>\n",
       "      <td>0.317887</td>\n",
       "      <td>0.256130</td>\n",
       "      <td>0.264871</td>\n",
       "      <td>0.182809</td>\n",
       "      <td>0.138187</td>\n",
       "      <td>...</td>\n",
       "      <td>0.241597</td>\n",
       "      <td>0.182172</td>\n",
       "      <td>0.257792</td>\n",
       "      <td>0.174957</td>\n",
       "      <td>0.114868</td>\n",
       "      <td>0.166299</td>\n",
       "      <td>0.132535</td>\n",
       "      <td>0.130153</td>\n",
       "      <td>0.127808</td>\n",
       "      <td>0.134226</td>\n",
       "    </tr>\n",
       "    <tr>\n",
       "      <th>...</th>\n",
       "      <td>...</td>\n",
       "      <td>...</td>\n",
       "      <td>...</td>\n",
       "      <td>...</td>\n",
       "      <td>...</td>\n",
       "      <td>...</td>\n",
       "      <td>...</td>\n",
       "      <td>...</td>\n",
       "      <td>...</td>\n",
       "      <td>...</td>\n",
       "      <td>...</td>\n",
       "      <td>...</td>\n",
       "      <td>...</td>\n",
       "      <td>...</td>\n",
       "      <td>...</td>\n",
       "      <td>...</td>\n",
       "      <td>...</td>\n",
       "      <td>...</td>\n",
       "      <td>...</td>\n",
       "      <td>...</td>\n",
       "      <td>...</td>\n",
       "    </tr>\n",
       "    <tr>\n",
       "      <th>146</th>\n",
       "      <td>0.576537</td>\n",
       "      <td>0.548612</td>\n",
       "      <td>0.528169</td>\n",
       "      <td>0.291109</td>\n",
       "      <td>0.067956</td>\n",
       "      <td>0.215330</td>\n",
       "      <td>0.476180</td>\n",
       "      <td>0.562279</td>\n",
       "      <td>0.291825</td>\n",
       "      <td>0.200714</td>\n",
       "      <td>...</td>\n",
       "      <td>0.272239</td>\n",
       "      <td>0.374365</td>\n",
       "      <td>0.253522</td>\n",
       "      <td>0.428576</td>\n",
       "      <td>0.322097</td>\n",
       "      <td>0.392672</td>\n",
       "      <td>0.564744</td>\n",
       "      <td>0.462306</td>\n",
       "      <td>0.521757</td>\n",
       "      <td>0.607411</td>\n",
       "    </tr>\n",
       "    <tr>\n",
       "      <th>147</th>\n",
       "      <td>0.579194</td>\n",
       "      <td>0.561625</td>\n",
       "      <td>0.464739</td>\n",
       "      <td>0.283541</td>\n",
       "      <td>0.059748</td>\n",
       "      <td>0.243821</td>\n",
       "      <td>0.461089</td>\n",
       "      <td>0.564762</td>\n",
       "      <td>0.267701</td>\n",
       "      <td>0.203888</td>\n",
       "      <td>...</td>\n",
       "      <td>0.236009</td>\n",
       "      <td>0.357114</td>\n",
       "      <td>0.244873</td>\n",
       "      <td>0.426643</td>\n",
       "      <td>0.301447</td>\n",
       "      <td>0.366430</td>\n",
       "      <td>0.546472</td>\n",
       "      <td>0.456943</td>\n",
       "      <td>0.536450</td>\n",
       "      <td>0.590750</td>\n",
       "    </tr>\n",
       "    <tr>\n",
       "      <th>148</th>\n",
       "      <td>0.601217</td>\n",
       "      <td>0.572748</td>\n",
       "      <td>0.395690</td>\n",
       "      <td>0.283024</td>\n",
       "      <td>0.062470</td>\n",
       "      <td>0.293038</td>\n",
       "      <td>0.445459</td>\n",
       "      <td>0.566540</td>\n",
       "      <td>0.246036</td>\n",
       "      <td>0.209335</td>\n",
       "      <td>...</td>\n",
       "      <td>0.203515</td>\n",
       "      <td>0.335718</td>\n",
       "      <td>0.243221</td>\n",
       "      <td>0.422666</td>\n",
       "      <td>0.280825</td>\n",
       "      <td>0.339841</td>\n",
       "      <td>0.522189</td>\n",
       "      <td>0.470509</td>\n",
       "      <td>0.567259</td>\n",
       "      <td>0.584530</td>\n",
       "    </tr>\n",
       "    <tr>\n",
       "      <th>149</th>\n",
       "      <td>0.638049</td>\n",
       "      <td>0.582003</td>\n",
       "      <td>0.333837</td>\n",
       "      <td>0.288093</td>\n",
       "      <td>0.073268</td>\n",
       "      <td>0.361633</td>\n",
       "      <td>0.428982</td>\n",
       "      <td>0.567233</td>\n",
       "      <td>0.235402</td>\n",
       "      <td>0.214825</td>\n",
       "      <td>...</td>\n",
       "      <td>0.178322</td>\n",
       "      <td>0.311663</td>\n",
       "      <td>0.247586</td>\n",
       "      <td>0.415693</td>\n",
       "      <td>0.260720</td>\n",
       "      <td>0.313590</td>\n",
       "      <td>0.492911</td>\n",
       "      <td>0.500459</td>\n",
       "      <td>0.608947</td>\n",
       "      <td>0.589200</td>\n",
       "    </tr>\n",
       "    <tr>\n",
       "      <th>150</th>\n",
       "      <td>0.682996</td>\n",
       "      <td>0.591512</td>\n",
       "      <td>0.289672</td>\n",
       "      <td>0.296885</td>\n",
       "      <td>0.088877</td>\n",
       "      <td>0.440106</td>\n",
       "      <td>0.412122</td>\n",
       "      <td>0.567843</td>\n",
       "      <td>0.230191</td>\n",
       "      <td>0.218877</td>\n",
       "      <td>...</td>\n",
       "      <td>0.160763</td>\n",
       "      <td>0.287556</td>\n",
       "      <td>0.256249</td>\n",
       "      <td>0.408119</td>\n",
       "      <td>0.241719</td>\n",
       "      <td>0.288507</td>\n",
       "      <td>0.460518</td>\n",
       "      <td>0.541502</td>\n",
       "      <td>0.656500</td>\n",
       "      <td>0.603453</td>\n",
       "    </tr>\n",
       "  </tbody>\n",
       "</table>\n",
       "<p>151 rows × 4779 columns</p>\n",
       "</div>"
      ],
      "text/plain": [
       "ID   26742     142399    147088    270735    270992    453335    744056    \\\n",
       "0    0.563713  0.470083  0.308383  0.316859  0.280677  0.341934  0.333029   \n",
       "1    0.560264  0.456213  0.318156  0.311758  0.247293  0.333962  0.316644   \n",
       "2    0.556886  0.447176  0.327082  0.306815  0.248641  0.326757  0.297726   \n",
       "3    0.554148  0.441319  0.334986  0.302192  0.264244  0.321266  0.277142   \n",
       "4    0.552091  0.437537  0.342072  0.297971  0.280515  0.317887  0.256130   \n",
       "..        ...       ...       ...       ...       ...       ...       ...   \n",
       "146  0.576537  0.548612  0.528169  0.291109  0.067956  0.215330  0.476180   \n",
       "147  0.579194  0.561625  0.464739  0.283541  0.059748  0.243821  0.461089   \n",
       "148  0.601217  0.572748  0.395690  0.283024  0.062470  0.293038  0.445459   \n",
       "149  0.638049  0.582003  0.333837  0.288093  0.073268  0.361633  0.428982   \n",
       "150  0.682996  0.591512  0.289672  0.296885  0.088877  0.440106  0.412122   \n",
       "\n",
       "ID   842397    1305223   1305481   ...  44805278  44812160  44812167  \\\n",
       "0    0.294471  0.203654  0.142772  ...  0.236032  0.215179  0.261090   \n",
       "1    0.287839  0.198472  0.139843  ...  0.237364  0.195156  0.259026   \n",
       "2    0.280669  0.193234  0.138488  ...  0.238752  0.183588  0.257729   \n",
       "3    0.272987  0.187995  0.138136  ...  0.240195  0.180609  0.257292   \n",
       "4    0.264871  0.182809  0.138187  ...  0.241597  0.182172  0.257792   \n",
       "..        ...       ...       ...  ...       ...       ...       ...   \n",
       "146  0.562279  0.291825  0.200714  ...  0.272239  0.374365  0.253522   \n",
       "147  0.564762  0.267701  0.203888  ...  0.236009  0.357114  0.244873   \n",
       "148  0.566540  0.246036  0.209335  ...  0.203515  0.335718  0.243221   \n",
       "149  0.567233  0.235402  0.214825  ...  0.178322  0.311663  0.247586   \n",
       "150  0.567843  0.230191  0.218877  ...  0.160763  0.287556  0.256249   \n",
       "\n",
       "ID   44816601  44819099  44821958  44823713  44825583  44825584  44825588  \n",
       "0    0.166302  0.106072  0.208904  0.162150  0.134134  0.132938  0.137332  \n",
       "1    0.168510  0.105282  0.193140  0.156868  0.133698  0.131672  0.137451  \n",
       "2    0.170736  0.106482  0.180362  0.149513  0.132636  0.130218  0.136831  \n",
       "3    0.172884  0.109613  0.171414  0.141034  0.131321  0.128949  0.135627  \n",
       "4    0.174957  0.114868  0.166299  0.132535  0.130153  0.127808  0.134226  \n",
       "..        ...       ...       ...       ...       ...       ...       ...  \n",
       "146  0.428576  0.322097  0.392672  0.564744  0.462306  0.521757  0.607411  \n",
       "147  0.426643  0.301447  0.366430  0.546472  0.456943  0.536450  0.590750  \n",
       "148  0.422666  0.280825  0.339841  0.522189  0.470509  0.567259  0.584530  \n",
       "149  0.415693  0.260720  0.313590  0.492911  0.500459  0.608947  0.589200  \n",
       "150  0.408119  0.241719  0.288507  0.460518  0.541502  0.656500  0.603453  \n",
       "\n",
       "[151 rows x 4779 columns]"
      ]
     },
     "execution_count": 88,
     "metadata": {},
     "output_type": "execute_result"
    }
   ],
   "source": [
    "df_melhor2"
   ]
  },
  {
   "cell_type": "code",
   "execution_count": 89,
   "id": "02f5f293-4012-4232-ab12-7ac058843257",
   "metadata": {},
   "outputs": [],
   "source": [
    "df_test_melhor=df_melhor[:1433]"
   ]
  },
  {
   "cell_type": "code",
   "execution_count": 90,
   "id": "d944027f-96a6-481a-a330-91d45b02d60d",
   "metadata": {},
   "outputs": [
    {
     "data": {
      "text/html": [
       "<div>\n",
       "<style scoped>\n",
       "    .dataframe tbody tr th:only-of-type {\n",
       "        vertical-align: middle;\n",
       "    }\n",
       "\n",
       "    .dataframe tbody tr th {\n",
       "        vertical-align: top;\n",
       "    }\n",
       "\n",
       "    .dataframe thead th {\n",
       "        text-align: right;\n",
       "    }\n",
       "</style>\n",
       "<table border=\"1\" class=\"dataframe\">\n",
       "  <thead>\n",
       "    <tr style=\"text-align: right;\">\n",
       "      <th></th>\n",
       "      <th>0</th>\n",
       "      <th>1</th>\n",
       "      <th>2</th>\n",
       "      <th>3</th>\n",
       "      <th>4</th>\n",
       "      <th>5</th>\n",
       "      <th>6</th>\n",
       "      <th>7</th>\n",
       "      <th>8</th>\n",
       "      <th>9</th>\n",
       "      <th>...</th>\n",
       "      <th>141</th>\n",
       "      <th>142</th>\n",
       "      <th>143</th>\n",
       "      <th>144</th>\n",
       "      <th>145</th>\n",
       "      <th>146</th>\n",
       "      <th>147</th>\n",
       "      <th>148</th>\n",
       "      <th>149</th>\n",
       "      <th>150</th>\n",
       "    </tr>\n",
       "    <tr>\n",
       "      <th>ID</th>\n",
       "      <th></th>\n",
       "      <th></th>\n",
       "      <th></th>\n",
       "      <th></th>\n",
       "      <th></th>\n",
       "      <th></th>\n",
       "      <th></th>\n",
       "      <th></th>\n",
       "      <th></th>\n",
       "      <th></th>\n",
       "      <th></th>\n",
       "      <th></th>\n",
       "      <th></th>\n",
       "      <th></th>\n",
       "      <th></th>\n",
       "      <th></th>\n",
       "      <th></th>\n",
       "      <th></th>\n",
       "      <th></th>\n",
       "      <th></th>\n",
       "      <th></th>\n",
       "    </tr>\n",
       "  </thead>\n",
       "  <tbody>\n",
       "    <tr>\n",
       "      <th>26742</th>\n",
       "      <td>0.563713</td>\n",
       "      <td>0.560264</td>\n",
       "      <td>0.556886</td>\n",
       "      <td>0.554148</td>\n",
       "      <td>0.552091</td>\n",
       "      <td>0.549494</td>\n",
       "      <td>0.546906</td>\n",
       "      <td>0.544319</td>\n",
       "      <td>0.541724</td>\n",
       "      <td>0.538992</td>\n",
       "      <td>...</td>\n",
       "      <td>0.772432</td>\n",
       "      <td>0.728093</td>\n",
       "      <td>0.677266</td>\n",
       "      <td>0.628337</td>\n",
       "      <td>0.593829</td>\n",
       "      <td>0.576537</td>\n",
       "      <td>0.579194</td>\n",
       "      <td>0.601217</td>\n",
       "      <td>0.638049</td>\n",
       "      <td>0.682996</td>\n",
       "    </tr>\n",
       "    <tr>\n",
       "      <th>142399</th>\n",
       "      <td>0.470083</td>\n",
       "      <td>0.456213</td>\n",
       "      <td>0.447176</td>\n",
       "      <td>0.441319</td>\n",
       "      <td>0.437537</td>\n",
       "      <td>0.435142</td>\n",
       "      <td>0.433732</td>\n",
       "      <td>0.433092</td>\n",
       "      <td>0.433107</td>\n",
       "      <td>0.433689</td>\n",
       "      <td>...</td>\n",
       "      <td>0.474007</td>\n",
       "      <td>0.478298</td>\n",
       "      <td>0.492096</td>\n",
       "      <td>0.511191</td>\n",
       "      <td>0.531268</td>\n",
       "      <td>0.548612</td>\n",
       "      <td>0.561625</td>\n",
       "      <td>0.572748</td>\n",
       "      <td>0.582003</td>\n",
       "      <td>0.591512</td>\n",
       "    </tr>\n",
       "    <tr>\n",
       "      <th>147088</th>\n",
       "      <td>0.308383</td>\n",
       "      <td>0.318156</td>\n",
       "      <td>0.327082</td>\n",
       "      <td>0.334986</td>\n",
       "      <td>0.342072</td>\n",
       "      <td>0.348777</td>\n",
       "      <td>0.355833</td>\n",
       "      <td>0.363904</td>\n",
       "      <td>0.373540</td>\n",
       "      <td>0.384928</td>\n",
       "      <td>...</td>\n",
       "      <td>0.589020</td>\n",
       "      <td>0.602360</td>\n",
       "      <td>0.608966</td>\n",
       "      <td>0.600421</td>\n",
       "      <td>0.574885</td>\n",
       "      <td>0.528169</td>\n",
       "      <td>0.464739</td>\n",
       "      <td>0.395690</td>\n",
       "      <td>0.333837</td>\n",
       "      <td>0.289672</td>\n",
       "    </tr>\n",
       "    <tr>\n",
       "      <th>270735</th>\n",
       "      <td>0.316859</td>\n",
       "      <td>0.311758</td>\n",
       "      <td>0.306815</td>\n",
       "      <td>0.302192</td>\n",
       "      <td>0.297971</td>\n",
       "      <td>0.293972</td>\n",
       "      <td>0.290861</td>\n",
       "      <td>0.288315</td>\n",
       "      <td>0.285816</td>\n",
       "      <td>0.282859</td>\n",
       "      <td>...</td>\n",
       "      <td>0.407487</td>\n",
       "      <td>0.381179</td>\n",
       "      <td>0.354117</td>\n",
       "      <td>0.328446</td>\n",
       "      <td>0.306215</td>\n",
       "      <td>0.291109</td>\n",
       "      <td>0.283541</td>\n",
       "      <td>0.283024</td>\n",
       "      <td>0.288093</td>\n",
       "      <td>0.296885</td>\n",
       "    </tr>\n",
       "    <tr>\n",
       "      <th>270992</th>\n",
       "      <td>0.280677</td>\n",
       "      <td>0.247293</td>\n",
       "      <td>0.248641</td>\n",
       "      <td>0.264244</td>\n",
       "      <td>0.280515</td>\n",
       "      <td>0.289451</td>\n",
       "      <td>0.287422</td>\n",
       "      <td>0.274091</td>\n",
       "      <td>0.251438</td>\n",
       "      <td>0.222905</td>\n",
       "      <td>...</td>\n",
       "      <td>0.253309</td>\n",
       "      <td>0.205395</td>\n",
       "      <td>0.159386</td>\n",
       "      <td>0.119256</td>\n",
       "      <td>0.088049</td>\n",
       "      <td>0.067956</td>\n",
       "      <td>0.059748</td>\n",
       "      <td>0.062470</td>\n",
       "      <td>0.073268</td>\n",
       "      <td>0.088877</td>\n",
       "    </tr>\n",
       "    <tr>\n",
       "      <th>...</th>\n",
       "      <td>...</td>\n",
       "      <td>...</td>\n",
       "      <td>...</td>\n",
       "      <td>...</td>\n",
       "      <td>...</td>\n",
       "      <td>...</td>\n",
       "      <td>...</td>\n",
       "      <td>...</td>\n",
       "      <td>...</td>\n",
       "      <td>...</td>\n",
       "      <td>...</td>\n",
       "      <td>...</td>\n",
       "      <td>...</td>\n",
       "      <td>...</td>\n",
       "      <td>...</td>\n",
       "      <td>...</td>\n",
       "      <td>...</td>\n",
       "      <td>...</td>\n",
       "      <td>...</td>\n",
       "      <td>...</td>\n",
       "      <td>...</td>\n",
       "    </tr>\n",
       "    <tr>\n",
       "      <th>26952289</th>\n",
       "      <td>0.145991</td>\n",
       "      <td>0.145296</td>\n",
       "      <td>0.144920</td>\n",
       "      <td>0.144927</td>\n",
       "      <td>0.145394</td>\n",
       "      <td>0.146372</td>\n",
       "      <td>0.147863</td>\n",
       "      <td>0.149658</td>\n",
       "      <td>0.151976</td>\n",
       "      <td>0.154654</td>\n",
       "      <td>...</td>\n",
       "      <td>0.662812</td>\n",
       "      <td>0.656031</td>\n",
       "      <td>0.644764</td>\n",
       "      <td>0.629180</td>\n",
       "      <td>0.610328</td>\n",
       "      <td>0.589949</td>\n",
       "      <td>0.571940</td>\n",
       "      <td>0.554649</td>\n",
       "      <td>0.540123</td>\n",
       "      <td>0.531487</td>\n",
       "    </tr>\n",
       "    <tr>\n",
       "      <th>26952760</th>\n",
       "      <td>0.178142</td>\n",
       "      <td>0.180661</td>\n",
       "      <td>0.181830</td>\n",
       "      <td>0.181877</td>\n",
       "      <td>0.181798</td>\n",
       "      <td>0.182622</td>\n",
       "      <td>0.183140</td>\n",
       "      <td>0.187278</td>\n",
       "      <td>0.194141</td>\n",
       "      <td>0.200650</td>\n",
       "      <td>...</td>\n",
       "      <td>0.618854</td>\n",
       "      <td>0.609395</td>\n",
       "      <td>0.598461</td>\n",
       "      <td>0.587254</td>\n",
       "      <td>0.577059</td>\n",
       "      <td>0.566856</td>\n",
       "      <td>0.560754</td>\n",
       "      <td>0.557878</td>\n",
       "      <td>0.555043</td>\n",
       "      <td>0.548636</td>\n",
       "    </tr>\n",
       "    <tr>\n",
       "      <th>26972807</th>\n",
       "      <td>0.227402</td>\n",
       "      <td>0.226167</td>\n",
       "      <td>0.226354</td>\n",
       "      <td>0.226721</td>\n",
       "      <td>0.226914</td>\n",
       "      <td>0.226696</td>\n",
       "      <td>0.225857</td>\n",
       "      <td>0.223947</td>\n",
       "      <td>0.221544</td>\n",
       "      <td>0.219192</td>\n",
       "      <td>...</td>\n",
       "      <td>0.513622</td>\n",
       "      <td>0.502560</td>\n",
       "      <td>0.490453</td>\n",
       "      <td>0.477754</td>\n",
       "      <td>0.465108</td>\n",
       "      <td>0.453101</td>\n",
       "      <td>0.442733</td>\n",
       "      <td>0.434544</td>\n",
       "      <td>0.428717</td>\n",
       "      <td>0.425153</td>\n",
       "    </tr>\n",
       "    <tr>\n",
       "      <th>26980434</th>\n",
       "      <td>0.317432</td>\n",
       "      <td>0.319346</td>\n",
       "      <td>0.321306</td>\n",
       "      <td>0.323210</td>\n",
       "      <td>0.324995</td>\n",
       "      <td>0.326655</td>\n",
       "      <td>0.328239</td>\n",
       "      <td>0.329834</td>\n",
       "      <td>0.331522</td>\n",
       "      <td>0.333311</td>\n",
       "      <td>...</td>\n",
       "      <td>0.580762</td>\n",
       "      <td>0.578886</td>\n",
       "      <td>0.577072</td>\n",
       "      <td>0.575121</td>\n",
       "      <td>0.572877</td>\n",
       "      <td>0.570264</td>\n",
       "      <td>0.567289</td>\n",
       "      <td>0.564003</td>\n",
       "      <td>0.560415</td>\n",
       "      <td>0.556475</td>\n",
       "    </tr>\n",
       "    <tr>\n",
       "      <th>26990388</th>\n",
       "      <td>0.127369</td>\n",
       "      <td>0.123473</td>\n",
       "      <td>0.120797</td>\n",
       "      <td>0.118689</td>\n",
       "      <td>0.117728</td>\n",
       "      <td>0.117974</td>\n",
       "      <td>0.119363</td>\n",
       "      <td>0.121270</td>\n",
       "      <td>0.124456</td>\n",
       "      <td>0.128578</td>\n",
       "      <td>...</td>\n",
       "      <td>0.522657</td>\n",
       "      <td>0.514089</td>\n",
       "      <td>0.505833</td>\n",
       "      <td>0.497761</td>\n",
       "      <td>0.489762</td>\n",
       "      <td>0.481709</td>\n",
       "      <td>0.474938</td>\n",
       "      <td>0.465565</td>\n",
       "      <td>0.454212</td>\n",
       "      <td>0.442882</td>\n",
       "    </tr>\n",
       "  </tbody>\n",
       "</table>\n",
       "<p>1433 rows × 151 columns</p>\n",
       "</div>"
      ],
      "text/plain": [
       "               0         1         2         3         4         5    \\\n",
       "ID                                                                     \n",
       "26742     0.563713  0.560264  0.556886  0.554148  0.552091  0.549494   \n",
       "142399    0.470083  0.456213  0.447176  0.441319  0.437537  0.435142   \n",
       "147088    0.308383  0.318156  0.327082  0.334986  0.342072  0.348777   \n",
       "270735    0.316859  0.311758  0.306815  0.302192  0.297971  0.293972   \n",
       "270992    0.280677  0.247293  0.248641  0.264244  0.280515  0.289451   \n",
       "...            ...       ...       ...       ...       ...       ...   \n",
       "26952289  0.145991  0.145296  0.144920  0.144927  0.145394  0.146372   \n",
       "26952760  0.178142  0.180661  0.181830  0.181877  0.181798  0.182622   \n",
       "26972807  0.227402  0.226167  0.226354  0.226721  0.226914  0.226696   \n",
       "26980434  0.317432  0.319346  0.321306  0.323210  0.324995  0.326655   \n",
       "26990388  0.127369  0.123473  0.120797  0.118689  0.117728  0.117974   \n",
       "\n",
       "               6         7         8         9    ...       141       142  \\\n",
       "ID                                                ...                       \n",
       "26742     0.546906  0.544319  0.541724  0.538992  ...  0.772432  0.728093   \n",
       "142399    0.433732  0.433092  0.433107  0.433689  ...  0.474007  0.478298   \n",
       "147088    0.355833  0.363904  0.373540  0.384928  ...  0.589020  0.602360   \n",
       "270735    0.290861  0.288315  0.285816  0.282859  ...  0.407487  0.381179   \n",
       "270992    0.287422  0.274091  0.251438  0.222905  ...  0.253309  0.205395   \n",
       "...            ...       ...       ...       ...  ...       ...       ...   \n",
       "26952289  0.147863  0.149658  0.151976  0.154654  ...  0.662812  0.656031   \n",
       "26952760  0.183140  0.187278  0.194141  0.200650  ...  0.618854  0.609395   \n",
       "26972807  0.225857  0.223947  0.221544  0.219192  ...  0.513622  0.502560   \n",
       "26980434  0.328239  0.329834  0.331522  0.333311  ...  0.580762  0.578886   \n",
       "26990388  0.119363  0.121270  0.124456  0.128578  ...  0.522657  0.514089   \n",
       "\n",
       "               143       144       145       146       147       148  \\\n",
       "ID                                                                     \n",
       "26742     0.677266  0.628337  0.593829  0.576537  0.579194  0.601217   \n",
       "142399    0.492096  0.511191  0.531268  0.548612  0.561625  0.572748   \n",
       "147088    0.608966  0.600421  0.574885  0.528169  0.464739  0.395690   \n",
       "270735    0.354117  0.328446  0.306215  0.291109  0.283541  0.283024   \n",
       "270992    0.159386  0.119256  0.088049  0.067956  0.059748  0.062470   \n",
       "...            ...       ...       ...       ...       ...       ...   \n",
       "26952289  0.644764  0.629180  0.610328  0.589949  0.571940  0.554649   \n",
       "26952760  0.598461  0.587254  0.577059  0.566856  0.560754  0.557878   \n",
       "26972807  0.490453  0.477754  0.465108  0.453101  0.442733  0.434544   \n",
       "26980434  0.577072  0.575121  0.572877  0.570264  0.567289  0.564003   \n",
       "26990388  0.505833  0.497761  0.489762  0.481709  0.474938  0.465565   \n",
       "\n",
       "               149       150  \n",
       "ID                            \n",
       "26742     0.638049  0.682996  \n",
       "142399    0.582003  0.591512  \n",
       "147088    0.333837  0.289672  \n",
       "270735    0.288093  0.296885  \n",
       "270992    0.073268  0.088877  \n",
       "...            ...       ...  \n",
       "26952289  0.540123  0.531487  \n",
       "26952760  0.555043  0.548636  \n",
       "26972807  0.428717  0.425153  \n",
       "26980434  0.560415  0.556475  \n",
       "26990388  0.454212  0.442882  \n",
       "\n",
       "[1433 rows x 151 columns]"
      ]
     },
     "execution_count": 90,
     "metadata": {},
     "output_type": "execute_result"
    }
   ],
   "source": [
    "df_test_melhor"
   ]
  },
  {
   "cell_type": "code",
   "execution_count": 91,
   "id": "95263d12-5309-4002-8af8-0c9e3bad96c4",
   "metadata": {},
   "outputs": [],
   "source": [
    "df_test_melhor2=df_test_melhor.T"
   ]
  },
  {
   "cell_type": "code",
   "execution_count": 92,
   "id": "3bcb6cc1-ed26-4bc0-b327-0e69d1900ac4",
   "metadata": {},
   "outputs": [
    {
     "data": {
      "text/html": [
       "<div>\n",
       "<style scoped>\n",
       "    .dataframe tbody tr th:only-of-type {\n",
       "        vertical-align: middle;\n",
       "    }\n",
       "\n",
       "    .dataframe tbody tr th {\n",
       "        vertical-align: top;\n",
       "    }\n",
       "\n",
       "    .dataframe thead th {\n",
       "        text-align: right;\n",
       "    }\n",
       "</style>\n",
       "<table border=\"1\" class=\"dataframe\">\n",
       "  <thead>\n",
       "    <tr style=\"text-align: right;\">\n",
       "      <th>ID</th>\n",
       "      <th>26742</th>\n",
       "      <th>142399</th>\n",
       "      <th>147088</th>\n",
       "      <th>270735</th>\n",
       "      <th>270992</th>\n",
       "      <th>453335</th>\n",
       "      <th>744056</th>\n",
       "      <th>842397</th>\n",
       "      <th>1305223</th>\n",
       "      <th>1305481</th>\n",
       "      <th>...</th>\n",
       "      <th>26945779</th>\n",
       "      <th>26946919</th>\n",
       "      <th>26947731</th>\n",
       "      <th>26948629</th>\n",
       "      <th>26949198</th>\n",
       "      <th>26952289</th>\n",
       "      <th>26952760</th>\n",
       "      <th>26972807</th>\n",
       "      <th>26980434</th>\n",
       "      <th>26990388</th>\n",
       "    </tr>\n",
       "  </thead>\n",
       "  <tbody>\n",
       "    <tr>\n",
       "      <th>0</th>\n",
       "      <td>0.563713</td>\n",
       "      <td>0.470083</td>\n",
       "      <td>0.308383</td>\n",
       "      <td>0.316859</td>\n",
       "      <td>0.280677</td>\n",
       "      <td>0.341934</td>\n",
       "      <td>0.333029</td>\n",
       "      <td>0.294471</td>\n",
       "      <td>0.203654</td>\n",
       "      <td>0.142772</td>\n",
       "      <td>...</td>\n",
       "      <td>0.126495</td>\n",
       "      <td>0.215254</td>\n",
       "      <td>0.302196</td>\n",
       "      <td>0.279138</td>\n",
       "      <td>0.316459</td>\n",
       "      <td>0.145991</td>\n",
       "      <td>0.178142</td>\n",
       "      <td>0.227402</td>\n",
       "      <td>0.317432</td>\n",
       "      <td>0.127369</td>\n",
       "    </tr>\n",
       "    <tr>\n",
       "      <th>1</th>\n",
       "      <td>0.560264</td>\n",
       "      <td>0.456213</td>\n",
       "      <td>0.318156</td>\n",
       "      <td>0.311758</td>\n",
       "      <td>0.247293</td>\n",
       "      <td>0.333962</td>\n",
       "      <td>0.316644</td>\n",
       "      <td>0.287839</td>\n",
       "      <td>0.198472</td>\n",
       "      <td>0.139843</td>\n",
       "      <td>...</td>\n",
       "      <td>0.124353</td>\n",
       "      <td>0.211496</td>\n",
       "      <td>0.291880</td>\n",
       "      <td>0.282436</td>\n",
       "      <td>0.321975</td>\n",
       "      <td>0.145296</td>\n",
       "      <td>0.180661</td>\n",
       "      <td>0.226167</td>\n",
       "      <td>0.319346</td>\n",
       "      <td>0.123473</td>\n",
       "    </tr>\n",
       "    <tr>\n",
       "      <th>2</th>\n",
       "      <td>0.556886</td>\n",
       "      <td>0.447176</td>\n",
       "      <td>0.327082</td>\n",
       "      <td>0.306815</td>\n",
       "      <td>0.248641</td>\n",
       "      <td>0.326757</td>\n",
       "      <td>0.297726</td>\n",
       "      <td>0.280669</td>\n",
       "      <td>0.193234</td>\n",
       "      <td>0.138488</td>\n",
       "      <td>...</td>\n",
       "      <td>0.122949</td>\n",
       "      <td>0.204568</td>\n",
       "      <td>0.279919</td>\n",
       "      <td>0.286689</td>\n",
       "      <td>0.325698</td>\n",
       "      <td>0.144920</td>\n",
       "      <td>0.181830</td>\n",
       "      <td>0.226354</td>\n",
       "      <td>0.321306</td>\n",
       "      <td>0.120797</td>\n",
       "    </tr>\n",
       "    <tr>\n",
       "      <th>3</th>\n",
       "      <td>0.554148</td>\n",
       "      <td>0.441319</td>\n",
       "      <td>0.334986</td>\n",
       "      <td>0.302192</td>\n",
       "      <td>0.264244</td>\n",
       "      <td>0.321266</td>\n",
       "      <td>0.277142</td>\n",
       "      <td>0.272987</td>\n",
       "      <td>0.187995</td>\n",
       "      <td>0.138136</td>\n",
       "      <td>...</td>\n",
       "      <td>0.122355</td>\n",
       "      <td>0.194808</td>\n",
       "      <td>0.268586</td>\n",
       "      <td>0.291844</td>\n",
       "      <td>0.326977</td>\n",
       "      <td>0.144927</td>\n",
       "      <td>0.181877</td>\n",
       "      <td>0.226721</td>\n",
       "      <td>0.323210</td>\n",
       "      <td>0.118689</td>\n",
       "    </tr>\n",
       "    <tr>\n",
       "      <th>4</th>\n",
       "      <td>0.552091</td>\n",
       "      <td>0.437537</td>\n",
       "      <td>0.342072</td>\n",
       "      <td>0.297971</td>\n",
       "      <td>0.280515</td>\n",
       "      <td>0.317887</td>\n",
       "      <td>0.256130</td>\n",
       "      <td>0.264871</td>\n",
       "      <td>0.182809</td>\n",
       "      <td>0.138187</td>\n",
       "      <td>...</td>\n",
       "      <td>0.122511</td>\n",
       "      <td>0.183002</td>\n",
       "      <td>0.257519</td>\n",
       "      <td>0.298083</td>\n",
       "      <td>0.328035</td>\n",
       "      <td>0.145394</td>\n",
       "      <td>0.181798</td>\n",
       "      <td>0.226914</td>\n",
       "      <td>0.324995</td>\n",
       "      <td>0.117728</td>\n",
       "    </tr>\n",
       "    <tr>\n",
       "      <th>...</th>\n",
       "      <td>...</td>\n",
       "      <td>...</td>\n",
       "      <td>...</td>\n",
       "      <td>...</td>\n",
       "      <td>...</td>\n",
       "      <td>...</td>\n",
       "      <td>...</td>\n",
       "      <td>...</td>\n",
       "      <td>...</td>\n",
       "      <td>...</td>\n",
       "      <td>...</td>\n",
       "      <td>...</td>\n",
       "      <td>...</td>\n",
       "      <td>...</td>\n",
       "      <td>...</td>\n",
       "      <td>...</td>\n",
       "      <td>...</td>\n",
       "      <td>...</td>\n",
       "      <td>...</td>\n",
       "      <td>...</td>\n",
       "      <td>...</td>\n",
       "    </tr>\n",
       "    <tr>\n",
       "      <th>146</th>\n",
       "      <td>0.576537</td>\n",
       "      <td>0.548612</td>\n",
       "      <td>0.528169</td>\n",
       "      <td>0.291109</td>\n",
       "      <td>0.067956</td>\n",
       "      <td>0.215330</td>\n",
       "      <td>0.476180</td>\n",
       "      <td>0.562279</td>\n",
       "      <td>0.291825</td>\n",
       "      <td>0.200714</td>\n",
       "      <td>...</td>\n",
       "      <td>0.468710</td>\n",
       "      <td>0.585782</td>\n",
       "      <td>0.498026</td>\n",
       "      <td>0.529121</td>\n",
       "      <td>0.769313</td>\n",
       "      <td>0.589949</td>\n",
       "      <td>0.566856</td>\n",
       "      <td>0.453101</td>\n",
       "      <td>0.570264</td>\n",
       "      <td>0.481709</td>\n",
       "    </tr>\n",
       "    <tr>\n",
       "      <th>147</th>\n",
       "      <td>0.579194</td>\n",
       "      <td>0.561625</td>\n",
       "      <td>0.464739</td>\n",
       "      <td>0.283541</td>\n",
       "      <td>0.059748</td>\n",
       "      <td>0.243821</td>\n",
       "      <td>0.461089</td>\n",
       "      <td>0.564762</td>\n",
       "      <td>0.267701</td>\n",
       "      <td>0.203888</td>\n",
       "      <td>...</td>\n",
       "      <td>0.444016</td>\n",
       "      <td>0.566821</td>\n",
       "      <td>0.491684</td>\n",
       "      <td>0.523790</td>\n",
       "      <td>0.757749</td>\n",
       "      <td>0.571940</td>\n",
       "      <td>0.560754</td>\n",
       "      <td>0.442733</td>\n",
       "      <td>0.567289</td>\n",
       "      <td>0.474938</td>\n",
       "    </tr>\n",
       "    <tr>\n",
       "      <th>148</th>\n",
       "      <td>0.601217</td>\n",
       "      <td>0.572748</td>\n",
       "      <td>0.395690</td>\n",
       "      <td>0.283024</td>\n",
       "      <td>0.062470</td>\n",
       "      <td>0.293038</td>\n",
       "      <td>0.445459</td>\n",
       "      <td>0.566540</td>\n",
       "      <td>0.246036</td>\n",
       "      <td>0.209335</td>\n",
       "      <td>...</td>\n",
       "      <td>0.419996</td>\n",
       "      <td>0.544460</td>\n",
       "      <td>0.483622</td>\n",
       "      <td>0.519072</td>\n",
       "      <td>0.744187</td>\n",
       "      <td>0.554649</td>\n",
       "      <td>0.557878</td>\n",
       "      <td>0.434544</td>\n",
       "      <td>0.564003</td>\n",
       "      <td>0.465565</td>\n",
       "    </tr>\n",
       "    <tr>\n",
       "      <th>149</th>\n",
       "      <td>0.638049</td>\n",
       "      <td>0.582003</td>\n",
       "      <td>0.333837</td>\n",
       "      <td>0.288093</td>\n",
       "      <td>0.073268</td>\n",
       "      <td>0.361633</td>\n",
       "      <td>0.428982</td>\n",
       "      <td>0.567233</td>\n",
       "      <td>0.235402</td>\n",
       "      <td>0.214825</td>\n",
       "      <td>...</td>\n",
       "      <td>0.397140</td>\n",
       "      <td>0.519877</td>\n",
       "      <td>0.474638</td>\n",
       "      <td>0.514942</td>\n",
       "      <td>0.728775</td>\n",
       "      <td>0.540123</td>\n",
       "      <td>0.555043</td>\n",
       "      <td>0.428717</td>\n",
       "      <td>0.560415</td>\n",
       "      <td>0.454212</td>\n",
       "    </tr>\n",
       "    <tr>\n",
       "      <th>150</th>\n",
       "      <td>0.682996</td>\n",
       "      <td>0.591512</td>\n",
       "      <td>0.289672</td>\n",
       "      <td>0.296885</td>\n",
       "      <td>0.088877</td>\n",
       "      <td>0.440106</td>\n",
       "      <td>0.412122</td>\n",
       "      <td>0.567843</td>\n",
       "      <td>0.230191</td>\n",
       "      <td>0.218877</td>\n",
       "      <td>...</td>\n",
       "      <td>0.375586</td>\n",
       "      <td>0.496335</td>\n",
       "      <td>0.466073</td>\n",
       "      <td>0.511116</td>\n",
       "      <td>0.711897</td>\n",
       "      <td>0.531487</td>\n",
       "      <td>0.548636</td>\n",
       "      <td>0.425153</td>\n",
       "      <td>0.556475</td>\n",
       "      <td>0.442882</td>\n",
       "    </tr>\n",
       "  </tbody>\n",
       "</table>\n",
       "<p>151 rows × 1433 columns</p>\n",
       "</div>"
      ],
      "text/plain": [
       "ID   26742     142399    147088    270735    270992    453335    744056    \\\n",
       "0    0.563713  0.470083  0.308383  0.316859  0.280677  0.341934  0.333029   \n",
       "1    0.560264  0.456213  0.318156  0.311758  0.247293  0.333962  0.316644   \n",
       "2    0.556886  0.447176  0.327082  0.306815  0.248641  0.326757  0.297726   \n",
       "3    0.554148  0.441319  0.334986  0.302192  0.264244  0.321266  0.277142   \n",
       "4    0.552091  0.437537  0.342072  0.297971  0.280515  0.317887  0.256130   \n",
       "..        ...       ...       ...       ...       ...       ...       ...   \n",
       "146  0.576537  0.548612  0.528169  0.291109  0.067956  0.215330  0.476180   \n",
       "147  0.579194  0.561625  0.464739  0.283541  0.059748  0.243821  0.461089   \n",
       "148  0.601217  0.572748  0.395690  0.283024  0.062470  0.293038  0.445459   \n",
       "149  0.638049  0.582003  0.333837  0.288093  0.073268  0.361633  0.428982   \n",
       "150  0.682996  0.591512  0.289672  0.296885  0.088877  0.440106  0.412122   \n",
       "\n",
       "ID   842397    1305223   1305481   ...  26945779  26946919  26947731  \\\n",
       "0    0.294471  0.203654  0.142772  ...  0.126495  0.215254  0.302196   \n",
       "1    0.287839  0.198472  0.139843  ...  0.124353  0.211496  0.291880   \n",
       "2    0.280669  0.193234  0.138488  ...  0.122949  0.204568  0.279919   \n",
       "3    0.272987  0.187995  0.138136  ...  0.122355  0.194808  0.268586   \n",
       "4    0.264871  0.182809  0.138187  ...  0.122511  0.183002  0.257519   \n",
       "..        ...       ...       ...  ...       ...       ...       ...   \n",
       "146  0.562279  0.291825  0.200714  ...  0.468710  0.585782  0.498026   \n",
       "147  0.564762  0.267701  0.203888  ...  0.444016  0.566821  0.491684   \n",
       "148  0.566540  0.246036  0.209335  ...  0.419996  0.544460  0.483622   \n",
       "149  0.567233  0.235402  0.214825  ...  0.397140  0.519877  0.474638   \n",
       "150  0.567843  0.230191  0.218877  ...  0.375586  0.496335  0.466073   \n",
       "\n",
       "ID   26948629  26949198  26952289  26952760  26972807  26980434  26990388  \n",
       "0    0.279138  0.316459  0.145991  0.178142  0.227402  0.317432  0.127369  \n",
       "1    0.282436  0.321975  0.145296  0.180661  0.226167  0.319346  0.123473  \n",
       "2    0.286689  0.325698  0.144920  0.181830  0.226354  0.321306  0.120797  \n",
       "3    0.291844  0.326977  0.144927  0.181877  0.226721  0.323210  0.118689  \n",
       "4    0.298083  0.328035  0.145394  0.181798  0.226914  0.324995  0.117728  \n",
       "..        ...       ...       ...       ...       ...       ...       ...  \n",
       "146  0.529121  0.769313  0.589949  0.566856  0.453101  0.570264  0.481709  \n",
       "147  0.523790  0.757749  0.571940  0.560754  0.442733  0.567289  0.474938  \n",
       "148  0.519072  0.744187  0.554649  0.557878  0.434544  0.564003  0.465565  \n",
       "149  0.514942  0.728775  0.540123  0.555043  0.428717  0.560415  0.454212  \n",
       "150  0.511116  0.711897  0.531487  0.548636  0.425153  0.556475  0.442882  \n",
       "\n",
       "[151 rows x 1433 columns]"
      ]
     },
     "execution_count": 92,
     "metadata": {},
     "output_type": "execute_result"
    }
   ],
   "source": [
    "df_test_melhor2"
   ]
  },
  {
   "cell_type": "code",
   "execution_count": 93,
   "id": "d27f3ff2-efb5-4f8b-9dc3-51b5424b93e8",
   "metadata": {},
   "outputs": [
    {
     "data": {
      "text/plain": [
       "<AxesSubplot:>"
      ]
     },
     "execution_count": 93,
     "metadata": {},
     "output_type": "execute_result"
    },
    {
     "data": {
      "image/png": "[encoded data removed]",
      "text/plain": [
       "<Figure size 432x288 with 1 Axes>"
      ]
     },
     "metadata": {
      "needs_background": "light"
     },
     "output_type": "display_data"
    }
   ],
   "source": [
    "df_test_melhor.mean().plot()"
   ]
  },
  {
   "cell_type": "code",
   "execution_count": 94,
   "id": "61d014a4-364f-4432-a5ef-7f9c19577957",
   "metadata": {},
   "outputs": [],
   "source": [
    "array_test_mean=df_test_melhor.mean().values"
   ]
  },
  {
   "cell_type": "code",
   "execution_count": 95,
   "id": "90569130-0adf-45e3-b630-02e8e80045cf",
   "metadata": {},
   "outputs": [
    {
     "data": {
      "text/plain": [
       "array([0.21842151, 0.21394781, 0.20975263, 0.20591425, 0.20250171,\n",
       "       0.19958649, 0.19719619, 0.19539136, 0.19415737, 0.19343692,\n",
       "       0.19313009, 0.19314537, 0.19338071, 0.19384383, 0.19452012,\n",
       "       0.19550011, 0.19686218, 0.19867231, 0.20095975, 0.20377222,\n",
       "       0.2071424 , 0.21105277, 0.21549329, 0.22039524, 0.22574254,\n",
       "       0.23152433, 0.23778129, 0.24455197, 0.25190746, 0.25988692,\n",
       "       0.26854547, 0.27792973, 0.2880384 , 0.2988534 , 0.31036586,\n",
       "       0.32253623, 0.33531271, 0.34862654, 0.36245623, 0.37675002,\n",
       "       0.39147379, 0.40663464, 0.42221782, 0.43823623, 0.45473422,\n",
       "       0.47166815, 0.4889626 , 0.50659128, 0.52451745, 0.54261383,\n",
       "       0.56075868, 0.57888331, 0.59683003, 0.61437416, 0.6313186 ,\n",
       "       0.64748006, 0.66270864, 0.67699035, 0.69035876, 0.70285147,\n",
       "       0.7145816 , 0.72568121, 0.73622683, 0.74626011, 0.75584464,\n",
       "       0.76493086, 0.77341998, 0.78118335, 0.78809631, 0.79404748,\n",
       "       0.79904578, 0.80314476, 0.80643026, 0.8090488 , 0.81115207,\n",
       "       0.81281599, 0.8140322 , 0.81487626, 0.81538386, 0.81556686,\n",
       "       0.81552334, 0.81539325, 0.815229  , 0.81514126, 0.81527273,\n",
       "       0.81559846, 0.81604017, 0.81653649, 0.81697154, 0.81719111,\n",
       "       0.81715915, 0.81690648, 0.81647999, 0.81593   , 0.81536382,\n",
       "       0.81484036, 0.81436364, 0.81390524, 0.81341132, 0.81283533,\n",
       "       0.8121303 , 0.81130002, 0.81033224, 0.80930806, 0.80823273,\n",
       "       0.80709227, 0.80584601, 0.80448442, 0.80289941, 0.80102781,\n",
       "       0.79888361, 0.79645607, 0.79376176, 0.79085805, 0.78778799,\n",
       "       0.78452243, 0.78106531, 0.77739089, 0.77339943, 0.7690322 ,\n",
       "       0.76423113, 0.75895265, 0.75316412, 0.74691533, 0.74018998,\n",
       "       0.73299235, 0.72528499, 0.71704306, 0.70824545, 0.69888471,\n",
       "       0.68894677, 0.67847061, 0.66742587, 0.65580016, 0.64361613,\n",
       "       0.63092193, 0.61777106, 0.60428666, 0.59060694, 0.57688556,\n",
       "       0.56327657, 0.54994474, 0.53708077, 0.52481831, 0.51327548,\n",
       "       0.50256056, 0.49266874, 0.48358275, 0.47523951, 0.46757777,\n",
       "       0.46051019])"
      ]
     },
     "execution_count": 95,
     "metadata": {},
     "output_type": "execute_result"
    }
   ],
   "source": [
    "df_test_melhor.mean().values"
   ]
  },
  {
   "cell_type": "code",
   "execution_count": 96,
   "id": "ef2fbd16-386a-4657-9411-13e9d4a817da",
   "metadata": {},
   "outputs": [],
   "source": [
    "seed=0"
   ]
  },
  {
   "cell_type": "code",
   "execution_count": 97,
   "id": "3b37a50e-34ce-4547-bfd9-26f04b31b704",
   "metadata": {},
   "outputs": [
    {
     "data": {
      "text/plain": [
       "TimeSeriesKMeans(max_iter=1000, n_clusters=2, n_init=10, random_state=0)"
      ]
     },
     "execution_count": 97,
     "metadata": {},
     "output_type": "execute_result"
    }
   ],
   "source": [
    "from tslearn.clustering import TimeSeriesKMeans\n",
    "\n",
    "modelteste2 = TimeSeriesKMeans(n_clusters=2, metric=\"euclidean\",\n",
    "                         max_iter=1000,n_init=10, random_state=seed)\n",
    "modelteste2.fit(df_test_melhor)"
   ]
  },
  {
   "cell_type": "code",
   "execution_count": 98,
   "id": "69f2dae5-fcac-42f7-b1e6-d94bc0f8f9e5",
   "metadata": {},
   "outputs": [
    {
     "data": {
      "image/png": "[encoded data removed]",
      "text/plain": [
       "<Figure size 432x288 with 1 Axes>"
      ]
     },
     "metadata": {
      "needs_background": "light"
     },
     "output_type": "display_data"
    }
   ],
   "source": [
    "for x in modelteste2.cluster_centers_:\n",
    "    plt.plot(x)"
   ]
  },
  {
   "cell_type": "code",
   "execution_count": 99,
   "id": "98b2d3fc-c832-4add-b523-229535f5cf0d",
   "metadata": {},
   "outputs": [
    {
     "data": {
      "text/plain": [
       "0.3937180723457594"
      ]
     },
     "execution_count": 99,
     "metadata": {},
     "output_type": "execute_result"
    }
   ],
   "source": [
    "import tslearn.clustering\n",
    "from tslearn.metrics import cdist_dtw\n",
    "tslearn.clustering.silhouette_score(df_test_melhor, labels=modelteste2.labels_, metric=\"euclidean\")"
   ]
  },
  {
   "cell_type": "code",
   "execution_count": 100,
   "id": "1522c3c6-7ffe-4246-b8de-f51f9a93a1ab",
   "metadata": {},
   "outputs": [
    {
     "data": {
      "text/plain": [
       "1.0381152913699345"
      ]
     },
     "execution_count": 100,
     "metadata": {},
     "output_type": "execute_result"
    }
   ],
   "source": [
    "modelteste2.inertia_"
   ]
  },
  {
   "cell_type": "code",
   "execution_count": 101,
   "id": "fcfd6cd7-fdbd-49d5-a658-71572fef31e2",
   "metadata": {},
   "outputs": [
    {
     "data": {
      "text/plain": [
       "array([[[0.20757197],\n",
       "        [0.20322795],\n",
       "        [0.19912396],\n",
       "        [0.19535918],\n",
       "        [0.19200094],\n",
       "        [0.18912492],\n",
       "        [0.18677875],\n",
       "        [0.18503816],\n",
       "        [0.18388976],\n",
       "        [0.18328503],\n",
       "        [0.18311156],\n",
       "        [0.18328682],\n",
       "        [0.18369998],\n",
       "        [0.18436693],\n",
       "        [0.1852918 ],\n",
       "        [0.18659694],\n",
       "        [0.18836105],\n",
       "        [0.19065028],\n",
       "        [0.19346484],\n",
       "        [0.19681395],\n",
       "        [0.20071015],\n",
       "        [0.20512949],\n",
       "        [0.21006487],\n",
       "        [0.21546781],\n",
       "        [0.22135523],\n",
       "        [0.22771994],\n",
       "        [0.23460048],\n",
       "        [0.24205014],\n",
       "        [0.2501419 ],\n",
       "        [0.25895897],\n",
       "        [0.26858963],\n",
       "        [0.27908772],\n",
       "        [0.29043932],\n",
       "        [0.30263138],\n",
       "        [0.3155932 ],\n",
       "        [0.32925003],\n",
       "        [0.34355964],\n",
       "        [0.35847514],\n",
       "        [0.37396687],\n",
       "        [0.38997251],\n",
       "        [0.40644838],\n",
       "        [0.42338996],\n",
       "        [0.44074576],\n",
       "        [0.45851979],\n",
       "        [0.47677264],\n",
       "        [0.49544165],\n",
       "        [0.51444282],\n",
       "        [0.5337302 ],\n",
       "        [0.55324658],\n",
       "        [0.57283434],\n",
       "        [0.59237069],\n",
       "        [0.61178659],\n",
       "        [0.63095053],\n",
       "        [0.64966967],\n",
       "        [0.66773659],\n",
       "        [0.68496414],\n",
       "        [0.70119452],\n",
       "        [0.71637406],\n",
       "        [0.73049223],\n",
       "        [0.74360129],\n",
       "        [0.75576545],\n",
       "        [0.76706078],\n",
       "        [0.77755649],\n",
       "        [0.78730479],\n",
       "        [0.79635951],\n",
       "        [0.80471017],\n",
       "        [0.81234717],\n",
       "        [0.81921917],\n",
       "        [0.82526456],\n",
       "        [0.83042929],\n",
       "        [0.83475737],\n",
       "        [0.83828324],\n",
       "        [0.84108757],\n",
       "        [0.84328216],\n",
       "        [0.84502184],\n",
       "        [0.84637858],\n",
       "        [0.84733617],\n",
       "        [0.84793404],\n",
       "        [0.84819818],\n",
       "        [0.8481066 ],\n",
       "        [0.84773242],\n",
       "        [0.84720102],\n",
       "        [0.84657792],\n",
       "        [0.8459784 ],\n",
       "        [0.84553297],\n",
       "        [0.84522247],\n",
       "        [0.8449935 ],\n",
       "        [0.84479553],\n",
       "        [0.84455444],\n",
       "        [0.84418725],\n",
       "        [0.84370359],\n",
       "        [0.84316643],\n",
       "        [0.84263387],\n",
       "        [0.8421122 ],\n",
       "        [0.84167071],\n",
       "        [0.84132578],\n",
       "        [0.84102097],\n",
       "        [0.84069195],\n",
       "        [0.8402917 ],\n",
       "        [0.83975642],\n",
       "        [0.83905328],\n",
       "        [0.83820472],\n",
       "        [0.83723304],\n",
       "        [0.83622825],\n",
       "        [0.83521782],\n",
       "        [0.8341913 ],\n",
       "        [0.83308459],\n",
       "        [0.8318492 ],\n",
       "        [0.83034632],\n",
       "        [0.82850965],\n",
       "        [0.82633354],\n",
       "        [0.82383502],\n",
       "        [0.821079  ],\n",
       "        [0.81817103],\n",
       "        [0.81518329],\n",
       "        [0.81211848],\n",
       "        [0.80895606],\n",
       "        [0.80565955],\n",
       "        [0.80211707],\n",
       "        [0.79824036],\n",
       "        [0.79395943],\n",
       "        [0.78926364],\n",
       "        [0.78411122],\n",
       "        [0.77857998],\n",
       "        [0.77266337],\n",
       "        [0.76636064],\n",
       "        [0.75961502],\n",
       "        [0.7523859 ],\n",
       "        [0.74458274],\n",
       "        [0.73615238],\n",
       "        [0.72704348],\n",
       "        [0.7172781 ],\n",
       "        [0.70677194],\n",
       "        [0.69547664],\n",
       "        [0.68337923],\n",
       "        [0.67053249],\n",
       "        [0.65695384],\n",
       "        [0.6427849 ],\n",
       "        [0.62821759],\n",
       "        [0.61345503],\n",
       "        [0.59867945],\n",
       "        [0.58411007],\n",
       "        [0.56995236],\n",
       "        [0.55631273],\n",
       "        [0.54330302],\n",
       "        [0.53102027],\n",
       "        [0.51943682],\n",
       "        [0.50854155],\n",
       "        [0.49827817],\n",
       "        [0.48861717],\n",
       "        [0.47951442]],\n",
       "\n",
       "       [[0.26309836],\n",
       "        [0.25809067],\n",
       "        [0.25351999],\n",
       "        [0.24937853],\n",
       "        [0.24574239],\n",
       "        [0.24266574],\n",
       "        [0.24009375],\n",
       "        [0.23802439],\n",
       "        [0.23643795],\n",
       "        [0.23524093],\n",
       "        [0.23438497],\n",
       "        [0.23374149],\n",
       "        [0.23324456],\n",
       "        [0.23286834],\n",
       "        [0.232521  ],\n",
       "        [0.23216209],\n",
       "        [0.23186862],\n",
       "        [0.23170588],\n",
       "        [0.23182273],\n",
       "        [0.23242535],\n",
       "        [0.23362952],\n",
       "        [0.235444  ],\n",
       "        [0.23784678],\n",
       "        [0.24068572],\n",
       "        [0.24380888],\n",
       "        [0.24719027],\n",
       "        [0.25087938],\n",
       "        [0.25485412],\n",
       "        [0.2591778 ],\n",
       "        [0.26370804],\n",
       "        [0.26836362],\n",
       "        [0.27316133],\n",
       "        [0.27815174],\n",
       "        [0.2832962 ],\n",
       "        [0.28884042],\n",
       "        [0.2948898 ],\n",
       "        [0.30135303],\n",
       "        [0.30807145],\n",
       "        [0.31505706],\n",
       "        [0.32230173],\n",
       "        [0.32981059],\n",
       "        [0.33763864],\n",
       "        [0.34592239],\n",
       "        [0.35471144],\n",
       "        [0.36398312],\n",
       "        [0.3737723 ],\n",
       "        [0.3840387 ],\n",
       "        [0.3948371 ],\n",
       "        [0.40621502],\n",
       "        [0.41817011],\n",
       "        [0.43058494],\n",
       "        [0.44339229],\n",
       "        [0.4563267 ],\n",
       "        [0.46903228],\n",
       "        [0.4813545 ],\n",
       "        [0.49312599],\n",
       "        [0.50422926],\n",
       "        [0.51481386],\n",
       "        [0.52509489],\n",
       "        [0.53504953],\n",
       "        [0.54499237],\n",
       "        [0.55528608],\n",
       "        [0.5660372 ],\n",
       "        [0.57724396],\n",
       "        [0.58901022],\n",
       "        [0.60112535],\n",
       "        [0.6131234 ],\n",
       "        [0.62455725],\n",
       "        [0.63504276],\n",
       "        [0.64423235],\n",
       "        [0.65199056],\n",
       "        [0.65844951],\n",
       "        [0.66371642],\n",
       "        [0.66808073],\n",
       "        [0.67168116],\n",
       "        [0.67461003],\n",
       "        [0.67689123],\n",
       "        [0.67874905],\n",
       "        [0.68025917],\n",
       "        [0.68157288],\n",
       "        [0.68289096],\n",
       "        [0.68441335],\n",
       "        [0.68613865],\n",
       "        [0.68815831],\n",
       "        [0.69066537],\n",
       "        [0.69361104],\n",
       "        [0.6968145 ],\n",
       "        [0.70016978],\n",
       "        [0.70338909],\n",
       "        [0.70602486],\n",
       "        [0.70785293],\n",
       "        [0.70877174],\n",
       "        [0.70878205],\n",
       "        [0.70811545],\n",
       "        [0.70703581],\n",
       "        [0.70577718],\n",
       "        [0.70459256],\n",
       "        [0.7036014 ],\n",
       "        [0.70272174],\n",
       "        [0.70197809],\n",
       "        [0.70126533],\n",
       "        [0.70051028],\n",
       "        [0.69955861],\n",
       "        [0.69845459],\n",
       "        [0.69711198],\n",
       "        [0.69550234],\n",
       "        [0.69368141],\n",
       "        [0.69180014],\n",
       "        [0.68987696],\n",
       "        [0.68786156],\n",
       "        [0.6858487 ],\n",
       "        [0.68371349],\n",
       "        [0.6812733 ],\n",
       "        [0.67838706],\n",
       "        [0.67497806],\n",
       "        [0.6708858 ],\n",
       "        [0.66621522],\n",
       "        [0.66098458],\n",
       "        [0.65514429],\n",
       "        [0.64875718],\n",
       "        [0.64181424],\n",
       "        [0.63413629],\n",
       "        [0.62572836],\n",
       "        [0.6165248 ],\n",
       "        [0.60646922],\n",
       "        [0.59558649],\n",
       "        [0.58391883],\n",
       "        [0.5715063 ],\n",
       "        [0.55861369],\n",
       "        [0.54542177],\n",
       "        [0.53206996],\n",
       "        [0.51866689],\n",
       "        [0.50540437],\n",
       "        [0.49241812],\n",
       "        [0.47987738],\n",
       "        [0.46781131],\n",
       "        [0.45642193],\n",
       "        [0.4457564 ],\n",
       "        [0.43573167],\n",
       "        [0.42629771],\n",
       "        [0.41749255],\n",
       "        [0.40925679],\n",
       "        [0.40172026],\n",
       "        [0.3951288 ],\n",
       "        [0.38962632],\n",
       "        [0.38536754],\n",
       "        [0.3824416 ],\n",
       "        [0.380806  ],\n",
       "        [0.3803696 ],\n",
       "        [0.38094056],\n",
       "        [0.38225348]]])"
      ]
     },
     "execution_count": 101,
     "metadata": {},
     "output_type": "execute_result"
    }
   ],
   "source": [
    "modelteste2.cluster_centers_"
   ]
  },
  {
   "cell_type": "code",
   "execution_count": 102,
   "id": "67a8eddb-afdd-4590-83e8-3affcb66653f",
   "metadata": {},
   "outputs": [],
   "source": [
    "cluster_centersteste=[]\n",
    "for x in modelteste2.cluster_centers_:\n",
    "    abc=np.concatenate(x, axis=0)\n",
    "    cluster_centersteste.append(abc)"
   ]
  },
  {
   "cell_type": "code",
   "execution_count": 103,
   "id": "6f655cf8-cb9a-4a76-a83c-81ffb77dc644",
   "metadata": {},
   "outputs": [],
   "source": [
    "x=np.arange(0,151)"
   ]
  },
  {
   "cell_type": "code",
   "execution_count": 104,
   "id": "79b12010-dc69-4608-b5bb-81b1801ba5e8",
   "metadata": {},
   "outputs": [
    {
     "data": {
      "image/png": "[encoded data removed]",
      "text/plain": [
       "<Figure size 432x288 with 1 Axes>"
      ]
     },
     "metadata": {
      "needs_background": "light"
     },
     "output_type": "display_data"
    }
   ],
   "source": [
    "plt.plot(x, cluster_centersteste[0], \"tab:blue\", label=\"cluster_1\")\n",
    "plt.plot(x, cluster_centersteste[1], \"tab:orange\", label=\"cluster_2\")\n",
    "plt.plot(x, array_test_mean, \"tab:green\", label=\"mean\")\n",
    "plt.legend(loc=\"upper left\")\n",
    "plt.xlabel(\"Days\")\n",
    "plt.ylabel(\"NDVI\")\n",
    "plt.show()"
   ]
  },
  {
   "cell_type": "code",
   "execution_count": 105,
   "id": "e21eeaf8-534d-42f4-aaac-f2cf1d705d9e",
   "metadata": {},
   "outputs": [
    {
     "data": {
      "text/plain": [
       "<AxesSubplot:>"
      ]
     },
     "execution_count": 105,
     "metadata": {},
     "output_type": "execute_result"
    },
    {
     "data": {
      "image/png": "[encoded data removed]",
      "text/plain": [
       "<Figure size 432x288 with 1 Axes>"
      ]
     },
     "metadata": {
      "needs_background": "light"
     },
     "output_type": "display_data"
    }
   ],
   "source": [
    "df_train_melhor.mean().plot()"
   ]
  },
  {
   "cell_type": "code",
   "execution_count": 106,
   "id": "ef79b674-0b60-49b9-83ff-fcaf878a02f4",
   "metadata": {},
   "outputs": [
    {
     "data": {
      "text/plain": [
       "array([0.23241435, 0.2256977 , 0.21937508, 0.21359385, 0.20848622,\n",
       "       0.2041227 , 0.20051848, 0.1976612 , 0.19551249, 0.19399926,\n",
       "       0.19306708, 0.19262284, 0.19263002, 0.19302876, 0.19377737,\n",
       "       0.19483128, 0.19620345, 0.19787709, 0.1998635 , 0.2021621 ,\n",
       "       0.20482992, 0.20789709, 0.21141678, 0.21544943, 0.22008329,\n",
       "       0.22536201, 0.23135047, 0.23807796, 0.24557036, 0.25384535,\n",
       "       0.26292828, 0.27281204, 0.28348918, 0.29493524, 0.30711042,\n",
       "       0.31994551, 0.33342057, 0.34749379, 0.36214638, 0.37736067,\n",
       "       0.39315666, 0.40946829, 0.42625188, 0.44346746, 0.46107546,\n",
       "       0.47901963, 0.49728976, 0.51584009, 0.53459517, 0.55342535,\n",
       "       0.57221382, 0.59080752, 0.6090759 , 0.62688906, 0.6440944 ,\n",
       "       0.66056354, 0.67621301, 0.69096193, 0.70476592, 0.71764217,\n",
       "       0.72964983, 0.74082737, 0.7512336 , 0.76089916, 0.76983578,\n",
       "       0.77804073, 0.78553356, 0.79232306, 0.79839063, 0.80372094,\n",
       "       0.80831284, 0.81217646, 0.81533003, 0.817888  , 0.81997205,\n",
       "       0.82167611, 0.82306291, 0.82422293, 0.82518644, 0.82601156,\n",
       "       0.82668455, 0.82720167, 0.8275359 , 0.82766091, 0.82755205,\n",
       "       0.82724985, 0.82684263, 0.82639035, 0.8259834 , 0.82568882,\n",
       "       0.82550848, 0.82540478, 0.82535132, 0.82530442, 0.82517772,\n",
       "       0.82494632, 0.82458326, 0.82408146, 0.82340507, 0.82260578,\n",
       "       0.82172781, 0.82080015, 0.81978249, 0.81867911, 0.81745178,\n",
       "       0.81605612, 0.81446469, 0.8127354 , 0.81088706, 0.8089405 ,\n",
       "       0.80689116, 0.80476405, 0.80253101, 0.80016109, 0.7976073 ,\n",
       "       0.79485082, 0.79181162, 0.78841019, 0.78462047, 0.7803899 ,\n",
       "       0.77568633, 0.77051024, 0.76487668, 0.75875037, 0.75210727,\n",
       "       0.74490176, 0.73711334, 0.72869277, 0.7195801 , 0.70973889,\n",
       "       0.69914755, 0.68778625, 0.67569059, 0.66299239, 0.64983103,\n",
       "       0.6363571 , 0.62266488, 0.60886923, 0.59499107, 0.58103953,\n",
       "       0.56701431, 0.55303799, 0.5392667 , 0.5259128 , 0.51322398,\n",
       "       0.50139506, 0.49057089, 0.48078466, 0.47201334, 0.46412955,\n",
       "       0.45695315])"
      ]
     },
     "execution_count": 106,
     "metadata": {},
     "output_type": "execute_result"
    }
   ],
   "source": [
    "df_train_melhor.mean().values"
   ]
  },
  {
   "cell_type": "code",
   "execution_count": 107,
   "id": "cc2b9a76-15c0-4dfb-b975-a83b34d3f15d",
   "metadata": {},
   "outputs": [],
   "source": [
    "array_train_mean=df_train_melhor.mean().values"
   ]
  },
  {
   "cell_type": "code",
   "execution_count": 108,
   "id": "dad4e6bc-5b93-45ce-abf9-581fcda09a71",
   "metadata": {},
   "outputs": [],
   "source": [
    "seed=0"
   ]
  },
  {
   "cell_type": "code",
   "execution_count": 109,
   "id": "79070258-60bf-45f2-9bab-b1b663dfde1c",
   "metadata": {},
   "outputs": [
    {
     "data": {
      "text/plain": [
       "TimeSeriesKMeans(max_iter=1000, n_clusters=2, n_init=10, random_state=0)"
      ]
     },
     "execution_count": 109,
     "metadata": {},
     "output_type": "execute_result"
    }
   ],
   "source": [
    "from tslearn.clustering import TimeSeriesKMeans\n",
    "\n",
    "model2 = TimeSeriesKMeans(n_clusters=2, metric=\"euclidean\",\n",
    "                         max_iter=1000,n_init=10, random_state=seed)\n",
    "model2.fit(df_train_melhor)"
   ]
  },
  {
   "cell_type": "code",
   "execution_count": 110,
   "id": "8e4e893a-cd5a-4eaa-a7c0-04c927bb7581",
   "metadata": {},
   "outputs": [
    {
     "data": {
      "image/png": "[encoded data removed]",
      "text/plain": [
       "<Figure size 432x288 with 1 Axes>"
      ]
     },
     "metadata": {
      "needs_background": "light"
     },
     "output_type": "display_data"
    }
   ],
   "source": [
    "for x in model2.cluster_centers_:\n",
    "    plt.plot(x)"
   ]
  },
  {
   "cell_type": "code",
   "execution_count": 111,
   "id": "a34ad627-fa42-403a-9db9-ce7015ade736",
   "metadata": {},
   "outputs": [
    {
     "data": {
      "text/plain": [
       "0.3748160191218966"
      ]
     },
     "execution_count": 111,
     "metadata": {},
     "output_type": "execute_result"
    }
   ],
   "source": [
    "import tslearn.clustering\n",
    "from tslearn.metrics import cdist_dtw\n",
    "tslearn.clustering.silhouette_score(df_train_melhor, labels=model2.labels_, metric=\"euclidean\")"
   ]
  },
  {
   "cell_type": "code",
   "execution_count": 112,
   "id": "be833e38-ccf4-493a-8f0c-0a61e339cdf1",
   "metadata": {},
   "outputs": [
    {
     "data": {
      "text/plain": [
       "1.0752640328478376"
      ]
     },
     "execution_count": 112,
     "metadata": {},
     "output_type": "execute_result"
    }
   ],
   "source": [
    "model2.inertia_"
   ]
  },
  {
   "cell_type": "code",
   "execution_count": 113,
   "id": "2342fe24-d868-45d7-8010-f7cdd816ff37",
   "metadata": {},
   "outputs": [
    {
     "data": {
      "text/plain": [
       "array([[[0.25634284],\n",
       "        [0.25016728],\n",
       "        [0.24443826],\n",
       "        [0.23927883],\n",
       "        [0.23472998],\n",
       "        [0.23080216],\n",
       "        [0.22744872],\n",
       "        [0.22459412],\n",
       "        [0.22222153],\n",
       "        [0.22031728],\n",
       "        [0.21884152],\n",
       "        [0.21772125],\n",
       "        [0.21698289],\n",
       "        [0.21660802],\n",
       "        [0.21658252],\n",
       "        [0.21687703],\n",
       "        [0.21748961],\n",
       "        [0.21835692],\n",
       "        [0.21941742],\n",
       "        [0.22060691],\n",
       "        [0.22191461],\n",
       "        [0.22335607],\n",
       "        [0.22497765],\n",
       "        [0.22687045],\n",
       "        [0.22911755],\n",
       "        [0.23177243],\n",
       "        [0.23488951],\n",
       "        [0.23848181],\n",
       "        [0.24257175],\n",
       "        [0.24714818],\n",
       "        [0.25219221],\n",
       "        [0.25768402],\n",
       "        [0.26357581],\n",
       "        [0.26977752],\n",
       "        [0.27630276],\n",
       "        [0.28313163],\n",
       "        [0.29027066],\n",
       "        [0.29774581],\n",
       "        [0.30562045],\n",
       "        [0.31388847],\n",
       "        [0.32259656],\n",
       "        [0.33172924],\n",
       "        [0.34132492],\n",
       "        [0.35135925],\n",
       "        [0.36185588],\n",
       "        [0.37281184],\n",
       "        [0.38425904],\n",
       "        [0.39616359],\n",
       "        [0.40852897],\n",
       "        [0.42134501],\n",
       "        [0.43453491],\n",
       "        [0.44804875],\n",
       "        [0.46185372],\n",
       "        [0.47589394],\n",
       "        [0.49011017],\n",
       "        [0.50444296],\n",
       "        [0.51880942],\n",
       "        [0.5331498 ],\n",
       "        [0.54732763],\n",
       "        [0.56117719],\n",
       "        [0.57465413],\n",
       "        [0.58764092],\n",
       "        [0.60003986],\n",
       "        [0.61177008],\n",
       "        [0.62286932],\n",
       "        [0.63332454],\n",
       "        [0.64318343],\n",
       "        [0.65245825],\n",
       "        [0.6611612 ],\n",
       "        [0.66920877],\n",
       "        [0.67653459],\n",
       "        [0.68312017],\n",
       "        [0.68895415],\n",
       "        [0.69409309],\n",
       "        [0.69868171],\n",
       "        [0.70284437],\n",
       "        [0.70665904],\n",
       "        [0.71022804],\n",
       "        [0.71360208],\n",
       "        [0.71681411],\n",
       "        [0.71989934],\n",
       "        [0.72286411],\n",
       "        [0.72565794],\n",
       "        [0.7282092 ],\n",
       "        [0.73045644],\n",
       "        [0.73229717],\n",
       "        [0.73370481],\n",
       "        [0.73470808],\n",
       "        [0.73543823],\n",
       "        [0.73589625],\n",
       "        [0.73609814],\n",
       "        [0.73606071],\n",
       "        [0.73574158],\n",
       "        [0.73514113],\n",
       "        [0.73429981],\n",
       "        [0.733318  ],\n",
       "        [0.73226688],\n",
       "        [0.73125659],\n",
       "        [0.73026824],\n",
       "        [0.7293677 ],\n",
       "        [0.7285748 ],\n",
       "        [0.72786096],\n",
       "        [0.72716478],\n",
       "        [0.72642162],\n",
       "        [0.72552255],\n",
       "        [0.72436717],\n",
       "        [0.72286065],\n",
       "        [0.72102957],\n",
       "        [0.71892718],\n",
       "        [0.71656135],\n",
       "        [0.71399672],\n",
       "        [0.71137013],\n",
       "        [0.70865188],\n",
       "        [0.70573745],\n",
       "        [0.70259619],\n",
       "        [0.69911531],\n",
       "        [0.69509167],\n",
       "        [0.69036524],\n",
       "        [0.68482287],\n",
       "        [0.67843791],\n",
       "        [0.67121223],\n",
       "        [0.66321691],\n",
       "        [0.65451861],\n",
       "        [0.64521533],\n",
       "        [0.63525985],\n",
       "        [0.62457728],\n",
       "        [0.61305518],\n",
       "        [0.6006561 ],\n",
       "        [0.5872652 ],\n",
       "        [0.57283134],\n",
       "        [0.5574296 ],\n",
       "        [0.5412493 ],\n",
       "        [0.52449107],\n",
       "        [0.50762953],\n",
       "        [0.49111441],\n",
       "        [0.47534969],\n",
       "        [0.46051483],\n",
       "        [0.44683755],\n",
       "        [0.43423914],\n",
       "        [0.42250917],\n",
       "        [0.41140478],\n",
       "        [0.40098168],\n",
       "        [0.39131251],\n",
       "        [0.38253959],\n",
       "        [0.37486496],\n",
       "        [0.36854185],\n",
       "        [0.36367758],\n",
       "        [0.36020225],\n",
       "        [0.35802404],\n",
       "        [0.35704565],\n",
       "        [0.35700392]],\n",
       "\n",
       "       [[0.22512159],\n",
       "        [0.21824002],\n",
       "        [0.2117365 ],\n",
       "        [0.20576576],\n",
       "        [0.20048783],\n",
       "        [0.19599152],\n",
       "        [0.19231086],\n",
       "        [0.18945277],\n",
       "        [0.18737229],\n",
       "        [0.18597824],\n",
       "        [0.18521173],\n",
       "        [0.18497352],\n",
       "        [0.18520792],\n",
       "        [0.18584244],\n",
       "        [0.18682698],\n",
       "        [0.18811233],\n",
       "        [0.189716  ],\n",
       "        [0.19163539],\n",
       "        [0.19390399],\n",
       "        [0.19654062],\n",
       "        [0.19962296],\n",
       "        [0.20318561],\n",
       "        [0.20728379],\n",
       "        [0.21196861],\n",
       "        [0.2173299 ],\n",
       "        [0.22340828],\n",
       "        [0.23027186],\n",
       "        [0.23795488],\n",
       "        [0.24648425],\n",
       "        [0.25588647],\n",
       "        [0.26620035],\n",
       "        [0.27742265],\n",
       "        [0.28955824],\n",
       "        [0.30260263],\n",
       "        [0.31649976],\n",
       "        [0.33116539],\n",
       "        [0.3465715 ],\n",
       "        [0.36265563],\n",
       "        [0.37937397],\n",
       "        [0.39670529],\n",
       "        [0.41466148],\n",
       "        [0.43316106],\n",
       "        [0.45213533],\n",
       "        [0.47153956],\n",
       "        [0.49131492],\n",
       "        [0.51138891],\n",
       "        [0.53173848],\n",
       "        [0.55231427],\n",
       "        [0.57301675],\n",
       "        [0.59367988],\n",
       "        [0.61417465],\n",
       "        [0.63431654],\n",
       "        [0.65394526],\n",
       "        [0.67290831],\n",
       "        [0.69102465],\n",
       "        [0.70814489],\n",
       "        [0.72418539],\n",
       "        [0.73905882],\n",
       "        [0.75274887],\n",
       "        [0.76532849],\n",
       "        [0.77688835],\n",
       "        [0.78751448],\n",
       "        [0.79731338],\n",
       "        [0.80634969],\n",
       "        [0.8146272 ],\n",
       "        [0.82214633],\n",
       "        [0.82891805],\n",
       "        [0.83495009],\n",
       "        [0.84021446],\n",
       "        [0.84471664],\n",
       "        [0.8484753 ],\n",
       "        [0.85150934],\n",
       "        [0.853846  ],\n",
       "        [0.85561736],\n",
       "        [0.85693808],\n",
       "        [0.85789283],\n",
       "        [0.85853968],\n",
       "        [0.8589655 ],\n",
       "        [0.85919435],\n",
       "        [0.859292  ],\n",
       "        [0.85922981],\n",
       "        [0.85900095],\n",
       "        [0.85858556],\n",
       "        [0.85797111],\n",
       "        [0.85714418],\n",
       "        [0.85618887],\n",
       "        [0.85522853],\n",
       "        [0.85433264],\n",
       "        [0.85357913],\n",
       "        [0.85305518],\n",
       "        [0.85275834],\n",
       "        [0.85263445],\n",
       "        [0.85266195],\n",
       "        [0.85278376],\n",
       "        [0.85287486],\n",
       "        [0.85287216],\n",
       "        [0.8527188 ],\n",
       "        [0.85237198],\n",
       "        [0.85179067],\n",
       "        [0.85102224],\n",
       "        [0.85011834],\n",
       "        [0.84912551],\n",
       "        [0.84800987],\n",
       "        [0.84679671],\n",
       "        [0.84546934],\n",
       "        [0.84400045],\n",
       "        [0.84238313],\n",
       "        [0.84068486],\n",
       "        [0.83891395],\n",
       "        [0.83709518],\n",
       "        [0.83520289],\n",
       "        [0.833228  ],\n",
       "        [0.83114284],\n",
       "        [0.82893887],\n",
       "        [0.82656413],\n",
       "        [0.82402842],\n",
       "        [0.82128926],\n",
       "        [0.81829165],\n",
       "        [0.81503609],\n",
       "        [0.81146212],\n",
       "        [0.80752722],\n",
       "        [0.80321036],\n",
       "        [0.79851084],\n",
       "        [0.7933528 ],\n",
       "        [0.78771922],\n",
       "        [0.78157342],\n",
       "        [0.77492292],\n",
       "        [0.7677149 ],\n",
       "        [0.75990612],\n",
       "        [0.75146463],\n",
       "        [0.74233936],\n",
       "        [0.73244676],\n",
       "        [0.72177213],\n",
       "        [0.71034281],\n",
       "        [0.69820358],\n",
       "        [0.68542782],\n",
       "        [0.67208386],\n",
       "        [0.65825212],\n",
       "        [0.64398394],\n",
       "        [0.62935531],\n",
       "        [0.61443991],\n",
       "        [0.59938066],\n",
       "        [0.58435916],\n",
       "        [0.5696091 ],\n",
       "        [0.55539209],\n",
       "        [0.54188515],\n",
       "        [0.52924456],\n",
       "        [0.51753493],\n",
       "        [0.50675421],\n",
       "        [0.49676584],\n",
       "        [0.48741498]]])"
      ]
     },
     "execution_count": 113,
     "metadata": {},
     "output_type": "execute_result"
    }
   ],
   "source": [
    "model2.cluster_centers_"
   ]
  },
  {
   "cell_type": "code",
   "execution_count": 114,
   "id": "fb38303f-6c1a-4dd6-8bc3-3722398d22ec",
   "metadata": {},
   "outputs": [],
   "source": [
    "cluster_centers=[]\n",
    "for x in model2.cluster_centers_:\n",
    "    abc=np.concatenate(x, axis=0)\n",
    "    cluster_centers.append(abc)"
   ]
  },
  {
   "cell_type": "code",
   "execution_count": 115,
   "id": "781eddb5-492c-417a-bcdb-2d4eefd57947",
   "metadata": {},
   "outputs": [
    {
     "data": {
      "text/plain": [
       "array([0.25634284, 0.25016728, 0.24443826, 0.23927883, 0.23472998,\n",
       "       0.23080216, 0.22744872, 0.22459412, 0.22222153, 0.22031728,\n",
       "       0.21884152, 0.21772125, 0.21698289, 0.21660802, 0.21658252,\n",
       "       0.21687703, 0.21748961, 0.21835692, 0.21941742, 0.22060691,\n",
       "       0.22191461, 0.22335607, 0.22497765, 0.22687045, 0.22911755,\n",
       "       0.23177243, 0.23488951, 0.23848181, 0.24257175, 0.24714818,\n",
       "       0.25219221, 0.25768402, 0.26357581, 0.26977752, 0.27630276,\n",
       "       0.28313163, 0.29027066, 0.29774581, 0.30562045, 0.31388847,\n",
       "       0.32259656, 0.33172924, 0.34132492, 0.35135925, 0.36185588,\n",
       "       0.37281184, 0.38425904, 0.39616359, 0.40852897, 0.42134501,\n",
       "       0.43453491, 0.44804875, 0.46185372, 0.47589394, 0.49011017,\n",
       "       0.50444296, 0.51880942, 0.5331498 , 0.54732763, 0.56117719,\n",
       "       0.57465413, 0.58764092, 0.60003986, 0.61177008, 0.62286932,\n",
       "       0.63332454, 0.64318343, 0.65245825, 0.6611612 , 0.66920877,\n",
       "       0.67653459, 0.68312017, 0.68895415, 0.69409309, 0.69868171,\n",
       "       0.70284437, 0.70665904, 0.71022804, 0.71360208, 0.71681411,\n",
       "       0.71989934, 0.72286411, 0.72565794, 0.7282092 , 0.73045644,\n",
       "       0.73229717, 0.73370481, 0.73470808, 0.73543823, 0.73589625,\n",
       "       0.73609814, 0.73606071, 0.73574158, 0.73514113, 0.73429981,\n",
       "       0.733318  , 0.73226688, 0.73125659, 0.73026824, 0.7293677 ,\n",
       "       0.7285748 , 0.72786096, 0.72716478, 0.72642162, 0.72552255,\n",
       "       0.72436717, 0.72286065, 0.72102957, 0.71892718, 0.71656135,\n",
       "       0.71399672, 0.71137013, 0.70865188, 0.70573745, 0.70259619,\n",
       "       0.69911531, 0.69509167, 0.69036524, 0.68482287, 0.67843791,\n",
       "       0.67121223, 0.66321691, 0.65451861, 0.64521533, 0.63525985,\n",
       "       0.62457728, 0.61305518, 0.6006561 , 0.5872652 , 0.57283134,\n",
       "       0.5574296 , 0.5412493 , 0.52449107, 0.50762953, 0.49111441,\n",
       "       0.47534969, 0.46051483, 0.44683755, 0.43423914, 0.42250917,\n",
       "       0.41140478, 0.40098168, 0.39131251, 0.38253959, 0.37486496,\n",
       "       0.36854185, 0.36367758, 0.36020225, 0.35802404, 0.35704565,\n",
       "       0.35700392])"
      ]
     },
     "execution_count": 115,
     "metadata": {},
     "output_type": "execute_result"
    }
   ],
   "source": [
    "cluster_centers[0]"
   ]
  },
  {
   "cell_type": "code",
   "execution_count": 116,
   "id": "b079d07f-35bd-448e-9c87-d7a452da2df3",
   "metadata": {},
   "outputs": [],
   "source": [
    "cluster_centers2=cluster_centers"
   ]
  },
  {
   "cell_type": "code",
   "execution_count": 117,
   "id": "25905853-5d85-4c20-8ce8-2ebf783942c6",
   "metadata": {},
   "outputs": [
    {
     "data": {
      "text/plain": [
       "array([0.25634284, 0.25016728, 0.24443826, 0.23927883, 0.23472998,\n",
       "       0.23080216, 0.22744872, 0.22459412, 0.22222153, 0.22031728,\n",
       "       0.21884152, 0.21772125, 0.21698289, 0.21660802, 0.21658252,\n",
       "       0.21687703, 0.21748961, 0.21835692, 0.21941742, 0.22060691,\n",
       "       0.22191461, 0.22335607, 0.22497765, 0.22687045, 0.22911755,\n",
       "       0.23177243, 0.23488951, 0.23848181, 0.24257175, 0.24714818,\n",
       "       0.25219221, 0.25768402, 0.26357581, 0.26977752, 0.27630276,\n",
       "       0.28313163, 0.29027066, 0.29774581, 0.30562045, 0.31388847,\n",
       "       0.32259656, 0.33172924, 0.34132492, 0.35135925, 0.36185588,\n",
       "       0.37281184, 0.38425904, 0.39616359, 0.40852897, 0.42134501,\n",
       "       0.43453491, 0.44804875, 0.46185372, 0.47589394, 0.49011017,\n",
       "       0.50444296, 0.51880942, 0.5331498 , 0.54732763, 0.56117719,\n",
       "       0.57465413, 0.58764092, 0.60003986, 0.61177008, 0.62286932,\n",
       "       0.63332454, 0.64318343, 0.65245825, 0.6611612 , 0.66920877,\n",
       "       0.67653459, 0.68312017, 0.68895415, 0.69409309, 0.69868171,\n",
       "       0.70284437, 0.70665904, 0.71022804, 0.71360208, 0.71681411,\n",
       "       0.71989934, 0.72286411, 0.72565794, 0.7282092 , 0.73045644,\n",
       "       0.73229717, 0.73370481, 0.73470808, 0.73543823, 0.73589625,\n",
       "       0.73609814, 0.73606071, 0.73574158, 0.73514113, 0.73429981,\n",
       "       0.733318  , 0.73226688, 0.73125659, 0.73026824, 0.7293677 ,\n",
       "       0.7285748 , 0.72786096, 0.72716478, 0.72642162, 0.72552255,\n",
       "       0.72436717, 0.72286065, 0.72102957, 0.71892718, 0.71656135,\n",
       "       0.71399672, 0.71137013, 0.70865188, 0.70573745, 0.70259619,\n",
       "       0.69911531, 0.69509167, 0.69036524, 0.68482287, 0.67843791,\n",
       "       0.67121223, 0.66321691, 0.65451861, 0.64521533, 0.63525985,\n",
       "       0.62457728, 0.61305518, 0.6006561 , 0.5872652 , 0.57283134,\n",
       "       0.5574296 , 0.5412493 , 0.52449107, 0.50762953, 0.49111441,\n",
       "       0.47534969, 0.46051483, 0.44683755, 0.43423914, 0.42250917,\n",
       "       0.41140478, 0.40098168, 0.39131251, 0.38253959, 0.37486496,\n",
       "       0.36854185, 0.36367758, 0.36020225, 0.35802404, 0.35704565,\n",
       "       0.35700392])"
      ]
     },
     "execution_count": 117,
     "metadata": {},
     "output_type": "execute_result"
    }
   ],
   "source": [
    "cluster_centers2[0]"
   ]
  },
  {
   "cell_type": "code",
   "execution_count": 118,
   "id": "e50137cc-24ed-4fc2-9638-b8e05e98800a",
   "metadata": {},
   "outputs": [
    {
     "data": {
      "image/png": "[encoded data removed]",
      "text/plain": [
       "<Figure size 432x288 with 1 Axes>"
      ]
     },
     "metadata": {
      "needs_background": "light"
     },
     "output_type": "display_data"
    }
   ],
   "source": [
    "x=np.arange(0,151)\n",
    "\n",
    "plt.plot(x, cluster_centers[0], \"tab:blue\", label=\"cluster_1\")\n",
    "plt.plot(x, cluster_centers[1], \"tab:orange\", label=\"cluster_2\")\n",
    "plt.plot(x, array_train_mean, \"tab:green\", label=\"mean\")\n",
    "plt.legend(loc=\"upper left\")\n",
    "plt.xlabel(\"Days\")\n",
    "plt.ylabel(\"NDVI\")\n",
    "plt.show()"
   ]
  },
  {
   "cell_type": "markdown",
   "id": "8aea1ef8-2f3e-4fbd-b37d-11e4c4e492c2",
   "metadata": {},
   "source": [
    "# Models"
   ]
  },
  {
   "cell_type": "markdown",
   "id": "c961c12d-e2f8-4ff2-8d2a-67d9e9a580df",
   "metadata": {},
   "source": [
    "# Mean"
   ]
  },
  {
   "cell_type": "markdown",
   "id": "b52173e0-85b3-4c0b-9692-a75c048ab1d8",
   "metadata": {},
   "source": [
    "## Linear"
   ]
  },
  {
   "cell_type": "code",
   "execution_count": 119,
   "id": "355a1b45-ff1f-4b3f-8443-ced48fb2d2a8",
   "metadata": {},
   "outputs": [
    {
     "name": "stdout",
     "output_type": "stream",
     "text": [
      "[1.48755479]\n",
      "-0.047611917392626824\n"
     ]
    }
   ],
   "source": [
    "from sklearn import linear_model\n",
    "from sklearn.model_selection import train_test_split,cross_val_score\n",
    "from sklearn import metrics\n",
    "\n",
    "#X = NDVIbluesync.iloc[:,:-1].values\n",
    "X=df_train_melhor.mean().values.reshape(-1,1)\n",
    "#y = NDVIbluesync.iloc[:,1].values\n",
    "y=df_kcteoric['Kcteoric'].values\n",
    "Reg = linear_model.LinearRegression()\n",
    "Reg.fit(X, y)\n",
    "pred = Reg.predict(X)\n",
    "print(Reg.coef_)\n",
    "print(Reg.intercept_)"
   ]
  },
  {
   "cell_type": "code",
   "execution_count": 120,
   "id": "545b00ce-9271-47eb-8755-880bdf5fa912",
   "metadata": {},
   "outputs": [
    {
     "data": {
      "text/plain": [
       "0.9807366719397393"
      ]
     },
     "execution_count": 120,
     "metadata": {},
     "output_type": "execute_result"
    }
   ],
   "source": [
    "Reg.score(X, y)"
   ]
  },
  {
   "cell_type": "code",
   "execution_count": 121,
   "id": "e1f812ce-8f92-49a4-b6e6-8e74304855a2",
   "metadata": {},
   "outputs": [
    {
     "data": {
      "text/plain": [
       "[<matplotlib.lines.Line2D at 0x276cdeffac0>]"
      ]
     },
     "execution_count": 121,
     "metadata": {},
     "output_type": "execute_result"
    },
    {
     "data": {
      "image/png": "[encoded data removed]",
      "text/plain": [
       "<Figure size 432x288 with 1 Axes>"
      ]
     },
     "metadata": {
      "needs_background": "light"
     },
     "output_type": "display_data"
    }
   ],
   "source": [
    "from sklearn.metrics import r2_score, mean_squared_error\n",
    "mse = mean_squared_error(y, pred)\n",
    "r2 = r2_score(y, pred)\n",
    "plt.plot(X, pred, color = 'Black', marker = 'o')"
   ]
  },
  {
   "cell_type": "code",
   "execution_count": 122,
   "id": "9e48d73b-24e7-4df1-a5cc-697a0fdb4287",
   "metadata": {},
   "outputs": [
    {
     "name": "stdout",
     "output_type": "stream",
     "text": [
      "0.9807366719397393\n",
      "0.002478894580340462\n"
     ]
    }
   ],
   "source": [
    "print(r2)\n",
    "print(mse)"
   ]
  },
  {
   "cell_type": "code",
   "execution_count": 123,
   "id": "52223de3-4f51-4ec5-8aca-5c1f56feb9ca",
   "metadata": {},
   "outputs": [
    {
     "name": "stdout",
     "output_type": "stream",
     "text": [
      "0.04978849847445153\n"
     ]
    }
   ],
   "source": [
    "print(np.sqrt(mse))"
   ]
  },
  {
   "cell_type": "code",
   "execution_count": 124,
   "id": "83c5c8ad-3bb3-4eae-9595-c5b494e3aaab",
   "metadata": {},
   "outputs": [
    {
     "data": {
      "text/plain": [
       "array([0.29811716, 0.28812577, 0.27872054, 0.27012064, 0.26252275,\n",
       "       0.25603178, 0.2506703 , 0.24641994, 0.24322362, 0.24097262,\n",
       "       0.23958595, 0.23892511, 0.23893579, 0.23952894, 0.24064254,\n",
       "       0.24221029, 0.24425146, 0.2467411 , 0.24969599, 0.25311528,\n",
       "       0.25708381, 0.26164639, 0.26688213, 0.27288091, 0.27977404,\n",
       "       0.28762642, 0.29653458, 0.3065421 , 0.31768745, 0.32999695,\n",
       "       0.34350831, 0.35821094, 0.37409377, 0.39112041, 0.40923165,\n",
       "       0.42832456, 0.44836945, 0.46930413, 0.49110067, 0.51373276,\n",
       "       0.53723015, 0.5614946 , 0.5864611 , 0.61207022, 0.6382631 ,\n",
       "       0.66495603, 0.69213385, 0.71972848, 0.74762769, 0.77563861,\n",
       "       0.8035875 , 0.83124663, 0.85842186, 0.88491991, 0.91051379,\n",
       "       0.93501254, 0.95829199, 0.98023182, 1.000766  , 1.01992014,\n",
       "       1.03778218, 1.05440938, 1.06988922, 1.08426727, 1.09756098,\n",
       "       1.1097663 , 1.1209123 , 1.13101205, 1.14003788, 1.14796702,\n",
       "       1.15479772, 1.16054507, 1.16523618, 1.1690413 , 1.17214143,\n",
       "       1.17467632, 1.17673926, 1.17846485, 1.17989813, 1.18112554,\n",
       "       1.18212665, 1.18289589, 1.18339308, 1.18357903, 1.1834171 ,\n",
       "       1.18296756, 1.1823618 , 1.18168901, 1.18108365, 1.18064544,\n",
       "       1.18037718, 1.18022293, 1.18014339, 1.18007363, 1.17988516,\n",
       "       1.17954093, 1.17900086, 1.17825441, 1.17724824, 1.17605925,\n",
       "       1.17475322, 1.17337328, 1.17185945, 1.17021812, 1.1683924 ,\n",
       "       1.16631628, 1.16394893, 1.16137652, 1.15862701, 1.15573141,\n",
       "       1.1526829 , 1.1495187 , 1.14619693, 1.14267154, 1.13887265,\n",
       "       1.13477222, 1.13025125, 1.12519143, 1.11955402, 1.11326081,\n",
       "       1.106264  , 1.09856428, 1.09018405, 1.08107083, 1.07118886,\n",
       "       1.06047026, 1.04888456, 1.0363585 , 1.02280291, 1.00816357,\n",
       "       0.99240837, 0.97550781, 0.95751486, 0.93862559, 0.91904734,\n",
       "       0.89900414, 0.87863621, 0.85811442, 0.8374699 , 0.81671621,\n",
       "       0.79585294, 0.77506239, 0.75457685, 0.73471219, 0.71583688,\n",
       "       0.69824071, 0.68213916, 0.66758161, 0.65453379, 0.64280622,\n",
       "       0.63213093])"
      ]
     },
     "execution_count": 124,
     "metadata": {},
     "output_type": "execute_result"
    }
   ],
   "source": [
    "pred"
   ]
  },
  {
   "cell_type": "code",
   "execution_count": 125,
   "id": "96c09949-da72-4b7d-bfc7-d1fd025e6ea1",
   "metadata": {},
   "outputs": [
    {
     "data": {
      "text/plain": [
       "array([0.3       , 0.3       , 0.3       , 0.3       , 0.3       ,\n",
       "       0.3       , 0.3       , 0.3       , 0.3       , 0.3       ,\n",
       "       0.3       , 0.3       , 0.3       , 0.3       , 0.3       ,\n",
       "       0.3       , 0.3       , 0.3       , 0.3       , 0.3       ,\n",
       "       0.3       , 0.3       , 0.3       , 0.3       , 0.3       ,\n",
       "       0.3       , 0.3       , 0.3       , 0.3       , 0.3       ,\n",
       "       0.32195122, 0.34390244, 0.36585366, 0.38780488, 0.4097561 ,\n",
       "       0.43170732, 0.45365854, 0.47560976, 0.49756098, 0.5195122 ,\n",
       "       0.54146341, 0.56341463, 0.58536585, 0.60731707, 0.62926829,\n",
       "       0.65121951, 0.67317073, 0.69512195, 0.71707317, 0.73902439,\n",
       "       0.76097561, 0.78292683, 0.80487805, 0.82682927, 0.84878049,\n",
       "       0.87073171, 0.89268293, 0.91463415, 0.93658537, 0.95853659,\n",
       "       0.9804878 , 1.00243902, 1.02439024, 1.04634146, 1.06829268,\n",
       "       1.0902439 , 1.11219512, 1.13414634, 1.15609756, 1.17804878,\n",
       "       1.2       , 1.2       , 1.2       , 1.2       , 1.2       ,\n",
       "       1.2       , 1.2       , 1.2       , 1.2       , 1.2       ,\n",
       "       1.2       , 1.2       , 1.2       , 1.2       , 1.2       ,\n",
       "       1.2       , 1.2       , 1.2       , 1.2       , 1.2       ,\n",
       "       1.2       , 1.2       , 1.2       , 1.2       , 1.2       ,\n",
       "       1.2       , 1.2       , 1.2       , 1.2       , 1.2       ,\n",
       "       1.2       , 1.2       , 1.2       , 1.2       , 1.2       ,\n",
       "       1.2       , 1.2       , 1.2       , 1.2       , 1.2       ,\n",
       "       1.2       , 1.2       , 1.2       , 1.2       , 1.2       ,\n",
       "       1.2       , 1.2       , 1.2       , 1.2       , 1.2       ,\n",
       "       1.17677419, 1.15354839, 1.13032258, 1.10709677, 1.08387097,\n",
       "       1.06064516, 1.03741935, 1.01419355, 0.99096774, 0.96774194,\n",
       "       0.94451613, 0.92129032, 0.89806452, 0.87483871, 0.8516129 ,\n",
       "       0.8283871 , 0.80516129, 0.78193548, 0.75870968, 0.73548387,\n",
       "       0.71225806, 0.68903226, 0.66580645, 0.64258065, 0.61935484,\n",
       "       0.59612903, 0.57290323, 0.54967742, 0.52645161, 0.50322581,\n",
       "       0.48      ])"
      ]
     },
     "execution_count": 125,
     "metadata": {},
     "output_type": "execute_result"
    }
   ],
   "source": [
    "y"
   ]
  },
  {
   "cell_type": "code",
   "execution_count": 126,
   "id": "b32e396d-44c2-4607-85d2-ee58c76177d9",
   "metadata": {},
   "outputs": [],
   "source": [
    "frameplotazul = { 'Kc_Teoric': y, 'Kc_Predicted': pred, 'NDVI': X.reshape(151,)}\n",
    "\n",
    "plotazul = pd.DataFrame(frameplotazul)"
   ]
  },
  {
   "cell_type": "code",
   "execution_count": 127,
   "id": "d8d5f46f-d462-4797-a5fa-1ab8f3c59674",
   "metadata": {},
   "outputs": [
    {
     "data": {
      "text/plain": [
       "<AxesSubplot:>"
      ]
     },
     "execution_count": 127,
     "metadata": {},
     "output_type": "execute_result"
    },
    {
     "data": {
      "image/png": "[encoded data removed]",
      "text/plain": [
       "<Figure size 432x288 with 1 Axes>"
      ]
     },
     "metadata": {
      "needs_background": "light"
     },
     "output_type": "display_data"
    }
   ],
   "source": [
    "plotazul.plot()"
   ]
  },
  {
   "cell_type": "code",
   "execution_count": 128,
   "id": "193fc844-98bc-43eb-8aca-52acea0302b9",
   "metadata": {},
   "outputs": [
    {
     "data": {
      "text/plain": [
       "Text(0.5, 0, 'Days')"
      ]
     },
     "execution_count": 128,
     "metadata": {},
     "output_type": "execute_result"
    },
    {
     "data": {
      "text/plain": [
       "<Figure size 432x288 with 0 Axes>"
      ]
     },
     "metadata": {},
     "output_type": "display_data"
    },
    {
     "data": {
      "image/png": "[encoded data removed]",
      "text/plain": [
       "<Figure size 432x288 with 2 Axes>"
      ]
     },
     "metadata": {
      "needs_background": "light"
     },
     "output_type": "display_data"
    }
   ],
   "source": [
    "plt.figure()\n",
    "ax = plotazul.plot(secondary_y=[\"Kc_Teoric\",\"Kc_Predicted\"])\n",
    "ax.set_ylabel('NDVI')\n",
    "ax.right_ax.set_ylabel('Kc')\n",
    "ax.set_xlabel('Days')"
   ]
  },
  {
   "cell_type": "code",
   "execution_count": 129,
   "id": "ff84934e-e45f-4ee3-88ad-c90dbf49f97a",
   "metadata": {},
   "outputs": [],
   "source": [
    "#statsmodels"
   ]
  },
  {
   "cell_type": "code",
   "execution_count": 130,
   "id": "2c9be3f0-7cff-4c12-a446-b1de726a004d",
   "metadata": {},
   "outputs": [
    {
     "name": "stdout",
     "output_type": "stream",
     "text": [
      "                            OLS Regression Results                            \n",
      "==============================================================================\n",
      "Dep. Variable:                      y   R-squared:                       0.981\n",
      "Model:                            OLS   Adj. R-squared:                  0.981\n",
      "Method:                 Least Squares   F-statistic:                     7586.\n",
      "Date:                Thu, 22 Dec 2022   Prob (F-statistic):          1.07e-129\n",
      "Time:                        17:49:27   Log-Likelihood:                 238.74\n",
      "No. Observations:                 151   AIC:                            -473.5\n",
      "Df Residuals:                     149   BIC:                            -467.4\n",
      "Df Model:                           1                                         \n",
      "Covariance Type:            nonrobust                                         \n",
      "==============================================================================\n",
      "                 coef    std err          t      P>|t|      [0.025      0.975]\n",
      "------------------------------------------------------------------------------\n",
      "const         -0.0476      0.011     -4.398      0.000      -0.069      -0.026\n",
      "x1             1.4876      0.017     87.097      0.000       1.454       1.521\n",
      "==============================================================================\n",
      "Omnibus:                       13.845   Durbin-Watson:                   0.015\n",
      "Prob(Omnibus):                  0.001   Jarque-Bera (JB):               15.603\n",
      "Skew:                          -0.787   Prob(JB):                     0.000409\n",
      "Kurtosis:                       3.006   Cond. No.                         5.69\n",
      "==============================================================================\n",
      "\n",
      "Notes:\n",
      "[1] Standard Errors assume that the covariance matrix of the errors is correctly specified.\n"
     ]
    }
   ],
   "source": [
    "import statsmodels.api as sm\n",
    "#performing the regression\n",
    "Xa = sm.add_constant(X)\n",
    "result = sm.OLS(y, Xa).fit()\n",
    "\n",
    "# Result of statsmodels \n",
    "print(result.summary())"
   ]
  },
  {
   "cell_type": "code",
   "execution_count": 131,
   "id": "35d373ac-e85d-4891-a265-52aecb42522f",
   "metadata": {},
   "outputs": [
    {
     "data": {
      "text/plain": [
       "1.2094813745088625e-16"
      ]
     },
     "execution_count": 131,
     "metadata": {},
     "output_type": "execute_result"
    }
   ],
   "source": [
    "result.resid.mean()"
   ]
  },
  {
   "cell_type": "markdown",
   "id": "af3bd3b0-483a-48ea-bb53-42b2ac0c6611",
   "metadata": {},
   "source": [
    "__Explain the Statistics__\n",
    "\n",
    "__Model : OLS : Ordinary Least Squares : One way to create a linear regression model. Minimize the dependent samples so you can estimate the unknown samples when creating a linear regression model.__\n",
    "\n",
    "__Method : Least Squares : Fit data to the model by minimizing the residual samples__\n",
    "\n",
    "__R-quared : Measure of how well the regression line approximates the data points. If .5 then that is a sign that half of the observed variation can be explained by the models inputs. 1 would be perfectly correlated.__\n",
    "\n",
    "__Adj, R-squared : Reflects the fit of the model. Values range from 0 to 1, where higher values indicate a good fit.__\n",
    "\n",
    "__F-statistic : Measures how significantly the data points fit into the regression model by measuring variation of sample means.__\n",
    "\n",
    "__Prob (F-statistic) : Probability that the null hypothesis for the full model is true. Closer to zero the better the samples approach the model.__\n",
    "\n",
    "__Log-Likelihood : The conditional probability that the observed data fits the model__\n",
    "\n",
    "__AIC : Adjusts the log-likelihood based on the number of observations and complexity of the model. It focuses on the data points that best describe the data.__\n",
    "\n",
    "__Df Residuals : Degrees of freedom of the residuals which is the difference between predicted values and the measured data.__\n",
    "\n",
    "__BIC : We want a low BIC. It focuses on the shortest description of the data like AIC.__\n",
    "\n",
    "__Df Model : Number of parameters in the model__\n",
    "\n",
    "__Coefficient Constant : Is your Y intercept. If both dependent and independent coefficients are zero then the expected output would equal the constant coefficient.__\n",
    "\n",
    "__Independent Coefficient : Represents the change of the independent variable per unit.__\n",
    "\n",
    "__Standard Error : Accuracy of the coefficients__\n",
    "\n",
    "__P>|t| : The P Value. A P Value less than .05 is considered statistically significant.__\n",
    "\n",
    "__[.025 - .975] : Confidence Interval : Represents the range in which coefficients are likely to fall.__\n",
    "\n",
    "__Omnibus : (D’Angostino’s test) : Establishes whether the samples come from a normally distributed population.__\n",
    "\n",
    "__Durbin-Watson : Test to see if the errors are not independent. Used to find repeating patterns that may be obstructed by noise. Its value lies between 0 and 4. If greater than 2 this is a sign that relationships between two variables are going in opposite directions (negatively correlated). If less than 2 variables are positively correlated.__\n",
    "\n",
    "__Prob(Omnibus) : Probability of Omnibus__\n",
    "\n",
    "__Jarque-Bera : Tests whether the samples match a normal distribution. It never has a negative number and the further it gets from zero signals the data doesn't have a normal distribution.__\n",
    "\n",
    "__Skew : Measure of the asymmetry of the probability distribution. Negative skew indicates the tail is longer on the left and the concentration of the data is on the right. Positive indicates the tail is longer on the right. 0 indicates that the tails are balanced.__\n",
    "\n",
    "__Prob(JB) : The probability of Jarque-Bera__\n",
    "\n",
    "__Kurtosis : Describes the shape of a probability distribution with a focus on the tails and not the peak. If the value is high that is a sign that there are more outliers. If the value is less than 3 that means there are fewer outliers. A value of 3 points towards a normal distribution. Values greater than 3 indicate more outliers.__\n",
    "\n",
    "__Condition Number : Represents whether samples are highly related in our regression model. A large number indicates strong multicollinearity which means that independent variables are highly correlated with each other. This causes problems because a small number of samples are so dramatically different from others that results are corrupted.__"
   ]
  },
  {
   "cell_type": "code",
   "execution_count": null,
   "id": "5abe5e8d-7922-4cde-bc79-46b64212c310",
   "metadata": {},
   "outputs": [],
   "source": []
  },
  {
   "cell_type": "markdown",
   "id": "a5a2d204-911a-4765-9189-2b75439841b8",
   "metadata": {},
   "source": [
    "# Linear-Mean Test (correcto)"
   ]
  },
  {
   "cell_type": "code",
   "execution_count": 132,
   "id": "d76593d7-65c1-4921-a6bc-e44c4b02c4b9",
   "metadata": {},
   "outputs": [],
   "source": [
    "pred2 = Reg.predict(np.array(array_test_mean).reshape(-1,1))\n",
    "mse = mean_squared_error(y, pred2)\n",
    "r2 = r2_score(y, pred2)\n",
    "rmse=np.sqrt(mse)"
   ]
  },
  {
   "cell_type": "code",
   "execution_count": 133,
   "id": "925836a4-c6c0-415d-9a59-bb4784200c23",
   "metadata": {},
   "outputs": [
    {
     "data": {
      "text/plain": [
       "0.9789517049998441"
      ]
     },
     "execution_count": 133,
     "metadata": {},
     "output_type": "execute_result"
    }
   ],
   "source": [
    "r2"
   ]
  },
  {
   "cell_type": "code",
   "execution_count": 134,
   "id": "5fee35cc-0e64-4561-9fc2-21c694b49df4",
   "metadata": {},
   "outputs": [
    {
     "data": {
      "text/plain": [
       "0.05204413916790816"
      ]
     },
     "execution_count": 134,
     "metadata": {},
     "output_type": "execute_result"
    }
   ],
   "source": [
    "rmse"
   ]
  },
  {
   "cell_type": "code",
   "execution_count": 135,
   "id": "8f2f21f5-28d8-45dc-a154-9bcc67091ddd",
   "metadata": {},
   "outputs": [
    {
     "data": {
      "text/plain": [
       "array([0.21842151, 0.21394781, 0.20975263, 0.20591425, 0.20250171,\n",
       "       0.19958649, 0.19719619, 0.19539136, 0.19415737, 0.19343692,\n",
       "       0.19313009, 0.19314537, 0.19338071, 0.19384383, 0.19452012,\n",
       "       0.19550011, 0.19686218, 0.19867231, 0.20095975, 0.20377222,\n",
       "       0.2071424 , 0.21105277, 0.21549329, 0.22039524, 0.22574254,\n",
       "       0.23152433, 0.23778129, 0.24455197, 0.25190746, 0.25988692,\n",
       "       0.26854547, 0.27792973, 0.2880384 , 0.2988534 , 0.31036586,\n",
       "       0.32253623, 0.33531271, 0.34862654, 0.36245623, 0.37675002,\n",
       "       0.39147379, 0.40663464, 0.42221782, 0.43823623, 0.45473422,\n",
       "       0.47166815, 0.4889626 , 0.50659128, 0.52451745, 0.54261383,\n",
       "       0.56075868, 0.57888331, 0.59683003, 0.61437416, 0.6313186 ,\n",
       "       0.64748006, 0.66270864, 0.67699035, 0.69035876, 0.70285147,\n",
       "       0.7145816 , 0.72568121, 0.73622683, 0.74626011, 0.75584464,\n",
       "       0.76493086, 0.77341998, 0.78118335, 0.78809631, 0.79404748,\n",
       "       0.79904578, 0.80314476, 0.80643026, 0.8090488 , 0.81115207,\n",
       "       0.81281599, 0.8140322 , 0.81487626, 0.81538386, 0.81556686,\n",
       "       0.81552334, 0.81539325, 0.815229  , 0.81514126, 0.81527273,\n",
       "       0.81559846, 0.81604017, 0.81653649, 0.81697154, 0.81719111,\n",
       "       0.81715915, 0.81690648, 0.81647999, 0.81593   , 0.81536382,\n",
       "       0.81484036, 0.81436364, 0.81390524, 0.81341132, 0.81283533,\n",
       "       0.8121303 , 0.81130002, 0.81033224, 0.80930806, 0.80823273,\n",
       "       0.80709227, 0.80584601, 0.80448442, 0.80289941, 0.80102781,\n",
       "       0.79888361, 0.79645607, 0.79376176, 0.79085805, 0.78778799,\n",
       "       0.78452243, 0.78106531, 0.77739089, 0.77339943, 0.7690322 ,\n",
       "       0.76423113, 0.75895265, 0.75316412, 0.74691533, 0.74018998,\n",
       "       0.73299235, 0.72528499, 0.71704306, 0.70824545, 0.69888471,\n",
       "       0.68894677, 0.67847061, 0.66742587, 0.65580016, 0.64361613,\n",
       "       0.63092193, 0.61777106, 0.60428666, 0.59060694, 0.57688556,\n",
       "       0.56327657, 0.54994474, 0.53708077, 0.52481831, 0.51327548,\n",
       "       0.50256056, 0.49266874, 0.48358275, 0.47523951, 0.46757777,\n",
       "       0.46051019])"
      ]
     },
     "execution_count": 135,
     "metadata": {},
     "output_type": "execute_result"
    }
   ],
   "source": [
    "array_test_mean"
   ]
  },
  {
   "cell_type": "code",
   "execution_count": 136,
   "id": "e994b351-13d0-4ebb-acf3-9565cbcdbf4e",
   "metadata": {},
   "outputs": [],
   "source": [
    "frameplotazulteste = { 'Kc_Teoric': y, 'Kc_Predicted': pred2, 'NDVI': array_test_mean}\n",
    "\n",
    "plotazulteste = pd.DataFrame(frameplotazulteste)"
   ]
  },
  {
   "cell_type": "code",
   "execution_count": 137,
   "id": "c0d325de-26dd-4750-8e50-5544deddb024",
   "metadata": {},
   "outputs": [
    {
     "data": {
      "text/plain": [
       "<AxesSubplot:>"
      ]
     },
     "execution_count": 137,
     "metadata": {},
     "output_type": "execute_result"
    },
    {
     "data": {
      "image/png": "[encoded data removed]",
      "text/plain": [
       "<Figure size 432x288 with 1 Axes>"
      ]
     },
     "metadata": {
      "needs_background": "light"
     },
     "output_type": "display_data"
    }
   ],
   "source": [
    "plotazulteste.plot()"
   ]
  },
  {
   "cell_type": "code",
   "execution_count": 138,
   "id": "390d9fcc-5186-423a-8c85-59856259f60f",
   "metadata": {},
   "outputs": [
    {
     "data": {
      "text/plain": [
       "Text(0.5, 0, 'Days')"
      ]
     },
     "execution_count": 138,
     "metadata": {},
     "output_type": "execute_result"
    },
    {
     "data": {
      "text/plain": [
       "<Figure size 432x288 with 0 Axes>"
      ]
     },
     "metadata": {},
     "output_type": "display_data"
    },
    {
     "data": {
      "image/png": "[encoded data removed]",
      "text/plain": [
       "<Figure size 432x288 with 2 Axes>"
      ]
     },
     "metadata": {
      "needs_background": "light"
     },
     "output_type": "display_data"
    }
   ],
   "source": [
    "plt.figure()\n",
    "ax = plotazulteste.plot(secondary_y=[\"Kc_Teoric\",\"Kc_Predicted\"])\n",
    "ax.set_ylabel('NDVI')\n",
    "ax.right_ax.set_ylabel('Kc')\n",
    "ax.set_xlabel('Days')"
   ]
  },
  {
   "cell_type": "markdown",
   "id": "ea6ad06b-5b4e-4f47-8372-b30a829946ea",
   "metadata": {},
   "source": [
    "## Polinomial"
   ]
  },
  {
   "cell_type": "code",
   "execution_count": 139,
   "id": "883c1c6b-e30e-4400-af52-adf40e4b5ffc",
   "metadata": {},
   "outputs": [],
   "source": [
    "X2=X.reshape(151,)"
   ]
  },
  {
   "cell_type": "code",
   "execution_count": 140,
   "id": "f9ef1753-ee7f-4844-8bd1-91d0cf7c529e",
   "metadata": {},
   "outputs": [
    {
     "name": "stdout",
     "output_type": "stream",
     "text": [
      "0.9948837149789597\n"
     ]
    }
   ],
   "source": [
    "from sklearn.metrics import r2_score\n",
    "mymodel = np.poly1d(np.polyfit(X2, y, 5))\n",
    "\n",
    "print(r2_score(y, mymodel(X2)))"
   ]
  },
  {
   "cell_type": "code",
   "execution_count": 141,
   "id": "ae70aa56-0b46-4f47-8a62-5b1584fbcbda",
   "metadata": {},
   "outputs": [
    {
     "name": "stdout",
     "output_type": "stream",
     "text": [
      "        5         4         3         2\n",
      "-98.01 x + 248.9 x - 239.2 x + 108.7 x - 22.14 x + 1.922\n"
     ]
    }
   ],
   "source": [
    "print(mymodel)"
   ]
  },
  {
   "cell_type": "code",
   "execution_count": 142,
   "id": "8724b099-4fb3-435e-a192-4b3238e29f39",
   "metadata": {},
   "outputs": [
    {
     "name": "stdout",
     "output_type": "stream",
     "text": [
      "RMSE for Polynomial Regression=> 0.02565905949635164\n"
     ]
    }
   ],
   "source": [
    "from sklearn.metrics import mean_squared_error\n",
    "print('RMSE for Polynomial Regression=>',np.sqrt(mean_squared_error(y,mymodel(X2))))"
   ]
  },
  {
   "cell_type": "code",
   "execution_count": 143,
   "id": "08b37675-b7fd-4734-a5c5-9897df3f6f7b",
   "metadata": {},
   "outputs": [
    {
     "data": {
      "text/plain": [
       "0.9948837149789597"
      ]
     },
     "execution_count": 143,
     "metadata": {},
     "output_type": "execute_result"
    }
   ],
   "source": [
    "r2_score(y,mymodel(X2))"
   ]
  },
  {
   "cell_type": "code",
   "execution_count": 144,
   "id": "b761476e-6df3-45e5-aad8-16538acef4ce",
   "metadata": {},
   "outputs": [
    {
     "name": "stdout",
     "output_type": "stream",
     "text": [
      "0.01685850637871858\n",
      "0.0006583873342373133\n",
      "0.12984031106986219\n"
     ]
    }
   ],
   "source": [
    "print(metrics.mean_absolute_error(y,mymodel(X2)))\n",
    "print(metrics.mean_squared_error(y,mymodel(X2)))\n",
    "print(np.sqrt(metrics.mean_absolute_error(y,mymodel(X2))))"
   ]
  },
  {
   "cell_type": "code",
   "execution_count": 145,
   "id": "7b25068a-06c2-4afc-aa55-3c4b3c8e5302",
   "metadata": {},
   "outputs": [],
   "source": [
    "frameplotazul4 = { 'Kc_Teoric': y, 'Kc_Predicted': mymodel(X2), 'NDVI': X2.reshape(151,)}\n",
    "plotazul4 = pd.DataFrame(frameplotazul4)"
   ]
  },
  {
   "cell_type": "code",
   "execution_count": 146,
   "id": "7bb5249e-ac72-49eb-89d0-89a971c26a79",
   "metadata": {},
   "outputs": [
    {
     "data": {
      "text/plain": [
       "<AxesSubplot:>"
      ]
     },
     "execution_count": 146,
     "metadata": {},
     "output_type": "execute_result"
    },
    {
     "data": {
      "image/png": "[encoded data removed]",
      "text/plain": [
       "<Figure size 432x288 with 1 Axes>"
      ]
     },
     "metadata": {
      "needs_background": "light"
     },
     "output_type": "display_data"
    }
   ],
   "source": [
    "plotazul4.plot()"
   ]
  },
  {
   "cell_type": "code",
   "execution_count": 147,
   "id": "a2902290-e310-4f37-9b99-2b052c68bea7",
   "metadata": {},
   "outputs": [
    {
     "data": {
      "text/plain": [
       "Text(0.5, 0, 'Days')"
      ]
     },
     "execution_count": 147,
     "metadata": {},
     "output_type": "execute_result"
    },
    {
     "data": {
      "text/plain": [
       "<Figure size 432x288 with 0 Axes>"
      ]
     },
     "metadata": {},
     "output_type": "display_data"
    },
    {
     "data": {
      "image/png": "[encoded data removed]",
      "text/plain": [
       "<Figure size 432x288 with 2 Axes>"
      ]
     },
     "metadata": {
      "needs_background": "light"
     },
     "output_type": "display_data"
    }
   ],
   "source": [
    "plt.figure()\n",
    "ax = plotazul4.plot(secondary_y=[\"Kc_Teoric\",\"Kc_Predicted\"])\n",
    "ax.set_ylabel('NDVI')\n",
    "ax.right_ax.set_ylabel('Kc')\n",
    "ax.set_xlabel('Days')"
   ]
  },
  {
   "cell_type": "code",
   "execution_count": null,
   "id": "1a32f8ce-8fd6-42f9-ab35-e7210d2c4310",
   "metadata": {},
   "outputs": [],
   "source": []
  },
  {
   "cell_type": "markdown",
   "id": "6aefe2de-e686-4745-942a-a3f15048c64a",
   "metadata": {},
   "source": [
    "# Polynomial-Mean Test (correcto)"
   ]
  },
  {
   "cell_type": "code",
   "execution_count": 148,
   "id": "f1c3f0a2-e71f-4e54-b24d-f0a8a555b3d5",
   "metadata": {},
   "outputs": [],
   "source": [
    "pred2 = mymodel(array_test_mean)\n",
    "mse = mean_squared_error(y, pred2)\n",
    "r2 = r2_score(y, pred2)\n",
    "rmse=np.sqrt(mse)"
   ]
  },
  {
   "cell_type": "code",
   "execution_count": 149,
   "id": "070d64eb-cef0-4e52-963d-b1e4b19b0bbc",
   "metadata": {},
   "outputs": [
    {
     "data": {
      "text/plain": [
       "0.9930300441697981"
      ]
     },
     "execution_count": 149,
     "metadata": {},
     "output_type": "execute_result"
    }
   ],
   "source": [
    "r2"
   ]
  },
  {
   "cell_type": "code",
   "execution_count": 150,
   "id": "d90c9c51-13b4-423b-9fd9-28c828e18acf",
   "metadata": {},
   "outputs": [
    {
     "data": {
      "text/plain": [
       "0.029948728000052337"
      ]
     },
     "execution_count": 150,
     "metadata": {},
     "output_type": "execute_result"
    }
   ],
   "source": [
    "rmse"
   ]
  },
  {
   "cell_type": "code",
   "execution_count": 151,
   "id": "31b52784-43bd-4ac4-8929-ff25277de68c",
   "metadata": {},
   "outputs": [],
   "source": [
    "frameplotazulteste2 = { \"Kc_Theoretical\": y, 'Kc_Predicted': mymodel(array_test_mean), 'NDVI': array_test_mean}\n",
    "plotazulteste2 = pd.DataFrame(frameplotazulteste2)"
   ]
  },
  {
   "cell_type": "code",
   "execution_count": 152,
   "id": "5ca926a8-a098-4224-a799-3cfde10d66ff",
   "metadata": {},
   "outputs": [
    {
     "data": {
      "text/plain": [
       "<AxesSubplot:>"
      ]
     },
     "execution_count": 152,
     "metadata": {},
     "output_type": "execute_result"
    },
    {
     "data": {
      "image/png": "[encoded data removed]",
      "text/plain": [
       "<Figure size 432x288 with 1 Axes>"
      ]
     },
     "metadata": {
      "needs_background": "light"
     },
     "output_type": "display_data"
    }
   ],
   "source": [
    "plotazulteste2.plot()"
   ]
  },
  {
   "cell_type": "code",
   "execution_count": 153,
   "id": "9f6bcb54-b1e3-46f8-bfdf-4d3ab48ffd74",
   "metadata": {},
   "outputs": [
    {
     "data": {
      "text/plain": [
       "Text(0.5, 1.0, 'Mean No Pre-Selection (Polynomial)')"
      ]
     },
     "execution_count": 153,
     "metadata": {},
     "output_type": "execute_result"
    },
    {
     "data": {
      "text/plain": [
       "<Figure size 432x288 with 0 Axes>"
      ]
     },
     "metadata": {},
     "output_type": "display_data"
    },
    {
     "data": {
      "image/png": "[encoded data removed]",
      "text/plain": [
       "<Figure size 432x288 with 2 Axes>"
      ]
     },
     "metadata": {
      "needs_background": "light"
     },
     "output_type": "display_data"
    }
   ],
   "source": [
    "plt.figure()\n",
    "ax = plotazulteste2.plot(secondary_y=[\"Kc_Theoretical\",\"Kc_Predicted\"])\n",
    "ax.set_ylabel('NDVI')\n",
    "ax.right_ax.set_ylabel('Kc')\n",
    "ax.set_xlabel('Days')\n",
    "ax.set_title(\"Mean No Pre-Selection (Polynomial)\")"
   ]
  },
  {
   "cell_type": "code",
   "execution_count": null,
   "id": "745be7f1-6138-4668-9725-6435d1771873",
   "metadata": {},
   "outputs": [],
   "source": []
  },
  {
   "cell_type": "markdown",
   "id": "e1a7980f-9ae2-461d-9679-9d24173fa078",
   "metadata": {},
   "source": [
    "# Cluster"
   ]
  },
  {
   "cell_type": "code",
   "execution_count": 154,
   "id": "0c0c358c-4787-4c82-8090-121baab8302d",
   "metadata": {},
   "outputs": [],
   "source": [
    "red=cluster_centers2[1].reshape(-1,1)"
   ]
  },
  {
   "cell_type": "code",
   "execution_count": 155,
   "id": "110a0342-5913-4e0d-b5cf-179e70d838a7",
   "metadata": {},
   "outputs": [],
   "source": [
    "red2=cluster_centers2[1]"
   ]
  },
  {
   "cell_type": "markdown",
   "id": "6fb0bdff-962b-4dd4-b54c-7fbca26b1902",
   "metadata": {},
   "source": [
    "## Linear"
   ]
  },
  {
   "cell_type": "code",
   "execution_count": 156,
   "id": "2cfb7d27-2196-4b13-9aab-b457c16b94ab",
   "metadata": {},
   "outputs": [
    {
     "name": "stdout",
     "output_type": "stream",
     "text": [
      "[1.39348928]\n",
      "-0.028825054629220692\n"
     ]
    }
   ],
   "source": [
    "from sklearn import linear_model\n",
    "from sklearn.model_selection import train_test_split,cross_val_score\n",
    "from sklearn import metrics\n",
    "\n",
    "#X = NDVIbluesync.iloc[:,:-1].values\n",
    "X=df_train_melhor.mean().values.reshape(-1,1)\n",
    "#y = NDVIbluesync.iloc[:,1].values\n",
    "y=df_kcteoric['Kcteoric'].values\n",
    "Reg = linear_model.LinearRegression()\n",
    "Reg.fit(red, y)\n",
    "pred = Reg.predict(red)\n",
    "print(Reg.coef_)\n",
    "print(Reg.intercept_)"
   ]
  },
  {
   "cell_type": "code",
   "execution_count": 157,
   "id": "b103165d-c721-4b66-bafc-81fad1f73746",
   "metadata": {},
   "outputs": [
    {
     "data": {
      "text/plain": [
       "0.96790256571424"
      ]
     },
     "execution_count": 157,
     "metadata": {},
     "output_type": "execute_result"
    }
   ],
   "source": [
    "Reg.score(red, y)"
   ]
  },
  {
   "cell_type": "code",
   "execution_count": 158,
   "id": "cbd686d2-470e-4101-86b3-c58a700c41b1",
   "metadata": {},
   "outputs": [
    {
     "data": {
      "text/plain": [
       "[<matplotlib.lines.Line2D at 0x276ce6f2100>]"
      ]
     },
     "execution_count": 158,
     "metadata": {},
     "output_type": "execute_result"
    },
    {
     "data": {
      "image/png": "[encoded data removed]",
      "text/plain": [
       "<Figure size 432x288 with 1 Axes>"
      ]
     },
     "metadata": {
      "needs_background": "light"
     },
     "output_type": "display_data"
    }
   ],
   "source": [
    "from sklearn.metrics import r2_score, mean_squared_error\n",
    "mse = mean_squared_error(y, pred)\n",
    "r2 = r2_score(y, pred)\n",
    "plt.plot(X, pred, color = 'Black', marker = 'o')"
   ]
  },
  {
   "cell_type": "code",
   "execution_count": 159,
   "id": "dac5154f-9505-4519-aeb4-40bb0a746871",
   "metadata": {},
   "outputs": [
    {
     "name": "stdout",
     "output_type": "stream",
     "text": [
      "0.96790256571424\n",
      "0.004130447015432678\n"
     ]
    }
   ],
   "source": [
    "print(r2)\n",
    "print(mse)"
   ]
  },
  {
   "cell_type": "code",
   "execution_count": 160,
   "id": "c1578e2d-4340-437e-87ad-0778f08f807e",
   "metadata": {},
   "outputs": [
    {
     "name": "stdout",
     "output_type": "stream",
     "text": [
      "0.0642685538613767\n"
     ]
    }
   ],
   "source": [
    "print(np.sqrt(mse))"
   ]
  },
  {
   "cell_type": "code",
   "execution_count": 161,
   "id": "b8b14d34-1b09-42a2-8473-f25d5151c170",
   "metadata": {},
   "outputs": [
    {
     "data": {
      "text/plain": [
       "array([0.28487946, 0.27529008, 0.26622749, 0.25790732, 0.25055258,\n",
       "       0.24428703, 0.23915807, 0.23517534, 0.23227623, 0.23033363,\n",
       "       0.2292655 , 0.22893357, 0.2292602 , 0.23014439, 0.23151633,\n",
       "       0.23330747, 0.23554216, 0.23821681, 0.24137808, 0.24505219,\n",
       "       0.2493474 , 0.25431191, 0.26002269, 0.26655093, 0.27402183,\n",
       "       0.282492  , 0.29205631, 0.30276252, 0.31464811, 0.32775   ,\n",
       "       0.34212228, 0.35776043, 0.37467125, 0.39284847, 0.41221397,\n",
       "       0.43265036, 0.45411861, 0.47653168, 0.4998285 , 0.52397952,\n",
       "       0.54900127, 0.57478024, 0.60122068, 0.62826027, 0.65581702,\n",
       "       0.68378991, 0.71214682, 0.74081896, 0.76966765, 0.79846149,\n",
       "       0.82702074, 0.85508825, 0.88244065, 0.90886546, 0.93411038,\n",
       "       0.95796725, 0.98031952, 1.00104549, 1.02012242, 1.03765199,\n",
       "       1.05376053, 1.06856792, 1.08222259, 1.09481459, 1.10634921,\n",
       "       1.11682704, 1.12626337, 1.13466894, 1.14200479, 1.14827852,\n",
       "       1.15351618, 1.15774409, 1.16100019, 1.16346856, 1.16530897,\n",
       "       1.1666394 , 1.16754079, 1.16813417, 1.16845306, 1.16858914,\n",
       "       1.16850248, 1.16818355, 1.16760472, 1.16674849, 1.16559617,\n",
       "       1.16426496, 1.16292674, 1.16167832, 1.16062831, 1.15989819,\n",
       "       1.15948456, 1.15931192, 1.15935023, 1.15951998, 1.15964692,\n",
       "       1.15964316, 1.15942945, 1.15894617, 1.15813611, 1.15706531,\n",
       "       1.15580573, 1.15442225, 1.15286761, 1.15117708, 1.1493274 ,\n",
       "       1.14728052, 1.14502681, 1.14266029, 1.14019255, 1.13765811,\n",
       "       1.13502121, 1.13226923, 1.12936358, 1.12629238, 1.12298321,\n",
       "       1.11944971, 1.11563272, 1.11145558, 1.10691901, 1.10193871,\n",
       "       1.09645547, 1.09043997, 1.08389125, 1.07670356, 1.06885323,\n",
       "       1.06028913, 1.05102173, 1.04097743, 1.03009598, 1.01833284,\n",
       "       1.00561689, 0.99183166, 0.97695667, 0.96103003, 0.94411415,\n",
       "       0.92631127, 0.90771659, 0.88844222, 0.86855965, 0.84817482,\n",
       "       0.82739038, 0.80640546, 0.78547317, 0.76491912, 0.74510787,\n",
       "       0.72628609, 0.70867156, 0.69235433, 0.6773315 , 0.66341282,\n",
       "       0.6503825 ])"
      ]
     },
     "execution_count": 161,
     "metadata": {},
     "output_type": "execute_result"
    }
   ],
   "source": [
    "pred"
   ]
  },
  {
   "cell_type": "code",
   "execution_count": 162,
   "id": "16ac86be-dd02-4467-8c4b-f6d22af20ad3",
   "metadata": {},
   "outputs": [
    {
     "data": {
      "text/plain": [
       "array([0.3       , 0.3       , 0.3       , 0.3       , 0.3       ,\n",
       "       0.3       , 0.3       , 0.3       , 0.3       , 0.3       ,\n",
       "       0.3       , 0.3       , 0.3       , 0.3       , 0.3       ,\n",
       "       0.3       , 0.3       , 0.3       , 0.3       , 0.3       ,\n",
       "       0.3       , 0.3       , 0.3       , 0.3       , 0.3       ,\n",
       "       0.3       , 0.3       , 0.3       , 0.3       , 0.3       ,\n",
       "       0.32195122, 0.34390244, 0.36585366, 0.38780488, 0.4097561 ,\n",
       "       0.43170732, 0.45365854, 0.47560976, 0.49756098, 0.5195122 ,\n",
       "       0.54146341, 0.56341463, 0.58536585, 0.60731707, 0.62926829,\n",
       "       0.65121951, 0.67317073, 0.69512195, 0.71707317, 0.73902439,\n",
       "       0.76097561, 0.78292683, 0.80487805, 0.82682927, 0.84878049,\n",
       "       0.87073171, 0.89268293, 0.91463415, 0.93658537, 0.95853659,\n",
       "       0.9804878 , 1.00243902, 1.02439024, 1.04634146, 1.06829268,\n",
       "       1.0902439 , 1.11219512, 1.13414634, 1.15609756, 1.17804878,\n",
       "       1.2       , 1.2       , 1.2       , 1.2       , 1.2       ,\n",
       "       1.2       , 1.2       , 1.2       , 1.2       , 1.2       ,\n",
       "       1.2       , 1.2       , 1.2       , 1.2       , 1.2       ,\n",
       "       1.2       , 1.2       , 1.2       , 1.2       , 1.2       ,\n",
       "       1.2       , 1.2       , 1.2       , 1.2       , 1.2       ,\n",
       "       1.2       , 1.2       , 1.2       , 1.2       , 1.2       ,\n",
       "       1.2       , 1.2       , 1.2       , 1.2       , 1.2       ,\n",
       "       1.2       , 1.2       , 1.2       , 1.2       , 1.2       ,\n",
       "       1.2       , 1.2       , 1.2       , 1.2       , 1.2       ,\n",
       "       1.2       , 1.2       , 1.2       , 1.2       , 1.2       ,\n",
       "       1.17677419, 1.15354839, 1.13032258, 1.10709677, 1.08387097,\n",
       "       1.06064516, 1.03741935, 1.01419355, 0.99096774, 0.96774194,\n",
       "       0.94451613, 0.92129032, 0.89806452, 0.87483871, 0.8516129 ,\n",
       "       0.8283871 , 0.80516129, 0.78193548, 0.75870968, 0.73548387,\n",
       "       0.71225806, 0.68903226, 0.66580645, 0.64258065, 0.61935484,\n",
       "       0.59612903, 0.57290323, 0.54967742, 0.52645161, 0.50322581,\n",
       "       0.48      ])"
      ]
     },
     "execution_count": 162,
     "metadata": {},
     "output_type": "execute_result"
    }
   ],
   "source": [
    "y"
   ]
  },
  {
   "cell_type": "code",
   "execution_count": 163,
   "id": "91ae0de5-9310-4047-bbb3-eed209b16202",
   "metadata": {},
   "outputs": [],
   "source": [
    "frameplotred = { 'Kc_Teoric': y, 'Kc_Predicted': pred, 'NDVI': red.reshape(151,)}\n",
    "\n",
    "plotred = pd.DataFrame(frameplotred)"
   ]
  },
  {
   "cell_type": "code",
   "execution_count": 164,
   "id": "da67029c-8e3d-4e8e-9645-468c3b63ef91",
   "metadata": {},
   "outputs": [
    {
     "data": {
      "text/plain": [
       "<AxesSubplot:>"
      ]
     },
     "execution_count": 164,
     "metadata": {},
     "output_type": "execute_result"
    },
    {
     "data": {
      "image/png": "[encoded data removed]",
      "text/plain": [
       "<Figure size 432x288 with 1 Axes>"
      ]
     },
     "metadata": {
      "needs_background": "light"
     },
     "output_type": "display_data"
    }
   ],
   "source": [
    "plotred.plot()"
   ]
  },
  {
   "cell_type": "code",
   "execution_count": 165,
   "id": "616b2ca2-c4cc-4621-adf2-c1af456f9347",
   "metadata": {},
   "outputs": [
    {
     "data": {
      "text/plain": [
       "Text(0.5, 0, 'Days')"
      ]
     },
     "execution_count": 165,
     "metadata": {},
     "output_type": "execute_result"
    },
    {
     "data": {
      "text/plain": [
       "<Figure size 432x288 with 0 Axes>"
      ]
     },
     "metadata": {},
     "output_type": "display_data"
    },
    {
     "data": {
      "image/png": "[encoded data removed]",
      "text/plain": [
       "<Figure size 432x288 with 2 Axes>"
      ]
     },
     "metadata": {
      "needs_background": "light"
     },
     "output_type": "display_data"
    }
   ],
   "source": [
    "plt.figure()\n",
    "ax = plotred.plot(secondary_y=[\"Kc_Teoric\",\"Kc_Predicted\"])\n",
    "ax.set_ylabel('NDVI')\n",
    "ax.right_ax.set_ylabel('Kc')\n",
    "ax.set_xlabel('Days')"
   ]
  },
  {
   "cell_type": "code",
   "execution_count": 166,
   "id": "d8ee8d7f-514d-49d9-99b9-6618a04a05c9",
   "metadata": {},
   "outputs": [],
   "source": [
    "#statsmodels"
   ]
  },
  {
   "cell_type": "code",
   "execution_count": 167,
   "id": "c0ad7027-07d8-49b5-b0d0-50ce6f9cdcf6",
   "metadata": {},
   "outputs": [
    {
     "name": "stdout",
     "output_type": "stream",
     "text": [
      "                            OLS Regression Results                            \n",
      "==============================================================================\n",
      "Dep. Variable:                      y   R-squared:                       0.968\n",
      "Model:                            OLS   Adj. R-squared:                  0.968\n",
      "Method:                 Least Squares   F-statistic:                     4493.\n",
      "Date:                Thu, 22 Dec 2022   Prob (F-statistic):          3.58e-113\n",
      "Time:                        17:49:29   Log-Likelihood:                 200.19\n",
      "No. Observations:                 151   AIC:                            -396.4\n",
      "Df Residuals:                     149   BIC:                            -390.3\n",
      "Df Model:                           1                                         \n",
      "Covariance Type:            nonrobust                                         \n",
      "==============================================================================\n",
      "                 coef    std err          t      P>|t|      [0.025      0.975]\n",
      "------------------------------------------------------------------------------\n",
      "const         -0.0288      0.014     -2.090      0.038      -0.056      -0.002\n",
      "x1             1.3935      0.021     67.031      0.000       1.352       1.435\n",
      "==============================================================================\n",
      "Omnibus:                       14.840   Durbin-Watson:                   0.011\n",
      "Prob(Omnibus):                  0.001   Jarque-Bera (JB):               15.893\n",
      "Skew:                          -0.756   Prob(JB):                     0.000354\n",
      "Kurtosis:                       2.508   Cond. No.                         5.50\n",
      "==============================================================================\n",
      "\n",
      "Notes:\n",
      "[1] Standard Errors assume that the covariance matrix of the errors is correctly specified.\n"
     ]
    }
   ],
   "source": [
    "import statsmodels.api as sm\n",
    "#performing the regression\n",
    "Xa = sm.add_constant(red)\n",
    "result = sm.OLS(y, Xa).fit()\n",
    "\n",
    "# Result of statsmodels \n",
    "print(result.summary())"
   ]
  },
  {
   "cell_type": "code",
   "execution_count": 168,
   "id": "eb5b0456-a861-42cf-892d-90f0bb77109c",
   "metadata": {},
   "outputs": [
    {
     "data": {
      "text/plain": [
       "-2.8307010892760613e-16"
      ]
     },
     "execution_count": 168,
     "metadata": {},
     "output_type": "execute_result"
    }
   ],
   "source": [
    "result.resid.mean()"
   ]
  },
  {
   "cell_type": "markdown",
   "id": "e2bbdbd9-a3e0-491c-836d-3824b2d26695",
   "metadata": {},
   "source": [
    "__Explain the Statistics__\n",
    "\n",
    "__Model : OLS : Ordinary Least Squares : One way to create a linear regression model. Minimize the dependent samples so you can estimate the unknown samples when creating a linear regression model.__\n",
    "\n",
    "__Method : Least Squares : Fit data to the model by minimizing the residual samples__\n",
    "\n",
    "__R-quared : Measure of how well the regression line approximates the data points. If .5 then that is a sign that half of the observed variation can be explained by the models inputs. 1 would be perfectly correlated.__\n",
    "\n",
    "__Adj, R-squared : Reflects the fit of the model. Values range from 0 to 1, where higher values indicate a good fit.__\n",
    "\n",
    "__F-statistic : Measures how significantly the data points fit into the regression model by measuring variation of sample means.__\n",
    "\n",
    "__Prob (F-statistic) : Probability that the null hypothesis for the full model is true. Closer to zero the better the samples approach the model.__\n",
    "\n",
    "__Log-Likelihood : The conditional probability that the observed data fits the model__\n",
    "\n",
    "__AIC : Adjusts the log-likelihood based on the number of observations and complexity of the model. It focuses on the data points that best describe the data.__\n",
    "\n",
    "__Df Residuals : Degrees of freedom of the residuals which is the difference between predicted values and the measured data.__\n",
    "\n",
    "__BIC : We want a low BIC. It focuses on the shortest description of the data like AIC.__\n",
    "\n",
    "__Df Model : Number of parameters in the model__\n",
    "\n",
    "__Coefficient Constant : Is your Y intercept. If both dependent and independent coefficients are zero then the expected output would equal the constant coefficient.__\n",
    "\n",
    "__Independent Coefficient : Represents the change of the independent variable per unit.__\n",
    "\n",
    "__Standard Error : Accuracy of the coefficients__\n",
    "\n",
    "__P>|t| : The P Value. A P Value less than .05 is considered statistically significant.__\n",
    "\n",
    "__[.025 - .975] : Confidence Interval : Represents the range in which coefficients are likely to fall.__\n",
    "\n",
    "__Omnibus : (D’Angostino’s test) : Establishes whether the samples come from a normally distributed population.__\n",
    "\n",
    "__Durbin-Watson : Test to see if the errors are not independent. Used to find repeating patterns that may be obstructed by noise. Its value lies between 0 and 4. If greater than 2 this is a sign that relationships between two variables are going in opposite directions (negatively correlated). If less than 2 variables are positively correlated.__\n",
    "\n",
    "__Prob(Omnibus) : Probability of Omnibus__\n",
    "\n",
    "__Jarque-Bera : Tests whether the samples match a normal distribution. It never has a negative number and the further it gets from zero signals the data doesn't have a normal distribution.__\n",
    "\n",
    "__Skew : Measure of the asymmetry of the probability distribution. Negative skew indicates the tail is longer on the left and the concentration of the data is on the right. Positive indicates the tail is longer on the right. 0 indicates that the tails are balanced.__\n",
    "\n",
    "__Prob(JB) : The probability of Jarque-Bera__\n",
    "\n",
    "__Kurtosis : Describes the shape of a probability distribution with a focus on the tails and not the peak. If the value is high that is a sign that there are more outliers. If the value is less than 3 that means there are fewer outliers. A value of 3 points towards a normal distribution. Values greater than 3 indicate more outliers.__\n",
    "\n",
    "__Condition Number : Represents whether samples are highly related in our regression model. A large number indicates strong multicollinearity which means that independent variables are highly correlated with each other. This causes problems because a small number of samples are so dramatically different from others that results are corrupted.__"
   ]
  },
  {
   "cell_type": "code",
   "execution_count": null,
   "id": "03b4fb66-c112-4dd7-a3e7-140594a001c5",
   "metadata": {},
   "outputs": [],
   "source": []
  },
  {
   "cell_type": "markdown",
   "id": "92ee9cf5-4df1-47d1-b331-207f723b8285",
   "metadata": {
    "tags": []
   },
   "source": [
    "# Linear-Mean Test (correcto)"
   ]
  },
  {
   "cell_type": "code",
   "execution_count": 169,
   "id": "35700708-5979-4fab-be83-384fc7ac8392",
   "metadata": {},
   "outputs": [],
   "source": [
    "pred2 = Reg.predict(np.array(cluster_centersteste[0]).reshape(-1,1))\n",
    "mse = mean_squared_error(y, pred2)\n",
    "r2 = r2_score(y, pred2)\n",
    "rmse=np.sqrt(mse)"
   ]
  },
  {
   "cell_type": "code",
   "execution_count": 170,
   "id": "63cbfbc2-1e7f-4a0f-ad36-a4f24e551a99",
   "metadata": {},
   "outputs": [
    {
     "data": {
      "text/plain": [
       "0.9694886582350597"
      ]
     },
     "execution_count": 170,
     "metadata": {},
     "output_type": "execute_result"
    }
   ],
   "source": [
    "r2"
   ]
  },
  {
   "cell_type": "code",
   "execution_count": 171,
   "id": "1c59e976-94f4-48ef-bec8-26af0a5f3d4b",
   "metadata": {},
   "outputs": [
    {
     "data": {
      "text/plain": [
       "0.06266052392497296"
      ]
     },
     "execution_count": 171,
     "metadata": {},
     "output_type": "execute_result"
    }
   ],
   "source": [
    "rmse"
   ]
  },
  {
   "cell_type": "code",
   "execution_count": 172,
   "id": "99765cca-e73d-44d5-b615-ec746d8e2485",
   "metadata": {},
   "outputs": [],
   "source": [
    "frameplotazulteste2 = { 'Kc_Teoric': y, 'Kc_Predicted': pred2, 'NDVI': cluster_centersteste[0]}\n",
    "plotazulteste2 = pd.DataFrame(frameplotazulteste2)"
   ]
  },
  {
   "cell_type": "code",
   "execution_count": 173,
   "id": "e0435157-0307-4ea7-91a3-dac43d72f748",
   "metadata": {},
   "outputs": [
    {
     "data": {
      "text/plain": [
       "<AxesSubplot:>"
      ]
     },
     "execution_count": 173,
     "metadata": {},
     "output_type": "execute_result"
    },
    {
     "data": {
      "image/png": "[encoded data removed]",
      "text/plain": [
       "<Figure size 432x288 with 1 Axes>"
      ]
     },
     "metadata": {
      "needs_background": "light"
     },
     "output_type": "display_data"
    }
   ],
   "source": [
    "plotazulteste2.plot()"
   ]
  },
  {
   "cell_type": "code",
   "execution_count": 174,
   "id": "8bfd9f6a-83f3-4b61-bdd5-c19be9e73cbb",
   "metadata": {},
   "outputs": [
    {
     "data": {
      "text/plain": [
       "Text(0.5, 0, 'Days')"
      ]
     },
     "execution_count": 174,
     "metadata": {},
     "output_type": "execute_result"
    },
    {
     "data": {
      "text/plain": [
       "<Figure size 432x288 with 0 Axes>"
      ]
     },
     "metadata": {},
     "output_type": "display_data"
    },
    {
     "data": {
      "image/png": "[encoded data removed]",
      "text/plain": [
       "<Figure size 432x288 with 2 Axes>"
      ]
     },
     "metadata": {
      "needs_background": "light"
     },
     "output_type": "display_data"
    }
   ],
   "source": [
    "plt.figure()\n",
    "ax = plotazulteste2.plot(secondary_y=[\"Kc_Teoric\",\"Kc_Predicted\"])\n",
    "ax.set_ylabel('NDVI')\n",
    "ax.right_ax.set_ylabel('Kc')\n",
    "ax.set_xlabel('Days')"
   ]
  },
  {
   "cell_type": "markdown",
   "id": "d7c6aa49-c52f-4230-bc09-a3b94ccd4d50",
   "metadata": {
    "tags": []
   },
   "source": [
    "## Polinomial"
   ]
  },
  {
   "cell_type": "code",
   "execution_count": 175,
   "id": "756d6de9-8595-4707-a9ca-797d157329f0",
   "metadata": {},
   "outputs": [],
   "source": [
    "X2=X.reshape(151,)"
   ]
  },
  {
   "cell_type": "code",
   "execution_count": 176,
   "id": "3b581931-6058-4888-8e5d-d070615ad5b8",
   "metadata": {},
   "outputs": [
    {
     "name": "stdout",
     "output_type": "stream",
     "text": [
      "0.9931082926155016\n"
     ]
    }
   ],
   "source": [
    "from sklearn.metrics import r2_score\n",
    "mymodel = np.poly1d(np.polyfit(red2, y, 5))\n",
    "\n",
    "print(r2_score(y, mymodel(red2)))"
   ]
  },
  {
   "cell_type": "code",
   "execution_count": 177,
   "id": "72804844-9dbf-4162-aeed-57c00f5f8cda",
   "metadata": {},
   "outputs": [
    {
     "name": "stdout",
     "output_type": "stream",
     "text": [
      "        5         4         3         2\n",
      "-84.49 x + 222.6 x - 220.2 x + 102.1 x - 21.07 x + 1.858\n"
     ]
    }
   ],
   "source": [
    "print(mymodel)"
   ]
  },
  {
   "cell_type": "code",
   "execution_count": 178,
   "id": "c8631277-6ab0-4718-a615-e33a29d85430",
   "metadata": {},
   "outputs": [
    {
     "name": "stdout",
     "output_type": "stream",
     "text": [
      "RMSE for Polynomial Regression=> 0.029780143303407374\n"
     ]
    }
   ],
   "source": [
    "from sklearn.metrics import mean_squared_error\n",
    "print('RMSE for Polynomial Regression=>',np.sqrt(mean_squared_error(y,mymodel(red2))))"
   ]
  },
  {
   "cell_type": "code",
   "execution_count": 179,
   "id": "08b193ef-cf49-4e8f-98bd-c675fa044811",
   "metadata": {},
   "outputs": [
    {
     "data": {
      "text/plain": [
       "0.9931082926155016"
      ]
     },
     "execution_count": 179,
     "metadata": {},
     "output_type": "execute_result"
    }
   ],
   "source": [
    "r2_score(y,mymodel(red2))"
   ]
  },
  {
   "cell_type": "code",
   "execution_count": 180,
   "id": "f484fc5c-8a62-4981-ab12-96d26db6193e",
   "metadata": {},
   "outputs": [
    {
     "name": "stdout",
     "output_type": "stream",
     "text": [
      "0.019528075791940207\n",
      "0.0008868569351714791\n",
      "0.13974289174029642\n"
     ]
    }
   ],
   "source": [
    "print(metrics.mean_absolute_error(y,mymodel(red2)))\n",
    "print(metrics.mean_squared_error(y,mymodel(red2)))\n",
    "print(np.sqrt(metrics.mean_absolute_error(y,mymodel(red2))))"
   ]
  },
  {
   "cell_type": "code",
   "execution_count": 181,
   "id": "7b6e048b-19b3-4d07-9f06-0f597bcd6a40",
   "metadata": {},
   "outputs": [],
   "source": [
    "frameplotred4 = { 'Kc_Teoric': y, 'Kc_Predicted': mymodel(red2), 'NDVI': red2.reshape(151,)}\n",
    "plotred4 = pd.DataFrame(frameplotred4)"
   ]
  },
  {
   "cell_type": "code",
   "execution_count": 182,
   "id": "25c74810-f248-420e-9d20-a0db7c895050",
   "metadata": {},
   "outputs": [
    {
     "data": {
      "text/plain": [
       "<AxesSubplot:>"
      ]
     },
     "execution_count": 182,
     "metadata": {},
     "output_type": "execute_result"
    },
    {
     "data": {
      "image/png": "[encoded data removed]",
      "text/plain": [
       "<Figure size 432x288 with 1 Axes>"
      ]
     },
     "metadata": {
      "needs_background": "light"
     },
     "output_type": "display_data"
    }
   ],
   "source": [
    "plotred4.plot()"
   ]
  },
  {
   "cell_type": "code",
   "execution_count": 183,
   "id": "5173cf14-45d2-4e3a-8f08-e043114dfd2b",
   "metadata": {},
   "outputs": [
    {
     "data": {
      "text/plain": [
       "Text(0.5, 0, 'Days')"
      ]
     },
     "execution_count": 183,
     "metadata": {},
     "output_type": "execute_result"
    },
    {
     "data": {
      "text/plain": [
       "<Figure size 432x288 with 0 Axes>"
      ]
     },
     "metadata": {},
     "output_type": "display_data"
    },
    {
     "data": {
      "image/png": "[encoded data removed]",
      "text/plain": [
       "<Figure size 432x288 with 2 Axes>"
      ]
     },
     "metadata": {
      "needs_background": "light"
     },
     "output_type": "display_data"
    }
   ],
   "source": [
    "plt.figure()\n",
    "ax = plotred4.plot(secondary_y=[\"Kc_Teoric\",\"Kc_Predicted\"])\n",
    "ax.set_ylabel('NDVI')\n",
    "ax.right_ax.set_ylabel('Kc')\n",
    "ax.set_xlabel('Days')"
   ]
  },
  {
   "cell_type": "code",
   "execution_count": null,
   "id": "d5f41942-e34f-44f2-9236-7c2191b591d9",
   "metadata": {},
   "outputs": [],
   "source": []
  },
  {
   "cell_type": "markdown",
   "id": "761c3871-cc02-49c1-88ea-6bbd62782400",
   "metadata": {},
   "source": [
    "# Polynomial-Mean Test (correcto)"
   ]
  },
  {
   "cell_type": "code",
   "execution_count": 184,
   "id": "a4d3ec1c-3dd1-4ed4-bdbc-0042c4aa4274",
   "metadata": {},
   "outputs": [],
   "source": [
    "pred2 = mymodel(cluster_centersteste[0])\n",
    "mse = mean_squared_error(y, pred2)\n",
    "r2 = r2_score(y, pred2)\n",
    "rmse=np.sqrt(mse)"
   ]
  },
  {
   "cell_type": "code",
   "execution_count": 185,
   "id": "53c745a2-1d5c-4152-ac3d-81c55b7f2289",
   "metadata": {},
   "outputs": [
    {
     "data": {
      "text/plain": [
       "0.9896271668926565"
      ]
     },
     "execution_count": 185,
     "metadata": {},
     "output_type": "execute_result"
    }
   ],
   "source": [
    "r2"
   ]
  },
  {
   "cell_type": "code",
   "execution_count": 186,
   "id": "e8258617-73e7-4ece-9103-c76d8656c9e6",
   "metadata": {},
   "outputs": [
    {
     "data": {
      "text/plain": [
       "0.03653524834429944"
      ]
     },
     "execution_count": 186,
     "metadata": {},
     "output_type": "execute_result"
    }
   ],
   "source": [
    "rmse"
   ]
  },
  {
   "cell_type": "code",
   "execution_count": 187,
   "id": "69db8414-8c14-40dc-a940-8a2364509c5f",
   "metadata": {},
   "outputs": [],
   "source": [
    "frameplotazulteste2 = { \"Kc_Theoretical\": y, 'Kc_Predicted': mymodel(cluster_centersteste[0]), 'NDVI': cluster_centersteste[0]}\n",
    "plotazulteste2 = pd.DataFrame(frameplotazulteste2)"
   ]
  },
  {
   "cell_type": "code",
   "execution_count": 188,
   "id": "cd6032fd-2425-48c4-b118-544d4c7424b1",
   "metadata": {},
   "outputs": [
    {
     "data": {
      "text/plain": [
       "<AxesSubplot:>"
      ]
     },
     "execution_count": 188,
     "metadata": {},
     "output_type": "execute_result"
    },
    {
     "data": {
      "image/png": "[encoded data removed]",
      "text/plain": [
       "<Figure size 432x288 with 1 Axes>"
      ]
     },
     "metadata": {
      "needs_background": "light"
     },
     "output_type": "display_data"
    }
   ],
   "source": [
    "plotazulteste2.plot()"
   ]
  },
  {
   "cell_type": "code",
   "execution_count": 189,
   "id": "802d15bb-e6e5-4754-8e23-0d3994f374c4",
   "metadata": {},
   "outputs": [
    {
     "data": {
      "text/plain": [
       "Text(0.5, 1.0, 'K-Means No Pre-Selection (Polynomial)')"
      ]
     },
     "execution_count": 189,
     "metadata": {},
     "output_type": "execute_result"
    },
    {
     "data": {
      "text/plain": [
       "<Figure size 432x288 with 0 Axes>"
      ]
     },
     "metadata": {},
     "output_type": "display_data"
    },
    {
     "data": {
      "image/png": "[encoded data removed]",
      "text/plain": [
       "<Figure size 432x288 with 2 Axes>"
      ]
     },
     "metadata": {
      "needs_background": "light"
     },
     "output_type": "display_data"
    }
   ],
   "source": [
    "plt.figure()\n",
    "ax = plotazulteste2.plot(secondary_y=[\"Kc_Theoretical\",\"Kc_Predicted\"])\n",
    "ax.set_ylabel('NDVI')\n",
    "ax.right_ax.set_ylabel('Kc')\n",
    "ax.set_xlabel('Days')\n",
    "ax.set_title(\"K-Means No Pre-Selection (Polynomial)\")"
   ]
  }
 ],
 "metadata": {
  "kernelspec": {
   "display_name": "Python 3 (ipykernel)",
   "language": "python",
   "name": "python3"
  },
  "language_info": {
   "codemirror_mode": {
    "name": "ipython",
    "version": 3
   },
   "file_extension": ".py",
   "mimetype": "text/x-python",
   "name": "python",
   "nbconvert_exporter": "python",
   "pygments_lexer": "ipython3",
   "version": "3.9.12"
  }
 },
 "nbformat": 4,
 "nbformat_minor": 5
}
