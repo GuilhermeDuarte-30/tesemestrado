{
 "cells": [
  {
   "cell_type": "code",
   "execution_count": 1,
   "id": "27110f9d-09c8-4619-8a2b-c1cce86fe7a8",
   "metadata": {},
   "outputs": [],
   "source": [
    "#Importar bibliotecas\n",
    "\n",
    "import matplotlib.pyplot as plt\n",
    "import numpy as np\n",
    "import pandas as pd\n",
    "import plotly.express as px\n",
    "import plotly.io as pio\n",
    "\n",
    "import skfda\n",
    "\n",
    "from skfda.ml.clustering import KMeans"
   ]
  },
  {
   "cell_type": "code",
   "execution_count": 2,
   "id": "fd3b274e-d4f4-44a0-9758-59f8e9bbafdd",
   "metadata": {},
   "outputs": [],
   "source": [
    "# Ler ficheiros\n",
    "\n",
    "TabelaTempo=pd.read_excel(\"C:/Users/Guilherme/Desktop/KcTime.xlsx\")\n",
    "TabelaNDVI=pd.read_excel(\"C:/Users/Guilherme/Desktop/KcNDVI.xlsx\")\n",
    "TabelaMilho=pd.read_csv(\"C:/Users/Guilherme/Desktop/CulturasCordBOM/dfMILHO.csv\")"
   ]
  },
  {
   "cell_type": "code",
   "execution_count": 3,
   "id": "95c2624a-92b7-4b48-9e75-2d9a23cae9ee",
   "metadata": {},
   "outputs": [
    {
     "data": {
      "text/html": [
       "<div>\n",
       "<style scoped>\n",
       "    .dataframe tbody tr th:only-of-type {\n",
       "        vertical-align: middle;\n",
       "    }\n",
       "\n",
       "    .dataframe tbody tr th {\n",
       "        vertical-align: top;\n",
       "    }\n",
       "\n",
       "    .dataframe thead th {\n",
       "        text-align: right;\n",
       "    }\n",
       "</style>\n",
       "<table border=\"1\" class=\"dataframe\">\n",
       "  <thead>\n",
       "    <tr style=\"text-align: right;\">\n",
       "      <th></th>\n",
       "      <th>ID</th>\n",
       "      <th>DATA</th>\n",
       "      <th>Cultura</th>\n",
       "      <th>NDVI_MED</th>\n",
       "      <th>Lat</th>\n",
       "      <th>Lon</th>\n",
       "    </tr>\n",
       "  </thead>\n",
       "  <tbody>\n",
       "    <tr>\n",
       "      <th>0</th>\n",
       "      <td>26742</td>\n",
       "      <td>2020-09-01</td>\n",
       "      <td>MILHO (Sequeiro)</td>\n",
       "      <td>0.6511</td>\n",
       "      <td>39.490351</td>\n",
       "      <td>-8.921633</td>\n",
       "    </tr>\n",
       "    <tr>\n",
       "      <th>1</th>\n",
       "      <td>26742</td>\n",
       "      <td>2020-09-06</td>\n",
       "      <td>MILHO (Sequeiro)</td>\n",
       "      <td>0.4831</td>\n",
       "      <td>39.490351</td>\n",
       "      <td>-8.921633</td>\n",
       "    </tr>\n",
       "    <tr>\n",
       "      <th>2</th>\n",
       "      <td>26742</td>\n",
       "      <td>2020-09-11</td>\n",
       "      <td>MILHO (Sequeiro)</td>\n",
       "      <td>0.6104</td>\n",
       "      <td>39.490351</td>\n",
       "      <td>-8.921633</td>\n",
       "    </tr>\n",
       "    <tr>\n",
       "      <th>3</th>\n",
       "      <td>26742</td>\n",
       "      <td>2020-09-16</td>\n",
       "      <td>MILHO (Sequeiro)</td>\n",
       "      <td>0.6390</td>\n",
       "      <td>39.490351</td>\n",
       "      <td>-8.921633</td>\n",
       "    </tr>\n",
       "    <tr>\n",
       "      <th>4</th>\n",
       "      <td>26742</td>\n",
       "      <td>2020-09-21</td>\n",
       "      <td>MILHO (Sequeiro)</td>\n",
       "      <td>0.5985</td>\n",
       "      <td>39.490351</td>\n",
       "      <td>-8.921633</td>\n",
       "    </tr>\n",
       "  </tbody>\n",
       "</table>\n",
       "</div>"
      ],
      "text/plain": [
       "      ID        DATA           Cultura  NDVI_MED        Lat       Lon\n",
       "0  26742  2020-09-01  MILHO (Sequeiro)    0.6511  39.490351 -8.921633\n",
       "1  26742  2020-09-06  MILHO (Sequeiro)    0.4831  39.490351 -8.921633\n",
       "2  26742  2020-09-11  MILHO (Sequeiro)    0.6104  39.490351 -8.921633\n",
       "3  26742  2020-09-16  MILHO (Sequeiro)    0.6390  39.490351 -8.921633\n",
       "4  26742  2020-09-21  MILHO (Sequeiro)    0.5985  39.490351 -8.921633"
      ]
     },
     "execution_count": 3,
     "metadata": {},
     "output_type": "execute_result"
    }
   ],
   "source": [
    "TabelaMilho.head()"
   ]
  },
  {
   "cell_type": "code",
   "execution_count": 4,
   "id": "eeee2a45-f383-4458-8195-cbca7b19a124",
   "metadata": {},
   "outputs": [],
   "source": [
    "#apenas para o artigo\n",
    "TabelaMilhoartigo= TabelaMilho.rename({'DATA': 'DATE', 'Cultura': 'Crop'}, axis=1) "
   ]
  },
  {
   "cell_type": "code",
   "execution_count": 5,
   "id": "f5e5c713-f216-4a4e-9bbf-efeace89a6b1",
   "metadata": {},
   "outputs": [
    {
     "data": {
      "text/html": [
       "<div>\n",
       "<style scoped>\n",
       "    .dataframe tbody tr th:only-of-type {\n",
       "        vertical-align: middle;\n",
       "    }\n",
       "\n",
       "    .dataframe tbody tr th {\n",
       "        vertical-align: top;\n",
       "    }\n",
       "\n",
       "    .dataframe thead th {\n",
       "        text-align: right;\n",
       "    }\n",
       "</style>\n",
       "<table border=\"1\" class=\"dataframe\">\n",
       "  <thead>\n",
       "    <tr style=\"text-align: right;\">\n",
       "      <th></th>\n",
       "      <th>ID</th>\n",
       "      <th>DATE</th>\n",
       "      <th>Crop</th>\n",
       "      <th>NDVI_MED</th>\n",
       "      <th>Lat</th>\n",
       "      <th>Lon</th>\n",
       "    </tr>\n",
       "  </thead>\n",
       "  <tbody>\n",
       "    <tr>\n",
       "      <th>0</th>\n",
       "      <td>26742</td>\n",
       "      <td>2020-09-01</td>\n",
       "      <td>MILHO (Sequeiro)</td>\n",
       "      <td>0.6511</td>\n",
       "      <td>39.490351</td>\n",
       "      <td>-8.921633</td>\n",
       "    </tr>\n",
       "    <tr>\n",
       "      <th>1</th>\n",
       "      <td>26742</td>\n",
       "      <td>2020-09-06</td>\n",
       "      <td>MILHO (Sequeiro)</td>\n",
       "      <td>0.4831</td>\n",
       "      <td>39.490351</td>\n",
       "      <td>-8.921633</td>\n",
       "    </tr>\n",
       "    <tr>\n",
       "      <th>2</th>\n",
       "      <td>26742</td>\n",
       "      <td>2020-09-11</td>\n",
       "      <td>MILHO (Sequeiro)</td>\n",
       "      <td>0.6104</td>\n",
       "      <td>39.490351</td>\n",
       "      <td>-8.921633</td>\n",
       "    </tr>\n",
       "    <tr>\n",
       "      <th>3</th>\n",
       "      <td>26742</td>\n",
       "      <td>2020-09-16</td>\n",
       "      <td>MILHO (Sequeiro)</td>\n",
       "      <td>0.6390</td>\n",
       "      <td>39.490351</td>\n",
       "      <td>-8.921633</td>\n",
       "    </tr>\n",
       "    <tr>\n",
       "      <th>4</th>\n",
       "      <td>26742</td>\n",
       "      <td>2020-09-21</td>\n",
       "      <td>MILHO (Sequeiro)</td>\n",
       "      <td>0.5985</td>\n",
       "      <td>39.490351</td>\n",
       "      <td>-8.921633</td>\n",
       "    </tr>\n",
       "    <tr>\n",
       "      <th>...</th>\n",
       "      <td>...</td>\n",
       "      <td>...</td>\n",
       "      <td>...</td>\n",
       "      <td>...</td>\n",
       "      <td>...</td>\n",
       "      <td>...</td>\n",
       "    </tr>\n",
       "    <tr>\n",
       "      <th>463756</th>\n",
       "      <td>44793426</td>\n",
       "      <td>2022-01-04</td>\n",
       "      <td>MILHO (Sequeiro)</td>\n",
       "      <td>0.0291</td>\n",
       "      <td>39.324599</td>\n",
       "      <td>-8.524624</td>\n",
       "    </tr>\n",
       "    <tr>\n",
       "      <th>463757</th>\n",
       "      <td>44793426</td>\n",
       "      <td>2022-01-09</td>\n",
       "      <td>MILHO (Sequeiro)</td>\n",
       "      <td>0.1501</td>\n",
       "      <td>39.324599</td>\n",
       "      <td>-8.524624</td>\n",
       "    </tr>\n",
       "    <tr>\n",
       "      <th>463758</th>\n",
       "      <td>44793426</td>\n",
       "      <td>2022-01-14</td>\n",
       "      <td>MILHO (Sequeiro)</td>\n",
       "      <td>0.2711</td>\n",
       "      <td>39.324599</td>\n",
       "      <td>-8.524624</td>\n",
       "    </tr>\n",
       "    <tr>\n",
       "      <th>463759</th>\n",
       "      <td>44793426</td>\n",
       "      <td>2022-01-19</td>\n",
       "      <td>MILHO (Sequeiro)</td>\n",
       "      <td>0.3927</td>\n",
       "      <td>39.324599</td>\n",
       "      <td>-8.524624</td>\n",
       "    </tr>\n",
       "    <tr>\n",
       "      <th>463760</th>\n",
       "      <td>44793426</td>\n",
       "      <td>2022-01-24</td>\n",
       "      <td>MILHO (Sequeiro)</td>\n",
       "      <td>0.3585</td>\n",
       "      <td>39.324599</td>\n",
       "      <td>-8.524624</td>\n",
       "    </tr>\n",
       "  </tbody>\n",
       "</table>\n",
       "<p>463761 rows × 6 columns</p>\n",
       "</div>"
      ],
      "text/plain": [
       "              ID        DATE              Crop  NDVI_MED        Lat       Lon\n",
       "0          26742  2020-09-01  MILHO (Sequeiro)    0.6511  39.490351 -8.921633\n",
       "1          26742  2020-09-06  MILHO (Sequeiro)    0.4831  39.490351 -8.921633\n",
       "2          26742  2020-09-11  MILHO (Sequeiro)    0.6104  39.490351 -8.921633\n",
       "3          26742  2020-09-16  MILHO (Sequeiro)    0.6390  39.490351 -8.921633\n",
       "4          26742  2020-09-21  MILHO (Sequeiro)    0.5985  39.490351 -8.921633\n",
       "...          ...         ...               ...       ...        ...       ...\n",
       "463756  44793426  2022-01-04  MILHO (Sequeiro)    0.0291  39.324599 -8.524624\n",
       "463757  44793426  2022-01-09  MILHO (Sequeiro)    0.1501  39.324599 -8.524624\n",
       "463758  44793426  2022-01-14  MILHO (Sequeiro)    0.2711  39.324599 -8.524624\n",
       "463759  44793426  2022-01-19  MILHO (Sequeiro)    0.3927  39.324599 -8.524624\n",
       "463760  44793426  2022-01-24  MILHO (Sequeiro)    0.3585  39.324599 -8.524624\n",
       "\n",
       "[463761 rows x 6 columns]"
      ]
     },
     "execution_count": 5,
     "metadata": {},
     "output_type": "execute_result"
    }
   ],
   "source": [
    "TabelaMilhoartigo"
   ]
  },
  {
   "cell_type": "code",
   "execution_count": 6,
   "id": "d9601314-85f2-4b53-95c2-a9b9d4645354",
   "metadata": {},
   "outputs": [
    {
     "data": {
      "text/html": [
       "<div>\n",
       "<style scoped>\n",
       "    .dataframe tbody tr th:only-of-type {\n",
       "        vertical-align: middle;\n",
       "    }\n",
       "\n",
       "    .dataframe tbody tr th {\n",
       "        vertical-align: top;\n",
       "    }\n",
       "\n",
       "    .dataframe thead th {\n",
       "        text-align: right;\n",
       "    }\n",
       "</style>\n",
       "<table border=\"1\" class=\"dataframe\">\n",
       "  <thead>\n",
       "    <tr style=\"text-align: right;\">\n",
       "      <th></th>\n",
       "      <th>ID</th>\n",
       "      <th>DATE</th>\n",
       "      <th>Crop</th>\n",
       "      <th>NDVI_MED</th>\n",
       "      <th>Lat</th>\n",
       "      <th>Lon</th>\n",
       "    </tr>\n",
       "  </thead>\n",
       "  <tbody>\n",
       "    <tr>\n",
       "      <th>0</th>\n",
       "      <td>26742</td>\n",
       "      <td>2020-09-01</td>\n",
       "      <td>MILHO (Sequeiro)</td>\n",
       "      <td>0.6511</td>\n",
       "      <td>39.490351</td>\n",
       "      <td>-8.921633</td>\n",
       "    </tr>\n",
       "    <tr>\n",
       "      <th>1</th>\n",
       "      <td>26742</td>\n",
       "      <td>2020-09-06</td>\n",
       "      <td>MILHO (Sequeiro)</td>\n",
       "      <td>0.4831</td>\n",
       "      <td>39.490351</td>\n",
       "      <td>-8.921633</td>\n",
       "    </tr>\n",
       "    <tr>\n",
       "      <th>2</th>\n",
       "      <td>26742</td>\n",
       "      <td>2020-09-11</td>\n",
       "      <td>MILHO (Sequeiro)</td>\n",
       "      <td>0.6104</td>\n",
       "      <td>39.490351</td>\n",
       "      <td>-8.921633</td>\n",
       "    </tr>\n",
       "    <tr>\n",
       "      <th>3</th>\n",
       "      <td>26742</td>\n",
       "      <td>2020-09-16</td>\n",
       "      <td>MILHO (Sequeiro)</td>\n",
       "      <td>0.6390</td>\n",
       "      <td>39.490351</td>\n",
       "      <td>-8.921633</td>\n",
       "    </tr>\n",
       "    <tr>\n",
       "      <th>4</th>\n",
       "      <td>26742</td>\n",
       "      <td>2020-09-21</td>\n",
       "      <td>MILHO (Sequeiro)</td>\n",
       "      <td>0.5985</td>\n",
       "      <td>39.490351</td>\n",
       "      <td>-8.921633</td>\n",
       "    </tr>\n",
       "    <tr>\n",
       "      <th>...</th>\n",
       "      <td>...</td>\n",
       "      <td>...</td>\n",
       "      <td>...</td>\n",
       "      <td>...</td>\n",
       "      <td>...</td>\n",
       "      <td>...</td>\n",
       "    </tr>\n",
       "    <tr>\n",
       "      <th>463756</th>\n",
       "      <td>44793426</td>\n",
       "      <td>2022-01-04</td>\n",
       "      <td>MILHO (Sequeiro)</td>\n",
       "      <td>0.0291</td>\n",
       "      <td>39.324599</td>\n",
       "      <td>-8.524624</td>\n",
       "    </tr>\n",
       "    <tr>\n",
       "      <th>463757</th>\n",
       "      <td>44793426</td>\n",
       "      <td>2022-01-09</td>\n",
       "      <td>MILHO (Sequeiro)</td>\n",
       "      <td>0.1501</td>\n",
       "      <td>39.324599</td>\n",
       "      <td>-8.524624</td>\n",
       "    </tr>\n",
       "    <tr>\n",
       "      <th>463758</th>\n",
       "      <td>44793426</td>\n",
       "      <td>2022-01-14</td>\n",
       "      <td>MILHO (Sequeiro)</td>\n",
       "      <td>0.2711</td>\n",
       "      <td>39.324599</td>\n",
       "      <td>-8.524624</td>\n",
       "    </tr>\n",
       "    <tr>\n",
       "      <th>463759</th>\n",
       "      <td>44793426</td>\n",
       "      <td>2022-01-19</td>\n",
       "      <td>MILHO (Sequeiro)</td>\n",
       "      <td>0.3927</td>\n",
       "      <td>39.324599</td>\n",
       "      <td>-8.524624</td>\n",
       "    </tr>\n",
       "    <tr>\n",
       "      <th>463760</th>\n",
       "      <td>44793426</td>\n",
       "      <td>2022-01-24</td>\n",
       "      <td>MILHO (Sequeiro)</td>\n",
       "      <td>0.3585</td>\n",
       "      <td>39.324599</td>\n",
       "      <td>-8.524624</td>\n",
       "    </tr>\n",
       "  </tbody>\n",
       "</table>\n",
       "<p>463761 rows × 6 columns</p>\n",
       "</div>"
      ],
      "text/plain": [
       "              ID        DATE              Crop  NDVI_MED        Lat       Lon\n",
       "0          26742  2020-09-01  MILHO (Sequeiro)    0.6511  39.490351 -8.921633\n",
       "1          26742  2020-09-06  MILHO (Sequeiro)    0.4831  39.490351 -8.921633\n",
       "2          26742  2020-09-11  MILHO (Sequeiro)    0.6104  39.490351 -8.921633\n",
       "3          26742  2020-09-16  MILHO (Sequeiro)    0.6390  39.490351 -8.921633\n",
       "4          26742  2020-09-21  MILHO (Sequeiro)    0.5985  39.490351 -8.921633\n",
       "...          ...         ...               ...       ...        ...       ...\n",
       "463756  44793426  2022-01-04  MILHO (Sequeiro)    0.0291  39.324599 -8.524624\n",
       "463757  44793426  2022-01-09  MILHO (Sequeiro)    0.1501  39.324599 -8.524624\n",
       "463758  44793426  2022-01-14  MILHO (Sequeiro)    0.2711  39.324599 -8.524624\n",
       "463759  44793426  2022-01-19  MILHO (Sequeiro)    0.3927  39.324599 -8.524624\n",
       "463760  44793426  2022-01-24  MILHO (Sequeiro)    0.3585  39.324599 -8.524624\n",
       "\n",
       "[463761 rows x 6 columns]"
      ]
     },
     "execution_count": 6,
     "metadata": {},
     "output_type": "execute_result"
    }
   ],
   "source": [
    "TabelaMilhoartigo"
   ]
  },
  {
   "cell_type": "code",
   "execution_count": 7,
   "id": "0ed78661-96cf-4bde-a55e-7c715fc52b8e",
   "metadata": {},
   "outputs": [
    {
     "data": {
      "text/html": [
       "<div>\n",
       "<style scoped>\n",
       "    .dataframe tbody tr th:only-of-type {\n",
       "        vertical-align: middle;\n",
       "    }\n",
       "\n",
       "    .dataframe tbody tr th {\n",
       "        vertical-align: top;\n",
       "    }\n",
       "\n",
       "    .dataframe thead th {\n",
       "        text-align: right;\n",
       "    }\n",
       "</style>\n",
       "<table border=\"1\" class=\"dataframe\">\n",
       "  <thead>\n",
       "    <tr style=\"text-align: right;\">\n",
       "      <th></th>\n",
       "      <th></th>\n",
       "      <th>Crop</th>\n",
       "      <th>NDVI_MED</th>\n",
       "      <th>Lat</th>\n",
       "      <th>Lon</th>\n",
       "    </tr>\n",
       "    <tr>\n",
       "      <th>ID</th>\n",
       "      <th>DATE</th>\n",
       "      <th></th>\n",
       "      <th></th>\n",
       "      <th></th>\n",
       "      <th></th>\n",
       "    </tr>\n",
       "  </thead>\n",
       "  <tbody>\n",
       "    <tr>\n",
       "      <th rowspan=\"5\" valign=\"top\">26742</th>\n",
       "      <th>2020-09-01</th>\n",
       "      <td>MILHO (Sequeiro)</td>\n",
       "      <td>0.6511</td>\n",
       "      <td>39.490351</td>\n",
       "      <td>-8.921633</td>\n",
       "    </tr>\n",
       "    <tr>\n",
       "      <th>2020-09-06</th>\n",
       "      <td>MILHO (Sequeiro)</td>\n",
       "      <td>0.4831</td>\n",
       "      <td>39.490351</td>\n",
       "      <td>-8.921633</td>\n",
       "    </tr>\n",
       "    <tr>\n",
       "      <th>2020-09-11</th>\n",
       "      <td>MILHO (Sequeiro)</td>\n",
       "      <td>0.6104</td>\n",
       "      <td>39.490351</td>\n",
       "      <td>-8.921633</td>\n",
       "    </tr>\n",
       "    <tr>\n",
       "      <th>2020-09-16</th>\n",
       "      <td>MILHO (Sequeiro)</td>\n",
       "      <td>0.6390</td>\n",
       "      <td>39.490351</td>\n",
       "      <td>-8.921633</td>\n",
       "    </tr>\n",
       "    <tr>\n",
       "      <th>2020-09-21</th>\n",
       "      <td>MILHO (Sequeiro)</td>\n",
       "      <td>0.5985</td>\n",
       "      <td>39.490351</td>\n",
       "      <td>-8.921633</td>\n",
       "    </tr>\n",
       "    <tr>\n",
       "      <th>...</th>\n",
       "      <th>...</th>\n",
       "      <td>...</td>\n",
       "      <td>...</td>\n",
       "      <td>...</td>\n",
       "      <td>...</td>\n",
       "    </tr>\n",
       "    <tr>\n",
       "      <th rowspan=\"5\" valign=\"top\">44825588</th>\n",
       "      <th>2022-01-04</th>\n",
       "      <td>MILHO (Sequeiro)</td>\n",
       "      <td>0.3599</td>\n",
       "      <td>39.015530</td>\n",
       "      <td>-8.919679</td>\n",
       "    </tr>\n",
       "    <tr>\n",
       "      <th>2022-01-09</th>\n",
       "      <td>MILHO (Sequeiro)</td>\n",
       "      <td>0.3568</td>\n",
       "      <td>39.015530</td>\n",
       "      <td>-8.919679</td>\n",
       "    </tr>\n",
       "    <tr>\n",
       "      <th>2022-01-14</th>\n",
       "      <td>MILHO (Sequeiro)</td>\n",
       "      <td>0.3613</td>\n",
       "      <td>39.015530</td>\n",
       "      <td>-8.919679</td>\n",
       "    </tr>\n",
       "    <tr>\n",
       "      <th>2022-01-19</th>\n",
       "      <td>MILHO (Sequeiro)</td>\n",
       "      <td>0.3516</td>\n",
       "      <td>39.015530</td>\n",
       "      <td>-8.919679</td>\n",
       "    </tr>\n",
       "    <tr>\n",
       "      <th>2022-01-24</th>\n",
       "      <td>MILHO (Sequeiro)</td>\n",
       "      <td>0.3471</td>\n",
       "      <td>39.015530</td>\n",
       "      <td>-8.919679</td>\n",
       "    </tr>\n",
       "  </tbody>\n",
       "</table>\n",
       "<p>463761 rows × 4 columns</p>\n",
       "</div>"
      ],
      "text/plain": [
       "                                 Crop  NDVI_MED        Lat       Lon\n",
       "ID       DATE                                                       \n",
       "26742    2020-09-01  MILHO (Sequeiro)    0.6511  39.490351 -8.921633\n",
       "         2020-09-06  MILHO (Sequeiro)    0.4831  39.490351 -8.921633\n",
       "         2020-09-11  MILHO (Sequeiro)    0.6104  39.490351 -8.921633\n",
       "         2020-09-16  MILHO (Sequeiro)    0.6390  39.490351 -8.921633\n",
       "         2020-09-21  MILHO (Sequeiro)    0.5985  39.490351 -8.921633\n",
       "...                               ...       ...        ...       ...\n",
       "44825588 2022-01-04  MILHO (Sequeiro)    0.3599  39.015530 -8.919679\n",
       "         2022-01-09  MILHO (Sequeiro)    0.3568  39.015530 -8.919679\n",
       "         2022-01-14  MILHO (Sequeiro)    0.3613  39.015530 -8.919679\n",
       "         2022-01-19  MILHO (Sequeiro)    0.3516  39.015530 -8.919679\n",
       "         2022-01-24  MILHO (Sequeiro)    0.3471  39.015530 -8.919679\n",
       "\n",
       "[463761 rows x 4 columns]"
      ]
     },
     "execution_count": 7,
     "metadata": {},
     "output_type": "execute_result"
    }
   ],
   "source": [
    "TabelaMilhoartigo.set_index([\"ID\",\"DATE\"]).sort_index()"
   ]
  },
  {
   "cell_type": "code",
   "execution_count": 8,
   "id": "8bcfdb8d-01a7-444c-a997-c28b8f068609",
   "metadata": {},
   "outputs": [
    {
     "data": {
      "text/html": [
       "<div>\n",
       "<style scoped>\n",
       "    .dataframe tbody tr th:only-of-type {\n",
       "        vertical-align: middle;\n",
       "    }\n",
       "\n",
       "    .dataframe tbody tr th {\n",
       "        vertical-align: top;\n",
       "    }\n",
       "\n",
       "    .dataframe thead th {\n",
       "        text-align: right;\n",
       "    }\n",
       "</style>\n",
       "<table border=\"1\" class=\"dataframe\">\n",
       "  <thead>\n",
       "    <tr style=\"text-align: right;\">\n",
       "      <th></th>\n",
       "      <th>ID</th>\n",
       "      <th>DATE</th>\n",
       "      <th>Crop</th>\n",
       "      <th>NDVI_MED</th>\n",
       "      <th>Lat</th>\n",
       "      <th>Lon</th>\n",
       "    </tr>\n",
       "  </thead>\n",
       "  <tbody>\n",
       "    <tr>\n",
       "      <th>0</th>\n",
       "      <td>26742</td>\n",
       "      <td>2020-09-01</td>\n",
       "      <td>MILHO (Sequeiro)</td>\n",
       "      <td>0.6511</td>\n",
       "      <td>39.490351</td>\n",
       "      <td>-8.921633</td>\n",
       "    </tr>\n",
       "    <tr>\n",
       "      <th>1</th>\n",
       "      <td>26742</td>\n",
       "      <td>2020-09-06</td>\n",
       "      <td>MILHO (Sequeiro)</td>\n",
       "      <td>0.4831</td>\n",
       "      <td>39.490351</td>\n",
       "      <td>-8.921633</td>\n",
       "    </tr>\n",
       "    <tr>\n",
       "      <th>2</th>\n",
       "      <td>26742</td>\n",
       "      <td>2020-09-11</td>\n",
       "      <td>MILHO (Sequeiro)</td>\n",
       "      <td>0.6104</td>\n",
       "      <td>39.490351</td>\n",
       "      <td>-8.921633</td>\n",
       "    </tr>\n",
       "    <tr>\n",
       "      <th>3</th>\n",
       "      <td>26742</td>\n",
       "      <td>2020-09-16</td>\n",
       "      <td>MILHO (Sequeiro)</td>\n",
       "      <td>0.6390</td>\n",
       "      <td>39.490351</td>\n",
       "      <td>-8.921633</td>\n",
       "    </tr>\n",
       "    <tr>\n",
       "      <th>4</th>\n",
       "      <td>26742</td>\n",
       "      <td>2020-09-21</td>\n",
       "      <td>MILHO (Sequeiro)</td>\n",
       "      <td>0.5985</td>\n",
       "      <td>39.490351</td>\n",
       "      <td>-8.921633</td>\n",
       "    </tr>\n",
       "    <tr>\n",
       "      <th>...</th>\n",
       "      <td>...</td>\n",
       "      <td>...</td>\n",
       "      <td>...</td>\n",
       "      <td>...</td>\n",
       "      <td>...</td>\n",
       "      <td>...</td>\n",
       "    </tr>\n",
       "    <tr>\n",
       "      <th>463756</th>\n",
       "      <td>44793426</td>\n",
       "      <td>2022-01-04</td>\n",
       "      <td>MILHO (Sequeiro)</td>\n",
       "      <td>0.0291</td>\n",
       "      <td>39.324599</td>\n",
       "      <td>-8.524624</td>\n",
       "    </tr>\n",
       "    <tr>\n",
       "      <th>463757</th>\n",
       "      <td>44793426</td>\n",
       "      <td>2022-01-09</td>\n",
       "      <td>MILHO (Sequeiro)</td>\n",
       "      <td>0.1501</td>\n",
       "      <td>39.324599</td>\n",
       "      <td>-8.524624</td>\n",
       "    </tr>\n",
       "    <tr>\n",
       "      <th>463758</th>\n",
       "      <td>44793426</td>\n",
       "      <td>2022-01-14</td>\n",
       "      <td>MILHO (Sequeiro)</td>\n",
       "      <td>0.2711</td>\n",
       "      <td>39.324599</td>\n",
       "      <td>-8.524624</td>\n",
       "    </tr>\n",
       "    <tr>\n",
       "      <th>463759</th>\n",
       "      <td>44793426</td>\n",
       "      <td>2022-01-19</td>\n",
       "      <td>MILHO (Sequeiro)</td>\n",
       "      <td>0.3927</td>\n",
       "      <td>39.324599</td>\n",
       "      <td>-8.524624</td>\n",
       "    </tr>\n",
       "    <tr>\n",
       "      <th>463760</th>\n",
       "      <td>44793426</td>\n",
       "      <td>2022-01-24</td>\n",
       "      <td>MILHO (Sequeiro)</td>\n",
       "      <td>0.3585</td>\n",
       "      <td>39.324599</td>\n",
       "      <td>-8.524624</td>\n",
       "    </tr>\n",
       "  </tbody>\n",
       "</table>\n",
       "<p>463761 rows × 6 columns</p>\n",
       "</div>"
      ],
      "text/plain": [
       "              ID        DATE              Crop  NDVI_MED        Lat       Lon\n",
       "0          26742  2020-09-01  MILHO (Sequeiro)    0.6511  39.490351 -8.921633\n",
       "1          26742  2020-09-06  MILHO (Sequeiro)    0.4831  39.490351 -8.921633\n",
       "2          26742  2020-09-11  MILHO (Sequeiro)    0.6104  39.490351 -8.921633\n",
       "3          26742  2020-09-16  MILHO (Sequeiro)    0.6390  39.490351 -8.921633\n",
       "4          26742  2020-09-21  MILHO (Sequeiro)    0.5985  39.490351 -8.921633\n",
       "...          ...         ...               ...       ...        ...       ...\n",
       "463756  44793426  2022-01-04  MILHO (Sequeiro)    0.0291  39.324599 -8.524624\n",
       "463757  44793426  2022-01-09  MILHO (Sequeiro)    0.1501  39.324599 -8.524624\n",
       "463758  44793426  2022-01-14  MILHO (Sequeiro)    0.2711  39.324599 -8.524624\n",
       "463759  44793426  2022-01-19  MILHO (Sequeiro)    0.3927  39.324599 -8.524624\n",
       "463760  44793426  2022-01-24  MILHO (Sequeiro)    0.3585  39.324599 -8.524624\n",
       "\n",
       "[463761 rows x 6 columns]"
      ]
     },
     "execution_count": 8,
     "metadata": {},
     "output_type": "execute_result"
    }
   ],
   "source": [
    "TabelaMilhoartigo"
   ]
  },
  {
   "cell_type": "code",
   "execution_count": 9,
   "id": "f7b21873-5c53-4a76-a1a9-a592f9fc38bf",
   "metadata": {},
   "outputs": [
    {
     "data": {
      "text/html": [
       "<div>\n",
       "<style scoped>\n",
       "    .dataframe tbody tr th:only-of-type {\n",
       "        vertical-align: middle;\n",
       "    }\n",
       "\n",
       "    .dataframe tbody tr th {\n",
       "        vertical-align: top;\n",
       "    }\n",
       "\n",
       "    .dataframe thead th {\n",
       "        text-align: right;\n",
       "    }\n",
       "</style>\n",
       "<table border=\"1\" class=\"dataframe\">\n",
       "  <thead>\n",
       "    <tr style=\"text-align: right;\">\n",
       "      <th></th>\n",
       "      <th>ID</th>\n",
       "      <th>DATA</th>\n",
       "      <th>Cultura</th>\n",
       "      <th>NDVI_MED</th>\n",
       "      <th>Lat</th>\n",
       "      <th>Lon</th>\n",
       "    </tr>\n",
       "  </thead>\n",
       "  <tbody>\n",
       "    <tr>\n",
       "      <th>0</th>\n",
       "      <td>26742</td>\n",
       "      <td>2020-09-01</td>\n",
       "      <td>MILHO (Sequeiro)</td>\n",
       "      <td>0.6511</td>\n",
       "      <td>39.490351</td>\n",
       "      <td>-8.921633</td>\n",
       "    </tr>\n",
       "    <tr>\n",
       "      <th>1</th>\n",
       "      <td>26742</td>\n",
       "      <td>2020-09-06</td>\n",
       "      <td>MILHO (Sequeiro)</td>\n",
       "      <td>0.4831</td>\n",
       "      <td>39.490351</td>\n",
       "      <td>-8.921633</td>\n",
       "    </tr>\n",
       "    <tr>\n",
       "      <th>2</th>\n",
       "      <td>26742</td>\n",
       "      <td>2020-09-11</td>\n",
       "      <td>MILHO (Sequeiro)</td>\n",
       "      <td>0.6104</td>\n",
       "      <td>39.490351</td>\n",
       "      <td>-8.921633</td>\n",
       "    </tr>\n",
       "    <tr>\n",
       "      <th>3</th>\n",
       "      <td>26742</td>\n",
       "      <td>2020-09-16</td>\n",
       "      <td>MILHO (Sequeiro)</td>\n",
       "      <td>0.6390</td>\n",
       "      <td>39.490351</td>\n",
       "      <td>-8.921633</td>\n",
       "    </tr>\n",
       "    <tr>\n",
       "      <th>4</th>\n",
       "      <td>26742</td>\n",
       "      <td>2020-09-21</td>\n",
       "      <td>MILHO (Sequeiro)</td>\n",
       "      <td>0.5985</td>\n",
       "      <td>39.490351</td>\n",
       "      <td>-8.921633</td>\n",
       "    </tr>\n",
       "    <tr>\n",
       "      <th>...</th>\n",
       "      <td>...</td>\n",
       "      <td>...</td>\n",
       "      <td>...</td>\n",
       "      <td>...</td>\n",
       "      <td>...</td>\n",
       "      <td>...</td>\n",
       "    </tr>\n",
       "    <tr>\n",
       "      <th>463756</th>\n",
       "      <td>44793426</td>\n",
       "      <td>2022-01-04</td>\n",
       "      <td>MILHO (Sequeiro)</td>\n",
       "      <td>0.0291</td>\n",
       "      <td>39.324599</td>\n",
       "      <td>-8.524624</td>\n",
       "    </tr>\n",
       "    <tr>\n",
       "      <th>463757</th>\n",
       "      <td>44793426</td>\n",
       "      <td>2022-01-09</td>\n",
       "      <td>MILHO (Sequeiro)</td>\n",
       "      <td>0.1501</td>\n",
       "      <td>39.324599</td>\n",
       "      <td>-8.524624</td>\n",
       "    </tr>\n",
       "    <tr>\n",
       "      <th>463758</th>\n",
       "      <td>44793426</td>\n",
       "      <td>2022-01-14</td>\n",
       "      <td>MILHO (Sequeiro)</td>\n",
       "      <td>0.2711</td>\n",
       "      <td>39.324599</td>\n",
       "      <td>-8.524624</td>\n",
       "    </tr>\n",
       "    <tr>\n",
       "      <th>463759</th>\n",
       "      <td>44793426</td>\n",
       "      <td>2022-01-19</td>\n",
       "      <td>MILHO (Sequeiro)</td>\n",
       "      <td>0.3927</td>\n",
       "      <td>39.324599</td>\n",
       "      <td>-8.524624</td>\n",
       "    </tr>\n",
       "    <tr>\n",
       "      <th>463760</th>\n",
       "      <td>44793426</td>\n",
       "      <td>2022-01-24</td>\n",
       "      <td>MILHO (Sequeiro)</td>\n",
       "      <td>0.3585</td>\n",
       "      <td>39.324599</td>\n",
       "      <td>-8.524624</td>\n",
       "    </tr>\n",
       "  </tbody>\n",
       "</table>\n",
       "<p>463761 rows × 6 columns</p>\n",
       "</div>"
      ],
      "text/plain": [
       "              ID        DATA           Cultura  NDVI_MED        Lat       Lon\n",
       "0          26742  2020-09-01  MILHO (Sequeiro)    0.6511  39.490351 -8.921633\n",
       "1          26742  2020-09-06  MILHO (Sequeiro)    0.4831  39.490351 -8.921633\n",
       "2          26742  2020-09-11  MILHO (Sequeiro)    0.6104  39.490351 -8.921633\n",
       "3          26742  2020-09-16  MILHO (Sequeiro)    0.6390  39.490351 -8.921633\n",
       "4          26742  2020-09-21  MILHO (Sequeiro)    0.5985  39.490351 -8.921633\n",
       "...          ...         ...               ...       ...        ...       ...\n",
       "463756  44793426  2022-01-04  MILHO (Sequeiro)    0.0291  39.324599 -8.524624\n",
       "463757  44793426  2022-01-09  MILHO (Sequeiro)    0.1501  39.324599 -8.524624\n",
       "463758  44793426  2022-01-14  MILHO (Sequeiro)    0.2711  39.324599 -8.524624\n",
       "463759  44793426  2022-01-19  MILHO (Sequeiro)    0.3927  39.324599 -8.524624\n",
       "463760  44793426  2022-01-24  MILHO (Sequeiro)    0.3585  39.324599 -8.524624\n",
       "\n",
       "[463761 rows x 6 columns]"
      ]
     },
     "execution_count": 9,
     "metadata": {},
     "output_type": "execute_result"
    }
   ],
   "source": [
    "TabelaMilho"
   ]
  },
  {
   "cell_type": "code",
   "execution_count": 10,
   "id": "b2fd65d0-df4e-4678-a1d9-7dc073f3f025",
   "metadata": {},
   "outputs": [
    {
     "data": {
      "text/html": [
       "<div>\n",
       "<style scoped>\n",
       "    .dataframe tbody tr th:only-of-type {\n",
       "        vertical-align: middle;\n",
       "    }\n",
       "\n",
       "    .dataframe tbody tr th {\n",
       "        vertical-align: top;\n",
       "    }\n",
       "\n",
       "    .dataframe thead th {\n",
       "        text-align: right;\n",
       "    }\n",
       "</style>\n",
       "<table border=\"1\" class=\"dataframe\">\n",
       "  <thead>\n",
       "    <tr style=\"text-align: right;\">\n",
       "      <th></th>\n",
       "      <th>Crop</th>\n",
       "      <th>Init. (Lini)</th>\n",
       "      <th>Dev. (Ldev)</th>\n",
       "      <th>Mid (Lmid)</th>\n",
       "      <th>Late (Llate)</th>\n",
       "      <th>Total</th>\n",
       "      <th>Plant Date</th>\n",
       "    </tr>\n",
       "  </thead>\n",
       "  <tbody>\n",
       "    <tr>\n",
       "      <th>0</th>\n",
       "      <td>Broculos</td>\n",
       "      <td>35</td>\n",
       "      <td>45</td>\n",
       "      <td>40</td>\n",
       "      <td>15</td>\n",
       "      <td>135</td>\n",
       "      <td>Set</td>\n",
       "    </tr>\n",
       "    <tr>\n",
       "      <th>1</th>\n",
       "      <td>Couve_repolho</td>\n",
       "      <td>40</td>\n",
       "      <td>60</td>\n",
       "      <td>50</td>\n",
       "      <td>15</td>\n",
       "      <td>165</td>\n",
       "      <td>Set</td>\n",
       "    </tr>\n",
       "    <tr>\n",
       "      <th>2</th>\n",
       "      <td>Cenoura</td>\n",
       "      <td>30</td>\n",
       "      <td>40</td>\n",
       "      <td>60</td>\n",
       "      <td>20</td>\n",
       "      <td>150</td>\n",
       "      <td>Feb_Mar</td>\n",
       "    </tr>\n",
       "    <tr>\n",
       "      <th>3</th>\n",
       "      <td>Couveflor</td>\n",
       "      <td>35</td>\n",
       "      <td>50</td>\n",
       "      <td>40</td>\n",
       "      <td>15</td>\n",
       "      <td>140</td>\n",
       "      <td>Set</td>\n",
       "    </tr>\n",
       "    <tr>\n",
       "      <th>4</th>\n",
       "      <td>Salsao_aipo</td>\n",
       "      <td>25</td>\n",
       "      <td>40</td>\n",
       "      <td>45</td>\n",
       "      <td>15</td>\n",
       "      <td>125</td>\n",
       "      <td>Abr</td>\n",
       "    </tr>\n",
       "  </tbody>\n",
       "</table>\n",
       "</div>"
      ],
      "text/plain": [
       "            Crop  Init. (Lini)  Dev. (Ldev)  Mid (Lmid)  Late (Llate)  Total  \\\n",
       "0       Broculos            35           45          40            15    135   \n",
       "1  Couve_repolho            40           60          50            15    165   \n",
       "2        Cenoura            30           40          60            20    150   \n",
       "3      Couveflor            35           50          40            15    140   \n",
       "4    Salsao_aipo            25           40          45            15    125   \n",
       "\n",
       "  Plant Date  \n",
       "0        Set  \n",
       "1        Set  \n",
       "2    Feb_Mar  \n",
       "3        Set  \n",
       "4        Abr  "
      ]
     },
     "execution_count": 10,
     "metadata": {},
     "output_type": "execute_result"
    }
   ],
   "source": [
    "TabelaTempo.head()"
   ]
  },
  {
   "cell_type": "code",
   "execution_count": 11,
   "id": "7f3308e1-4df0-416f-a1b0-ff5efa028f35",
   "metadata": {},
   "outputs": [
    {
     "data": {
      "text/html": [
       "<div>\n",
       "<style scoped>\n",
       "    .dataframe tbody tr th:only-of-type {\n",
       "        vertical-align: middle;\n",
       "    }\n",
       "\n",
       "    .dataframe tbody tr th {\n",
       "        vertical-align: top;\n",
       "    }\n",
       "\n",
       "    .dataframe thead th {\n",
       "        text-align: right;\n",
       "    }\n",
       "</style>\n",
       "<table border=\"1\" class=\"dataframe\">\n",
       "  <thead>\n",
       "    <tr style=\"text-align: right;\">\n",
       "      <th></th>\n",
       "      <th>Crop</th>\n",
       "      <th>Kc ini</th>\n",
       "      <th>Kc mid</th>\n",
       "      <th>Kc end</th>\n",
       "    </tr>\n",
       "  </thead>\n",
       "  <tbody>\n",
       "    <tr>\n",
       "      <th>0</th>\n",
       "      <td>Broculos</td>\n",
       "      <td>0.7</td>\n",
       "      <td>1.05</td>\n",
       "      <td>0.95</td>\n",
       "    </tr>\n",
       "    <tr>\n",
       "      <th>1</th>\n",
       "      <td>Couve_repolho</td>\n",
       "      <td>0.7</td>\n",
       "      <td>1.05</td>\n",
       "      <td>0.95</td>\n",
       "    </tr>\n",
       "    <tr>\n",
       "      <th>2</th>\n",
       "      <td>Cenoura</td>\n",
       "      <td>0.7</td>\n",
       "      <td>1.05</td>\n",
       "      <td>0.95</td>\n",
       "    </tr>\n",
       "    <tr>\n",
       "      <th>3</th>\n",
       "      <td>Couveflor</td>\n",
       "      <td>0.7</td>\n",
       "      <td>1.05</td>\n",
       "      <td>0.95</td>\n",
       "    </tr>\n",
       "    <tr>\n",
       "      <th>4</th>\n",
       "      <td>Salsao_aipo</td>\n",
       "      <td>0.7</td>\n",
       "      <td>1.05</td>\n",
       "      <td>1.00</td>\n",
       "    </tr>\n",
       "  </tbody>\n",
       "</table>\n",
       "</div>"
      ],
      "text/plain": [
       "            Crop  Kc ini  Kc mid  Kc end\n",
       "0       Broculos     0.7    1.05    0.95\n",
       "1  Couve_repolho     0.7    1.05    0.95\n",
       "2        Cenoura     0.7    1.05    0.95\n",
       "3      Couveflor     0.7    1.05    0.95\n",
       "4    Salsao_aipo     0.7    1.05    1.00"
      ]
     },
     "execution_count": 11,
     "metadata": {},
     "output_type": "execute_result"
    }
   ],
   "source": [
    "TabelaNDVI.head()"
   ]
  },
  {
   "cell_type": "code",
   "execution_count": 12,
   "id": "f0c14649-2776-485e-9e9d-5b864984c247",
   "metadata": {},
   "outputs": [],
   "source": [
    "TabelaMilho=TabelaMilho.drop(\"Cultura\", axis=1)"
   ]
  },
  {
   "cell_type": "code",
   "execution_count": 13,
   "id": "36b2e1d6-008b-4a18-9ee1-551aaaf42b37",
   "metadata": {},
   "outputs": [],
   "source": [
    "TabelaMilho2=TabelaMilho.set_index([\"ID\",\"DATA\"]).sort_index()"
   ]
  },
  {
   "cell_type": "code",
   "execution_count": 14,
   "id": "d8048264-99f5-4539-be1e-b6373e2f1c16",
   "metadata": {},
   "outputs": [
    {
     "data": {
      "text/html": [
       "<iframe\n",
       "    scrolling=\"no\"\n",
       "    width=\"100%\"\n",
       "    height=\"545px\"\n",
       "    src=\"iframe_figures/figure_14.html\"\n",
       "    frameborder=\"0\"\n",
       "    allowfullscreen\n",
       "></iframe>\n"
      ]
     },
     "metadata": {},
     "output_type": "display_data"
    }
   ],
   "source": [
    "# Representacao de todas as series/poligonos (apenas para verificacao)\n",
    "pio.renderers.default = 'iframe'\n",
    "px.line(\n",
    "    TabelaMilho2.reset_index(),\n",
    "    x=\"DATA\",\n",
    "    y=\"NDVI_MED\",\n",
    "    color=\"ID\",\n",
    ").update_layout(xaxis={\"type\": \"category\"},xaxis_title=\"DATE\",yaxis_title=\"NDVI\")"
   ]
  },
  {
   "cell_type": "code",
   "execution_count": 15,
   "id": "61fc15ac-8654-471e-b1f7-ae268a2d0f9e",
   "metadata": {},
   "outputs": [],
   "source": [
    "TabelaMilho3=TabelaMilho2.reset_index()"
   ]
  },
  {
   "cell_type": "code",
   "execution_count": 16,
   "id": "5c78635a-bebd-4eb7-938f-e3bf207b35be",
   "metadata": {},
   "outputs": [],
   "source": [
    "# A mesma representacao anterior\n",
    "TabelaMilho3.set_index(\"DATA\", inplace=True)\n",
    "#TabelaMilho3.groupby(\"ID\")[\"NDVI_MED\"].plot(legend=True, xlabel=\"DATA\", ylabel=\"NDVI_MED\",figsize=(8,6))"
   ]
  },
  {
   "cell_type": "code",
   "execution_count": 17,
   "id": "2cd2b876-04b3-4995-96b1-2c98e410780b",
   "metadata": {},
   "outputs": [],
   "source": [
    "TabelaMilho3=TabelaMilho3.reset_index()"
   ]
  },
  {
   "cell_type": "code",
   "execution_count": 18,
   "id": "03d237b2-5f9a-4e30-935f-1d0c7e13ff0f",
   "metadata": {},
   "outputs": [],
   "source": [
    "df = TabelaMilho3.pivot(index='DATA', columns='ID', values='NDVI_MED')"
   ]
  },
  {
   "cell_type": "code",
   "execution_count": 19,
   "id": "d5ddc3eb-3e9d-4139-956a-9558b6ac92ef",
   "metadata": {},
   "outputs": [
    {
     "data": {
      "text/html": [
       "<div>\n",
       "<style scoped>\n",
       "    .dataframe tbody tr th:only-of-type {\n",
       "        vertical-align: middle;\n",
       "    }\n",
       "\n",
       "    .dataframe tbody tr th {\n",
       "        vertical-align: top;\n",
       "    }\n",
       "\n",
       "    .dataframe thead th {\n",
       "        text-align: right;\n",
       "    }\n",
       "</style>\n",
       "<table border=\"1\" class=\"dataframe\">\n",
       "  <thead>\n",
       "    <tr style=\"text-align: right;\">\n",
       "      <th>ID</th>\n",
       "      <th>26742</th>\n",
       "      <th>142399</th>\n",
       "      <th>147088</th>\n",
       "      <th>270735</th>\n",
       "      <th>270992</th>\n",
       "      <th>453335</th>\n",
       "      <th>744056</th>\n",
       "      <th>842397</th>\n",
       "      <th>1305223</th>\n",
       "      <th>1305481</th>\n",
       "      <th>...</th>\n",
       "      <th>44805278</th>\n",
       "      <th>44812160</th>\n",
       "      <th>44812167</th>\n",
       "      <th>44816601</th>\n",
       "      <th>44819099</th>\n",
       "      <th>44821958</th>\n",
       "      <th>44823713</th>\n",
       "      <th>44825583</th>\n",
       "      <th>44825584</th>\n",
       "      <th>44825588</th>\n",
       "    </tr>\n",
       "    <tr>\n",
       "      <th>DATA</th>\n",
       "      <th></th>\n",
       "      <th></th>\n",
       "      <th></th>\n",
       "      <th></th>\n",
       "      <th></th>\n",
       "      <th></th>\n",
       "      <th></th>\n",
       "      <th></th>\n",
       "      <th></th>\n",
       "      <th></th>\n",
       "      <th></th>\n",
       "      <th></th>\n",
       "      <th></th>\n",
       "      <th></th>\n",
       "      <th></th>\n",
       "      <th></th>\n",
       "      <th></th>\n",
       "      <th></th>\n",
       "      <th></th>\n",
       "      <th></th>\n",
       "      <th></th>\n",
       "    </tr>\n",
       "  </thead>\n",
       "  <tbody>\n",
       "    <tr>\n",
       "      <th>2020-09-01</th>\n",
       "      <td>0.6511</td>\n",
       "      <td>0.4860</td>\n",
       "      <td>0.4605</td>\n",
       "      <td>0.3381</td>\n",
       "      <td>0.2624</td>\n",
       "      <td>0.3406</td>\n",
       "      <td>NaN</td>\n",
       "      <td>0.5644</td>\n",
       "      <td>0.2017</td>\n",
       "      <td>0.2637</td>\n",
       "      <td>...</td>\n",
       "      <td>0.1683</td>\n",
       "      <td>0.6862</td>\n",
       "      <td>0.3003</td>\n",
       "      <td>0.9088</td>\n",
       "      <td>0.1563</td>\n",
       "      <td>0.8349</td>\n",
       "      <td>0.7884</td>\n",
       "      <td>0.2633</td>\n",
       "      <td>0.2899</td>\n",
       "      <td>0.2914</td>\n",
       "    </tr>\n",
       "    <tr>\n",
       "      <th>2020-09-06</th>\n",
       "      <td>0.4831</td>\n",
       "      <td>0.4275</td>\n",
       "      <td>0.4369</td>\n",
       "      <td>0.3170</td>\n",
       "      <td>0.2761</td>\n",
       "      <td>0.3114</td>\n",
       "      <td>0.8937</td>\n",
       "      <td>0.5192</td>\n",
       "      <td>0.2062</td>\n",
       "      <td>0.2105</td>\n",
       "      <td>...</td>\n",
       "      <td>0.1677</td>\n",
       "      <td>0.6978</td>\n",
       "      <td>0.3017</td>\n",
       "      <td>0.8832</td>\n",
       "      <td>0.1566</td>\n",
       "      <td>0.8655</td>\n",
       "      <td>0.8950</td>\n",
       "      <td>0.2672</td>\n",
       "      <td>0.3139</td>\n",
       "      <td>0.3138</td>\n",
       "    </tr>\n",
       "    <tr>\n",
       "      <th>2020-09-11</th>\n",
       "      <td>0.6104</td>\n",
       "      <td>0.4395</td>\n",
       "      <td>0.4621</td>\n",
       "      <td>0.2959</td>\n",
       "      <td>0.2233</td>\n",
       "      <td>0.3318</td>\n",
       "      <td>0.8812</td>\n",
       "      <td>0.5419</td>\n",
       "      <td>0.2260</td>\n",
       "      <td>0.2265</td>\n",
       "      <td>...</td>\n",
       "      <td>0.1718</td>\n",
       "      <td>0.7125</td>\n",
       "      <td>0.3050</td>\n",
       "      <td>0.7188</td>\n",
       "      <td>0.2206</td>\n",
       "      <td>0.8809</td>\n",
       "      <td>0.8240</td>\n",
       "      <td>0.2984</td>\n",
       "      <td>0.3628</td>\n",
       "      <td>0.3570</td>\n",
       "    </tr>\n",
       "    <tr>\n",
       "      <th>2020-09-16</th>\n",
       "      <td>0.6390</td>\n",
       "      <td>0.4362</td>\n",
       "      <td>0.4834</td>\n",
       "      <td>0.2776</td>\n",
       "      <td>0.0838</td>\n",
       "      <td>0.3398</td>\n",
       "      <td>0.8682</td>\n",
       "      <td>0.5659</td>\n",
       "      <td>0.2755</td>\n",
       "      <td>0.2325</td>\n",
       "      <td>...</td>\n",
       "      <td>0.1888</td>\n",
       "      <td>0.6955</td>\n",
       "      <td>0.3080</td>\n",
       "      <td>0.7668</td>\n",
       "      <td>0.2846</td>\n",
       "      <td>0.8559</td>\n",
       "      <td>0.8720</td>\n",
       "      <td>0.3184</td>\n",
       "      <td>0.4048</td>\n",
       "      <td>0.3889</td>\n",
       "    </tr>\n",
       "    <tr>\n",
       "      <th>2020-09-21</th>\n",
       "      <td>0.5985</td>\n",
       "      <td>0.4250</td>\n",
       "      <td>0.5190</td>\n",
       "      <td>0.2621</td>\n",
       "      <td>0.3465</td>\n",
       "      <td>0.3859</td>\n",
       "      <td>0.8552</td>\n",
       "      <td>0.5896</td>\n",
       "      <td>0.3248</td>\n",
       "      <td>0.2388</td>\n",
       "      <td>...</td>\n",
       "      <td>0.2061</td>\n",
       "      <td>0.6785</td>\n",
       "      <td>0.3111</td>\n",
       "      <td>0.8148</td>\n",
       "      <td>0.3486</td>\n",
       "      <td>0.8309</td>\n",
       "      <td>0.9202</td>\n",
       "      <td>0.3625</td>\n",
       "      <td>0.4375</td>\n",
       "      <td>0.4086</td>\n",
       "    </tr>\n",
       "    <tr>\n",
       "      <th>...</th>\n",
       "      <td>...</td>\n",
       "      <td>...</td>\n",
       "      <td>...</td>\n",
       "      <td>...</td>\n",
       "      <td>...</td>\n",
       "      <td>...</td>\n",
       "      <td>...</td>\n",
       "      <td>...</td>\n",
       "      <td>...</td>\n",
       "      <td>...</td>\n",
       "      <td>...</td>\n",
       "      <td>...</td>\n",
       "      <td>...</td>\n",
       "      <td>...</td>\n",
       "      <td>...</td>\n",
       "      <td>...</td>\n",
       "      <td>...</td>\n",
       "      <td>...</td>\n",
       "      <td>...</td>\n",
       "      <td>...</td>\n",
       "      <td>...</td>\n",
       "    </tr>\n",
       "    <tr>\n",
       "      <th>2022-01-04</th>\n",
       "      <td>0.0319</td>\n",
       "      <td>0.0225</td>\n",
       "      <td>0.0187</td>\n",
       "      <td>0.4945</td>\n",
       "      <td>0.8501</td>\n",
       "      <td>0.6693</td>\n",
       "      <td>0.2268</td>\n",
       "      <td>0.5161</td>\n",
       "      <td>0.0146</td>\n",
       "      <td>0.0228</td>\n",
       "      <td>...</td>\n",
       "      <td>0.0208</td>\n",
       "      <td>0.2008</td>\n",
       "      <td>0.3290</td>\n",
       "      <td>0.1871</td>\n",
       "      <td>0.4753</td>\n",
       "      <td>0.1757</td>\n",
       "      <td>0.5990</td>\n",
       "      <td>0.4551</td>\n",
       "      <td>0.4619</td>\n",
       "      <td>0.3599</td>\n",
       "    </tr>\n",
       "    <tr>\n",
       "      <th>2022-01-09</th>\n",
       "      <td>0.2819</td>\n",
       "      <td>0.4198</td>\n",
       "      <td>0.8107</td>\n",
       "      <td>0.4932</td>\n",
       "      <td>0.8714</td>\n",
       "      <td>0.6120</td>\n",
       "      <td>0.2368</td>\n",
       "      <td>0.5361</td>\n",
       "      <td>0.1366</td>\n",
       "      <td>0.1153</td>\n",
       "      <td>...</td>\n",
       "      <td>0.1418</td>\n",
       "      <td>0.2053</td>\n",
       "      <td>0.3320</td>\n",
       "      <td>0.1871</td>\n",
       "      <td>0.3793</td>\n",
       "      <td>0.1712</td>\n",
       "      <td>0.6275</td>\n",
       "      <td>0.4895</td>\n",
       "      <td>0.4981</td>\n",
       "      <td>0.3568</td>\n",
       "    </tr>\n",
       "    <tr>\n",
       "      <th>2022-01-14</th>\n",
       "      <td>0.5319</td>\n",
       "      <td>0.3903</td>\n",
       "      <td>0.8142</td>\n",
       "      <td>0.5002</td>\n",
       "      <td>0.8799</td>\n",
       "      <td>0.7385</td>\n",
       "      <td>0.2468</td>\n",
       "      <td>0.5561</td>\n",
       "      <td>0.2586</td>\n",
       "      <td>0.2078</td>\n",
       "      <td>...</td>\n",
       "      <td>0.2628</td>\n",
       "      <td>0.2098</td>\n",
       "      <td>0.3350</td>\n",
       "      <td>0.1871</td>\n",
       "      <td>0.2833</td>\n",
       "      <td>0.1667</td>\n",
       "      <td>0.6560</td>\n",
       "      <td>0.4980</td>\n",
       "      <td>0.5061</td>\n",
       "      <td>0.3613</td>\n",
       "    </tr>\n",
       "    <tr>\n",
       "      <th>2022-01-19</th>\n",
       "      <td>0.6863</td>\n",
       "      <td>0.3646</td>\n",
       "      <td>0.8287</td>\n",
       "      <td>0.5290</td>\n",
       "      <td>0.8608</td>\n",
       "      <td>0.8170</td>\n",
       "      <td>0.2569</td>\n",
       "      <td>0.5767</td>\n",
       "      <td>0.3799</td>\n",
       "      <td>0.2998</td>\n",
       "      <td>...</td>\n",
       "      <td>0.3845</td>\n",
       "      <td>0.2153</td>\n",
       "      <td>0.3374</td>\n",
       "      <td>0.1866</td>\n",
       "      <td>0.1880</td>\n",
       "      <td>0.1622</td>\n",
       "      <td>0.6844</td>\n",
       "      <td>0.4932</td>\n",
       "      <td>0.5178</td>\n",
       "      <td>0.3516</td>\n",
       "    </tr>\n",
       "    <tr>\n",
       "      <th>2022-01-24</th>\n",
       "      <td>0.6382</td>\n",
       "      <td>0.3260</td>\n",
       "      <td>0.6615</td>\n",
       "      <td>0.4927</td>\n",
       "      <td>0.8180</td>\n",
       "      <td>0.7671</td>\n",
       "      <td>NaN</td>\n",
       "      <td>0.4739</td>\n",
       "      <td>0.3571</td>\n",
       "      <td>0.3082</td>\n",
       "      <td>...</td>\n",
       "      <td>0.3774</td>\n",
       "      <td>0.2043</td>\n",
       "      <td>0.3004</td>\n",
       "      <td>0.1914</td>\n",
       "      <td>0.1885</td>\n",
       "      <td>0.1575</td>\n",
       "      <td>0.4257</td>\n",
       "      <td>0.4665</td>\n",
       "      <td>0.4902</td>\n",
       "      <td>0.3471</td>\n",
       "    </tr>\n",
       "  </tbody>\n",
       "</table>\n",
       "<p>103 rows × 4779 columns</p>\n",
       "</div>"
      ],
      "text/plain": [
       "ID          26742     142399    147088    270735    270992    453335    \\\n",
       "DATA                                                                     \n",
       "2020-09-01    0.6511    0.4860    0.4605    0.3381    0.2624    0.3406   \n",
       "2020-09-06    0.4831    0.4275    0.4369    0.3170    0.2761    0.3114   \n",
       "2020-09-11    0.6104    0.4395    0.4621    0.2959    0.2233    0.3318   \n",
       "2020-09-16    0.6390    0.4362    0.4834    0.2776    0.0838    0.3398   \n",
       "2020-09-21    0.5985    0.4250    0.5190    0.2621    0.3465    0.3859   \n",
       "...              ...       ...       ...       ...       ...       ...   \n",
       "2022-01-04    0.0319    0.0225    0.0187    0.4945    0.8501    0.6693   \n",
       "2022-01-09    0.2819    0.4198    0.8107    0.4932    0.8714    0.6120   \n",
       "2022-01-14    0.5319    0.3903    0.8142    0.5002    0.8799    0.7385   \n",
       "2022-01-19    0.6863    0.3646    0.8287    0.5290    0.8608    0.8170   \n",
       "2022-01-24    0.6382    0.3260    0.6615    0.4927    0.8180    0.7671   \n",
       "\n",
       "ID          744056    842397    1305223   1305481   ...  44805278  44812160  \\\n",
       "DATA                                                ...                       \n",
       "2020-09-01       NaN    0.5644    0.2017    0.2637  ...    0.1683    0.6862   \n",
       "2020-09-06    0.8937    0.5192    0.2062    0.2105  ...    0.1677    0.6978   \n",
       "2020-09-11    0.8812    0.5419    0.2260    0.2265  ...    0.1718    0.7125   \n",
       "2020-09-16    0.8682    0.5659    0.2755    0.2325  ...    0.1888    0.6955   \n",
       "2020-09-21    0.8552    0.5896    0.3248    0.2388  ...    0.2061    0.6785   \n",
       "...              ...       ...       ...       ...  ...       ...       ...   \n",
       "2022-01-04    0.2268    0.5161    0.0146    0.0228  ...    0.0208    0.2008   \n",
       "2022-01-09    0.2368    0.5361    0.1366    0.1153  ...    0.1418    0.2053   \n",
       "2022-01-14    0.2468    0.5561    0.2586    0.2078  ...    0.2628    0.2098   \n",
       "2022-01-19    0.2569    0.5767    0.3799    0.2998  ...    0.3845    0.2153   \n",
       "2022-01-24       NaN    0.4739    0.3571    0.3082  ...    0.3774    0.2043   \n",
       "\n",
       "ID          44812167  44816601  44819099  44821958  44823713  44825583  \\\n",
       "DATA                                                                     \n",
       "2020-09-01    0.3003    0.9088    0.1563    0.8349    0.7884    0.2633   \n",
       "2020-09-06    0.3017    0.8832    0.1566    0.8655    0.8950    0.2672   \n",
       "2020-09-11    0.3050    0.7188    0.2206    0.8809    0.8240    0.2984   \n",
       "2020-09-16    0.3080    0.7668    0.2846    0.8559    0.8720    0.3184   \n",
       "2020-09-21    0.3111    0.8148    0.3486    0.8309    0.9202    0.3625   \n",
       "...              ...       ...       ...       ...       ...       ...   \n",
       "2022-01-04    0.3290    0.1871    0.4753    0.1757    0.5990    0.4551   \n",
       "2022-01-09    0.3320    0.1871    0.3793    0.1712    0.6275    0.4895   \n",
       "2022-01-14    0.3350    0.1871    0.2833    0.1667    0.6560    0.4980   \n",
       "2022-01-19    0.3374    0.1866    0.1880    0.1622    0.6844    0.4932   \n",
       "2022-01-24    0.3004    0.1914    0.1885    0.1575    0.4257    0.4665   \n",
       "\n",
       "ID          44825584  44825588  \n",
       "DATA                            \n",
       "2020-09-01    0.2899    0.2914  \n",
       "2020-09-06    0.3139    0.3138  \n",
       "2020-09-11    0.3628    0.3570  \n",
       "2020-09-16    0.4048    0.3889  \n",
       "2020-09-21    0.4375    0.4086  \n",
       "...              ...       ...  \n",
       "2022-01-04    0.4619    0.3599  \n",
       "2022-01-09    0.4981    0.3568  \n",
       "2022-01-14    0.5061    0.3613  \n",
       "2022-01-19    0.5178    0.3516  \n",
       "2022-01-24    0.4902    0.3471  \n",
       "\n",
       "[103 rows x 4779 columns]"
      ]
     },
     "execution_count": 19,
     "metadata": {},
     "output_type": "execute_result"
    }
   ],
   "source": [
    "df"
   ]
  },
  {
   "cell_type": "code",
   "execution_count": 20,
   "id": "f2c72f9e-e860-4ae1-a003-fe9462263476",
   "metadata": {},
   "outputs": [
    {
     "data": {
      "text/plain": [
       "Index(['2020-09-01', '2020-09-06', '2020-09-11', '2020-09-16', '2020-09-21',\n",
       "       '2020-09-26', '2020-10-01', '2020-10-06', '2020-10-11', '2020-10-16',\n",
       "       ...\n",
       "       '2021-12-10', '2021-12-15', '2021-12-20', '2021-12-25', '2021-12-30',\n",
       "       '2022-01-04', '2022-01-09', '2022-01-14', '2022-01-19', '2022-01-24'],\n",
       "      dtype='object', name='DATA', length=103)"
      ]
     },
     "execution_count": 20,
     "metadata": {},
     "output_type": "execute_result"
    }
   ],
   "source": [
    "df.index"
   ]
  },
  {
   "cell_type": "code",
   "execution_count": 21,
   "id": "5d4e9d93-a65c-4424-82b7-b260b3cd75ff",
   "metadata": {},
   "outputs": [],
   "source": [
    "import datetime\n",
    "from datetime import datetime, timedelta, time, date"
   ]
  },
  {
   "cell_type": "code",
   "execution_count": 22,
   "id": "3a2bc05c-1a89-4acc-b929-2aeced08b49a",
   "metadata": {},
   "outputs": [],
   "source": [
    "#criação de uma lista do número de dias  \n",
    "timelist=[]\n",
    "i=0\n",
    "for x in df.index.values:\n",
    "    date_format = \"%Y-%m-%d\"\n",
    "    a = datetime.strptime(df.index.values[0], date_format)\n",
    "    b = datetime.strptime(df.index.values[i], date_format)\n",
    "    delta = b - a\n",
    "    timelist.append(delta.days)\n",
    "    i=i+1"
   ]
  },
  {
   "cell_type": "code",
   "execution_count": 23,
   "id": "84f42c35-cb9b-4e3d-a7c9-7574dae726be",
   "metadata": {},
   "outputs": [
    {
     "data": {
      "text/plain": [
       "[0,\n",
       " 5,\n",
       " 10,\n",
       " 15,\n",
       " 20,\n",
       " 25,\n",
       " 30,\n",
       " 35,\n",
       " 40,\n",
       " 45,\n",
       " 50,\n",
       " 55,\n",
       " 60,\n",
       " 65,\n",
       " 70,\n",
       " 75,\n",
       " 80,\n",
       " 85,\n",
       " 90,\n",
       " 95,\n",
       " 100,\n",
       " 105,\n",
       " 110,\n",
       " 115,\n",
       " 120,\n",
       " 125,\n",
       " 130,\n",
       " 135,\n",
       " 140,\n",
       " 145,\n",
       " 150,\n",
       " 155,\n",
       " 160,\n",
       " 165,\n",
       " 170,\n",
       " 175,\n",
       " 180,\n",
       " 185,\n",
       " 190,\n",
       " 195,\n",
       " 200,\n",
       " 205,\n",
       " 210,\n",
       " 215,\n",
       " 220,\n",
       " 225,\n",
       " 230,\n",
       " 235,\n",
       " 240,\n",
       " 245,\n",
       " 250,\n",
       " 255,\n",
       " 260,\n",
       " 265,\n",
       " 270,\n",
       " 275,\n",
       " 280,\n",
       " 285,\n",
       " 290,\n",
       " 295,\n",
       " 300,\n",
       " 305,\n",
       " 310,\n",
       " 315,\n",
       " 320,\n",
       " 325,\n",
       " 330,\n",
       " 335,\n",
       " 340,\n",
       " 345,\n",
       " 350,\n",
       " 355,\n",
       " 360,\n",
       " 365,\n",
       " 370,\n",
       " 375,\n",
       " 380,\n",
       " 385,\n",
       " 390,\n",
       " 395,\n",
       " 400,\n",
       " 405,\n",
       " 410,\n",
       " 415,\n",
       " 420,\n",
       " 425,\n",
       " 430,\n",
       " 435,\n",
       " 440,\n",
       " 445,\n",
       " 450,\n",
       " 455,\n",
       " 460,\n",
       " 465,\n",
       " 470,\n",
       " 475,\n",
       " 480,\n",
       " 485,\n",
       " 490,\n",
       " 495,\n",
       " 500,\n",
       " 505,\n",
       " 510]"
      ]
     },
     "execution_count": 23,
     "metadata": {},
     "output_type": "execute_result"
    }
   ],
   "source": [
    "timelist"
   ]
  },
  {
   "cell_type": "code",
   "execution_count": 24,
   "id": "8be06f51-7b35-4d65-8acc-ba7515ead18c",
   "metadata": {},
   "outputs": [],
   "source": [
    "df.index = pd.to_datetime(df.index, format='%Y-%m-%d')"
   ]
  },
  {
   "cell_type": "code",
   "execution_count": 25,
   "id": "927bd475-79ef-4612-be11-8ecb9c383e03",
   "metadata": {},
   "outputs": [],
   "source": [
    "#Conversão de 5 dias para 1 dia\n",
    "df=df.resample('D').interpolate(method='linear')"
   ]
  },
  {
   "cell_type": "code",
   "execution_count": 26,
   "id": "f20e4e45-6368-4b5b-8716-98499edca275",
   "metadata": {},
   "outputs": [],
   "source": [
    "# Remocao de NaN\n",
    "df=df.interpolate(method=\"linear\")\n",
    "df=df.bfill(axis ='rows')\n",
    "df=df.ffill(axis ='rows')"
   ]
  },
  {
   "cell_type": "code",
   "execution_count": 27,
   "id": "27ca4843-ce12-4f94-a50d-11b3f56a660d",
   "metadata": {},
   "outputs": [
    {
     "data": {
      "text/plain": [
       "DatetimeIndex(['2020-09-01', '2020-09-02', '2020-09-03', '2020-09-04',\n",
       "               '2020-09-05', '2020-09-06', '2020-09-07', '2020-09-08',\n",
       "               '2020-09-09', '2020-09-10',\n",
       "               ...\n",
       "               '2022-01-15', '2022-01-16', '2022-01-17', '2022-01-18',\n",
       "               '2022-01-19', '2022-01-20', '2022-01-21', '2022-01-22',\n",
       "               '2022-01-23', '2022-01-24'],\n",
       "              dtype='datetime64[ns]', name='DATA', length=511, freq='D')"
      ]
     },
     "execution_count": 27,
     "metadata": {},
     "output_type": "execute_result"
    }
   ],
   "source": [
    "df.index"
   ]
  },
  {
   "cell_type": "code",
   "execution_count": 28,
   "id": "0d694308-67ad-41b9-9635-19d430ca0929",
   "metadata": {},
   "outputs": [],
   "source": [
    "df_trans=df.T"
   ]
  },
  {
   "cell_type": "code",
   "execution_count": 29,
   "id": "6362bd69-228c-4569-be86-a15e732a5173",
   "metadata": {},
   "outputs": [
    {
     "data": {
      "text/html": [
       "<div>\n",
       "<style scoped>\n",
       "    .dataframe tbody tr th:only-of-type {\n",
       "        vertical-align: middle;\n",
       "    }\n",
       "\n",
       "    .dataframe tbody tr th {\n",
       "        vertical-align: top;\n",
       "    }\n",
       "\n",
       "    .dataframe thead th {\n",
       "        text-align: right;\n",
       "    }\n",
       "</style>\n",
       "<table border=\"1\" class=\"dataframe\">\n",
       "  <thead>\n",
       "    <tr style=\"text-align: right;\">\n",
       "      <th></th>\n",
       "      <th>ID</th>\n",
       "      <th>DATA</th>\n",
       "      <th>NDVI_MED</th>\n",
       "      <th>Lat</th>\n",
       "      <th>Lon</th>\n",
       "    </tr>\n",
       "  </thead>\n",
       "  <tbody>\n",
       "    <tr>\n",
       "      <th>0</th>\n",
       "      <td>26742</td>\n",
       "      <td>2020-09-01</td>\n",
       "      <td>0.6511</td>\n",
       "      <td>39.490351</td>\n",
       "      <td>-8.921633</td>\n",
       "    </tr>\n",
       "    <tr>\n",
       "      <th>1</th>\n",
       "      <td>26742</td>\n",
       "      <td>2020-09-06</td>\n",
       "      <td>0.4831</td>\n",
       "      <td>39.490351</td>\n",
       "      <td>-8.921633</td>\n",
       "    </tr>\n",
       "    <tr>\n",
       "      <th>2</th>\n",
       "      <td>26742</td>\n",
       "      <td>2020-09-11</td>\n",
       "      <td>0.6104</td>\n",
       "      <td>39.490351</td>\n",
       "      <td>-8.921633</td>\n",
       "    </tr>\n",
       "    <tr>\n",
       "      <th>3</th>\n",
       "      <td>26742</td>\n",
       "      <td>2020-09-16</td>\n",
       "      <td>0.6390</td>\n",
       "      <td>39.490351</td>\n",
       "      <td>-8.921633</td>\n",
       "    </tr>\n",
       "    <tr>\n",
       "      <th>4</th>\n",
       "      <td>26742</td>\n",
       "      <td>2020-09-21</td>\n",
       "      <td>0.5985</td>\n",
       "      <td>39.490351</td>\n",
       "      <td>-8.921633</td>\n",
       "    </tr>\n",
       "  </tbody>\n",
       "</table>\n",
       "</div>"
      ],
      "text/plain": [
       "      ID        DATA  NDVI_MED        Lat       Lon\n",
       "0  26742  2020-09-01    0.6511  39.490351 -8.921633\n",
       "1  26742  2020-09-06    0.4831  39.490351 -8.921633\n",
       "2  26742  2020-09-11    0.6104  39.490351 -8.921633\n",
       "3  26742  2020-09-16    0.6390  39.490351 -8.921633\n",
       "4  26742  2020-09-21    0.5985  39.490351 -8.921633"
      ]
     },
     "execution_count": 29,
     "metadata": {},
     "output_type": "execute_result"
    }
   ],
   "source": [
    "TabelaMilho.head()"
   ]
  },
  {
   "cell_type": "code",
   "execution_count": 30,
   "id": "9468d858-1173-4e1f-a987-b1c937e8ac02",
   "metadata": {},
   "outputs": [],
   "source": [
    "#Ver apenas os ID únicos\n",
    "TabelaMilhoUnique=TabelaMilho.drop_duplicates(subset=['ID'])"
   ]
  },
  {
   "cell_type": "code",
   "execution_count": 31,
   "id": "8c60c30a-3e24-4302-a586-83bede95f43f",
   "metadata": {},
   "outputs": [
    {
     "name": "stderr",
     "output_type": "stream",
     "text": [
      "C:\\Users\\Guilherme\\AppData\\Local\\Temp\\ipykernel_13676\\3247887478.py:1: SettingWithCopyWarning:\n",
      "\n",
      "\n",
      "A value is trying to be set on a copy of a slice from a DataFrame\n",
      "\n",
      "See the caveats in the documentation: https://pandas.pydata.org/pandas-docs/stable/user_guide/indexing.html#returning-a-view-versus-a-copy\n",
      "\n"
     ]
    }
   ],
   "source": [
    "TabelaMilhoUnique.drop(['DATA', 'NDVI_MED'], axis=1, inplace=True)"
   ]
  },
  {
   "cell_type": "code",
   "execution_count": 32,
   "id": "c98e2959-b6c0-4ff6-8d84-27ff0b68d6f5",
   "metadata": {},
   "outputs": [
    {
     "data": {
      "text/html": [
       "<div>\n",
       "<style scoped>\n",
       "    .dataframe tbody tr th:only-of-type {\n",
       "        vertical-align: middle;\n",
       "    }\n",
       "\n",
       "    .dataframe tbody tr th {\n",
       "        vertical-align: top;\n",
       "    }\n",
       "\n",
       "    .dataframe thead th {\n",
       "        text-align: right;\n",
       "    }\n",
       "</style>\n",
       "<table border=\"1\" class=\"dataframe\">\n",
       "  <thead>\n",
       "    <tr style=\"text-align: right;\">\n",
       "      <th></th>\n",
       "      <th>ID</th>\n",
       "      <th>Lat</th>\n",
       "      <th>Lon</th>\n",
       "    </tr>\n",
       "  </thead>\n",
       "  <tbody>\n",
       "    <tr>\n",
       "      <th>0</th>\n",
       "      <td>26742</td>\n",
       "      <td>39.490351</td>\n",
       "      <td>-8.921633</td>\n",
       "    </tr>\n",
       "    <tr>\n",
       "      <th>103</th>\n",
       "      <td>142399</td>\n",
       "      <td>39.689617</td>\n",
       "      <td>-8.822106</td>\n",
       "    </tr>\n",
       "    <tr>\n",
       "      <th>206</th>\n",
       "      <td>147088</td>\n",
       "      <td>39.654462</td>\n",
       "      <td>-8.750712</td>\n",
       "    </tr>\n",
       "    <tr>\n",
       "      <th>309</th>\n",
       "      <td>270735</td>\n",
       "      <td>39.674235</td>\n",
       "      <td>-8.703391</td>\n",
       "    </tr>\n",
       "    <tr>\n",
       "      <th>407</th>\n",
       "      <td>270992</td>\n",
       "      <td>39.682310</td>\n",
       "      <td>-8.693551</td>\n",
       "    </tr>\n",
       "    <tr>\n",
       "      <th>...</th>\n",
       "      <td>...</td>\n",
       "      <td>...</td>\n",
       "      <td>...</td>\n",
       "    </tr>\n",
       "    <tr>\n",
       "      <th>463281</th>\n",
       "      <td>44693605</td>\n",
       "      <td>39.494279</td>\n",
       "      <td>-8.586319</td>\n",
       "    </tr>\n",
       "    <tr>\n",
       "      <th>463377</th>\n",
       "      <td>44713235</td>\n",
       "      <td>39.386970</td>\n",
       "      <td>-8.466177</td>\n",
       "    </tr>\n",
       "    <tr>\n",
       "      <th>463473</th>\n",
       "      <td>44752766</td>\n",
       "      <td>39.348913</td>\n",
       "      <td>-8.524470</td>\n",
       "    </tr>\n",
       "    <tr>\n",
       "      <th>463569</th>\n",
       "      <td>44793424</td>\n",
       "      <td>39.323011</td>\n",
       "      <td>-8.522392</td>\n",
       "    </tr>\n",
       "    <tr>\n",
       "      <th>463665</th>\n",
       "      <td>44793426</td>\n",
       "      <td>39.324599</td>\n",
       "      <td>-8.524624</td>\n",
       "    </tr>\n",
       "  </tbody>\n",
       "</table>\n",
       "<p>4779 rows × 3 columns</p>\n",
       "</div>"
      ],
      "text/plain": [
       "              ID        Lat       Lon\n",
       "0          26742  39.490351 -8.921633\n",
       "103       142399  39.689617 -8.822106\n",
       "206       147088  39.654462 -8.750712\n",
       "309       270735  39.674235 -8.703391\n",
       "407       270992  39.682310 -8.693551\n",
       "...          ...        ...       ...\n",
       "463281  44693605  39.494279 -8.586319\n",
       "463377  44713235  39.386970 -8.466177\n",
       "463473  44752766  39.348913 -8.524470\n",
       "463569  44793424  39.323011 -8.522392\n",
       "463665  44793426  39.324599 -8.524624\n",
       "\n",
       "[4779 rows x 3 columns]"
      ]
     },
     "execution_count": 32,
     "metadata": {},
     "output_type": "execute_result"
    }
   ],
   "source": [
    "TabelaMilhoUnique"
   ]
  },
  {
   "cell_type": "code",
   "execution_count": 33,
   "id": "bed53655-799f-47df-a220-fea0fc3965ab",
   "metadata": {},
   "outputs": [
    {
     "name": "stderr",
     "output_type": "stream",
     "text": [
      "C:\\Users\\Guilherme\\AppData\\Local\\Temp\\ipykernel_13676\\1177385422.py:2: SettingWithCopyWarning:\n",
      "\n",
      "\n",
      "A value is trying to be set on a copy of a slice from a DataFrame.\n",
      "Try using .loc[row_indexer,col_indexer] = value instead\n",
      "\n",
      "See the caveats in the documentation: https://pandas.pydata.org/pandas-docs/stable/user_guide/indexing.html#returning-a-view-versus-a-copy\n",
      "\n"
     ]
    }
   ],
   "source": [
    "TabelaMilhoUnique2=TabelaMilhoUnique\n",
    "TabelaMilhoUnique2['Size']=10"
   ]
  },
  {
   "cell_type": "code",
   "execution_count": 34,
   "id": "ebd8744c-602a-42f8-862e-c8bab1d60ec3",
   "metadata": {},
   "outputs": [
    {
     "data": {
      "text/html": [
       "<div>\n",
       "<style scoped>\n",
       "    .dataframe tbody tr th:only-of-type {\n",
       "        vertical-align: middle;\n",
       "    }\n",
       "\n",
       "    .dataframe tbody tr th {\n",
       "        vertical-align: top;\n",
       "    }\n",
       "\n",
       "    .dataframe thead th {\n",
       "        text-align: right;\n",
       "    }\n",
       "</style>\n",
       "<table border=\"1\" class=\"dataframe\">\n",
       "  <thead>\n",
       "    <tr style=\"text-align: right;\">\n",
       "      <th></th>\n",
       "      <th>ID</th>\n",
       "      <th>Lat</th>\n",
       "      <th>Lon</th>\n",
       "      <th>Size</th>\n",
       "    </tr>\n",
       "  </thead>\n",
       "  <tbody>\n",
       "    <tr>\n",
       "      <th>0</th>\n",
       "      <td>26742</td>\n",
       "      <td>39.490351</td>\n",
       "      <td>-8.921633</td>\n",
       "      <td>10</td>\n",
       "    </tr>\n",
       "    <tr>\n",
       "      <th>103</th>\n",
       "      <td>142399</td>\n",
       "      <td>39.689617</td>\n",
       "      <td>-8.822106</td>\n",
       "      <td>10</td>\n",
       "    </tr>\n",
       "    <tr>\n",
       "      <th>206</th>\n",
       "      <td>147088</td>\n",
       "      <td>39.654462</td>\n",
       "      <td>-8.750712</td>\n",
       "      <td>10</td>\n",
       "    </tr>\n",
       "    <tr>\n",
       "      <th>309</th>\n",
       "      <td>270735</td>\n",
       "      <td>39.674235</td>\n",
       "      <td>-8.703391</td>\n",
       "      <td>10</td>\n",
       "    </tr>\n",
       "    <tr>\n",
       "      <th>407</th>\n",
       "      <td>270992</td>\n",
       "      <td>39.682310</td>\n",
       "      <td>-8.693551</td>\n",
       "      <td>10</td>\n",
       "    </tr>\n",
       "    <tr>\n",
       "      <th>...</th>\n",
       "      <td>...</td>\n",
       "      <td>...</td>\n",
       "      <td>...</td>\n",
       "      <td>...</td>\n",
       "    </tr>\n",
       "    <tr>\n",
       "      <th>463281</th>\n",
       "      <td>44693605</td>\n",
       "      <td>39.494279</td>\n",
       "      <td>-8.586319</td>\n",
       "      <td>10</td>\n",
       "    </tr>\n",
       "    <tr>\n",
       "      <th>463377</th>\n",
       "      <td>44713235</td>\n",
       "      <td>39.386970</td>\n",
       "      <td>-8.466177</td>\n",
       "      <td>10</td>\n",
       "    </tr>\n",
       "    <tr>\n",
       "      <th>463473</th>\n",
       "      <td>44752766</td>\n",
       "      <td>39.348913</td>\n",
       "      <td>-8.524470</td>\n",
       "      <td>10</td>\n",
       "    </tr>\n",
       "    <tr>\n",
       "      <th>463569</th>\n",
       "      <td>44793424</td>\n",
       "      <td>39.323011</td>\n",
       "      <td>-8.522392</td>\n",
       "      <td>10</td>\n",
       "    </tr>\n",
       "    <tr>\n",
       "      <th>463665</th>\n",
       "      <td>44793426</td>\n",
       "      <td>39.324599</td>\n",
       "      <td>-8.524624</td>\n",
       "      <td>10</td>\n",
       "    </tr>\n",
       "  </tbody>\n",
       "</table>\n",
       "<p>4779 rows × 4 columns</p>\n",
       "</div>"
      ],
      "text/plain": [
       "              ID        Lat       Lon  Size\n",
       "0          26742  39.490351 -8.921633    10\n",
       "103       142399  39.689617 -8.822106    10\n",
       "206       147088  39.654462 -8.750712    10\n",
       "309       270735  39.674235 -8.703391    10\n",
       "407       270992  39.682310 -8.693551    10\n",
       "...          ...        ...       ...   ...\n",
       "463281  44693605  39.494279 -8.586319    10\n",
       "463377  44713235  39.386970 -8.466177    10\n",
       "463473  44752766  39.348913 -8.524470    10\n",
       "463569  44793424  39.323011 -8.522392    10\n",
       "463665  44793426  39.324599 -8.524624    10\n",
       "\n",
       "[4779 rows x 4 columns]"
      ]
     },
     "execution_count": 34,
     "metadata": {},
     "output_type": "execute_result"
    }
   ],
   "source": [
    "TabelaMilhoUnique2"
   ]
  },
  {
   "cell_type": "code",
   "execution_count": 35,
   "id": "2138e1d6-d5db-46e5-b386-809a22c2d19c",
   "metadata": {},
   "outputs": [
    {
     "data": {
      "text/html": [
       "<iframe\n",
       "    scrolling=\"no\"\n",
       "    width=\"100%\"\n",
       "    height=\"545px\"\n",
       "    src=\"iframe_figures/figure_35.html\"\n",
       "    frameborder=\"0\"\n",
       "    allowfullscreen\n",
       "></iframe>\n"
      ]
     },
     "metadata": {},
     "output_type": "display_data"
    }
   ],
   "source": [
    "import plotly.express as px\n",
    "fig = px.scatter_geo(TabelaMilhoUnique2, lat=\"Lat\", lon=\"Lon\", color=\"ID\",\n",
    "                     hover_name=\"ID\", size=\"Size\",\n",
    "                     projection=\"natural earth\")\n",
    "fig.show()"
   ]
  },
  {
   "cell_type": "code",
   "execution_count": 36,
   "id": "bf558d96-8f31-4fa2-8078-5725ccea889a",
   "metadata": {},
   "outputs": [
    {
     "data": {
      "text/html": [
       "<div>\n",
       "<style scoped>\n",
       "    .dataframe tbody tr th:only-of-type {\n",
       "        vertical-align: middle;\n",
       "    }\n",
       "\n",
       "    .dataframe tbody tr th {\n",
       "        vertical-align: top;\n",
       "    }\n",
       "\n",
       "    .dataframe thead th {\n",
       "        text-align: right;\n",
       "    }\n",
       "</style>\n",
       "<table border=\"1\" class=\"dataframe\">\n",
       "  <thead>\n",
       "    <tr style=\"text-align: right;\">\n",
       "      <th>DATA</th>\n",
       "      <th>2020-09-01</th>\n",
       "      <th>2020-09-02</th>\n",
       "      <th>2020-09-03</th>\n",
       "      <th>2020-09-04</th>\n",
       "      <th>2020-09-05</th>\n",
       "      <th>2020-09-06</th>\n",
       "      <th>2020-09-07</th>\n",
       "      <th>2020-09-08</th>\n",
       "      <th>2020-09-09</th>\n",
       "      <th>2020-09-10</th>\n",
       "      <th>...</th>\n",
       "      <th>2022-01-15</th>\n",
       "      <th>2022-01-16</th>\n",
       "      <th>2022-01-17</th>\n",
       "      <th>2022-01-18</th>\n",
       "      <th>2022-01-19</th>\n",
       "      <th>2022-01-20</th>\n",
       "      <th>2022-01-21</th>\n",
       "      <th>2022-01-22</th>\n",
       "      <th>2022-01-23</th>\n",
       "      <th>2022-01-24</th>\n",
       "    </tr>\n",
       "    <tr>\n",
       "      <th>ID</th>\n",
       "      <th></th>\n",
       "      <th></th>\n",
       "      <th></th>\n",
       "      <th></th>\n",
       "      <th></th>\n",
       "      <th></th>\n",
       "      <th></th>\n",
       "      <th></th>\n",
       "      <th></th>\n",
       "      <th></th>\n",
       "      <th></th>\n",
       "      <th></th>\n",
       "      <th></th>\n",
       "      <th></th>\n",
       "      <th></th>\n",
       "      <th></th>\n",
       "      <th></th>\n",
       "      <th></th>\n",
       "      <th></th>\n",
       "      <th></th>\n",
       "      <th></th>\n",
       "    </tr>\n",
       "  </thead>\n",
       "  <tbody>\n",
       "    <tr>\n",
       "      <th>26742</th>\n",
       "      <td>0.6511</td>\n",
       "      <td>0.61750</td>\n",
       "      <td>0.58390</td>\n",
       "      <td>0.55030</td>\n",
       "      <td>0.51670</td>\n",
       "      <td>0.4831</td>\n",
       "      <td>0.50856</td>\n",
       "      <td>0.53402</td>\n",
       "      <td>0.55948</td>\n",
       "      <td>0.58494</td>\n",
       "      <td>...</td>\n",
       "      <td>0.56278</td>\n",
       "      <td>0.59366</td>\n",
       "      <td>0.62454</td>\n",
       "      <td>0.65542</td>\n",
       "      <td>0.6863</td>\n",
       "      <td>0.67668</td>\n",
       "      <td>0.66706</td>\n",
       "      <td>0.65744</td>\n",
       "      <td>0.64782</td>\n",
       "      <td>0.6382</td>\n",
       "    </tr>\n",
       "    <tr>\n",
       "      <th>142399</th>\n",
       "      <td>0.4860</td>\n",
       "      <td>0.47430</td>\n",
       "      <td>0.46260</td>\n",
       "      <td>0.45090</td>\n",
       "      <td>0.43920</td>\n",
       "      <td>0.4275</td>\n",
       "      <td>0.42990</td>\n",
       "      <td>0.43230</td>\n",
       "      <td>0.43470</td>\n",
       "      <td>0.43710</td>\n",
       "      <td>...</td>\n",
       "      <td>0.38516</td>\n",
       "      <td>0.38002</td>\n",
       "      <td>0.37488</td>\n",
       "      <td>0.36974</td>\n",
       "      <td>0.3646</td>\n",
       "      <td>0.35688</td>\n",
       "      <td>0.34916</td>\n",
       "      <td>0.34144</td>\n",
       "      <td>0.33372</td>\n",
       "      <td>0.3260</td>\n",
       "    </tr>\n",
       "    <tr>\n",
       "      <th>147088</th>\n",
       "      <td>0.4605</td>\n",
       "      <td>0.45578</td>\n",
       "      <td>0.45106</td>\n",
       "      <td>0.44634</td>\n",
       "      <td>0.44162</td>\n",
       "      <td>0.4369</td>\n",
       "      <td>0.44194</td>\n",
       "      <td>0.44698</td>\n",
       "      <td>0.45202</td>\n",
       "      <td>0.45706</td>\n",
       "      <td>...</td>\n",
       "      <td>0.81710</td>\n",
       "      <td>0.82000</td>\n",
       "      <td>0.82290</td>\n",
       "      <td>0.82580</td>\n",
       "      <td>0.8287</td>\n",
       "      <td>0.79526</td>\n",
       "      <td>0.76182</td>\n",
       "      <td>0.72838</td>\n",
       "      <td>0.69494</td>\n",
       "      <td>0.6615</td>\n",
       "    </tr>\n",
       "    <tr>\n",
       "      <th>270735</th>\n",
       "      <td>0.3381</td>\n",
       "      <td>0.33388</td>\n",
       "      <td>0.32966</td>\n",
       "      <td>0.32544</td>\n",
       "      <td>0.32122</td>\n",
       "      <td>0.3170</td>\n",
       "      <td>0.31278</td>\n",
       "      <td>0.30856</td>\n",
       "      <td>0.30434</td>\n",
       "      <td>0.30012</td>\n",
       "      <td>...</td>\n",
       "      <td>0.50596</td>\n",
       "      <td>0.51172</td>\n",
       "      <td>0.51748</td>\n",
       "      <td>0.52324</td>\n",
       "      <td>0.5290</td>\n",
       "      <td>0.52174</td>\n",
       "      <td>0.51448</td>\n",
       "      <td>0.50722</td>\n",
       "      <td>0.49996</td>\n",
       "      <td>0.4927</td>\n",
       "    </tr>\n",
       "    <tr>\n",
       "      <th>270992</th>\n",
       "      <td>0.2624</td>\n",
       "      <td>0.26514</td>\n",
       "      <td>0.26788</td>\n",
       "      <td>0.27062</td>\n",
       "      <td>0.27336</td>\n",
       "      <td>0.2761</td>\n",
       "      <td>0.26554</td>\n",
       "      <td>0.25498</td>\n",
       "      <td>0.24442</td>\n",
       "      <td>0.23386</td>\n",
       "      <td>...</td>\n",
       "      <td>0.87608</td>\n",
       "      <td>0.87226</td>\n",
       "      <td>0.86844</td>\n",
       "      <td>0.86462</td>\n",
       "      <td>0.8608</td>\n",
       "      <td>0.85224</td>\n",
       "      <td>0.84368</td>\n",
       "      <td>0.83512</td>\n",
       "      <td>0.82656</td>\n",
       "      <td>0.8180</td>\n",
       "    </tr>\n",
       "    <tr>\n",
       "      <th>...</th>\n",
       "      <td>...</td>\n",
       "      <td>...</td>\n",
       "      <td>...</td>\n",
       "      <td>...</td>\n",
       "      <td>...</td>\n",
       "      <td>...</td>\n",
       "      <td>...</td>\n",
       "      <td>...</td>\n",
       "      <td>...</td>\n",
       "      <td>...</td>\n",
       "      <td>...</td>\n",
       "      <td>...</td>\n",
       "      <td>...</td>\n",
       "      <td>...</td>\n",
       "      <td>...</td>\n",
       "      <td>...</td>\n",
       "      <td>...</td>\n",
       "      <td>...</td>\n",
       "      <td>...</td>\n",
       "      <td>...</td>\n",
       "      <td>...</td>\n",
       "    </tr>\n",
       "    <tr>\n",
       "      <th>44821958</th>\n",
       "      <td>0.8349</td>\n",
       "      <td>0.84102</td>\n",
       "      <td>0.84714</td>\n",
       "      <td>0.85326</td>\n",
       "      <td>0.85938</td>\n",
       "      <td>0.8655</td>\n",
       "      <td>0.86858</td>\n",
       "      <td>0.87166</td>\n",
       "      <td>0.87474</td>\n",
       "      <td>0.87782</td>\n",
       "      <td>...</td>\n",
       "      <td>0.16580</td>\n",
       "      <td>0.16490</td>\n",
       "      <td>0.16400</td>\n",
       "      <td>0.16310</td>\n",
       "      <td>0.1622</td>\n",
       "      <td>0.16126</td>\n",
       "      <td>0.16032</td>\n",
       "      <td>0.15938</td>\n",
       "      <td>0.15844</td>\n",
       "      <td>0.1575</td>\n",
       "    </tr>\n",
       "    <tr>\n",
       "      <th>44823713</th>\n",
       "      <td>0.7884</td>\n",
       "      <td>0.80972</td>\n",
       "      <td>0.83104</td>\n",
       "      <td>0.85236</td>\n",
       "      <td>0.87368</td>\n",
       "      <td>0.8950</td>\n",
       "      <td>0.88080</td>\n",
       "      <td>0.86660</td>\n",
       "      <td>0.85240</td>\n",
       "      <td>0.83820</td>\n",
       "      <td>...</td>\n",
       "      <td>0.66168</td>\n",
       "      <td>0.66736</td>\n",
       "      <td>0.67304</td>\n",
       "      <td>0.67872</td>\n",
       "      <td>0.6844</td>\n",
       "      <td>0.63266</td>\n",
       "      <td>0.58092</td>\n",
       "      <td>0.52918</td>\n",
       "      <td>0.47744</td>\n",
       "      <td>0.4257</td>\n",
       "    </tr>\n",
       "    <tr>\n",
       "      <th>44825583</th>\n",
       "      <td>0.2633</td>\n",
       "      <td>0.26408</td>\n",
       "      <td>0.26486</td>\n",
       "      <td>0.26564</td>\n",
       "      <td>0.26642</td>\n",
       "      <td>0.2672</td>\n",
       "      <td>0.27344</td>\n",
       "      <td>0.27968</td>\n",
       "      <td>0.28592</td>\n",
       "      <td>0.29216</td>\n",
       "      <td>...</td>\n",
       "      <td>0.49704</td>\n",
       "      <td>0.49608</td>\n",
       "      <td>0.49512</td>\n",
       "      <td>0.49416</td>\n",
       "      <td>0.4932</td>\n",
       "      <td>0.48786</td>\n",
       "      <td>0.48252</td>\n",
       "      <td>0.47718</td>\n",
       "      <td>0.47184</td>\n",
       "      <td>0.4665</td>\n",
       "    </tr>\n",
       "    <tr>\n",
       "      <th>44825584</th>\n",
       "      <td>0.2899</td>\n",
       "      <td>0.29470</td>\n",
       "      <td>0.29950</td>\n",
       "      <td>0.30430</td>\n",
       "      <td>0.30910</td>\n",
       "      <td>0.3139</td>\n",
       "      <td>0.32368</td>\n",
       "      <td>0.33346</td>\n",
       "      <td>0.34324</td>\n",
       "      <td>0.35302</td>\n",
       "      <td>...</td>\n",
       "      <td>0.50844</td>\n",
       "      <td>0.51078</td>\n",
       "      <td>0.51312</td>\n",
       "      <td>0.51546</td>\n",
       "      <td>0.5178</td>\n",
       "      <td>0.51228</td>\n",
       "      <td>0.50676</td>\n",
       "      <td>0.50124</td>\n",
       "      <td>0.49572</td>\n",
       "      <td>0.4902</td>\n",
       "    </tr>\n",
       "    <tr>\n",
       "      <th>44825588</th>\n",
       "      <td>0.2914</td>\n",
       "      <td>0.29588</td>\n",
       "      <td>0.30036</td>\n",
       "      <td>0.30484</td>\n",
       "      <td>0.30932</td>\n",
       "      <td>0.3138</td>\n",
       "      <td>0.32244</td>\n",
       "      <td>0.33108</td>\n",
       "      <td>0.33972</td>\n",
       "      <td>0.34836</td>\n",
       "      <td>...</td>\n",
       "      <td>0.35936</td>\n",
       "      <td>0.35742</td>\n",
       "      <td>0.35548</td>\n",
       "      <td>0.35354</td>\n",
       "      <td>0.3516</td>\n",
       "      <td>0.35070</td>\n",
       "      <td>0.34980</td>\n",
       "      <td>0.34890</td>\n",
       "      <td>0.34800</td>\n",
       "      <td>0.3471</td>\n",
       "    </tr>\n",
       "  </tbody>\n",
       "</table>\n",
       "<p>4779 rows × 511 columns</p>\n",
       "</div>"
      ],
      "text/plain": [
       "DATA      2020-09-01  2020-09-02  2020-09-03  2020-09-04  2020-09-05  \\\n",
       "ID                                                                     \n",
       "26742         0.6511     0.61750     0.58390     0.55030     0.51670   \n",
       "142399        0.4860     0.47430     0.46260     0.45090     0.43920   \n",
       "147088        0.4605     0.45578     0.45106     0.44634     0.44162   \n",
       "270735        0.3381     0.33388     0.32966     0.32544     0.32122   \n",
       "270992        0.2624     0.26514     0.26788     0.27062     0.27336   \n",
       "...              ...         ...         ...         ...         ...   \n",
       "44821958      0.8349     0.84102     0.84714     0.85326     0.85938   \n",
       "44823713      0.7884     0.80972     0.83104     0.85236     0.87368   \n",
       "44825583      0.2633     0.26408     0.26486     0.26564     0.26642   \n",
       "44825584      0.2899     0.29470     0.29950     0.30430     0.30910   \n",
       "44825588      0.2914     0.29588     0.30036     0.30484     0.30932   \n",
       "\n",
       "DATA      2020-09-06  2020-09-07  2020-09-08  2020-09-09  2020-09-10  ...  \\\n",
       "ID                                                                    ...   \n",
       "26742         0.4831     0.50856     0.53402     0.55948     0.58494  ...   \n",
       "142399        0.4275     0.42990     0.43230     0.43470     0.43710  ...   \n",
       "147088        0.4369     0.44194     0.44698     0.45202     0.45706  ...   \n",
       "270735        0.3170     0.31278     0.30856     0.30434     0.30012  ...   \n",
       "270992        0.2761     0.26554     0.25498     0.24442     0.23386  ...   \n",
       "...              ...         ...         ...         ...         ...  ...   \n",
       "44821958      0.8655     0.86858     0.87166     0.87474     0.87782  ...   \n",
       "44823713      0.8950     0.88080     0.86660     0.85240     0.83820  ...   \n",
       "44825583      0.2672     0.27344     0.27968     0.28592     0.29216  ...   \n",
       "44825584      0.3139     0.32368     0.33346     0.34324     0.35302  ...   \n",
       "44825588      0.3138     0.32244     0.33108     0.33972     0.34836  ...   \n",
       "\n",
       "DATA      2022-01-15  2022-01-16  2022-01-17  2022-01-18  2022-01-19  \\\n",
       "ID                                                                     \n",
       "26742        0.56278     0.59366     0.62454     0.65542      0.6863   \n",
       "142399       0.38516     0.38002     0.37488     0.36974      0.3646   \n",
       "147088       0.81710     0.82000     0.82290     0.82580      0.8287   \n",
       "270735       0.50596     0.51172     0.51748     0.52324      0.5290   \n",
       "270992       0.87608     0.87226     0.86844     0.86462      0.8608   \n",
       "...              ...         ...         ...         ...         ...   \n",
       "44821958     0.16580     0.16490     0.16400     0.16310      0.1622   \n",
       "44823713     0.66168     0.66736     0.67304     0.67872      0.6844   \n",
       "44825583     0.49704     0.49608     0.49512     0.49416      0.4932   \n",
       "44825584     0.50844     0.51078     0.51312     0.51546      0.5178   \n",
       "44825588     0.35936     0.35742     0.35548     0.35354      0.3516   \n",
       "\n",
       "DATA      2022-01-20  2022-01-21  2022-01-22  2022-01-23  2022-01-24  \n",
       "ID                                                                    \n",
       "26742        0.67668     0.66706     0.65744     0.64782      0.6382  \n",
       "142399       0.35688     0.34916     0.34144     0.33372      0.3260  \n",
       "147088       0.79526     0.76182     0.72838     0.69494      0.6615  \n",
       "270735       0.52174     0.51448     0.50722     0.49996      0.4927  \n",
       "270992       0.85224     0.84368     0.83512     0.82656      0.8180  \n",
       "...              ...         ...         ...         ...         ...  \n",
       "44821958     0.16126     0.16032     0.15938     0.15844      0.1575  \n",
       "44823713     0.63266     0.58092     0.52918     0.47744      0.4257  \n",
       "44825583     0.48786     0.48252     0.47718     0.47184      0.4665  \n",
       "44825584     0.51228     0.50676     0.50124     0.49572      0.4902  \n",
       "44825588     0.35070     0.34980     0.34890     0.34800      0.3471  \n",
       "\n",
       "[4779 rows x 511 columns]"
      ]
     },
     "execution_count": 36,
     "metadata": {},
     "output_type": "execute_result"
    }
   ],
   "source": [
    "df_trans"
   ]
  },
  {
   "cell_type": "code",
   "execution_count": 37,
   "id": "507e789a-8933-4c32-9056-987a471b9d44",
   "metadata": {},
   "outputs": [
    {
     "data": {
      "text/html": [
       "<div>\n",
       "<style scoped>\n",
       "    .dataframe tbody tr th:only-of-type {\n",
       "        vertical-align: middle;\n",
       "    }\n",
       "\n",
       "    .dataframe tbody tr th {\n",
       "        vertical-align: top;\n",
       "    }\n",
       "\n",
       "    .dataframe thead th {\n",
       "        text-align: right;\n",
       "    }\n",
       "</style>\n",
       "<table border=\"1\" class=\"dataframe\">\n",
       "  <thead>\n",
       "    <tr style=\"text-align: right;\">\n",
       "      <th>DATA</th>\n",
       "      <th>2020-09-01</th>\n",
       "      <th>2020-09-02</th>\n",
       "      <th>2020-09-03</th>\n",
       "      <th>2020-09-04</th>\n",
       "      <th>2020-09-05</th>\n",
       "      <th>2020-09-06</th>\n",
       "      <th>2020-09-07</th>\n",
       "      <th>2020-09-08</th>\n",
       "      <th>2020-09-09</th>\n",
       "      <th>2020-09-10</th>\n",
       "      <th>...</th>\n",
       "      <th>2022-01-15</th>\n",
       "      <th>2022-01-16</th>\n",
       "      <th>2022-01-17</th>\n",
       "      <th>2022-01-18</th>\n",
       "      <th>2022-01-19</th>\n",
       "      <th>2022-01-20</th>\n",
       "      <th>2022-01-21</th>\n",
       "      <th>2022-01-22</th>\n",
       "      <th>2022-01-23</th>\n",
       "      <th>2022-01-24</th>\n",
       "    </tr>\n",
       "    <tr>\n",
       "      <th>ID</th>\n",
       "      <th></th>\n",
       "      <th></th>\n",
       "      <th></th>\n",
       "      <th></th>\n",
       "      <th></th>\n",
       "      <th></th>\n",
       "      <th></th>\n",
       "      <th></th>\n",
       "      <th></th>\n",
       "      <th></th>\n",
       "      <th></th>\n",
       "      <th></th>\n",
       "      <th></th>\n",
       "      <th></th>\n",
       "      <th></th>\n",
       "      <th></th>\n",
       "      <th></th>\n",
       "      <th></th>\n",
       "      <th></th>\n",
       "      <th></th>\n",
       "      <th></th>\n",
       "    </tr>\n",
       "  </thead>\n",
       "  <tbody>\n",
       "    <tr>\n",
       "      <th>26742</th>\n",
       "      <td>0.6511</td>\n",
       "      <td>0.61750</td>\n",
       "      <td>0.58390</td>\n",
       "      <td>0.55030</td>\n",
       "      <td>0.51670</td>\n",
       "      <td>0.4831</td>\n",
       "      <td>0.50856</td>\n",
       "      <td>0.53402</td>\n",
       "      <td>0.55948</td>\n",
       "      <td>0.58494</td>\n",
       "      <td>...</td>\n",
       "      <td>0.56278</td>\n",
       "      <td>0.59366</td>\n",
       "      <td>0.62454</td>\n",
       "      <td>0.65542</td>\n",
       "      <td>0.6863</td>\n",
       "      <td>0.67668</td>\n",
       "      <td>0.66706</td>\n",
       "      <td>0.65744</td>\n",
       "      <td>0.64782</td>\n",
       "      <td>0.6382</td>\n",
       "    </tr>\n",
       "    <tr>\n",
       "      <th>142399</th>\n",
       "      <td>0.4860</td>\n",
       "      <td>0.47430</td>\n",
       "      <td>0.46260</td>\n",
       "      <td>0.45090</td>\n",
       "      <td>0.43920</td>\n",
       "      <td>0.4275</td>\n",
       "      <td>0.42990</td>\n",
       "      <td>0.43230</td>\n",
       "      <td>0.43470</td>\n",
       "      <td>0.43710</td>\n",
       "      <td>...</td>\n",
       "      <td>0.38516</td>\n",
       "      <td>0.38002</td>\n",
       "      <td>0.37488</td>\n",
       "      <td>0.36974</td>\n",
       "      <td>0.3646</td>\n",
       "      <td>0.35688</td>\n",
       "      <td>0.34916</td>\n",
       "      <td>0.34144</td>\n",
       "      <td>0.33372</td>\n",
       "      <td>0.3260</td>\n",
       "    </tr>\n",
       "    <tr>\n",
       "      <th>147088</th>\n",
       "      <td>0.4605</td>\n",
       "      <td>0.45578</td>\n",
       "      <td>0.45106</td>\n",
       "      <td>0.44634</td>\n",
       "      <td>0.44162</td>\n",
       "      <td>0.4369</td>\n",
       "      <td>0.44194</td>\n",
       "      <td>0.44698</td>\n",
       "      <td>0.45202</td>\n",
       "      <td>0.45706</td>\n",
       "      <td>...</td>\n",
       "      <td>0.81710</td>\n",
       "      <td>0.82000</td>\n",
       "      <td>0.82290</td>\n",
       "      <td>0.82580</td>\n",
       "      <td>0.8287</td>\n",
       "      <td>0.79526</td>\n",
       "      <td>0.76182</td>\n",
       "      <td>0.72838</td>\n",
       "      <td>0.69494</td>\n",
       "      <td>0.6615</td>\n",
       "    </tr>\n",
       "    <tr>\n",
       "      <th>270735</th>\n",
       "      <td>0.3381</td>\n",
       "      <td>0.33388</td>\n",
       "      <td>0.32966</td>\n",
       "      <td>0.32544</td>\n",
       "      <td>0.32122</td>\n",
       "      <td>0.3170</td>\n",
       "      <td>0.31278</td>\n",
       "      <td>0.30856</td>\n",
       "      <td>0.30434</td>\n",
       "      <td>0.30012</td>\n",
       "      <td>...</td>\n",
       "      <td>0.50596</td>\n",
       "      <td>0.51172</td>\n",
       "      <td>0.51748</td>\n",
       "      <td>0.52324</td>\n",
       "      <td>0.5290</td>\n",
       "      <td>0.52174</td>\n",
       "      <td>0.51448</td>\n",
       "      <td>0.50722</td>\n",
       "      <td>0.49996</td>\n",
       "      <td>0.4927</td>\n",
       "    </tr>\n",
       "    <tr>\n",
       "      <th>270992</th>\n",
       "      <td>0.2624</td>\n",
       "      <td>0.26514</td>\n",
       "      <td>0.26788</td>\n",
       "      <td>0.27062</td>\n",
       "      <td>0.27336</td>\n",
       "      <td>0.2761</td>\n",
       "      <td>0.26554</td>\n",
       "      <td>0.25498</td>\n",
       "      <td>0.24442</td>\n",
       "      <td>0.23386</td>\n",
       "      <td>...</td>\n",
       "      <td>0.87608</td>\n",
       "      <td>0.87226</td>\n",
       "      <td>0.86844</td>\n",
       "      <td>0.86462</td>\n",
       "      <td>0.8608</td>\n",
       "      <td>0.85224</td>\n",
       "      <td>0.84368</td>\n",
       "      <td>0.83512</td>\n",
       "      <td>0.82656</td>\n",
       "      <td>0.8180</td>\n",
       "    </tr>\n",
       "    <tr>\n",
       "      <th>453335</th>\n",
       "      <td>0.3406</td>\n",
       "      <td>0.33476</td>\n",
       "      <td>0.32892</td>\n",
       "      <td>0.32308</td>\n",
       "      <td>0.31724</td>\n",
       "      <td>0.3114</td>\n",
       "      <td>0.31548</td>\n",
       "      <td>0.31956</td>\n",
       "      <td>0.32364</td>\n",
       "      <td>0.32772</td>\n",
       "      <td>...</td>\n",
       "      <td>0.75420</td>\n",
       "      <td>0.76990</td>\n",
       "      <td>0.78560</td>\n",
       "      <td>0.80130</td>\n",
       "      <td>0.8170</td>\n",
       "      <td>0.80702</td>\n",
       "      <td>0.79704</td>\n",
       "      <td>0.78706</td>\n",
       "      <td>0.77708</td>\n",
       "      <td>0.7671</td>\n",
       "    </tr>\n",
       "    <tr>\n",
       "      <th>744056</th>\n",
       "      <td>0.8937</td>\n",
       "      <td>0.89370</td>\n",
       "      <td>0.89370</td>\n",
       "      <td>0.89370</td>\n",
       "      <td>0.89370</td>\n",
       "      <td>0.8937</td>\n",
       "      <td>0.89120</td>\n",
       "      <td>0.88870</td>\n",
       "      <td>0.88620</td>\n",
       "      <td>0.88370</td>\n",
       "      <td>...</td>\n",
       "      <td>0.24882</td>\n",
       "      <td>0.25084</td>\n",
       "      <td>0.25286</td>\n",
       "      <td>0.25488</td>\n",
       "      <td>0.2569</td>\n",
       "      <td>0.25690</td>\n",
       "      <td>0.25690</td>\n",
       "      <td>0.25690</td>\n",
       "      <td>0.25690</td>\n",
       "      <td>0.2569</td>\n",
       "    </tr>\n",
       "    <tr>\n",
       "      <th>842397</th>\n",
       "      <td>0.5644</td>\n",
       "      <td>0.55536</td>\n",
       "      <td>0.54632</td>\n",
       "      <td>0.53728</td>\n",
       "      <td>0.52824</td>\n",
       "      <td>0.5192</td>\n",
       "      <td>0.52374</td>\n",
       "      <td>0.52828</td>\n",
       "      <td>0.53282</td>\n",
       "      <td>0.53736</td>\n",
       "      <td>...</td>\n",
       "      <td>0.56022</td>\n",
       "      <td>0.56434</td>\n",
       "      <td>0.56846</td>\n",
       "      <td>0.57258</td>\n",
       "      <td>0.5767</td>\n",
       "      <td>0.55614</td>\n",
       "      <td>0.53558</td>\n",
       "      <td>0.51502</td>\n",
       "      <td>0.49446</td>\n",
       "      <td>0.4739</td>\n",
       "    </tr>\n",
       "    <tr>\n",
       "      <th>1305223</th>\n",
       "      <td>0.2017</td>\n",
       "      <td>0.20260</td>\n",
       "      <td>0.20350</td>\n",
       "      <td>0.20440</td>\n",
       "      <td>0.20530</td>\n",
       "      <td>0.2062</td>\n",
       "      <td>0.21016</td>\n",
       "      <td>0.21412</td>\n",
       "      <td>0.21808</td>\n",
       "      <td>0.22204</td>\n",
       "      <td>...</td>\n",
       "      <td>0.28286</td>\n",
       "      <td>0.30712</td>\n",
       "      <td>0.33138</td>\n",
       "      <td>0.35564</td>\n",
       "      <td>0.3799</td>\n",
       "      <td>0.37534</td>\n",
       "      <td>0.37078</td>\n",
       "      <td>0.36622</td>\n",
       "      <td>0.36166</td>\n",
       "      <td>0.3571</td>\n",
       "    </tr>\n",
       "    <tr>\n",
       "      <th>1305481</th>\n",
       "      <td>0.2637</td>\n",
       "      <td>0.25306</td>\n",
       "      <td>0.24242</td>\n",
       "      <td>0.23178</td>\n",
       "      <td>0.22114</td>\n",
       "      <td>0.2105</td>\n",
       "      <td>0.21370</td>\n",
       "      <td>0.21690</td>\n",
       "      <td>0.22010</td>\n",
       "      <td>0.22330</td>\n",
       "      <td>...</td>\n",
       "      <td>0.22620</td>\n",
       "      <td>0.24460</td>\n",
       "      <td>0.26300</td>\n",
       "      <td>0.28140</td>\n",
       "      <td>0.2998</td>\n",
       "      <td>0.30148</td>\n",
       "      <td>0.30316</td>\n",
       "      <td>0.30484</td>\n",
       "      <td>0.30652</td>\n",
       "      <td>0.3082</td>\n",
       "    </tr>\n",
       "  </tbody>\n",
       "</table>\n",
       "<p>10 rows × 511 columns</p>\n",
       "</div>"
      ],
      "text/plain": [
       "DATA     2020-09-01  2020-09-02  2020-09-03  2020-09-04  2020-09-05  \\\n",
       "ID                                                                    \n",
       "26742        0.6511     0.61750     0.58390     0.55030     0.51670   \n",
       "142399       0.4860     0.47430     0.46260     0.45090     0.43920   \n",
       "147088       0.4605     0.45578     0.45106     0.44634     0.44162   \n",
       "270735       0.3381     0.33388     0.32966     0.32544     0.32122   \n",
       "270992       0.2624     0.26514     0.26788     0.27062     0.27336   \n",
       "453335       0.3406     0.33476     0.32892     0.32308     0.31724   \n",
       "744056       0.8937     0.89370     0.89370     0.89370     0.89370   \n",
       "842397       0.5644     0.55536     0.54632     0.53728     0.52824   \n",
       "1305223      0.2017     0.20260     0.20350     0.20440     0.20530   \n",
       "1305481      0.2637     0.25306     0.24242     0.23178     0.22114   \n",
       "\n",
       "DATA     2020-09-06  2020-09-07  2020-09-08  2020-09-09  2020-09-10  ...  \\\n",
       "ID                                                                   ...   \n",
       "26742        0.4831     0.50856     0.53402     0.55948     0.58494  ...   \n",
       "142399       0.4275     0.42990     0.43230     0.43470     0.43710  ...   \n",
       "147088       0.4369     0.44194     0.44698     0.45202     0.45706  ...   \n",
       "270735       0.3170     0.31278     0.30856     0.30434     0.30012  ...   \n",
       "270992       0.2761     0.26554     0.25498     0.24442     0.23386  ...   \n",
       "453335       0.3114     0.31548     0.31956     0.32364     0.32772  ...   \n",
       "744056       0.8937     0.89120     0.88870     0.88620     0.88370  ...   \n",
       "842397       0.5192     0.52374     0.52828     0.53282     0.53736  ...   \n",
       "1305223      0.2062     0.21016     0.21412     0.21808     0.22204  ...   \n",
       "1305481      0.2105     0.21370     0.21690     0.22010     0.22330  ...   \n",
       "\n",
       "DATA     2022-01-15  2022-01-16  2022-01-17  2022-01-18  2022-01-19  \\\n",
       "ID                                                                    \n",
       "26742       0.56278     0.59366     0.62454     0.65542      0.6863   \n",
       "142399      0.38516     0.38002     0.37488     0.36974      0.3646   \n",
       "147088      0.81710     0.82000     0.82290     0.82580      0.8287   \n",
       "270735      0.50596     0.51172     0.51748     0.52324      0.5290   \n",
       "270992      0.87608     0.87226     0.86844     0.86462      0.8608   \n",
       "453335      0.75420     0.76990     0.78560     0.80130      0.8170   \n",
       "744056      0.24882     0.25084     0.25286     0.25488      0.2569   \n",
       "842397      0.56022     0.56434     0.56846     0.57258      0.5767   \n",
       "1305223     0.28286     0.30712     0.33138     0.35564      0.3799   \n",
       "1305481     0.22620     0.24460     0.26300     0.28140      0.2998   \n",
       "\n",
       "DATA     2022-01-20  2022-01-21  2022-01-22  2022-01-23  2022-01-24  \n",
       "ID                                                                   \n",
       "26742       0.67668     0.66706     0.65744     0.64782      0.6382  \n",
       "142399      0.35688     0.34916     0.34144     0.33372      0.3260  \n",
       "147088      0.79526     0.76182     0.72838     0.69494      0.6615  \n",
       "270735      0.52174     0.51448     0.50722     0.49996      0.4927  \n",
       "270992      0.85224     0.84368     0.83512     0.82656      0.8180  \n",
       "453335      0.80702     0.79704     0.78706     0.77708      0.7671  \n",
       "744056      0.25690     0.25690     0.25690     0.25690      0.2569  \n",
       "842397      0.55614     0.53558     0.51502     0.49446      0.4739  \n",
       "1305223     0.37534     0.37078     0.36622     0.36166      0.3571  \n",
       "1305481     0.30148     0.30316     0.30484     0.30652      0.3082  \n",
       "\n",
       "[10 rows x 511 columns]"
      ]
     },
     "execution_count": 37,
     "metadata": {},
     "output_type": "execute_result"
    }
   ],
   "source": [
    "df_trans[:10]"
   ]
  },
  {
   "cell_type": "code",
   "execution_count": 38,
   "id": "1dbea0ae-d7ee-46e5-a5b6-94438b9f2506",
   "metadata": {},
   "outputs": [
    {
     "data": {
      "text/plain": [
       "array([[0.6511 , 0.6175 , 0.5839 , ..., 0.65744, 0.64782, 0.6382 ],\n",
       "       [0.486  , 0.4743 , 0.4626 , ..., 0.34144, 0.33372, 0.326  ],\n",
       "       [0.4605 , 0.45578, 0.45106, ..., 0.72838, 0.69494, 0.6615 ],\n",
       "       ...,\n",
       "       [0.2675 , 0.25864, 0.24978, ..., 0.45652, 0.44686, 0.4372 ],\n",
       "       [0.5057 , 0.50676, 0.50782, ..., 0.4495 , 0.4403 , 0.4311 ],\n",
       "       [0.6175 , 0.59772, 0.57794, ..., 0.34588, 0.34144, 0.337  ]])"
      ]
     },
     "execution_count": 38,
     "metadata": {},
     "output_type": "execute_result"
    }
   ],
   "source": [
    "df_trans.values[0:20]"
   ]
  },
  {
   "cell_type": "code",
   "execution_count": 39,
   "id": "9f44e141-8174-4d52-bb82-eb0de308c90b",
   "metadata": {},
   "outputs": [
    {
     "data": {
      "text/plain": [
       "Int64Index([   26742,   142399,   147088,   270735,   270992,   453335,\n",
       "              744056,   842397,  1305223,  1305481,\n",
       "            ...\n",
       "            44805278, 44812160, 44812167, 44816601, 44819099, 44821958,\n",
       "            44823713, 44825583, 44825584, 44825588],\n",
       "           dtype='int64', name='ID', length=4779)"
      ]
     },
     "execution_count": 39,
     "metadata": {},
     "output_type": "execute_result"
    }
   ],
   "source": [
    "df_trans.index"
   ]
  },
  {
   "cell_type": "code",
   "execution_count": 40,
   "id": "ce5a92d3-743a-47f5-a54f-0c378a52f0ca",
   "metadata": {},
   "outputs": [],
   "source": [
    "#lista de listas das séries\n",
    "lista_series=[]\n",
    "\n",
    "for x in df_trans.values:\n",
    "    lista_series.append(x)"
   ]
  },
  {
   "cell_type": "code",
   "execution_count": 41,
   "id": "2dc0e836-2a13-47c3-b5a0-4a746f623c55",
   "metadata": {},
   "outputs": [
    {
     "data": {
      "text/plain": [
       "numpy.float64"
      ]
     },
     "execution_count": 41,
     "metadata": {},
     "output_type": "execute_result"
    }
   ],
   "source": [
    "type(lista_series[0][0])"
   ]
  },
  {
   "cell_type": "code",
   "execution_count": 42,
   "id": "3d00f996-af09-4f16-a828-ce29ee154719",
   "metadata": {},
   "outputs": [
    {
     "data": {
      "text/plain": [
       "(511,)"
      ]
     },
     "execution_count": 42,
     "metadata": {},
     "output_type": "execute_result"
    }
   ],
   "source": [
    "lista_series[0].shape"
   ]
  },
  {
   "cell_type": "code",
   "execution_count": 43,
   "id": "1310ce47-7130-4815-913e-8c8f9a789a8c",
   "metadata": {},
   "outputs": [],
   "source": [
    "w = 5\n",
    "p = 2"
   ]
  },
  {
   "cell_type": "code",
   "execution_count": 44,
   "id": "6e8a23c1-77f0-4ded-9edb-b99d1b2f5af8",
   "metadata": {},
   "outputs": [],
   "source": [
    "import scipy.signal as ss\n",
    "from scipy.signal import savgol_filter, general_gaussian"
   ]
  },
  {
   "cell_type": "code",
   "execution_count": 45,
   "id": "a854a4d6-7d2e-44db-a01c-c23afcbee795",
   "metadata": {},
   "outputs": [],
   "source": [
    "#Aplicação do filtro Sav-Gol\n",
    "lista_filtro=[]\n",
    "for x in lista_series:\n",
    "    lista_filtro.append(savgol_filter(x, 5*w+2, polyorder = 3*p, deriv=0))"
   ]
  },
  {
   "cell_type": "code",
   "execution_count": 46,
   "id": "6a0a4539-5b0a-4aff-908c-413aee1d9f62",
   "metadata": {},
   "outputs": [],
   "source": [
    "df_filtro = pd.DataFrame(data=lista_filtro, index=df_trans.index)"
   ]
  },
  {
   "cell_type": "code",
   "execution_count": 47,
   "id": "51f10d34-5e9f-4cd8-8a0e-0af84f8d2a91",
   "metadata": {},
   "outputs": [],
   "source": [
    "df_filtro2=df_filtro.T"
   ]
  },
  {
   "cell_type": "code",
   "execution_count": 48,
   "id": "c57f501b-51c2-4d08-9f94-3d372da5c7db",
   "metadata": {},
   "outputs": [
    {
     "data": {
      "text/html": [
       "<div>\n",
       "<style scoped>\n",
       "    .dataframe tbody tr th:only-of-type {\n",
       "        vertical-align: middle;\n",
       "    }\n",
       "\n",
       "    .dataframe tbody tr th {\n",
       "        vertical-align: top;\n",
       "    }\n",
       "\n",
       "    .dataframe thead th {\n",
       "        text-align: right;\n",
       "    }\n",
       "</style>\n",
       "<table border=\"1\" class=\"dataframe\">\n",
       "  <thead>\n",
       "    <tr style=\"text-align: right;\">\n",
       "      <th>ID</th>\n",
       "      <th>26742</th>\n",
       "      <th>142399</th>\n",
       "      <th>147088</th>\n",
       "      <th>270735</th>\n",
       "      <th>270992</th>\n",
       "      <th>453335</th>\n",
       "      <th>744056</th>\n",
       "      <th>842397</th>\n",
       "      <th>1305223</th>\n",
       "      <th>1305481</th>\n",
       "      <th>...</th>\n",
       "      <th>44805278</th>\n",
       "      <th>44812160</th>\n",
       "      <th>44812167</th>\n",
       "      <th>44816601</th>\n",
       "      <th>44819099</th>\n",
       "      <th>44821958</th>\n",
       "      <th>44823713</th>\n",
       "      <th>44825583</th>\n",
       "      <th>44825584</th>\n",
       "      <th>44825588</th>\n",
       "    </tr>\n",
       "  </thead>\n",
       "  <tbody>\n",
       "    <tr>\n",
       "      <th>0</th>\n",
       "      <td>0.661483</td>\n",
       "      <td>0.491152</td>\n",
       "      <td>0.462796</td>\n",
       "      <td>0.338874</td>\n",
       "      <td>0.280677</td>\n",
       "      <td>0.341934</td>\n",
       "      <td>0.893962</td>\n",
       "      <td>0.566851</td>\n",
       "      <td>0.202620</td>\n",
       "      <td>0.266664</td>\n",
       "      <td>...</td>\n",
       "      <td>0.168609</td>\n",
       "      <td>0.685990</td>\n",
       "      <td>0.300096</td>\n",
       "      <td>0.897771</td>\n",
       "      <td>0.158309</td>\n",
       "      <td>0.834955</td>\n",
       "      <td>0.778134</td>\n",
       "      <td>0.265374</td>\n",
       "      <td>0.289891</td>\n",
       "      <td>0.291616</td>\n",
       "    </tr>\n",
       "    <tr>\n",
       "      <th>1</th>\n",
       "      <td>0.610435</td>\n",
       "      <td>0.470083</td>\n",
       "      <td>0.453982</td>\n",
       "      <td>0.333155</td>\n",
       "      <td>0.247293</td>\n",
       "      <td>0.333962</td>\n",
       "      <td>0.893312</td>\n",
       "      <td>0.553525</td>\n",
       "      <td>0.201668</td>\n",
       "      <td>0.250811</td>\n",
       "      <td>...</td>\n",
       "      <td>0.167855</td>\n",
       "      <td>0.688909</td>\n",
       "      <td>0.300793</td>\n",
       "      <td>0.912127</td>\n",
       "      <td>0.154959</td>\n",
       "      <td>0.841040</td>\n",
       "      <td>0.817433</td>\n",
       "      <td>0.262297</td>\n",
       "      <td>0.294906</td>\n",
       "      <td>0.295861</td>\n",
       "    </tr>\n",
       "    <tr>\n",
       "      <th>2</th>\n",
       "      <td>0.568730</td>\n",
       "      <td>0.456213</td>\n",
       "      <td>0.447957</td>\n",
       "      <td>0.328863</td>\n",
       "      <td>0.248641</td>\n",
       "      <td>0.326757</td>\n",
       "      <td>0.893581</td>\n",
       "      <td>0.542834</td>\n",
       "      <td>0.202443</td>\n",
       "      <td>0.238334</td>\n",
       "      <td>...</td>\n",
       "      <td>0.167724</td>\n",
       "      <td>0.690891</td>\n",
       "      <td>0.301048</td>\n",
       "      <td>0.912878</td>\n",
       "      <td>0.153458</td>\n",
       "      <td>0.847120</td>\n",
       "      <td>0.844659</td>\n",
       "      <td>0.262220</td>\n",
       "      <td>0.299150</td>\n",
       "      <td>0.299815</td>\n",
       "    </tr>\n",
       "    <tr>\n",
       "      <th>3</th>\n",
       "      <td>0.538810</td>\n",
       "      <td>0.447176</td>\n",
       "      <td>0.444330</td>\n",
       "      <td>0.325151</td>\n",
       "      <td>0.264244</td>\n",
       "      <td>0.321266</td>\n",
       "      <td>0.893919</td>\n",
       "      <td>0.534861</td>\n",
       "      <td>0.204031</td>\n",
       "      <td>0.229019</td>\n",
       "      <td>...</td>\n",
       "      <td>0.167849</td>\n",
       "      <td>0.692847</td>\n",
       "      <td>0.301168</td>\n",
       "      <td>0.902746</td>\n",
       "      <td>0.154273</td>\n",
       "      <td>0.853191</td>\n",
       "      <td>0.861483</td>\n",
       "      <td>0.264174</td>\n",
       "      <td>0.303711</td>\n",
       "      <td>0.304220</td>\n",
       "    </tr>\n",
       "    <tr>\n",
       "      <th>4</th>\n",
       "      <td>0.521354</td>\n",
       "      <td>0.441319</td>\n",
       "      <td>0.442737</td>\n",
       "      <td>0.321498</td>\n",
       "      <td>0.280515</td>\n",
       "      <td>0.317887</td>\n",
       "      <td>0.893816</td>\n",
       "      <td>0.529546</td>\n",
       "      <td>0.205959</td>\n",
       "      <td>0.222567</td>\n",
       "      <td>...</td>\n",
       "      <td>0.168048</td>\n",
       "      <td>0.695202</td>\n",
       "      <td>0.301342</td>\n",
       "      <td>0.884585</td>\n",
       "      <td>0.157581</td>\n",
       "      <td>0.859099</td>\n",
       "      <td>0.869770</td>\n",
       "      <td>0.267423</td>\n",
       "      <td>0.309208</td>\n",
       "      <td>0.309470</td>\n",
       "    </tr>\n",
       "    <tr>\n",
       "      <th>...</th>\n",
       "      <td>...</td>\n",
       "      <td>...</td>\n",
       "      <td>...</td>\n",
       "      <td>...</td>\n",
       "      <td>...</td>\n",
       "      <td>...</td>\n",
       "      <td>...</td>\n",
       "      <td>...</td>\n",
       "      <td>...</td>\n",
       "      <td>...</td>\n",
       "      <td>...</td>\n",
       "      <td>...</td>\n",
       "      <td>...</td>\n",
       "      <td>...</td>\n",
       "      <td>...</td>\n",
       "      <td>...</td>\n",
       "      <td>...</td>\n",
       "      <td>...</td>\n",
       "      <td>...</td>\n",
       "      <td>...</td>\n",
       "      <td>...</td>\n",
       "    </tr>\n",
       "    <tr>\n",
       "      <th>506</th>\n",
       "      <td>0.664899</td>\n",
       "      <td>0.342794</td>\n",
       "      <td>0.763474</td>\n",
       "      <td>0.520540</td>\n",
       "      <td>0.851834</td>\n",
       "      <td>0.804448</td>\n",
       "      <td>0.256770</td>\n",
       "      <td>0.552925</td>\n",
       "      <td>0.371441</td>\n",
       "      <td>0.298932</td>\n",
       "      <td>...</td>\n",
       "      <td>0.379522</td>\n",
       "      <td>0.212842</td>\n",
       "      <td>0.329404</td>\n",
       "      <td>0.187644</td>\n",
       "      <td>0.189555</td>\n",
       "      <td>0.161235</td>\n",
       "      <td>0.628287</td>\n",
       "      <td>0.487455</td>\n",
       "      <td>0.511470</td>\n",
       "      <td>0.350937</td>\n",
       "    </tr>\n",
       "    <tr>\n",
       "      <th>507</th>\n",
       "      <td>0.679291</td>\n",
       "      <td>0.361810</td>\n",
       "      <td>0.793723</td>\n",
       "      <td>0.517175</td>\n",
       "      <td>0.844080</td>\n",
       "      <td>0.801415</td>\n",
       "      <td>0.257209</td>\n",
       "      <td>0.541294</td>\n",
       "      <td>0.376810</td>\n",
       "      <td>0.306868</td>\n",
       "      <td>...</td>\n",
       "      <td>0.387127</td>\n",
       "      <td>0.211471</td>\n",
       "      <td>0.323899</td>\n",
       "      <td>0.188333</td>\n",
       "      <td>0.185025</td>\n",
       "      <td>0.160343</td>\n",
       "      <td>0.590478</td>\n",
       "      <td>0.483169</td>\n",
       "      <td>0.508371</td>\n",
       "      <td>0.349258</td>\n",
       "    </tr>\n",
       "    <tr>\n",
       "      <th>508</th>\n",
       "      <td>0.685265</td>\n",
       "      <td>0.376785</td>\n",
       "      <td>0.809554</td>\n",
       "      <td>0.511013</td>\n",
       "      <td>0.835680</td>\n",
       "      <td>0.793963</td>\n",
       "      <td>0.257262</td>\n",
       "      <td>0.524456</td>\n",
       "      <td>0.376322</td>\n",
       "      <td>0.311359</td>\n",
       "      <td>...</td>\n",
       "      <td>0.389468</td>\n",
       "      <td>0.209447</td>\n",
       "      <td>0.316873</td>\n",
       "      <td>0.189234</td>\n",
       "      <td>0.184204</td>\n",
       "      <td>0.159440</td>\n",
       "      <td>0.541530</td>\n",
       "      <td>0.478106</td>\n",
       "      <td>0.503604</td>\n",
       "      <td>0.347983</td>\n",
       "    </tr>\n",
       "    <tr>\n",
       "      <th>509</th>\n",
       "      <td>0.670254</td>\n",
       "      <td>0.365456</td>\n",
       "      <td>0.764779</td>\n",
       "      <td>0.501919</td>\n",
       "      <td>0.826815</td>\n",
       "      <td>0.781282</td>\n",
       "      <td>0.257027</td>\n",
       "      <td>0.500442</td>\n",
       "      <td>0.368059</td>\n",
       "      <td>0.310852</td>\n",
       "      <td>...</td>\n",
       "      <td>0.384714</td>\n",
       "      <td>0.206838</td>\n",
       "      <td>0.308531</td>\n",
       "      <td>0.190327</td>\n",
       "      <td>0.186603</td>\n",
       "      <td>0.158492</td>\n",
       "      <td>0.482875</td>\n",
       "      <td>0.472310</td>\n",
       "      <td>0.497002</td>\n",
       "      <td>0.347400</td>\n",
       "    </tr>\n",
       "    <tr>\n",
       "      <th>510</th>\n",
       "      <td>0.614010</td>\n",
       "      <td>0.293138</td>\n",
       "      <td>0.587685</td>\n",
       "      <td>0.489993</td>\n",
       "      <td>0.817679</td>\n",
       "      <td>0.761705</td>\n",
       "      <td>0.256685</td>\n",
       "      <td>0.466454</td>\n",
       "      <td>0.349348</td>\n",
       "      <td>0.303080</td>\n",
       "      <td>...</td>\n",
       "      <td>0.370288</td>\n",
       "      <td>0.203803</td>\n",
       "      <td>0.299307</td>\n",
       "      <td>0.191565</td>\n",
       "      <td>0.191181</td>\n",
       "      <td>0.157446</td>\n",
       "      <td>0.417604</td>\n",
       "      <td>0.465874</td>\n",
       "      <td>0.488497</td>\n",
       "      <td>0.347842</td>\n",
       "    </tr>\n",
       "  </tbody>\n",
       "</table>\n",
       "<p>511 rows × 4779 columns</p>\n",
       "</div>"
      ],
      "text/plain": [
       "ID   26742     142399    147088    270735    270992    453335    744056    \\\n",
       "0    0.661483  0.491152  0.462796  0.338874  0.280677  0.341934  0.893962   \n",
       "1    0.610435  0.470083  0.453982  0.333155  0.247293  0.333962  0.893312   \n",
       "2    0.568730  0.456213  0.447957  0.328863  0.248641  0.326757  0.893581   \n",
       "3    0.538810  0.447176  0.444330  0.325151  0.264244  0.321266  0.893919   \n",
       "4    0.521354  0.441319  0.442737  0.321498  0.280515  0.317887  0.893816   \n",
       "..        ...       ...       ...       ...       ...       ...       ...   \n",
       "506  0.664899  0.342794  0.763474  0.520540  0.851834  0.804448  0.256770   \n",
       "507  0.679291  0.361810  0.793723  0.517175  0.844080  0.801415  0.257209   \n",
       "508  0.685265  0.376785  0.809554  0.511013  0.835680  0.793963  0.257262   \n",
       "509  0.670254  0.365456  0.764779  0.501919  0.826815  0.781282  0.257027   \n",
       "510  0.614010  0.293138  0.587685  0.489993  0.817679  0.761705  0.256685   \n",
       "\n",
       "ID   842397    1305223   1305481   ...  44805278  44812160  44812167  \\\n",
       "0    0.566851  0.202620  0.266664  ...  0.168609  0.685990  0.300096   \n",
       "1    0.553525  0.201668  0.250811  ...  0.167855  0.688909  0.300793   \n",
       "2    0.542834  0.202443  0.238334  ...  0.167724  0.690891  0.301048   \n",
       "3    0.534861  0.204031  0.229019  ...  0.167849  0.692847  0.301168   \n",
       "4    0.529546  0.205959  0.222567  ...  0.168048  0.695202  0.301342   \n",
       "..        ...       ...       ...  ...       ...       ...       ...   \n",
       "506  0.552925  0.371441  0.298932  ...  0.379522  0.212842  0.329404   \n",
       "507  0.541294  0.376810  0.306868  ...  0.387127  0.211471  0.323899   \n",
       "508  0.524456  0.376322  0.311359  ...  0.389468  0.209447  0.316873   \n",
       "509  0.500442  0.368059  0.310852  ...  0.384714  0.206838  0.308531   \n",
       "510  0.466454  0.349348  0.303080  ...  0.370288  0.203803  0.299307   \n",
       "\n",
       "ID   44816601  44819099  44821958  44823713  44825583  44825584  44825588  \n",
       "0    0.897771  0.158309  0.834955  0.778134  0.265374  0.289891  0.291616  \n",
       "1    0.912127  0.154959  0.841040  0.817433  0.262297  0.294906  0.295861  \n",
       "2    0.912878  0.153458  0.847120  0.844659  0.262220  0.299150  0.299815  \n",
       "3    0.902746  0.154273  0.853191  0.861483  0.264174  0.303711  0.304220  \n",
       "4    0.884585  0.157581  0.859099  0.869770  0.267423  0.309208  0.309470  \n",
       "..        ...       ...       ...       ...       ...       ...       ...  \n",
       "506  0.187644  0.189555  0.161235  0.628287  0.487455  0.511470  0.350937  \n",
       "507  0.188333  0.185025  0.160343  0.590478  0.483169  0.508371  0.349258  \n",
       "508  0.189234  0.184204  0.159440  0.541530  0.478106  0.503604  0.347983  \n",
       "509  0.190327  0.186603  0.158492  0.482875  0.472310  0.497002  0.347400  \n",
       "510  0.191565  0.191181  0.157446  0.417604  0.465874  0.488497  0.347842  \n",
       "\n",
       "[511 rows x 4779 columns]"
      ]
     },
     "execution_count": 48,
     "metadata": {},
     "output_type": "execute_result"
    }
   ],
   "source": [
    "df_filtro2"
   ]
  },
  {
   "cell_type": "markdown",
   "id": "ab44c300-5230-4e76-9c79-7eba98bfba9d",
   "metadata": {},
   "source": [
    "# Criação da Curva Teórica de Kc"
   ]
  },
  {
   "cell_type": "code",
   "execution_count": 49,
   "id": "e2949de6-34a9-4622-86a4-8db019607934",
   "metadata": {},
   "outputs": [
    {
     "data": {
      "text/plain": [
       "array(['Broculos', 'Couve_repolho', 'Cenoura', 'Couveflor', 'Salsao_aipo',\n",
       "       'Cruciferas_abril (repolho, couve-flor, brócolis e couve de Bruxelas)',\n",
       "       'Cruciferas_fevereiro (repolho, couve-flor, brócolis e couve de Bruxelas)',\n",
       "       'Cruciferas_outubro_novembro (repolho, couve-flor, brócolis e couve de Bruxelas)',\n",
       "       'Alface_abril', 'Alface_novembro_janeiro',\n",
       "       'Alface_outobro_novembro', 'Alface_fevereiro', 'Cebola (seca)',\n",
       "       'Cebola (verde)', 'Cebola (semente)', 'Espinafre', 'Rabanete',\n",
       "       'Berinjela', 'Pimentaodoce', 'Tomate', 'Cantalupo_meloa_janeiro',\n",
       "       'Cantalupo_meloa_agosto', 'Pepino_junho_agosto',\n",
       "       'Pepino_novembro__fevereiro', 'Abobora',\n",
       "       'Corgette_abobrinha_abril__dezembro',\n",
       "       'Corgette_abobrinha_maio_junho', 'Melao', 'Melancia',\n",
       "       'Beterraba_abril_maio', 'Beterraba_fevereiro_marco',\n",
       "       'Batata_janeiro__novembro', 'Batata_maio', 'Batata_abril',\n",
       "       'Batatadoce', 'Beterraba_maio', 'Beterraba_novembro',\n",
       "       'Grao_Feijao_fevereiro_marco', 'Grao_Feijao_maio', 'Favas_maio1',\n",
       "       'Favas_maio2', 'Favas_marco_abril1', 'Favas_marco_abril2',\n",
       "       'Favas_novembro1', 'Favas_novembro2', 'Feijaofrade', 'Amendoim',\n",
       "       'Lentilha', 'Ervilhas_maio1', 'Ervilhas_maio2',\n",
       "       'Ervilhas_marco_abril1', 'Ervilhas_marco_abril2', 'Soja_dezembro',\n",
       "       'Soja_junho', 'Alcachofra_abril', 'Alcachofra_maio',\n",
       "       'Espargos_fevereiro', 'Linho', 'Girassol',\n",
       "       'Cevada/Aveia/Trigo_abril', 'Cevada/Aveia/Trigo_novembro',\n",
       "       'Trigoprimavera', 'Trigoinverno', 'Milhograo', 'Milhodoce',\n",
       "       'Arroz', 'Canadeacucarvirgem', 'Canadeacucarsoca', 'Banana_marco',\n",
       "       'Banana_fevereiro', 'Ananas1', 'Ananas2', 'Bagas1', 'Bagas2',\n",
       "       'Bagas3', 'Azeitona', 'Pistachio', 'Nozes', 'Amendoa'],\n",
       "      dtype=object)"
      ]
     },
     "execution_count": 49,
     "metadata": {},
     "output_type": "execute_result"
    }
   ],
   "source": [
    "TabelaNDVI[\"Crop\"].unique()"
   ]
  },
  {
   "cell_type": "code",
   "execution_count": 50,
   "id": "8635cb8a-048d-4498-b872-50cfb08612e7",
   "metadata": {},
   "outputs": [],
   "source": [
    "TabelaNDVIMilho=TabelaNDVI[(TabelaNDVI['Crop']==\"Milhograo\")]"
   ]
  },
  {
   "cell_type": "code",
   "execution_count": 51,
   "id": "1fd9a5f1-e102-4b31-8fc9-b0c93009f402",
   "metadata": {},
   "outputs": [],
   "source": [
    "kc_ini=float(TabelaNDVIMilho[\"Kc ini\"].values)"
   ]
  },
  {
   "cell_type": "code",
   "execution_count": 52,
   "id": "e9dc2dc0-5681-463f-af82-28be150deca7",
   "metadata": {},
   "outputs": [],
   "source": [
    "TabelaTempoMilho=TabelaTempo[(TabelaTempo['Crop']==\"Milhograo\")]"
   ]
  },
  {
   "cell_type": "code",
   "execution_count": 53,
   "id": "c9fcbb18-7d5d-42cc-91b1-243ef043d2fc",
   "metadata": {},
   "outputs": [],
   "source": [
    "temp_ini=int(TabelaTempoMilho[\"Init. (Lini)\"].values)"
   ]
  },
  {
   "cell_type": "code",
   "execution_count": 54,
   "id": "af1464a7-2801-456d-b2d8-71d962e61ef1",
   "metadata": {},
   "outputs": [],
   "source": [
    "listaInit=[kc_ini]*temp_ini"
   ]
  },
  {
   "cell_type": "code",
   "execution_count": 55,
   "id": "c4ffc7a4-349d-4a7f-854f-1078831f72b9",
   "metadata": {},
   "outputs": [
    {
     "data": {
      "text/plain": [
       "[0.3,\n",
       " 0.3,\n",
       " 0.3,\n",
       " 0.3,\n",
       " 0.3,\n",
       " 0.3,\n",
       " 0.3,\n",
       " 0.3,\n",
       " 0.3,\n",
       " 0.3,\n",
       " 0.3,\n",
       " 0.3,\n",
       " 0.3,\n",
       " 0.3,\n",
       " 0.3,\n",
       " 0.3,\n",
       " 0.3,\n",
       " 0.3,\n",
       " 0.3,\n",
       " 0.3,\n",
       " 0.3,\n",
       " 0.3,\n",
       " 0.3,\n",
       " 0.3,\n",
       " 0.3,\n",
       " 0.3,\n",
       " 0.3,\n",
       " 0.3,\n",
       " 0.3,\n",
       " 0.3]"
      ]
     },
     "execution_count": 55,
     "metadata": {},
     "output_type": "execute_result"
    }
   ],
   "source": [
    "listaInit"
   ]
  },
  {
   "cell_type": "code",
   "execution_count": 56,
   "id": "c80baac6-1d08-40a9-9889-25d19487b844",
   "metadata": {},
   "outputs": [],
   "source": [
    "temp_dev=int(TabelaTempoMilho[\"Dev. (Ldev)\"].values)"
   ]
  },
  {
   "cell_type": "code",
   "execution_count": 57,
   "id": "33e8409b-60e3-439c-ad7d-09cebdf07b38",
   "metadata": {},
   "outputs": [],
   "source": [
    "an_array = np.empty((temp_dev))\n",
    "an_array[:] = np.NaN"
   ]
  },
  {
   "cell_type": "code",
   "execution_count": 58,
   "id": "8dc5e58d-3180-404a-b8f3-ca901f108a5f",
   "metadata": {},
   "outputs": [
    {
     "data": {
      "text/plain": [
       "array([nan, nan, nan, nan, nan, nan, nan, nan, nan, nan, nan, nan, nan,\n",
       "       nan, nan, nan, nan, nan, nan, nan, nan, nan, nan, nan, nan, nan,\n",
       "       nan, nan, nan, nan, nan, nan, nan, nan, nan, nan, nan, nan, nan,\n",
       "       nan])"
      ]
     },
     "execution_count": 58,
     "metadata": {},
     "output_type": "execute_result"
    }
   ],
   "source": [
    "an_array"
   ]
  },
  {
   "cell_type": "code",
   "execution_count": 59,
   "id": "69274667-aa8b-4ea9-96bc-0dbc434dcb4b",
   "metadata": {},
   "outputs": [],
   "source": [
    "kc_mid=float(TabelaNDVIMilho[\"Kc mid\"].values)\n",
    "temp_mid=int(TabelaTempoMilho[\"Mid (Lmid)\"].values)"
   ]
  },
  {
   "cell_type": "code",
   "execution_count": 60,
   "id": "6fa6791a-bdfb-40c3-8de3-ebd6634fa4ad",
   "metadata": {},
   "outputs": [],
   "source": [
    "listaMid=[kc_mid]*temp_mid"
   ]
  },
  {
   "cell_type": "code",
   "execution_count": 61,
   "id": "bd7153c9-6f19-4189-8ef9-641d17d4c3a5",
   "metadata": {},
   "outputs": [],
   "source": [
    "temp_late=int(TabelaTempoMilho[\"Late (Llate)\"].values)"
   ]
  },
  {
   "cell_type": "code",
   "execution_count": 62,
   "id": "b5d0e4a6-7736-4c5d-94fe-8061472cb992",
   "metadata": {},
   "outputs": [],
   "source": [
    "an_array2 = np.empty((temp_late))\n",
    "an_array2[:] = np.NaN"
   ]
  },
  {
   "cell_type": "code",
   "execution_count": 63,
   "id": "26d661b3-8dab-405c-a794-9f150c742b16",
   "metadata": {},
   "outputs": [],
   "source": [
    "kc_end=float(TabelaNDVIMilho[\"Kc end\"].values)"
   ]
  },
  {
   "cell_type": "code",
   "execution_count": 64,
   "id": "fb76e5f3-6cf3-4f82-9fb8-116a75b7f222",
   "metadata": {},
   "outputs": [],
   "source": [
    "for x in an_array:\n",
    "    listaInit.append(x)"
   ]
  },
  {
   "cell_type": "code",
   "execution_count": 65,
   "id": "ab8c40a4-5939-4695-972b-6500fa40db1f",
   "metadata": {},
   "outputs": [],
   "source": [
    "for x in listaMid:\n",
    "    listaInit.append(x)"
   ]
  },
  {
   "cell_type": "code",
   "execution_count": 66,
   "id": "a224db6a-ce39-4030-8714-1a882090341b",
   "metadata": {},
   "outputs": [],
   "source": [
    "for x in an_array2:\n",
    "    listaInit.append(x)"
   ]
  },
  {
   "cell_type": "code",
   "execution_count": 67,
   "id": "1af20d0c-6528-4a45-bf4e-4302c2d9443f",
   "metadata": {},
   "outputs": [],
   "source": [
    "listaInit.append(kc_end)"
   ]
  },
  {
   "cell_type": "code",
   "execution_count": 68,
   "id": "7e2f2e45-5146-45f4-80d5-bf8f32fe20eb",
   "metadata": {},
   "outputs": [],
   "source": [
    "listateoric=listaInit"
   ]
  },
  {
   "cell_type": "code",
   "execution_count": 69,
   "id": "cbd52685-929e-43c2-ad97-c037a77122d9",
   "metadata": {},
   "outputs": [
    {
     "data": {
      "text/plain": [
       "[0.3,\n",
       " 0.3,\n",
       " 0.3,\n",
       " 0.3,\n",
       " 0.3,\n",
       " 0.3,\n",
       " 0.3,\n",
       " 0.3,\n",
       " 0.3,\n",
       " 0.3,\n",
       " 0.3,\n",
       " 0.3,\n",
       " 0.3,\n",
       " 0.3,\n",
       " 0.3,\n",
       " 0.3,\n",
       " 0.3,\n",
       " 0.3,\n",
       " 0.3,\n",
       " 0.3,\n",
       " 0.3,\n",
       " 0.3,\n",
       " 0.3,\n",
       " 0.3,\n",
       " 0.3,\n",
       " 0.3,\n",
       " 0.3,\n",
       " 0.3,\n",
       " 0.3,\n",
       " 0.3,\n",
       " nan,\n",
       " nan,\n",
       " nan,\n",
       " nan,\n",
       " nan,\n",
       " nan,\n",
       " nan,\n",
       " nan,\n",
       " nan,\n",
       " nan,\n",
       " nan,\n",
       " nan,\n",
       " nan,\n",
       " nan,\n",
       " nan,\n",
       " nan,\n",
       " nan,\n",
       " nan,\n",
       " nan,\n",
       " nan,\n",
       " nan,\n",
       " nan,\n",
       " nan,\n",
       " nan,\n",
       " nan,\n",
       " nan,\n",
       " nan,\n",
       " nan,\n",
       " nan,\n",
       " nan,\n",
       " nan,\n",
       " nan,\n",
       " nan,\n",
       " nan,\n",
       " nan,\n",
       " nan,\n",
       " nan,\n",
       " nan,\n",
       " nan,\n",
       " nan,\n",
       " 1.2,\n",
       " 1.2,\n",
       " 1.2,\n",
       " 1.2,\n",
       " 1.2,\n",
       " 1.2,\n",
       " 1.2,\n",
       " 1.2,\n",
       " 1.2,\n",
       " 1.2,\n",
       " 1.2,\n",
       " 1.2,\n",
       " 1.2,\n",
       " 1.2,\n",
       " 1.2,\n",
       " 1.2,\n",
       " 1.2,\n",
       " 1.2,\n",
       " 1.2,\n",
       " 1.2,\n",
       " 1.2,\n",
       " 1.2,\n",
       " 1.2,\n",
       " 1.2,\n",
       " 1.2,\n",
       " 1.2,\n",
       " 1.2,\n",
       " 1.2,\n",
       " 1.2,\n",
       " 1.2,\n",
       " 1.2,\n",
       " 1.2,\n",
       " 1.2,\n",
       " 1.2,\n",
       " 1.2,\n",
       " 1.2,\n",
       " 1.2,\n",
       " 1.2,\n",
       " 1.2,\n",
       " 1.2,\n",
       " 1.2,\n",
       " 1.2,\n",
       " 1.2,\n",
       " 1.2,\n",
       " 1.2,\n",
       " 1.2,\n",
       " 1.2,\n",
       " 1.2,\n",
       " 1.2,\n",
       " 1.2,\n",
       " nan,\n",
       " nan,\n",
       " nan,\n",
       " nan,\n",
       " nan,\n",
       " nan,\n",
       " nan,\n",
       " nan,\n",
       " nan,\n",
       " nan,\n",
       " nan,\n",
       " nan,\n",
       " nan,\n",
       " nan,\n",
       " nan,\n",
       " nan,\n",
       " nan,\n",
       " nan,\n",
       " nan,\n",
       " nan,\n",
       " nan,\n",
       " nan,\n",
       " nan,\n",
       " nan,\n",
       " nan,\n",
       " nan,\n",
       " nan,\n",
       " nan,\n",
       " nan,\n",
       " nan,\n",
       " 0.48]"
      ]
     },
     "execution_count": 69,
     "metadata": {},
     "output_type": "execute_result"
    }
   ],
   "source": [
    "listateoric"
   ]
  },
  {
   "cell_type": "code",
   "execution_count": 70,
   "id": "7cc77b98-6f27-4811-99f3-25e8319bfd2f",
   "metadata": {},
   "outputs": [
    {
     "data": {
      "text/plain": [
       "[<matplotlib.lines.Line2D at 0x1dd46125f70>]"
      ]
     },
     "execution_count": 70,
     "metadata": {},
     "output_type": "execute_result"
    },
    {
     "data": {
      "image/png": "[encoded data removed]",
      "text/plain": [
       "<Figure size 432x288 with 1 Axes>"
      ]
     },
     "metadata": {
      "needs_background": "light"
     },
     "output_type": "display_data"
    }
   ],
   "source": [
    "plt.plot(listateoric)"
   ]
  },
  {
   "cell_type": "code",
   "execution_count": 71,
   "id": "e968524b-0201-4ec8-9149-61ac434bc8be",
   "metadata": {},
   "outputs": [],
   "source": [
    "df_kcteoric = pd.DataFrame (listateoric, columns = ['Kcteoric'])"
   ]
  },
  {
   "cell_type": "code",
   "execution_count": 72,
   "id": "fc9faf79-1ef1-496a-b73f-0f322a9d704a",
   "metadata": {},
   "outputs": [
    {
     "data": {
      "text/plain": [
       "<AxesSubplot:>"
      ]
     },
     "execution_count": 72,
     "metadata": {},
     "output_type": "execute_result"
    },
    {
     "data": {
      "image/png": "[encoded data removed]",
      "text/plain": [
       "<Figure size 432x288 with 1 Axes>"
      ]
     },
     "metadata": {
      "needs_background": "light"
     },
     "output_type": "display_data"
    }
   ],
   "source": [
    "df_kcteoric.interpolate(method=\"linear\").plot()"
   ]
  },
  {
   "cell_type": "code",
   "execution_count": 73,
   "id": "1c88db81-d505-46cd-a6aa-6d3ee51fa04e",
   "metadata": {},
   "outputs": [],
   "source": [
    "df_kcteoric=df_kcteoric.interpolate(method=\"linear\")"
   ]
  },
  {
   "cell_type": "code",
   "execution_count": 74,
   "id": "9a853aa6-1d25-4525-a9cc-ae2430e528d0",
   "metadata": {},
   "outputs": [
    {
     "data": {
      "text/plain": [
       "<AxesSubplot:xlabel='Days', ylabel='Kc'>"
      ]
     },
     "execution_count": 74,
     "metadata": {},
     "output_type": "execute_result"
    },
    {
     "data": {
      "image/png": "[encoded data removed]",
      "text/plain": [
       "<Figure size 432x288 with 1 Axes>"
      ]
     },
     "metadata": {
      "needs_background": "light"
     },
     "output_type": "display_data"
    }
   ],
   "source": [
    "df_kcteoric.plot(xlabel=\"Days\",ylabel=\"Kc\")"
   ]
  },
  {
   "cell_type": "markdown",
   "id": "e3382061-08d0-4a55-9edb-db1f4591aab0",
   "metadata": {},
   "source": [
    "# Criação do período melhor representativo utilizando a correlação de Pearson"
   ]
  },
  {
   "cell_type": "code",
   "execution_count": 75,
   "id": "0011b5f8-d094-4862-80d1-84e4f1be7f74",
   "metadata": {},
   "outputs": [],
   "source": [
    "import scipy.stats as stats"
   ]
  },
  {
   "cell_type": "code",
   "execution_count": 76,
   "id": "632a3c4f-054b-45f0-b466-55ebad31ad37",
   "metadata": {},
   "outputs": [],
   "source": [
    "windows=np.lib.stride_tricks.sliding_window_view(df_filtro, 151, axis=1)"
   ]
  },
  {
   "cell_type": "code",
   "execution_count": 77,
   "id": "edc237cd-4889-455e-9fcc-b13a2e6c7fb6",
   "metadata": {},
   "outputs": [
    {
     "data": {
      "text/plain": [
       "151"
      ]
     },
     "execution_count": 77,
     "metadata": {},
     "output_type": "execute_result"
    }
   ],
   "source": [
    "len(windows[0][0])"
   ]
  },
  {
   "cell_type": "code",
   "execution_count": 78,
   "id": "5f3972ab-32ed-4a17-bd9e-5272895103aa",
   "metadata": {},
   "outputs": [],
   "source": [
    "z=np.arange(151)\n",
    "i=0\n",
    "maxi=[]\n",
    "corrP=[]\n",
    "s=0\n",
    "\n",
    "for z in windows:\n",
    "    for xi in windows[i]:\n",
    "        r, p = stats.pearsonr(xi,df_kcteoric['Kcteoric'])\n",
    "        corrP.append(r)\n",
    "    aws=np.array(corrP)\n",
    "    maxi.append(aws.argmax())   \n",
    "    i=i+1\n",
    "    corrP=[]\n",
    "max_array = np.array(maxi)"
   ]
  },
  {
   "cell_type": "code",
   "execution_count": 79,
   "id": "1e41c0d4-e343-491d-a92b-12b2ab88d9a3",
   "metadata": {},
   "outputs": [
    {
     "data": {
      "text/plain": [
       "array([194,   1, 223, ..., 228, 229, 227], dtype=int64)"
      ]
     },
     "execution_count": 79,
     "metadata": {},
     "output_type": "execute_result"
    }
   ],
   "source": [
    "max_array"
   ]
  },
  {
   "cell_type": "code",
   "execution_count": 80,
   "id": "f2cb9c05-fe7e-4400-a12d-5e0f2b694c07",
   "metadata": {},
   "outputs": [],
   "source": [
    "lista_corr=[]\n",
    "i=0\n",
    "for x in max_array:\n",
    "    lista_corr.append(windows[i][x])\n",
    "    i=i+1"
   ]
  },
  {
   "cell_type": "code",
   "execution_count": 81,
   "id": "1971326c-0e7d-4439-b54a-9d0293dd1b7f",
   "metadata": {},
   "outputs": [],
   "source": [
    "#lista_corr"
   ]
  },
  {
   "cell_type": "code",
   "execution_count": 82,
   "id": "30a3d7bb-2f13-4dc9-961d-b3187d23342a",
   "metadata": {},
   "outputs": [],
   "source": [
    "df_melhor= pd.DataFrame(data=lista_corr, index=df_trans.index)"
   ]
  },
  {
   "cell_type": "code",
   "execution_count": 83,
   "id": "448b3467-8026-4d23-9e4d-5cce5cd00bf8",
   "metadata": {},
   "outputs": [],
   "source": [
    "df_train_melhor=df_melhor[1434:]"
   ]
  },
  {
   "cell_type": "code",
   "execution_count": 84,
   "id": "0332886f-89cd-4127-85b7-6a367857cea1",
   "metadata": {},
   "outputs": [
    {
     "data": {
      "text/html": [
       "<div>\n",
       "<style scoped>\n",
       "    .dataframe tbody tr th:only-of-type {\n",
       "        vertical-align: middle;\n",
       "    }\n",
       "\n",
       "    .dataframe tbody tr th {\n",
       "        vertical-align: top;\n",
       "    }\n",
       "\n",
       "    .dataframe thead th {\n",
       "        text-align: right;\n",
       "    }\n",
       "</style>\n",
       "<table border=\"1\" class=\"dataframe\">\n",
       "  <thead>\n",
       "    <tr style=\"text-align: right;\">\n",
       "      <th></th>\n",
       "      <th>0</th>\n",
       "      <th>1</th>\n",
       "      <th>2</th>\n",
       "      <th>3</th>\n",
       "      <th>4</th>\n",
       "      <th>5</th>\n",
       "      <th>6</th>\n",
       "      <th>7</th>\n",
       "      <th>8</th>\n",
       "      <th>9</th>\n",
       "      <th>...</th>\n",
       "      <th>141</th>\n",
       "      <th>142</th>\n",
       "      <th>143</th>\n",
       "      <th>144</th>\n",
       "      <th>145</th>\n",
       "      <th>146</th>\n",
       "      <th>147</th>\n",
       "      <th>148</th>\n",
       "      <th>149</th>\n",
       "      <th>150</th>\n",
       "    </tr>\n",
       "    <tr>\n",
       "      <th>ID</th>\n",
       "      <th></th>\n",
       "      <th></th>\n",
       "      <th></th>\n",
       "      <th></th>\n",
       "      <th></th>\n",
       "      <th></th>\n",
       "      <th></th>\n",
       "      <th></th>\n",
       "      <th></th>\n",
       "      <th></th>\n",
       "      <th></th>\n",
       "      <th></th>\n",
       "      <th></th>\n",
       "      <th></th>\n",
       "      <th></th>\n",
       "      <th></th>\n",
       "      <th></th>\n",
       "      <th></th>\n",
       "      <th></th>\n",
       "      <th></th>\n",
       "      <th></th>\n",
       "    </tr>\n",
       "  </thead>\n",
       "  <tbody>\n",
       "    <tr>\n",
       "      <th>26994686</th>\n",
       "      <td>0.290999</td>\n",
       "      <td>0.293387</td>\n",
       "      <td>0.301277</td>\n",
       "      <td>0.313454</td>\n",
       "      <td>0.326949</td>\n",
       "      <td>0.338141</td>\n",
       "      <td>0.343643</td>\n",
       "      <td>0.341464</td>\n",
       "      <td>0.330696</td>\n",
       "      <td>0.311769</td>\n",
       "      <td>...</td>\n",
       "      <td>0.592495</td>\n",
       "      <td>0.611531</td>\n",
       "      <td>0.630691</td>\n",
       "      <td>0.645026</td>\n",
       "      <td>0.650807</td>\n",
       "      <td>0.647521</td>\n",
       "      <td>0.638396</td>\n",
       "      <td>0.624886</td>\n",
       "      <td>0.611063</td>\n",
       "      <td>0.600666</td>\n",
       "    </tr>\n",
       "    <tr>\n",
       "      <th>27003409</th>\n",
       "      <td>0.144309</td>\n",
       "      <td>0.145990</td>\n",
       "      <td>0.150512</td>\n",
       "      <td>0.156230</td>\n",
       "      <td>0.162235</td>\n",
       "      <td>0.167762</td>\n",
       "      <td>0.172099</td>\n",
       "      <td>0.175650</td>\n",
       "      <td>0.178692</td>\n",
       "      <td>0.181568</td>\n",
       "      <td>...</td>\n",
       "      <td>0.603099</td>\n",
       "      <td>0.592142</td>\n",
       "      <td>0.580929</td>\n",
       "      <td>0.569741</td>\n",
       "      <td>0.558865</td>\n",
       "      <td>0.548919</td>\n",
       "      <td>0.538258</td>\n",
       "      <td>0.527193</td>\n",
       "      <td>0.516300</td>\n",
       "      <td>0.506148</td>\n",
       "    </tr>\n",
       "    <tr>\n",
       "      <th>27003518</th>\n",
       "      <td>0.279552</td>\n",
       "      <td>0.305094</td>\n",
       "      <td>0.334306</td>\n",
       "      <td>0.361575</td>\n",
       "      <td>0.381721</td>\n",
       "      <td>0.390807</td>\n",
       "      <td>0.386753</td>\n",
       "      <td>0.369787</td>\n",
       "      <td>0.342760</td>\n",
       "      <td>0.311344</td>\n",
       "      <td>...</td>\n",
       "      <td>0.664054</td>\n",
       "      <td>0.656075</td>\n",
       "      <td>0.640381</td>\n",
       "      <td>0.613758</td>\n",
       "      <td>0.579498</td>\n",
       "      <td>0.544531</td>\n",
       "      <td>0.515971</td>\n",
       "      <td>0.496886</td>\n",
       "      <td>0.490870</td>\n",
       "      <td>0.497570</td>\n",
       "    </tr>\n",
       "    <tr>\n",
       "      <th>27008969</th>\n",
       "      <td>0.190798</td>\n",
       "      <td>0.175715</td>\n",
       "      <td>0.169597</td>\n",
       "      <td>0.172354</td>\n",
       "      <td>0.179751</td>\n",
       "      <td>0.189590</td>\n",
       "      <td>0.197898</td>\n",
       "      <td>0.201305</td>\n",
       "      <td>0.198533</td>\n",
       "      <td>0.195133</td>\n",
       "      <td>...</td>\n",
       "      <td>0.181512</td>\n",
       "      <td>0.182015</td>\n",
       "      <td>0.184413</td>\n",
       "      <td>0.186863</td>\n",
       "      <td>0.189301</td>\n",
       "      <td>0.191762</td>\n",
       "      <td>0.194371</td>\n",
       "      <td>0.196791</td>\n",
       "      <td>0.200681</td>\n",
       "      <td>0.205591</td>\n",
       "    </tr>\n",
       "    <tr>\n",
       "      <th>27009799</th>\n",
       "      <td>0.365844</td>\n",
       "      <td>0.354896</td>\n",
       "      <td>0.343548</td>\n",
       "      <td>0.331302</td>\n",
       "      <td>0.317735</td>\n",
       "      <td>0.302719</td>\n",
       "      <td>0.286503</td>\n",
       "      <td>0.269662</td>\n",
       "      <td>0.252993</td>\n",
       "      <td>0.237376</td>\n",
       "      <td>...</td>\n",
       "      <td>0.539187</td>\n",
       "      <td>0.512282</td>\n",
       "      <td>0.486956</td>\n",
       "      <td>0.464573</td>\n",
       "      <td>0.446224</td>\n",
       "      <td>0.431863</td>\n",
       "      <td>0.421172</td>\n",
       "      <td>0.413456</td>\n",
       "      <td>0.407831</td>\n",
       "      <td>0.403706</td>\n",
       "    </tr>\n",
       "    <tr>\n",
       "      <th>...</th>\n",
       "      <td>...</td>\n",
       "      <td>...</td>\n",
       "      <td>...</td>\n",
       "      <td>...</td>\n",
       "      <td>...</td>\n",
       "      <td>...</td>\n",
       "      <td>...</td>\n",
       "      <td>...</td>\n",
       "      <td>...</td>\n",
       "      <td>...</td>\n",
       "      <td>...</td>\n",
       "      <td>...</td>\n",
       "      <td>...</td>\n",
       "      <td>...</td>\n",
       "      <td>...</td>\n",
       "      <td>...</td>\n",
       "      <td>...</td>\n",
       "      <td>...</td>\n",
       "      <td>...</td>\n",
       "      <td>...</td>\n",
       "      <td>...</td>\n",
       "    </tr>\n",
       "    <tr>\n",
       "      <th>44821958</th>\n",
       "      <td>0.208904</td>\n",
       "      <td>0.193140</td>\n",
       "      <td>0.180362</td>\n",
       "      <td>0.171414</td>\n",
       "      <td>0.166299</td>\n",
       "      <td>0.164657</td>\n",
       "      <td>0.166086</td>\n",
       "      <td>0.170863</td>\n",
       "      <td>0.177226</td>\n",
       "      <td>0.183762</td>\n",
       "      <td>...</td>\n",
       "      <td>0.515444</td>\n",
       "      <td>0.490721</td>\n",
       "      <td>0.466861</td>\n",
       "      <td>0.443038</td>\n",
       "      <td>0.418419</td>\n",
       "      <td>0.392672</td>\n",
       "      <td>0.366430</td>\n",
       "      <td>0.339841</td>\n",
       "      <td>0.313590</td>\n",
       "      <td>0.288507</td>\n",
       "    </tr>\n",
       "    <tr>\n",
       "      <th>44823713</th>\n",
       "      <td>0.162150</td>\n",
       "      <td>0.156868</td>\n",
       "      <td>0.149513</td>\n",
       "      <td>0.141034</td>\n",
       "      <td>0.132535</td>\n",
       "      <td>0.125099</td>\n",
       "      <td>0.119511</td>\n",
       "      <td>0.115962</td>\n",
       "      <td>0.114586</td>\n",
       "      <td>0.115044</td>\n",
       "      <td>...</td>\n",
       "      <td>0.597929</td>\n",
       "      <td>0.592185</td>\n",
       "      <td>0.588348</td>\n",
       "      <td>0.584141</td>\n",
       "      <td>0.576993</td>\n",
       "      <td>0.564744</td>\n",
       "      <td>0.546472</td>\n",
       "      <td>0.522189</td>\n",
       "      <td>0.492911</td>\n",
       "      <td>0.460518</td>\n",
       "    </tr>\n",
       "    <tr>\n",
       "      <th>44825583</th>\n",
       "      <td>0.134134</td>\n",
       "      <td>0.133698</td>\n",
       "      <td>0.132636</td>\n",
       "      <td>0.131321</td>\n",
       "      <td>0.130153</td>\n",
       "      <td>0.129105</td>\n",
       "      <td>0.128346</td>\n",
       "      <td>0.128162</td>\n",
       "      <td>0.128358</td>\n",
       "      <td>0.128681</td>\n",
       "      <td>...</td>\n",
       "      <td>0.667009</td>\n",
       "      <td>0.623351</td>\n",
       "      <td>0.572997</td>\n",
       "      <td>0.524562</td>\n",
       "      <td>0.486136</td>\n",
       "      <td>0.462306</td>\n",
       "      <td>0.456943</td>\n",
       "      <td>0.470509</td>\n",
       "      <td>0.500459</td>\n",
       "      <td>0.541502</td>\n",
       "    </tr>\n",
       "    <tr>\n",
       "      <th>44825584</th>\n",
       "      <td>0.132938</td>\n",
       "      <td>0.131672</td>\n",
       "      <td>0.130218</td>\n",
       "      <td>0.128949</td>\n",
       "      <td>0.127808</td>\n",
       "      <td>0.127124</td>\n",
       "      <td>0.127135</td>\n",
       "      <td>0.127592</td>\n",
       "      <td>0.128185</td>\n",
       "      <td>0.129262</td>\n",
       "      <td>...</td>\n",
       "      <td>0.682535</td>\n",
       "      <td>0.632241</td>\n",
       "      <td>0.584629</td>\n",
       "      <td>0.547984</td>\n",
       "      <td>0.525726</td>\n",
       "      <td>0.521757</td>\n",
       "      <td>0.536450</td>\n",
       "      <td>0.567259</td>\n",
       "      <td>0.608947</td>\n",
       "      <td>0.656500</td>\n",
       "    </tr>\n",
       "    <tr>\n",
       "      <th>44825588</th>\n",
       "      <td>0.137332</td>\n",
       "      <td>0.137451</td>\n",
       "      <td>0.136831</td>\n",
       "      <td>0.135627</td>\n",
       "      <td>0.134226</td>\n",
       "      <td>0.133033</td>\n",
       "      <td>0.132001</td>\n",
       "      <td>0.131480</td>\n",
       "      <td>0.131723</td>\n",
       "      <td>0.132469</td>\n",
       "      <td>...</td>\n",
       "      <td>0.737759</td>\n",
       "      <td>0.720257</td>\n",
       "      <td>0.693439</td>\n",
       "      <td>0.661994</td>\n",
       "      <td>0.631634</td>\n",
       "      <td>0.607411</td>\n",
       "      <td>0.590750</td>\n",
       "      <td>0.584530</td>\n",
       "      <td>0.589200</td>\n",
       "      <td>0.603453</td>\n",
       "    </tr>\n",
       "  </tbody>\n",
       "</table>\n",
       "<p>3345 rows × 151 columns</p>\n",
       "</div>"
      ],
      "text/plain": [
       "               0         1         2         3         4         5    \\\n",
       "ID                                                                     \n",
       "26994686  0.290999  0.293387  0.301277  0.313454  0.326949  0.338141   \n",
       "27003409  0.144309  0.145990  0.150512  0.156230  0.162235  0.167762   \n",
       "27003518  0.279552  0.305094  0.334306  0.361575  0.381721  0.390807   \n",
       "27008969  0.190798  0.175715  0.169597  0.172354  0.179751  0.189590   \n",
       "27009799  0.365844  0.354896  0.343548  0.331302  0.317735  0.302719   \n",
       "...            ...       ...       ...       ...       ...       ...   \n",
       "44821958  0.208904  0.193140  0.180362  0.171414  0.166299  0.164657   \n",
       "44823713  0.162150  0.156868  0.149513  0.141034  0.132535  0.125099   \n",
       "44825583  0.134134  0.133698  0.132636  0.131321  0.130153  0.129105   \n",
       "44825584  0.132938  0.131672  0.130218  0.128949  0.127808  0.127124   \n",
       "44825588  0.137332  0.137451  0.136831  0.135627  0.134226  0.133033   \n",
       "\n",
       "               6         7         8         9    ...       141       142  \\\n",
       "ID                                                ...                       \n",
       "26994686  0.343643  0.341464  0.330696  0.311769  ...  0.592495  0.611531   \n",
       "27003409  0.172099  0.175650  0.178692  0.181568  ...  0.603099  0.592142   \n",
       "27003518  0.386753  0.369787  0.342760  0.311344  ...  0.664054  0.656075   \n",
       "27008969  0.197898  0.201305  0.198533  0.195133  ...  0.181512  0.182015   \n",
       "27009799  0.286503  0.269662  0.252993  0.237376  ...  0.539187  0.512282   \n",
       "...            ...       ...       ...       ...  ...       ...       ...   \n",
       "44821958  0.166086  0.170863  0.177226  0.183762  ...  0.515444  0.490721   \n",
       "44823713  0.119511  0.115962  0.114586  0.115044  ...  0.597929  0.592185   \n",
       "44825583  0.128346  0.128162  0.128358  0.128681  ...  0.667009  0.623351   \n",
       "44825584  0.127135  0.127592  0.128185  0.129262  ...  0.682535  0.632241   \n",
       "44825588  0.132001  0.131480  0.131723  0.132469  ...  0.737759  0.720257   \n",
       "\n",
       "               143       144       145       146       147       148  \\\n",
       "ID                                                                     \n",
       "26994686  0.630691  0.645026  0.650807  0.647521  0.638396  0.624886   \n",
       "27003409  0.580929  0.569741  0.558865  0.548919  0.538258  0.527193   \n",
       "27003518  0.640381  0.613758  0.579498  0.544531  0.515971  0.496886   \n",
       "27008969  0.184413  0.186863  0.189301  0.191762  0.194371  0.196791   \n",
       "27009799  0.486956  0.464573  0.446224  0.431863  0.421172  0.413456   \n",
       "...            ...       ...       ...       ...       ...       ...   \n",
       "44821958  0.466861  0.443038  0.418419  0.392672  0.366430  0.339841   \n",
       "44823713  0.588348  0.584141  0.576993  0.564744  0.546472  0.522189   \n",
       "44825583  0.572997  0.524562  0.486136  0.462306  0.456943  0.470509   \n",
       "44825584  0.584629  0.547984  0.525726  0.521757  0.536450  0.567259   \n",
       "44825588  0.693439  0.661994  0.631634  0.607411  0.590750  0.584530   \n",
       "\n",
       "               149       150  \n",
       "ID                            \n",
       "26994686  0.611063  0.600666  \n",
       "27003409  0.516300  0.506148  \n",
       "27003518  0.490870  0.497570  \n",
       "27008969  0.200681  0.205591  \n",
       "27009799  0.407831  0.403706  \n",
       "...            ...       ...  \n",
       "44821958  0.313590  0.288507  \n",
       "44823713  0.492911  0.460518  \n",
       "44825583  0.500459  0.541502  \n",
       "44825584  0.608947  0.656500  \n",
       "44825588  0.589200  0.603453  \n",
       "\n",
       "[3345 rows x 151 columns]"
      ]
     },
     "execution_count": 84,
     "metadata": {},
     "output_type": "execute_result"
    }
   ],
   "source": [
    "df_train_melhor"
   ]
  },
  {
   "cell_type": "code",
   "execution_count": 85,
   "id": "1e86773c-8d1c-406f-9409-6473aa90a8da",
   "metadata": {},
   "outputs": [],
   "source": [
    "df_train_melhor2=df_train_melhor.T"
   ]
  },
  {
   "cell_type": "code",
   "execution_count": 86,
   "id": "1164cc23-16e3-4333-9354-108418338fdc",
   "metadata": {},
   "outputs": [
    {
     "data": {
      "text/html": [
       "<div>\n",
       "<style scoped>\n",
       "    .dataframe tbody tr th:only-of-type {\n",
       "        vertical-align: middle;\n",
       "    }\n",
       "\n",
       "    .dataframe tbody tr th {\n",
       "        vertical-align: top;\n",
       "    }\n",
       "\n",
       "    .dataframe thead th {\n",
       "        text-align: right;\n",
       "    }\n",
       "</style>\n",
       "<table border=\"1\" class=\"dataframe\">\n",
       "  <thead>\n",
       "    <tr style=\"text-align: right;\">\n",
       "      <th>ID</th>\n",
       "      <th>26994686</th>\n",
       "      <th>27003409</th>\n",
       "      <th>27003518</th>\n",
       "      <th>27008969</th>\n",
       "      <th>27009799</th>\n",
       "      <th>27216040</th>\n",
       "      <th>27368195</th>\n",
       "      <th>27369480</th>\n",
       "      <th>27371836</th>\n",
       "      <th>27371838</th>\n",
       "      <th>...</th>\n",
       "      <th>44805278</th>\n",
       "      <th>44812160</th>\n",
       "      <th>44812167</th>\n",
       "      <th>44816601</th>\n",
       "      <th>44819099</th>\n",
       "      <th>44821958</th>\n",
       "      <th>44823713</th>\n",
       "      <th>44825583</th>\n",
       "      <th>44825584</th>\n",
       "      <th>44825588</th>\n",
       "    </tr>\n",
       "  </thead>\n",
       "  <tbody>\n",
       "    <tr>\n",
       "      <th>0</th>\n",
       "      <td>0.290999</td>\n",
       "      <td>0.144309</td>\n",
       "      <td>0.279552</td>\n",
       "      <td>0.190798</td>\n",
       "      <td>0.365844</td>\n",
       "      <td>0.168789</td>\n",
       "      <td>0.536372</td>\n",
       "      <td>0.216243</td>\n",
       "      <td>0.181256</td>\n",
       "      <td>0.317934</td>\n",
       "      <td>...</td>\n",
       "      <td>0.236032</td>\n",
       "      <td>0.215179</td>\n",
       "      <td>0.261090</td>\n",
       "      <td>0.166302</td>\n",
       "      <td>0.106072</td>\n",
       "      <td>0.208904</td>\n",
       "      <td>0.162150</td>\n",
       "      <td>0.134134</td>\n",
       "      <td>0.132938</td>\n",
       "      <td>0.137332</td>\n",
       "    </tr>\n",
       "    <tr>\n",
       "      <th>1</th>\n",
       "      <td>0.293387</td>\n",
       "      <td>0.145990</td>\n",
       "      <td>0.305094</td>\n",
       "      <td>0.175715</td>\n",
       "      <td>0.354896</td>\n",
       "      <td>0.167739</td>\n",
       "      <td>0.518198</td>\n",
       "      <td>0.218757</td>\n",
       "      <td>0.183008</td>\n",
       "      <td>0.323451</td>\n",
       "      <td>...</td>\n",
       "      <td>0.237364</td>\n",
       "      <td>0.195156</td>\n",
       "      <td>0.259026</td>\n",
       "      <td>0.168510</td>\n",
       "      <td>0.105282</td>\n",
       "      <td>0.193140</td>\n",
       "      <td>0.156868</td>\n",
       "      <td>0.133698</td>\n",
       "      <td>0.131672</td>\n",
       "      <td>0.137451</td>\n",
       "    </tr>\n",
       "    <tr>\n",
       "      <th>2</th>\n",
       "      <td>0.301277</td>\n",
       "      <td>0.150512</td>\n",
       "      <td>0.334306</td>\n",
       "      <td>0.169597</td>\n",
       "      <td>0.343548</td>\n",
       "      <td>0.166727</td>\n",
       "      <td>0.494358</td>\n",
       "      <td>0.220816</td>\n",
       "      <td>0.184193</td>\n",
       "      <td>0.328178</td>\n",
       "      <td>...</td>\n",
       "      <td>0.238752</td>\n",
       "      <td>0.183588</td>\n",
       "      <td>0.257729</td>\n",
       "      <td>0.170736</td>\n",
       "      <td>0.106482</td>\n",
       "      <td>0.180362</td>\n",
       "      <td>0.149513</td>\n",
       "      <td>0.132636</td>\n",
       "      <td>0.130218</td>\n",
       "      <td>0.136831</td>\n",
       "    </tr>\n",
       "    <tr>\n",
       "      <th>3</th>\n",
       "      <td>0.313454</td>\n",
       "      <td>0.156230</td>\n",
       "      <td>0.361575</td>\n",
       "      <td>0.172354</td>\n",
       "      <td>0.331302</td>\n",
       "      <td>0.166078</td>\n",
       "      <td>0.463802</td>\n",
       "      <td>0.222936</td>\n",
       "      <td>0.184627</td>\n",
       "      <td>0.331538</td>\n",
       "      <td>...</td>\n",
       "      <td>0.240195</td>\n",
       "      <td>0.180609</td>\n",
       "      <td>0.257292</td>\n",
       "      <td>0.172884</td>\n",
       "      <td>0.109613</td>\n",
       "      <td>0.171414</td>\n",
       "      <td>0.141034</td>\n",
       "      <td>0.131321</td>\n",
       "      <td>0.128949</td>\n",
       "      <td>0.135627</td>\n",
       "    </tr>\n",
       "    <tr>\n",
       "      <th>4</th>\n",
       "      <td>0.326949</td>\n",
       "      <td>0.162235</td>\n",
       "      <td>0.381721</td>\n",
       "      <td>0.179751</td>\n",
       "      <td>0.317735</td>\n",
       "      <td>0.165809</td>\n",
       "      <td>0.426796</td>\n",
       "      <td>0.225615</td>\n",
       "      <td>0.184193</td>\n",
       "      <td>0.333104</td>\n",
       "      <td>...</td>\n",
       "      <td>0.241597</td>\n",
       "      <td>0.182172</td>\n",
       "      <td>0.257792</td>\n",
       "      <td>0.174957</td>\n",
       "      <td>0.114868</td>\n",
       "      <td>0.166299</td>\n",
       "      <td>0.132535</td>\n",
       "      <td>0.130153</td>\n",
       "      <td>0.127808</td>\n",
       "      <td>0.134226</td>\n",
       "    </tr>\n",
       "    <tr>\n",
       "      <th>...</th>\n",
       "      <td>...</td>\n",
       "      <td>...</td>\n",
       "      <td>...</td>\n",
       "      <td>...</td>\n",
       "      <td>...</td>\n",
       "      <td>...</td>\n",
       "      <td>...</td>\n",
       "      <td>...</td>\n",
       "      <td>...</td>\n",
       "      <td>...</td>\n",
       "      <td>...</td>\n",
       "      <td>...</td>\n",
       "      <td>...</td>\n",
       "      <td>...</td>\n",
       "      <td>...</td>\n",
       "      <td>...</td>\n",
       "      <td>...</td>\n",
       "      <td>...</td>\n",
       "      <td>...</td>\n",
       "      <td>...</td>\n",
       "      <td>...</td>\n",
       "    </tr>\n",
       "    <tr>\n",
       "      <th>146</th>\n",
       "      <td>0.647521</td>\n",
       "      <td>0.548919</td>\n",
       "      <td>0.544531</td>\n",
       "      <td>0.191762</td>\n",
       "      <td>0.431863</td>\n",
       "      <td>0.589377</td>\n",
       "      <td>0.403313</td>\n",
       "      <td>0.559400</td>\n",
       "      <td>0.186591</td>\n",
       "      <td>0.854086</td>\n",
       "      <td>...</td>\n",
       "      <td>0.272239</td>\n",
       "      <td>0.374365</td>\n",
       "      <td>0.253522</td>\n",
       "      <td>0.428576</td>\n",
       "      <td>0.322097</td>\n",
       "      <td>0.392672</td>\n",
       "      <td>0.564744</td>\n",
       "      <td>0.462306</td>\n",
       "      <td>0.521757</td>\n",
       "      <td>0.607411</td>\n",
       "    </tr>\n",
       "    <tr>\n",
       "      <th>147</th>\n",
       "      <td>0.638396</td>\n",
       "      <td>0.538258</td>\n",
       "      <td>0.515971</td>\n",
       "      <td>0.194371</td>\n",
       "      <td>0.421172</td>\n",
       "      <td>0.583280</td>\n",
       "      <td>0.401635</td>\n",
       "      <td>0.551769</td>\n",
       "      <td>0.183435</td>\n",
       "      <td>0.852559</td>\n",
       "      <td>...</td>\n",
       "      <td>0.236009</td>\n",
       "      <td>0.357114</td>\n",
       "      <td>0.244873</td>\n",
       "      <td>0.426643</td>\n",
       "      <td>0.301447</td>\n",
       "      <td>0.366430</td>\n",
       "      <td>0.546472</td>\n",
       "      <td>0.456943</td>\n",
       "      <td>0.536450</td>\n",
       "      <td>0.590750</td>\n",
       "    </tr>\n",
       "    <tr>\n",
       "      <th>148</th>\n",
       "      <td>0.624886</td>\n",
       "      <td>0.527193</td>\n",
       "      <td>0.496886</td>\n",
       "      <td>0.196791</td>\n",
       "      <td>0.413456</td>\n",
       "      <td>0.576510</td>\n",
       "      <td>0.399449</td>\n",
       "      <td>0.549162</td>\n",
       "      <td>0.180404</td>\n",
       "      <td>0.850962</td>\n",
       "      <td>...</td>\n",
       "      <td>0.203515</td>\n",
       "      <td>0.335718</td>\n",
       "      <td>0.243221</td>\n",
       "      <td>0.422666</td>\n",
       "      <td>0.280825</td>\n",
       "      <td>0.339841</td>\n",
       "      <td>0.522189</td>\n",
       "      <td>0.470509</td>\n",
       "      <td>0.567259</td>\n",
       "      <td>0.584530</td>\n",
       "    </tr>\n",
       "    <tr>\n",
       "      <th>149</th>\n",
       "      <td>0.611063</td>\n",
       "      <td>0.516300</td>\n",
       "      <td>0.490870</td>\n",
       "      <td>0.200681</td>\n",
       "      <td>0.407831</td>\n",
       "      <td>0.568849</td>\n",
       "      <td>0.396584</td>\n",
       "      <td>0.549498</td>\n",
       "      <td>0.178691</td>\n",
       "      <td>0.849347</td>\n",
       "      <td>...</td>\n",
       "      <td>0.178322</td>\n",
       "      <td>0.311663</td>\n",
       "      <td>0.247586</td>\n",
       "      <td>0.415693</td>\n",
       "      <td>0.260720</td>\n",
       "      <td>0.313590</td>\n",
       "      <td>0.492911</td>\n",
       "      <td>0.500459</td>\n",
       "      <td>0.608947</td>\n",
       "      <td>0.589200</td>\n",
       "    </tr>\n",
       "    <tr>\n",
       "      <th>150</th>\n",
       "      <td>0.600666</td>\n",
       "      <td>0.506148</td>\n",
       "      <td>0.497570</td>\n",
       "      <td>0.205591</td>\n",
       "      <td>0.403706</td>\n",
       "      <td>0.560161</td>\n",
       "      <td>0.393187</td>\n",
       "      <td>0.550428</td>\n",
       "      <td>0.178274</td>\n",
       "      <td>0.847758</td>\n",
       "      <td>...</td>\n",
       "      <td>0.160763</td>\n",
       "      <td>0.287556</td>\n",
       "      <td>0.256249</td>\n",
       "      <td>0.408119</td>\n",
       "      <td>0.241719</td>\n",
       "      <td>0.288507</td>\n",
       "      <td>0.460518</td>\n",
       "      <td>0.541502</td>\n",
       "      <td>0.656500</td>\n",
       "      <td>0.603453</td>\n",
       "    </tr>\n",
       "  </tbody>\n",
       "</table>\n",
       "<p>151 rows × 3345 columns</p>\n",
       "</div>"
      ],
      "text/plain": [
       "ID   26994686  27003409  27003518  27008969  27009799  27216040  27368195  \\\n",
       "0    0.290999  0.144309  0.279552  0.190798  0.365844  0.168789  0.536372   \n",
       "1    0.293387  0.145990  0.305094  0.175715  0.354896  0.167739  0.518198   \n",
       "2    0.301277  0.150512  0.334306  0.169597  0.343548  0.166727  0.494358   \n",
       "3    0.313454  0.156230  0.361575  0.172354  0.331302  0.166078  0.463802   \n",
       "4    0.326949  0.162235  0.381721  0.179751  0.317735  0.165809  0.426796   \n",
       "..        ...       ...       ...       ...       ...       ...       ...   \n",
       "146  0.647521  0.548919  0.544531  0.191762  0.431863  0.589377  0.403313   \n",
       "147  0.638396  0.538258  0.515971  0.194371  0.421172  0.583280  0.401635   \n",
       "148  0.624886  0.527193  0.496886  0.196791  0.413456  0.576510  0.399449   \n",
       "149  0.611063  0.516300  0.490870  0.200681  0.407831  0.568849  0.396584   \n",
       "150  0.600666  0.506148  0.497570  0.205591  0.403706  0.560161  0.393187   \n",
       "\n",
       "ID   27369480  27371836  27371838  ...  44805278  44812160  44812167  \\\n",
       "0    0.216243  0.181256  0.317934  ...  0.236032  0.215179  0.261090   \n",
       "1    0.218757  0.183008  0.323451  ...  0.237364  0.195156  0.259026   \n",
       "2    0.220816  0.184193  0.328178  ...  0.238752  0.183588  0.257729   \n",
       "3    0.222936  0.184627  0.331538  ...  0.240195  0.180609  0.257292   \n",
       "4    0.225615  0.184193  0.333104  ...  0.241597  0.182172  0.257792   \n",
       "..        ...       ...       ...  ...       ...       ...       ...   \n",
       "146  0.559400  0.186591  0.854086  ...  0.272239  0.374365  0.253522   \n",
       "147  0.551769  0.183435  0.852559  ...  0.236009  0.357114  0.244873   \n",
       "148  0.549162  0.180404  0.850962  ...  0.203515  0.335718  0.243221   \n",
       "149  0.549498  0.178691  0.849347  ...  0.178322  0.311663  0.247586   \n",
       "150  0.550428  0.178274  0.847758  ...  0.160763  0.287556  0.256249   \n",
       "\n",
       "ID   44816601  44819099  44821958  44823713  44825583  44825584  44825588  \n",
       "0    0.166302  0.106072  0.208904  0.162150  0.134134  0.132938  0.137332  \n",
       "1    0.168510  0.105282  0.193140  0.156868  0.133698  0.131672  0.137451  \n",
       "2    0.170736  0.106482  0.180362  0.149513  0.132636  0.130218  0.136831  \n",
       "3    0.172884  0.109613  0.171414  0.141034  0.131321  0.128949  0.135627  \n",
       "4    0.174957  0.114868  0.166299  0.132535  0.130153  0.127808  0.134226  \n",
       "..        ...       ...       ...       ...       ...       ...       ...  \n",
       "146  0.428576  0.322097  0.392672  0.564744  0.462306  0.521757  0.607411  \n",
       "147  0.426643  0.301447  0.366430  0.546472  0.456943  0.536450  0.590750  \n",
       "148  0.422666  0.280825  0.339841  0.522189  0.470509  0.567259  0.584530  \n",
       "149  0.415693  0.260720  0.313590  0.492911  0.500459  0.608947  0.589200  \n",
       "150  0.408119  0.241719  0.288507  0.460518  0.541502  0.656500  0.603453  \n",
       "\n",
       "[151 rows x 3345 columns]"
      ]
     },
     "execution_count": 86,
     "metadata": {},
     "output_type": "execute_result"
    }
   ],
   "source": [
    "df_train_melhor2"
   ]
  },
  {
   "cell_type": "code",
   "execution_count": 87,
   "id": "86d0c433-4b1e-4070-88ef-ff1025246a41",
   "metadata": {},
   "outputs": [],
   "source": [
    "df_melhor2=df_melhor.T"
   ]
  },
  {
   "cell_type": "code",
   "execution_count": 88,
   "id": "4eba2a18-39a2-4c65-bcf5-9cb364d30f5a",
   "metadata": {},
   "outputs": [
    {
     "data": {
      "text/html": [
       "<div>\n",
       "<style scoped>\n",
       "    .dataframe tbody tr th:only-of-type {\n",
       "        vertical-align: middle;\n",
       "    }\n",
       "\n",
       "    .dataframe tbody tr th {\n",
       "        vertical-align: top;\n",
       "    }\n",
       "\n",
       "    .dataframe thead th {\n",
       "        text-align: right;\n",
       "    }\n",
       "</style>\n",
       "<table border=\"1\" class=\"dataframe\">\n",
       "  <thead>\n",
       "    <tr style=\"text-align: right;\">\n",
       "      <th>ID</th>\n",
       "      <th>26742</th>\n",
       "      <th>142399</th>\n",
       "      <th>147088</th>\n",
       "      <th>270735</th>\n",
       "      <th>270992</th>\n",
       "      <th>453335</th>\n",
       "      <th>744056</th>\n",
       "      <th>842397</th>\n",
       "      <th>1305223</th>\n",
       "      <th>1305481</th>\n",
       "      <th>...</th>\n",
       "      <th>44805278</th>\n",
       "      <th>44812160</th>\n",
       "      <th>44812167</th>\n",
       "      <th>44816601</th>\n",
       "      <th>44819099</th>\n",
       "      <th>44821958</th>\n",
       "      <th>44823713</th>\n",
       "      <th>44825583</th>\n",
       "      <th>44825584</th>\n",
       "      <th>44825588</th>\n",
       "    </tr>\n",
       "  </thead>\n",
       "  <tbody>\n",
       "    <tr>\n",
       "      <th>0</th>\n",
       "      <td>0.563713</td>\n",
       "      <td>0.470083</td>\n",
       "      <td>0.308383</td>\n",
       "      <td>0.316859</td>\n",
       "      <td>0.280677</td>\n",
       "      <td>0.341934</td>\n",
       "      <td>0.333029</td>\n",
       "      <td>0.294471</td>\n",
       "      <td>0.203654</td>\n",
       "      <td>0.142772</td>\n",
       "      <td>...</td>\n",
       "      <td>0.236032</td>\n",
       "      <td>0.215179</td>\n",
       "      <td>0.261090</td>\n",
       "      <td>0.166302</td>\n",
       "      <td>0.106072</td>\n",
       "      <td>0.208904</td>\n",
       "      <td>0.162150</td>\n",
       "      <td>0.134134</td>\n",
       "      <td>0.132938</td>\n",
       "      <td>0.137332</td>\n",
       "    </tr>\n",
       "    <tr>\n",
       "      <th>1</th>\n",
       "      <td>0.560264</td>\n",
       "      <td>0.456213</td>\n",
       "      <td>0.318156</td>\n",
       "      <td>0.311758</td>\n",
       "      <td>0.247293</td>\n",
       "      <td>0.333962</td>\n",
       "      <td>0.316644</td>\n",
       "      <td>0.287839</td>\n",
       "      <td>0.198472</td>\n",
       "      <td>0.139843</td>\n",
       "      <td>...</td>\n",
       "      <td>0.237364</td>\n",
       "      <td>0.195156</td>\n",
       "      <td>0.259026</td>\n",
       "      <td>0.168510</td>\n",
       "      <td>0.105282</td>\n",
       "      <td>0.193140</td>\n",
       "      <td>0.156868</td>\n",
       "      <td>0.133698</td>\n",
       "      <td>0.131672</td>\n",
       "      <td>0.137451</td>\n",
       "    </tr>\n",
       "    <tr>\n",
       "      <th>2</th>\n",
       "      <td>0.556886</td>\n",
       "      <td>0.447176</td>\n",
       "      <td>0.327082</td>\n",
       "      <td>0.306815</td>\n",
       "      <td>0.248641</td>\n",
       "      <td>0.326757</td>\n",
       "      <td>0.297726</td>\n",
       "      <td>0.280669</td>\n",
       "      <td>0.193234</td>\n",
       "      <td>0.138488</td>\n",
       "      <td>...</td>\n",
       "      <td>0.238752</td>\n",
       "      <td>0.183588</td>\n",
       "      <td>0.257729</td>\n",
       "      <td>0.170736</td>\n",
       "      <td>0.106482</td>\n",
       "      <td>0.180362</td>\n",
       "      <td>0.149513</td>\n",
       "      <td>0.132636</td>\n",
       "      <td>0.130218</td>\n",
       "      <td>0.136831</td>\n",
       "    </tr>\n",
       "    <tr>\n",
       "      <th>3</th>\n",
       "      <td>0.554148</td>\n",
       "      <td>0.441319</td>\n",
       "      <td>0.334986</td>\n",
       "      <td>0.302192</td>\n",
       "      <td>0.264244</td>\n",
       "      <td>0.321266</td>\n",
       "      <td>0.277142</td>\n",
       "      <td>0.272987</td>\n",
       "      <td>0.187995</td>\n",
       "      <td>0.138136</td>\n",
       "      <td>...</td>\n",
       "      <td>0.240195</td>\n",
       "      <td>0.180609</td>\n",
       "      <td>0.257292</td>\n",
       "      <td>0.172884</td>\n",
       "      <td>0.109613</td>\n",
       "      <td>0.171414</td>\n",
       "      <td>0.141034</td>\n",
       "      <td>0.131321</td>\n",
       "      <td>0.128949</td>\n",
       "      <td>0.135627</td>\n",
       "    </tr>\n",
       "    <tr>\n",
       "      <th>4</th>\n",
       "      <td>0.552091</td>\n",
       "      <td>0.437537</td>\n",
       "      <td>0.342072</td>\n",
       "      <td>0.297971</td>\n",
       "      <td>0.280515</td>\n",
       "      <td>0.317887</td>\n",
       "      <td>0.256130</td>\n",
       "      <td>0.264871</td>\n",
       "      <td>0.182809</td>\n",
       "      <td>0.138187</td>\n",
       "      <td>...</td>\n",
       "      <td>0.241597</td>\n",
       "      <td>0.182172</td>\n",
       "      <td>0.257792</td>\n",
       "      <td>0.174957</td>\n",
       "      <td>0.114868</td>\n",
       "      <td>0.166299</td>\n",
       "      <td>0.132535</td>\n",
       "      <td>0.130153</td>\n",
       "      <td>0.127808</td>\n",
       "      <td>0.134226</td>\n",
       "    </tr>\n",
       "    <tr>\n",
       "      <th>...</th>\n",
       "      <td>...</td>\n",
       "      <td>...</td>\n",
       "      <td>...</td>\n",
       "      <td>...</td>\n",
       "      <td>...</td>\n",
       "      <td>...</td>\n",
       "      <td>...</td>\n",
       "      <td>...</td>\n",
       "      <td>...</td>\n",
       "      <td>...</td>\n",
       "      <td>...</td>\n",
       "      <td>...</td>\n",
       "      <td>...</td>\n",
       "      <td>...</td>\n",
       "      <td>...</td>\n",
       "      <td>...</td>\n",
       "      <td>...</td>\n",
       "      <td>...</td>\n",
       "      <td>...</td>\n",
       "      <td>...</td>\n",
       "      <td>...</td>\n",
       "    </tr>\n",
       "    <tr>\n",
       "      <th>146</th>\n",
       "      <td>0.576537</td>\n",
       "      <td>0.548612</td>\n",
       "      <td>0.528169</td>\n",
       "      <td>0.291109</td>\n",
       "      <td>0.067956</td>\n",
       "      <td>0.215330</td>\n",
       "      <td>0.476180</td>\n",
       "      <td>0.562279</td>\n",
       "      <td>0.291825</td>\n",
       "      <td>0.200714</td>\n",
       "      <td>...</td>\n",
       "      <td>0.272239</td>\n",
       "      <td>0.374365</td>\n",
       "      <td>0.253522</td>\n",
       "      <td>0.428576</td>\n",
       "      <td>0.322097</td>\n",
       "      <td>0.392672</td>\n",
       "      <td>0.564744</td>\n",
       "      <td>0.462306</td>\n",
       "      <td>0.521757</td>\n",
       "      <td>0.607411</td>\n",
       "    </tr>\n",
       "    <tr>\n",
       "      <th>147</th>\n",
       "      <td>0.579194</td>\n",
       "      <td>0.561625</td>\n",
       "      <td>0.464739</td>\n",
       "      <td>0.283541</td>\n",
       "      <td>0.059748</td>\n",
       "      <td>0.243821</td>\n",
       "      <td>0.461089</td>\n",
       "      <td>0.564762</td>\n",
       "      <td>0.267701</td>\n",
       "      <td>0.203888</td>\n",
       "      <td>...</td>\n",
       "      <td>0.236009</td>\n",
       "      <td>0.357114</td>\n",
       "      <td>0.244873</td>\n",
       "      <td>0.426643</td>\n",
       "      <td>0.301447</td>\n",
       "      <td>0.366430</td>\n",
       "      <td>0.546472</td>\n",
       "      <td>0.456943</td>\n",
       "      <td>0.536450</td>\n",
       "      <td>0.590750</td>\n",
       "    </tr>\n",
       "    <tr>\n",
       "      <th>148</th>\n",
       "      <td>0.601217</td>\n",
       "      <td>0.572748</td>\n",
       "      <td>0.395690</td>\n",
       "      <td>0.283024</td>\n",
       "      <td>0.062470</td>\n",
       "      <td>0.293038</td>\n",
       "      <td>0.445459</td>\n",
       "      <td>0.566540</td>\n",
       "      <td>0.246036</td>\n",
       "      <td>0.209335</td>\n",
       "      <td>...</td>\n",
       "      <td>0.203515</td>\n",
       "      <td>0.335718</td>\n",
       "      <td>0.243221</td>\n",
       "      <td>0.422666</td>\n",
       "      <td>0.280825</td>\n",
       "      <td>0.339841</td>\n",
       "      <td>0.522189</td>\n",
       "      <td>0.470509</td>\n",
       "      <td>0.567259</td>\n",
       "      <td>0.584530</td>\n",
       "    </tr>\n",
       "    <tr>\n",
       "      <th>149</th>\n",
       "      <td>0.638049</td>\n",
       "      <td>0.582003</td>\n",
       "      <td>0.333837</td>\n",
       "      <td>0.288093</td>\n",
       "      <td>0.073268</td>\n",
       "      <td>0.361633</td>\n",
       "      <td>0.428982</td>\n",
       "      <td>0.567233</td>\n",
       "      <td>0.235402</td>\n",
       "      <td>0.214825</td>\n",
       "      <td>...</td>\n",
       "      <td>0.178322</td>\n",
       "      <td>0.311663</td>\n",
       "      <td>0.247586</td>\n",
       "      <td>0.415693</td>\n",
       "      <td>0.260720</td>\n",
       "      <td>0.313590</td>\n",
       "      <td>0.492911</td>\n",
       "      <td>0.500459</td>\n",
       "      <td>0.608947</td>\n",
       "      <td>0.589200</td>\n",
       "    </tr>\n",
       "    <tr>\n",
       "      <th>150</th>\n",
       "      <td>0.682996</td>\n",
       "      <td>0.591512</td>\n",
       "      <td>0.289672</td>\n",
       "      <td>0.296885</td>\n",
       "      <td>0.088877</td>\n",
       "      <td>0.440106</td>\n",
       "      <td>0.412122</td>\n",
       "      <td>0.567843</td>\n",
       "      <td>0.230191</td>\n",
       "      <td>0.218877</td>\n",
       "      <td>...</td>\n",
       "      <td>0.160763</td>\n",
       "      <td>0.287556</td>\n",
       "      <td>0.256249</td>\n",
       "      <td>0.408119</td>\n",
       "      <td>0.241719</td>\n",
       "      <td>0.288507</td>\n",
       "      <td>0.460518</td>\n",
       "      <td>0.541502</td>\n",
       "      <td>0.656500</td>\n",
       "      <td>0.603453</td>\n",
       "    </tr>\n",
       "  </tbody>\n",
       "</table>\n",
       "<p>151 rows × 4779 columns</p>\n",
       "</div>"
      ],
      "text/plain": [
       "ID   26742     142399    147088    270735    270992    453335    744056    \\\n",
       "0    0.563713  0.470083  0.308383  0.316859  0.280677  0.341934  0.333029   \n",
       "1    0.560264  0.456213  0.318156  0.311758  0.247293  0.333962  0.316644   \n",
       "2    0.556886  0.447176  0.327082  0.306815  0.248641  0.326757  0.297726   \n",
       "3    0.554148  0.441319  0.334986  0.302192  0.264244  0.321266  0.277142   \n",
       "4    0.552091  0.437537  0.342072  0.297971  0.280515  0.317887  0.256130   \n",
       "..        ...       ...       ...       ...       ...       ...       ...   \n",
       "146  0.576537  0.548612  0.528169  0.291109  0.067956  0.215330  0.476180   \n",
       "147  0.579194  0.561625  0.464739  0.283541  0.059748  0.243821  0.461089   \n",
       "148  0.601217  0.572748  0.395690  0.283024  0.062470  0.293038  0.445459   \n",
       "149  0.638049  0.582003  0.333837  0.288093  0.073268  0.361633  0.428982   \n",
       "150  0.682996  0.591512  0.289672  0.296885  0.088877  0.440106  0.412122   \n",
       "\n",
       "ID   842397    1305223   1305481   ...  44805278  44812160  44812167  \\\n",
       "0    0.294471  0.203654  0.142772  ...  0.236032  0.215179  0.261090   \n",
       "1    0.287839  0.198472  0.139843  ...  0.237364  0.195156  0.259026   \n",
       "2    0.280669  0.193234  0.138488  ...  0.238752  0.183588  0.257729   \n",
       "3    0.272987  0.187995  0.138136  ...  0.240195  0.180609  0.257292   \n",
       "4    0.264871  0.182809  0.138187  ...  0.241597  0.182172  0.257792   \n",
       "..        ...       ...       ...  ...       ...       ...       ...   \n",
       "146  0.562279  0.291825  0.200714  ...  0.272239  0.374365  0.253522   \n",
       "147  0.564762  0.267701  0.203888  ...  0.236009  0.357114  0.244873   \n",
       "148  0.566540  0.246036  0.209335  ...  0.203515  0.335718  0.243221   \n",
       "149  0.567233  0.235402  0.214825  ...  0.178322  0.311663  0.247586   \n",
       "150  0.567843  0.230191  0.218877  ...  0.160763  0.287556  0.256249   \n",
       "\n",
       "ID   44816601  44819099  44821958  44823713  44825583  44825584  44825588  \n",
       "0    0.166302  0.106072  0.208904  0.162150  0.134134  0.132938  0.137332  \n",
       "1    0.168510  0.105282  0.193140  0.156868  0.133698  0.131672  0.137451  \n",
       "2    0.170736  0.106482  0.180362  0.149513  0.132636  0.130218  0.136831  \n",
       "3    0.172884  0.109613  0.171414  0.141034  0.131321  0.128949  0.135627  \n",
       "4    0.174957  0.114868  0.166299  0.132535  0.130153  0.127808  0.134226  \n",
       "..        ...       ...       ...       ...       ...       ...       ...  \n",
       "146  0.428576  0.322097  0.392672  0.564744  0.462306  0.521757  0.607411  \n",
       "147  0.426643  0.301447  0.366430  0.546472  0.456943  0.536450  0.590750  \n",
       "148  0.422666  0.280825  0.339841  0.522189  0.470509  0.567259  0.584530  \n",
       "149  0.415693  0.260720  0.313590  0.492911  0.500459  0.608947  0.589200  \n",
       "150  0.408119  0.241719  0.288507  0.460518  0.541502  0.656500  0.603453  \n",
       "\n",
       "[151 rows x 4779 columns]"
      ]
     },
     "execution_count": 88,
     "metadata": {},
     "output_type": "execute_result"
    }
   ],
   "source": [
    "df_melhor2"
   ]
  },
  {
   "cell_type": "code",
   "execution_count": 89,
   "id": "02f5f293-4012-4232-ab12-7ac058843257",
   "metadata": {},
   "outputs": [],
   "source": [
    "df_test_melhor=df_melhor[:1434]"
   ]
  },
  {
   "cell_type": "code",
   "execution_count": 90,
   "id": "d944027f-96a6-481a-a330-91d45b02d60d",
   "metadata": {},
   "outputs": [
    {
     "data": {
      "text/html": [
       "<div>\n",
       "<style scoped>\n",
       "    .dataframe tbody tr th:only-of-type {\n",
       "        vertical-align: middle;\n",
       "    }\n",
       "\n",
       "    .dataframe tbody tr th {\n",
       "        vertical-align: top;\n",
       "    }\n",
       "\n",
       "    .dataframe thead th {\n",
       "        text-align: right;\n",
       "    }\n",
       "</style>\n",
       "<table border=\"1\" class=\"dataframe\">\n",
       "  <thead>\n",
       "    <tr style=\"text-align: right;\">\n",
       "      <th></th>\n",
       "      <th>0</th>\n",
       "      <th>1</th>\n",
       "      <th>2</th>\n",
       "      <th>3</th>\n",
       "      <th>4</th>\n",
       "      <th>5</th>\n",
       "      <th>6</th>\n",
       "      <th>7</th>\n",
       "      <th>8</th>\n",
       "      <th>9</th>\n",
       "      <th>...</th>\n",
       "      <th>141</th>\n",
       "      <th>142</th>\n",
       "      <th>143</th>\n",
       "      <th>144</th>\n",
       "      <th>145</th>\n",
       "      <th>146</th>\n",
       "      <th>147</th>\n",
       "      <th>148</th>\n",
       "      <th>149</th>\n",
       "      <th>150</th>\n",
       "    </tr>\n",
       "    <tr>\n",
       "      <th>ID</th>\n",
       "      <th></th>\n",
       "      <th></th>\n",
       "      <th></th>\n",
       "      <th></th>\n",
       "      <th></th>\n",
       "      <th></th>\n",
       "      <th></th>\n",
       "      <th></th>\n",
       "      <th></th>\n",
       "      <th></th>\n",
       "      <th></th>\n",
       "      <th></th>\n",
       "      <th></th>\n",
       "      <th></th>\n",
       "      <th></th>\n",
       "      <th></th>\n",
       "      <th></th>\n",
       "      <th></th>\n",
       "      <th></th>\n",
       "      <th></th>\n",
       "      <th></th>\n",
       "    </tr>\n",
       "  </thead>\n",
       "  <tbody>\n",
       "    <tr>\n",
       "      <th>26742</th>\n",
       "      <td>0.563713</td>\n",
       "      <td>0.560264</td>\n",
       "      <td>0.556886</td>\n",
       "      <td>0.554148</td>\n",
       "      <td>0.552091</td>\n",
       "      <td>0.549494</td>\n",
       "      <td>0.546906</td>\n",
       "      <td>0.544319</td>\n",
       "      <td>0.541724</td>\n",
       "      <td>0.538992</td>\n",
       "      <td>...</td>\n",
       "      <td>0.772432</td>\n",
       "      <td>0.728093</td>\n",
       "      <td>0.677266</td>\n",
       "      <td>0.628337</td>\n",
       "      <td>0.593829</td>\n",
       "      <td>0.576537</td>\n",
       "      <td>0.579194</td>\n",
       "      <td>0.601217</td>\n",
       "      <td>0.638049</td>\n",
       "      <td>0.682996</td>\n",
       "    </tr>\n",
       "    <tr>\n",
       "      <th>142399</th>\n",
       "      <td>0.470083</td>\n",
       "      <td>0.456213</td>\n",
       "      <td>0.447176</td>\n",
       "      <td>0.441319</td>\n",
       "      <td>0.437537</td>\n",
       "      <td>0.435142</td>\n",
       "      <td>0.433732</td>\n",
       "      <td>0.433092</td>\n",
       "      <td>0.433107</td>\n",
       "      <td>0.433689</td>\n",
       "      <td>...</td>\n",
       "      <td>0.474007</td>\n",
       "      <td>0.478298</td>\n",
       "      <td>0.492096</td>\n",
       "      <td>0.511191</td>\n",
       "      <td>0.531268</td>\n",
       "      <td>0.548612</td>\n",
       "      <td>0.561625</td>\n",
       "      <td>0.572748</td>\n",
       "      <td>0.582003</td>\n",
       "      <td>0.591512</td>\n",
       "    </tr>\n",
       "    <tr>\n",
       "      <th>147088</th>\n",
       "      <td>0.308383</td>\n",
       "      <td>0.318156</td>\n",
       "      <td>0.327082</td>\n",
       "      <td>0.334986</td>\n",
       "      <td>0.342072</td>\n",
       "      <td>0.348777</td>\n",
       "      <td>0.355833</td>\n",
       "      <td>0.363904</td>\n",
       "      <td>0.373540</td>\n",
       "      <td>0.384928</td>\n",
       "      <td>...</td>\n",
       "      <td>0.589020</td>\n",
       "      <td>0.602360</td>\n",
       "      <td>0.608966</td>\n",
       "      <td>0.600421</td>\n",
       "      <td>0.574885</td>\n",
       "      <td>0.528169</td>\n",
       "      <td>0.464739</td>\n",
       "      <td>0.395690</td>\n",
       "      <td>0.333837</td>\n",
       "      <td>0.289672</td>\n",
       "    </tr>\n",
       "    <tr>\n",
       "      <th>270735</th>\n",
       "      <td>0.316859</td>\n",
       "      <td>0.311758</td>\n",
       "      <td>0.306815</td>\n",
       "      <td>0.302192</td>\n",
       "      <td>0.297971</td>\n",
       "      <td>0.293972</td>\n",
       "      <td>0.290861</td>\n",
       "      <td>0.288315</td>\n",
       "      <td>0.285816</td>\n",
       "      <td>0.282859</td>\n",
       "      <td>...</td>\n",
       "      <td>0.407487</td>\n",
       "      <td>0.381179</td>\n",
       "      <td>0.354117</td>\n",
       "      <td>0.328446</td>\n",
       "      <td>0.306215</td>\n",
       "      <td>0.291109</td>\n",
       "      <td>0.283541</td>\n",
       "      <td>0.283024</td>\n",
       "      <td>0.288093</td>\n",
       "      <td>0.296885</td>\n",
       "    </tr>\n",
       "    <tr>\n",
       "      <th>270992</th>\n",
       "      <td>0.280677</td>\n",
       "      <td>0.247293</td>\n",
       "      <td>0.248641</td>\n",
       "      <td>0.264244</td>\n",
       "      <td>0.280515</td>\n",
       "      <td>0.289451</td>\n",
       "      <td>0.287422</td>\n",
       "      <td>0.274091</td>\n",
       "      <td>0.251438</td>\n",
       "      <td>0.222905</td>\n",
       "      <td>...</td>\n",
       "      <td>0.253309</td>\n",
       "      <td>0.205395</td>\n",
       "      <td>0.159386</td>\n",
       "      <td>0.119256</td>\n",
       "      <td>0.088049</td>\n",
       "      <td>0.067956</td>\n",
       "      <td>0.059748</td>\n",
       "      <td>0.062470</td>\n",
       "      <td>0.073268</td>\n",
       "      <td>0.088877</td>\n",
       "    </tr>\n",
       "    <tr>\n",
       "      <th>...</th>\n",
       "      <td>...</td>\n",
       "      <td>...</td>\n",
       "      <td>...</td>\n",
       "      <td>...</td>\n",
       "      <td>...</td>\n",
       "      <td>...</td>\n",
       "      <td>...</td>\n",
       "      <td>...</td>\n",
       "      <td>...</td>\n",
       "      <td>...</td>\n",
       "      <td>...</td>\n",
       "      <td>...</td>\n",
       "      <td>...</td>\n",
       "      <td>...</td>\n",
       "      <td>...</td>\n",
       "      <td>...</td>\n",
       "      <td>...</td>\n",
       "      <td>...</td>\n",
       "      <td>...</td>\n",
       "      <td>...</td>\n",
       "      <td>...</td>\n",
       "    </tr>\n",
       "    <tr>\n",
       "      <th>26952760</th>\n",
       "      <td>0.178142</td>\n",
       "      <td>0.180661</td>\n",
       "      <td>0.181830</td>\n",
       "      <td>0.181877</td>\n",
       "      <td>0.181798</td>\n",
       "      <td>0.182622</td>\n",
       "      <td>0.183140</td>\n",
       "      <td>0.187278</td>\n",
       "      <td>0.194141</td>\n",
       "      <td>0.200650</td>\n",
       "      <td>...</td>\n",
       "      <td>0.618854</td>\n",
       "      <td>0.609395</td>\n",
       "      <td>0.598461</td>\n",
       "      <td>0.587254</td>\n",
       "      <td>0.577059</td>\n",
       "      <td>0.566856</td>\n",
       "      <td>0.560754</td>\n",
       "      <td>0.557878</td>\n",
       "      <td>0.555043</td>\n",
       "      <td>0.548636</td>\n",
       "    </tr>\n",
       "    <tr>\n",
       "      <th>26972807</th>\n",
       "      <td>0.227402</td>\n",
       "      <td>0.226167</td>\n",
       "      <td>0.226354</td>\n",
       "      <td>0.226721</td>\n",
       "      <td>0.226914</td>\n",
       "      <td>0.226696</td>\n",
       "      <td>0.225857</td>\n",
       "      <td>0.223947</td>\n",
       "      <td>0.221544</td>\n",
       "      <td>0.219192</td>\n",
       "      <td>...</td>\n",
       "      <td>0.513622</td>\n",
       "      <td>0.502560</td>\n",
       "      <td>0.490453</td>\n",
       "      <td>0.477754</td>\n",
       "      <td>0.465108</td>\n",
       "      <td>0.453101</td>\n",
       "      <td>0.442733</td>\n",
       "      <td>0.434544</td>\n",
       "      <td>0.428717</td>\n",
       "      <td>0.425153</td>\n",
       "    </tr>\n",
       "    <tr>\n",
       "      <th>26980434</th>\n",
       "      <td>0.317432</td>\n",
       "      <td>0.319346</td>\n",
       "      <td>0.321306</td>\n",
       "      <td>0.323210</td>\n",
       "      <td>0.324995</td>\n",
       "      <td>0.326655</td>\n",
       "      <td>0.328239</td>\n",
       "      <td>0.329834</td>\n",
       "      <td>0.331522</td>\n",
       "      <td>0.333311</td>\n",
       "      <td>...</td>\n",
       "      <td>0.580762</td>\n",
       "      <td>0.578886</td>\n",
       "      <td>0.577072</td>\n",
       "      <td>0.575121</td>\n",
       "      <td>0.572877</td>\n",
       "      <td>0.570264</td>\n",
       "      <td>0.567289</td>\n",
       "      <td>0.564003</td>\n",
       "      <td>0.560415</td>\n",
       "      <td>0.556475</td>\n",
       "    </tr>\n",
       "    <tr>\n",
       "      <th>26990388</th>\n",
       "      <td>0.127369</td>\n",
       "      <td>0.123473</td>\n",
       "      <td>0.120797</td>\n",
       "      <td>0.118689</td>\n",
       "      <td>0.117728</td>\n",
       "      <td>0.117974</td>\n",
       "      <td>0.119363</td>\n",
       "      <td>0.121270</td>\n",
       "      <td>0.124456</td>\n",
       "      <td>0.128578</td>\n",
       "      <td>...</td>\n",
       "      <td>0.522657</td>\n",
       "      <td>0.514089</td>\n",
       "      <td>0.505833</td>\n",
       "      <td>0.497761</td>\n",
       "      <td>0.489762</td>\n",
       "      <td>0.481709</td>\n",
       "      <td>0.474938</td>\n",
       "      <td>0.465565</td>\n",
       "      <td>0.454212</td>\n",
       "      <td>0.442882</td>\n",
       "    </tr>\n",
       "    <tr>\n",
       "      <th>26990517</th>\n",
       "      <td>0.154956</td>\n",
       "      <td>0.158482</td>\n",
       "      <td>0.162685</td>\n",
       "      <td>0.167114</td>\n",
       "      <td>0.171456</td>\n",
       "      <td>0.175435</td>\n",
       "      <td>0.179168</td>\n",
       "      <td>0.182735</td>\n",
       "      <td>0.186225</td>\n",
       "      <td>0.189643</td>\n",
       "      <td>...</td>\n",
       "      <td>0.463143</td>\n",
       "      <td>0.444845</td>\n",
       "      <td>0.427549</td>\n",
       "      <td>0.411137</td>\n",
       "      <td>0.395311</td>\n",
       "      <td>0.380304</td>\n",
       "      <td>0.365799</td>\n",
       "      <td>0.351407</td>\n",
       "      <td>0.336778</td>\n",
       "      <td>0.321444</td>\n",
       "    </tr>\n",
       "  </tbody>\n",
       "</table>\n",
       "<p>1434 rows × 151 columns</p>\n",
       "</div>"
      ],
      "text/plain": [
       "               0         1         2         3         4         5    \\\n",
       "ID                                                                     \n",
       "26742     0.563713  0.560264  0.556886  0.554148  0.552091  0.549494   \n",
       "142399    0.470083  0.456213  0.447176  0.441319  0.437537  0.435142   \n",
       "147088    0.308383  0.318156  0.327082  0.334986  0.342072  0.348777   \n",
       "270735    0.316859  0.311758  0.306815  0.302192  0.297971  0.293972   \n",
       "270992    0.280677  0.247293  0.248641  0.264244  0.280515  0.289451   \n",
       "...            ...       ...       ...       ...       ...       ...   \n",
       "26952760  0.178142  0.180661  0.181830  0.181877  0.181798  0.182622   \n",
       "26972807  0.227402  0.226167  0.226354  0.226721  0.226914  0.226696   \n",
       "26980434  0.317432  0.319346  0.321306  0.323210  0.324995  0.326655   \n",
       "26990388  0.127369  0.123473  0.120797  0.118689  0.117728  0.117974   \n",
       "26990517  0.154956  0.158482  0.162685  0.167114  0.171456  0.175435   \n",
       "\n",
       "               6         7         8         9    ...       141       142  \\\n",
       "ID                                                ...                       \n",
       "26742     0.546906  0.544319  0.541724  0.538992  ...  0.772432  0.728093   \n",
       "142399    0.433732  0.433092  0.433107  0.433689  ...  0.474007  0.478298   \n",
       "147088    0.355833  0.363904  0.373540  0.384928  ...  0.589020  0.602360   \n",
       "270735    0.290861  0.288315  0.285816  0.282859  ...  0.407487  0.381179   \n",
       "270992    0.287422  0.274091  0.251438  0.222905  ...  0.253309  0.205395   \n",
       "...            ...       ...       ...       ...  ...       ...       ...   \n",
       "26952760  0.183140  0.187278  0.194141  0.200650  ...  0.618854  0.609395   \n",
       "26972807  0.225857  0.223947  0.221544  0.219192  ...  0.513622  0.502560   \n",
       "26980434  0.328239  0.329834  0.331522  0.333311  ...  0.580762  0.578886   \n",
       "26990388  0.119363  0.121270  0.124456  0.128578  ...  0.522657  0.514089   \n",
       "26990517  0.179168  0.182735  0.186225  0.189643  ...  0.463143  0.444845   \n",
       "\n",
       "               143       144       145       146       147       148  \\\n",
       "ID                                                                     \n",
       "26742     0.677266  0.628337  0.593829  0.576537  0.579194  0.601217   \n",
       "142399    0.492096  0.511191  0.531268  0.548612  0.561625  0.572748   \n",
       "147088    0.608966  0.600421  0.574885  0.528169  0.464739  0.395690   \n",
       "270735    0.354117  0.328446  0.306215  0.291109  0.283541  0.283024   \n",
       "270992    0.159386  0.119256  0.088049  0.067956  0.059748  0.062470   \n",
       "...            ...       ...       ...       ...       ...       ...   \n",
       "26952760  0.598461  0.587254  0.577059  0.566856  0.560754  0.557878   \n",
       "26972807  0.490453  0.477754  0.465108  0.453101  0.442733  0.434544   \n",
       "26980434  0.577072  0.575121  0.572877  0.570264  0.567289  0.564003   \n",
       "26990388  0.505833  0.497761  0.489762  0.481709  0.474938  0.465565   \n",
       "26990517  0.427549  0.411137  0.395311  0.380304  0.365799  0.351407   \n",
       "\n",
       "               149       150  \n",
       "ID                            \n",
       "26742     0.638049  0.682996  \n",
       "142399    0.582003  0.591512  \n",
       "147088    0.333837  0.289672  \n",
       "270735    0.288093  0.296885  \n",
       "270992    0.073268  0.088877  \n",
       "...            ...       ...  \n",
       "26952760  0.555043  0.548636  \n",
       "26972807  0.428717  0.425153  \n",
       "26980434  0.560415  0.556475  \n",
       "26990388  0.454212  0.442882  \n",
       "26990517  0.336778  0.321444  \n",
       "\n",
       "[1434 rows x 151 columns]"
      ]
     },
     "execution_count": 90,
     "metadata": {},
     "output_type": "execute_result"
    }
   ],
   "source": [
    "df_test_melhor"
   ]
  },
  {
   "cell_type": "code",
   "execution_count": 91,
   "id": "95263d12-5309-4002-8af8-0c9e3bad96c4",
   "metadata": {},
   "outputs": [],
   "source": [
    "df_test_melhor2=df_test_melhor.T"
   ]
  },
  {
   "cell_type": "code",
   "execution_count": 92,
   "id": "3bcb6cc1-ed26-4bc0-b327-0e69d1900ac4",
   "metadata": {},
   "outputs": [
    {
     "data": {
      "text/html": [
       "<div>\n",
       "<style scoped>\n",
       "    .dataframe tbody tr th:only-of-type {\n",
       "        vertical-align: middle;\n",
       "    }\n",
       "\n",
       "    .dataframe tbody tr th {\n",
       "        vertical-align: top;\n",
       "    }\n",
       "\n",
       "    .dataframe thead th {\n",
       "        text-align: right;\n",
       "    }\n",
       "</style>\n",
       "<table border=\"1\" class=\"dataframe\">\n",
       "  <thead>\n",
       "    <tr style=\"text-align: right;\">\n",
       "      <th>ID</th>\n",
       "      <th>26742</th>\n",
       "      <th>142399</th>\n",
       "      <th>147088</th>\n",
       "      <th>270735</th>\n",
       "      <th>270992</th>\n",
       "      <th>453335</th>\n",
       "      <th>744056</th>\n",
       "      <th>842397</th>\n",
       "      <th>1305223</th>\n",
       "      <th>1305481</th>\n",
       "      <th>...</th>\n",
       "      <th>26946919</th>\n",
       "      <th>26947731</th>\n",
       "      <th>26948629</th>\n",
       "      <th>26949198</th>\n",
       "      <th>26952289</th>\n",
       "      <th>26952760</th>\n",
       "      <th>26972807</th>\n",
       "      <th>26980434</th>\n",
       "      <th>26990388</th>\n",
       "      <th>26990517</th>\n",
       "    </tr>\n",
       "  </thead>\n",
       "  <tbody>\n",
       "    <tr>\n",
       "      <th>0</th>\n",
       "      <td>0.563713</td>\n",
       "      <td>0.470083</td>\n",
       "      <td>0.308383</td>\n",
       "      <td>0.316859</td>\n",
       "      <td>0.280677</td>\n",
       "      <td>0.341934</td>\n",
       "      <td>0.333029</td>\n",
       "      <td>0.294471</td>\n",
       "      <td>0.203654</td>\n",
       "      <td>0.142772</td>\n",
       "      <td>...</td>\n",
       "      <td>0.215254</td>\n",
       "      <td>0.302196</td>\n",
       "      <td>0.279138</td>\n",
       "      <td>0.316459</td>\n",
       "      <td>0.145991</td>\n",
       "      <td>0.178142</td>\n",
       "      <td>0.227402</td>\n",
       "      <td>0.317432</td>\n",
       "      <td>0.127369</td>\n",
       "      <td>0.154956</td>\n",
       "    </tr>\n",
       "    <tr>\n",
       "      <th>1</th>\n",
       "      <td>0.560264</td>\n",
       "      <td>0.456213</td>\n",
       "      <td>0.318156</td>\n",
       "      <td>0.311758</td>\n",
       "      <td>0.247293</td>\n",
       "      <td>0.333962</td>\n",
       "      <td>0.316644</td>\n",
       "      <td>0.287839</td>\n",
       "      <td>0.198472</td>\n",
       "      <td>0.139843</td>\n",
       "      <td>...</td>\n",
       "      <td>0.211496</td>\n",
       "      <td>0.291880</td>\n",
       "      <td>0.282436</td>\n",
       "      <td>0.321975</td>\n",
       "      <td>0.145296</td>\n",
       "      <td>0.180661</td>\n",
       "      <td>0.226167</td>\n",
       "      <td>0.319346</td>\n",
       "      <td>0.123473</td>\n",
       "      <td>0.158482</td>\n",
       "    </tr>\n",
       "    <tr>\n",
       "      <th>2</th>\n",
       "      <td>0.556886</td>\n",
       "      <td>0.447176</td>\n",
       "      <td>0.327082</td>\n",
       "      <td>0.306815</td>\n",
       "      <td>0.248641</td>\n",
       "      <td>0.326757</td>\n",
       "      <td>0.297726</td>\n",
       "      <td>0.280669</td>\n",
       "      <td>0.193234</td>\n",
       "      <td>0.138488</td>\n",
       "      <td>...</td>\n",
       "      <td>0.204568</td>\n",
       "      <td>0.279919</td>\n",
       "      <td>0.286689</td>\n",
       "      <td>0.325698</td>\n",
       "      <td>0.144920</td>\n",
       "      <td>0.181830</td>\n",
       "      <td>0.226354</td>\n",
       "      <td>0.321306</td>\n",
       "      <td>0.120797</td>\n",
       "      <td>0.162685</td>\n",
       "    </tr>\n",
       "    <tr>\n",
       "      <th>3</th>\n",
       "      <td>0.554148</td>\n",
       "      <td>0.441319</td>\n",
       "      <td>0.334986</td>\n",
       "      <td>0.302192</td>\n",
       "      <td>0.264244</td>\n",
       "      <td>0.321266</td>\n",
       "      <td>0.277142</td>\n",
       "      <td>0.272987</td>\n",
       "      <td>0.187995</td>\n",
       "      <td>0.138136</td>\n",
       "      <td>...</td>\n",
       "      <td>0.194808</td>\n",
       "      <td>0.268586</td>\n",
       "      <td>0.291844</td>\n",
       "      <td>0.326977</td>\n",
       "      <td>0.144927</td>\n",
       "      <td>0.181877</td>\n",
       "      <td>0.226721</td>\n",
       "      <td>0.323210</td>\n",
       "      <td>0.118689</td>\n",
       "      <td>0.167114</td>\n",
       "    </tr>\n",
       "    <tr>\n",
       "      <th>4</th>\n",
       "      <td>0.552091</td>\n",
       "      <td>0.437537</td>\n",
       "      <td>0.342072</td>\n",
       "      <td>0.297971</td>\n",
       "      <td>0.280515</td>\n",
       "      <td>0.317887</td>\n",
       "      <td>0.256130</td>\n",
       "      <td>0.264871</td>\n",
       "      <td>0.182809</td>\n",
       "      <td>0.138187</td>\n",
       "      <td>...</td>\n",
       "      <td>0.183002</td>\n",
       "      <td>0.257519</td>\n",
       "      <td>0.298083</td>\n",
       "      <td>0.328035</td>\n",
       "      <td>0.145394</td>\n",
       "      <td>0.181798</td>\n",
       "      <td>0.226914</td>\n",
       "      <td>0.324995</td>\n",
       "      <td>0.117728</td>\n",
       "      <td>0.171456</td>\n",
       "    </tr>\n",
       "    <tr>\n",
       "      <th>...</th>\n",
       "      <td>...</td>\n",
       "      <td>...</td>\n",
       "      <td>...</td>\n",
       "      <td>...</td>\n",
       "      <td>...</td>\n",
       "      <td>...</td>\n",
       "      <td>...</td>\n",
       "      <td>...</td>\n",
       "      <td>...</td>\n",
       "      <td>...</td>\n",
       "      <td>...</td>\n",
       "      <td>...</td>\n",
       "      <td>...</td>\n",
       "      <td>...</td>\n",
       "      <td>...</td>\n",
       "      <td>...</td>\n",
       "      <td>...</td>\n",
       "      <td>...</td>\n",
       "      <td>...</td>\n",
       "      <td>...</td>\n",
       "      <td>...</td>\n",
       "    </tr>\n",
       "    <tr>\n",
       "      <th>146</th>\n",
       "      <td>0.576537</td>\n",
       "      <td>0.548612</td>\n",
       "      <td>0.528169</td>\n",
       "      <td>0.291109</td>\n",
       "      <td>0.067956</td>\n",
       "      <td>0.215330</td>\n",
       "      <td>0.476180</td>\n",
       "      <td>0.562279</td>\n",
       "      <td>0.291825</td>\n",
       "      <td>0.200714</td>\n",
       "      <td>...</td>\n",
       "      <td>0.585782</td>\n",
       "      <td>0.498026</td>\n",
       "      <td>0.529121</td>\n",
       "      <td>0.769313</td>\n",
       "      <td>0.589949</td>\n",
       "      <td>0.566856</td>\n",
       "      <td>0.453101</td>\n",
       "      <td>0.570264</td>\n",
       "      <td>0.481709</td>\n",
       "      <td>0.380304</td>\n",
       "    </tr>\n",
       "    <tr>\n",
       "      <th>147</th>\n",
       "      <td>0.579194</td>\n",
       "      <td>0.561625</td>\n",
       "      <td>0.464739</td>\n",
       "      <td>0.283541</td>\n",
       "      <td>0.059748</td>\n",
       "      <td>0.243821</td>\n",
       "      <td>0.461089</td>\n",
       "      <td>0.564762</td>\n",
       "      <td>0.267701</td>\n",
       "      <td>0.203888</td>\n",
       "      <td>...</td>\n",
       "      <td>0.566821</td>\n",
       "      <td>0.491684</td>\n",
       "      <td>0.523790</td>\n",
       "      <td>0.757749</td>\n",
       "      <td>0.571940</td>\n",
       "      <td>0.560754</td>\n",
       "      <td>0.442733</td>\n",
       "      <td>0.567289</td>\n",
       "      <td>0.474938</td>\n",
       "      <td>0.365799</td>\n",
       "    </tr>\n",
       "    <tr>\n",
       "      <th>148</th>\n",
       "      <td>0.601217</td>\n",
       "      <td>0.572748</td>\n",
       "      <td>0.395690</td>\n",
       "      <td>0.283024</td>\n",
       "      <td>0.062470</td>\n",
       "      <td>0.293038</td>\n",
       "      <td>0.445459</td>\n",
       "      <td>0.566540</td>\n",
       "      <td>0.246036</td>\n",
       "      <td>0.209335</td>\n",
       "      <td>...</td>\n",
       "      <td>0.544460</td>\n",
       "      <td>0.483622</td>\n",
       "      <td>0.519072</td>\n",
       "      <td>0.744187</td>\n",
       "      <td>0.554649</td>\n",
       "      <td>0.557878</td>\n",
       "      <td>0.434544</td>\n",
       "      <td>0.564003</td>\n",
       "      <td>0.465565</td>\n",
       "      <td>0.351407</td>\n",
       "    </tr>\n",
       "    <tr>\n",
       "      <th>149</th>\n",
       "      <td>0.638049</td>\n",
       "      <td>0.582003</td>\n",
       "      <td>0.333837</td>\n",
       "      <td>0.288093</td>\n",
       "      <td>0.073268</td>\n",
       "      <td>0.361633</td>\n",
       "      <td>0.428982</td>\n",
       "      <td>0.567233</td>\n",
       "      <td>0.235402</td>\n",
       "      <td>0.214825</td>\n",
       "      <td>...</td>\n",
       "      <td>0.519877</td>\n",
       "      <td>0.474638</td>\n",
       "      <td>0.514942</td>\n",
       "      <td>0.728775</td>\n",
       "      <td>0.540123</td>\n",
       "      <td>0.555043</td>\n",
       "      <td>0.428717</td>\n",
       "      <td>0.560415</td>\n",
       "      <td>0.454212</td>\n",
       "      <td>0.336778</td>\n",
       "    </tr>\n",
       "    <tr>\n",
       "      <th>150</th>\n",
       "      <td>0.682996</td>\n",
       "      <td>0.591512</td>\n",
       "      <td>0.289672</td>\n",
       "      <td>0.296885</td>\n",
       "      <td>0.088877</td>\n",
       "      <td>0.440106</td>\n",
       "      <td>0.412122</td>\n",
       "      <td>0.567843</td>\n",
       "      <td>0.230191</td>\n",
       "      <td>0.218877</td>\n",
       "      <td>...</td>\n",
       "      <td>0.496335</td>\n",
       "      <td>0.466073</td>\n",
       "      <td>0.511116</td>\n",
       "      <td>0.711897</td>\n",
       "      <td>0.531487</td>\n",
       "      <td>0.548636</td>\n",
       "      <td>0.425153</td>\n",
       "      <td>0.556475</td>\n",
       "      <td>0.442882</td>\n",
       "      <td>0.321444</td>\n",
       "    </tr>\n",
       "  </tbody>\n",
       "</table>\n",
       "<p>151 rows × 1434 columns</p>\n",
       "</div>"
      ],
      "text/plain": [
       "ID   26742     142399    147088    270735    270992    453335    744056    \\\n",
       "0    0.563713  0.470083  0.308383  0.316859  0.280677  0.341934  0.333029   \n",
       "1    0.560264  0.456213  0.318156  0.311758  0.247293  0.333962  0.316644   \n",
       "2    0.556886  0.447176  0.327082  0.306815  0.248641  0.326757  0.297726   \n",
       "3    0.554148  0.441319  0.334986  0.302192  0.264244  0.321266  0.277142   \n",
       "4    0.552091  0.437537  0.342072  0.297971  0.280515  0.317887  0.256130   \n",
       "..        ...       ...       ...       ...       ...       ...       ...   \n",
       "146  0.576537  0.548612  0.528169  0.291109  0.067956  0.215330  0.476180   \n",
       "147  0.579194  0.561625  0.464739  0.283541  0.059748  0.243821  0.461089   \n",
       "148  0.601217  0.572748  0.395690  0.283024  0.062470  0.293038  0.445459   \n",
       "149  0.638049  0.582003  0.333837  0.288093  0.073268  0.361633  0.428982   \n",
       "150  0.682996  0.591512  0.289672  0.296885  0.088877  0.440106  0.412122   \n",
       "\n",
       "ID   842397    1305223   1305481   ...  26946919  26947731  26948629  \\\n",
       "0    0.294471  0.203654  0.142772  ...  0.215254  0.302196  0.279138   \n",
       "1    0.287839  0.198472  0.139843  ...  0.211496  0.291880  0.282436   \n",
       "2    0.280669  0.193234  0.138488  ...  0.204568  0.279919  0.286689   \n",
       "3    0.272987  0.187995  0.138136  ...  0.194808  0.268586  0.291844   \n",
       "4    0.264871  0.182809  0.138187  ...  0.183002  0.257519  0.298083   \n",
       "..        ...       ...       ...  ...       ...       ...       ...   \n",
       "146  0.562279  0.291825  0.200714  ...  0.585782  0.498026  0.529121   \n",
       "147  0.564762  0.267701  0.203888  ...  0.566821  0.491684  0.523790   \n",
       "148  0.566540  0.246036  0.209335  ...  0.544460  0.483622  0.519072   \n",
       "149  0.567233  0.235402  0.214825  ...  0.519877  0.474638  0.514942   \n",
       "150  0.567843  0.230191  0.218877  ...  0.496335  0.466073  0.511116   \n",
       "\n",
       "ID   26949198  26952289  26952760  26972807  26980434  26990388  26990517  \n",
       "0    0.316459  0.145991  0.178142  0.227402  0.317432  0.127369  0.154956  \n",
       "1    0.321975  0.145296  0.180661  0.226167  0.319346  0.123473  0.158482  \n",
       "2    0.325698  0.144920  0.181830  0.226354  0.321306  0.120797  0.162685  \n",
       "3    0.326977  0.144927  0.181877  0.226721  0.323210  0.118689  0.167114  \n",
       "4    0.328035  0.145394  0.181798  0.226914  0.324995  0.117728  0.171456  \n",
       "..        ...       ...       ...       ...       ...       ...       ...  \n",
       "146  0.769313  0.589949  0.566856  0.453101  0.570264  0.481709  0.380304  \n",
       "147  0.757749  0.571940  0.560754  0.442733  0.567289  0.474938  0.365799  \n",
       "148  0.744187  0.554649  0.557878  0.434544  0.564003  0.465565  0.351407  \n",
       "149  0.728775  0.540123  0.555043  0.428717  0.560415  0.454212  0.336778  \n",
       "150  0.711897  0.531487  0.548636  0.425153  0.556475  0.442882  0.321444  \n",
       "\n",
       "[151 rows x 1434 columns]"
      ]
     },
     "execution_count": 92,
     "metadata": {},
     "output_type": "execute_result"
    }
   ],
   "source": [
    "df_test_melhor2"
   ]
  },
  {
   "cell_type": "code",
   "execution_count": 93,
   "id": "d27f3ff2-efb5-4f8b-9dc3-51b5424b93e8",
   "metadata": {},
   "outputs": [
    {
     "data": {
      "text/plain": [
       "<AxesSubplot:>"
      ]
     },
     "execution_count": 93,
     "metadata": {},
     "output_type": "execute_result"
    },
    {
     "data": {
      "image/png": "[encoded data removed]",
      "text/plain": [
       "<Figure size 432x288 with 1 Axes>"
      ]
     },
     "metadata": {
      "needs_background": "light"
     },
     "output_type": "display_data"
    }
   ],
   "source": [
    "df_test_melhor.mean().plot()"
   ]
  },
  {
   "cell_type": "code",
   "execution_count": 94,
   "id": "61d014a4-364f-4432-a5ef-7f9c19577957",
   "metadata": {},
   "outputs": [],
   "source": [
    "array_test_mean=df_test_melhor.mean().values"
   ]
  },
  {
   "cell_type": "code",
   "execution_count": 95,
   "id": "90569130-0adf-45e3-b630-02e8e80045cf",
   "metadata": {},
   "outputs": [
    {
     "data": {
      "text/plain": [
       "array([0.21837725, 0.21390913, 0.20971981, 0.20588719, 0.20248006,\n",
       "       0.19956965, 0.19718362, 0.19538254, 0.19415184, 0.19343427,\n",
       "       0.19312972, 0.1931458 , 0.19338073, 0.19384226, 0.19451591,\n",
       "       0.19549208, 0.19685011, 0.19865622, 0.2009396 , 0.20374776,\n",
       "       0.20711352, 0.21101876, 0.21545354, 0.22034958, 0.22569134,\n",
       "       0.23146813, 0.23772236, 0.2444925 , 0.25184898, 0.25983002,\n",
       "       0.26848982, 0.27787407, 0.28798112, 0.2987929 , 0.31030091,\n",
       "       0.32246632, 0.33523821, 0.34854885, 0.36237756, 0.37667313,\n",
       "       0.39140122, 0.40656766, 0.42215718, 0.43818169, 0.4546847 ,\n",
       "       0.47162225, 0.4889195 , 0.50655026, 0.52447835, 0.54257708,\n",
       "       0.56072567, 0.5788528 , 0.5968014 , 0.61434772, 0.6312956 ,\n",
       "       0.64746232, 0.66269804, 0.67698813, 0.69036514, 0.70286538,\n",
       "       0.7145993 , 0.72570096, 0.73624604, 0.74627451, 0.75584872,\n",
       "       0.76492109, 0.77338924, 0.78112708, 0.78801519, 0.79394768,\n",
       "       0.79893749, 0.80303986, 0.80633974, 0.80898045, 0.81110905,\n",
       "       0.81279367, 0.81403003, 0.81488854, 0.81539881, 0.81556829,\n",
       "       0.81549605, 0.81532016, 0.8150997 , 0.81495617, 0.8150434 ,\n",
       "       0.81534433, 0.81578174, 0.81629559, 0.81676612, 0.81703278,\n",
       "       0.81705323, 0.81685625, 0.81647981, 0.81596865, 0.81542661,\n",
       "       0.81491217, 0.81443164, 0.81396186, 0.8134558 , 0.81287304,\n",
       "       0.81216918, 0.81134011, 0.8103755 , 0.80935452, 0.8082806 ,\n",
       "       0.80713968, 0.80589558, 0.80453613, 0.80295257, 0.80108092,\n",
       "       0.79893322, 0.79650096, 0.79380036, 0.79088753, 0.78780454,\n",
       "       0.78452307, 0.78104535, 0.77734744, 0.77333301, 0.76894691,\n",
       "       0.76413408, 0.7588527 , 0.75307008, 0.74683452, 0.74012725,\n",
       "       0.73294976, 0.72526275, 0.71703798, 0.7082521 , 0.69889632,\n",
       "       0.68895643, 0.67847286, 0.66741761, 0.65578115, 0.64358858,\n",
       "       0.63088892, 0.617733  , 0.60424465, 0.59056104, 0.57683488,\n",
       "       0.56322022, 0.54988421, 0.53701645, 0.52475048, 0.51320425,\n",
       "       0.50248577, 0.49259038, 0.48350061, 0.47515316, 0.46748656,\n",
       "       0.46041321])"
      ]
     },
     "execution_count": 95,
     "metadata": {},
     "output_type": "execute_result"
    }
   ],
   "source": [
    "df_test_melhor.mean().values"
   ]
  },
  {
   "cell_type": "code",
   "execution_count": 96,
   "id": "ef2fbd16-386a-4657-9411-13e9d4a817da",
   "metadata": {},
   "outputs": [],
   "source": [
    "seed=0"
   ]
  },
  {
   "cell_type": "code",
   "execution_count": 97,
   "id": "3b37a50e-34ce-4547-bfd9-26f04b31b704",
   "metadata": {},
   "outputs": [
    {
     "data": {
      "text/plain": [
       "TimeSeriesKMeans(max_iter=1000, n_clusters=2, n_init=10, random_state=0)"
      ]
     },
     "execution_count": 97,
     "metadata": {},
     "output_type": "execute_result"
    }
   ],
   "source": [
    "from tslearn.clustering import TimeSeriesKMeans\n",
    "\n",
    "modelteste2 = TimeSeriesKMeans(n_clusters=2, metric=\"euclidean\",\n",
    "                         max_iter=1000,n_init=10, random_state=seed)\n",
    "modelteste2.fit(df_test_melhor)"
   ]
  },
  {
   "cell_type": "code",
   "execution_count": 98,
   "id": "69f2dae5-fcac-42f7-b1e6-d94bc0f8f9e5",
   "metadata": {},
   "outputs": [
    {
     "data": {
      "image/png": "[encoded data removed]",
      "text/plain": [
       "<Figure size 432x288 with 1 Axes>"
      ]
     },
     "metadata": {
      "needs_background": "light"
     },
     "output_type": "display_data"
    }
   ],
   "source": [
    "for x in modelteste2.cluster_centers_:\n",
    "    plt.plot(x)"
   ]
  },
  {
   "cell_type": "code",
   "execution_count": 99,
   "id": "98b2d3fc-c832-4add-b523-229535f5cf0d",
   "metadata": {},
   "outputs": [
    {
     "data": {
      "text/plain": [
       "0.3933906516700437"
      ]
     },
     "execution_count": 99,
     "metadata": {},
     "output_type": "execute_result"
    }
   ],
   "source": [
    "import tslearn.clustering\n",
    "from tslearn.metrics import cdist_dtw\n",
    "tslearn.clustering.silhouette_score(df_test_melhor, labels=modelteste2.labels_, metric=\"euclidean\")"
   ]
  },
  {
   "cell_type": "code",
   "execution_count": 100,
   "id": "1522c3c6-7ffe-4246-b8de-f51f9a93a1ab",
   "metadata": {},
   "outputs": [
    {
     "data": {
      "text/plain": [
       "1.038759021861684"
      ]
     },
     "execution_count": 100,
     "metadata": {},
     "output_type": "execute_result"
    }
   ],
   "source": [
    "modelteste2.inertia_"
   ]
  },
  {
   "cell_type": "code",
   "execution_count": 101,
   "id": "fcfd6cd7-fdbd-49d5-a658-71572fef31e2",
   "metadata": {},
   "outputs": [
    {
     "data": {
      "text/plain": [
       "array([[[0.20752638],\n",
       "        [0.20318918],\n",
       "        [0.19909238],\n",
       "        [0.1953347 ],\n",
       "        [0.19198314],\n",
       "        [0.18911306],\n",
       "        [0.18677215],\n",
       "        [0.18503616],\n",
       "        [0.18389178],\n",
       "        [0.18329054],\n",
       "        [0.18311978],\n",
       "        [0.1832959 ],\n",
       "        [0.1837084 ],\n",
       "        [0.18437319],\n",
       "        [0.18529458],\n",
       "        [0.18659468],\n",
       "        [0.18835342],\n",
       "        [0.19063724],\n",
       "        [0.19344629],\n",
       "        [0.19678959],\n",
       "        [0.20067982],\n",
       "        [0.20509236],\n",
       "        [0.21002017],\n",
       "        [0.21541534],\n",
       "        [0.22129541],\n",
       "        [0.22765339],\n",
       "        [0.23453002],\n",
       "        [0.24197841],\n",
       "        [0.25007075],\n",
       "        [0.25888908],\n",
       "        [0.26852044],\n",
       "        [0.27901755],\n",
       "        [0.29036606],\n",
       "        [0.30255293],\n",
       "        [0.31550797],\n",
       "        [0.32915733],\n",
       "        [0.34345992],\n",
       "        [0.35837005],\n",
       "        [0.37385914],\n",
       "        [0.3898655 ],\n",
       "        [0.40634522],\n",
       "        [0.4232922 ],\n",
       "        [0.44065435],\n",
       "        [0.45843444],\n",
       "        [0.47669202],\n",
       "        [0.495364  ],\n",
       "        [0.51436718],\n",
       "        [0.5336557 ],\n",
       "        [0.55317309],\n",
       "        [0.57276248],\n",
       "        [0.59230228],\n",
       "        [0.61172017],\n",
       "        [0.63088539],\n",
       "        [0.64960623],\n",
       "        [0.66767646],\n",
       "        [0.68490961],\n",
       "        [0.701148  ],\n",
       "        [0.71633718],\n",
       "        [0.73046537],\n",
       "        [0.74358327],\n",
       "        [0.75575176],\n",
       "        [0.76704946],\n",
       "        [0.77754454],\n",
       "        [0.78728713],\n",
       "        [0.79632946],\n",
       "        [0.80466356],\n",
       "        [0.81227523],\n",
       "        [0.81911629],\n",
       "        [0.82513155],\n",
       "        [0.83027376],\n",
       "        [0.83459186],\n",
       "        [0.83812244],\n",
       "        [0.84094505],\n",
       "        [0.84316755],\n",
       "        [0.84493903],\n",
       "        [0.84632176],\n",
       "        [0.84730461],\n",
       "        [0.84792065],\n",
       "        [0.84818833],\n",
       "        [0.84808018],\n",
       "        [0.8476706 ],\n",
       "        [0.84708264],\n",
       "        [0.84639008],\n",
       "        [0.84572168],\n",
       "        [0.84522178],\n",
       "        [0.84488101],\n",
       "        [0.84464728],\n",
       "        [0.8444717 ],\n",
       "        [0.84427528],\n",
       "        [0.84396711],\n",
       "        [0.84354897],\n",
       "        [0.84308126],\n",
       "        [0.84261098],\n",
       "        [0.84213753],\n",
       "        [0.84172594],\n",
       "        [0.84139206],\n",
       "        [0.84108237],\n",
       "        [0.84073909],\n",
       "        [0.84032368],\n",
       "        [0.83977996],\n",
       "        [0.83907826],\n",
       "        [0.83823123],\n",
       "        [0.83726348],\n",
       "        [0.83626265],\n",
       "        [0.83525392],\n",
       "        [0.83422673],\n",
       "        [0.83312259],\n",
       "        [0.83188976],\n",
       "        [0.83038859],\n",
       "        [0.82855183],\n",
       "        [0.8263714 ],\n",
       "        [0.82386708],\n",
       "        [0.82110329],\n",
       "        [0.81818401],\n",
       "        [0.81518011],\n",
       "        [0.81209537],\n",
       "        [0.80890708],\n",
       "        [0.80558106],\n",
       "        [0.80200964],\n",
       "        [0.79810906],\n",
       "        [0.79381307],\n",
       "        [0.78911319],\n",
       "        [0.78396756],\n",
       "        [0.77845213],\n",
       "        [0.77255727],\n",
       "        [0.7662788 ],\n",
       "        [0.75955763],\n",
       "        [0.75234896],\n",
       "        [0.74455951],\n",
       "        [0.73613452],\n",
       "        [0.72702247],\n",
       "        [0.71724727],\n",
       "        [0.70672758],\n",
       "        [0.69541863],\n",
       "        [0.68331054],\n",
       "        [0.67045715],\n",
       "        [0.6568726 ],\n",
       "        [0.64269933],\n",
       "        [0.62812797],\n",
       "        [0.61336036],\n",
       "        [0.59857875],\n",
       "        [0.58400524],\n",
       "        [0.56984395],\n",
       "        [0.55620115],\n",
       "        [0.5431885 ],\n",
       "        [0.53090267],\n",
       "        [0.51931625],\n",
       "        [0.50841785],\n",
       "        [0.4981509 ],\n",
       "        [0.48848559],\n",
       "        [0.47937744]],\n",
       "\n",
       "       [[0.26309836],\n",
       "        [0.25809067],\n",
       "        [0.25351999],\n",
       "        [0.24937853],\n",
       "        [0.24574239],\n",
       "        [0.24266574],\n",
       "        [0.24009375],\n",
       "        [0.23802439],\n",
       "        [0.23643795],\n",
       "        [0.23524093],\n",
       "        [0.23438497],\n",
       "        [0.23374149],\n",
       "        [0.23324456],\n",
       "        [0.23286834],\n",
       "        [0.232521  ],\n",
       "        [0.23216209],\n",
       "        [0.23186862],\n",
       "        [0.23170588],\n",
       "        [0.23182273],\n",
       "        [0.23242535],\n",
       "        [0.23362952],\n",
       "        [0.235444  ],\n",
       "        [0.23784678],\n",
       "        [0.24068572],\n",
       "        [0.24380888],\n",
       "        [0.24719027],\n",
       "        [0.25087938],\n",
       "        [0.25485412],\n",
       "        [0.2591778 ],\n",
       "        [0.26370804],\n",
       "        [0.26836362],\n",
       "        [0.27316133],\n",
       "        [0.27815174],\n",
       "        [0.2832962 ],\n",
       "        [0.28884042],\n",
       "        [0.2948898 ],\n",
       "        [0.30135303],\n",
       "        [0.30807145],\n",
       "        [0.31505706],\n",
       "        [0.32230173],\n",
       "        [0.32981059],\n",
       "        [0.33763864],\n",
       "        [0.34592239],\n",
       "        [0.35471144],\n",
       "        [0.36398312],\n",
       "        [0.3737723 ],\n",
       "        [0.3840387 ],\n",
       "        [0.3948371 ],\n",
       "        [0.40621502],\n",
       "        [0.41817011],\n",
       "        [0.43058494],\n",
       "        [0.44339229],\n",
       "        [0.4563267 ],\n",
       "        [0.46903228],\n",
       "        [0.4813545 ],\n",
       "        [0.49312599],\n",
       "        [0.50422926],\n",
       "        [0.51481386],\n",
       "        [0.52509489],\n",
       "        [0.53504953],\n",
       "        [0.54499237],\n",
       "        [0.55528608],\n",
       "        [0.5660372 ],\n",
       "        [0.57724396],\n",
       "        [0.58901022],\n",
       "        [0.60112535],\n",
       "        [0.6131234 ],\n",
       "        [0.62455725],\n",
       "        [0.63504276],\n",
       "        [0.64423235],\n",
       "        [0.65199056],\n",
       "        [0.65844951],\n",
       "        [0.66371642],\n",
       "        [0.66808073],\n",
       "        [0.67168116],\n",
       "        [0.67461003],\n",
       "        [0.67689123],\n",
       "        [0.67874905],\n",
       "        [0.68025917],\n",
       "        [0.68157288],\n",
       "        [0.68289096],\n",
       "        [0.68441335],\n",
       "        [0.68613865],\n",
       "        [0.68815831],\n",
       "        [0.69066537],\n",
       "        [0.69361104],\n",
       "        [0.6968145 ],\n",
       "        [0.70016978],\n",
       "        [0.70338909],\n",
       "        [0.70602486],\n",
       "        [0.70785293],\n",
       "        [0.70877174],\n",
       "        [0.70878205],\n",
       "        [0.70811545],\n",
       "        [0.70703581],\n",
       "        [0.70577718],\n",
       "        [0.70459256],\n",
       "        [0.7036014 ],\n",
       "        [0.70272174],\n",
       "        [0.70197809],\n",
       "        [0.70126533],\n",
       "        [0.70051028],\n",
       "        [0.69955861],\n",
       "        [0.69845459],\n",
       "        [0.69711198],\n",
       "        [0.69550234],\n",
       "        [0.69368141],\n",
       "        [0.69180014],\n",
       "        [0.68987696],\n",
       "        [0.68786156],\n",
       "        [0.6858487 ],\n",
       "        [0.68371349],\n",
       "        [0.6812733 ],\n",
       "        [0.67838706],\n",
       "        [0.67497806],\n",
       "        [0.6708858 ],\n",
       "        [0.66621522],\n",
       "        [0.66098458],\n",
       "        [0.65514429],\n",
       "        [0.64875718],\n",
       "        [0.64181424],\n",
       "        [0.63413629],\n",
       "        [0.62572836],\n",
       "        [0.6165248 ],\n",
       "        [0.60646922],\n",
       "        [0.59558649],\n",
       "        [0.58391883],\n",
       "        [0.5715063 ],\n",
       "        [0.55861369],\n",
       "        [0.54542177],\n",
       "        [0.53206996],\n",
       "        [0.51866689],\n",
       "        [0.50540437],\n",
       "        [0.49241812],\n",
       "        [0.47987738],\n",
       "        [0.46781131],\n",
       "        [0.45642193],\n",
       "        [0.4457564 ],\n",
       "        [0.43573167],\n",
       "        [0.42629771],\n",
       "        [0.41749255],\n",
       "        [0.40925679],\n",
       "        [0.40172026],\n",
       "        [0.3951288 ],\n",
       "        [0.38962632],\n",
       "        [0.38536754],\n",
       "        [0.3824416 ],\n",
       "        [0.380806  ],\n",
       "        [0.3803696 ],\n",
       "        [0.38094056],\n",
       "        [0.38225348]]])"
      ]
     },
     "execution_count": 101,
     "metadata": {},
     "output_type": "execute_result"
    }
   ],
   "source": [
    "modelteste2.cluster_centers_"
   ]
  },
  {
   "cell_type": "code",
   "execution_count": 102,
   "id": "67a8eddb-afdd-4590-83e8-3affcb66653f",
   "metadata": {},
   "outputs": [],
   "source": [
    "cluster_centersteste=[]\n",
    "for x in modelteste2.cluster_centers_:\n",
    "    abc=np.concatenate(x, axis=0)\n",
    "    cluster_centersteste.append(abc)"
   ]
  },
  {
   "cell_type": "code",
   "execution_count": 103,
   "id": "6f655cf8-cb9a-4a76-a83c-81ffb77dc644",
   "metadata": {},
   "outputs": [],
   "source": [
    "x=np.arange(0,151)"
   ]
  },
  {
   "cell_type": "code",
   "execution_count": 104,
   "id": "79b12010-dc69-4608-b5bb-81b1801ba5e8",
   "metadata": {},
   "outputs": [
    {
     "data": {
      "image/png": "[encoded data removed]",
      "text/plain": [
       "<Figure size 432x288 with 1 Axes>"
      ]
     },
     "metadata": {
      "needs_background": "light"
     },
     "output_type": "display_data"
    }
   ],
   "source": [
    "plt.plot(x, cluster_centersteste[0], \"tab:blue\", label=\"cluster_1\")\n",
    "plt.plot(x, cluster_centersteste[1], \"tab:orange\", label=\"cluster_2\")\n",
    "plt.plot(x, array_test_mean, \"tab:green\", label=\"mean\")\n",
    "plt.legend(loc=\"upper left\")\n",
    "plt.xlabel(\"Days\")\n",
    "plt.ylabel(\"NDVI\")\n",
    "plt.show()"
   ]
  },
  {
   "cell_type": "code",
   "execution_count": 105,
   "id": "e21eeaf8-534d-42f4-aaac-f2cf1d705d9e",
   "metadata": {},
   "outputs": [
    {
     "data": {
      "text/plain": [
       "<AxesSubplot:>"
      ]
     },
     "execution_count": 105,
     "metadata": {},
     "output_type": "execute_result"
    },
    {
     "data": {
      "image/png": "[encoded data removed]",
      "text/plain": [
       "<Figure size 432x288 with 1 Axes>"
      ]
     },
     "metadata": {
      "needs_background": "light"
     },
     "output_type": "display_data"
    }
   ],
   "source": [
    "df_train_melhor.mean().plot()"
   ]
  },
  {
   "cell_type": "code",
   "execution_count": 106,
   "id": "ef79b674-0b60-49b9-83ff-fcaf878a02f4",
   "metadata": {},
   "outputs": [
    {
     "data": {
      "text/plain": [
       "array([0.23252435, 0.22582602, 0.21952449, 0.21376364, 0.20867128,\n",
       "       0.20431489, 0.20070661, 0.19783451, 0.19566228, 0.19412215,\n",
       "       0.19316269, 0.19269507, 0.19268501, 0.19307382, 0.19381694,\n",
       "       0.19487033, 0.19624485, 0.19792177, 0.19991092, 0.20221314,\n",
       "       0.20488397, 0.20795387, 0.21147744, 0.21551478, 0.22015237,\n",
       "       0.22543314, 0.2314215 , 0.23814614, 0.24563329, 0.25390133,\n",
       "       0.26297628, 0.27285194, 0.28352141, 0.29496064, 0.30712932,\n",
       "       0.31995779, 0.33342538, 0.34748995, 0.36213299, 0.3773379 ,\n",
       "       0.39312524, 0.40942984, 0.42620837, 0.44342148, 0.46102917,\n",
       "       0.47897541, 0.49724848, 0.51580112, 0.53455737, 0.55338807,\n",
       "       0.57217518, 0.59076595, 0.60902963, 0.62683657, 0.64403389,\n",
       "       0.66049346, 0.67613216, 0.69086953, 0.70466157, 0.71752547,\n",
       "       0.72952053, 0.74068465, 0.75107683, 0.76072857, 0.7696536 ,\n",
       "       0.77785109, 0.78534158, 0.79213404, 0.79820961, 0.80355152,\n",
       "       0.80815734, 0.81203692, 0.81520709, 0.81778051, 0.81987756,\n",
       "       0.82159299, 0.82298703, 0.82415018, 0.82511378, 0.82593816,\n",
       "       0.82660821, 0.82712278, 0.82745474, 0.82757608, 0.82745968,\n",
       "       0.8271452 , 0.82671989, 0.82624617, 0.82581463, 0.8254926 ,\n",
       "       0.82528327, 0.8251523 , 0.82507244, 0.82500334, 0.82486282,\n",
       "       0.82462928, 0.82427589, 0.82379735, 0.82315483, 0.82239438,\n",
       "       0.82155416, 0.82066011, 0.81966722, 0.81857833, 0.81735678,\n",
       "       0.81596038, 0.81436177, 0.81262286, 0.81076515, 0.80881175,\n",
       "       0.80675967, 0.8046325 , 0.80239858, 0.80002682, 0.79746862,\n",
       "       0.79470515, 0.79165811, 0.78825125, 0.78445827, 0.78022829,\n",
       "       0.77552927, 0.77036106, 0.76473425, 0.75861286, 0.75197237,\n",
       "       0.74476687, 0.73697635, 0.72855454, 0.71944179, 0.70960025,\n",
       "       0.69900818, 0.6876452 , 0.67554699, 0.66284558, 0.64968102,\n",
       "       0.63620516, 0.62251621, 0.60872917, 0.59486463, 0.58093204,\n",
       "       0.56692944, 0.55297676, 0.53922838, 0.52589524, 0.51322193,\n",
       "       0.50140326, 0.49058633, 0.48080649, 0.47204191, 0.46416794,\n",
       "       0.45700515])"
      ]
     },
     "execution_count": 106,
     "metadata": {},
     "output_type": "execute_result"
    }
   ],
   "source": [
    "df_train_melhor.mean().values"
   ]
  },
  {
   "cell_type": "code",
   "execution_count": 107,
   "id": "cc2b9a76-15c0-4dfb-b975-a83b34d3f15d",
   "metadata": {},
   "outputs": [],
   "source": [
    "array_train_mean=df_train_melhor.mean().values"
   ]
  },
  {
   "cell_type": "code",
   "execution_count": 108,
   "id": "dad4e6bc-5b93-45ce-abf9-581fcda09a71",
   "metadata": {},
   "outputs": [],
   "source": [
    "seed=0"
   ]
  },
  {
   "cell_type": "code",
   "execution_count": 109,
   "id": "79070258-60bf-45f2-9bab-b1b663dfde1c",
   "metadata": {},
   "outputs": [
    {
     "data": {
      "text/plain": [
       "TimeSeriesKMeans(max_iter=1000, n_clusters=2, n_init=10, random_state=0)"
      ]
     },
     "execution_count": 109,
     "metadata": {},
     "output_type": "execute_result"
    }
   ],
   "source": [
    "from tslearn.clustering import TimeSeriesKMeans\n",
    "\n",
    "model2 = TimeSeriesKMeans(n_clusters=2, metric=\"euclidean\",\n",
    "                         max_iter=1000,n_init=10, random_state=seed)\n",
    "model2.fit(df_train_melhor)"
   ]
  },
  {
   "cell_type": "code",
   "execution_count": 110,
   "id": "8e4e893a-cd5a-4eaa-a7c0-04c927bb7581",
   "metadata": {},
   "outputs": [
    {
     "data": {
      "image/png": "[encoded data removed]",
      "text/plain": [
       "<Figure size 432x288 with 1 Axes>"
      ]
     },
     "metadata": {
      "needs_background": "light"
     },
     "output_type": "display_data"
    }
   ],
   "source": [
    "for x in model2.cluster_centers_:\n",
    "    plt.plot(x)"
   ]
  },
  {
   "cell_type": "code",
   "execution_count": 111,
   "id": "a34ad627-fa42-403a-9db9-ce7015ade736",
   "metadata": {},
   "outputs": [
    {
     "data": {
      "text/plain": [
       "0.37528175162744887"
      ]
     },
     "execution_count": 111,
     "metadata": {},
     "output_type": "execute_result"
    }
   ],
   "source": [
    "import tslearn.clustering\n",
    "from tslearn.metrics import cdist_dtw\n",
    "tslearn.clustering.silhouette_score(df_train_melhor, labels=model2.labels_, metric=\"euclidean\")"
   ]
  },
  {
   "cell_type": "code",
   "execution_count": 112,
   "id": "be833e38-ccf4-493a-8f0c-0a61e339cdf1",
   "metadata": {},
   "outputs": [
    {
     "data": {
      "text/plain": [
       "1.0809657283224035"
      ]
     },
     "execution_count": 112,
     "metadata": {},
     "output_type": "execute_result"
    }
   ],
   "source": [
    "model2.inertia_"
   ]
  },
  {
   "cell_type": "code",
   "execution_count": 113,
   "id": "2342fe24-d868-45d7-8010-f7cdd816ff37",
   "metadata": {},
   "outputs": [
    {
     "data": {
      "text/plain": [
       "array([[[0.22519354],\n",
       "        [0.21834325],\n",
       "        [0.21187438],\n",
       "        [0.20593743],\n",
       "        [0.20068835],\n",
       "        [0.19621253],\n",
       "        [0.19254075],\n",
       "        [0.18967991],\n",
       "        [0.18758715],\n",
       "        [0.18617443],\n",
       "        [0.18538563],\n",
       "        [0.18512572],\n",
       "        [0.18534146],\n",
       "        [0.18596219],\n",
       "        [0.18693682],\n",
       "        [0.18821655],\n",
       "        [0.18981754],\n",
       "        [0.19173581],\n",
       "        [0.19400389],\n",
       "        [0.19664237],\n",
       "        [0.19972719],\n",
       "        [0.20329364],\n",
       "        [0.20739864],\n",
       "        [0.21209226],\n",
       "        [0.21746233],\n",
       "        [0.22354895],\n",
       "        [0.23041873],\n",
       "        [0.23810466],\n",
       "        [0.24663432],\n",
       "        [0.25603439],\n",
       "        [0.26634444],\n",
       "        [0.27756206],\n",
       "        [0.28969286],\n",
       "        [0.30273279],\n",
       "        [0.31662638],\n",
       "        [0.3312892 ],\n",
       "        [0.34669233],\n",
       "        [0.36277301],\n",
       "        [0.37948673],\n",
       "        [0.3968124 ],\n",
       "        [0.41476275],\n",
       "        [0.43325696],\n",
       "        [0.45222649],\n",
       "        [0.47162739],\n",
       "        [0.49140098],\n",
       "        [0.51147506],\n",
       "        [0.53182459],\n",
       "        [0.55239769],\n",
       "        [0.57309585],\n",
       "        [0.59375281],\n",
       "        [0.61423867],\n",
       "        [0.63436799],\n",
       "        [0.65398013],\n",
       "        [0.6729221 ],\n",
       "        [0.69101405],\n",
       "        [0.70810815],\n",
       "        [0.7241244 ],\n",
       "        [0.73897728],\n",
       "        [0.75265131],\n",
       "        [0.76521866],\n",
       "        [0.77676935],\n",
       "        [0.78738726],\n",
       "        [0.79717793],\n",
       "        [0.80620645],\n",
       "        [0.81447787],\n",
       "        [0.82199417],\n",
       "        [0.82876837],\n",
       "        [0.83480862],\n",
       "        [0.84008652],\n",
       "        [0.8446063 ],\n",
       "        [0.84838563],\n",
       "        [0.85144308],\n",
       "        [0.85380357],\n",
       "        [0.85559491],\n",
       "        [0.85693067],\n",
       "        [0.85789559],\n",
       "        [0.85854605],\n",
       "        [0.85897048],\n",
       "        [0.85919708],\n",
       "        [0.85929434],\n",
       "        [0.85923347],\n",
       "        [0.85900971],\n",
       "        [0.85860202],\n",
       "        [0.85799359],\n",
       "        [0.85716666],\n",
       "        [0.8562026 ],\n",
       "        [0.85522184],\n",
       "        [0.85429756],\n",
       "        [0.85351032],\n",
       "        [0.8529494 ],\n",
       "        [0.85261559],\n",
       "        [0.85245973],\n",
       "        [0.85245953],\n",
       "        [0.85256085],\n",
       "        [0.85264268],\n",
       "        [0.85264394],\n",
       "        [0.85250646],\n",
       "        [0.85218817],\n",
       "        [0.85164342],\n",
       "        [0.85091192],\n",
       "        [0.85003987],\n",
       "        [0.84907157],\n",
       "        [0.84796976],\n",
       "        [0.84676065],\n",
       "        [0.84543156],\n",
       "        [0.8439574 ],\n",
       "        [0.84233172],\n",
       "        [0.84062585],\n",
       "        [0.83884974],\n",
       "        [0.83702864],\n",
       "        [0.83513799],\n",
       "        [0.83316814],\n",
       "        [0.83108591],\n",
       "        [0.82888203],\n",
       "        [0.82650323],\n",
       "        [0.82395844],\n",
       "        [0.82120752],\n",
       "        [0.81820097],\n",
       "        [0.81494002],\n",
       "        [0.81136646],\n",
       "        [0.80743943],\n",
       "        [0.80313678],\n",
       "        [0.79845262],\n",
       "        [0.79330912],\n",
       "        [0.78768876],\n",
       "        [0.78155409],\n",
       "        [0.77491222],\n",
       "        [0.76771299],\n",
       "        [0.75991454],\n",
       "        [0.75148275],\n",
       "        [0.7423653 ],\n",
       "        [0.73247705],\n",
       "        [0.72180328],\n",
       "        [0.71037199],\n",
       "        [0.6982296 ],\n",
       "        [0.68545123],\n",
       "        [0.67210929],\n",
       "        [0.65828559],\n",
       "        [0.64403053],\n",
       "        [0.62942066],\n",
       "        [0.61452892],\n",
       "        [0.59949576],\n",
       "        [0.5845013 ],\n",
       "        [0.56977765],\n",
       "        [0.55558282],\n",
       "        [0.54209288],\n",
       "        [0.52946583],\n",
       "        [0.51776797],\n",
       "        [0.50699884],\n",
       "        [0.49702402],\n",
       "        [0.48768995]],\n",
       "\n",
       "       [[0.25659116],\n",
       "        [0.25039177],\n",
       "        [0.24463956],\n",
       "        [0.23945687],\n",
       "        [0.23487902],\n",
       "        [0.2309147 ],\n",
       "        [0.22751492],\n",
       "        [0.22460582],\n",
       "        [0.22217271],\n",
       "        [0.22021427],\n",
       "        [0.21869455],\n",
       "        [0.21754504],\n",
       "        [0.21679368],\n",
       "        [0.2164211 ],\n",
       "        [0.21640416],\n",
       "        [0.2167145 ],\n",
       "        [0.21734552],\n",
       "        [0.2182301 ],\n",
       "        [0.21930354],\n",
       "        [0.22050185],\n",
       "        [0.22181352],\n",
       "        [0.22325325],\n",
       "        [0.22486805],\n",
       "        [0.22675081],\n",
       "        [0.22898372],\n",
       "        [0.23161889],\n",
       "        [0.23471357],\n",
       "        [0.23828234],\n",
       "        [0.24234695],\n",
       "        [0.24689856],\n",
       "        [0.2519187 ],\n",
       "        [0.25738878],\n",
       "        [0.26326071],\n",
       "        [0.26944491],\n",
       "        [0.27595075],\n",
       "        [0.28275709],\n",
       "        [0.28987038],\n",
       "        [0.29731612],\n",
       "        [0.30516117],\n",
       "        [0.31340368],\n",
       "        [0.3220899 ],\n",
       "        [0.3312061 ],\n",
       "        [0.34079163],\n",
       "        [0.3508223 ],\n",
       "        [0.36131942],\n",
       "        [0.37228001],\n",
       "        [0.38373614],\n",
       "        [0.39565567],\n",
       "        [0.40803669],\n",
       "        [0.42087181],\n",
       "        [0.43408198],\n",
       "        [0.44762176],\n",
       "        [0.46145843],\n",
       "        [0.47553915],\n",
       "        [0.48979944],\n",
       "        [0.50417584],\n",
       "        [0.51857505],\n",
       "        [0.53293321],\n",
       "        [0.54711265],\n",
       "        [0.56095012],\n",
       "        [0.57440404],\n",
       "        [0.58736135],\n",
       "        [0.59972826],\n",
       "        [0.61142603],\n",
       "        [0.62249685],\n",
       "        [0.63293066],\n",
       "        [0.64277271],\n",
       "        [0.65203462],\n",
       "        [0.66072893],\n",
       "        [0.66876986],\n",
       "        [0.67608908],\n",
       "        [0.68266767],\n",
       "        [0.68849597],\n",
       "        [0.69363697],\n",
       "        [0.69823331],\n",
       "        [0.70241263],\n",
       "        [0.70624779],\n",
       "        [0.70983618],\n",
       "        [0.71321929],\n",
       "        [0.71643081],\n",
       "        [0.71950047],\n",
       "        [0.72243894],\n",
       "        [0.72519913],\n",
       "        [0.72771626],\n",
       "        [0.72993254],\n",
       "        [0.73175061],\n",
       "        [0.73314884],\n",
       "        [0.73415428],\n",
       "        [0.73489051],\n",
       "        [0.73535275],\n",
       "        [0.73555206],\n",
       "        [0.7355028 ],\n",
       "        [0.73516144],\n",
       "        [0.73453287],\n",
       "        [0.73366235],\n",
       "        [0.732658  ],\n",
       "        [0.73159576],\n",
       "        [0.73059113],\n",
       "        [0.72962764],\n",
       "        [0.72877213],\n",
       "        [0.7280364 ],\n",
       "        [0.72738615],\n",
       "        [0.72675082],\n",
       "        [0.72605659],\n",
       "        [0.72518812],\n",
       "        [0.724047  ],\n",
       "        [0.72253725],\n",
       "        [0.72068986],\n",
       "        [0.71856426],\n",
       "        [0.71617653],\n",
       "        [0.71359448],\n",
       "        [0.71095083],\n",
       "        [0.70821895],\n",
       "        [0.70529602],\n",
       "        [0.70214885],\n",
       "        [0.69866746],\n",
       "        [0.6946483 ],\n",
       "        [0.6899272 ],\n",
       "        [0.68438757],\n",
       "        [0.6780026 ],\n",
       "        [0.67076914],\n",
       "        [0.66275934],\n",
       "        [0.65403785],\n",
       "        [0.64470606],\n",
       "        [0.63471651],\n",
       "        [0.62399554],\n",
       "        [0.61243403],\n",
       "        [0.59999852],\n",
       "        [0.58657093],\n",
       "        [0.57210123],\n",
       "        [0.55666807],\n",
       "        [0.54046356],\n",
       "        [0.52368895],\n",
       "        [0.50681776],\n",
       "        [0.49029746],\n",
       "        [0.47453178],\n",
       "        [0.45970358],\n",
       "        [0.44603688],\n",
       "        [0.43345444],\n",
       "        [0.42174535],\n",
       "        [0.41066173],\n",
       "        [0.40025625],\n",
       "        [0.39059873],\n",
       "        [0.38183057],\n",
       "        [0.37415237],\n",
       "        [0.36782045],\n",
       "        [0.36294608],\n",
       "        [0.35946303],\n",
       "        [0.35727934],\n",
       "        [0.3563024 ],\n",
       "        [0.35626786]]])"
      ]
     },
     "execution_count": 113,
     "metadata": {},
     "output_type": "execute_result"
    }
   ],
   "source": [
    "model2.cluster_centers_"
   ]
  },
  {
   "cell_type": "code",
   "execution_count": 114,
   "id": "fb38303f-6c1a-4dd6-8bc3-3722398d22ec",
   "metadata": {},
   "outputs": [],
   "source": [
    "cluster_centers=[]\n",
    "for x in model2.cluster_centers_:\n",
    "    abc=np.concatenate(x, axis=0)\n",
    "    cluster_centers.append(abc)"
   ]
  },
  {
   "cell_type": "code",
   "execution_count": 115,
   "id": "781eddb5-492c-417a-bcdb-2d4eefd57947",
   "metadata": {},
   "outputs": [
    {
     "data": {
      "text/plain": [
       "array([0.22519354, 0.21834325, 0.21187438, 0.20593743, 0.20068835,\n",
       "       0.19621253, 0.19254075, 0.18967991, 0.18758715, 0.18617443,\n",
       "       0.18538563, 0.18512572, 0.18534146, 0.18596219, 0.18693682,\n",
       "       0.18821655, 0.18981754, 0.19173581, 0.19400389, 0.19664237,\n",
       "       0.19972719, 0.20329364, 0.20739864, 0.21209226, 0.21746233,\n",
       "       0.22354895, 0.23041873, 0.23810466, 0.24663432, 0.25603439,\n",
       "       0.26634444, 0.27756206, 0.28969286, 0.30273279, 0.31662638,\n",
       "       0.3312892 , 0.34669233, 0.36277301, 0.37948673, 0.3968124 ,\n",
       "       0.41476275, 0.43325696, 0.45222649, 0.47162739, 0.49140098,\n",
       "       0.51147506, 0.53182459, 0.55239769, 0.57309585, 0.59375281,\n",
       "       0.61423867, 0.63436799, 0.65398013, 0.6729221 , 0.69101405,\n",
       "       0.70810815, 0.7241244 , 0.73897728, 0.75265131, 0.76521866,\n",
       "       0.77676935, 0.78738726, 0.79717793, 0.80620645, 0.81447787,\n",
       "       0.82199417, 0.82876837, 0.83480862, 0.84008652, 0.8446063 ,\n",
       "       0.84838563, 0.85144308, 0.85380357, 0.85559491, 0.85693067,\n",
       "       0.85789559, 0.85854605, 0.85897048, 0.85919708, 0.85929434,\n",
       "       0.85923347, 0.85900971, 0.85860202, 0.85799359, 0.85716666,\n",
       "       0.8562026 , 0.85522184, 0.85429756, 0.85351032, 0.8529494 ,\n",
       "       0.85261559, 0.85245973, 0.85245953, 0.85256085, 0.85264268,\n",
       "       0.85264394, 0.85250646, 0.85218817, 0.85164342, 0.85091192,\n",
       "       0.85003987, 0.84907157, 0.84796976, 0.84676065, 0.84543156,\n",
       "       0.8439574 , 0.84233172, 0.84062585, 0.83884974, 0.83702864,\n",
       "       0.83513799, 0.83316814, 0.83108591, 0.82888203, 0.82650323,\n",
       "       0.82395844, 0.82120752, 0.81820097, 0.81494002, 0.81136646,\n",
       "       0.80743943, 0.80313678, 0.79845262, 0.79330912, 0.78768876,\n",
       "       0.78155409, 0.77491222, 0.76771299, 0.75991454, 0.75148275,\n",
       "       0.7423653 , 0.73247705, 0.72180328, 0.71037199, 0.6982296 ,\n",
       "       0.68545123, 0.67210929, 0.65828559, 0.64403053, 0.62942066,\n",
       "       0.61452892, 0.59949576, 0.5845013 , 0.56977765, 0.55558282,\n",
       "       0.54209288, 0.52946583, 0.51776797, 0.50699884, 0.49702402,\n",
       "       0.48768995])"
      ]
     },
     "execution_count": 115,
     "metadata": {},
     "output_type": "execute_result"
    }
   ],
   "source": [
    "cluster_centers[0]"
   ]
  },
  {
   "cell_type": "code",
   "execution_count": 116,
   "id": "b079d07f-35bd-448e-9c87-d7a452da2df3",
   "metadata": {},
   "outputs": [],
   "source": [
    "cluster_centers2=cluster_centers"
   ]
  },
  {
   "cell_type": "code",
   "execution_count": 117,
   "id": "25905853-5d85-4c20-8ce8-2ebf783942c6",
   "metadata": {},
   "outputs": [
    {
     "data": {
      "text/plain": [
       "array([0.22519354, 0.21834325, 0.21187438, 0.20593743, 0.20068835,\n",
       "       0.19621253, 0.19254075, 0.18967991, 0.18758715, 0.18617443,\n",
       "       0.18538563, 0.18512572, 0.18534146, 0.18596219, 0.18693682,\n",
       "       0.18821655, 0.18981754, 0.19173581, 0.19400389, 0.19664237,\n",
       "       0.19972719, 0.20329364, 0.20739864, 0.21209226, 0.21746233,\n",
       "       0.22354895, 0.23041873, 0.23810466, 0.24663432, 0.25603439,\n",
       "       0.26634444, 0.27756206, 0.28969286, 0.30273279, 0.31662638,\n",
       "       0.3312892 , 0.34669233, 0.36277301, 0.37948673, 0.3968124 ,\n",
       "       0.41476275, 0.43325696, 0.45222649, 0.47162739, 0.49140098,\n",
       "       0.51147506, 0.53182459, 0.55239769, 0.57309585, 0.59375281,\n",
       "       0.61423867, 0.63436799, 0.65398013, 0.6729221 , 0.69101405,\n",
       "       0.70810815, 0.7241244 , 0.73897728, 0.75265131, 0.76521866,\n",
       "       0.77676935, 0.78738726, 0.79717793, 0.80620645, 0.81447787,\n",
       "       0.82199417, 0.82876837, 0.83480862, 0.84008652, 0.8446063 ,\n",
       "       0.84838563, 0.85144308, 0.85380357, 0.85559491, 0.85693067,\n",
       "       0.85789559, 0.85854605, 0.85897048, 0.85919708, 0.85929434,\n",
       "       0.85923347, 0.85900971, 0.85860202, 0.85799359, 0.85716666,\n",
       "       0.8562026 , 0.85522184, 0.85429756, 0.85351032, 0.8529494 ,\n",
       "       0.85261559, 0.85245973, 0.85245953, 0.85256085, 0.85264268,\n",
       "       0.85264394, 0.85250646, 0.85218817, 0.85164342, 0.85091192,\n",
       "       0.85003987, 0.84907157, 0.84796976, 0.84676065, 0.84543156,\n",
       "       0.8439574 , 0.84233172, 0.84062585, 0.83884974, 0.83702864,\n",
       "       0.83513799, 0.83316814, 0.83108591, 0.82888203, 0.82650323,\n",
       "       0.82395844, 0.82120752, 0.81820097, 0.81494002, 0.81136646,\n",
       "       0.80743943, 0.80313678, 0.79845262, 0.79330912, 0.78768876,\n",
       "       0.78155409, 0.77491222, 0.76771299, 0.75991454, 0.75148275,\n",
       "       0.7423653 , 0.73247705, 0.72180328, 0.71037199, 0.6982296 ,\n",
       "       0.68545123, 0.67210929, 0.65828559, 0.64403053, 0.62942066,\n",
       "       0.61452892, 0.59949576, 0.5845013 , 0.56977765, 0.55558282,\n",
       "       0.54209288, 0.52946583, 0.51776797, 0.50699884, 0.49702402,\n",
       "       0.48768995])"
      ]
     },
     "execution_count": 117,
     "metadata": {},
     "output_type": "execute_result"
    }
   ],
   "source": [
    "cluster_centers2[0]"
   ]
  },
  {
   "cell_type": "code",
   "execution_count": 118,
   "id": "e50137cc-24ed-4fc2-9638-b8e05e98800a",
   "metadata": {},
   "outputs": [
    {
     "data": {
      "image/png": "[encoded data removed]",
      "text/plain": [
       "<Figure size 432x288 with 1 Axes>"
      ]
     },
     "metadata": {
      "needs_background": "light"
     },
     "output_type": "display_data"
    }
   ],
   "source": [
    "x=np.arange(0,151)\n",
    "\n",
    "plt.plot(x, cluster_centers[0], \"tab:blue\", label=\"cluster_1\")\n",
    "plt.plot(x, cluster_centers[1], \"tab:orange\", label=\"cluster_2\")\n",
    "plt.plot(x, array_train_mean, \"tab:green\", label=\"mean\")\n",
    "plt.legend(loc=\"upper left\")\n",
    "plt.xlabel(\"Days\")\n",
    "plt.ylabel(\"NDVI\")\n",
    "plt.show()"
   ]
  },
  {
   "cell_type": "markdown",
   "id": "8aea1ef8-2f3e-4fbd-b37d-11e4c4e492c2",
   "metadata": {},
   "source": [
    "# Models"
   ]
  },
  {
   "cell_type": "markdown",
   "id": "c961c12d-e2f8-4ff2-8d2a-67d9e9a580df",
   "metadata": {},
   "source": [
    "# Mean"
   ]
  },
  {
   "cell_type": "markdown",
   "id": "b52173e0-85b3-4c0b-9692-a75c048ab1d8",
   "metadata": {},
   "source": [
    "## Linear"
   ]
  },
  {
   "cell_type": "code",
   "execution_count": 119,
   "id": "355a1b45-ff1f-4b3f-8443-ced48fb2d2a8",
   "metadata": {},
   "outputs": [
    {
     "name": "stdout",
     "output_type": "stream",
     "text": [
      "[1.48815158]\n",
      "-0.04786071143866599\n"
     ]
    }
   ],
   "source": [
    "from sklearn import linear_model\n",
    "from sklearn.model_selection import train_test_split,cross_val_score\n",
    "from sklearn import metrics\n",
    "\n",
    "#X = NDVIbluesync.iloc[:,:-1].values\n",
    "X=df_train_melhor.mean().values.reshape(-1,1)\n",
    "#y = NDVIbluesync.iloc[:,1].values\n",
    "y=df_kcteoric['Kcteoric'].values\n",
    "Reg = linear_model.LinearRegression()\n",
    "Reg.fit(X, y)\n",
    "pred = Reg.predict(X)\n",
    "print(Reg.coef_)\n",
    "print(Reg.intercept_)"
   ]
  },
  {
   "cell_type": "code",
   "execution_count": 120,
   "id": "545b00ce-9271-47eb-8755-880bdf5fa912",
   "metadata": {},
   "outputs": [
    {
     "data": {
      "text/plain": [
       "0.9807372028539088"
      ]
     },
     "execution_count": 120,
     "metadata": {},
     "output_type": "execute_result"
    }
   ],
   "source": [
    "Reg.score(X, y)"
   ]
  },
  {
   "cell_type": "code",
   "execution_count": 121,
   "id": "e1f812ce-8f92-49a4-b6e6-8e74304855a2",
   "metadata": {},
   "outputs": [
    {
     "data": {
      "text/plain": [
       "[<matplotlib.lines.Line2D at 0x1dd3c4089d0>]"
      ]
     },
     "execution_count": 121,
     "metadata": {},
     "output_type": "execute_result"
    },
    {
     "data": {
      "image/png": "[encoded data removed]",
      "text/plain": [
       "<Figure size 432x288 with 1 Axes>"
      ]
     },
     "metadata": {
      "needs_background": "light"
     },
     "output_type": "display_data"
    }
   ],
   "source": [
    "from sklearn.metrics import r2_score, mean_squared_error\n",
    "mse = mean_squared_error(y, pred)\n",
    "r2 = r2_score(y, pred)\n",
    "plt.plot(X, pred, color = 'Black', marker = 'o')"
   ]
  },
  {
   "cell_type": "code",
   "execution_count": 122,
   "id": "9e48d73b-24e7-4df1-a5cc-697a0fdb4287",
   "metadata": {},
   "outputs": [
    {
     "name": "stdout",
     "output_type": "stream",
     "text": [
      "0.9807372028539088\n",
      "0.0024788262598377337\n"
     ]
    }
   ],
   "source": [
    "print(r2)\n",
    "print(mse)"
   ]
  },
  {
   "cell_type": "code",
   "execution_count": 123,
   "id": "52223de3-4f51-4ec5-8aca-5c1f56feb9ca",
   "metadata": {},
   "outputs": [
    {
     "name": "stdout",
     "output_type": "stream",
     "text": [
      "0.049787812362442015\n"
     ]
    }
   ],
   "source": [
    "print(np.sqrt(mse))"
   ]
  },
  {
   "cell_type": "code",
   "execution_count": 124,
   "id": "83c5c8ad-3bb3-4eae-9595-c5b494e3aaab",
   "metadata": {},
   "outputs": [
    {
     "data": {
      "text/plain": [
       "array([0.29817076, 0.28820264, 0.278825  , 0.27025199, 0.26267379,\n",
       "       0.25619081, 0.25082115, 0.24654702, 0.24331442, 0.24102247,\n",
       "       0.23959465, 0.23889876, 0.2388838 , 0.23946241, 0.24056827,\n",
       "       0.24213588, 0.24418137, 0.24667689, 0.24963704, 0.2530631 ,\n",
       "       0.25703769, 0.26160616, 0.26684978, 0.27285795, 0.27975939,\n",
       "       0.28761797, 0.29652956, 0.30653684, 0.31767886, 0.32998296,\n",
       "       0.34348785, 0.35818434, 0.37406212, 0.39108543, 0.40919427,\n",
       "       0.42828498, 0.44832679, 0.46925701, 0.49104807, 0.51367528,\n",
       "       0.53716923, 0.56143295, 0.58640195, 0.61201766, 0.63822058,\n",
       "       0.6649273 , 0.69212041, 0.71972955, 0.74764169, 0.77566462,\n",
       "       0.80362269, 0.83128857, 0.85846769, 0.88496713, 0.91055935,\n",
       "       0.93505367, 0.95832643, 0.98025788, 1.00078252, 1.01992595,\n",
       "       1.03777642, 1.05439032, 1.06985545, 1.08421872, 1.09750051,\n",
       "       1.10969962, 1.1208466 , 1.13095481, 1.13999618, 1.14794575,\n",
       "       1.15479992, 1.16057332, 1.165291  , 1.16912065, 1.17224138,\n",
       "       1.17479419, 1.17686874, 1.17859969, 1.18003366, 1.18126047,\n",
       "       1.18225761, 1.18302336, 1.18351736, 1.18369794, 1.18352472,\n",
       "       1.18305673, 1.1824238 , 1.18171883, 1.18107664, 1.18059741,\n",
       "       1.18028589, 1.18009098, 1.17997215, 1.17986932, 1.17966019,\n",
       "       1.17931266, 1.17878676, 1.17807462, 1.17711845, 1.17598678,\n",
       "       1.1747364 , 1.17340593, 1.17192836, 1.17030792, 1.16849008,\n",
       "       1.16641202, 1.16403304, 1.16144528, 1.15868072, 1.15577378,\n",
       "       1.15271997, 1.14955442, 1.14623001, 1.14270046, 1.13889347,\n",
       "       1.13478102, 1.13024656, 1.12517664, 1.1195321 , 1.11323725,\n",
       "       1.1062444 , 1.09855332, 1.09017977, 1.08107021, 1.07118817,\n",
       "       1.06046529, 1.04887181, 1.03633888, 1.02277772, 1.00813202,\n",
       "       0.99236942, 0.97545958, 0.95745561, 0.93855399, 0.91896313,\n",
       "       0.89890901, 0.87853777, 0.85802056, 0.83738804, 0.81665422,\n",
       "       0.79581623, 0.77505252, 0.75459286, 0.73475112, 0.71589131,\n",
       "       0.69830335, 0.68220612, 0.66765222, 0.6546092 , 0.64289155,\n",
       "       0.63223223])"
      ]
     },
     "execution_count": 124,
     "metadata": {},
     "output_type": "execute_result"
    }
   ],
   "source": [
    "pred"
   ]
  },
  {
   "cell_type": "code",
   "execution_count": 125,
   "id": "96c09949-da72-4b7d-bfc7-d1fd025e6ea1",
   "metadata": {},
   "outputs": [
    {
     "data": {
      "text/plain": [
       "array([0.3       , 0.3       , 0.3       , 0.3       , 0.3       ,\n",
       "       0.3       , 0.3       , 0.3       , 0.3       , 0.3       ,\n",
       "       0.3       , 0.3       , 0.3       , 0.3       , 0.3       ,\n",
       "       0.3       , 0.3       , 0.3       , 0.3       , 0.3       ,\n",
       "       0.3       , 0.3       , 0.3       , 0.3       , 0.3       ,\n",
       "       0.3       , 0.3       , 0.3       , 0.3       , 0.3       ,\n",
       "       0.32195122, 0.34390244, 0.36585366, 0.38780488, 0.4097561 ,\n",
       "       0.43170732, 0.45365854, 0.47560976, 0.49756098, 0.5195122 ,\n",
       "       0.54146341, 0.56341463, 0.58536585, 0.60731707, 0.62926829,\n",
       "       0.65121951, 0.67317073, 0.69512195, 0.71707317, 0.73902439,\n",
       "       0.76097561, 0.78292683, 0.80487805, 0.82682927, 0.84878049,\n",
       "       0.87073171, 0.89268293, 0.91463415, 0.93658537, 0.95853659,\n",
       "       0.9804878 , 1.00243902, 1.02439024, 1.04634146, 1.06829268,\n",
       "       1.0902439 , 1.11219512, 1.13414634, 1.15609756, 1.17804878,\n",
       "       1.2       , 1.2       , 1.2       , 1.2       , 1.2       ,\n",
       "       1.2       , 1.2       , 1.2       , 1.2       , 1.2       ,\n",
       "       1.2       , 1.2       , 1.2       , 1.2       , 1.2       ,\n",
       "       1.2       , 1.2       , 1.2       , 1.2       , 1.2       ,\n",
       "       1.2       , 1.2       , 1.2       , 1.2       , 1.2       ,\n",
       "       1.2       , 1.2       , 1.2       , 1.2       , 1.2       ,\n",
       "       1.2       , 1.2       , 1.2       , 1.2       , 1.2       ,\n",
       "       1.2       , 1.2       , 1.2       , 1.2       , 1.2       ,\n",
       "       1.2       , 1.2       , 1.2       , 1.2       , 1.2       ,\n",
       "       1.2       , 1.2       , 1.2       , 1.2       , 1.2       ,\n",
       "       1.17677419, 1.15354839, 1.13032258, 1.10709677, 1.08387097,\n",
       "       1.06064516, 1.03741935, 1.01419355, 0.99096774, 0.96774194,\n",
       "       0.94451613, 0.92129032, 0.89806452, 0.87483871, 0.8516129 ,\n",
       "       0.8283871 , 0.80516129, 0.78193548, 0.75870968, 0.73548387,\n",
       "       0.71225806, 0.68903226, 0.66580645, 0.64258065, 0.61935484,\n",
       "       0.59612903, 0.57290323, 0.54967742, 0.52645161, 0.50322581,\n",
       "       0.48      ])"
      ]
     },
     "execution_count": 125,
     "metadata": {},
     "output_type": "execute_result"
    }
   ],
   "source": [
    "y"
   ]
  },
  {
   "cell_type": "code",
   "execution_count": 126,
   "id": "b32e396d-44c2-4607-85d2-ee58c76177d9",
   "metadata": {},
   "outputs": [],
   "source": [
    "frameplotazul = { 'Kc_Teoric': y, 'Kc_Predicted': pred, 'NDVI': X.reshape(151,)}\n",
    "\n",
    "plotazul = pd.DataFrame(frameplotazul)"
   ]
  },
  {
   "cell_type": "code",
   "execution_count": 127,
   "id": "d8d5f46f-d462-4797-a5fa-1ab8f3c59674",
   "metadata": {},
   "outputs": [
    {
     "data": {
      "text/plain": [
       "<AxesSubplot:>"
      ]
     },
     "execution_count": 127,
     "metadata": {},
     "output_type": "execute_result"
    },
    {
     "data": {
      "image/png": "[encoded data removed]",
      "text/plain": [
       "<Figure size 432x288 with 1 Axes>"
      ]
     },
     "metadata": {
      "needs_background": "light"
     },
     "output_type": "display_data"
    }
   ],
   "source": [
    "plotazul.plot()"
   ]
  },
  {
   "cell_type": "code",
   "execution_count": 128,
   "id": "193fc844-98bc-43eb-8aca-52acea0302b9",
   "metadata": {},
   "outputs": [
    {
     "data": {
      "text/plain": [
       "Text(0.5, 0, 'Days')"
      ]
     },
     "execution_count": 128,
     "metadata": {},
     "output_type": "execute_result"
    },
    {
     "data": {
      "text/plain": [
       "<Figure size 432x288 with 0 Axes>"
      ]
     },
     "metadata": {},
     "output_type": "display_data"
    },
    {
     "data": {
      "image/png": "[encoded data removed]",
      "text/plain": [
       "<Figure size 432x288 with 2 Axes>"
      ]
     },
     "metadata": {
      "needs_background": "light"
     },
     "output_type": "display_data"
    }
   ],
   "source": [
    "plt.figure()\n",
    "ax = plotazul.plot(secondary_y=[\"Kc_Teoric\",\"Kc_Predicted\"])\n",
    "ax.set_ylabel('NDVI')\n",
    "ax.right_ax.set_ylabel('Kc')\n",
    "ax.set_xlabel('Days')"
   ]
  },
  {
   "cell_type": "code",
   "execution_count": 129,
   "id": "ff84934e-e45f-4ee3-88ad-c90dbf49f97a",
   "metadata": {},
   "outputs": [],
   "source": [
    "#statsmodels"
   ]
  },
  {
   "cell_type": "code",
   "execution_count": 130,
   "id": "2c9be3f0-7cff-4c12-a446-b1de726a004d",
   "metadata": {},
   "outputs": [
    {
     "name": "stdout",
     "output_type": "stream",
     "text": [
      "                            OLS Regression Results                            \n",
      "==============================================================================\n",
      "Dep. Variable:                      y   R-squared:                       0.981\n",
      "Model:                            OLS   Adj. R-squared:                  0.981\n",
      "Method:                 Least Squares   F-statistic:                     7586.\n",
      "Date:                Tue, 03 Jan 2023   Prob (F-statistic):          1.07e-129\n",
      "Time:                        13:21:09   Log-Likelihood:                 238.74\n",
      "No. Observations:                 151   AIC:                            -473.5\n",
      "Df Residuals:                     149   BIC:                            -467.4\n",
      "Df Model:                           1                                         \n",
      "Covariance Type:            nonrobust                                         \n",
      "==============================================================================\n",
      "                 coef    std err          t      P>|t|      [0.025      0.975]\n",
      "------------------------------------------------------------------------------\n",
      "const         -0.0479      0.011     -4.420      0.000      -0.069      -0.026\n",
      "x1             1.4882      0.017     87.098      0.000       1.454       1.522\n",
      "==============================================================================\n",
      "Omnibus:                       13.881   Durbin-Watson:                   0.015\n",
      "Prob(Omnibus):                  0.001   Jarque-Bera (JB):               15.644\n",
      "Skew:                          -0.788   Prob(JB):                     0.000401\n",
      "Kurtosis:                       3.010   Cond. No.                         5.70\n",
      "==============================================================================\n",
      "\n",
      "Notes:\n",
      "[1] Standard Errors assume that the covariance matrix of the errors is correctly specified.\n"
     ]
    }
   ],
   "source": [
    "import statsmodels.api as sm\n",
    "#performing the regression\n",
    "Xa = sm.add_constant(X)\n",
    "result = sm.OLS(y, Xa).fit()\n",
    "\n",
    "# Result of statsmodels \n",
    "print(result.summary())"
   ]
  },
  {
   "cell_type": "code",
   "execution_count": 131,
   "id": "35d373ac-e85d-4891-a265-52aecb42522f",
   "metadata": {},
   "outputs": [
    {
     "data": {
      "text/plain": [
       "4.650437503810672e-16"
      ]
     },
     "execution_count": 131,
     "metadata": {},
     "output_type": "execute_result"
    }
   ],
   "source": [
    "result.resid.mean()"
   ]
  },
  {
   "cell_type": "markdown",
   "id": "af3bd3b0-483a-48ea-bb53-42b2ac0c6611",
   "metadata": {},
   "source": [
    "__Explain the Statistics__\n",
    "\n",
    "__Model : OLS : Ordinary Least Squares : One way to create a linear regression model. Minimize the dependent samples so you can estimate the unknown samples when creating a linear regression model.__\n",
    "\n",
    "__Method : Least Squares : Fit data to the model by minimizing the residual samples__\n",
    "\n",
    "__R-quared : Measure of how well the regression line approximates the data points. If .5 then that is a sign that half of the observed variation can be explained by the models inputs. 1 would be perfectly correlated.__\n",
    "\n",
    "__Adj, R-squared : Reflects the fit of the model. Values range from 0 to 1, where higher values indicate a good fit.__\n",
    "\n",
    "__F-statistic : Measures how significantly the data points fit into the regression model by measuring variation of sample means.__\n",
    "\n",
    "__Prob (F-statistic) : Probability that the null hypothesis for the full model is true. Closer to zero the better the samples approach the model.__\n",
    "\n",
    "__Log-Likelihood : The conditional probability that the observed data fits the model__\n",
    "\n",
    "__AIC : Adjusts the log-likelihood based on the number of observations and complexity of the model. It focuses on the data points that best describe the data.__\n",
    "\n",
    "__Df Residuals : Degrees of freedom of the residuals which is the difference between predicted values and the measured data.__\n",
    "\n",
    "__BIC : We want a low BIC. It focuses on the shortest description of the data like AIC.__\n",
    "\n",
    "__Df Model : Number of parameters in the model__\n",
    "\n",
    "__Coefficient Constant : Is your Y intercept. If both dependent and independent coefficients are zero then the expected output would equal the constant coefficient.__\n",
    "\n",
    "__Independent Coefficient : Represents the change of the independent variable per unit.__\n",
    "\n",
    "__Standard Error : Accuracy of the coefficients__\n",
    "\n",
    "__P>|t| : The P Value. A P Value less than .05 is considered statistically significant.__\n",
    "\n",
    "__[.025 - .975] : Confidence Interval : Represents the range in which coefficients are likely to fall.__\n",
    "\n",
    "__Omnibus : (D’Angostino’s test) : Establishes whether the samples come from a normally distributed population.__\n",
    "\n",
    "__Durbin-Watson : Test to see if the errors are not independent. Used to find repeating patterns that may be obstructed by noise. Its value lies between 0 and 4. If greater than 2 this is a sign that relationships between two variables are going in opposite directions (negatively correlated). If less than 2 variables are positively correlated.__\n",
    "\n",
    "__Prob(Omnibus) : Probability of Omnibus__\n",
    "\n",
    "__Jarque-Bera : Tests whether the samples match a normal distribution. It never has a negative number and the further it gets from zero signals the data doesn't have a normal distribution.__\n",
    "\n",
    "__Skew : Measure of the asymmetry of the probability distribution. Negative skew indicates the tail is longer on the left and the concentration of the data is on the right. Positive indicates the tail is longer on the right. 0 indicates that the tails are balanced.__\n",
    "\n",
    "__Prob(JB) : The probability of Jarque-Bera__\n",
    "\n",
    "__Kurtosis : Describes the shape of a probability distribution with a focus on the tails and not the peak. If the value is high that is a sign that there are more outliers. If the value is less than 3 that means there are fewer outliers. A value of 3 points towards a normal distribution. Values greater than 3 indicate more outliers.__\n",
    "\n",
    "__Condition Number : Represents whether samples are highly related in our regression model. A large number indicates strong multicollinearity which means that independent variables are highly correlated with each other. This causes problems because a small number of samples are so dramatically different from others that results are corrupted.__"
   ]
  },
  {
   "cell_type": "code",
   "execution_count": null,
   "id": "5abe5e8d-7922-4cde-bc79-46b64212c310",
   "metadata": {},
   "outputs": [],
   "source": []
  },
  {
   "cell_type": "markdown",
   "id": "a5a2d204-911a-4765-9189-2b75439841b8",
   "metadata": {},
   "source": [
    "# Linear-Mean Test (correcto)"
   ]
  },
  {
   "cell_type": "code",
   "execution_count": 132,
   "id": "d76593d7-65c1-4921-a6bc-e44c4b02c4b9",
   "metadata": {},
   "outputs": [],
   "source": [
    "pred2 = Reg.predict(np.array(array_test_mean).reshape(-1,1))\n",
    "mse = mean_squared_error(y, pred2)\n",
    "r2 = r2_score(y, pred2)\n",
    "rmse=np.sqrt(mse)"
   ]
  },
  {
   "cell_type": "code",
   "execution_count": 133,
   "id": "925836a4-c6c0-415d-9a59-bb4784200c23",
   "metadata": {},
   "outputs": [
    {
     "data": {
      "text/plain": [
       "0.978982380206594"
      ]
     },
     "execution_count": 133,
     "metadata": {},
     "output_type": "execute_result"
    }
   ],
   "source": [
    "r2"
   ]
  },
  {
   "cell_type": "code",
   "execution_count": 134,
   "id": "5fee35cc-0e64-4561-9fc2-21c694b49df4",
   "metadata": {},
   "outputs": [
    {
     "data": {
      "text/plain": [
       "0.05200620149138193"
      ]
     },
     "execution_count": 134,
     "metadata": {},
     "output_type": "execute_result"
    }
   ],
   "source": [
    "rmse"
   ]
  },
  {
   "cell_type": "code",
   "execution_count": 135,
   "id": "8f2f21f5-28d8-45dc-a154-9bcc67091ddd",
   "metadata": {},
   "outputs": [
    {
     "data": {
      "text/plain": [
       "array([0.21837725, 0.21390913, 0.20971981, 0.20588719, 0.20248006,\n",
       "       0.19956965, 0.19718362, 0.19538254, 0.19415184, 0.19343427,\n",
       "       0.19312972, 0.1931458 , 0.19338073, 0.19384226, 0.19451591,\n",
       "       0.19549208, 0.19685011, 0.19865622, 0.2009396 , 0.20374776,\n",
       "       0.20711352, 0.21101876, 0.21545354, 0.22034958, 0.22569134,\n",
       "       0.23146813, 0.23772236, 0.2444925 , 0.25184898, 0.25983002,\n",
       "       0.26848982, 0.27787407, 0.28798112, 0.2987929 , 0.31030091,\n",
       "       0.32246632, 0.33523821, 0.34854885, 0.36237756, 0.37667313,\n",
       "       0.39140122, 0.40656766, 0.42215718, 0.43818169, 0.4546847 ,\n",
       "       0.47162225, 0.4889195 , 0.50655026, 0.52447835, 0.54257708,\n",
       "       0.56072567, 0.5788528 , 0.5968014 , 0.61434772, 0.6312956 ,\n",
       "       0.64746232, 0.66269804, 0.67698813, 0.69036514, 0.70286538,\n",
       "       0.7145993 , 0.72570096, 0.73624604, 0.74627451, 0.75584872,\n",
       "       0.76492109, 0.77338924, 0.78112708, 0.78801519, 0.79394768,\n",
       "       0.79893749, 0.80303986, 0.80633974, 0.80898045, 0.81110905,\n",
       "       0.81279367, 0.81403003, 0.81488854, 0.81539881, 0.81556829,\n",
       "       0.81549605, 0.81532016, 0.8150997 , 0.81495617, 0.8150434 ,\n",
       "       0.81534433, 0.81578174, 0.81629559, 0.81676612, 0.81703278,\n",
       "       0.81705323, 0.81685625, 0.81647981, 0.81596865, 0.81542661,\n",
       "       0.81491217, 0.81443164, 0.81396186, 0.8134558 , 0.81287304,\n",
       "       0.81216918, 0.81134011, 0.8103755 , 0.80935452, 0.8082806 ,\n",
       "       0.80713968, 0.80589558, 0.80453613, 0.80295257, 0.80108092,\n",
       "       0.79893322, 0.79650096, 0.79380036, 0.79088753, 0.78780454,\n",
       "       0.78452307, 0.78104535, 0.77734744, 0.77333301, 0.76894691,\n",
       "       0.76413408, 0.7588527 , 0.75307008, 0.74683452, 0.74012725,\n",
       "       0.73294976, 0.72526275, 0.71703798, 0.7082521 , 0.69889632,\n",
       "       0.68895643, 0.67847286, 0.66741761, 0.65578115, 0.64358858,\n",
       "       0.63088892, 0.617733  , 0.60424465, 0.59056104, 0.57683488,\n",
       "       0.56322022, 0.54988421, 0.53701645, 0.52475048, 0.51320425,\n",
       "       0.50248577, 0.49259038, 0.48350061, 0.47515316, 0.46748656,\n",
       "       0.46041321])"
      ]
     },
     "execution_count": 135,
     "metadata": {},
     "output_type": "execute_result"
    }
   ],
   "source": [
    "array_test_mean"
   ]
  },
  {
   "cell_type": "code",
   "execution_count": 136,
   "id": "e994b351-13d0-4ebb-acf3-9565cbcdbf4e",
   "metadata": {},
   "outputs": [],
   "source": [
    "frameplotazulteste = { 'Kc_Teoric': y, 'Kc_Predicted': pred2, 'NDVI': array_test_mean}\n",
    "\n",
    "plotazulteste = pd.DataFrame(frameplotazulteste)"
   ]
  },
  {
   "cell_type": "code",
   "execution_count": 137,
   "id": "c0d325de-26dd-4750-8e50-5544deddb024",
   "metadata": {},
   "outputs": [
    {
     "data": {
      "text/plain": [
       "<AxesSubplot:>"
      ]
     },
     "execution_count": 137,
     "metadata": {},
     "output_type": "execute_result"
    },
    {
     "data": {
      "image/png": "[encoded data removed]",
      "text/plain": [
       "<Figure size 432x288 with 1 Axes>"
      ]
     },
     "metadata": {
      "needs_background": "light"
     },
     "output_type": "display_data"
    }
   ],
   "source": [
    "plotazulteste.plot()"
   ]
  },
  {
   "cell_type": "code",
   "execution_count": 138,
   "id": "390d9fcc-5186-423a-8c85-59856259f60f",
   "metadata": {},
   "outputs": [
    {
     "data": {
      "text/plain": [
       "Text(0.5, 0, 'Days')"
      ]
     },
     "execution_count": 138,
     "metadata": {},
     "output_type": "execute_result"
    },
    {
     "data": {
      "text/plain": [
       "<Figure size 432x288 with 0 Axes>"
      ]
     },
     "metadata": {},
     "output_type": "display_data"
    },
    {
     "data": {
      "image/png": "[encoded data removed]",
      "text/plain": [
       "<Figure size 432x288 with 2 Axes>"
      ]
     },
     "metadata": {
      "needs_background": "light"
     },
     "output_type": "display_data"
    }
   ],
   "source": [
    "plt.figure()\n",
    "ax = plotazulteste.plot(secondary_y=[\"Kc_Teoric\",\"Kc_Predicted\"])\n",
    "ax.set_ylabel('NDVI')\n",
    "ax.right_ax.set_ylabel('Kc')\n",
    "ax.set_xlabel('Days')"
   ]
  },
  {
   "cell_type": "markdown",
   "id": "ea6ad06b-5b4e-4f47-8372-b30a829946ea",
   "metadata": {},
   "source": [
    "## Polinomial"
   ]
  },
  {
   "cell_type": "code",
   "execution_count": 139,
   "id": "883c1c6b-e30e-4400-af52-adf40e4b5ffc",
   "metadata": {},
   "outputs": [],
   "source": [
    "X2=X.reshape(151,)"
   ]
  },
  {
   "cell_type": "code",
   "execution_count": 140,
   "id": "f9ef1753-ee7f-4844-8bd1-91d0cf7c529e",
   "metadata": {},
   "outputs": [
    {
     "name": "stdout",
     "output_type": "stream",
     "text": [
      "0.9948824639838104\n"
     ]
    }
   ],
   "source": [
    "from sklearn.metrics import r2_score\n",
    "mymodel = np.poly1d(np.polyfit(X2, y, 5))\n",
    "\n",
    "print(r2_score(y, mymodel(X2)))"
   ]
  },
  {
   "cell_type": "code",
   "execution_count": 141,
   "id": "ae70aa56-0b46-4f47-8a62-5b1584fbcbda",
   "metadata": {},
   "outputs": [
    {
     "name": "stdout",
     "output_type": "stream",
     "text": [
      "        5         4         3         2\n",
      "-98.21 x + 249.4 x - 239.6 x + 108.9 x - 22.18 x + 1.925\n"
     ]
    }
   ],
   "source": [
    "print(mymodel)"
   ]
  },
  {
   "cell_type": "code",
   "execution_count": 142,
   "id": "8724b099-4fb3-435e-a192-4b3238e29f39",
   "metadata": {},
   "outputs": [
    {
     "name": "stdout",
     "output_type": "stream",
     "text": [
      "RMSE for Polynomial Regression=> 0.025662196283776476\n"
     ]
    }
   ],
   "source": [
    "from sklearn.metrics import mean_squared_error\n",
    "print('RMSE for Polynomial Regression=>',np.sqrt(mean_squared_error(y,mymodel(X2))))"
   ]
  },
  {
   "cell_type": "code",
   "execution_count": 143,
   "id": "08b37675-b7fd-4734-a5c5-9897df3f6f7b",
   "metadata": {},
   "outputs": [
    {
     "data": {
      "text/plain": [
       "0.9948824639838104"
      ]
     },
     "execution_count": 143,
     "metadata": {},
     "output_type": "execute_result"
    }
   ],
   "source": [
    "r2_score(y,mymodel(X2))"
   ]
  },
  {
   "cell_type": "code",
   "execution_count": 144,
   "id": "b761476e-6df3-45e5-aad8-16538acef4ce",
   "metadata": {},
   "outputs": [
    {
     "name": "stdout",
     "output_type": "stream",
     "text": [
      "0.01685710060077861\n",
      "0.0006585483181070712\n",
      "0.12983489746897253\n"
     ]
    }
   ],
   "source": [
    "print(metrics.mean_absolute_error(y,mymodel(X2)))\n",
    "print(metrics.mean_squared_error(y,mymodel(X2)))\n",
    "print(np.sqrt(metrics.mean_absolute_error(y,mymodel(X2))))"
   ]
  },
  {
   "cell_type": "code",
   "execution_count": 145,
   "id": "7b25068a-06c2-4afc-aa55-3c4b3c8e5302",
   "metadata": {},
   "outputs": [],
   "source": [
    "frameplotazul4 = { 'Kc_Teoric': y, 'Kc_Predicted': mymodel(X2), 'NDVI': X2.reshape(151,)}\n",
    "plotazul4 = pd.DataFrame(frameplotazul4)"
   ]
  },
  {
   "cell_type": "code",
   "execution_count": 146,
   "id": "7bb5249e-ac72-49eb-89d0-89a971c26a79",
   "metadata": {},
   "outputs": [
    {
     "data": {
      "text/plain": [
       "<AxesSubplot:>"
      ]
     },
     "execution_count": 146,
     "metadata": {},
     "output_type": "execute_result"
    },
    {
     "data": {
      "image/png": "[encoded data removed]",
      "text/plain": [
       "<Figure size 432x288 with 1 Axes>"
      ]
     },
     "metadata": {
      "needs_background": "light"
     },
     "output_type": "display_data"
    }
   ],
   "source": [
    "plotazul4.plot()"
   ]
  },
  {
   "cell_type": "code",
   "execution_count": 147,
   "id": "a2902290-e310-4f37-9b99-2b052c68bea7",
   "metadata": {},
   "outputs": [
    {
     "data": {
      "text/plain": [
       "Text(0.5, 0, 'Days')"
      ]
     },
     "execution_count": 147,
     "metadata": {},
     "output_type": "execute_result"
    },
    {
     "data": {
      "text/plain": [
       "<Figure size 432x288 with 0 Axes>"
      ]
     },
     "metadata": {},
     "output_type": "display_data"
    },
    {
     "data": {
      "image/png": "[encoded data removed]",
      "text/plain": [
       "<Figure size 432x288 with 2 Axes>"
      ]
     },
     "metadata": {
      "needs_background": "light"
     },
     "output_type": "display_data"
    }
   ],
   "source": [
    "plt.figure()\n",
    "ax = plotazul4.plot(secondary_y=[\"Kc_Teoric\",\"Kc_Predicted\"])\n",
    "ax.set_ylabel('NDVI')\n",
    "ax.right_ax.set_ylabel('Kc')\n",
    "ax.set_xlabel('Days')"
   ]
  },
  {
   "cell_type": "code",
   "execution_count": null,
   "id": "1a32f8ce-8fd6-42f9-ab35-e7210d2c4310",
   "metadata": {},
   "outputs": [],
   "source": []
  },
  {
   "cell_type": "markdown",
   "id": "6aefe2de-e686-4745-942a-a3f15048c64a",
   "metadata": {},
   "source": [
    "# Polynomial-Mean Test (correcto)"
   ]
  },
  {
   "cell_type": "code",
   "execution_count": 148,
   "id": "f1c3f0a2-e71f-4e54-b24d-f0a8a555b3d5",
   "metadata": {},
   "outputs": [],
   "source": [
    "pred2 = mymodel(array_test_mean)\n",
    "mse = mean_squared_error(y, pred2)\n",
    "r2 = r2_score(y, pred2)\n",
    "rmse=np.sqrt(mse)"
   ]
  },
  {
   "cell_type": "code",
   "execution_count": 149,
   "id": "070d64eb-cef0-4e52-963d-b1e4b19b0bbc",
   "metadata": {},
   "outputs": [
    {
     "data": {
      "text/plain": [
       "0.9930615124378126"
      ]
     },
     "execution_count": 149,
     "metadata": {},
     "output_type": "execute_result"
    }
   ],
   "source": [
    "r2"
   ]
  },
  {
   "cell_type": "code",
   "execution_count": 150,
   "id": "d90c9c51-13b4-423b-9fd9-28c828e18acf",
   "metadata": {},
   "outputs": [
    {
     "data": {
      "text/plain": [
       "0.02988104459093572"
      ]
     },
     "execution_count": 150,
     "metadata": {},
     "output_type": "execute_result"
    }
   ],
   "source": [
    "rmse"
   ]
  },
  {
   "cell_type": "code",
   "execution_count": 151,
   "id": "31b52784-43bd-4ac4-8929-ff25277de68c",
   "metadata": {},
   "outputs": [],
   "source": [
    "frameplotazulteste2 = { \"Kc_Theoretical\": y, 'Kc_Predicted': mymodel(array_test_mean), 'NDVI': array_test_mean}\n",
    "plotazulteste2 = pd.DataFrame(frameplotazulteste2)"
   ]
  },
  {
   "cell_type": "code",
   "execution_count": 152,
   "id": "5ca926a8-a098-4224-a799-3cfde10d66ff",
   "metadata": {},
   "outputs": [
    {
     "data": {
      "text/plain": [
       "<AxesSubplot:>"
      ]
     },
     "execution_count": 152,
     "metadata": {},
     "output_type": "execute_result"
    },
    {
     "data": {
      "image/png": "[encoded data removed]",
      "text/plain": [
       "<Figure size 432x288 with 1 Axes>"
      ]
     },
     "metadata": {
      "needs_background": "light"
     },
     "output_type": "display_data"
    }
   ],
   "source": [
    "plotazulteste2.plot()"
   ]
  },
  {
   "cell_type": "code",
   "execution_count": 153,
   "id": "9f6bcb54-b1e3-46f8-bfdf-4d3ab48ffd74",
   "metadata": {},
   "outputs": [
    {
     "data": {
      "text/plain": [
       "Text(0.5, 1.0, 'Mean No Pre-Selection (Polynomial)')"
      ]
     },
     "execution_count": 153,
     "metadata": {},
     "output_type": "execute_result"
    },
    {
     "data": {
      "text/plain": [
       "<Figure size 432x288 with 0 Axes>"
      ]
     },
     "metadata": {},
     "output_type": "display_data"
    },
    {
     "data": {
      "image/png": "[encoded data removed]",
      "text/plain": [
       "<Figure size 432x288 with 2 Axes>"
      ]
     },
     "metadata": {
      "needs_background": "light"
     },
     "output_type": "display_data"
    }
   ],
   "source": [
    "plt.figure()\n",
    "ax = plotazulteste2.plot(secondary_y=[\"Kc_Theoretical\",\"Kc_Predicted\"])\n",
    "ax.set_ylabel('NDVI')\n",
    "ax.right_ax.set_ylabel('Kc')\n",
    "ax.set_xlabel('Days')\n",
    "ax.set_title(\"Mean No Pre-Selection (Polynomial)\")"
   ]
  },
  {
   "cell_type": "code",
   "execution_count": null,
   "id": "745be7f1-6138-4668-9725-6435d1771873",
   "metadata": {},
   "outputs": [],
   "source": []
  },
  {
   "cell_type": "markdown",
   "id": "e1a7980f-9ae2-461d-9679-9d24173fa078",
   "metadata": {},
   "source": [
    "# Cluster"
   ]
  },
  {
   "cell_type": "code",
   "execution_count": 154,
   "id": "0c0c358c-4787-4c82-8090-121baab8302d",
   "metadata": {},
   "outputs": [],
   "source": [
    "red=cluster_centers2[0].reshape(-1,1)"
   ]
  },
  {
   "cell_type": "code",
   "execution_count": 155,
   "id": "110a0342-5913-4e0d-b5cf-179e70d838a7",
   "metadata": {},
   "outputs": [],
   "source": [
    "red2=cluster_centers2[0]"
   ]
  },
  {
   "cell_type": "markdown",
   "id": "6fb0bdff-962b-4dd4-b54c-7fbca26b1902",
   "metadata": {},
   "source": [
    "## Linear"
   ]
  },
  {
   "cell_type": "code",
   "execution_count": 156,
   "id": "2cfb7d27-2196-4b13-9aab-b457c16b94ab",
   "metadata": {},
   "outputs": [
    {
     "name": "stdout",
     "output_type": "stream",
     "text": [
      "[1.39396825]\n",
      "-0.02915156079839276\n"
     ]
    }
   ],
   "source": [
    "from sklearn import linear_model\n",
    "from sklearn.model_selection import train_test_split,cross_val_score\n",
    "from sklearn import metrics\n",
    "\n",
    "#X = NDVIbluesync.iloc[:,:-1].values\n",
    "X=df_train_melhor.mean().values.reshape(-1,1)\n",
    "#y = NDVIbluesync.iloc[:,1].values\n",
    "y=df_kcteoric['Kcteoric'].values\n",
    "Reg = linear_model.LinearRegression()\n",
    "Reg.fit(red, y)\n",
    "pred = Reg.predict(red)\n",
    "print(Reg.coef_)\n",
    "print(Reg.intercept_)"
   ]
  },
  {
   "cell_type": "code",
   "execution_count": 157,
   "id": "b103165d-c721-4b66-bafc-81fad1f73746",
   "metadata": {},
   "outputs": [
    {
     "data": {
      "text/plain": [
       "0.9678582118651781"
      ]
     },
     "execution_count": 157,
     "metadata": {},
     "output_type": "execute_result"
    }
   ],
   "source": [
    "Reg.score(red, y)"
   ]
  },
  {
   "cell_type": "code",
   "execution_count": 158,
   "id": "cbd686d2-470e-4101-86b3-c58a700c41b1",
   "metadata": {},
   "outputs": [
    {
     "data": {
      "text/plain": [
       "[<matplotlib.lines.Line2D at 0x1dd4531feb0>]"
      ]
     },
     "execution_count": 158,
     "metadata": {},
     "output_type": "execute_result"
    },
    {
     "data": {
      "image/png": "[encoded data removed]",
      "text/plain": [
       "<Figure size 432x288 with 1 Axes>"
      ]
     },
     "metadata": {
      "needs_background": "light"
     },
     "output_type": "display_data"
    }
   ],
   "source": [
    "from sklearn.metrics import r2_score, mean_squared_error\n",
    "mse = mean_squared_error(y, pred)\n",
    "r2 = r2_score(y, pred)\n",
    "plt.plot(X, pred, color = 'Black', marker = 'o')"
   ]
  },
  {
   "cell_type": "code",
   "execution_count": 159,
   "id": "dac5154f-9505-4519-aeb4-40bb0a746871",
   "metadata": {},
   "outputs": [
    {
     "name": "stdout",
     "output_type": "stream",
     "text": [
      "0.9678582118651781\n",
      "0.004136154674862718\n"
     ]
    }
   ],
   "source": [
    "print(r2)\n",
    "print(mse)"
   ]
  },
  {
   "cell_type": "code",
   "execution_count": 160,
   "id": "c1578e2d-4340-437e-87ad-0778f08f807e",
   "metadata": {},
   "outputs": [
    {
     "name": "stdout",
     "output_type": "stream",
     "text": [
      "0.06431294329186558\n"
     ]
    }
   ],
   "source": [
    "print(np.sqrt(mse))"
   ]
  },
  {
   "cell_type": "code",
   "execution_count": 161,
   "id": "b8b14d34-1b09-42a2-8473-f25d5151c170",
   "metadata": {},
   "outputs": [
    {
     "data": {
      "text/plain": [
       "array([0.28476109, 0.27521199, 0.26619461, 0.25791867, 0.25060163,\n",
       "       0.24436247, 0.23924413, 0.23525621, 0.23233897, 0.23036969,\n",
       "       0.22927012, 0.22890781, 0.22920855, 0.23007383, 0.23143243,\n",
       "       0.23321633, 0.23544806, 0.23812208, 0.2412837 , 0.24496165,\n",
       "       0.24926181, 0.25423332, 0.25995555, 0.26649832, 0.27398402,\n",
       "       0.28246857, 0.29204484, 0.30275877, 0.31464884, 0.32775225,\n",
       "       0.34212414, 0.35776114, 0.37467109, 0.39284833, 0.41221556,\n",
       "       0.43265507, 0.45412653, 0.4765425 , 0.4998409 , 0.52399233,\n",
       "       0.54901455, 0.57479488, 0.60123781, 0.62828205, 0.6558458 ,\n",
       "       0.68382844, 0.71219504, 0.74087328, 0.76972586, 0.79852101,\n",
       "       0.82707765, 0.85513727, 0.88247599, 0.90888048, 0.93410008,\n",
       "       0.95792872, 0.98025486, 1.00095931, 1.02002048, 1.03753896,\n",
       "       1.05364025, 1.06844128, 1.08208917, 1.09467464, 1.10620473,\n",
       "       1.11668222, 1.12612523, 1.13454516, 1.14190238, 1.14820281,\n",
       "       1.15347107, 1.15773306, 1.16102351, 1.16352057, 1.16538258,\n",
       "       1.16672765, 1.16763438, 1.16822602, 1.16854189, 1.16867747,\n",
       "       1.16859261, 1.1682807 , 1.16771239, 1.16686427, 1.16571155,\n",
       "       1.16436768, 1.16300053, 1.16171211, 1.16061473, 1.15983283,\n",
       "       1.1593675 , 1.15915024, 1.15914996, 1.15929119, 1.15940526,\n",
       "       1.15940702, 1.15921538, 1.1587717 , 1.15801233, 1.15699264,\n",
       "       1.15577703, 1.15442725, 1.15289137, 1.1512059 , 1.14935319,\n",
       "       1.14729826, 1.14503211, 1.14265419, 1.14017834, 1.1376398 ,\n",
       "       1.13500429, 1.13225838, 1.12935581, 1.12628367, 1.1229677 ,\n",
       "       1.11942035, 1.11558565, 1.11139462, 1.10684896, 1.10186752,\n",
       "       1.09639338, 1.09039562, 1.08386604, 1.07669616, 1.06886157,\n",
       "       1.06031002, 1.05105147, 1.04101597, 1.03014518, 1.01839154,\n",
       "       1.00568209, 0.9918982 , 0.97701929, 0.96108445, 0.94415833,\n",
       "       0.92634569, 0.90774746, 0.88847765, 0.86860656, 0.84824085,\n",
       "       0.82748225, 0.80652649, 0.78562469, 0.76510039, 0.74531325,\n",
       "       0.7265087 , 0.708907  , 0.69260055, 0.67758872, 0.66368415,\n",
       "       0.65067275])"
      ]
     },
     "execution_count": 161,
     "metadata": {},
     "output_type": "execute_result"
    }
   ],
   "source": [
    "pred"
   ]
  },
  {
   "cell_type": "code",
   "execution_count": 162,
   "id": "16ac86be-dd02-4467-8c4b-f6d22af20ad3",
   "metadata": {},
   "outputs": [
    {
     "data": {
      "text/plain": [
       "array([0.3       , 0.3       , 0.3       , 0.3       , 0.3       ,\n",
       "       0.3       , 0.3       , 0.3       , 0.3       , 0.3       ,\n",
       "       0.3       , 0.3       , 0.3       , 0.3       , 0.3       ,\n",
       "       0.3       , 0.3       , 0.3       , 0.3       , 0.3       ,\n",
       "       0.3       , 0.3       , 0.3       , 0.3       , 0.3       ,\n",
       "       0.3       , 0.3       , 0.3       , 0.3       , 0.3       ,\n",
       "       0.32195122, 0.34390244, 0.36585366, 0.38780488, 0.4097561 ,\n",
       "       0.43170732, 0.45365854, 0.47560976, 0.49756098, 0.5195122 ,\n",
       "       0.54146341, 0.56341463, 0.58536585, 0.60731707, 0.62926829,\n",
       "       0.65121951, 0.67317073, 0.69512195, 0.71707317, 0.73902439,\n",
       "       0.76097561, 0.78292683, 0.80487805, 0.82682927, 0.84878049,\n",
       "       0.87073171, 0.89268293, 0.91463415, 0.93658537, 0.95853659,\n",
       "       0.9804878 , 1.00243902, 1.02439024, 1.04634146, 1.06829268,\n",
       "       1.0902439 , 1.11219512, 1.13414634, 1.15609756, 1.17804878,\n",
       "       1.2       , 1.2       , 1.2       , 1.2       , 1.2       ,\n",
       "       1.2       , 1.2       , 1.2       , 1.2       , 1.2       ,\n",
       "       1.2       , 1.2       , 1.2       , 1.2       , 1.2       ,\n",
       "       1.2       , 1.2       , 1.2       , 1.2       , 1.2       ,\n",
       "       1.2       , 1.2       , 1.2       , 1.2       , 1.2       ,\n",
       "       1.2       , 1.2       , 1.2       , 1.2       , 1.2       ,\n",
       "       1.2       , 1.2       , 1.2       , 1.2       , 1.2       ,\n",
       "       1.2       , 1.2       , 1.2       , 1.2       , 1.2       ,\n",
       "       1.2       , 1.2       , 1.2       , 1.2       , 1.2       ,\n",
       "       1.2       , 1.2       , 1.2       , 1.2       , 1.2       ,\n",
       "       1.17677419, 1.15354839, 1.13032258, 1.10709677, 1.08387097,\n",
       "       1.06064516, 1.03741935, 1.01419355, 0.99096774, 0.96774194,\n",
       "       0.94451613, 0.92129032, 0.89806452, 0.87483871, 0.8516129 ,\n",
       "       0.8283871 , 0.80516129, 0.78193548, 0.75870968, 0.73548387,\n",
       "       0.71225806, 0.68903226, 0.66580645, 0.64258065, 0.61935484,\n",
       "       0.59612903, 0.57290323, 0.54967742, 0.52645161, 0.50322581,\n",
       "       0.48      ])"
      ]
     },
     "execution_count": 162,
     "metadata": {},
     "output_type": "execute_result"
    }
   ],
   "source": [
    "y"
   ]
  },
  {
   "cell_type": "code",
   "execution_count": 163,
   "id": "91ae0de5-9310-4047-bbb3-eed209b16202",
   "metadata": {},
   "outputs": [],
   "source": [
    "frameplotred = { 'Kc_Teoric': y, 'Kc_Predicted': pred, 'NDVI': red.reshape(151,)}\n",
    "\n",
    "plotred = pd.DataFrame(frameplotred)"
   ]
  },
  {
   "cell_type": "code",
   "execution_count": 164,
   "id": "da67029c-8e3d-4e8e-9645-468c3b63ef91",
   "metadata": {},
   "outputs": [
    {
     "data": {
      "text/plain": [
       "<AxesSubplot:>"
      ]
     },
     "execution_count": 164,
     "metadata": {},
     "output_type": "execute_result"
    },
    {
     "data": {
      "image/png": "[encoded data removed]",
      "text/plain": [
       "<Figure size 432x288 with 1 Axes>"
      ]
     },
     "metadata": {
      "needs_background": "light"
     },
     "output_type": "display_data"
    }
   ],
   "source": [
    "plotred.plot()"
   ]
  },
  {
   "cell_type": "code",
   "execution_count": 165,
   "id": "616b2ca2-c4cc-4621-adf2-c1af456f9347",
   "metadata": {},
   "outputs": [
    {
     "data": {
      "text/plain": [
       "Text(0.5, 0, 'Days')"
      ]
     },
     "execution_count": 165,
     "metadata": {},
     "output_type": "execute_result"
    },
    {
     "data": {
      "text/plain": [
       "<Figure size 432x288 with 0 Axes>"
      ]
     },
     "metadata": {},
     "output_type": "display_data"
    },
    {
     "data": {
      "image/png": "[encoded data removed]",
      "text/plain": [
       "<Figure size 432x288 with 2 Axes>"
      ]
     },
     "metadata": {
      "needs_background": "light"
     },
     "output_type": "display_data"
    }
   ],
   "source": [
    "plt.figure()\n",
    "ax = plotred.plot(secondary_y=[\"Kc_Teoric\",\"Kc_Predicted\"])\n",
    "ax.set_ylabel('NDVI')\n",
    "ax.right_ax.set_ylabel('Kc')\n",
    "ax.set_xlabel('Days')"
   ]
  },
  {
   "cell_type": "code",
   "execution_count": 166,
   "id": "d8ee8d7f-514d-49d9-99b9-6618a04a05c9",
   "metadata": {},
   "outputs": [],
   "source": [
    "#statsmodels"
   ]
  },
  {
   "cell_type": "code",
   "execution_count": 167,
   "id": "c0ad7027-07d8-49b5-b0d0-50ce6f9cdcf6",
   "metadata": {},
   "outputs": [
    {
     "name": "stdout",
     "output_type": "stream",
     "text": [
      "                            OLS Regression Results                            \n",
      "==============================================================================\n",
      "Dep. Variable:                      y   R-squared:                       0.968\n",
      "Model:                            OLS   Adj. R-squared:                  0.968\n",
      "Method:                 Least Squares   F-statistic:                     4487.\n",
      "Date:                Tue, 03 Jan 2023   Prob (F-statistic):          3.97e-113\n",
      "Time:                        13:21:11   Log-Likelihood:                 200.08\n",
      "No. Observations:                 151   AIC:                            -396.2\n",
      "Df Residuals:                     149   BIC:                            -390.1\n",
      "Df Model:                           1                                         \n",
      "Covariance Type:            nonrobust                                         \n",
      "==============================================================================\n",
      "                 coef    std err          t      P>|t|      [0.025      0.975]\n",
      "------------------------------------------------------------------------------\n",
      "const         -0.0292      0.014     -2.111      0.036      -0.056      -0.002\n",
      "x1             1.3940      0.021     66.983      0.000       1.353       1.435\n",
      "==============================================================================\n",
      "Omnibus:                       14.827   Durbin-Watson:                   0.011\n",
      "Prob(Omnibus):                  0.001   Jarque-Bera (JB):               15.919\n",
      "Skew:                          -0.757   Prob(JB):                     0.000349\n",
      "Kurtosis:                       2.512   Cond. No.                         5.51\n",
      "==============================================================================\n",
      "\n",
      "Notes:\n",
      "[1] Standard Errors assume that the covariance matrix of the errors is correctly specified.\n"
     ]
    }
   ],
   "source": [
    "import statsmodels.api as sm\n",
    "#performing the regression\n",
    "Xa = sm.add_constant(red)\n",
    "result = sm.OLS(y, Xa).fit()\n",
    "\n",
    "# Result of statsmodels \n",
    "print(result.summary())"
   ]
  },
  {
   "cell_type": "code",
   "execution_count": 168,
   "id": "eb5b0456-a861-42cf-892d-90f0bb77109c",
   "metadata": {},
   "outputs": [
    {
     "data": {
      "text/plain": [
       "-4.3306050430742863e-16"
      ]
     },
     "execution_count": 168,
     "metadata": {},
     "output_type": "execute_result"
    }
   ],
   "source": [
    "result.resid.mean()"
   ]
  },
  {
   "cell_type": "markdown",
   "id": "e2bbdbd9-a3e0-491c-836d-3824b2d26695",
   "metadata": {},
   "source": [
    "__Explain the Statistics__\n",
    "\n",
    "__Model : OLS : Ordinary Least Squares : One way to create a linear regression model. Minimize the dependent samples so you can estimate the unknown samples when creating a linear regression model.__\n",
    "\n",
    "__Method : Least Squares : Fit data to the model by minimizing the residual samples__\n",
    "\n",
    "__R-quared : Measure of how well the regression line approximates the data points. If .5 then that is a sign that half of the observed variation can be explained by the models inputs. 1 would be perfectly correlated.__\n",
    "\n",
    "__Adj, R-squared : Reflects the fit of the model. Values range from 0 to 1, where higher values indicate a good fit.__\n",
    "\n",
    "__F-statistic : Measures how significantly the data points fit into the regression model by measuring variation of sample means.__\n",
    "\n",
    "__Prob (F-statistic) : Probability that the null hypothesis for the full model is true. Closer to zero the better the samples approach the model.__\n",
    "\n",
    "__Log-Likelihood : The conditional probability that the observed data fits the model__\n",
    "\n",
    "__AIC : Adjusts the log-likelihood based on the number of observations and complexity of the model. It focuses on the data points that best describe the data.__\n",
    "\n",
    "__Df Residuals : Degrees of freedom of the residuals which is the difference between predicted values and the measured data.__\n",
    "\n",
    "__BIC : We want a low BIC. It focuses on the shortest description of the data like AIC.__\n",
    "\n",
    "__Df Model : Number of parameters in the model__\n",
    "\n",
    "__Coefficient Constant : Is your Y intercept. If both dependent and independent coefficients are zero then the expected output would equal the constant coefficient.__\n",
    "\n",
    "__Independent Coefficient : Represents the change of the independent variable per unit.__\n",
    "\n",
    "__Standard Error : Accuracy of the coefficients__\n",
    "\n",
    "__P>|t| : The P Value. A P Value less than .05 is considered statistically significant.__\n",
    "\n",
    "__[.025 - .975] : Confidence Interval : Represents the range in which coefficients are likely to fall.__\n",
    "\n",
    "__Omnibus : (D’Angostino’s test) : Establishes whether the samples come from a normally distributed population.__\n",
    "\n",
    "__Durbin-Watson : Test to see if the errors are not independent. Used to find repeating patterns that may be obstructed by noise. Its value lies between 0 and 4. If greater than 2 this is a sign that relationships between two variables are going in opposite directions (negatively correlated). If less than 2 variables are positively correlated.__\n",
    "\n",
    "__Prob(Omnibus) : Probability of Omnibus__\n",
    "\n",
    "__Jarque-Bera : Tests whether the samples match a normal distribution. It never has a negative number and the further it gets from zero signals the data doesn't have a normal distribution.__\n",
    "\n",
    "__Skew : Measure of the asymmetry of the probability distribution. Negative skew indicates the tail is longer on the left and the concentration of the data is on the right. Positive indicates the tail is longer on the right. 0 indicates that the tails are balanced.__\n",
    "\n",
    "__Prob(JB) : The probability of Jarque-Bera__\n",
    "\n",
    "__Kurtosis : Describes the shape of a probability distribution with a focus on the tails and not the peak. If the value is high that is a sign that there are more outliers. If the value is less than 3 that means there are fewer outliers. A value of 3 points towards a normal distribution. Values greater than 3 indicate more outliers.__\n",
    "\n",
    "__Condition Number : Represents whether samples are highly related in our regression model. A large number indicates strong multicollinearity which means that independent variables are highly correlated with each other. This causes problems because a small number of samples are so dramatically different from others that results are corrupted.__"
   ]
  },
  {
   "cell_type": "code",
   "execution_count": null,
   "id": "03b4fb66-c112-4dd7-a3e7-140594a001c5",
   "metadata": {},
   "outputs": [],
   "source": []
  },
  {
   "cell_type": "markdown",
   "id": "92ee9cf5-4df1-47d1-b331-207f723b8285",
   "metadata": {
    "tags": []
   },
   "source": [
    "# Linear-Mean Test (correcto)"
   ]
  },
  {
   "cell_type": "code",
   "execution_count": 169,
   "id": "35700708-5979-4fab-be83-384fc7ac8392",
   "metadata": {},
   "outputs": [],
   "source": [
    "pred2 = Reg.predict(np.array(cluster_centersteste[0]).reshape(-1,1))\n",
    "mse = mean_squared_error(y, pred2)\n",
    "r2 = r2_score(y, pred2)\n",
    "rmse=np.sqrt(mse)"
   ]
  },
  {
   "cell_type": "code",
   "execution_count": 170,
   "id": "63cbfbc2-1e7f-4a0f-ad36-a4f24e551a99",
   "metadata": {},
   "outputs": [
    {
     "data": {
      "text/plain": [
       "0.969490304522783"
      ]
     },
     "execution_count": 170,
     "metadata": {},
     "output_type": "execute_result"
    }
   ],
   "source": [
    "r2"
   ]
  },
  {
   "cell_type": "code",
   "execution_count": 171,
   "id": "1c59e976-94f4-48ef-bec8-26af0a5f3d4b",
   "metadata": {},
   "outputs": [
    {
     "data": {
      "text/plain": [
       "0.062658833428311"
      ]
     },
     "execution_count": 171,
     "metadata": {},
     "output_type": "execute_result"
    }
   ],
   "source": [
    "rmse"
   ]
  },
  {
   "cell_type": "code",
   "execution_count": 172,
   "id": "99765cca-e73d-44d5-b615-ec746d8e2485",
   "metadata": {},
   "outputs": [],
   "source": [
    "frameplotazulteste2 = { 'Kc_Teoric': y, 'Kc_Predicted': pred2, 'NDVI': cluster_centersteste[0]}\n",
    "plotazulteste2 = pd.DataFrame(frameplotazulteste2)"
   ]
  },
  {
   "cell_type": "code",
   "execution_count": 173,
   "id": "e0435157-0307-4ea7-91a3-dac43d72f748",
   "metadata": {},
   "outputs": [
    {
     "data": {
      "text/plain": [
       "<AxesSubplot:>"
      ]
     },
     "execution_count": 173,
     "metadata": {},
     "output_type": "execute_result"
    },
    {
     "data": {
      "image/png": "[encoded data removed]",
      "text/plain": [
       "<Figure size 432x288 with 1 Axes>"
      ]
     },
     "metadata": {
      "needs_background": "light"
     },
     "output_type": "display_data"
    }
   ],
   "source": [
    "plotazulteste2.plot()"
   ]
  },
  {
   "cell_type": "code",
   "execution_count": 174,
   "id": "8bfd9f6a-83f3-4b61-bdd5-c19be9e73cbb",
   "metadata": {},
   "outputs": [
    {
     "data": {
      "text/plain": [
       "Text(0.5, 0, 'Days')"
      ]
     },
     "execution_count": 174,
     "metadata": {},
     "output_type": "execute_result"
    },
    {
     "data": {
      "text/plain": [
       "<Figure size 432x288 with 0 Axes>"
      ]
     },
     "metadata": {},
     "output_type": "display_data"
    },
    {
     "data": {
      "image/png": "[encoded data removed]",
      "text/plain": [
       "<Figure size 432x288 with 2 Axes>"
      ]
     },
     "metadata": {
      "needs_background": "light"
     },
     "output_type": "display_data"
    }
   ],
   "source": [
    "plt.figure()\n",
    "ax = plotazulteste2.plot(secondary_y=[\"Kc_Teoric\",\"Kc_Predicted\"])\n",
    "ax.set_ylabel('NDVI')\n",
    "ax.right_ax.set_ylabel('Kc')\n",
    "ax.set_xlabel('Days')"
   ]
  },
  {
   "cell_type": "markdown",
   "id": "d7c6aa49-c52f-4230-bc09-a3b94ccd4d50",
   "metadata": {
    "tags": []
   },
   "source": [
    "## Polinomial"
   ]
  },
  {
   "cell_type": "code",
   "execution_count": 175,
   "id": "756d6de9-8595-4707-a9ca-797d157329f0",
   "metadata": {},
   "outputs": [],
   "source": [
    "X2=X.reshape(151,)"
   ]
  },
  {
   "cell_type": "code",
   "execution_count": 176,
   "id": "3b581931-6058-4888-8e5d-d070615ad5b8",
   "metadata": {},
   "outputs": [
    {
     "name": "stdout",
     "output_type": "stream",
     "text": [
      "0.9931110180080507\n"
     ]
    }
   ],
   "source": [
    "from sklearn.metrics import r2_score\n",
    "mymodel = np.poly1d(np.polyfit(red2, y, 5))\n",
    "\n",
    "print(r2_score(y, mymodel(red2)))"
   ]
  },
  {
   "cell_type": "code",
   "execution_count": 177,
   "id": "72804844-9dbf-4162-aeed-57c00f5f8cda",
   "metadata": {},
   "outputs": [
    {
     "name": "stdout",
     "output_type": "stream",
     "text": [
      "        5         4         3         2\n",
      "-84.85 x + 223.5 x - 221.1 x + 102.5 x - 21.17 x + 1.866\n"
     ]
    }
   ],
   "source": [
    "print(mymodel)"
   ]
  },
  {
   "cell_type": "code",
   "execution_count": 178,
   "id": "c8631277-6ab0-4718-a615-e33a29d85430",
   "metadata": {},
   "outputs": [
    {
     "name": "stdout",
     "output_type": "stream",
     "text": [
      "RMSE for Polynomial Regression=> 0.029774254297834167\n"
     ]
    }
   ],
   "source": [
    "from sklearn.metrics import mean_squared_error\n",
    "print('RMSE for Polynomial Regression=>',np.sqrt(mean_squared_error(y,mymodel(red2))))"
   ]
  },
  {
   "cell_type": "code",
   "execution_count": 179,
   "id": "08b193ef-cf49-4e8f-98bd-c675fa044811",
   "metadata": {},
   "outputs": [
    {
     "data": {
      "text/plain": [
       "0.9931110180080507"
      ]
     },
     "execution_count": 179,
     "metadata": {},
     "output_type": "execute_result"
    }
   ],
   "source": [
    "r2_score(y,mymodel(red2))"
   ]
  },
  {
   "cell_type": "code",
   "execution_count": 180,
   "id": "f484fc5c-8a62-4981-ab12-96d26db6193e",
   "metadata": {},
   "outputs": [
    {
     "name": "stdout",
     "output_type": "stream",
     "text": [
      "0.01952172869873934\n",
      "0.0008865062189920963\n",
      "0.13972017999823555\n"
     ]
    }
   ],
   "source": [
    "print(metrics.mean_absolute_error(y,mymodel(red2)))\n",
    "print(metrics.mean_squared_error(y,mymodel(red2)))\n",
    "print(np.sqrt(metrics.mean_absolute_error(y,mymodel(red2))))"
   ]
  },
  {
   "cell_type": "code",
   "execution_count": 181,
   "id": "7b6e048b-19b3-4d07-9f06-0f597bcd6a40",
   "metadata": {},
   "outputs": [],
   "source": [
    "frameplotred4 = { 'Kc_Teoric': y, 'Kc_Predicted': mymodel(red2), 'NDVI': red2.reshape(151,)}\n",
    "plotred4 = pd.DataFrame(frameplotred4)"
   ]
  },
  {
   "cell_type": "code",
   "execution_count": 182,
   "id": "25c74810-f248-420e-9d20-a0db7c895050",
   "metadata": {},
   "outputs": [
    {
     "data": {
      "text/plain": [
       "<AxesSubplot:>"
      ]
     },
     "execution_count": 182,
     "metadata": {},
     "output_type": "execute_result"
    },
    {
     "data": {
      "image/png": "[encoded data removed]",
      "text/plain": [
       "<Figure size 432x288 with 1 Axes>"
      ]
     },
     "metadata": {
      "needs_background": "light"
     },
     "output_type": "display_data"
    }
   ],
   "source": [
    "plotred4.plot()"
   ]
  },
  {
   "cell_type": "code",
   "execution_count": 183,
   "id": "5173cf14-45d2-4e3a-8f08-e043114dfd2b",
   "metadata": {},
   "outputs": [
    {
     "data": {
      "text/plain": [
       "Text(0.5, 0, 'Days')"
      ]
     },
     "execution_count": 183,
     "metadata": {},
     "output_type": "execute_result"
    },
    {
     "data": {
      "text/plain": [
       "<Figure size 432x288 with 0 Axes>"
      ]
     },
     "metadata": {},
     "output_type": "display_data"
    },
    {
     "data": {
      "image/png": "[encoded data removed]",
      "text/plain": [
       "<Figure size 432x288 with 2 Axes>"
      ]
     },
     "metadata": {
      "needs_background": "light"
     },
     "output_type": "display_data"
    }
   ],
   "source": [
    "plt.figure()\n",
    "ax = plotred4.plot(secondary_y=[\"Kc_Teoric\",\"Kc_Predicted\"])\n",
    "ax.set_ylabel('NDVI')\n",
    "ax.right_ax.set_ylabel('Kc')\n",
    "ax.set_xlabel('Days')"
   ]
  },
  {
   "cell_type": "code",
   "execution_count": null,
   "id": "d5f41942-e34f-44f2-9236-7c2191b591d9",
   "metadata": {},
   "outputs": [],
   "source": []
  },
  {
   "cell_type": "markdown",
   "id": "761c3871-cc02-49c1-88ea-6bbd62782400",
   "metadata": {},
   "source": [
    "# Polynomial-Mean Test (correcto)"
   ]
  },
  {
   "cell_type": "code",
   "execution_count": 184,
   "id": "a4d3ec1c-3dd1-4ed4-bdbc-0042c4aa4274",
   "metadata": {},
   "outputs": [],
   "source": [
    "pred2 = mymodel(cluster_centersteste[0])\n",
    "mse = mean_squared_error(y, pred2)\n",
    "r2 = r2_score(y, pred2)\n",
    "rmse=np.sqrt(mse)"
   ]
  },
  {
   "cell_type": "code",
   "execution_count": 185,
   "id": "53c745a2-1d5c-4152-ac3d-81c55b7f2289",
   "metadata": {},
   "outputs": [
    {
     "data": {
      "text/plain": [
       "0.9896140353974748"
      ]
     },
     "execution_count": 185,
     "metadata": {},
     "output_type": "execute_result"
    }
   ],
   "source": [
    "r2"
   ]
  },
  {
   "cell_type": "code",
   "execution_count": 186,
   "id": "e8258617-73e7-4ece-9103-c76d8656c9e6",
   "metadata": {},
   "outputs": [
    {
     "data": {
      "text/plain": [
       "0.03655836694120398"
      ]
     },
     "execution_count": 186,
     "metadata": {},
     "output_type": "execute_result"
    }
   ],
   "source": [
    "rmse"
   ]
  },
  {
   "cell_type": "code",
   "execution_count": 187,
   "id": "69db8414-8c14-40dc-a940-8a2364509c5f",
   "metadata": {},
   "outputs": [],
   "source": [
    "frameplotazulteste2 = { \"Kc_Theoretical\": y, 'Kc_Predicted': mymodel(cluster_centersteste[0]), 'NDVI': cluster_centersteste[0]}\n",
    "plotazulteste2 = pd.DataFrame(frameplotazulteste2)"
   ]
  },
  {
   "cell_type": "code",
   "execution_count": 188,
   "id": "cd6032fd-2425-48c4-b118-544d4c7424b1",
   "metadata": {},
   "outputs": [
    {
     "data": {
      "text/plain": [
       "<AxesSubplot:>"
      ]
     },
     "execution_count": 188,
     "metadata": {},
     "output_type": "execute_result"
    },
    {
     "data": {
      "image/png": "[encoded data removed]",
      "text/plain": [
       "<Figure size 432x288 with 1 Axes>"
      ]
     },
     "metadata": {
      "needs_background": "light"
     },
     "output_type": "display_data"
    }
   ],
   "source": [
    "plotazulteste2.plot()"
   ]
  },
  {
   "cell_type": "code",
   "execution_count": 189,
   "id": "802d15bb-e6e5-4754-8e23-0d3994f374c4",
   "metadata": {},
   "outputs": [
    {
     "data": {
      "text/plain": [
       "Text(0.5, 1.0, 'K-Means No Pre-Selection (Polynomial)')"
      ]
     },
     "execution_count": 189,
     "metadata": {},
     "output_type": "execute_result"
    },
    {
     "data": {
      "text/plain": [
       "<Figure size 432x288 with 0 Axes>"
      ]
     },
     "metadata": {},
     "output_type": "display_data"
    },
    {
     "data": {
      "image/png": "[encoded data removed]",
      "text/plain": [
       "<Figure size 432x288 with 2 Axes>"
      ]
     },
     "metadata": {
      "needs_background": "light"
     },
     "output_type": "display_data"
    }
   ],
   "source": [
    "plt.figure()\n",
    "ax = plotazulteste2.plot(secondary_y=[\"Kc_Theoretical\",\"Kc_Predicted\"])\n",
    "ax.set_ylabel('NDVI')\n",
    "ax.right_ax.set_ylabel('Kc')\n",
    "ax.set_xlabel('Days')\n",
    "ax.set_title(\"K-Means No Pre-Selection (Polynomial)\")"
   ]
  }
 ],
 "metadata": {
  "kernelspec": {
   "display_name": "Python 3 (ipykernel)",
   "language": "python",
   "name": "python3"
  },
  "language_info": {
   "codemirror_mode": {
    "name": "ipython",
    "version": 3
   },
   "file_extension": ".py",
   "mimetype": "text/x-python",
   "name": "python",
   "nbconvert_exporter": "python",
   "pygments_lexer": "ipython3",
   "version": "3.9.12"
  }
 },
 "nbformat": 4,
 "nbformat_minor": 5
}
